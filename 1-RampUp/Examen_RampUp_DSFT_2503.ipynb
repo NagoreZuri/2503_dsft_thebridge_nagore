{
 "cells": [
  {
   "cell_type": "markdown",
   "metadata": {},
   "source": [
    "# Test RAMP UP DS-FT Marzo 2025"
   ]
  },
  {
   "cell_type": "markdown",
   "metadata": {},
   "source": [
    "Antes de comenzar, cambia el nombre del archivo notebook poniéndole delante tu nombre y primer apellido:\n",
    "\n",
    "* nombre_apellido_test_pract_marzo_2025.ipynb"
   ]
  },
  {
   "cell_type": "code",
   "execution_count": 1,
   "metadata": {},
   "outputs": [],
   "source": [
    "# Escribe tu nombre y apellidos (apellido si solo tienes uno) en las variables:\n",
    "nombre = \"Nagore\"\n",
    "apellidos = \"Juarez Rodriguez\""
   ]
  },
  {
   "cell_type": "code",
   "execution_count": 2,
   "metadata": {},
   "outputs": [
    {
     "name": "stdout",
     "output_type": "stream",
     "text": [
      "Bienvenido Nagore Juarez Rodriguez. Mucha suerte!\n"
     ]
    }
   ],
   "source": [
    "# Solo ejecutar\n",
    "nombre_apellidos = nombre + ' ' + apellidos\n",
    "print(\"Bienvenido\", nombre_apellidos + '. Mucha suerte!')"
   ]
  },
  {
   "cell_type": "markdown",
   "metadata": {},
   "source": [
    "-----------------"
   ]
  },
  {
   "cell_type": "code",
   "execution_count": 3,
   "metadata": {},
   "outputs": [
    {
     "data": {
      "text/plain": [
       "'\\nCriterios de corrección:\\n\\nejecución (ausencia de errores y obtención de resultados)\\nestructura del código\\nuso correcto de variables\\nmanejo de tipo de variables\\nasignaciones\\noperaciones booleanas\\nmanejo lógico de flujos de control y bucles\\nuso de colecciones\\nuso de funciones\\n'"
      ]
     },
     "execution_count": 3,
     "metadata": {},
     "output_type": "execute_result"
    }
   ],
   "source": [
    "\"\"\"\n",
    "Criterios de corrección:\n",
    "\n",
    "ejecución (ausencia de errores y obtención de resultados)\n",
    "estructura del código\n",
    "uso correcto de variables\n",
    "manejo de tipo de variables\n",
    "asignaciones\n",
    "operaciones booleanas\n",
    "manejo lógico de flujos de control y bucles\n",
    "uso de colecciones\n",
    "uso de funciones\n",
    "\"\"\"\n",
    "\n",
    "# Ejemplo de como queremos ver el código para más de un intento:\n",
    "\n",
    "# intento 1\n",
    "#your code\n",
    "\n",
    "# intento 2\n",
    "#your code"
   ]
  },
  {
   "cell_type": "markdown",
   "metadata": {},
   "source": [
    "#### Notas y pruebas de apoyo para contestar las preguntas\n",
    "\n",
    "\n",
    "Cualquier código aunque no esté correcto nos dirá más de ti que no escribir nada. "
   ]
  },
  {
   "cell_type": "code",
   "execution_count": 4,
   "metadata": {},
   "outputs": [],
   "source": [
    "# No te olvides de documentar el código para dejar clara la lógica, sobre todo cuando no sale el resultado"
   ]
  },
  {
   "cell_type": "markdown",
   "metadata": {},
   "source": [
    "### Ejercicio 1\n",
    "En este ejercicio se va a crear una lista con los siguientes elementos. Primero, crearemos las variables que luego añadiremos a la lista. Las variables son las siguientes:\n",
    "\n",
    "1. Crea una variable llamada `edad` de tipo Integer que represente tu edad en años. \n",
    "2. Crea una variable llamada `poblacion` de tipo String , con tu población de nacimiento. \n",
    "3. Crea una variable llamada `altura` con el valor de tu altura en metros de tipo float.\n",
    "4. Crea una variable llamada `s_operativo` de tipo Boolean True si usas Windows y False si usas otro.\n",
    "5. Crea una variable llamada `nada` de tipo None cuyo valor sea None.\n",
    "6. Crea una variable llamada `lista_vacaciones` de tipo List que contenga 5 destinos de viaje a los que te gustaría ir. Cada elemento ha de ser de tipo String.\n",
    "7. Crea una variable llamada `tupla_isla` de tipo Tuple con tres objetos que te llevarías a una isla desierta.\n",
    "8. Crea una variable llamada `dict_pc` con dos keys y dos values. Una key es `marca`, teniendo como value la marca de tu pc de tipo String. Otra key es la `ram`, cuyo valor es es un entero del número de gigas de la ram de tu ordenador\n",
    "9. Añade todos estos elementos en una lista llamada `lista_examen` en el orden de aparición.\n",
    "10. Guarda en la variable `lon_lista_examen` la longitud de `lista_examen`."
   ]
  },
  {
   "cell_type": "code",
   "execution_count": 5,
   "metadata": {},
   "outputs": [
    {
     "name": "stdout",
     "output_type": "stream",
     "text": [
      "[31, 'Bilbao', 1.6, True, None, ['Canada', 'Estados Unidos', 'Azores', 'Noruega', 'Groenlandia'], ('Reloj', 'Mechero', 'Bengalas'), {'marca': 'dell', 'ram': 16}]\n"
     ]
    }
   ],
   "source": [
    "# Primero, creamos las variables \n",
    "edad = 31\n",
    "poblacion = \"Bilbao\"\n",
    "altura = 1.60\n",
    "s_operativo = True\n",
    "nada = None\n",
    "lista_vacaciones = [\"Canada\", \"Estados Unidos\", \"Azores\", \"Noruega\", \"Groenlandia\"]\n",
    "tupla_isla = (\"Reloj\", \"Mechero\", \"Bengalas\")\n",
    "dict_pc = {\"marca\": \"dell\", \"ram\": 16}\n",
    "\n",
    "\n",
    "#ahora unimos las variables en una sola lista \n",
    "lista_examen = [edad, poblacion, altura, s_operativo, nada, lista_vacaciones,  tupla_isla , dict_pc]\n",
    "\n",
    "#printeamos para verla bien \n",
    "print(lista_examen)"
   ]
  },
  {
   "cell_type": "code",
   "execution_count": 6,
   "metadata": {},
   "outputs": [
    {
     "data": {
      "text/plain": [
       "8"
      ]
     },
     "execution_count": 6,
     "metadata": {},
     "output_type": "execute_result"
    }
   ],
   "source": [
    "#nueva variable con la longitud de la lista_examen\n",
    "\n",
    "lon_lista_examen = len(lista_examen)\n",
    "lon_lista_examen"
   ]
  },
  {
   "cell_type": "markdown",
   "metadata": {},
   "source": [
    "### Ejercicio 2\n",
    "\n",
    "Escribe un programa que simule un libro de \"sigue tu propia aventura\". Solo se pide control de flujo y uso de print().\n",
    "\n",
    "El programa tiene dos variables:\n",
    "\n",
    "*puerta* --> es una variable de tipo entero\n",
    "\n",
    "*amuleto* --> es una variable booleana\n",
    "\n",
    "\n",
    "    · Si la puerta que eliges es la 1, imprime \"has perdido\"\n",
    "\n",
    "    · Si la puerta que eliges es la 2 y tienes el amuleto (verdadero), imprime \"has ganado\"\n",
    "\n",
    "    · En cualquier otro caso, imprime \"sigue jugando\"\n",
    "\n",
    "Haz este programa de dos formas: usando un AND y sin usar un AND\n",
    "\n",
    "Nota: no son necesarias funciones. Puedes declarar puerta y amuleto al principio de tu programa."
   ]
  },
  {
   "cell_type": "code",
   "execution_count": 7,
   "metadata": {},
   "outputs": [
    {
     "ename": "ValueError",
     "evalue": "invalid literal for int() with base 10: ''",
     "output_type": "error",
     "traceback": [
      "\u001b[31m---------------------------------------------------------------------------\u001b[39m",
      "\u001b[31mValueError\u001b[39m                                Traceback (most recent call last)",
      "\u001b[36mCell\u001b[39m\u001b[36m \u001b[39m\u001b[32mIn[7]\u001b[39m\u001b[32m, line 3\u001b[39m\n\u001b[32m      1\u001b[39m \u001b[38;5;66;03m#inicializamos puerta con un input para que el usuario eliga sobre las opciones disponibles \u001b[39;00m\n\u001b[32m      2\u001b[39m \u001b[38;5;66;03m# variable amuleto como booleano ya que es o lo tienes o no lo tienes\u001b[39;00m\n\u001b[32m----> \u001b[39m\u001b[32m3\u001b[39m puerta = \u001b[38;5;28;43mint\u001b[39;49m\u001b[43m(\u001b[49m\u001b[38;5;28;43minput\u001b[39;49m\u001b[43m(\u001b[49m\u001b[33;43m\"\u001b[39;49m\u001b[33;43mElige la puerta por la que quieres continuar. Escribe solamente 1 o 2: \u001b[39;49m\u001b[33;43m\"\u001b[39;49m\u001b[43m)\u001b[49m\u001b[43m)\u001b[49m\n\u001b[32m      4\u001b[39m amuleto = \u001b[38;5;28;01mTrue\u001b[39;00m\n\u001b[32m      6\u001b[39m \u001b[38;5;66;03m# prueba usando AND, intento 1\u001b[39;00m\n",
      "\u001b[31mValueError\u001b[39m: invalid literal for int() with base 10: ''"
     ]
    }
   ],
   "source": [
    "#inicializamos puerta con un input para que el usuario eliga sobre las opciones disponibles \n",
    "# variable amuleto como booleano ya que es o lo tienes o no lo tienes\n",
    "puerta = int(input(\"Elige la puerta por la que quieres continuar. Escribe solamente 1 o 2: \"))\n",
    "amuleto = True\n",
    "\n",
    "# prueba usando AND, intento 1\n",
    "if puerta == 1 and amuleto == False:\n",
    "    print(\"has perdido\")\n",
    "        \n",
    "elif puerta == 2 and amuleto == True:\n",
    "    print(\"has ganado\")\n",
    "else:\n",
    "    print(\"sigue jugando\")    \n",
    "\n",
    "    "
   ]
  },
  {
   "cell_type": "code",
   "execution_count": null,
   "metadata": {},
   "outputs": [
    {
     "name": "stdout",
     "output_type": "stream",
     "text": [
      "sigue jugando\n"
     ]
    }
   ],
   "source": [
    "#intento sin usar AND\n",
    "\n",
    "puerta = int(input(\"Elige la puerta por la que quieres continuar. Escribe solamente 1 o 2: \"))\n",
    "amuleto = False\n",
    "\n",
    "# prueba sin usar AND, intento 1. \n",
    "if puerta == 1:\n",
    "    if amuleto == False:\n",
    "        print(\"has perdido\")\n",
    "elif puerta == 2:\n",
    "    if amuleto == True:\n",
    "        print(\"has ganado\")\n",
    "else:\n",
    "    print(\"sigue jugando\")    \n"
   ]
  },
  {
   "cell_type": "markdown",
   "metadata": {},
   "source": [
    "### Ejercicio 3\n",
    "\n",
    "Escribe un programa que solicite al usuario un número entero positivo n y luego imprima un triángulo de asteriscos (*) de altura n. Por ejemplo, si el usuario ingresa 5, el programa debería imprimir:"
   ]
  },
  {
   "cell_type": "code",
   "execution_count": null,
   "metadata": {},
   "outputs": [
    {
     "name": "stdout",
     "output_type": "stream",
     "text": [
      "range(0, 5)\n",
      "5\n",
      "*\n",
      "\n"
     ]
    },
    {
     "ename": "TypeError",
     "evalue": "'int' object is not subscriptable",
     "output_type": "error",
     "traceback": [
      "\u001b[31m---------------------------------------------------------------------------\u001b[39m",
      "\u001b[31mTypeError\u001b[39m                                 Traceback (most recent call last)",
      "\u001b[36mCell\u001b[39m\u001b[36m \u001b[39m\u001b[32mIn[70]\u001b[39m\u001b[32m, line 16\u001b[39m\n\u001b[32m     14\u001b[39m     i = i + \u001b[32m1\u001b[39m\n\u001b[32m     15\u001b[39m \u001b[38;5;28;01melif\u001b[39;00m i > \u001b[32m0\u001b[39m:\n\u001b[32m---> \u001b[39m\u001b[32m16\u001b[39m     asterisco = \u001b[43mnumero\u001b[49m\u001b[43m[\u001b[49m\u001b[43mi\u001b[49m\u001b[43m]\u001b[49m.replace(i, \u001b[33m\"\u001b[39m\u001b[33m*\u001b[39m\u001b[33m\"\u001b[39m)\n\u001b[32m     17\u001b[39m     \u001b[38;5;28mprint\u001b[39m(asterisco)\n\u001b[32m     18\u001b[39m     i = i + \u001b[32m1\u001b[39m\n",
      "\u001b[31mTypeError\u001b[39m: 'int' object is not subscriptable"
     ]
    }
   ],
   "source": [
    "#primero se solicita un número. intento 1\n",
    "\n",
    "numero = int(input(\"Dame un número del 1 al 10:\"))\n",
    "\n",
    "print(range(numero))\n",
    "\n",
    "\n",
    "#luego con un bucle, podemos iterar por ese range e imprimir un asterisco por cada paso que dé \n",
    "for i in range(numero):\n",
    "    if i == 0:\n",
    "        print(numero)\n",
    "        asterisco = (\"*\\n\")\n",
    "        print(asterisco)\n",
    "        i = i + 1\n",
    "    elif i > 0:\n",
    "        asterisco = numero[i].replace(i, \"*\")\n",
    "        print(asterisco)\n",
    "        i = i + 1\n",
    "    elif i > numero:\n",
    "        break\n",
    "    \n",
    "    #intento de sustituir cadaun d"
   ]
  },
  {
   "cell_type": "code",
   "execution_count": null,
   "metadata": {},
   "outputs": [
    {
     "name": "stdout",
     "output_type": "stream",
     "text": [
      "5\n",
      "5\n",
      "*\n",
      "\n",
      "2\n",
      "3\n",
      "4\n"
     ]
    },
    {
     "ename": "IndexError",
     "evalue": "list index out of range",
     "output_type": "error",
     "traceback": [
      "\u001b[31m---------------------------------------------------------------------------\u001b[39m",
      "\u001b[31mIndexError\u001b[39m                                Traceback (most recent call last)",
      "\u001b[36mCell\u001b[39m\u001b[36m \u001b[39m\u001b[32mIn[71]\u001b[39m\u001b[32m, line 19\u001b[39m\n\u001b[32m     17\u001b[39m     i = i + \u001b[32m1\u001b[39m\n\u001b[32m     18\u001b[39m     \u001b[38;5;28;01mif\u001b[39;00m i + \u001b[32m1\u001b[39m:\n\u001b[32m---> \u001b[39m\u001b[32m19\u001b[39m         asterisco = \u001b[43mlist_numero\u001b[49m\u001b[43m[\u001b[49m\u001b[43mi\u001b[49m\u001b[43m]\u001b[49m\n\u001b[32m     20\u001b[39m         \u001b[38;5;28mprint\u001b[39m(asterisco)\n\u001b[32m     21\u001b[39m \u001b[38;5;28;01melif\u001b[39;00m i > numero:\n",
      "\u001b[31mIndexError\u001b[39m: list index out of range"
     ]
    }
   ],
   "source": [
    "#primero se solicita un número. intento 2\n",
    "\n",
    "numero = int(input(\"Dame un número del 1 al 10:\"))\n",
    "print(numero)\n",
    "\n",
    "#lotransformo en lista para pder iterar\n",
    "list_numero = list(range(numero))\n",
    "\n",
    "#luego con un bucle, podemos iterar por esa lista e imprimir un asterisco por cada paso que dé \n",
    "for i in list_numero:\n",
    "    if i == 0:\n",
    "        print(numero)\n",
    "        asterisco = (\"*\\n\")\n",
    "        print(asterisco)\n",
    "        i = i + 1\n",
    "    elif i > 0:\n",
    "        i = i + 1\n",
    "        if i + 1:\n",
    "            asterisco = list_numero(\"*\" + \"*\\n\")\n",
    "            print(asterisco)\n",
    "    elif i > numero:\n",
    "        break"
   ]
  },
  {
   "cell_type": "code",
   "execution_count": null,
   "metadata": {},
   "outputs": [],
   "source": [
    "'''\n",
    "\n",
    "*\n",
    "*  *  \n",
    "*  *  *  \n",
    "*  *  *  *\n",
    "*  *  *  *  *\n",
    "\n",
    "'''"
   ]
  },
  {
   "cell_type": "code",
   "execution_count": 13,
   "metadata": {},
   "outputs": [
    {
     "name": "stdout",
     "output_type": "stream",
     "text": [
      "8\n",
      "* \n",
      "* * \n",
      "* * * \n",
      "* * * * \n",
      "* * * * * \n",
      "* * * * * * \n",
      "* * * * * * * \n",
      "* * * * * * * * \n"
     ]
    }
   ],
   "source": [
    "#solucion de una cmpañera \n",
    "\n",
    "num = int(input(\"introduce un número de 1 al 10\"))\n",
    "n = num\n",
    "print(n)\n",
    "for i in range(n): #usamos un range\n",
    "    for j in range(i + 1): #recorre cadaa uno de los valores y le añade 1\n",
    "        print(\"*\", end=\" \")\n",
    "    print()"
   ]
  },
  {
   "cell_type": "markdown",
   "metadata": {},
   "source": [
    "### Ejercicio 4\n",
    "\n",
    "Crea un programa que pida una contraseña por teclado e indique si es correcta\n",
    "o incorrecta con un print(). La contraseña correcta es “python”. Si la contraseña era incorrecta la pide de nuevo hasta 3 veces como máximo. Si al tercer intento no se acierta, debe ponerse a None y poner en un print() que la cuenta se ha bloqueado. Si se consigue entrar, se muestra que es correcta en un print(). Debe haber como mínimo un **BUCLE WHILE**"
   ]
  },
  {
   "cell_type": "code",
   "execution_count": null,
   "metadata": {},
   "outputs": [
    {
     "name": "stdout",
     "output_type": "stream",
     "text": [
      "Contraseña incorrecta. Te quedan 2 intento(s)\n",
      "Contraseña incorrecta. Te quedan 1 intento(s)\n",
      "Contraseña incorrecta. Te quedan 0 intento(s)\n",
      "Contraseña Bloqueada. None\n"
     ]
    }
   ],
   "source": [
    "# defino la contraseña correcta y el input para el usuario\n",
    "#inicializo un conteo a 3 para ir restando intentos de contraseña \n",
    "contra_buena = \"python\"\n",
    "intentos = 3\n",
    "\n",
    "#El while mientras los intentos no estén definidos como None, o se acierte la contraseña, seguirá funcionando \n",
    "while intentos != None: \n",
    "    contraseña = input(\"Dime la contraseña\")\n",
    "    if contraseña == contra_buena:   \n",
    "        print(\"contraseña correcta\")\n",
    "        break\n",
    "    else:\n",
    "        intentos = intentos - 1\n",
    "        print(\"Contraseña incorrecta. Te quedan\", intentos, \"intento(s)\")\n",
    "    if intentos == 0:\n",
    "        intentos = None\n",
    "        print(\"Contraseña Bloqueada.\")\n",
    "        \n"
   ]
  },
  {
   "cell_type": "markdown",
   "metadata": {},
   "source": [
    "### Ejercicio 5\n",
    "Una empresa usa dos listas  para guardar la información de sus empleados. Una lista guarda el nombre del empleado y la otra guarda su salario. Escribe un programa que cree esas dos listas originalmente vacías y que a través de un menú pueda hacer lo siguiente:\n",
    "    \n",
    "Inserta 1 para añadir un nuevo empleado y su salario\n",
    "\n",
    "Inserta 2 para imprimir los nombres y salarios de todos los empleados\n",
    "\n",
    "Inserta 3 para mostrar el número de empleados\n",
    "\n",
    "Inserta 4 para imprimir los nombres de los empleados con sueldos superiores a 400000\n",
    "\n",
    "Inserta 5 para subir un 5% los sueldos por debajo de 10000\n",
    "\n",
    "Inserta 6 para mostrar el total de todos los salarios\n",
    "\n",
    "Inserta 7 para salir del programa"
   ]
  },
  {
   "cell_type": "code",
   "execution_count": 57,
   "metadata": {},
   "outputs": [],
   "source": [
    "#se inicializa las listas vacias\n",
    "empleados = []\n",
    "salarios = []\n"
   ]
  },
  {
   "cell_type": "code",
   "execution_count": 58,
   "metadata": {},
   "outputs": [],
   "source": [
    "#añadir empleado nuevo\n",
    "\n",
    "def añadir_empleado(nombre, salario):\n",
    "    empleados.append(nombre)\n",
    "    salarios.append(salario)\n",
    "    print(f\"El\\la nuev@ emplead@ es {nombre}, y su salario será {salario} € brutos\")"
   ]
  },
  {
   "cell_type": "code",
   "execution_count": 59,
   "metadata": {},
   "outputs": [
    {
     "name": "stdout",
     "output_type": "stream",
     "text": [
      "El\\la nuev@ emplead@ es Manuel Izaguirre, y su salario será 10000 € brutos\n"
     ]
    }
   ],
   "source": [
    "añadir_empleado(\"Manuel Izaguirre\", 10000)"
   ]
  },
  {
   "cell_type": "code",
   "execution_count": 60,
   "metadata": {},
   "outputs": [],
   "source": [
    "#visualizar los empleados y los salarios\n",
    "def visualizar():\n",
    "    print(empleados)\n",
    "    print(salarios)"
   ]
  },
  {
   "cell_type": "code",
   "execution_count": 61,
   "metadata": {},
   "outputs": [
    {
     "name": "stdout",
     "output_type": "stream",
     "text": [
      "['Manuel Izaguirre']\n",
      "[10000]\n"
     ]
    }
   ],
   "source": [
    "visualizar()"
   ]
  },
  {
   "cell_type": "code",
   "execution_count": 37,
   "metadata": {},
   "outputs": [],
   "source": [
    "#para ver la cantidad de empleados que tienen\n",
    "def numero_empleados():\n",
    "    print(len(empleados))"
   ]
  },
  {
   "cell_type": "code",
   "execution_count": null,
   "metadata": {},
   "outputs": [],
   "source": [
    "#imprimir solamente los empleados con sueldos superiores a 400000\n",
    "#podría transformar las dos listas en una bilbioteca donde la primera lista fueran als claves y la segunda los valores de las otras \n",
    "\n",
    "    \n",
    "    #no lo he conseguido, no sé si es posible pasar de lista directamente dato por dato a diccionario. Probaré con un for\n",
    "    \n",
    "    #or i in empleados:\n",
    "    #   dict_salar[clave] = empleados[i]\n",
    "     #  print(dict_salar[clave])"
   ]
  },
  {
   "cell_type": "code",
   "execution_count": 47,
   "metadata": {},
   "outputs": [],
   "source": [
    "#intento 20 000 paraconseguir que el nombre vaya ligado al salario en dos listas diferentes¡\n",
    "\n",
    "def empleados_sueldos_altos():\n",
    "    for clave, valor in empleados, salarios:\n",
    "        empleados1 = tuple(empleados)\n",
    "        salarios1 = tuple(salarios)\n",
    "        dict_empl_sal = {empleados1[clave]: salarios1[valor]}\n",
    "        print(dict_empl_sal)"
   ]
  },
  {
   "cell_type": "code",
   "execution_count": 62,
   "metadata": {},
   "outputs": [],
   "source": [
    "#otor intento para imprimir solamente los nombres de las personas que cobren por encima de 400000\n",
    "\n",
    "def empleados_sueldos_alt():\n",
    "    empleados_salarios = empleados.insert(1, salarios)\n",
    "    print(empleados_salarios)\n",
    "    return empleados_salarios"
   ]
  },
  {
   "cell_type": "code",
   "execution_count": 63,
   "metadata": {},
   "outputs": [
    {
     "name": "stdout",
     "output_type": "stream",
     "text": [
      "None\n"
     ]
    }
   ],
   "source": [
    "empleados_sueldos_alt()"
   ]
  },
  {
   "cell_type": "code",
   "execution_count": null,
   "metadata": {},
   "outputs": [],
   "source": [
    "#subir un 5% los sueldos por debajo de 10000\n",
    "\n"
   ]
  },
  {
   "cell_type": "code",
   "execution_count": 32,
   "metadata": {},
   "outputs": [],
   "source": [
    "#imprimir el total de los salarios\n",
    "\n",
    "def total_salarios():\n",
    "    print(sum(salarios))"
   ]
  },
  {
   "cell_type": "code",
   "execution_count": 33,
   "metadata": {},
   "outputs": [
    {
     "name": "stdout",
     "output_type": "stream",
     "text": [
      "750200\n"
     ]
    }
   ],
   "source": [
    "total_salarios()"
   ]
  },
  {
   "cell_type": "code",
   "execution_count": null,
   "metadata": {},
   "outputs": [],
   "source": []
  },
  {
   "cell_type": "code",
   "execution_count": null,
   "metadata": {},
   "outputs": [],
   "source": []
  },
  {
   "cell_type": "code",
   "execution_count": null,
   "metadata": {},
   "outputs": [],
   "source": []
  },
  {
   "cell_type": "markdown",
   "metadata": {},
   "source": [
    "\n",
    "### Ejercicio 6 (**EXTRA**)\n",
    "\n",
    "#### Crear un programa que calcule la cuota de una hipoteca\n",
    "\n",
    "Las cuotas hipotecarias se calculan utilizando la fórmula del interés francés. \n",
    "\n",
    "La fórmula del interés frances es la siguiente:\n",
    "\\begin{align*}\n",
    "C=V \\frac{(1+i)^n i}{(1+i)^n -1}\n",
    "\\end{align*}\n",
    "\n",
    "\n",
    "    C = cuota a pagar (mensual)\n",
    "    V = volumen del préstamo hipotecario\n",
    "    i = tipo de interés del período (mensual)\n",
    "    n = número de cuotas (mensuales)\n",
    "\n",
    "1. Crea un programa que solicite al usuario los datos de su hipoteca mediante input() los datos (volumen, interés **anual**, y plazo en **años**) y le devuelva la cuota **mensual** a pagar. No es necesario encapsularlo en funciones.\n",
    "\n",
    "2. Crea una función `calcular_hip` que realiza el cálculo y cuyos argumentos de entrada sean `volumen`, `interes_anual` y `años`, devolviendo la couta mensual(float). El argumento de `años` deberá de tener un valor por defecto de 30.\n",
    "3. Calcula la cuota y guárdala en la variable `res_cuota` si la cantidad de la hipoteca son 350000 euros, el interés anual es del 5% y la quiere pagar en 20 años a partir de la función `calcular_hip`.\n",
    "4. Crea una función `gasto_vivienda`, con dos argumentos de entrada `ingreso` y `lista_hip`. Esta lista tendrá los 3 valores de los argumentos de entrada de `calcular_hip`, siendo esta una función que deberá ser utilizada dentro de `gasto_vivienda`. Tiene que devolver el valor del porcentaje de gasto en la hipoteca respecto a los ingresos. (Entre 0 y 1, es decir 0.5 si es del 50%)\n",
    "5. Calcula el porcentaje de gasto en la hipoteca si el ingreso es de 1700 euros y guárdalo en la variable `res_porcentaje`.\n",
    "6. Documenta ambas funciones."
   ]
  },
  {
   "cell_type": "code",
   "execution_count": null,
   "metadata": {},
   "outputs": [],
   "source": []
  },
  {
   "cell_type": "code",
   "execution_count": null,
   "metadata": {},
   "outputs": [],
   "source": []
  },
  {
   "cell_type": "code",
   "execution_count": null,
   "metadata": {},
   "outputs": [],
   "source": []
  },
  {
   "cell_type": "code",
   "execution_count": null,
   "metadata": {},
   "outputs": [],
   "source": []
  },
  {
   "cell_type": "code",
   "execution_count": null,
   "metadata": {},
   "outputs": [],
   "source": []
  },
  {
   "attachments": {},
   "cell_type": "markdown",
   "metadata": {},
   "source": [
    "¡Has terminado!\n",
    "\n",
    "Adjunta este fichero en la tarea del CampusVirtual"
   ]
  }
 ],
 "metadata": {
  "kernelspec": {
   "display_name": "Python 3",
   "language": "python",
   "name": "python3"
  },
  "language_info": {
   "codemirror_mode": {
    "name": "ipython",
    "version": 3
   },
   "file_extension": ".py",
   "mimetype": "text/x-python",
   "name": "python",
   "nbconvert_exporter": "python",
   "pygments_lexer": "ipython3",
   "version": "3.11.9"
  },
  "orig_nbformat": 4,
  "vscode": {
   "interpreter": {
    "hash": "1e989a6a87260c027f3014f78a3a3d191394072689c96a40223c8499353d25ee"
   }
  }
 },
 "nbformat": 4,
 "nbformat_minor": 2
}
