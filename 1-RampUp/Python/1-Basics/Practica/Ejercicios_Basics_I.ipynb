{
 "cells": [
  {
   "cell_type": "markdown",
   "metadata": {},
   "source": [
    "![imagen](./img/ejercicios.png)"
   ]
  },
  {
   "cell_type": "markdown",
   "metadata": {},
   "source": [
    "# Ejercicios Python Basics I"
   ]
  },
  {
   "cell_type": "markdown",
   "metadata": {},
   "source": [
    "## Ejercicio 0\n",
    "Imprime por pantalla esta cita con el siguiente formato\n",
    "\n",
    "![imagen](./img/frase_Einstein.PNG)"
   ]
  },
  {
   "cell_type": "code",
   "execution_count": 1,
   "metadata": {},
   "outputs": [
    {
     "name": "stdout",
     "output_type": "stream",
     "text": [
      "¿Por qué esta magnífica tecnlogía científica,\n",
      "\tque ahorra trabajo y nos hace la vida más fácil, \n",
      "\t\tnos adopta tan poca felicidad? \n",
      "\t\t\t La respuesta es ésta, simplemente: porque aún no hemos aprendido a usarla con tino\n",
      "\"Albert Einstein\"\n"
     ]
    }
   ],
   "source": [
    "print(\"¿Por qué esta magnífica tecnlogía científica,\\n\\tque ahorra trabajo y nos hace la vida más fácil, \\n\\t\\tnos adopta tan poca felicidad? \\n\\t\\t\\t La respuesta es ésta, simplemente: porque aún no hemos aprendido a usarla con tino\")\n",
    "print('\"Albert Einstein\"')"
   ]
  },
  {
   "cell_type": "markdown",
   "metadata": {},
   "source": [
    "## Ejercicio 1\n",
    "1. Escribe el nombre de la calle de tu domicilio en una variable\n",
    "2. Escribe el numero de la calle en otra\n",
    "3. Ciudad en una tercera\n",
    "4. Codigo postal en la cuarta variable\n",
    "5. Imprime las 4 variables concatenadas por pantalla\n",
    "6. Crea una quinta variable que concatene todas ellas\n",
    "7. Imprímela por pantalla"
   ]
  },
  {
   "cell_type": "code",
   "execution_count": 24,
   "metadata": {},
   "outputs": [
    {
     "name": "stdout",
     "output_type": "stream",
     "text": [
      "C\\ Juan Ibargutxi nº 10, Basauri, 48970\n",
      "C\\ Juan Ibargutxi nº 10, Basauri, 48970\n"
     ]
    }
   ],
   "source": [
    "calle1 = \"C\\ Juan Ibargutxi \"\n",
    "numero1 = \"nº 10, \"\n",
    "ciudad1 = \"Basauri, \"\n",
    "c_p1 = \"48970\"\n",
    "print(calle1 + numero1 + ciudad1 + c_p1)\n",
    "\n",
    "direccion = (calle1 + numero1 + ciudad1 + c_p1)\n",
    "print (direccion)"
   ]
  },
  {
   "cell_type": "code",
   "execution_count": null,
   "metadata": {},
   "outputs": [],
   "source": []
  },
  {
   "cell_type": "code",
   "execution_count": null,
   "metadata": {},
   "outputs": [],
   "source": []
  },
  {
   "cell_type": "markdown",
   "metadata": {},
   "source": [
    "## Ejercicio 2\n",
    "Repite el ejercicio 1, pero pidiendo estos datos al usuario mediante un input(), imprimiendo a continuación la dirección completa"
   ]
  },
  {
   "cell_type": "code",
   "execution_count": 23,
   "metadata": {},
   "outputs": [
    {
     "name": "stdout",
     "output_type": "stream",
     "text": [
      "Vives en Basauri, El nombre de tu calle es C/ Juan ibargutxi , con el numero nº 10 y tu código postal es 48970\n"
     ]
    }
   ],
   "source": [
    "calle = input(\"El nombre de tu calle es: \")\n",
    "numero = input(\"El número de tu casa es: \")\n",
    "ciudad = input(\"La ciudad donde vives es: \")\n",
    "c_p = input(\"El código postal de tu ciudad es: \")\n",
    "\n",
    "print (f\"Vives en {ciudad}, El nombre de tu calle es {calle}, con el numero {numero} y tu código postal es {c_p}\")"
   ]
  },
  {
   "cell_type": "markdown",
   "metadata": {},
   "source": [
    "## Ejercicio 3\n",
    "¿Qué variables están mal escritas y por qué? Realiza primero tu hipótesis y luego ejecuta las variables para comprobarlo. En ese orden :)\n",
    "\n",
    "\n",
    "1. mi_variable = \"Economía\"\n",
    "2. otra_var = \"Ejercicio\n",
    "3. True = \"Ejercicio\"\n",
    "4. mi variab1e = \"Alpha\"\n",
    "5. import = 40\n",
    "6. 81mi_variable = \"Agua\"\n",
    "7. mi_variable10 = 6"
   ]
  },
  {
   "cell_type": "markdown",
   "metadata": {},
   "source": []
  },
  {
   "cell_type": "markdown",
   "metadata": {},
   "source": [
    "1. La primera variable está correcta, ya que no hay espacios en el nombre de la variable y aparece todo en minúsculas además de que el argumento está correctamente encomillado pero no se aceptan tildes.\n",
    "2. La primera parte está bien ya que cumple con las normas pero el argumento no está correctamente encomillado.\n",
    "3. Es correcta, pero hay que tener en cuenta que phyton tiene sensibilidad con las mayúsculas al nombrar variables\n",
    "4. No es correcto el nombramiento de la variable porque hay un espacientre mi y variab1e que no debería haber. \n",
    "5. el quinto es correcto tanto la variable como el argumento de tipo entero\n",
    "6. Noes correcto porque python no permite que una variable tenga números al inicio.\n",
    "7. Es correcto en los dos aspectos"
   ]
  },
  {
   "cell_type": "markdown",
   "metadata": {},
   "source": []
  },
  {
   "cell_type": "code",
   "execution_count": null,
   "metadata": {},
   "outputs": [],
   "source": []
  },
  {
   "cell_type": "code",
   "execution_count": null,
   "metadata": {},
   "outputs": [],
   "source": []
  },
  {
   "cell_type": "code",
   "execution_count": null,
   "metadata": {},
   "outputs": [],
   "source": []
  },
  {
   "cell_type": "code",
   "execution_count": null,
   "metadata": {},
   "outputs": [],
   "source": []
  },
  {
   "cell_type": "code",
   "execution_count": 28,
   "metadata": {},
   "outputs": [],
   "source": []
  },
  {
   "cell_type": "markdown",
   "metadata": {},
   "source": [
    "## Ejercicio 4\n",
    "Realiza un conversor de grados Celsius a Fahrenheit. El conversor tiene que recibir el input del usuario y devolver la conversión.\n",
    "\n",
    "La conversión de grados sigue la siguiente fórmula: F = C × (9 / 5) + 32 "
   ]
  },
  {
   "cell_type": "code",
   "execution_count": null,
   "metadata": {},
   "outputs": [
    {
     "name": "stdout",
     "output_type": "stream",
     "text": [
      "<class 'float'>\n",
      "84.02\n"
     ]
    }
   ],
   "source": [
    "\n",
    "conversor = float(input(\"Los grados a calcular son: \")) \n",
    "print(type(conversor))\n",
    "farenheit = ((conversor) * (9 / 5) + 32)\n",
    "print (farenheit)\n"
   ]
  },
  {
   "cell_type": "markdown",
   "metadata": {},
   "source": [
    "## Ejercicio 5\n",
    "Comenta  el Ejercicio 4. Pon un comentario multilinea y haz comentarios de cada linea de código"
   ]
  },
  {
   "cell_type": "code",
   "execution_count": 2,
   "metadata": {},
   "outputs": [
    {
     "name": "stdout",
     "output_type": "stream",
     "text": [
      "<class 'float'>\n",
      "68.0\n"
     ]
    }
   ],
   "source": [
    "# Creamos la variable conversor\n",
    "conversor = float(input(\"Los grados a calcular son: \")) #convertimos de str a float la variable para trabajar con ella\n",
    "print(type(conversor)) #Asi sabemos qué tipo es la variable conversor\n",
    "farenheit = ((conversor) * (9 / 5) + 32) #ejecutamos la operación para determinar el farenheit\n",
    "print (farenheit) #imprimimos resultado"
   ]
  },
  {
   "cell_type": "code",
   "execution_count": 39,
   "metadata": {},
   "outputs": [],
   "source": [
    "\n"
   ]
  },
  {
   "cell_type": "code",
   "execution_count": null,
   "metadata": {},
   "outputs": [],
   "source": []
  }
 ],
 "metadata": {
  "kernelspec": {
   "display_name": "Python 3",
   "language": "python",
   "name": "python3"
  },
  "language_info": {
   "codemirror_mode": {
    "name": "ipython",
    "version": 3
   },
   "file_extension": ".py",
   "mimetype": "text/x-python",
   "name": "python",
   "nbconvert_exporter": "python",
   "pygments_lexer": "ipython3",
   "version": "3.11.9"
  },
  "nbTranslate": {
   "displayLangs": [
    "*"
   ],
   "hotkey": "alt-t",
   "langInMainMenu": true,
   "sourceLang": "en",
   "targetLang": "fr",
   "useGoogleTranslate": true
  },
  "varInspector": {
   "cols": {
    "lenName": 16,
    "lenType": 16,
    "lenVar": 40
   },
   "kernels_config": {
    "python": {
     "delete_cmd_postfix": "",
     "delete_cmd_prefix": "del ",
     "library": "var_list.py",
     "varRefreshCmd": "print(var_dic_list())"
    },
    "r": {
     "delete_cmd_postfix": ") ",
     "delete_cmd_prefix": "rm(",
     "library": "var_list.r",
     "varRefreshCmd": "cat(var_dic_list()) "
    }
   },
   "types_to_exclude": [
    "module",
    "function",
    "builtin_function_or_method",
    "instance",
    "_Feature"
   ],
   "window_display": false
  }
 },
 "nbformat": 4,
 "nbformat_minor": 4
}
