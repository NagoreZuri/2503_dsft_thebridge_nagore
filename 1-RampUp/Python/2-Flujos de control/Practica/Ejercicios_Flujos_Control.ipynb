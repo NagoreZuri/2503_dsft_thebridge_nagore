{
 "cells": [
  {
   "cell_type": "markdown",
   "metadata": {},
   "source": [
    "![imagen](./img/ejercicios.png)"
   ]
  },
  {
   "cell_type": "markdown",
   "metadata": {},
   "source": [
    "# Ejercicios Flujos de control"
   ]
  },
  {
   "cell_type": "markdown",
   "metadata": {},
   "source": [
    "## Ejercicio 1\n",
    "Declara una variable numérica que será una hora cualquiera del día. Implementa la siguiente casuística:\n",
    "\n",
    "* Si es entre las 0 y las 8, print \"Durmiendo\"\n",
    "* Si es entre las 9 y las 18, print \"Trabajando\"\n",
    "* Si es entre las 19 y las 21, print \"Clase\"\n",
    "* Si es entre las 22 y las 24, print \"Descanso\"\n",
    "* En cualquier otro caso, print \"Transporte o error\""
   ]
  },
  {
   "cell_type": "code",
   "execution_count": 2,
   "metadata": {},
   "outputs": [
    {
     "name": "stdout",
     "output_type": "stream",
     "text": [
      "Trabajando\n"
     ]
    }
   ],
   "source": [
    "hora_dia = float(input(\"Introduce la hora del día:\"))\n",
    "\n",
    "round(hora_dia, 0)\n",
    "\n",
    "if hora_dia < 8:\n",
    "    print(\"Durmiendo\")\n",
    "elif hora_dia <= 18:\n",
    "    print(\"Trabajando\")\n",
    "    \n",
    "elif hora_dia <= 21:\n",
    "    print(\"Calse\")\n",
    "\n",
    "elif hora_dia <= 24:\n",
    "    print(\"Descanso\")\n",
    "\n",
    "else:\n",
    "    print(\"Transporte o error\")\n",
    "    "
   ]
  },
  {
   "cell_type": "code",
   "execution_count": null,
   "metadata": {},
   "outputs": [],
   "source": []
  },
  {
   "cell_type": "markdown",
   "metadata": {},
   "source": [
    "## Ejercicio 2\n",
    "En este ejercicio vamos a implementar un calculador de precios de casas muy sencillo. Tenemos las siguientes variables:\n",
    "\n",
    "> superficie\n",
    ">\n",
    "> distrito\n",
    "\n",
    "Implementa la siguiente casuística:\n",
    "\n",
    "1. Si el distrito es \"Moncloa\" o \"Centro\", y además la superficie es superior a 100 metros cuadrados, el precio de la casa es de 1000\n",
    "2. Si el distrito es \"Salamanca\", y además la superficie de la casa es al menos de 150 metros, el precio de la casa es de 1500\n",
    "3. Si el distrito no es \"Retiro\" y la superficie está entre 60 y 80 metros, el precio es de 600\n",
    "4. En cualquier otro caso, el precio será de 0"
   ]
  },
  {
   "cell_type": "code",
   "execution_count": 12,
   "metadata": {},
   "outputs": [
    {
     "name": "stdout",
     "output_type": "stream",
     "text": [
      "El precio de la casa es de 1500€\n",
      "El precio es 0\n"
     ]
    }
   ],
   "source": [
    "superficie = 150\n",
    "distrito = \"Salamanca\"\n",
    "\n",
    "#En caso de que el usuario escriba en mayúscula o minúscula todo, intento con lower qeu todo se quede de una manera,\n",
    "#pero no me funciona\n",
    "(distrito.lower())\n",
    "\n",
    "#tres condiciones para que se den los 3 precios\n",
    "if superficie > 100:\n",
    "    if distrito == \"Moncloa\":\n",
    "        print(\"El precio de la casa es de 1000€\")\n",
    "\n",
    "if superficie >= 150:\n",
    "    if distrito == \"Salamanca\":\n",
    "        print(\"El precio de la casa es de 1500€\")\n",
    "        \n",
    "if 60 <= superficie <= 80:\n",
    "    if distrito != \"retiro\":\n",
    "        print(\"El precio de la casa es de 600€\")    \n",
    "        \n",
    "else:\n",
    "    print(\"El precio es 0\")"
   ]
  },
  {
   "cell_type": "code",
   "execution_count": null,
   "metadata": {},
   "outputs": [],
   "source": [
    "\n"
   ]
  },
  {
   "cell_type": "markdown",
   "metadata": {},
   "source": [
    "## Ejercicio 3\n",
    "En este ejercicio vamos a realizar un programa muy parecido. Para este caso queremos que se cumplan las siguientes condiciones:\n",
    "\n",
    "1. Primero se compruebe si el distrito es \"Retiro\". Si es asá, que imprima \"Distrito Retiro\", y si no, \"Otro distrito\"\n",
    "2. Si el distrito es \"Retiro\", comprueba si la superficie es mayor de 100 metros cuadrados. En tal caso, que imprima un precio de 1000, y si no, de 500.\n",
    "\n",
    "Prueba a usar `ifs` anidados"
   ]
  },
  {
   "cell_type": "code",
   "execution_count": 4,
   "metadata": {},
   "outputs": [
    {
     "name": "stdout",
     "output_type": "stream",
     "text": [
      "Otro distrito\n"
     ]
    }
   ],
   "source": [
    "\n",
    "distrito = \"Salamanca\"\n",
    "superficie = 110\n",
    "\n",
    "\n",
    "if distrito == \"Retiro\":\n",
    "    print(\"Distrito Retiro\")\n",
    "    if superficie > 100:\n",
    "        print(\"El precio es 1000€\")\n",
    "    if superficie < 100:\n",
    "            print(\"El precio es 500€\")\n",
    "    \n",
    "        \n",
    "else:\n",
    "        print(\"Otro distrito\") \n",
    "    \n",
    "    \n"
   ]
  },
  {
   "cell_type": "code",
   "execution_count": null,
   "metadata": {},
   "outputs": [],
   "source": []
  },
  {
   "cell_type": "markdown",
   "metadata": {},
   "source": [
    "## Ejercicio 4\n",
    "Escribe un programa que tenga dos variables: un numero, y una lista numérica. El programa debe recorrer la lista e imprimir por pantalla cada elemento de la lista multiplicado por el número"
   ]
  },
  {
   "cell_type": "code",
   "execution_count": 5,
   "metadata": {},
   "outputs": [],
   "source": [
    "import time"
   ]
  },
  {
   "cell_type": "code",
   "execution_count": 6,
   "metadata": {},
   "outputs": [
    {
     "name": "stdout",
     "output_type": "stream",
     "text": [
      "50\n",
      "70\n",
      "20\n",
      "40\n",
      "30\n",
      "60\n",
      "Final bucle\n"
     ]
    }
   ],
   "source": [
    "var_num = 10\n",
    "var_lista =[5, 7, 2, 4, 3, 6]\n",
    "\n",
    "for i in var_lista:\n",
    "    i = i * var_num\n",
    "    print(i)\n",
    "    \n",
    "    time.sleep(2)\n",
    "(print(\"Final bucle\"))"
   ]
  },
  {
   "cell_type": "code",
   "execution_count": null,
   "metadata": {},
   "outputs": [],
   "source": [
    "\n"
   ]
  },
  {
   "cell_type": "code",
   "execution_count": null,
   "metadata": {},
   "outputs": [],
   "source": []
  },
  {
   "cell_type": "code",
   "execution_count": null,
   "metadata": {},
   "outputs": [],
   "source": []
  },
  {
   "cell_type": "code",
   "execution_count": null,
   "metadata": {},
   "outputs": [],
   "source": []
  },
  {
   "cell_type": "markdown",
   "metadata": {},
   "source": [
    "## Ejercicio 5\n",
    "Imprime por pantalla cada número del -10 al -1. En ese orden. Consulta [la documentación](https://www.w3schools.com/python/ref_func_range.asp) de `range`"
   ]
  },
  {
   "cell_type": "code",
   "execution_count": 7,
   "metadata": {},
   "outputs": [
    {
     "name": "stdout",
     "output_type": "stream",
     "text": [
      "-10\n",
      "-9\n",
      "-8\n",
      "-7\n",
      "-6\n",
      "-5\n",
      "-4\n",
      "-3\n",
      "-2\n",
      "-1\n"
     ]
    }
   ],
   "source": [
    "\n",
    "import time\n",
    "\n",
    "x = range(-10, 0, 1)\n",
    "\n",
    "for i in x:\n",
    "    print(i)\n",
    "    \n",
    "    time.sleep(1)\n"
   ]
  },
  {
   "cell_type": "code",
   "execution_count": 13,
   "metadata": {},
   "outputs": [
    {
     "data": {
      "text/plain": [
       "[-10, -9, -8, -7, -6, -5, -4, -3, -2, -1]"
      ]
     },
     "execution_count": 13,
     "metadata": {},
     "output_type": "execute_result"
    }
   ],
   "source": [
    "#Otra manera muy sencilla de hacerlo\n",
    "\n",
    "list(range(-10,0))"
   ]
  },
  {
   "cell_type": "code",
   "execution_count": null,
   "metadata": {},
   "outputs": [],
   "source": []
  },
  {
   "cell_type": "markdown",
   "metadata": {},
   "source": [
    "## Ejercicio 6\n",
    "Dada la siguiente lista:\n",
    "\n",
    "> list1 = [12, 15, 32, 42, 55, 75, 122, 132, 150, 180, 200]\n",
    "\n",
    "Implementa un programa que los recorra e imprima por pantalla todos los divisibles por 5. Si nos encontramos con alguno que sea mayor que 150, detener el bucle."
   ]
  },
  {
   "cell_type": "code",
   "execution_count": 8,
   "metadata": {},
   "outputs": [],
   "source": [
    "import math"
   ]
  },
  {
   "cell_type": "code",
   "execution_count": 9,
   "metadata": {},
   "outputs": [
    {
     "name": "stdout",
     "output_type": "stream",
     "text": [
      "15\n",
      "55\n",
      "75\n",
      "150\n",
      "final bucle\n"
     ]
    }
   ],
   "source": [
    "list1 = [12, 15, 32, 42, 55, 75, 122, 132, 150, 180, 200]\n",
    "\n",
    "\n",
    "for i in list1:\n",
    "    if (i % 5) == 0:\n",
    "        print(i)\n",
    "    if i >= 150:\n",
    "        print(\"final bucle\")\n",
    "        break\n",
    "    "
   ]
  },
  {
   "attachments": {},
   "cell_type": "markdown",
   "metadata": {},
   "source": [
    "## Ejercicio 7\n",
    "Escribe un programa en Python que imprima por pantalla todos los números que cumplan que sean divisibles por 5 y divisibles por 7, dentro del rango de valores (150, 350)."
   ]
  },
  {
   "cell_type": "code",
   "execution_count": 14,
   "metadata": {},
   "outputs": [
    {
     "name": "stdout",
     "output_type": "stream",
     "text": [
      "150 Es divisible por 5\n",
      "154 Es divisible por 7\n",
      "155 Es divisible por 5\n",
      "160 Es divisible por 5\n",
      "161 Es divisible por 7\n",
      "165 Es divisible por 5\n",
      "168 Es divisible por 7\n",
      "170 Es divisible por 5\n",
      "175 Es divisible por 5\n",
      "175 Es divisible por 7\n",
      "180 Es divisible por 5\n",
      "182 Es divisible por 7\n",
      "185 Es divisible por 5\n",
      "189 Es divisible por 7\n",
      "190 Es divisible por 5\n",
      "195 Es divisible por 5\n",
      "196 Es divisible por 7\n",
      "200 Es divisible por 5\n",
      "203 Es divisible por 7\n",
      "205 Es divisible por 5\n",
      "210 Es divisible por 5\n",
      "210 Es divisible por 7\n",
      "215 Es divisible por 5\n",
      "217 Es divisible por 7\n",
      "220 Es divisible por 5\n",
      "224 Es divisible por 7\n",
      "225 Es divisible por 5\n",
      "230 Es divisible por 5\n",
      "231 Es divisible por 7\n",
      "235 Es divisible por 5\n",
      "238 Es divisible por 7\n",
      "240 Es divisible por 5\n",
      "245 Es divisible por 5\n",
      "245 Es divisible por 7\n",
      "250 Es divisible por 5\n",
      "252 Es divisible por 7\n",
      "255 Es divisible por 5\n",
      "259 Es divisible por 7\n",
      "260 Es divisible por 5\n",
      "265 Es divisible por 5\n",
      "266 Es divisible por 7\n",
      "270 Es divisible por 5\n",
      "273 Es divisible por 7\n",
      "275 Es divisible por 5\n",
      "280 Es divisible por 5\n",
      "280 Es divisible por 7\n",
      "285 Es divisible por 5\n",
      "287 Es divisible por 7\n",
      "290 Es divisible por 5\n",
      "294 Es divisible por 7\n",
      "295 Es divisible por 5\n",
      "300 Es divisible por 5\n",
      "301 Es divisible por 7\n",
      "305 Es divisible por 5\n",
      "308 Es divisible por 7\n",
      "310 Es divisible por 5\n",
      "315 Es divisible por 5\n",
      "315 Es divisible por 7\n",
      "320 Es divisible por 5\n",
      "322 Es divisible por 7\n",
      "325 Es divisible por 5\n",
      "329 Es divisible por 7\n",
      "330 Es divisible por 5\n",
      "335 Es divisible por 5\n",
      "336 Es divisible por 7\n",
      "340 Es divisible por 5\n",
      "343 Es divisible por 7\n",
      "345 Es divisible por 5\n",
      "350 Es divisible por 5\n",
      "350 Es divisible por 7\n"
     ]
    }
   ],
   "source": [
    "import time\n",
    "\n",
    "val = range(149, 351, 1)\n",
    "\n",
    "\n",
    "for i in val:\n",
    "    if i % 5 == 0:\n",
    "        print(i, \"Es divisible por 5\")\n",
    "    if i % 7 == 0:\n",
    "        print(i, \"Es divisible por 7\")\n",
    "    \n"
   ]
  },
  {
   "cell_type": "markdown",
   "metadata": {},
   "source": [
    "## Ejercicio 8\n",
    "Implementa un programa que imprima por pantalla el siguiente patrón\n",
    "\n",
    "5 4 3 2 1 \n",
    "\n",
    "4 3 2 1 \n",
    "\n",
    "3 2 1 \n",
    "\n",
    "2 1 \n",
    "\n",
    "1\n",
    "\n",
    "NOTA: NO hay lineas en blanco entre una línea y otra."
   ]
  },
  {
   "cell_type": "code",
   "execution_count": 30,
   "metadata": {},
   "outputs": [],
   "source": [
    "lista_ = [6, 5, 4, 3, 2, 1]\n",
    "import time"
   ]
  },
  {
   "cell_type": "code",
   "execution_count": null,
   "metadata": {},
   "outputs": [
    {
     "name": "stdout",
     "output_type": "stream",
     "text": [
      "[5, 4, 3, 2, 1]\n",
      "[4, 3, 2, 1]\n",
      "[3, 2, 1]\n"
     ]
    }
   ],
   "source": [
    "#primer intento, pero no lo consigo porque se me queda quieto\n",
    "\n",
    "lista_ = [6, 5, 4, 3, 2, 1]\n",
    "\n",
    "for i in lista_:\n",
    "    lista_.pop(0)\n",
    "    print(lista_)\n",
    "    \n",
    "    time.sleep(1)\n",
    "    \n",
    "    if lista_ == [1]:\n",
    "        break"
   ]
  },
  {
   "cell_type": "code",
   "execution_count": null,
   "metadata": {},
   "outputs": [
    {
     "name": "stdout",
     "output_type": "stream",
     "text": [
      "range(0, 5)\n",
      "[5, 4, 3, 2, 1]\n",
      "5 4 3 2 1 range(0, 4)\n",
      "\n",
      "\n",
      "4 3 2 1 range(0, 3)\n",
      "\n",
      "\n",
      "3 2 1 range(0, 2)\n",
      "\n",
      "\n",
      "2 1 range(0, 1)\n",
      "\n",
      "\n",
      "1 range(0, 0)\n",
      "\n",
      "\n"
     ]
    }
   ],
   "source": [
    "#segundo intento con un bucle while\n",
    "\n",
    "numeros = [5, 4, 3, 2, 1]\n",
    "longitud = len(numeros) #variable con la longitud de la lista (el numero total de items) osea, 5\n",
    "#indice = 0   #inicializar un item desde 0 y cn e + 1, en el bucle irá sumando 1 cada vez. OPCIONAL EN ESTE CASO\n",
    "print(range(len(numeros))) #para ver el rango de items en variable numero. 0, 5. esto lo he puesto para verlo mejor. opcional\n",
    "print(numeros)\n",
    "\n",
    "while longitud > 0: #Mientras haya elementos en la lista, se ejecutará\n",
    "    for i in range(len(numeros)): #  usamos range para obtener e ITERAR sobre los índices de la lista\n",
    "        print(numeros [i], end=\" \") #imprimir el NUMERO correspondiente al índice. \n",
    "    numeros.pop(0) # eliminar el primer elemento de la lista\n",
    "    print(range(len(numeros))) # para ver como cambia el rango a partir de ir eliminando elementos. OPCIONAL\n",
    "    #indice = indice + 1   # no es necesario si usamos el parametro de len(numeros) > 0\n",
    "    print(\"\\n\")\n"
   ]
  },
  {
   "cell_type": "code",
   "execution_count": 21,
   "metadata": {},
   "outputs": [
    {
     "name": "stdout",
     "output_type": "stream",
     "text": [
      "5 4 3 2 1 \n",
      "\n",
      "4 3 2 1 \n",
      "\n",
      "3 2 1 \n",
      "\n",
      "2 1 \n",
      "\n",
      "1 \n",
      "\n"
     ]
    }
   ],
   "source": [
    "#ejemplo de clase para entenderlo\n",
    "\n",
    "for i in range(5, 0, -1):\n",
    "    for j in range(i, 0, -1):\n",
    "        print(j, end=\" \") #el END sirve para en cada print, los elementos no vayan a la siguiente linea, sino que se queden juntos\n",
    "    print(\"\\n\")"
   ]
  },
  {
   "cell_type": "markdown",
   "metadata": {},
   "source": [
    "## Ejercicio 9\n",
    "En este ejercicio vamos a crear un pequeño juego. Se trata de intentar adivinar un numero del 1 al 5. Tenemos dos intentos para acertar. Pasos a seguir:\n",
    "\n",
    "1. Ya viene implementado con la librería `random` cómo obtener un número aleatorio del 1 al 5\n",
    "2. Tendrás que declarar en una variable el numero de vidas, y mediante un bucle while, comprobar que todavia quedan vidas.\n",
    "3. Dentro del bucle, obtener el valor del usuario y comprobar si es ese el numero a adivinar. Si no, actualizar las vidas.\n",
    "4. Si acertamos, salimos del bucle e imprimimos por pantalla \"You win\". Y si perdemos también salimos del bucle, pero en este caso imprimimos por pantalla \"You lose\".\n",
    "\n",
    "TIP: te puede resultar útil usar la sentencia `else` cuando acabe el bucle `while`. Lo que haya dentro de ese `else` se ejecutará una vez acabe la ejecución del `while`. Lo podrás usar para cuando pierdas."
   ]
  },
  {
   "cell_type": "code",
   "execution_count": 23,
   "metadata": {},
   "outputs": [],
   "source": [
    "import random"
   ]
  },
  {
   "cell_type": "code",
   "execution_count": 24,
   "metadata": {},
   "outputs": [],
   "source": [
    "\n",
    "\n",
    "import time\n"
   ]
  },
  {
   "cell_type": "code",
   "execution_count": 25,
   "metadata": {},
   "outputs": [
    {
     "name": "stdout",
     "output_type": "stream",
     "text": [
      "Tienes 2 vidas\n",
      "El número random es: 3\n",
      "Te quedan 1 vida\n",
      "El número random es: 5\n",
      "Te quedan 0 vida\n",
      "You lose\n"
     ]
    }
   ],
   "source": [
    "#Saldrá un número rándom que se comparará con la variable numero_bueno. Si es igual, se gana el juego\n",
    "\n",
    "\n",
    "numero_bueno = 1 #se elige el numero ganador\n",
    "\n",
    "vidas = 2 #se aclaran las vidas que tendrá el juego\n",
    "\n",
    "numeros_lista = [1, 2, 3, 4, 5, 6, 7, 8, 9, 10] #se definen los números por los que podrá trasnitar el parámetro random.choice\n",
    "print(\"Tienes\", vidas , \"vidas\") #frase de inicio\n",
    "\n",
    "while vidas > 0:  #comienza el buble definiendo que mientras haya más de 0 vidas, el bucle continúa \n",
    "    numero_random = random.choice(numeros_lista) #de la library random, random.choice elegirá dentro de numeros_lista un número aleatoriamente\n",
    "    print(\"El número random es:\", numero_random) #se imprimirá el número elegido\n",
    "    time.sleep(1)\n",
    "    if numero_random == numero_bueno: #si el número random coincide con el ganador, se imprime ypu win y se para el bucle\n",
    "        print(\"You win\")\n",
    "        break\n",
    "    else: #si no es el mismo, se resta 1 a la variable vida para que vaya reduciendo la vida\n",
    "        vidas = vidas - 1\n",
    "        print(f\"Te quedan {vidas} vida\")\n",
    "    if vidas == 0 : #cuando llega a 0, se imprime you lose y se detiene el bucle\n",
    "        print(\"You lose\")\n",
    "        break\n",
    "    \n",
    "    "
   ]
  },
  {
   "cell_type": "code",
   "execution_count": null,
   "metadata": {},
   "outputs": [],
   "source": []
  },
  {
   "cell_type": "code",
   "execution_count": null,
   "metadata": {},
   "outputs": [],
   "source": []
  },
  {
   "cell_type": "code",
   "execution_count": 150,
   "metadata": {},
   "outputs": [],
   "source": []
  },
  {
   "cell_type": "code",
   "execution_count": null,
   "metadata": {},
   "outputs": [],
   "source": []
  },
  {
   "cell_type": "code",
   "execution_count": null,
   "metadata": {},
   "outputs": [],
   "source": []
  }
 ],
 "metadata": {
  "kernelspec": {
   "display_name": "Python 3",
   "language": "python",
   "name": "python3"
  },
  "language_info": {
   "codemirror_mode": {
    "name": "ipython",
    "version": 3
   },
   "file_extension": ".py",
   "mimetype": "text/x-python",
   "name": "python",
   "nbconvert_exporter": "python",
   "pygments_lexer": "ipython3",
   "version": "3.11.9"
  }
 },
 "nbformat": 4,
 "nbformat_minor": 4
}
