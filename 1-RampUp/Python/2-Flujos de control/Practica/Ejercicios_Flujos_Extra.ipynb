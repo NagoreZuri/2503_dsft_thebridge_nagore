{
 "cells": [
  {
   "cell_type": "markdown",
   "metadata": {},
   "source": [
    "![imagen](./img/ejercicios.png)"
   ]
  },
  {
   "cell_type": "markdown",
   "metadata": {},
   "source": [
    "# Ejercicios Flujos de control"
   ]
  },
  {
   "cell_type": "markdown",
   "metadata": {},
   "source": [
    "## Ejercicio Extra\n",
    "Programa una calculadora que\n",
    "\n",
    "* Pregunte qué operación quieres realizar (multiplicación/división/suma/resta/potencia/salir)\n",
    "* Pida dos números \n",
    "* Realice la operación\n",
    "* Siga funcionando hasta que el usuario elija salir\n",
    "\n",
    "#### Bonus:\n",
    "* Que guarde todas las operaciones realizadas y las imprima por pantalla cuando el usuario elija esa opción\n",
    "* Que sea robusta frente a entradas erróneas del usuario o frente a operaciones como dividir por 0"
   ]
  },
  {
   "cell_type": "code",
   "execution_count": 10,
   "metadata": {},
   "outputs": [],
   "source": [
    "import math\n",
    "import time\n",
    "import unicodedata"
   ]
  },
  {
   "cell_type": "code",
   "execution_count": null,
   "metadata": {},
   "outputs": [],
   "source": []
  },
  {
   "cell_type": "code",
   "execution_count": 2,
   "metadata": {},
   "outputs": [
    {
     "name": "stdout",
     "output_type": "stream",
     "text": [
      "multiplicacion\n",
      "El resultado es 25\n",
      "El resultado guardado {'multiplicacion': 25}\n",
      "division\n",
      "El resultado es 5.0\n",
      "El resultado guardado {'multiplicacion': 25, 'division': 5.0}\n",
      "resta\n",
      "El resultado es 1\n",
      "suma\n",
      "El resultado es 24\n",
      "El resultado guardado {'multiplicacion': 25, 'division': 5.0, 'resta': 1, 'suma': 24}\n",
      "\n"
     ]
    },
    {
     "ename": "ValueError",
     "evalue": "invalid literal for int() with base 10: ''",
     "output_type": "error",
     "traceback": [
      "\u001b[31m---------------------------------------------------------------------------\u001b[39m",
      "\u001b[31mValueError\u001b[39m                                Traceback (most recent call last)",
      "\u001b[36mCell\u001b[39m\u001b[36m \u001b[39m\u001b[32mIn[2]\u001b[39m\u001b[32m, line 11\u001b[39m\n\u001b[32m      8\u001b[39m     \u001b[38;5;28mprint\u001b[39m(\u001b[33m\"\u001b[39m\u001b[33mCalculadora finalizada\u001b[39m\u001b[33m\"\u001b[39m)\n\u001b[32m      9\u001b[39m     \u001b[38;5;28;01mbreak\u001b[39;00m  \u001b[38;5;66;03m# Sale del bucle\u001b[39;00m\n\u001b[32m---> \u001b[39m\u001b[32m11\u001b[39m numero_1 = \u001b[38;5;28;43mint\u001b[39;49m\u001b[43m(\u001b[49m\u001b[38;5;28;43minput\u001b[39;49m\u001b[43m(\u001b[49m\u001b[33;43m\"\u001b[39;49m\u001b[33;43mDime un numero\u001b[39;49m\u001b[33;43m\"\u001b[39;49m\u001b[43m)\u001b[49m\u001b[43m)\u001b[49m\n\u001b[32m     12\u001b[39m numero_2 = \u001b[38;5;28mint\u001b[39m(\u001b[38;5;28minput\u001b[39m(\u001b[33m\"\u001b[39m\u001b[33mDime otro numero\u001b[39m\u001b[33m\"\u001b[39m))\n\u001b[32m     13\u001b[39m \u001b[38;5;66;03m#try:   \u001b[39;00m\n",
      "\u001b[31mValueError\u001b[39m: invalid literal for int() with base 10: ''"
     ]
    }
   ],
   "source": [
    "dict_1 = {}\n",
    "while True:\n",
    "    operacion = input(\"Elige una de estas operaciones: salir, multiplicacion, division, suma, resta o potencia\")\n",
    "    print(operacion)\n",
    "\n",
    "        \n",
    "    if operacion == \"salir\":\n",
    "        print(\"Calculadora finalizada\")\n",
    "        break  # Sale del bucle\n",
    "      \n",
    "    numero_1 = int(input(\"Dime un numero\"))\n",
    "    numero_2 = int(input(\"Dime otro numero\"))\n",
    "    #try:   \n",
    "       \n",
    "    if operacion.lower() == \"multiplicacion\":\n",
    "        resultado = numero_1 * numero_2\n",
    "        print(\"El resultado es\", resultado)\n",
    "        dict_1[operacion] = resultado\n",
    "    elif operacion.lower() == \"division\":\n",
    "        resultado = numero_1 / numero_2\n",
    "        print(\"El resultado es\", resultado)\n",
    "        dict_1[operacion] = resultado\n",
    "    elif operacion.lower() == \"suma\":\n",
    "        resultado = numero_1 + numero_2\n",
    "        print(\"El resultado es\", resultado)\n",
    "        dict_1[operacion] = resultado\n",
    "    elif operacion.lower() == \"resta\":\n",
    "        resultado = numero_1 - numero_2\n",
    "        print(\"El resultado es\", resultado)\n",
    "        dict_1[operacion] = resultado\n",
    "    elif operacion.lower() == \"potencia\":\n",
    "        resultado = numero_1 ** numero_2\n",
    "        print(\"El resultado es\", resultado)\n",
    "        dict_1[operacion] = resultado\n",
    "    else:\n",
    "        print(\"Error\")\n",
    "\n",
    "        time.sleep(2)        \n",
    "    var_alm = input(\"¿Guardamos el resultado? Responde si o no:\")\n",
    "    if var_alm == \"si\":\n",
    "        print(\"El resultado guardado\", dict_1)\n",
    "    else:\n",
    "        continue\n",
    "    \n",
    "    #except ZeroDivisionError:\n",
    "        #print(\"Error: No se puede dividir entre 0. Intentalo de nuevo\") \n",
    "        #continue   \n",
    "\n",
    "            "
   ]
  },
  {
   "cell_type": "code",
   "execution_count": null,
   "metadata": {},
   "outputs": [],
   "source": []
  },
  {
   "cell_type": "code",
   "execution_count": null,
   "metadata": {},
   "outputs": [],
   "source": []
  }
 ],
 "metadata": {
  "kernelspec": {
   "display_name": "Python 3",
   "language": "python",
   "name": "python3"
  },
  "language_info": {
   "codemirror_mode": {
    "name": "ipython",
    "version": 3
   },
   "file_extension": ".py",
   "mimetype": "text/x-python",
   "name": "python",
   "nbconvert_exporter": "python",
   "pygments_lexer": "ipython3",
   "version": "3.11.9"
  }
 },
 "nbformat": 4,
 "nbformat_minor": 4
}
