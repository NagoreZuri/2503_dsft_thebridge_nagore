{
 "cells": [
  {
   "cell_type": "markdown",
   "metadata": {},
   "source": [
    "## Ejercicio Extra\n",
    "Programa el SW de una biblioteca:\n",
    "\n",
    "* Preguntar qué operación quieres realizar (visualizar todos los libros de la biblioteca/buscar libro/añadir libro/eliminar libro por título)\n",
    "    * En caso de que pida el usuario elija visualizar se visualizarán todos los libros **pprint usarlo**\n",
    "    * Buscar libro: búsqueda por título que introduce el usuario y se visualiza todos los campos del libro\n",
    "    * Añadir libro: se debe solicitar al usuario que introduzca título y autor para el nuevo libro y se añade el libro a la lista de libros. **por título**\n",
    "    * Eliminar libro: se solicita al usuario el título del libro y éste debe ser eliminado de la lista de libros **por titulo**\n",
    "    * Alquilar libro: se solicita al usuario el título del libro y se debe pasar el campo \"Alquilado\" a True\n",
    "    * Devolver libro: se solicita al usuario el título del libro y se debe pasar el campo \"Alquilado\" a False"
   ]
  },
  {
   "cell_type": "code",
   "execution_count": 20,
   "metadata": {},
   "outputs": [],
   "source": [
    "libros = [\n",
    "    {\"Titulo\": \"Python Data Science Handbook\", \"Autor\": \"Jake VanderPlas\", \"Alquilado\": False},\n",
    "    {\"Titulo\": \"Hands-On Machine Learning with Scikit-Learn, Keras, and TensorFlow\", \"Autor\": \"Aurélien Géron\", \"Alquilado\": True},\n",
    "    {\"Titulo\": \"Pattern Recognition and Machine Learning\", \"Autor\": \"Christopher M. Bishop\", \"Alquilado\": False},\n",
    "    {\"Titulo\": \"Deep Learning\", \"Autor\": \"Ian Goodfellow, Yoshua Bengio, Aaron Courville\", \"Alquilado\": True},\n",
    "    {\"Titulo\": \"The Elements of Statistical Learning\", \"Autor\": \"Trevor Hastie, Robert Tibshirani, Jerome Friedman\", \"Alquilado\": False},\n",
    "    {\"Titulo\": \"Data Science for Business\", \"Autor\": \"Foster Provost, Tom Fawcett\", \"Alquilado\": False},\n",
    "    {\"Titulo\": \"Bayesian Data Analysis\", \"Autor\": \"Andrew Gelman et al.\", \"Alquilado\": True},\n",
    "    {\"Titulo\": \"Introduction to the Theory of Computation\", \"Autor\": \"Michael Sipser\", \"Alquilado\": False},\n",
    "    {\"Titulo\": \"Artificial Intelligence: A Modern Approach\", \"Autor\": \"Stuart Russell, Peter Norvig\", \"Alquilado\": True},\n",
    "    {\"Titulo\": \"Computer Vision: Algorithms and Applications\", \"Autor\": \"Richard Szeliski\", \"Alquilado\": False},\n",
    "    {\"Titulo\": \"Data Science from Scratch\", \"Autor\": \"Joel Grus\", \"Alquilado\": True},\n",
    "    {\"Titulo\": \"The Art of Statistics\", \"Autor\": \"David Spiegelhalter\", \"Alquilado\": False},\n",
    "    {\"Titulo\": \"Python Machine Learning\", \"Autor\": \"Sebastian Raschka, Vahid Mirjalili\", \"Alquilado\": True},\n",
    "    {\"Titulo\": \"An Introduction to Statistical Learning\", \"Autor\": \"Gareth James, Daniela Witten, Trevor Hastie, Robert Tibshirani\", \"Alquilado\": False},\n",
    "    {\"Titulo\": \"Fundamentals of Data Engineering\", \"Autor\": \"Joe Reis, Matt Housley\", \"Alquilado\": False},\n",
    "    {\"Titulo\": \"Storytelling with Data\", \"Autor\": \"Cole Nussbaumer Knaflic\", \"Alquilado\": True},\n",
    "    {\"Titulo\": \"Building Machine Learning Powered Applications\", \"Autor\": \"Emmanuel Ameisen\", \"Alquilado\": False},\n",
    "    {\"Titulo\": \"Practical Statistics for Data Scientists\", \"Autor\": \"Peter Bruce, Andrew Bruce\", \"Alquilado\": True},\n",
    "    {\"Titulo\": \"SQL for Data Scientists\", \"Autor\": \"Renee M. P. Teate\", \"Alquilado\": False},\n",
    "    {\"Titulo\": \"Data Engineering on Azure\", \"Autor\": \"Vlad Riscutia\", \"Alquilado\": True}\n",
    "]"
   ]
  },
  {
   "cell_type": "code",
   "execution_count": 21,
   "metadata": {},
   "outputs": [],
   "source": [
    "import pprint"
   ]
  },
  {
   "cell_type": "code",
   "execution_count": 22,
   "metadata": {},
   "outputs": [],
   "source": [
    "# primera función de VISUALIZAR CATÁLOGO DE LIBROS\n",
    "def imprimir_libros(libros):\n",
    "        pprint.pprint(libros)\n"
   ]
  },
  {
   "cell_type": "code",
   "execution_count": 23,
   "metadata": {},
   "outputs": [],
   "source": [
    "#buscar libro por título\n",
    "\n",
    "def buscar_libro(libros):\n",
    "    titulo_buscar = input(\"Introduce el título del libro:\")\n",
    "    #print(titulo)\n",
    "    for libro in libros:\n",
    "        titulo = libro['Titulo']\n",
    "        #print(titulo)\n",
    "        if titulo == titulo_buscar:\n",
    "            print(\"Libro encontrado\")\n",
    "            print(titulo)\n",
    "            break\n",
    "        # else:\n",
    "            otra_busqueda = input(\"Libro no encontrado. ¿Quieres probar con otro titulo? Responde si o no\")\n",
    "            if otra_busqueda == \"si\":\n",
    "                buscar_libro(libros)\n",
    "            else:\n",
    "                break"
   ]
  },
  {
   "cell_type": "code",
   "execution_count": 24,
   "metadata": {},
   "outputs": [],
   "source": [
    "# Añadir libro: solicitar el título y autor y añadirlo a la lista\n",
    "\n",
    "def meter_libro(libros):\n",
    "    titulo = input(\"Introduce el titulo del libro:\").lower()\n",
    "    autor = input(\"Introduce el nombre del autor\")\n",
    "    libros.append({\"Titulo\": titulo, \"Autor\": autor, \"Alquilado\": False})\n",
    "    libro_nuevo = titulo + \" de \" + autor\n",
    "    print(\"El nuevo libro añadido es:\", libro_nuevo)\n",
    "    return\n"
   ]
  },
  {
   "cell_type": "code",
   "execution_count": 25,
   "metadata": {},
   "outputs": [],
   "source": [
    "#Eliminar un libro: slicitando el título Solamente\n",
    "\n",
    "def eliminar_libro(libros):\n",
    "    titulo = input(\"Introduce el titulo del libro:\").lower()\n",
    "    for libro in libros:\n",
    "        libro_lower = str(libro[\"Titulo\"])\n",
    "        if libro_lower.lower() == titulo: #con esto accedemos a la clave titulo y comparamos cn el titulo que pone el usuario\n",
    "            libros.remove(libro) #eliminamos el libro completo\n",
    "    print(\"El libro eliminado es\", titulo)\n",
    "    return\n",
    "    pprint.pprint(libros)\n",
    "    "
   ]
  },
  {
   "cell_type": "code",
   "execution_count": 26,
   "metadata": {},
   "outputs": [],
   "source": [
    "# Alquilar libro solicitando título\n",
    "\n",
    "def alquilar_libro(libros):\n",
    "    titulo = input(\"Introduce el titulo el libro que quieres alquilar\").lower()\n",
    "    for libro in libros:\n",
    "        if libro[\"Alquilado\"] == False:\n",
    "            libro[\"Alquilado\"] = True\n",
    "            print(\"Perfecto, ya está alquilado\")\n",
    "            break\n",
    "        else:\n",
    "            otro_titulo = input(\"Este libro ya está alquilado. ¿Quieres probar con otro? responde si o no\")\n",
    "            if otro_titulo == \"si\":\n",
    "                alquilar_libro(libros)\n",
    "            else:\n",
    "                break"
   ]
  },
  {
   "cell_type": "code",
   "execution_count": 27,
   "metadata": {},
   "outputs": [],
   "source": [
    "#devlver un libro \n",
    "\n",
    "def devolver_libro(libros):\n",
    "    titulo = input(\"Introduce el titulo el libro que quieres devolver\").title()\n",
    "    for libro in libros:\n",
    "        if libro[\"Alquilado\"] == True:\n",
    "            libro[\"Alquilado\"] = False\n",
    "            print(\"Perfecto, ya está devuelto\")\n",
    "            break\n",
    "        else:\n",
    "            otro_titulo = input(\"Este libro ya está devuelto. ¿Quieres probar con otro? responde si o no\")\n",
    "            if otro_titulo == \"si\":\n",
    "                devolver_libro(libros)\n",
    "            else:\n",
    "                break"
   ]
  },
  {
   "cell_type": "code",
   "execution_count": 28,
   "metadata": {},
   "outputs": [
    {
     "name": "stdout",
     "output_type": "stream",
     "text": [
      "Libro encontrado\n",
      "SQL for Data Scientists\n"
     ]
    }
   ],
   "source": [
    "# ejemplo para UN MENU DEL PROFESOR\n",
    "\n",
    "\n",
    "while True:\n",
    "    opcion = input(\"Elige una opción: Visualizar/Buscar/Añadir/Eliminar/Alquilar/Devolver/Salir\").lower()\n",
    "    match opcion:\n",
    "        case \"visualizar\":\n",
    "            imprimir_libros(libros)\n",
    "        case \"buscar\":\n",
    "            buscar_libro(libros)\n",
    "        case \"añadir\":\n",
    "            meter_libro(libros)\n",
    "        case \"eliminar\":\n",
    "            eliminar_libro(libros)\n",
    "        case \"alquilar\":\n",
    "            alquilar_libro(libros)\n",
    "        case \"devolver\":\n",
    "            devolver_libro(libros)\n",
    "        case \"salir\":\n",
    "            break"
   ]
  },
  {
   "cell_type": "code",
   "execution_count": null,
   "metadata": {},
   "outputs": [],
   "source": []
  },
  {
   "cell_type": "code",
   "execution_count": null,
   "metadata": {},
   "outputs": [],
   "source": []
  }
 ],
 "metadata": {
  "kernelspec": {
   "display_name": "Python 3",
   "language": "python",
   "name": "python3"
  },
  "language_info": {
   "codemirror_mode": {
    "name": "ipython",
    "version": 3
   },
   "file_extension": ".py",
   "mimetype": "text/x-python",
   "name": "python",
   "nbconvert_exporter": "python",
   "pygments_lexer": "ipython3",
   "version": "3.11.9"
  }
 },
 "nbformat": 4,
 "nbformat_minor": 2
}
