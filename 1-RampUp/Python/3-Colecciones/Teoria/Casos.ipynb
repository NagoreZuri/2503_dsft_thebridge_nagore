{
 "cells": [
  {
   "cell_type": "code",
   "execution_count": 2,
   "metadata": {},
   "outputs": [
    {
     "data": {
      "text/plain": [
       "[' ', ' ', ' ', ' ', ' ', ' ', ' ', ' ', ' ', ' ']"
      ]
     },
     "execution_count": 2,
     "metadata": {},
     "output_type": "execute_result"
    }
   ],
   "source": [
    "linea = []\n",
    "for i in range(10):\n",
    "    linea.append(\" \")\n",
    "linea"
   ]
  },
  {
   "cell_type": "code",
   "execution_count": 3,
   "metadata": {},
   "outputs": [
    {
     "data": {
      "text/plain": [
       "[[' ', ' ', ' ', ' ', ' ', ' ', ' ', ' ', ' ', ' '],\n",
       " [' ', ' ', ' ', ' ', ' ', ' ', ' ', ' ', ' ', ' '],\n",
       " [' ', ' ', ' ', ' ', ' ', ' ', ' ', ' ', ' ', ' '],\n",
       " [' ', ' ', ' ', ' ', ' ', ' ', ' ', ' ', ' ', ' '],\n",
       " [' ', ' ', ' ', ' ', ' ', ' ', ' ', ' ', ' ', ' '],\n",
       " [' ', ' ', ' ', ' ', ' ', ' ', ' ', ' ', ' ', ' '],\n",
       " [' ', ' ', ' ', ' ', ' ', ' ', ' ', ' ', ' ', ' '],\n",
       " [' ', ' ', ' ', ' ', ' ', ' ', ' ', ' ', ' ', ' '],\n",
       " [' ', ' ', ' ', ' ', ' ', ' ', ' ', ' ', ' ', ' '],\n",
       " [' ', ' ', ' ', ' ', ' ', ' ', ' ', ' ', ' ', ' ']]"
      ]
     },
     "execution_count": 3,
     "metadata": {},
     "output_type": "execute_result"
    }
   ],
   "source": [
    "\n",
    "tablero = []\n",
    "for i in range(10):\n",
    "    linea = []\n",
    "    for i in range(10):\n",
    "        linea.append(\" \")\n",
    "    tablero.append(linea)\n",
    "\n",
    "tablero"
   ]
  },
  {
   "cell_type": "code",
   "execution_count": null,
   "metadata": {},
   "outputs": [
    {
     "name": "stdout",
     "output_type": "stream",
     "text": [
      "El laptop 0 cumple las condiciones que busco\n",
      "El laptop 3 cumple las condiciones que busco\n"
     ]
    }
   ],
   "source": [
    "laptop_1 = {\"RAM\": 16,\n",
    "            \"CPU\": \"i3\",\n",
    "            \"Disco\":500,\n",
    "            \"Precio\":750}\n",
    "\n",
    "laptop_2 = {\"RAM\": 36,\n",
    "            \"CPU\": \"i7\",\n",
    "            \"Disco\":700,\n",
    "            \"Precio\":100}\n",
    "\n",
    "laptop_3 = {\"RAM\": 36,\n",
    "            \"CPU\": \"i7\",\n",
    "            \"Disco\":700,\n",
    "            \"Precio\":100}\n",
    "\n",
    "laptop_4 = {\"RAM\": 32,\n",
    "            \"CPU\": \"i3\",\n",
    "            \"Disco\":500,\n",
    "            \"Precio\":799}\n",
    "\n",
    "lista_laptops = [laptop_1,laptop_2,laptop_3,laptop_4]\n",
    "\n",
    "for indice,laptop in enumerate(lista_laptops):\n",
    "    ram = laptop[\"RAM\"]\n",
    "    cpu = laptop[\"CPU\"]\n",
    "    disco = laptop[\"Disco\"]\n",
    "    precio = laptop[\"Precio\"]\n",
    "    cond = (ram == 16 or ram == 32 or ram == 64) and (cpu == \"i3\" and disco == 500) and (precio <=800)\n",
    "    if cond:\n",
    "        print(\"El laptop\",indice,\"cumple las condiciones que busco\")"
   ]
  },
  {
   "cell_type": "code",
   "execution_count": 1,
   "metadata": {},
   "outputs": [
    {
     "name": "stdout",
     "output_type": "stream",
     "text": [
      "[{'Nombre': 'Ane', 'Nota': 8.5, 'Trabajo': True},\n",
      " {'Nombre': 'Unai', 'Nota': 6.2, 'Trabajo': False},\n",
      " {'Nombre': 'Irati', 'Nota': 9.1, 'Trabajo': True},\n",
      " {'Nombre': 'Iker', 'Nota': 5.8, 'Trabajo': False},\n",
      " {'Nombre': 'Maialen', 'Nota': 7.4, 'Trabajo': True},\n",
      " {'Nombre': 'Eneko', 'Nota': 4.9, 'Trabajo': False},\n",
      " {'Nombre': 'Nahia', 'Nota': 9.7, 'Trabajo': True},\n",
      " {'Nombre': 'Ander', 'Nota': 3.5, 'Trabajo': False},\n",
      " {'Nombre': 'Leire', 'Nota': 7.9, 'Trabajo': True},\n",
      " {'Nombre': 'Jon', 'Nota': 6.0, 'Trabajo': False}]\n"
     ]
    }
   ],
   "source": [
    "alumnos = [\n",
    "    {\"Nombre\": \"Ane\", \"Nota\": 8.5, \"Trabajo\": True},\n",
    "    {\"Nombre\": \"Unai\", \"Nota\": 6.2, \"Trabajo\": False},\n",
    "    {\"Nombre\": \"Irati\", \"Nota\": 9.1, \"Trabajo\": True},\n",
    "    {\"Nombre\": \"Iker\", \"Nota\": 5.8, \"Trabajo\": False},\n",
    "    {\"Nombre\": \"Maialen\", \"Nota\": 7.4, \"Trabajo\": True},\n",
    "    {\"Nombre\": \"Eneko\", \"Nota\": 4.9, \"Trabajo\": False},\n",
    "    {\"Nombre\": \"Nahia\", \"Nota\": 9.7, \"Trabajo\": True},\n",
    "    {\"Nombre\": \"Ander\", \"Nota\": 3.5, \"Trabajo\": False},\n",
    "    {\"Nombre\": \"Leire\", \"Nota\": 7.9, \"Trabajo\": True},\n",
    "    {\"Nombre\": \"Jon\", \"Nota\": 6.0, \"Trabajo\": False},\n",
    "]\n",
    "\n",
    "import pprint\n",
    "pprint.pprint(alumnos)"
   ]
  },
  {
   "cell_type": "code",
   "execution_count": 4,
   "metadata": {},
   "outputs": [
    {
     "name": "stdout",
     "output_type": "stream",
     "text": [
      "<class 'dict'>\n",
      "<class 'dict'>\n",
      "<class 'dict'>\n",
      "<class 'dict'>\n",
      "<class 'dict'>\n",
      "<class 'dict'>\n",
      "<class 'dict'>\n",
      "<class 'dict'>\n",
      "<class 'dict'>\n",
      "<class 'dict'>\n"
     ]
    }
   ],
   "source": [
    "for alumno in alumnos:\n",
    "    print(type(alumno))"
   ]
  },
  {
   "cell_type": "code",
   "execution_count": 10,
   "metadata": {},
   "outputs": [],
   "source": [
    "for alumno in alumnos:\n",
    "    if alumno[\"Trabajo\"] == True:\n",
    "        alumno[\"Nota Final\"] = alumno[\"Nota\"]+1\n",
    "    else: \n",
    "        alumno[\"Nota final\"] = alumno[\"Nota\"]"
   ]
  },
  {
   "cell_type": "code",
   "execution_count": 9,
   "metadata": {},
   "outputs": [
    {
     "name": "stdout",
     "output_type": "stream",
     "text": [
      "[{'Nombre': 'Ane', 'Nota': 8.5, 'Nota Final': 9.5, 'Trabajo': True},\n",
      " {'Nombre': 'Unai', 'Nota': 6.2, 'Nota final': 6.2, 'Trabajo': False},\n",
      " {'Nombre': 'Irati', 'Nota': 9.1, 'Nota Final': 10.1, 'Trabajo': True},\n",
      " {'Nombre': 'Iker', 'Nota': 5.8, 'Nota final': 5.8, 'Trabajo': False},\n",
      " {'Nombre': 'Maialen', 'Nota': 7.4, 'Nota Final': 8.4, 'Trabajo': True},\n",
      " {'Nombre': 'Eneko', 'Nota': 4.9, 'Nota final': 4.9, 'Trabajo': False},\n",
      " {'Nombre': 'Nahia', 'Nota': 9.7, 'Nota Final': 10.7, 'Trabajo': True},\n",
      " {'Nombre': 'Ander', 'Nota': 3.5, 'Nota final': 3.5, 'Trabajo': False},\n",
      " {'Nombre': 'Leire', 'Nota': 7.9, 'Nota Final': 8.9, 'Trabajo': True},\n",
      " {'Nombre': 'Jon', 'Nota': 6.0, 'Nota final': 6.0, 'Trabajo': False}]\n",
      "[{'Nombre': 'Ane', 'Nota': 8.5, 'Trabajo': True, 'Nota Final': 9.5}, {'Nombre': 'Unai', 'Nota': 6.2, 'Trabajo': False, 'Nota final': 6.2}, {'Nombre': 'Irati', 'Nota': 9.1, 'Trabajo': True, 'Nota Final': 10.1}, {'Nombre': 'Iker', 'Nota': 5.8, 'Trabajo': False, 'Nota final': 5.8}, {'Nombre': 'Maialen', 'Nota': 7.4, 'Trabajo': True, 'Nota Final': 8.4}, {'Nombre': 'Eneko', 'Nota': 4.9, 'Trabajo': False, 'Nota final': 4.9}, {'Nombre': 'Nahia', 'Nota': 9.7, 'Trabajo': True, 'Nota Final': 10.7}, {'Nombre': 'Ander', 'Nota': 3.5, 'Trabajo': False, 'Nota final': 3.5}, {'Nombre': 'Leire', 'Nota': 7.9, 'Trabajo': True, 'Nota Final': 8.9}, {'Nombre': 'Jon', 'Nota': 6.0, 'Trabajo': False, 'Nota final': 6.0}]\n"
     ]
    }
   ],
   "source": [
    "pprint.pprint(alumnos)\n",
    "print(alumnos)"
   ]
  },
  {
   "cell_type": "code",
   "execution_count": null,
   "metadata": {},
   "outputs": [],
   "source": []
  }
 ],
 "metadata": {
  "kernelspec": {
   "display_name": "Python 3",
   "language": "python",
   "name": "python3"
  },
  "language_info": {
   "codemirror_mode": {
    "name": "ipython",
    "version": 3
   },
   "file_extension": ".py",
   "mimetype": "text/x-python",
   "name": "python",
   "nbconvert_exporter": "python",
   "pygments_lexer": "ipython3",
   "version": "3.11.9"
  }
 },
 "nbformat": 4,
 "nbformat_minor": 2
}
