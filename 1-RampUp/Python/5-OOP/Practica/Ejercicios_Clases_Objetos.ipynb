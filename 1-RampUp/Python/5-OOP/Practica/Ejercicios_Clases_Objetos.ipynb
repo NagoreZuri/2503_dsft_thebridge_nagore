{
 "cells": [
  {
   "cell_type": "markdown",
   "metadata": {},
   "source": [
    "![imagen](./img/ejercicios.png)\n",
    "\n",
    "# Ejercicios Clases y Objetos"
   ]
  },
  {
   "attachments": {},
   "cell_type": "markdown",
   "metadata": {},
   "source": [
    "## Ejercicio 1\n",
    "Somos una empresa que tiene varias tiendas de electrodomésticos. Necesitamos un programa para manejar las tiendas, ver las ventas que han tenido, cuántos empleados hay, etc... Para ello vamos a modelizar la tienda en una clase, que tendrá las siguientes características:\n",
    "* Nombre clase: \"Tienda\"\n",
    "* Atributos comunes:\n",
    "    * Tipo: \"Electrodomésticos\"\n",
    "    * Abierta: True\n",
    "* Atributos propios de cada tienda:\n",
    "    * Nombre - String\n",
    "    * Dirección - String\n",
    "    * Número de empleados - int\n",
    "    * Ventas últimos 3 meses - Lista de 3 numeros\n",
    "* Método para calcular las ventas de todos los meses, que devuelva un número con todas las ventas.\n",
    "* Método que calcula la media de ventas de los últimos meses, por empleado\n",
    "* Método que devuelve en un string el nombre de la tienda, junto con su dirección.\n",
    "* Método que obtiene las ventas del último mes.\n",
    "* Método para dar una proyección de las ventas en caso de haber invertido X dinero en marketing en esa tienda. Siendo X el parámetro de entrada. Si X es menor de 1000, las ventas de los ultimos 3 meses hubiesen sido de (1.2 x ventas), si es mayor o igual de 1000, las ventas hubiesen sido de (1.5 x venta). El método reescribe el atributo de ventas en los últimos 3 meses, y además devuelve las ventas con el aumento.\n",
    "\n",
    "Se pide:\n",
    "1. Implementar la clase \"Tienda\"\n",
    "2. Crear tres tiendas con datos inventados\n",
    "3. Comprueba en al menos una de ellas, todo lo implementado en la clase tienda (sus atributos, media de ventas, ventas/empleado...)\n",
    "3. Calcular las ventas del último mes de todas las tiendas. Para ello usa el bucle `for`\n",
    "4. Imprime por pantalla los nombres de las tiendas cuya dirección lleve el string \"Avenida\"\n",
    "5. Seguro que ya has hecho este apartado... Documenta la clase :)"
   ]
  },
  {
   "cell_type": "code",
   "execution_count": null,
   "metadata": {},
   "outputs": [],
   "source": []
  },
  {
   "cell_type": "code",
   "execution_count": null,
   "metadata": {},
   "outputs": [],
   "source": [
    "''' \n",
    "Primero definimos la clase Tienda y le añadimos los valores generales, aquellos que compartirán todas las tiendas\n",
    "'''\n",
    "\n",
    "class Tienda:\n",
    "    tipo = \"electrodomésticos\"\n",
    "    abierta = True\n",
    "    \n",
    "    ''' \n",
    "    Luego vendrán los atributos, aquellos que serán valores individuales que cada tienda tendrá\n",
    "    '''\n",
    "    \n",
    "    def __init__(self, nombre:str, direccion:str, n_empleados:int, venta_3_meses:list):\n",
    "        self.nombre = nombre \n",
    "        self.direccion = direccion\n",
    "        self.empleados = n_empleados\n",
    "        self.ventas_por_mes = venta_3_meses\n",
    "    \n",
    "    ''' \n",
    "    empezamos con el método que nos presentará las ventas totales de 3 meses de cada tienda\n",
    "    \n",
    "    '''\n",
    "    def ventas_total(self):\n",
    "        total_ventas = sum(self.ventas_por_mes)\n",
    "        return total_ventas\n",
    "    \n",
    "    \n",
    "    '''\n",
    "    veremos ahra un método para calcular la media de ventas por empleado de cada tienda\n",
    "    \n",
    "    '''\n",
    "    def media_ventas_p_empleado(self):\n",
    "        media_ventas_p_emp = sum(self.ventas_por_mes) / self.empleados\n",
    "        media_ventas = round(media_ventas_p_emp, 2)\n",
    "        return media_ventas\n",
    "    \n",
    "    \n",
    "    ''' \n",
    "    aha un método para imprimir el nombre y la dirección de la tienda que sacamos \n",
    "    \n",
    "    '''\n",
    "    def nombre_direcc(self):\n",
    "        informacion = (self.nombre + \". Dirección: \" + self.direccion) \n",
    "        return informacion \n",
    "    \n",
    "    ''' \n",
    "    Para ver solamente las ventas del último mes de cada tienda\n",
    "    \n",
    "    '''\n",
    "    def ventas_mes(self):\n",
    "        ultimo_mes = self.ventas_por_mes[2]\n",
    "        return ultimo_mes\n",
    "    \n",
    "    \n",
    "    ''' \n",
    "    El cas de una proyeccion suponiendo que hubieramos gastado X en marketing, cuánto habríamos ganado\n",
    "    '''\n",
    "    def proyeccion(self, x): # Método para dar una proyección de las ventas en caso de haber invertido X dinero en marketing\n",
    "        if x < 1000:   #Si X es menor de 1000,  \n",
    "            ventas_1 = sum(self.ventas_por_mes) * 1.2   # las ventas de los ultimos 3 meses hubiesen sido de (1.2 x ventas),\n",
    "            print(\"Si se hubiese invertido\", x, \"€, los resultados de las ventas hubieran sido de\", ventas_1, \"€\")\n",
    "        \n",
    "        \n",
    "        elif x >= 1000:   #si es mayor o igual de 1000,\n",
    "            ventas_2 = sum(self.ventas_por_mes) * 1.2   #las ventas hubiesen sido de (1.5 x venta).\n",
    "            print (\"Si se hubiese invertido\", x, \"€, los resultados de las ventas hubieran sido de\", ventas_2, \"€\")\n",
    "              \n",
    "# El método reescribe el atributo de ventas en los últimos 3 meses, y además devuelve las ventas con el aumento."
   ]
  },
  {
   "cell_type": "code",
   "execution_count": 163,
   "metadata": {},
   "outputs": [],
   "source": [
    "tienda1 = Tienda(\"Tienda Blanca\", \"Calle Blanca, 10\", 25, [1200, 1350, 1970])\n",
    "tienda2 = Tienda(\"Tienda Negra\", \"Calle oscura, 12\", 30, [1340, 1800, 1530])\n",
    "tienda3 = Tienda(\"Tienda Central\", \"Avenida centro, 11\", 35, [2010, 2540, 2230])\n",
    "\n",
    "tiendas_total = [tienda1, tienda2, tienda3]\n"
   ]
  },
  {
   "cell_type": "code",
   "execution_count": 164,
   "metadata": {},
   "outputs": [
    {
     "name": "stdout",
     "output_type": "stream",
     "text": [
      "Las ventas totales de la Tienda Blanca son 4520 €\n",
      "Las ventas totales de la Tienda Negra son 4670 €\n",
      "Las ventas totales de la Tienda Central son 6780 €\n"
     ]
    }
   ],
   "source": [
    "\n",
    "#veams las ventas totales de 3 meses por cada tienda \n",
    "\n",
    "print(\"Las ventas totales de la Tienda Blanca son\", tienda1.ventas_total(), \"€\")\n",
    "print(\"Las ventas totales de la Tienda Negra son\", tienda2.ventas_total(), \"€\")\n",
    "print(\"Las ventas totales de la Tienda Central son\", tienda3.ventas_total(), \"€\")"
   ]
  },
  {
   "cell_type": "code",
   "execution_count": 165,
   "metadata": {},
   "outputs": [
    {
     "name": "stdout",
     "output_type": "stream",
     "text": [
      "La media de ventas por empleado en la Tienda Blanca es de: 180.8 €\n",
      "La media de ventas por empleado en la Tienda Negra es de: 155.67 €\n",
      "La media de ventas por empleado en la Tienda Crentral es de: 193.71 €\n"
     ]
    }
   ],
   "source": [
    "# veamos la media de ventas por empleado en cada tienda \n",
    "print(\"La media de ventas por empleado en la Tienda Blanca es de:\", tienda1.media_ventas_p_empleado(), \"€\")\n",
    "print(\"La media de ventas por empleado en la Tienda Negra es de:\", tienda2.media_ventas_p_empleado(), \"€\")\n",
    "print(\"La media de ventas por empleado en la Tienda Crentral es de:\", tienda3.media_ventas_p_empleado(), \"€\")"
   ]
  },
  {
   "cell_type": "code",
   "execution_count": 166,
   "metadata": {},
   "outputs": [
    {
     "name": "stdout",
     "output_type": "stream",
     "text": [
      "Información de la tienda: Tienda Blanca. Dirección: Calle Blanca, 10\n",
      "Información de la tienda: Tienda Negra. Dirección: Calle oscura, 12\n",
      "Información de la tienda: Tienda Central. Dirección: Avenida centro, 11\n"
     ]
    }
   ],
   "source": [
    "#llamemos a cada tienda y la direccion de cada una \n",
    "print(\"Información de la tienda:\", tienda1.nombre_direcc())\n",
    "print(\"Información de la tienda:\", tienda2.nombre_direcc())\n",
    "print(\"Información de la tienda:\", tienda3.nombre_direcc())"
   ]
  },
  {
   "cell_type": "code",
   "execution_count": 167,
   "metadata": {},
   "outputs": [
    {
     "name": "stdout",
     "output_type": "stream",
     "text": [
      "Las ventas totales del último mes de Tienda Blanca han sido: 1970 €\n",
      "Las ventas totales del último mes de Tienda Negra han sido: 1530 €\n",
      "Las ventas totales del último mes de Tienda Central han sido: 2230 €\n"
     ]
    }
   ],
   "source": [
    "#veamos las ventas totales del último mes de cada tienda \n",
    "print(\"Las ventas totales del último mes de Tienda Blanca han sido:\", tienda1.ventas_mes(), \"€\")\n",
    "print(\"Las ventas totales del último mes de Tienda Negra han sido:\", tienda2.ventas_mes(), \"€\")\n",
    "print(\"Las ventas totales del último mes de Tienda Central han sido:\", tienda3.ventas_mes(), \"€\")"
   ]
  },
  {
   "cell_type": "code",
   "execution_count": 179,
   "metadata": {},
   "outputs": [
    {
     "name": "stdout",
     "output_type": "stream",
     "text": [
      "Las Ventas totales de las tres tiendas el último mes: 5730 €\n"
     ]
    }
   ],
   "source": [
    "# veamos las ventas totales del último mes de las tres tiendas a la vez\n",
    "for venta in [tienda1, tienda2, tienda3]:\n",
    "    total = (tienda1.ventas_mes()) +  (tienda2.ventas_mes()) + (tienda3.ventas_mes())\n",
    "\n",
    "print(\"Las Ventas totales de las tres tiendas el último mes:\", total, \"€\")"
   ]
  },
  {
   "cell_type": "code",
   "execution_count": null,
   "metadata": {},
   "outputs": [
    {
     "name": "stdout",
     "output_type": "stream",
     "text": [
      "Si se hubiese invertido 1400 €, los resultados de las ventas hubieran sido de 5424.0 €\n",
      "Si se hubiese invertido 1200 €, los resultados de las ventas hubieran sido de 5604.0 €\n",
      "Si se hubiese invertido 950 €, los resultados de las ventas hubieran sido de 8136.0 €\n"
     ]
    }
   ],
   "source": [
    "# Método para dar una proyección de las ventas en caso de haber invertido X dinero en marketing\n",
    "tienda1.proyeccion(1400)\n",
    "tienda2.proyeccion(1200)\n",
    "tienda3.proyeccion(950)"
   ]
  },
  {
   "cell_type": "code",
   "execution_count": null,
   "metadata": {},
   "outputs": [],
   "source": []
  },
  {
   "cell_type": "code",
   "execution_count": null,
   "metadata": {},
   "outputs": [],
   "source": []
  },
  {
   "cell_type": "code",
   "execution_count": null,
   "metadata": {},
   "outputs": [],
   "source": []
  },
  {
   "cell_type": "code",
   "execution_count": null,
   "metadata": {},
   "outputs": [],
   "source": []
  },
  {
   "cell_type": "markdown",
   "metadata": {},
   "source": [
    "## Ejercicio 2\n",
    "En este ejercicio vamos a implementar una clase *Perro* en Python. La clase tiene las siguientes características:\n",
    "* Cosas que sabemos seguro que tiene un perro\n",
    "    * Tiene 4 patas\n",
    "    * 2 orejas\n",
    "    * 2 ojos\n",
    "    * Una velocidad de 0. Por defecto, el perro está parado\n",
    "* Cuando se inicialice:\n",
    "    * El perro será de una determinada raza\n",
    "    * Por defecto tendrá pelo \"Marrón\", a no ser que se diga lo contrario.\n",
    "    * Por defecto no tendrá dueño, a no ser que se diga lo contrario.\n",
    "    \n",
    "* Dispondrá también de un método llamado andar, que tiene un argumento de entrada (aumento_velocidad). Este valor se le sumará a la velocidad que ya llevaba el perro.\n",
    "* Necesita otro método (parar), donde pondremos la velocidad a 0.\n",
    "* Otro método llamado \"ladrar\", que tendrá un argumento de entrada, y la salida será el siguiente string: \"GUAU!\" + el argumento de entrada.\n",
    "\n",
    "\n",
    "Se pide:\n",
    "* Implementa la clase *Perro*\n",
    "* Crea un objeto de tipo *Perro*, sin dueño\n",
    "* Comprueba que están bien todos sus atributos\n",
    "* Prueba que ande, y comprueba su velocidad\n",
    "* Páralo\n",
    "* Documenta la clase *Perro*"
   ]
  },
  {
   "cell_type": "code",
   "execution_count": 3,
   "metadata": {},
   "outputs": [
    {
     "name": "stdout",
     "output_type": "stream",
     "text": [
      "El perro comienza a caminar a velocidad 2\n",
      "El perro comienza a caminar a velocidad 6\n",
      "El perro se para\n"
     ]
    },
    {
     "data": {
      "text/plain": [
       "'GUAU! Hola, dueño'"
      ]
     },
     "execution_count": 3,
     "metadata": {},
     "output_type": "execute_result"
    }
   ],
   "source": [
    "class Perro:\n",
    "    patas = 4\n",
    "    orejas = 2\n",
    "    ojos = 2\n",
    "    \n",
    "    \n",
    "    def __init__(self, raza, pelo = \"Marrón\", dueno = False, velocidad = 0):\n",
    "        self.raza = raza \n",
    "        self.pelo = pelo\n",
    "        self.dueno = dueno\n",
    "        self.velocidad = velocidad\n",
    "    \n",
    "    def andar(self, x):\n",
    "        self.velocidad = x + (self.velocidad)\n",
    "        print(\"El perro comienza a caminar a velocidad\", self.velocidad)\n",
    "    \n",
    "    def parar(self):\n",
    "        if self.velocidad > 0:\n",
    "            self.velocidad = 0\n",
    "            print(\"El perro se para\")\n",
    "            return self.velocidad\n",
    "        else: \n",
    "            print(\"El perro ya está parado\")\n",
    "    \n",
    "    def ladrar(self, argumento):\n",
    "        return \"GUAU!\" + \" \" + argumento\n",
    "        \n",
    "perro_1 = Perro(\"Bull-terrier\", \"Blanco\")\n",
    "\n",
    "\n",
    "perro_1.andar(2)\n",
    "perro_1.andar(4)\n",
    "perro_1.parar()\n",
    "\n",
    "perro_1.ladrar(\"Hola, dueño\")\n"
   ]
  },
  {
   "cell_type": "code",
   "execution_count": null,
   "metadata": {},
   "outputs": [],
   "source": []
  },
  {
   "cell_type": "code",
   "execution_count": null,
   "metadata": {},
   "outputs": [
    {
     "ename": "AttributeError",
     "evalue": "'Perro' object has no attribute 'andar'",
     "output_type": "error",
     "traceback": [
      "\u001b[31m---------------------------------------------------------------------------\u001b[39m",
      "\u001b[31mAttributeError\u001b[39m                            Traceback (most recent call last)",
      "\u001b[36mCell\u001b[39m\u001b[36m \u001b[39m\u001b[32mIn[198]\u001b[39m\u001b[32m, line 1\u001b[39m\n\u001b[32m----> \u001b[39m\u001b[32m1\u001b[39m \u001b[43mperro_1\u001b[49m\u001b[43m.\u001b[49m\u001b[43mandar\u001b[49m(\u001b[32m2\u001b[39m)\n",
      "\u001b[31mAttributeError\u001b[39m: 'Perro' object has no attribute 'andar'"
     ]
    }
   ],
   "source": []
  },
  {
   "cell_type": "code",
   "execution_count": null,
   "metadata": {},
   "outputs": [],
   "source": []
  },
  {
   "cell_type": "code",
   "execution_count": null,
   "metadata": {},
   "outputs": [],
   "source": []
  }
 ],
 "metadata": {
  "kernelspec": {
   "display_name": "Python 3",
   "language": "python",
   "name": "python3"
  },
  "language_info": {
   "codemirror_mode": {
    "name": "ipython",
    "version": 3
   },
   "file_extension": ".py",
   "mimetype": "text/x-python",
   "name": "python",
   "nbconvert_exporter": "python",
   "pygments_lexer": "ipython3",
   "version": "3.11.9"
  }
 },
 "nbformat": 4,
 "nbformat_minor": 4
}
