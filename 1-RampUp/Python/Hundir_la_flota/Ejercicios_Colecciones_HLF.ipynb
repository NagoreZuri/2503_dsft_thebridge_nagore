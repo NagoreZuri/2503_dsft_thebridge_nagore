{
 "cells": [
  {
   "cell_type": "markdown",
   "metadata": {},
   "source": [
    "## Ejercicio Extra HLF\n",
    "Vamos a empezar a programar trozos de código que nos servirán para el HLF:\n",
    "\n",
    "* Crear un Tablero como una lista de listas de 10x10 que contenga caracteres espacio: \" \"\n",
    "* Insertar dos barcos sustituyendo en el Tablero los espacios en blanco por el caracter \"B\":\n",
    "    * Uno de 4 casillas en horizontal: casillas [1][0], [1][1], [1][2], [1][3]\n",
    "    * Uno de 3 casillas en vertical:   casillas [3][3], [4][3], [4][4], [4][5]\n",
    "* Escribir una celda de código separada de las anteriores para simular que el usuario está efectuando un disparo: \n",
    "    *  Solicite al usuario dos coordenadas `i,j` mediante dos inputs\n",
    "    *  Compruebe si esas coordenadas están ocupada por una casilla barco (que haya una en \"B\")\n",
    "        * Si hay una \"B\":\n",
    "            * Cambiar el contenido de esa posición por una \"x\"\n",
    "            * Imprimir por pantalla el texto \"Tocado en posición `i,j`\"\n",
    "        * Si hay un \" \":\n",
    "            * Cambiar el contenido de esa posición por una \"o\"\n",
    "            * Imprimir por pantalla el texto \"Agua\"\n",
    "    * Imprimir por pantalla el Tablero\n",
    "* Para comprobar que funciona bien la celda de disparar ejecutarla varias veces metiendo distintas coordenadas\n",
    "\n",
    "### Bonus\n",
    "* En la celda de disparar, si el usuario acierta a tocar un barco, vuelve a disparar\n",
    "* Restilizando funciones\n",
    "    \n"
   ]
  },
  {
   "cell_type": "code",
   "execution_count": 4,
   "metadata": {},
   "outputs": [],
   "source": [
    "import pprint\n",
    "import random "
   ]
  },
  {
   "cell_type": "code",
   "execution_count": null,
   "metadata": {},
   "outputs": [
    {
     "data": {
      "text/plain": [
       "[[' ', ' ', ' ', ' ', ' ', ' ', ' ', ' ', ' ', ' '],\n",
       " [' ', ' ', ' ', ' ', ' ', ' ', ' ', ' ', ' ', ' '],\n",
       " [' ', ' ', ' ', ' ', ' ', ' ', ' ', ' ', ' ', ' '],\n",
       " [' ', ' ', ' ', ' ', ' ', ' ', ' ', ' ', ' ', ' '],\n",
       " [' ', ' ', ' ', ' ', ' ', ' ', ' ', ' ', ' ', ' '],\n",
       " [' ', ' ', ' ', ' ', ' ', ' ', ' ', ' ', ' ', ' '],\n",
       " [' ', ' ', ' ', ' ', ' ', ' ', ' ', ' ', ' ', ' '],\n",
       " [' ', ' ', ' ', ' ', ' ', ' ', ' ', ' ', ' ', ' '],\n",
       " [' ', ' ', ' ', ' ', ' ', ' ', ' ', ' ', ' ', ' '],\n",
       " [' ', ' ', ' ', ' ', ' ', ' ', ' ', ' ', ' ', ' ']]"
      ]
     },
     "execution_count": 20,
     "metadata": {},
     "output_type": "execute_result"
    }
   ],
   "source": [
    "tablero = []\n",
    "for i in range(10):\n",
    "    linea = []\n",
    "    for i in ():\n",
    "        linea.append(\" \")\n",
    "    tablero.append(linea)\n",
    "\n",
    "tablero"
   ]
  },
  {
   "cell_type": "code",
   "execution_count": 21,
   "metadata": {},
   "outputs": [],
   "source": [
    "#tablero[3][3] = \"B\"\n",
    "#tablero[4][3] = \"B\"\n",
    "#tablero[5][3] = \"B\"\n",
    "#tablero[6][3] = \"B\"\n",
    "#tablero"
   ]
  },
  {
   "cell_type": "code",
   "execution_count": null,
   "metadata": {},
   "outputs": [
    {
     "name": "stdout",
     "output_type": "stream",
     "text": [
      "[[' ', ' ', ' ', ' ', ' ', 'B', 'B', 'B', ' ', ' '],\n",
      " ['B', 'B', 'B', 'B', ' ', ' ', ' ', ' ', ' ', ' '],\n",
      " [' ', ' ', ' ', ' ', ' ', ' ', ' ', ' ', ' ', ' '],\n",
      " [' ', ' ', ' ', 'B', ' ', ' ', ' ', ' ', 'B', ' '],\n",
      " [' ', 'B', ' ', 'B', ' ', ' ', ' ', 'O', ' ', ' '],\n",
      " [' ', ' ', ' ', 'B', 'O', ' ', ' ', ' ', ' ', 'B'],\n",
      " [' ', ' ', 'B', ' ', ' ', 'B', 'B', 'B', ' ', 'B'],\n",
      " [' ', ' ', ' ', ' ', ' ', ' ', 'O', ' ', ' ', 'B'],\n",
      " [' ', ' ', ' ', ' ', ' ', ' ', ' ', ' ', ' ', 'B'],\n",
      " [' ', ' ', ' ', 'B', 'B', ' ', 'B', ' ', ' ', ' ']]\n",
      "Tocado\n",
      "[[' ', ' ', ' ', ' ', ' ', 'B', 'B', 'B', ' ', ' '],\n",
      " ['B', 'B', 'B', 'B', ' ', ' ', ' ', ' ', ' ', ' '],\n",
      " [' ', ' ', ' ', ' ', ' ', ' ', ' ', ' ', ' ', ' '],\n",
      " [' ', ' ', ' ', 'B', ' ', ' ', ' ', ' ', 'B', ' '],\n",
      " [' ', 'B', ' ', 'B', ' ', ' ', ' ', 'O', ' ', ' '],\n",
      " [' ', ' ', ' ', 'B', 'O', ' ', ' ', ' ', ' ', 'B'],\n",
      " [' ', ' ', 'B', ' ', ' ', 'B', 'B', 'X', ' ', 'B'],\n",
      " [' ', ' ', ' ', ' ', ' ', ' ', 'O', ' ', ' ', 'B'],\n",
      " [' ', ' ', ' ', ' ', ' ', ' ', ' ', ' ', ' ', 'B'],\n",
      " [' ', ' ', ' ', 'B', 'B', ' ', 'B', ' ', ' ', ' ']]\n",
      "[[' ', ' ', ' ', ' ', ' ', 'B', 'B', 'B', ' ', ' '],\n",
      " ['B', 'B', 'B', 'B', ' ', ' ', ' ', ' ', ' ', ' '],\n",
      " [' ', ' ', ' ', ' ', ' ', ' ', ' ', ' ', ' ', ' '],\n",
      " [' ', ' ', ' ', 'B', ' ', ' ', ' ', ' ', 'B', ' '],\n",
      " [' ', 'B', ' ', 'B', ' ', ' ', ' ', 'O', ' ', ' '],\n",
      " [' ', ' ', ' ', 'B', 'O', ' ', ' ', ' ', ' ', 'B'],\n",
      " [' ', ' ', 'B', ' ', ' ', 'B', 'B', 'X', ' ', 'B'],\n",
      " [' ', ' ', ' ', ' ', ' ', ' ', 'O', ' ', ' ', 'B'],\n",
      " [' ', ' ', ' ', ' ', ' ', ' ', ' ', ' ', ' ', 'B'],\n",
      " [' ', ' ', ' ', 'B', 'B', ' ', 'B', ' ', ' ', ' ']]\n",
      "Agua\n",
      "[[' ', ' ', ' ', ' ', ' ', 'B', 'B', 'B', ' ', ' '],\n",
      " ['B', 'B', 'B', 'B', ' ', ' ', ' ', ' ', ' ', ' '],\n",
      " [' ', ' ', ' ', ' ', ' ', ' ', ' ', ' ', ' ', ' '],\n",
      " [' ', ' ', ' ', 'B', ' ', ' ', ' ', ' ', 'B', ' '],\n",
      " [' ', 'B', ' ', 'B', ' ', ' ', ' ', 'O', ' ', ' '],\n",
      " [' ', ' ', ' ', 'B', 'O', ' ', ' ', ' ', ' ', 'B'],\n",
      " [' ', ' ', 'B', ' ', ' ', 'B', 'B', 'X', 'O', 'B'],\n",
      " [' ', ' ', ' ', ' ', ' ', ' ', 'O', ' ', ' ', 'B'],\n",
      " [' ', ' ', ' ', ' ', ' ', ' ', ' ', ' ', ' ', 'B'],\n",
      " [' ', ' ', ' ', 'B', 'B', ' ', 'B', ' ', ' ', ' ']]\n"
     ]
    }
   ],
   "source": [
    "#ejemplo de colocar barcos de manera manual \n",
    "\n",
    "barco1 = [(1, 0), (1, 1), (1, 2), (1, 3)]\n",
    "for fila, columna in barco1:\n",
    "    tablero[fila][columna] = \"B\"\n",
    "\n",
    "barco_2= [(3, 3), (4, 3), (5, 3)]\n",
    "for fila, columna in barco_2:\n",
    "    tablero[fila][columna] = \"B\"\n",
    "\n",
    "barco_3 = [(3,8)]\n",
    "for fila, columna in barco_3:\n",
    "    tablero[fila][columna] = \"B\"\n",
    "\n",
    "barco_4 = [(9,6)]\n",
    "for fila, columna in barco_4:\n",
    "    tablero[fila][columna] = \"B\"\n",
    "    \n",
    "barco_5 = [(6,2)]\n",
    "for fila, columna in barco_5:\n",
    "    tablero[fila][columna] = \"B\"\n",
    "\n",
    "\n",
    "barco_6 = [(4,1)]\n",
    "for fila, columna in barco_6:\n",
    "    tablero[fila][columna] = \"B\"\n",
    "    \n",
    "\n",
    "barco_7 = [(9, 3), (9, 4)]\n",
    "for fila, columna in barco_7:\n",
    "    tablero[fila][columna] = \"B\"\n",
    "    \n",
    "barco_8 = [(6, 5), (6, 6)]\n",
    "for fila, columna in barco_8:\n",
    "    tablero[fila][columna] = \"B\"\n",
    "    \n",
    "barco_9 = [(0,5), (0,6), (0,7)]\n",
    "for fila, columna in barco_9:\n",
    "    tablero[fila][columna] = \"B\"\n",
    "    \n",
    "barco_10 = [(5, 9), (6, 9), (7,9), (8, 9)]\n",
    "for fila, columna in barco_10:\n",
    "    tablero[fila][columna] = \"B\"\n",
    "    \n",
    "tablero\n",
    "\n",
    "\n",
    "\n",
    "def disparo(tablero, i, j):\n",
    "    if tablero[i][j] == \"B\":\n",
    "        print(\"Tocado\")\n",
    "        tablero[i][j] = \"X\"\n",
    "        pprint.pprint(tablero)\n",
    "        return True\n",
    "    elif tablero[i][j] == \" \":\n",
    "        print(\"Agua\")\n",
    "        tablero[i][j] = \"O\"\n",
    "        pprint.pprint(tablero)\n",
    "        return False\n",
    "    else:\n",
    "        print(\"Ya habías disparado allí\")\n",
    "\n",
    "while True:\n",
    "    i = int(input(\"Ingrésame la fila: \"))\n",
    "    j = int(input(\"Ingrésame la columna: \"))\n",
    "    pprint.pprint(tablero)\n",
    "    \n",
    "    if not disparo(tablero,i,j):\n",
    "        break\n"
   ]
  },
  {
   "cell_type": "code",
   "execution_count": null,
   "metadata": {},
   "outputs": [],
   "source": []
  },
  {
   "cell_type": "code",
   "execution_count": null,
   "metadata": {},
   "outputs": [],
   "source": []
  },
  {
   "cell_type": "code",
   "execution_count": null,
   "metadata": {},
   "outputs": [
    {
     "name": "stdout",
     "output_type": "stream",
     "text": [
      "[[' ', ' ', ' ', ' ', ' ', ' ', ' ', ' ', ' ', ' '],\n",
      " [' ', ' ', ' ', ' ', ' ', ' ', ' ', ' ', ' ', ' '],\n",
      " [' ', ' ', ' ', ' ', 'B', 'B', 'B', 'B', ' ', ' '],\n",
      " [' ', ' ', ' ', ' ', ' ', ' ', ' ', ' ', ' ', ' '],\n",
      " [' ', ' ', ' ', ' ', ' ', ' ', ' ', ' ', ' ', ' '],\n",
      " [' ', ' ', ' ', ' ', ' ', ' ', ' ', ' ', ' ', ' '],\n",
      " [' ', ' ', ' ', ' ', ' ', ' ', ' ', ' ', ' ', ' '],\n",
      " [' ', ' ', ' ', ' ', ' ', ' ', ' ', ' ', ' ', ' '],\n",
      " [' ', ' ', ' ', ' ', ' ', ' ', ' ', ' ', ' ', ' '],\n",
      " [' ', ' ', ' ', ' ', ' ', ' ', ' ', ' ', ' ', ' ']]\n"
     ]
    }
   ],
   "source": [
    "\n",
    "\n",
    "#Intento de colocar los barcos aleatoriamente, pero no sé cómo continuar \n",
    "\n",
    "def BarcoAleatorio(tablero_ord):\n",
    "    longitud_barco = 4 #declaramos esto para tener un limite para no salirse del tablero.\n",
    "    \n",
    "    fila =random.randint(0,9 - longitud_barco) #filaaleatoria\n",
    "    columna =random.randint(0,9-longitud_barco)\n",
    "    \n",
    "    orientacion = random.choice([\"horizontal\", \"vertical\"])\n",
    "    \n",
    "#para colocar el barco horizonbatalmente en el tablero    \n",
    "    for i in range (longitud_barco):\n",
    "        tablero_ord[fila][columna+i] = \"B\"  #coloca el barc en las celdas\n",
    "        \n",
    "    return tablero_ord\n",
    "\n",
    "#llamar a la funcion para colocar el barco\n",
    "BarcoAleatorio(tablero_ord)\n",
    "\n",
    "# Imprimir el tablero para verificar la colocación del barco\n",
    "\n",
    "pprint.pprint(tablero_ord)"
   ]
  },
  {
   "cell_type": "code",
   "execution_count": null,
   "metadata": {},
   "outputs": [],
   "source": []
  }
 ],
 "metadata": {
  "kernelspec": {
   "display_name": "Python 3",
   "language": "python",
   "name": "python3"
  },
  "language_info": {
   "codemirror_mode": {
    "name": "ipython",
    "version": 3
   },
   "file_extension": ".py",
   "mimetype": "text/x-python",
   "name": "python",
   "nbconvert_exporter": "python",
   "pygments_lexer": "ipython3",
   "version": "3.11.9"
  }
 },
 "nbformat": 4,
 "nbformat_minor": 2
}
