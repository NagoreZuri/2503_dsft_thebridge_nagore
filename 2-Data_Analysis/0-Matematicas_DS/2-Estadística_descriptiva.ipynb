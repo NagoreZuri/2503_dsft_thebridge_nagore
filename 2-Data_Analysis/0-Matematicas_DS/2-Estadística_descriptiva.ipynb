{
 "cells": [
  {
   "attachments": {},
   "cell_type": "markdown",
   "metadata": {},
   "source": [
    "# Estadística descriptiva"
   ]
  },
  {
   "attachments": {},
   "cell_type": "markdown",
   "metadata": {},
   "source": [
    "La estadística es la rama de las matemáticas que estudia la variabilidad, así como el **proceso aleatorio que la genera siguiendo leyes de probabilidad.**\n",
    "\n",
    "La estadística es útil para una amplia variedad de ciencias empíricas **(la que entiende los hechos creando representaciones de la realidad)**, desde la física hasta las ciencias sociales, desde las ciencias de la salud hasta el control de calidad. Además, se usa en áreas de negocios o instituciones gubernamentales con el objetivo de **describir** el conjunto de datos obtenidos para la toma de decisiones, o bien para realizar generalizaciones sobre las características observadas."
   ]
  },
  {
   "attachments": {},
   "cell_type": "markdown",
   "metadata": {},
   "source": [
    "La estadística se divide en dos grandes áreas:\n",
    "\n",
    "- **Estadística descriptiva**: Se dedica a la **descripción, visualización y resumen** de datos originados a partir de los fenómenos de estudio. Los datos pueden ser resumidos **numérica o gráficamente**. Su objetivo es organizar y describir las características sobre un conjunto de datos con el propósito de facilitar su aplicación, generalmente con el apoyo de gráficas, tablas o medidas numéricas.\n",
    "\n",
    "    - Ejemplos básicos de parámetros estadísticos son: la media y la desviación estándar.\n",
    "    - Ejemplos gráficos son: histograma, pirámide poblacional, gráfico circular, entre otros.\n",
    "    \n",
    "\n",
    "- **Estadística inferencial**: Se dedica a la generación de los **modelos, inferencias y predicciones** asociadas a los fenómenos en cuestión teniendo en cuenta la aleatoriedad de las observaciones. Se usa para modelar **patrones en los datos** y extraer inferencias acerca de la población bajo estudio. Estas inferencias pueden tomar la forma de respuestas a preguntas sí/no (prueba de hipótesis), estimaciones de unas características numéricas (estimación). **Su objetivo es obtener conclusiones útiles para lograr hacer deducciones acerca de la totalidad de todas las observaciones hechas, basándose en la información numérica.**"
   ]
  },
  {
   "attachments": {},
   "cell_type": "markdown",
   "metadata": {},
   "source": [
    "## Conceptos básicos de la estadística descriptiva\n",
    "En este apartado se describirán las técnicas más utilizadas para el análisis de datos de un dataset. Puesto que un dataset se compone de varias columnas, **tendremos varias clases de análisis, en función de la cantidad de variables que estemos usando**:\n",
    "\n",
    "\n",
    "* **Análisis univariante**: descripición de cada variable por separado. Si es una variable dispersa, tiene outliers, su rango...\n",
    "\n",
    "* **Análisis bivariante**: descripción de dos variables del dataset. Quiero ver las relaciones entre los datos\n",
    "\n",
    "* **Análisis multivariante**: descripción de más de dos variables del dataset.\n",
    "\n",
    "Ahora bien, **¿de qué se componen estos análisis?** razonaremos y describiremos los datos mediante:\n",
    "\n",
    "* **Medidas estadísticas**: media, mediana, moda, desviación estándar, mínimo, máximo, varianza... entre otras.\n",
    "\n",
    "* **Gráficas**: histogramas, diagramas de densidad, scatter plots, diagramas de barras, box plots, violin plots y pair plots\n",
    "\n",
    "* **Tablas**: de frecuencias\n",
    "\n",
    "### Medidas estadísticas\n",
    "Las medidas que vamos a calcular para describir los datos se dividen en tres tipos:\n",
    "\n",
    "* **Medidas de posición o tendencia central**: media, mediana, moda, cuartiles.\n",
    "\n",
    "* **Medidas de variabilidad o dispersión**: rango, minimo, maximo, desviación estándar y varianza.\n",
    "\n",
    "* **Medidas de forma**: asimetría y curtosis.\n",
    "\n",
    "Ahora bien, aun con todas las herramientas, medidas y gráficas que aprenderás, no hay que perder el foco de la analítica descriptica. **EL OBJETIVO ES HACER UNA DESCRIPCIÓN SENCILLA (NUMÉRICA Y/O GRÁFICA) DE LA INFORMACIÓN DE LA MUESTRA.**"
   ]
  },
  {
   "cell_type": "code",
   "execution_count": 3,
   "metadata": {},
   "outputs": [
    {
     "name": "stdout",
     "output_type": "stream",
     "text": [
      "Requirement already satisfied: scipy in c:\\users\\nagor\\appdata\\local\\programs\\python\\python311\\lib\\site-packages (1.15.2)\n",
      "Requirement already satisfied: numpy<2.5,>=1.23.5 in c:\\users\\nagor\\appdata\\local\\programs\\python\\python311\\lib\\site-packages (from scipy) (2.2.4)\n"
     ]
    },
    {
     "name": "stderr",
     "output_type": "stream",
     "text": [
      "\n",
      "[notice] A new release of pip is available: 24.0 -> 25.0.1\n",
      "[notice] To update, run: python.exe -m pip install --upgrade pip\n"
     ]
    }
   ],
   "source": [
    "!pip install scipy"
   ]
  },
  {
   "cell_type": "code",
   "execution_count": 4,
   "metadata": {},
   "outputs": [],
   "source": [
    "# Utilizaremos las siguientes librerías para el análisis\n",
    "import pandas as pd\n",
    "import numpy as np\n",
    "#from scipy import stats\n",
    "import seaborn as sns\n",
    "import matplotlib.pyplot as plt\n",
    "import statistics"
   ]
  },
  {
   "attachments": {},
   "cell_type": "markdown",
   "metadata": {},
   "source": [
    "# Análisis univariante\n",
    "## Medidas de posición o tendencia central\n",
    "\n",
    "<img src=\"./img/Measures-of-central-tendency-Robinson.png\" width=\"500\" height=\"550\">\n",
    "\n",
    "Se trata de indicadores de la tendencia central de los datos, es decir, alrededor de qué valor/es se está concentrando la variable. Veamos las medidas de posición más comunes\n",
    "\n",
    "* **Media**\n",
    "\n",
    "* **Moda**\n",
    "\n",
    "* **Mediana**\n",
    "\n",
    "* **Quartiles y percentiles**\n"
   ]
  },
  {
   "attachments": {},
   "cell_type": "markdown",
   "metadata": {},
   "source": [
    "## Media - (Medidas de posición o tendencia central)\n",
    "La [media aritmética](https://es.wikipedia.org/wiki/Media_aritm%C3%A9tica) es el valor obtenido al sumar todos los *[datos](https://es.wikipedia.org/wiki/Dato)* y dividir el resultado entre el número total elementos. Se suele representar con la letra griega $\\mu$. Si tenemos una [muestra](https://es.wikipedia.org/wiki/Muestra_estad%C3%ADstica) de $n$ valores, $x_i$, la *media aritmética*, $\\mu$, es la suma de los valores divididos por el numero de elementos; en otras palabras:\n",
    "$$\\mu = \\frac{1}{n} \\sum_{i}x_i$$\n"
   ]
  },
  {
   "cell_type": "code",
   "execution_count": 25,
   "metadata": {},
   "outputs": [
    {
     "data": {
      "application/vnd.microsoft.datawrangler.viewer.v0+json": {
       "columns": [
        {
         "name": "index",
         "rawType": "object",
         "type": "string"
        },
        {
         "name": "Poblacion",
         "rawType": "int64",
         "type": "integer"
        },
        {
         "name": "Superficie",
         "rawType": "int64",
         "type": "integer"
        }
       ],
       "conversionMethod": "pd.DataFrame",
       "ref": "47765350-f6da-4baf-992e-b848f581d63a",
       "rows": [
        [
         "Madrid",
         "6685471",
         "8028"
        ],
        [
         "Galicia",
         "2698764",
         "29575"
        ],
        [
         "Murcia",
         "1494442",
         "11314"
        ],
        [
         "Andalucia",
         "8446561",
         "87599"
        ]
       ],
       "shape": {
        "columns": 2,
        "rows": 4
       }
      },
      "text/html": [
       "<div>\n",
       "<style scoped>\n",
       "    .dataframe tbody tr th:only-of-type {\n",
       "        vertical-align: middle;\n",
       "    }\n",
       "\n",
       "    .dataframe tbody tr th {\n",
       "        vertical-align: top;\n",
       "    }\n",
       "\n",
       "    .dataframe thead th {\n",
       "        text-align: right;\n",
       "    }\n",
       "</style>\n",
       "<table border=\"1\" class=\"dataframe\">\n",
       "  <thead>\n",
       "    <tr style=\"text-align: right;\">\n",
       "      <th></th>\n",
       "      <th>Poblacion</th>\n",
       "      <th>Superficie</th>\n",
       "    </tr>\n",
       "  </thead>\n",
       "  <tbody>\n",
       "    <tr>\n",
       "      <th>Madrid</th>\n",
       "      <td>6685471</td>\n",
       "      <td>8028</td>\n",
       "    </tr>\n",
       "    <tr>\n",
       "      <th>Galicia</th>\n",
       "      <td>2698764</td>\n",
       "      <td>29575</td>\n",
       "    </tr>\n",
       "    <tr>\n",
       "      <th>Murcia</th>\n",
       "      <td>1494442</td>\n",
       "      <td>11314</td>\n",
       "    </tr>\n",
       "    <tr>\n",
       "      <th>Andalucia</th>\n",
       "      <td>8446561</td>\n",
       "      <td>87599</td>\n",
       "    </tr>\n",
       "  </tbody>\n",
       "</table>\n",
       "</div>"
      ],
      "text/plain": [
       "           Poblacion  Superficie\n",
       "Madrid       6685471        8028\n",
       "Galicia      2698764       29575\n",
       "Murcia       1494442       11314\n",
       "Andalucia    8446561       87599"
      ]
     },
     "execution_count": 25,
     "metadata": {},
     "output_type": "execute_result"
    }
   ],
   "source": [
    "a = pd.Series({\"Madrid\": 6685471, \"Galicia\": 2698764, \"Murcia\": 1494442, \"Andalucia\": 8446561})\n",
    "b = pd.Series([8028, 29575, 11314, 87599], index = [\"Madrid\", \"Galicia\", \"Murcia\", \"Andalucia\"])\n",
    "\n",
    "df = pd.DataFrame({\"Poblacion\": a,\n",
    "                  \"Superficie\": b})\n",
    "df"
   ]
  },
  {
   "cell_type": "code",
   "execution_count": 26,
   "metadata": {},
   "outputs": [
    {
     "name": "stdout",
     "output_type": "stream",
     "text": [
      "Media de la población: 4831309.5\n",
      "Media de la superficie: 34129.0\n"
     ]
    }
   ],
   "source": [
    "# Para calcular la media\n",
    "media_p = df[\"Poblacion\"].mean()\n",
    "print(\"Media de la población:\", round(media_p, 2))\n",
    "\n",
    "media_s = df[\"Superficie\"].mean()\n",
    "print(\"Media de la superficie:\", round(media_s, 2))"
   ]
  },
  {
   "cell_type": "code",
   "execution_count": 7,
   "metadata": {},
   "outputs": [
    {
     "data": {
      "text/plain": [
       "4831309.5"
      ]
     },
     "execution_count": 7,
     "metadata": {},
     "output_type": "execute_result"
    }
   ],
   "source": [
    "(6685471+2698764+1494442+8446561)/4   #suma de todos los datos dividido ente la cantidad total de dats que tenemos "
   ]
  },
  {
   "attachments": {},
   "cell_type": "markdown",
   "metadata": {},
   "source": [
    "## Moda - (Medidas de posición o tendencia central)\n",
    "La <a href=\"https://es.wikipedia.org/wiki/Moda_(estad%C3%ADstica)\">moda</a> es el valor que tiene mayor frecuencia absoluta. Se representa con $M_0$. La moda puede ser compartida por varios valores.\n",
    "\n",
    "Para el cálculo de la moda, recurrimos al paquete `stats`. Te dejo [el enlace a la documentación](https://docs.scipy.org/doc/scipy/reference/generated/scipy.stats.mode.html) para que entiendas cómo funciona la función `mode()`"
   ]
  },
  {
   "cell_type": "code",
   "execution_count": 8,
   "metadata": {},
   "outputs": [],
   "source": [
    "# Creamos nuevo array con las preferencias vacacionales españolas\n",
    "vacaciones = np.array(['Andalucia', 'Baleares', 'País Vasco', 'Andalucia', 'Madrid', 'País Vasco', 'Andalucia',\n",
    "                      'Andalucia', 'Madrid', 'Barcelona', 'Baleares', 'Baleares', 'Galicia', 'Baleares', 'Andalucia', 'Baleares'])\n",
    "\n",
    "# Creamos otro array numerico con los ratings de peliculas de una pagina web\n",
    "rating_pelis = np.array([4,3,2,3,2,3,4,4,1,4,2,1,3,2,3,2,2,4,2,1,2])"
   ]
  },
  {
   "cell_type": "code",
   "execution_count": 9,
   "metadata": {},
   "outputs": [],
   "source": [
    "# moda_v = stats.mode(vacaciones)\n",
    "# moda_p = stats.mode(rating_pelis)\n",
    "# Warning deprecated"
   ]
  },
  {
   "cell_type": "code",
   "execution_count": 10,
   "metadata": {},
   "outputs": [],
   "source": [
    "# print(moda_v)\n",
    "# print(moda_v.mode)\n",
    "# print(moda_v.count)\n",
    "# Warning deprecated"
   ]
  },
  {
   "cell_type": "code",
   "execution_count": 11,
   "metadata": {},
   "outputs": [
    {
     "data": {
      "text/plain": [
       "0    Andalucia\n",
       "1     Baleares\n",
       "dtype: object"
      ]
     },
     "execution_count": 11,
     "metadata": {},
     "output_type": "execute_result"
    }
   ],
   "source": [
    "pd.Series(vacaciones).mode() #el valor que más se repite"
   ]
  },
  {
   "cell_type": "code",
   "execution_count": 12,
   "metadata": {},
   "outputs": [
    {
     "data": {
      "text/plain": [
       "Andalucia     5\n",
       "Baleares      5\n",
       "País Vasco    2\n",
       "Madrid        2\n",
       "Barcelona     1\n",
       "Galicia       1\n",
       "Name: count, dtype: int64"
      ]
     },
     "execution_count": 12,
     "metadata": {},
     "output_type": "execute_result"
    }
   ],
   "source": [
    "pd.Series(vacaciones).value_counts()"
   ]
  },
  {
   "cell_type": "code",
   "execution_count": 13,
   "metadata": {},
   "outputs": [
    {
     "data": {
      "text/plain": [
       "0    2\n",
       "dtype: int64"
      ]
     },
     "execution_count": 13,
     "metadata": {},
     "output_type": "execute_result"
    }
   ],
   "source": [
    "pd.Series(rating_pelis).mode()"
   ]
  },
  {
   "attachments": {},
   "cell_type": "markdown",
   "metadata": {},
   "source": [
    "### Diagrama de barras"
   ]
  },
  {
   "cell_type": "code",
   "execution_count": 14,
   "metadata": {},
   "outputs": [
    {
     "data": {
      "image/png": "[encoded data removed]",
      "text/plain": [
       "<Figure size 640x480 with 1 Axes>"
      ]
     },
     "metadata": {},
     "output_type": "display_data"
    }
   ],
   "source": [
    "sns.countplot(x = vacaciones);"
   ]
  },
  {
   "attachments": {},
   "cell_type": "markdown",
   "metadata": {},
   "source": [
    "### Tabla de frecuencias\n",
    "Siendo la moda el valor más común entre todos los posibles de la variable, también podemos sacar su **tabla de frecuencia absoluta**, que se define como el número de veces que se repite cada valor de la variable. Estos datos se utilizan en otras medidas como la moda, o para graficar un histograma."
   ]
  },
  {
   "cell_type": "code",
   "execution_count": 15,
   "metadata": {},
   "outputs": [
    {
     "data": {
      "text/plain": [
       "Andalucia     5\n",
       "Baleares      5\n",
       "País Vasco    2\n",
       "Madrid        2\n",
       "Barcelona     1\n",
       "Galicia       1\n",
       "Name: count, dtype: int64"
      ]
     },
     "execution_count": 15,
     "metadata": {},
     "output_type": "execute_result"
    }
   ],
   "source": [
    "pd.Series(vacaciones).value_counts()"
   ]
  },
  {
   "attachments": {},
   "cell_type": "markdown",
   "metadata": {},
   "source": [
    "Igualmente también podemos calcular la **frecuencia relativa** de cada conteo con respecto al total de valores de la muestra, de esta manera comprobamos la proporción de cada valor."
   ]
  },
  {
   "cell_type": "code",
   "execution_count": 16,
   "metadata": {},
   "outputs": [
    {
     "data": {
      "text/plain": [
       "Andalucia     31.25\n",
       "Baleares      31.25\n",
       "País Vasco    12.50\n",
       "Madrid        12.50\n",
       "Barcelona      6.25\n",
       "Galicia        6.25\n",
       "Name: proportion, dtype: float64"
      ]
     },
     "execution_count": 16,
     "metadata": {},
     "output_type": "execute_result"
    }
   ],
   "source": [
    "pd.Series(vacaciones).value_counts(normalize=True)*100"
   ]
  },
  {
   "cell_type": "code",
   "execution_count": 17,
   "metadata": {},
   "outputs": [
    {
     "data": {
      "text/plain": [
       "Andalucia     0.3125\n",
       "Baleares      0.3125\n",
       "País Vasco    0.1250\n",
       "Madrid        0.1250\n",
       "Barcelona     0.0625\n",
       "Galicia       0.0625\n",
       "Name: proportion, dtype: float64"
      ]
     },
     "execution_count": 17,
     "metadata": {},
     "output_type": "execute_result"
    }
   ],
   "source": [
    "pd.Series(vacaciones).value_counts(normalize=True)"
   ]
  },
  {
   "attachments": {},
   "cell_type": "markdown",
   "metadata": {},
   "source": [
    "## Mediana - (Medidas de posición o tendencia central)\n",
    "La <a href=\"https://es.wikipedia.org/wiki/Mediana_(estad%C3%ADstica)\">mediana</a> es el valor que ocupa el lugar central de todos los datos cuando éstos están ordenados de menor a mayor. Se representa con $\\widetilde{x}$.\n",
    "\n",
    "**¿Cuándo usar media y cuándo usar mediana?** Si los datos están concentrados: media. Si son asimétricos, la mediana será más representativa de la centralidad.\n",
    "\n",
    "¿Cómo se calcula la mediana? Dado el siguiente vector:\n",
    "\n",
    "```Python\n",
    "x = [  4,  6,  2,  1,  7,  8, 11,  3]\n",
    "```\n",
    "\n",
    "Para calcular la mediana tendríamos que ordenar los datos, y escoger el valor que caiga justo en medio\n",
    "\n",
    "```Python\n",
    "x = [  4,  6,  2,  1,  7,  8, 11,  3]\n",
    "y = [  1,  2,  3,  4,  6,  7,  8, 11]\n",
    "```\n",
    "\n",
    "Si el conjunto fuese impar, lo tendríamos fácil. Pero como es par, elegimos la media entre los dos valores que caen en el centro (4 y 6 = 5).\n"
   ]
  },
  {
   "cell_type": "code",
   "execution_count": 18,
   "metadata": {},
   "outputs": [
    {
     "name": "stdout",
     "output_type": "stream",
     "text": [
      "[ 1  2  3  4  6  7  8 11 17]\n"
     ]
    },
    {
     "data": {
      "text/plain": [
       "6"
      ]
     },
     "execution_count": 18,
     "metadata": {},
     "output_type": "execute_result"
    }
   ],
   "source": [
    "# La mediana de nuestro conjunto x, será:\n",
    "x = [4,6,2,1,7,8,11,3,17]\n",
    "print (np.sort(x))\n",
    "statistics.median(x)"
   ]
  },
  {
   "cell_type": "code",
   "execution_count": 19,
   "metadata": {},
   "outputs": [],
   "source": [
    "#!pip install scipy"
   ]
  },
  {
   "cell_type": "code",
   "execution_count": 20,
   "metadata": {},
   "outputs": [
    {
     "data": {
      "application/vnd.microsoft.datawrangler.viewer.v0+json": {
       "columns": [
        {
         "name": "index",
         "rawType": "object",
         "type": "string"
        },
        {
         "name": "Poblacion",
         "rawType": "int64",
         "type": "integer"
        },
        {
         "name": "Superficie",
         "rawType": "int64",
         "type": "integer"
        }
       ],
       "conversionMethod": "pd.DataFrame",
       "ref": "e4017b1d-2a25-4f3d-8b19-f3d22b5ee899",
       "rows": [
        [
         "Madrid",
         "6685471",
         "8028"
        ],
        [
         "Galicia",
         "2698764",
         "29575"
        ],
        [
         "Murcia",
         "1494442",
         "11314"
        ],
        [
         "Andalucia",
         "8446561",
         "87599"
        ]
       ],
       "shape": {
        "columns": 2,
        "rows": 4
       }
      },
      "text/html": [
       "<div>\n",
       "<style scoped>\n",
       "    .dataframe tbody tr th:only-of-type {\n",
       "        vertical-align: middle;\n",
       "    }\n",
       "\n",
       "    .dataframe tbody tr th {\n",
       "        vertical-align: top;\n",
       "    }\n",
       "\n",
       "    .dataframe thead th {\n",
       "        text-align: right;\n",
       "    }\n",
       "</style>\n",
       "<table border=\"1\" class=\"dataframe\">\n",
       "  <thead>\n",
       "    <tr style=\"text-align: right;\">\n",
       "      <th></th>\n",
       "      <th>Poblacion</th>\n",
       "      <th>Superficie</th>\n",
       "    </tr>\n",
       "  </thead>\n",
       "  <tbody>\n",
       "    <tr>\n",
       "      <th>Madrid</th>\n",
       "      <td>6685471</td>\n",
       "      <td>8028</td>\n",
       "    </tr>\n",
       "    <tr>\n",
       "      <th>Galicia</th>\n",
       "      <td>2698764</td>\n",
       "      <td>29575</td>\n",
       "    </tr>\n",
       "    <tr>\n",
       "      <th>Murcia</th>\n",
       "      <td>1494442</td>\n",
       "      <td>11314</td>\n",
       "    </tr>\n",
       "    <tr>\n",
       "      <th>Andalucia</th>\n",
       "      <td>8446561</td>\n",
       "      <td>87599</td>\n",
       "    </tr>\n",
       "  </tbody>\n",
       "</table>\n",
       "</div>"
      ],
      "text/plain": [
       "           Poblacion  Superficie\n",
       "Madrid       6685471        8028\n",
       "Galicia      2698764       29575\n",
       "Murcia       1494442       11314\n",
       "Andalucia    8446561       87599"
      ]
     },
     "execution_count": 20,
     "metadata": {},
     "output_type": "execute_result"
    }
   ],
   "source": [
    "df"
   ]
  },
  {
   "cell_type": "code",
   "execution_count": 21,
   "metadata": {},
   "outputs": [
    {
     "name": "stdout",
     "output_type": "stream",
     "text": [
      "[ 8028 11314 29575 87599]\n"
     ]
    }
   ],
   "source": [
    "print(np.sort(df['Superficie'].values))   #la mediana es la suma de los dos valores inernos dividido entre 2"
   ]
  },
  {
   "cell_type": "code",
   "execution_count": 22,
   "metadata": {},
   "outputs": [
    {
     "data": {
      "text/plain": [
       "20444.5"
      ]
     },
     "execution_count": 22,
     "metadata": {},
     "output_type": "execute_result"
    }
   ],
   "source": [
    "(11314 + 29575)/2   #la mediana"
   ]
  },
  {
   "cell_type": "code",
   "execution_count": 23,
   "metadata": {},
   "outputs": [
    {
     "name": "stdout",
     "output_type": "stream",
     "text": [
      "Mediana de la población: 4692117.5\n",
      "Mediana de la superficie: 20444.5\n"
     ]
    }
   ],
   "source": [
    "# Para calcular la mediana\n",
    "media_p = df[\"Poblacion\"].median()\n",
    "print(\"Mediana de la población:\", round(media_p, 2))\n",
    "\n",
    "media_s = df[\"Superficie\"].median()\n",
    "print(\"Mediana de la superficie:\", round(media_s, 2))"
   ]
  },
  {
   "attachments": {},
   "cell_type": "markdown",
   "metadata": {},
   "source": [
    "### Histogramas\n",
    "Los histogramas son la mejor herramienta para ver la forma, dispersión y tendencia central de los datos. Nos dan la frecuencia de aparición de cada valor de los datos"
   ]
  },
  {
   "cell_type": "code",
   "execution_count": 24,
   "metadata": {},
   "outputs": [
    {
     "ename": "NameError",
     "evalue": "name 'stats' is not defined",
     "output_type": "error",
     "traceback": [
      "\u001b[31m---------------------------------------------------------------------------\u001b[39m",
      "\u001b[31mNameError\u001b[39m                                 Traceback (most recent call last)",
      "\u001b[36mCell\u001b[39m\u001b[36m \u001b[39m\u001b[32mIn[24]\u001b[39m\u001b[32m, line 8\u001b[39m\n\u001b[32m      6\u001b[39m datos_3 = np.random.normal(\u001b[32m90\u001b[39m, \u001b[32m40\u001b[39m, \u001b[32m2000\u001b[39m)\n\u001b[32m      7\u001b[39m datos_4 = np.random.lognormal(\u001b[32m3\u001b[39m, \u001b[32m1\u001b[39m, \u001b[32m2000\u001b[39m)\n\u001b[32m----> \u001b[39m\u001b[32m8\u001b[39m datos_5 = \u001b[43mstats\u001b[49m.gamma(\u001b[32m3\u001b[39m).rvs(\u001b[32m2000\u001b[39m)*\u001b[32m20\u001b[39m  \u001b[38;5;66;03m#la ultima es version gamma\u001b[39;00m\n\u001b[32m     11\u001b[39m \u001b[38;5;66;03m# We can set the number of bins with the `bins` kwarg\u001b[39;00m\n\u001b[32m     12\u001b[39m axs[\u001b[32m0\u001b[39m].hist(datos_1, bins = \u001b[32m40\u001b[39m)\n",
      "\u001b[31mNameError\u001b[39m: name 'stats' is not defined"
     ]
    },
    {
     "data": {
      "image/png": "[encoded data removed]",
      "text/plain": [
       "<Figure size 2000x480 with 5 Axes>"
      ]
     },
     "metadata": {},
     "output_type": "display_data"
    }
   ],
   "source": [
    "fig, axs = plt.subplots(1, 5, sharey=True)\n",
    "fig.set_figwidth(20)\n",
    "\n",
    "datos_1 = np.random.normal(100, 10, 2000)   #generame con al campana de gaus estas distribuciones\n",
    "datos_2 = np.random.normal(80, 30, 2000)\n",
    "datos_3 = np.random.normal(90, 40, 2000)\n",
    "datos_4 = np.random.lognormal(3, 1, 2000)\n",
    "datos_5 = stats.gamma(3).rvs(2000)*20  #la ultima es version gamma\n",
    "\n",
    "\n",
    "# We can set the number of bins with the `bins` kwarg\n",
    "axs[0].hist(datos_1, bins = 40)\n",
    "axs[1].hist(datos_2, bins = 20)\n",
    "axs[2].hist(datos_3, bins = 20)\n",
    "axs[3].hist(datos_4, bins = 20)\n",
    "axs[4].hist(datos_5, bins = 20)\n",
    "\n",
    "axs[0].set_xlim([-20, 170])\n",
    "axs[1].set_xlim([-20, 170])\n",
    "axs[2].set_xlim([-20, 170])\n",
    "axs[3].set_xlim([-20, 170])\n",
    "axs[4].set_xlim([-20, 170]);"
   ]
  },
  {
   "attachments": {},
   "cell_type": "markdown",
   "metadata": {},
   "source": [
    "### Función densidad de probabilidad\n",
    "Nos sirve para ver la forma que tiene una variable, así como la probabilidad de aparición de cada uno de sus valores. Este tipo de gráficos se utiliza para variables contínuas."
   ]
  },
  {
   "cell_type": "markdown",
   "metadata": {},
   "source": [
    "Puede ser útil para comprobar dos distribuciones. En ds histogramas , pidiendo el suavizado (la funcion de densidad de probabilidad) podemos \n",
    "compararlas \n"
   ]
  },
  {
   "cell_type": "code",
   "execution_count": null,
   "metadata": {},
   "outputs": [
    {
     "data": {
      "image/png": "[encoded data removed]",
      "text/plain": [
       "<Figure size 640x480 with 1 Axes>"
      ]
     },
     "metadata": {},
     "output_type": "display_data"
    }
   ],
   "source": [
    "sns.histplot(datos_5, bins=10); #datos 5 y 10 numeros de segmentos\n",
    "\n",
    "#cual seria de la distribucion teórica si tuvieramos infinitas observaciones. eso es para lo que se suele usar\n",
    "#la funcion de densidad de probabilidad"
   ]
  },
  {
   "cell_type": "code",
   "execution_count": null,
   "metadata": {},
   "outputs": [
    {
     "data": {
      "image/png": "[encoded data removed]",
      "text/plain": [
       "<Figure size 500x500 with 1 Axes>"
      ]
     },
     "metadata": {},
     "output_type": "display_data"
    }
   ],
   "source": [
    "sns.displot(datos_5, kind=\"kde\");  #aqui tenemos la funcion de densidad de probabilidad su sintaxis"
   ]
  },
  {
   "cell_type": "code",
   "execution_count": null,
   "metadata": {},
   "outputs": [
    {
     "data": {
      "image/png": "[encoded data removed]",
      "text/plain": [
       "<Figure size 640x480 with 1 Axes>"
      ]
     },
     "metadata": {},
     "output_type": "display_data"
    }
   ],
   "source": [
    "sns.boxplot(datos_5);  #otra frma de representar la densidad . La barra de abajo azul, es la mediana. La de arriba es 75% que cae por debajo\n",
    "#representa los percentiles. una forma de reprsentsr una distribución a tavés de 25, 50 y 75%.\n",
    "\n",
    "#tiene también los bigotes. (rango intercualrtil lo mismo por encima y debajo ) \n",
    "# #1,5 IQR llamado asi. Todo lo que quede fuera, son los valores extremos, outliers\n",
    "\n",
    "#rango intercuartil la distaniaente el 25 y el 75 %"
   ]
  },
  {
   "attachments": {},
   "cell_type": "markdown",
   "metadata": {},
   "source": [
    "## Percentiles y cuartiles - (Medidas de posición o tendencia central)\n",
    "### Percentil\n",
    "El percentil es el valor que divide un conjunto ordenado de datos estadísticos de forma que un porcentaje de tales datos sea inferior a dicho valor.\n",
    "\n",
    "**Teniendo la variable ordenada en sentido ascendente, el percentil representa el orden relativo de cada valor respecto al resto de variables.**\n",
    "\n",
    "Por ejemplo, si en una clase hay 100 alumnos, y en un examen solo tenemos 5 personas que hayan sacado mejor nota que nosotros, estaremos en el percentil 95%.\n",
    "\n",
    "![imagen](./img/percentil.png)"
   ]
  },
  {
   "attachments": {},
   "cell_type": "markdown",
   "metadata": {},
   "source": [
    "### Quartiles\n",
    "Los **[cuartiles](https://es.wikipedia.org/wiki/Cuartil)** son los tres valores de la variable estadística que dividen a un [conjunto de datos](https://es.wikipedia.org/wiki/Conjunto_de_datos) ordenados en cuatro partes iguales. Q1, Q2 y Q3 determinan los valores correspondientes a **los percentiles 25%, al 50% y al 75% de los datos**. Q2 coincide con la <a href=\"https://es.wikipedia.org/wiki/Mediana_(estad%C3%ADstica)\">mediana</a>.\n",
    "\n",
    "\n",
    "<img src=\"./img/Iqr_with_quantile.png\" width=\"500\" height=\"550\">"
   ]
  },
  {
   "cell_type": "code",
   "execution_count": null,
   "metadata": {},
   "outputs": [
    {
     "name": "stdout",
     "output_type": "stream",
     "text": [
      "[ 1  2  3  4  6  7  8 11 15]\n",
      "Valor del percentil 0: 1.0\n",
      "Valor del percentil 25: 3.0\n",
      "Valor del percentil 50: 6.0\n",
      "Valor del percentil 75: 8.0\n",
      "Valor del percentil 100: 15.0\n"
     ]
    }
   ],
   "source": [
    "'''\n",
    "x = [  4,  6,  2,  1,  7,  8, 11,  3, 15]\n",
    "y = [  1,  2,  3,  4,  6,  7,  8, 11, 15]\n",
    "'''\n",
    "\n",
    "import numpy as np\n",
    "x = np.array([  4,  6,  2,  1,  7,  8,  11,  3, 15])\n",
    "\n",
    "print(np.sort(x))\n",
    "\n",
    "p_0 = np.percentile(x, 0) #Q0 #Min\n",
    "p_25 = np.percentile(x, 25) #Q1\n",
    "p_50 = np.percentile(x, 50) #Q2 #Mediana\n",
    "p_75 = np.percentile(x, 75) #Q3\n",
    "p_100 = np.percentile(x, 100) #Q4 #Max\n",
    "\n",
    "print(\"Valor del percentil 0:\", p_0)\n",
    "print(\"Valor del percentil 25:\", p_25)\n",
    "print(\"Valor del percentil 50:\", p_50)\n",
    "print(\"Valor del percentil 75:\", p_75)\n",
    "print(\"Valor del percentil 100:\", p_100)"
   ]
  },
  {
   "cell_type": "code",
   "execution_count": null,
   "metadata": {},
   "outputs": [],
   "source": []
  },
  {
   "attachments": {},
   "cell_type": "markdown",
   "metadata": {},
   "source": [
    "###  Diagramas de caja\n",
    "Los [diagramas de cajas](https://es.wikipedia.org/wiki/Diagrama_de_caja) son una presentación visual que describe varias características importantes al mismo tiempo, tales como la dispersión y simetría. Para su realización se representan los tres cuartiles y los valores mínimo y máximo de los datos, sobre un rectángulo, alineado horizontal o verticalmente. Estos gráficos nos proporcionan abundante información y son sumamente útiles para encontrar [valores atípicos](https://es.wikipedia.org/wiki/Valor_at%C3%ADpico) y comparar dos [conjunto de datos](https://es.wikipedia.org/wiki/Conjunto_de_datos). \n",
    "\n",
    "Se define el **IQR** como el rango intercuartílico, calculado como la diferencia entre Q3 y Q1. Representa el 50% de los datos de la muestra.\n",
    "\n",
    "<img src=\"https://miro.medium.com/max/18000/1*2c21SkzJMf3frPXPAR_gZA.png\" width=\"500\" height=\"550\">\n"
   ]
  },
  {
   "cell_type": "code",
   "execution_count": null,
   "metadata": {},
   "outputs": [
    {
     "data": {
      "text/plain": [
       "2.625"
      ]
     },
     "execution_count": 24,
     "metadata": {},
     "output_type": "execute_result"
    }
   ],
   "source": [
    "6-1.5*2.25"
   ]
  },
  {
   "cell_type": "code",
   "execution_count": null,
   "metadata": {},
   "outputs": [
    {
     "data": {
      "image/png": "[encoded data removed]",
      "text/plain": [
       "<Figure size 1000x500 with 1 Axes>"
      ]
     },
     "metadata": {},
     "output_type": "display_data"
    }
   ],
   "source": [
    "notas = pd.DataFrame({\"Nota\": [7, 9, 8, 9, 9, 7, 8, 9, 7, 8, 5, 9, 7, 8, 8, 3, 2, 1, 3] +\n",
    "                              [4, 7, 2, 8, 5, 4, 4, 3, 6, 7, 5, 6, 4, 6, 7, 7, 5, 8, 5] ,\n",
    "                      \"Sexo\": ['M', 'M', 'M', 'M', 'M', 'M', 'M', 'M', 'M', 'M', 'M', 'M', 'M', 'M', 'M', 'M', 'M', 'M', 'M'] +\n",
    "                              ['H', 'H', 'H', 'H', 'H', 'H', 'H', 'H', 'H', 'H', 'H', 'H', 'H', 'H', 'H', 'H', 'H', 'H', 'H']})\n",
    "\n",
    "plt.figure(figsize=(10,5))\n",
    "sns.boxplot(x='Sexo', y='Nota', data=notas)\n",
    "plt.grid(True)\n",
    "plt.show()"
   ]
  },
  {
   "cell_type": "code",
   "execution_count": null,
   "metadata": {},
   "outputs": [
    {
     "data": {
      "image/png": "[encoded data removed]",
      "text/plain": [
       "<Figure size 900x600 with 1 Axes>"
      ]
     },
     "metadata": {},
     "output_type": "display_data"
    }
   ],
   "source": [
    "# Ejemplo de grafico de cajas en python\n",
    "# Media, desv est, numero muestras\n",
    "datos_1 = np.random.normal(100, 10, 2000)\n",
    "datos_2 = np.random.normal(80, 30, 2000)\n",
    "datos_3 = np.random.normal(90, 40, 2000)\n",
    "datos_4 = np.random.lognormal(3, 1, 2000)\n",
    "datos_5 = stats.gamma(3).rvs(2000)*20\n",
    "\n",
    "datos_graf = [datos_1, datos_2, datos_3, datos_4, datos_5]\n",
    "\n",
    "# Creando el objeto figura\n",
    "fig = plt.figure(1, figsize=(9, 6))\n",
    "\n",
    "# Creando el subgrafico\n",
    "ax = fig.add_subplot(111)\n",
    "\n",
    "# creando el grafico de cajas\n",
    "bp = ax.boxplot(datos_graf)\n",
    "\n",
    "# visualizar mas facile los atípicos\n",
    "for flier in bp['fliers']:\n",
    "    flier.set(marker='o', color='red', alpha=0.5)\n",
    "# los puntos aislados son valores atípicos"
   ]
  },
  {
   "cell_type": "code",
   "execution_count": null,
   "metadata": {},
   "outputs": [],
   "source": [
    "#representand distribuciones de forma sintética"
   ]
  },
  {
   "cell_type": "code",
   "execution_count": null,
   "metadata": {},
   "outputs": [
    {
     "data": {
      "image/png": "[encoded data removed]",
      "text/plain": [
       "<Figure size 2000x480 with 5 Axes>"
      ]
     },
     "metadata": {},
     "output_type": "display_data"
    }
   ],
   "source": [
    "fig, axs = plt.subplots(1, 5, sharey=True)\n",
    "fig.set_figwidth(20)\n",
    "\n",
    "# We can set the number of bins with the `bins` kwarg\n",
    "axs[0].hist(datos_1, bins = 20)\n",
    "axs[1].hist(datos_2, bins = 20)\n",
    "axs[2].hist(datos_3, bins = 20)\n",
    "axs[3].hist(datos_4, bins = 20)\n",
    "axs[4].hist(datos_5, bins = 20)\n",
    "\n",
    "axs[0].set_xlim([-20, 170])\n",
    "axs[1].set_xlim([-20, 170])\n",
    "axs[2].set_xlim([-20, 170])\n",
    "axs[3].set_xlim([-20, 170])\n",
    "axs[4].set_xlim([-20, 170]);"
   ]
  },
  {
   "attachments": {},
   "cell_type": "markdown",
   "metadata": {},
   "source": [
    "### Violin plots\n",
    "Grafica similar a los diagramas de caja, pero en este caso se incluye la función densidad de probabilidad para ver la concentración de valores de la variable."
   ]
  },
  {
   "cell_type": "code",
   "execution_count": null,
   "metadata": {},
   "outputs": [
    {
     "data": {
      "image/png": "[encoded data removed]",
      "text/plain": [
       "<Figure size 900x600 with 1 Axes>"
      ]
     },
     "metadata": {},
     "output_type": "display_data"
    }
   ],
   "source": [
    "datos_graf = [datos_1, datos_2, datos_3, datos_4, datos_5]\n",
    "\n",
    "# Creando el objeto figura\n",
    "fig = plt.figure(1, figsize=(9, 6))\n",
    "\n",
    "# Creando el subgrafico\n",
    "ax = fig.add_subplot(111)\n",
    "\n",
    "# creando el grafico de cajas\n",
    "bp = ax.violinplot(datos_graf)"
   ]
  },
  {
   "attachments": {},
   "cell_type": "markdown",
   "metadata": {},
   "source": [
    "## Outliers\n",
    "Un outlier es una observación anormal y extrema en una muestra estadística o serie temporal de datos que puede afectar potencialmente a la estimación de los parámetros del mismo.\n",
    "\n",
    "Se trata de datos que no son consistentes con el resto.\n",
    "\n",
    "Veamos un ejemplo de cómo afectan los outliers al análisis. Imaginemos que tenemos una muestra con alturas de los alumnos dentro de una clase"
   ]
  },
  {
   "cell_type": "code",
   "execution_count": null,
   "metadata": {},
   "outputs": [
    {
     "name": "stdout",
     "output_type": "stream",
     "text": [
      "Media de alturas: 1.737\n",
      "Maximo de alturas: 1.85\n",
      "Minimo de alturas: 1.62\n"
     ]
    }
   ],
   "source": [
    "alturas = [1.65, 1.80, 1.72, 1.68, 1.75, 1.85, 1.62, 1.79, 1.82, 1.69]\n",
    "\n",
    "print(\"Media de alturas:\", sum(alturas)/len(alturas))\n",
    "\n",
    "print(\"Maximo de alturas:\", max(alturas))\n",
    "\n",
    "print(\"Minimo de alturas:\", min(alturas))"
   ]
  },
  {
   "attachments": {},
   "cell_type": "markdown",
   "metadata": {},
   "source": [
    "La altura media cae aproximadamente a mitad del rango (1.735), lo cual tiene sentido al ser una medida de centralidad. Ahora imaginemos que se incorporan a la clase dos futuros NBA."
   ]
  },
  {
   "cell_type": "code",
   "execution_count": null,
   "metadata": {},
   "outputs": [
    {
     "name": "stdout",
     "output_type": "stream",
     "text": [
      "Media de alturas: 1.8141666666666667\n",
      "Maximo de alturas: 2.22\n",
      "Minimo de alturas: 1.62\n"
     ]
    }
   ],
   "source": [
    "alturas = [1.65, 1.80, 1.72, 1.68, 1.75, 1.85, 1.62, 1.79, 1.82, 1.69, 2.18, 2.22]\n",
    "\n",
    "print(\"Media de alturas:\", sum(alturas)/len(alturas))\n",
    "\n",
    "print(\"Maximo de alturas:\", max(alturas))\n",
    "\n",
    "print(\"Minimo de alturas:\", min(alturas))"
   ]
  },
  {
   "attachments": {},
   "cell_type": "markdown",
   "metadata": {},
   "source": [
    "Ahora la media difiere bastante de la mitad del rango (1.92), por lo que nos desvirtúa mucho el cálculo.\n",
    "\n",
    "**¿Qué hacemos con los outliers? No hay una regla para el tratamiento de los mismos**, pero podemos tomar las siguientes decisiones:\n",
    "\n",
    "* Mantenerlos\n",
    "* Eliminar si son valores erróneos\n",
    "* Eliminar si superan  1.5 * IQR\n",
    "* Aplicar transformaciones (se verá en feature engineering).\n",
    "* Discretizar la variable\n",
    "* Imputar el valor por otro nuevo (como los missings)\n",
    "* Tratar por separado como una nueva muestra (si se cuenta con el suficiente volumen)."
   ]
  },
  {
   "cell_type": "code",
   "execution_count": null,
   "metadata": {},
   "outputs": [
    {
     "data": {
      "image/png": "[encoded data removed]",
      "text/plain": [
       "<Figure size 640x480 with 1 Axes>"
      ]
     },
     "metadata": {},
     "output_type": "display_data"
    }
   ],
   "source": [
    "sns.boxplot(datos_5);"
   ]
  },
  {
   "attachments": {},
   "cell_type": "markdown",
   "metadata": {},
   "source": [
    "# Medidas de variabilidad o dispersión\n",
    "\n",
    "* **Desviación respecto a la media**: La desviación respecto a la media es la diferencia en valor absoluto entre cada valor de la variable estadística y la media aritmética.\n",
    "$$D_i = |x_i - \\mu|$$\n",
    "\n",
    "* **Máximo, mínimo y rango**\n",
    "\n",
    "* **Varianza**\n",
    "\n",
    "* **Desviación típica/estándar**"
   ]
  },
  {
   "attachments": {},
   "cell_type": "markdown",
   "metadata": {},
   "source": [
    "## Máximo, mínimo y rango - (Medidas de variabilidad o dispersión)"
   ]
  },
  {
   "cell_type": "code",
   "execution_count": null,
   "metadata": {},
   "outputs": [],
   "source": [
    "import pandas as pd\n",
    "import numpy as np"
   ]
  },
  {
   "cell_type": "code",
   "execution_count": null,
   "metadata": {},
   "outputs": [
    {
     "data": {
      "text/html": [
       "<div>\n",
       "<style scoped>\n",
       "    .dataframe tbody tr th:only-of-type {\n",
       "        vertical-align: middle;\n",
       "    }\n",
       "\n",
       "    .dataframe tbody tr th {\n",
       "        vertical-align: top;\n",
       "    }\n",
       "\n",
       "    .dataframe thead th {\n",
       "        text-align: right;\n",
       "    }\n",
       "</style>\n",
       "<table border=\"1\" class=\"dataframe\">\n",
       "  <thead>\n",
       "    <tr style=\"text-align: right;\">\n",
       "      <th></th>\n",
       "      <th>Altura</th>\n",
       "    </tr>\n",
       "  </thead>\n",
       "  <tbody>\n",
       "    <tr>\n",
       "      <th>0</th>\n",
       "      <td>1.65</td>\n",
       "    </tr>\n",
       "    <tr>\n",
       "      <th>1</th>\n",
       "      <td>1.80</td>\n",
       "    </tr>\n",
       "    <tr>\n",
       "      <th>2</th>\n",
       "      <td>1.72</td>\n",
       "    </tr>\n",
       "    <tr>\n",
       "      <th>3</th>\n",
       "      <td>1.68</td>\n",
       "    </tr>\n",
       "    <tr>\n",
       "      <th>4</th>\n",
       "      <td>1.75</td>\n",
       "    </tr>\n",
       "    <tr>\n",
       "      <th>5</th>\n",
       "      <td>1.85</td>\n",
       "    </tr>\n",
       "    <tr>\n",
       "      <th>6</th>\n",
       "      <td>1.62</td>\n",
       "    </tr>\n",
       "    <tr>\n",
       "      <th>7</th>\n",
       "      <td>1.79</td>\n",
       "    </tr>\n",
       "    <tr>\n",
       "      <th>8</th>\n",
       "      <td>1.82</td>\n",
       "    </tr>\n",
       "    <tr>\n",
       "      <th>9</th>\n",
       "      <td>1.69</td>\n",
       "    </tr>\n",
       "    <tr>\n",
       "      <th>10</th>\n",
       "      <td>2.18</td>\n",
       "    </tr>\n",
       "    <tr>\n",
       "      <th>11</th>\n",
       "      <td>2.22</td>\n",
       "    </tr>\n",
       "  </tbody>\n",
       "</table>\n",
       "</div>"
      ],
      "text/plain": [
       "    Altura\n",
       "0     1.65\n",
       "1     1.80\n",
       "2     1.72\n",
       "3     1.68\n",
       "4     1.75\n",
       "5     1.85\n",
       "6     1.62\n",
       "7     1.79\n",
       "8     1.82\n",
       "9     1.69\n",
       "10    2.18\n",
       "11    2.22"
      ]
     },
     "execution_count": 33,
     "metadata": {},
     "output_type": "execute_result"
    }
   ],
   "source": [
    "alturas = pd.DataFrame(alturas ,columns = [\"Altura\"])\n",
    "alturas"
   ]
  },
  {
   "cell_type": "code",
   "execution_count": null,
   "metadata": {},
   "outputs": [
    {
     "name": "stdout",
     "output_type": "stream",
     "text": [
      "2.22\n",
      "1.62\n",
      "0.6000000000000001\n"
     ]
    }
   ],
   "source": [
    "# Altura más alta\n",
    "print(alturas['Altura'].max())\n",
    "\n",
    "# Altura más baja\n",
    "print(alturas['Altura'].min())\n",
    "\n",
    "# Rango de las Altura\n",
    "print(alturas['Altura'].max() - alturas['Altura'].min())\n"
   ]
  },
  {
   "attachments": {},
   "cell_type": "markdown",
   "metadata": {},
   "source": [
    "## Varianza - (Medidas de variabilidad o dispersión)\n",
    "La [varianza](https://es.wikipedia.org/wiki/Varianza) es la media aritmética del cuadrado de las desviaciones respecto a la media de una distribución estadística. La varianza intenta describir la dispersión de los *[datos](https://es.wikipedia.org/wiki/Dato). Básicamente representa lo que varían los datos*. **Como está elevada al cuadrado, la varianza no puede tener las mismas unidades que los datos**. Una varianza elevada significa que los datos están más dispersos. Mientras que un valor bajo, indica que los datos están próximos a la media. Se representa como $\\sigma^2$. \n",
    "$$\\sigma^2 = \\frac{\\sum\\limits_{i=1}^n(x_i - \\mu)^2}{n} $$\n"
   ]
  },
  {
   "cell_type": "code",
   "execution_count": null,
   "metadata": {},
   "outputs": [
    {
     "name": "stdout",
     "output_type": "stream",
     "text": [
      "30.0\n",
      "30.0\n",
      "400.0\n",
      "1.0\n"
     ]
    }
   ],
   "source": [
    "edad_clase1 = [10,10,10,50,50,50]\n",
    "edad_clase2 = [29,29,29,31,31,31]\n",
    "\n",
    "print(np.mean(edad_clase1))\n",
    "print(np.mean(edad_clase2))\n",
    "\n",
    "print(np.var(edad_clase1))\n",
    "print(np.var(edad_clase2))"
   ]
  },
  {
   "cell_type": "code",
   "execution_count": null,
   "metadata": {},
   "outputs": [
    {
     "name": "stdout",
     "output_type": "stream",
     "text": [
      "Var chicos: 3.34\n",
      "Var chicas: 6.67\n"
     ]
    }
   ],
   "source": [
    "notas = pd.DataFrame({\"Nota\": [7, 9, 8, 9, 9, 7, 8, 9, 7, 8, 5, 9, 7, 8, 8, 3, 2, 1, 3] +\n",
    "                              [4, 7, 2, 8, 5, 4, 2, 3, 6, 7, 5, 6, 4, 6, 7, 7, 5, 8, 5] ,\n",
    "                      \"Sexo\": ['M', 'M', 'M', 'M', 'M', 'M', 'M', 'M', 'M', 'M', 'M', 'M', 'M', 'M', 'M', 'M', 'M', 'M', 'M'] +\n",
    "                              ['H', 'H', 'H', 'H', 'H', 'H', 'H', 'H', 'H', 'H', 'H', 'H', 'H', 'H', 'H', 'H', 'H', 'H', 'H']})\n",
    "\n",
    "chicos = notas[notas[\"Sexo\"] == 'H'][\"Nota\"]\n",
    "chicas = notas[notas[\"Sexo\"] == 'M'][\"Nota\"]\n",
    "\n",
    "print(\"Var chicos:\", round(chicos.var(), 2))\n",
    "print(\"Var chicas:\", round(chicas.var(), 2))"
   ]
  },
  {
   "attachments": {},
   "cell_type": "markdown",
   "metadata": {},
   "source": [
    "## Desviación estándar - (Medidas de variabilidad o dispersión)\n",
    "\n",
    "La [desviación típica](https://es.wikipedia.org/wiki/Desviaci%C3%B3n_t%C3%ADpica) es la raíz cuadrada de la varianza. Se representa con la letra griega $\\sigma$.\n",
    "$$\\sigma = \\sqrt{\\frac{\\sum\\limits_{i=1}^n(x_i - \\mu)^2}{n}} $$\n",
    "\n",
    "Una ventaja que presenta la desviación estándar sobre la varianza es que se expresa en unidades de la variable en cuestión."
   ]
  },
  {
   "cell_type": "code",
   "execution_count": null,
   "metadata": {},
   "outputs": [
    {
     "name": "stdout",
     "output_type": "stream",
     "text": [
      "5.315789473684211\n",
      "6.684210526315789\n",
      "8.0\n"
     ]
    }
   ],
   "source": [
    "print(chicos.mean())\n",
    "print(chicas.mean())\n",
    "print(chicas.median())"
   ]
  },
  {
   "cell_type": "code",
   "execution_count": null,
   "metadata": {},
   "outputs": [
    {
     "data": {
      "text/plain": [
       "np.float64(2.58)"
      ]
     },
     "execution_count": 38,
     "metadata": {},
     "output_type": "execute_result"
    }
   ],
   "source": [
    "round(np.sqrt(6.67), 2)"
   ]
  },
  {
   "cell_type": "code",
   "execution_count": null,
   "metadata": {},
   "outputs": [
    {
     "name": "stdout",
     "output_type": "stream",
     "text": [
      "Desviacion estandar chicos: 1.83\n",
      "Desviacion estandar chicas: 2.58\n"
     ]
    }
   ],
   "source": [
    "print(\"Desviacion estandar chicos:\", round(chicos.std(), 2))\n",
    "print(\"Desviacion estandar chicas:\", round(chicas.std(), 2))"
   ]
  },
  {
   "cell_type": "code",
   "execution_count": null,
   "metadata": {},
   "outputs": [],
   "source": [
    "# Comprobando si se cumple propiedad de distribución normal\n",
    "# chicos.mean() + chicos.std()\n",
    "# chicos.mean() - chicos.std()\n",
    "# len(chicos[(chicos > 3.49) & (chicos < 7.14)]) / len(chicos)"
   ]
  },
  {
   "cell_type": "code",
   "execution_count": null,
   "metadata": {},
   "outputs": [
    {
     "name": "stderr",
     "output_type": "stream",
     "text": [
      "C:\\Users\\hegoi\\AppData\\Local\\Temp\\ipykernel_20976\\523787785.py:4: UserWarning: \n",
      "\n",
      "`distplot` is a deprecated function and will be removed in seaborn v0.14.0.\n",
      "\n",
      "Please adapt your code to use either `displot` (a figure-level function with\n",
      "similar flexibility) or `histplot` (an axes-level function for histograms).\n",
      "\n",
      "For a guide to updating your code to use the new functions, please see\n",
      "https://gist.github.com/mwaskom/de44147ed2974457ad6372750bbe5751\n",
      "\n",
      "  sns.distplot(chicos, color=\"dodgerblue\", label=\"Chicos\")\n",
      "C:\\Users\\hegoi\\AppData\\Local\\Temp\\ipykernel_20976\\523787785.py:5: UserWarning: \n",
      "\n",
      "`distplot` is a deprecated function and will be removed in seaborn v0.14.0.\n",
      "\n",
      "Please adapt your code to use either `displot` (a figure-level function with\n",
      "similar flexibility) or `histplot` (an axes-level function for histograms).\n",
      "\n",
      "For a guide to updating your code to use the new functions, please see\n",
      "https://gist.github.com/mwaskom/de44147ed2974457ad6372750bbe5751\n",
      "\n",
      "  sns.distplot(chicas, color=\"orange\", label=\"Chicas\")\n"
     ]
    },
    {
     "data": {
      "image/png": "[encoded data removed]",
      "text/plain": [
       "<Figure size 640x480 with 1 Axes>"
      ]
     },
     "metadata": {},
     "output_type": "display_data"
    }
   ],
   "source": [
    "#sns.distplot(notas, x=\"Nota\", hue=\"Sexo\")\n",
    "\n",
    "plt.figure()\n",
    "sns.distplot(chicos, color=\"dodgerblue\", label=\"Chicos\")\n",
    "sns.distplot(chicas, color=\"orange\", label=\"Chicas\")\n",
    "plt.legend();"
   ]
  },
  {
   "attachments": {},
   "cell_type": "markdown",
   "metadata": {},
   "source": [
    "Una cuestión que se podría plantear, y con razón, sería **la diferencia entre varianza y desviación típica. En realidad, vienen a medir lo mismo. La varianza es la desviación típica elevada al cuadrado. O al revés, la desviación típica es la raíz cuadrada de la varianza.**\n",
    "\n",
    "La desviación típica se hace para poder trabajar en las unidades de medida iniciales. Claro que, como es normal, uno puede preguntarse, ¿de qué sirve tener como concepto la varianza? Bien, aunque la interpretación del valor que arroja no nos da demasiada información, su cálculo es necesario para obtener el valor de otros parámetros."
   ]
  },
  {
   "attachments": {},
   "cell_type": "markdown",
   "metadata": {},
   "source": [
    "# Medidas de forma\n",
    "\n",
    "* **Asimetría**\n",
    "* **Curtosis**\n",
    "\n",
    "#### Asimetría - (Medidas de forma)\n",
    "La asimetría es la medida que indica la simetría de la distribución de una variable respecto a la media aritmética, sin necesidad de hacer la representación gráfica. Los coeficientes de asimetría indican si hay el mismo número de elementos a izquierda y derecha de la media.\n",
    "\n",
    "Existen tres tipos de curva de distribución según su asimetría:\n",
    "\n",
    "* **Asimetría negativa**: la cola de la distribución se alarga para valores inferiores a la media.\n",
    "* **Simétrica**: hay el mismo número de elementos a izquierda y derecha de la media. En este caso, coinciden la media, la mediana y la moda. La distribución se adapta a la forma de la campana de Gauss, o distribución normal.\n",
    "* **Asimetría positiva**: la cola de la distribución se alarga (a la derecha) para valores superiores a la media.\n",
    "\n",
    "Para medir la asimetría de una distribución se calcula el coeficiente de asimetría de Fisher\n",
    "\n",
    "![imagen](./img/caf.png)\n",
    "\n",
    "El coeficiente de asimetría nos indica lo siguiente:\n",
    "* CAF > 0: distribución con asimetría positivo\n",
    "* CAF = 0: distribución simétrica\n",
    "* CAF < 0: distribución con asimetría negativo\n",
    "\n",
    "![imagen](./img/tipos-asimetria.png)\n",
    "\n",
    "¿Cómo calculamos la asimetría(skewness) en Python?"
   ]
  },
  {
   "cell_type": "code",
   "execution_count": null,
   "metadata": {},
   "outputs": [
    {
     "name": "stdout",
     "output_type": "stream",
     "text": [
      "Asim chicos: -0.31374243035607646\n",
      "Asim chicas: -1.0518128621792717\n"
     ]
    }
   ],
   "source": [
    "asim_chicos = stats.skew(chicos)\n",
    "asim_chicas = stats.skew(chicas)\n",
    "\n",
    "print(\"Asim chicos:\", asim_chicos)\n",
    "print(\"Asim chicas:\", asim_chicas)"
   ]
  },
  {
   "cell_type": "code",
   "execution_count": null,
   "metadata": {},
   "outputs": [
    {
     "name": "stdout",
     "output_type": "stream",
     "text": [
      "Asimetría para una distribucion gamma: 1.16\n"
     ]
    },
    {
     "data": {
      "image/png": "[encoded data removed]",
      "text/plain": [
       "<Figure size 640x480 with 1 Axes>"
      ]
     },
     "metadata": {},
     "output_type": "display_data"
    }
   ],
   "source": [
    "# Dibujando la distribucion Gamma\n",
    "x = stats.gamma(3).rvs(5000)\n",
    "print(\"Asimetría para una distribucion gamma:\", round(stats.skew(x), 2))\n",
    "gamma = plt.hist(x, 70, histtype=\"stepfilled\", alpha=.7);"
   ]
  },
  {
   "cell_type": "code",
   "execution_count": null,
   "metadata": {},
   "outputs": [
    {
     "name": "stdout",
     "output_type": "stream",
     "text": [
      "Asimetría para una distribucion normal: -0.02\n"
     ]
    },
    {
     "data": {
      "image/png": "[encoded data removed]",
      "text/plain": [
       "<Figure size 640x480 with 1 Axes>"
      ]
     },
     "metadata": {},
     "output_type": "display_data"
    }
   ],
   "source": [
    "# Asimetria para una distribucion normal\n",
    "mu, sigma = 0, 0.1 # media y desvio estandar\n",
    "s = np.random.normal(mu, sigma, 1000) #creando muestra de datos\n",
    "print(\"Asimetría para una distribucion normal:\", round(stats.skew(s), 2))\n",
    "normal = plt.hist(s, 70, histtype=\"stepfilled\", alpha=.7);"
   ]
  },
  {
   "attachments": {},
   "cell_type": "markdown",
   "metadata": {},
   "source": [
    "#### Curtosis - (Medidas de forma)\n",
    "La curtosis (o apuntamiento) es una medida de forma que mide cuán escarpada o achatada está una curva o distribución.\n",
    "\n",
    "Este coeficiente indica la cantidad de datos que hay cercanos a la media, de manera que a mayor grado de curtosis, más escarpada (o apuntada) será la forma de la curva.\n",
    "\n",
    "Existen algunas variables que presentan un mayor grado de concentración (menor dispersión) de los valores en torno a su media y otras, por el contrario, presentan un menor grado de concentración (mayor dispersión) de sus valores en torno a su valor central. Por tanto, la curtosis nos informa de lo apuntada (mayor concentración) o lo achatada (menor concentración) que es una distribución.\n",
    "\n",
    "![imagen](./img/curtosis.jpg)\n"
   ]
  },
  {
   "cell_type": "code",
   "execution_count": null,
   "metadata": {},
   "outputs": [
    {
     "data": {
      "text/plain": [
       "<Axes: ylabel='Count'>"
      ]
     },
     "execution_count": 45,
     "metadata": {},
     "output_type": "execute_result"
    },
    {
     "data": {
      "image/png": "[encoded data removed]",
      "text/plain": [
       "<Figure size 640x480 with 1 Axes>"
      ]
     },
     "metadata": {},
     "output_type": "display_data"
    }
   ],
   "source": [
    "datos_1 = np.random.normal(0, 1, 200)\n",
    "sns.histplot(datos_1, bins = 10)"
   ]
  },
  {
   "cell_type": "code",
   "execution_count": null,
   "metadata": {},
   "outputs": [
    {
     "data": {
      "text/plain": [
       "np.float64(0.12315804528671537)"
      ]
     },
     "execution_count": 46,
     "metadata": {},
     "output_type": "execute_result"
    }
   ],
   "source": [
    "stats.kurtosis(datos_1)"
   ]
  },
  {
   "attachments": {},
   "cell_type": "markdown",
   "metadata": {},
   "source": [
    "# Análisis bivariante\n",
    "El objetivo de este análisis es:\n",
    "* ¿Hay relación entre las variables?\n",
    "* ¿De qué tipo es?\n",
    "* ¿Se puede cuantificar?\n",
    "\n",
    "### Correlación\n",
    "La [correlación](https://es.wikipedia.org/wiki/Correlaci%C3%B3n) trata de establecer la relación o **dependencia que existe entre las dos variables que intervienen en una distribución bidimensional**. Es decir, determinar si los cambios en una de las variables influyen en los cambios de la otra. En caso de que suceda, diremos que las variables están correlacionadas o que hay correlación entre ellas. La correlación es **positiva** cuando los valores de las variables aumenta juntos; y es **negativa** cuando un valor de una variable se reduce cuando el valor de la otra variable aumenta.\n",
    "\n",
    "![imagen](./img/correlacion.png)\n",
    "\n",
    "Lo comunmente conocido como correlación es realmente el coeficiente de correlación de Pearson, que se calcula con la siguiente fórmula:\n",
    "\n",
    "![imagen](./img/coef_corr.png)\n",
    "\n",
    "Por suerte el coeficiente de correlación de Pearson está normalizado y se puede interpretar de manera sencilla:\n",
    "\n",
    "* Si r = 1, existe una correlación positiva perfecta. El índice indica una dependencia total entre las dos variables denominada relación directa: cuando una de ellas aumenta, la otra también lo hace en proporción constante.\n",
    "* Si 0 < r < 1, existe una correlación positiva.\n",
    "* Si r = 0, no existe relación lineal. Pero esto no necesariamente implica que las variables son independientes: pueden existir todavía relaciones no lineales entre las dos variables.\n",
    "* Si -1 < r < 0, existe una correlación negativa.\n",
    "* Si r = -1, existe una correlación negativa perfecta. El índice indica una dependencia total entre las dos variables llamada relación inversa: cuando una de ellas aumenta, la otra disminuye en proporción constante."
   ]
  },
  {
   "attachments": {},
   "cell_type": "markdown",
   "metadata": {},
   "source": [
    "\n",
    "Por tanto, a efectos prácticos, el rango de valores del coeficiente va de [-1, 1]. Cuanto más cercano a 1, mayor es la relación lineal creciente entre las variables, lo mismo con -1, pero decreciente. Y cuanto más cercano a 0, más independientes son las variables.\n",
    "\n",
    "Veamos un ejemplo con la distancia recorrida vs gasolina gastada"
   ]
  },
  {
   "cell_type": "code",
   "execution_count": 28,
   "metadata": {},
   "outputs": [],
   "source": [
    "import numpy as np\n",
    "import seaborn as sns"
   ]
  },
  {
   "cell_type": "code",
   "execution_count": 27,
   "metadata": {},
   "outputs": [
    {
     "data": {
      "text/plain": [
       "array([[1.        , 0.97082448],\n",
       "       [0.97082448, 1.        ]])"
      ]
     },
     "execution_count": 27,
     "metadata": {},
     "output_type": "execute_result"
    }
   ],
   "source": [
    "distancia = np.array([100, 150, 125, 150, 170, 210, 220, 240, 255, 270, 300, 333, 340,349, 356, 400, 425, 434, 478, 532, 529])\n",
    "gasolina = np.array([22, 20, 22,33, 25, 31,37, 32, 36, 41, 44, 50,39, 45, 55, 53, 57, 60, 66, 68, 69])\n",
    "\n",
    "np.corrcoef(distancia, gasolina)"
   ]
  },
  {
   "cell_type": "code",
   "execution_count": 29,
   "metadata": {},
   "outputs": [
    {
     "data": {
      "image/png": "[encoded data removed]",
      "text/plain": [
       "<Figure size 640x480 with 1 Axes>"
      ]
     },
     "metadata": {},
     "output_type": "display_data"
    }
   ],
   "source": [
    "sns.scatterplot(x = distancia, y = gasolina);"
   ]
  },
  {
   "attachments": {},
   "cell_type": "markdown",
   "metadata": {},
   "source": [
    "Comprobemos ahora para dos variables con una dependencia lineal inversa. Peso de un coche vs velocidad"
   ]
  },
  {
   "cell_type": "code",
   "execution_count": 30,
   "metadata": {},
   "outputs": [
    {
     "data": {
      "text/plain": [
       "array([[ 1.       , -0.9837468],\n",
       "       [-0.9837468,  1.       ]])"
      ]
     },
     "execution_count": 30,
     "metadata": {},
     "output_type": "execute_result"
    }
   ],
   "source": [
    "peso = np.array([1500, 1200, 1700, 1800, 1100, 2000, 2200])\n",
    "velocidad = np.array([190, 200, 180, 175, 220, 160, 150])\n",
    "\n",
    "np.corrcoef(peso, velocidad)"
   ]
  },
  {
   "cell_type": "code",
   "execution_count": null,
   "metadata": {},
   "outputs": [
    {
     "data": {
      "image/png": "[encoded data removed]",
      "text/plain": [
       "<Figure size 640x480 with 1 Axes>"
      ]
     },
     "metadata": {},
     "output_type": "display_data"
    }
   ],
   "source": [
    "sns.scatterplot(x=peso, y=velocidad);"
   ]
  },
  {
   "attachments": {},
   "cell_type": "markdown",
   "metadata": {},
   "source": [
    "Y ahora dos variables que no se parecen en nada."
   ]
  },
  {
   "cell_type": "code",
   "execution_count": null,
   "metadata": {},
   "outputs": [
    {
     "data": {
      "text/plain": [
       "array([[1.        , 0.03043268],\n",
       "       [0.03043268, 1.        ]])"
      ]
     },
     "execution_count": 52,
     "metadata": {},
     "output_type": "execute_result"
    }
   ],
   "source": [
    "# Horas examen teleco\n",
    "horas = np.array([30, 50, 25, 67, 110, 43])\n",
    "calif = np.array([3, 6, 1, 1, 3, 4])\n",
    "\n",
    "np.corrcoef(horas, calif)"
   ]
  },
  {
   "cell_type": "code",
   "execution_count": null,
   "metadata": {},
   "outputs": [
    {
     "data": {
      "image/png": "[encoded data removed]",
      "text/plain": [
       "<Figure size 640x480 with 1 Axes>"
      ]
     },
     "metadata": {},
     "output_type": "display_data"
    }
   ],
   "source": [
    "sns.scatterplot(x = horas, y = calif);"
   ]
  },
  {
   "attachments": {},
   "cell_type": "markdown",
   "metadata": {},
   "source": [
    "## Análisis multivariante"
   ]
  },
  {
   "attachments": {},
   "cell_type": "markdown",
   "metadata": {},
   "source": [
    "Para este ejemplo usaremos el [dataset de boston](https://scikit-learn.org/stable/datasets/index.html#boston-house-prices-dataset), incluido en el paquete de `sklearn` (deprecated)"
   ]
  },
  {
   "cell_type": "code",
   "execution_count": 31,
   "metadata": {},
   "outputs": [],
   "source": [
    "import pandas as pd"
   ]
  },
  {
   "cell_type": "code",
   "execution_count": 32,
   "metadata": {},
   "outputs": [
    {
     "data": {
      "application/vnd.microsoft.datawrangler.viewer.v0+json": {
       "columns": [
        {
         "name": "index",
         "rawType": "int64",
         "type": "integer"
        },
        {
         "name": "CRIM",
         "rawType": "float64",
         "type": "float"
        },
        {
         "name": "ZN",
         "rawType": "float64",
         "type": "float"
        },
        {
         "name": "INDUS",
         "rawType": "float64",
         "type": "float"
        },
        {
         "name": "CHAS",
         "rawType": "int64",
         "type": "integer"
        },
        {
         "name": "NOX",
         "rawType": "float64",
         "type": "float"
        },
        {
         "name": "RM",
         "rawType": "float64",
         "type": "float"
        },
        {
         "name": "AGE",
         "rawType": "float64",
         "type": "float"
        },
        {
         "name": "DIS",
         "rawType": "float64",
         "type": "float"
        },
        {
         "name": "RAD",
         "rawType": "int64",
         "type": "integer"
        },
        {
         "name": "TAX",
         "rawType": "int64",
         "type": "integer"
        },
        {
         "name": "PTRATIO",
         "rawType": "float64",
         "type": "float"
        },
        {
         "name": "B",
         "rawType": "float64",
         "type": "float"
        },
        {
         "name": "LSTAT",
         "rawType": "float64",
         "type": "float"
        },
        {
         "name": "MEDV",
         "rawType": "float64",
         "type": "float"
        }
       ],
       "conversionMethod": "pd.DataFrame",
       "ref": "75f24453-0acc-4115-b012-85404559ada6",
       "rows": [
        [
         "0",
         "0.00632",
         "18.0",
         "2.31",
         "0",
         "0.538",
         "6.575",
         "65.2",
         "4.09",
         "1",
         "296",
         "15.3",
         "396.9",
         "4.98",
         "24.0"
        ],
        [
         "1",
         "0.02731",
         "0.0",
         "7.07",
         "0",
         "0.469",
         "6.421",
         "78.9",
         "4.9671",
         "2",
         "242",
         "17.8",
         "396.9",
         "9.14",
         "21.6"
        ],
        [
         "2",
         "0.02729",
         "0.0",
         "7.07",
         "0",
         "0.469",
         "7.185",
         "61.1",
         "4.9671",
         "2",
         "242",
         "17.8",
         "392.83",
         "4.03",
         "34.7"
        ],
        [
         "3",
         "0.03237",
         "0.0",
         "2.18",
         "0",
         "0.458",
         "6.998",
         "45.8",
         "6.0622",
         "3",
         "222",
         "18.7",
         "394.63",
         "2.94",
         "33.4"
        ],
        [
         "4",
         "0.06905",
         "0.0",
         "2.18",
         "0",
         "0.458",
         "7.147",
         "54.2",
         "6.0622",
         "3",
         "222",
         "18.7",
         "396.9",
         "5.33",
         "36.2"
        ],
        [
         "5",
         "0.02985",
         "0.0",
         "2.18",
         "0",
         "0.458",
         "6.43",
         "58.7",
         "6.0622",
         "3",
         "222",
         "18.7",
         "394.12",
         "5.21",
         "28.7"
        ],
        [
         "6",
         "0.08829",
         "12.5",
         "7.87",
         "0",
         "0.524",
         "6.012",
         "66.6",
         "5.5605",
         "5",
         "311",
         "15.2",
         "395.6",
         "12.43",
         "22.9"
        ],
        [
         "7",
         "0.14455",
         "12.5",
         "7.87",
         "0",
         "0.524",
         "6.172",
         "96.1",
         "5.9505",
         "5",
         "311",
         "15.2",
         "396.9",
         "19.15",
         "27.1"
        ],
        [
         "8",
         "0.21124",
         "12.5",
         "7.87",
         "0",
         "0.524",
         "5.631",
         "100.0",
         "6.0821",
         "5",
         "311",
         "15.2",
         "386.63",
         "29.93",
         "16.5"
        ],
        [
         "9",
         "0.17004",
         "12.5",
         "7.87",
         "0",
         "0.524",
         "6.004",
         "85.9",
         "6.5921",
         "5",
         "311",
         "15.2",
         "386.71",
         "17.1",
         "18.9"
        ],
        [
         "10",
         "0.22489",
         "12.5",
         "7.87",
         "0",
         "0.524",
         "6.377",
         "94.3",
         "6.3467",
         "5",
         "311",
         "15.2",
         "392.52",
         "20.45",
         "15.0"
        ],
        [
         "11",
         "0.11747",
         "12.5",
         "7.87",
         "0",
         "0.524",
         "6.009",
         "82.9",
         "6.2267",
         "5",
         "311",
         "15.2",
         "396.9",
         "13.27",
         "18.9"
        ],
        [
         "12",
         "0.09378",
         "12.5",
         "7.87",
         "0",
         "0.524",
         "5.889",
         "39.0",
         "5.4509",
         "5",
         "311",
         "15.2",
         "390.5",
         "15.71",
         "21.7"
        ],
        [
         "13",
         "0.62976",
         "0.0",
         "8.14",
         "0",
         "0.538",
         "5.949",
         "61.8",
         "4.7075",
         "4",
         "307",
         "21.0",
         "396.9",
         "8.26",
         "20.4"
        ],
        [
         "14",
         "0.63796",
         "0.0",
         "8.14",
         "0",
         "0.538",
         "6.096",
         "84.5",
         "4.4619",
         "4",
         "307",
         "21.0",
         "380.02",
         "10.26",
         "18.2"
        ],
        [
         "15",
         "0.62739",
         "0.0",
         "8.14",
         "0",
         "0.538",
         "5.834",
         "56.5",
         "4.4986",
         "4",
         "307",
         "21.0",
         "395.62",
         "8.47",
         "19.9"
        ],
        [
         "16",
         "1.05393",
         "0.0",
         "8.14",
         "0",
         "0.538",
         "5.935",
         "29.3",
         "4.4986",
         "4",
         "307",
         "21.0",
         "386.85",
         "6.58",
         "23.1"
        ],
        [
         "17",
         "0.7842",
         "0.0",
         "8.14",
         "0",
         "0.538",
         "5.99",
         "81.7",
         "4.2579",
         "4",
         "307",
         "21.0",
         "386.75",
         "14.67",
         "17.5"
        ],
        [
         "18",
         "0.80271",
         "0.0",
         "8.14",
         "0",
         "0.538",
         "5.456",
         "36.6",
         "3.7965",
         "4",
         "307",
         "21.0",
         "288.99",
         "11.69",
         "20.2"
        ],
        [
         "19",
         "0.7258",
         "0.0",
         "8.14",
         "0",
         "0.538",
         "5.727",
         "69.5",
         "3.7965",
         "4",
         "307",
         "21.0",
         "390.95",
         "11.28",
         "18.2"
        ],
        [
         "20",
         "1.25179",
         "0.0",
         "8.14",
         "0",
         "0.538",
         "5.57",
         "98.1",
         "3.7979",
         "4",
         "307",
         "21.0",
         "376.57",
         "21.02",
         "13.6"
        ],
        [
         "21",
         "0.85204",
         "0.0",
         "8.14",
         "0",
         "0.538",
         "5.965",
         "89.2",
         "4.0123",
         "4",
         "307",
         "21.0",
         "392.53",
         "13.83",
         "19.6"
        ],
        [
         "22",
         "1.23247",
         "0.0",
         "8.14",
         "0",
         "0.538",
         "6.142",
         "91.7",
         "3.9769",
         "4",
         "307",
         "21.0",
         "396.9",
         "18.72",
         "15.2"
        ],
        [
         "23",
         "0.98843",
         "0.0",
         "8.14",
         "0",
         "0.538",
         "5.813",
         "100.0",
         "4.0952",
         "4",
         "307",
         "21.0",
         "394.54",
         "19.88",
         "14.5"
        ],
        [
         "24",
         "0.75026",
         "0.0",
         "8.14",
         "0",
         "0.538",
         "5.924",
         "94.1",
         "4.3996",
         "4",
         "307",
         "21.0",
         "394.33",
         "16.3",
         "15.6"
        ],
        [
         "25",
         "0.84054",
         "0.0",
         "8.14",
         "0",
         "0.538",
         "5.599",
         "85.7",
         "4.4546",
         "4",
         "307",
         "21.0",
         "303.42",
         "16.51",
         "13.9"
        ],
        [
         "26",
         "0.67191",
         "0.0",
         "8.14",
         "0",
         "0.538",
         "5.813",
         "90.3",
         "4.682",
         "4",
         "307",
         "21.0",
         "376.88",
         "14.81",
         "16.6"
        ],
        [
         "27",
         "0.95577",
         "0.0",
         "8.14",
         "0",
         "0.538",
         "6.047",
         "88.8",
         "4.4534",
         "4",
         "307",
         "21.0",
         "306.38",
         "17.28",
         "14.8"
        ],
        [
         "28",
         "0.77299",
         "0.0",
         "8.14",
         "0",
         "0.538",
         "6.495",
         "94.4",
         "4.4547",
         "4",
         "307",
         "21.0",
         "387.94",
         "12.8",
         "18.4"
        ],
        [
         "29",
         "1.00245",
         "0.0",
         "8.14",
         "0",
         "0.538",
         "6.674",
         "87.3",
         "4.239",
         "4",
         "307",
         "21.0",
         "380.23",
         "11.98",
         "21.0"
        ],
        [
         "30",
         "1.13081",
         "0.0",
         "8.14",
         "0",
         "0.538",
         "5.713",
         "94.1",
         "4.233",
         "4",
         "307",
         "21.0",
         "360.17",
         "22.6",
         "12.7"
        ],
        [
         "31",
         "1.35472",
         "0.0",
         "8.14",
         "0",
         "0.538",
         "6.072",
         "100.0",
         "4.175",
         "4",
         "307",
         "21.0",
         "376.73",
         "13.04",
         "14.5"
        ],
        [
         "32",
         "1.38799",
         "0.0",
         "8.14",
         "0",
         "0.538",
         "5.95",
         "82.0",
         "3.99",
         "4",
         "307",
         "21.0",
         "232.6",
         "27.71",
         "13.2"
        ],
        [
         "33",
         "1.15172",
         "0.0",
         "8.14",
         "0",
         "0.538",
         "5.701",
         "95.0",
         "3.7872",
         "4",
         "307",
         "21.0",
         "358.77",
         "18.35",
         "13.1"
        ],
        [
         "34",
         "1.61282",
         "0.0",
         "8.14",
         "0",
         "0.538",
         "6.096",
         "96.9",
         "3.7598",
         "4",
         "307",
         "21.0",
         "248.31",
         "20.34",
         "13.5"
        ],
        [
         "35",
         "0.06417",
         "0.0",
         "5.96",
         "0",
         "0.499",
         "5.933",
         "68.2",
         "3.3603",
         "5",
         "279",
         "19.2",
         "396.9",
         "9.68",
         "18.9"
        ],
        [
         "36",
         "0.09744",
         "0.0",
         "5.96",
         "0",
         "0.499",
         "5.841",
         "61.4",
         "3.3779",
         "5",
         "279",
         "19.2",
         "377.56",
         "11.41",
         "20.0"
        ],
        [
         "37",
         "0.08014",
         "0.0",
         "5.96",
         "0",
         "0.499",
         "5.85",
         "41.5",
         "3.9342",
         "5",
         "279",
         "19.2",
         "396.9",
         "8.77",
         "21.0"
        ],
        [
         "38",
         "0.17505",
         "0.0",
         "5.96",
         "0",
         "0.499",
         "5.966",
         "30.2",
         "3.8473",
         "5",
         "279",
         "19.2",
         "393.43",
         "10.13",
         "24.7"
        ],
        [
         "39",
         "0.02763",
         "75.0",
         "2.95",
         "0",
         "0.428",
         "6.595",
         "21.8",
         "5.4011",
         "3",
         "252",
         "18.3",
         "395.63",
         "4.32",
         "30.8"
        ],
        [
         "40",
         "0.03359",
         "75.0",
         "2.95",
         "0",
         "0.428",
         "7.024",
         "15.8",
         "5.4011",
         "3",
         "252",
         "18.3",
         "395.62",
         "1.98",
         "34.9"
        ],
        [
         "41",
         "0.12744",
         "0.0",
         "6.91",
         "0",
         "0.448",
         "6.77",
         "2.9",
         "5.7209",
         "3",
         "233",
         "17.9",
         "385.41",
         "4.84",
         "26.6"
        ],
        [
         "42",
         "0.1415",
         "0.0",
         "6.91",
         "0",
         "0.448",
         "6.169",
         "6.6",
         "5.7209",
         "3",
         "233",
         "17.9",
         "383.37",
         "5.81",
         "25.3"
        ],
        [
         "43",
         "0.15936",
         "0.0",
         "6.91",
         "0",
         "0.448",
         "6.211",
         "6.5",
         "5.7209",
         "3",
         "233",
         "17.9",
         "394.46",
         "7.44",
         "24.7"
        ],
        [
         "44",
         "0.12269",
         "0.0",
         "6.91",
         "0",
         "0.448",
         "6.069",
         "40.0",
         "5.7209",
         "3",
         "233",
         "17.9",
         "389.39",
         "9.55",
         "21.2"
        ],
        [
         "45",
         "0.17142",
         "0.0",
         "6.91",
         "0",
         "0.448",
         "5.682",
         "33.8",
         "5.1004",
         "3",
         "233",
         "17.9",
         "396.9",
         "10.21",
         "19.3"
        ],
        [
         "46",
         "0.18836",
         "0.0",
         "6.91",
         "0",
         "0.448",
         "5.786",
         "33.3",
         "5.1004",
         "3",
         "233",
         "17.9",
         "396.9",
         "14.15",
         "20.0"
        ],
        [
         "47",
         "0.22927",
         "0.0",
         "6.91",
         "0",
         "0.448",
         "6.03",
         "85.5",
         "5.6894",
         "3",
         "233",
         "17.9",
         "392.74",
         "18.8",
         "16.6"
        ],
        [
         "48",
         "0.25387",
         "0.0",
         "6.91",
         "0",
         "0.448",
         "5.399",
         "95.3",
         "5.87",
         "3",
         "233",
         "17.9",
         "396.9",
         "30.81",
         "14.4"
        ],
        [
         "49",
         "0.21977",
         "0.0",
         "6.91",
         "0",
         "0.448",
         "5.602",
         "62.0",
         "6.0877",
         "3",
         "233",
         "17.9",
         "396.9",
         "16.2",
         "19.4"
        ]
       ],
       "shape": {
        "columns": 14,
        "rows": 506
       }
      },
      "text/html": [
       "<div>\n",
       "<style scoped>\n",
       "    .dataframe tbody tr th:only-of-type {\n",
       "        vertical-align: middle;\n",
       "    }\n",
       "\n",
       "    .dataframe tbody tr th {\n",
       "        vertical-align: top;\n",
       "    }\n",
       "\n",
       "    .dataframe thead th {\n",
       "        text-align: right;\n",
       "    }\n",
       "</style>\n",
       "<table border=\"1\" class=\"dataframe\">\n",
       "  <thead>\n",
       "    <tr style=\"text-align: right;\">\n",
       "      <th></th>\n",
       "      <th>CRIM</th>\n",
       "      <th>ZN</th>\n",
       "      <th>INDUS</th>\n",
       "      <th>CHAS</th>\n",
       "      <th>NOX</th>\n",
       "      <th>RM</th>\n",
       "      <th>AGE</th>\n",
       "      <th>DIS</th>\n",
       "      <th>RAD</th>\n",
       "      <th>TAX</th>\n",
       "      <th>PTRATIO</th>\n",
       "      <th>B</th>\n",
       "      <th>LSTAT</th>\n",
       "      <th>MEDV</th>\n",
       "    </tr>\n",
       "  </thead>\n",
       "  <tbody>\n",
       "    <tr>\n",
       "      <th>0</th>\n",
       "      <td>0.00632</td>\n",
       "      <td>18.0</td>\n",
       "      <td>2.31</td>\n",
       "      <td>0</td>\n",
       "      <td>0.538</td>\n",
       "      <td>6.575</td>\n",
       "      <td>65.2</td>\n",
       "      <td>4.0900</td>\n",
       "      <td>1</td>\n",
       "      <td>296</td>\n",
       "      <td>15.3</td>\n",
       "      <td>396.90</td>\n",
       "      <td>4.98</td>\n",
       "      <td>24.0</td>\n",
       "    </tr>\n",
       "    <tr>\n",
       "      <th>1</th>\n",
       "      <td>0.02731</td>\n",
       "      <td>0.0</td>\n",
       "      <td>7.07</td>\n",
       "      <td>0</td>\n",
       "      <td>0.469</td>\n",
       "      <td>6.421</td>\n",
       "      <td>78.9</td>\n",
       "      <td>4.9671</td>\n",
       "      <td>2</td>\n",
       "      <td>242</td>\n",
       "      <td>17.8</td>\n",
       "      <td>396.90</td>\n",
       "      <td>9.14</td>\n",
       "      <td>21.6</td>\n",
       "    </tr>\n",
       "    <tr>\n",
       "      <th>2</th>\n",
       "      <td>0.02729</td>\n",
       "      <td>0.0</td>\n",
       "      <td>7.07</td>\n",
       "      <td>0</td>\n",
       "      <td>0.469</td>\n",
       "      <td>7.185</td>\n",
       "      <td>61.1</td>\n",
       "      <td>4.9671</td>\n",
       "      <td>2</td>\n",
       "      <td>242</td>\n",
       "      <td>17.8</td>\n",
       "      <td>392.83</td>\n",
       "      <td>4.03</td>\n",
       "      <td>34.7</td>\n",
       "    </tr>\n",
       "    <tr>\n",
       "      <th>3</th>\n",
       "      <td>0.03237</td>\n",
       "      <td>0.0</td>\n",
       "      <td>2.18</td>\n",
       "      <td>0</td>\n",
       "      <td>0.458</td>\n",
       "      <td>6.998</td>\n",
       "      <td>45.8</td>\n",
       "      <td>6.0622</td>\n",
       "      <td>3</td>\n",
       "      <td>222</td>\n",
       "      <td>18.7</td>\n",
       "      <td>394.63</td>\n",
       "      <td>2.94</td>\n",
       "      <td>33.4</td>\n",
       "    </tr>\n",
       "    <tr>\n",
       "      <th>4</th>\n",
       "      <td>0.06905</td>\n",
       "      <td>0.0</td>\n",
       "      <td>2.18</td>\n",
       "      <td>0</td>\n",
       "      <td>0.458</td>\n",
       "      <td>7.147</td>\n",
       "      <td>54.2</td>\n",
       "      <td>6.0622</td>\n",
       "      <td>3</td>\n",
       "      <td>222</td>\n",
       "      <td>18.7</td>\n",
       "      <td>396.90</td>\n",
       "      <td>5.33</td>\n",
       "      <td>36.2</td>\n",
       "    </tr>\n",
       "    <tr>\n",
       "      <th>...</th>\n",
       "      <td>...</td>\n",
       "      <td>...</td>\n",
       "      <td>...</td>\n",
       "      <td>...</td>\n",
       "      <td>...</td>\n",
       "      <td>...</td>\n",
       "      <td>...</td>\n",
       "      <td>...</td>\n",
       "      <td>...</td>\n",
       "      <td>...</td>\n",
       "      <td>...</td>\n",
       "      <td>...</td>\n",
       "      <td>...</td>\n",
       "      <td>...</td>\n",
       "    </tr>\n",
       "    <tr>\n",
       "      <th>501</th>\n",
       "      <td>0.06263</td>\n",
       "      <td>0.0</td>\n",
       "      <td>11.93</td>\n",
       "      <td>0</td>\n",
       "      <td>0.573</td>\n",
       "      <td>6.593</td>\n",
       "      <td>69.1</td>\n",
       "      <td>2.4786</td>\n",
       "      <td>1</td>\n",
       "      <td>273</td>\n",
       "      <td>21.0</td>\n",
       "      <td>391.99</td>\n",
       "      <td>9.67</td>\n",
       "      <td>22.4</td>\n",
       "    </tr>\n",
       "    <tr>\n",
       "      <th>502</th>\n",
       "      <td>0.04527</td>\n",
       "      <td>0.0</td>\n",
       "      <td>11.93</td>\n",
       "      <td>0</td>\n",
       "      <td>0.573</td>\n",
       "      <td>6.120</td>\n",
       "      <td>76.7</td>\n",
       "      <td>2.2875</td>\n",
       "      <td>1</td>\n",
       "      <td>273</td>\n",
       "      <td>21.0</td>\n",
       "      <td>396.90</td>\n",
       "      <td>9.08</td>\n",
       "      <td>20.6</td>\n",
       "    </tr>\n",
       "    <tr>\n",
       "      <th>503</th>\n",
       "      <td>0.06076</td>\n",
       "      <td>0.0</td>\n",
       "      <td>11.93</td>\n",
       "      <td>0</td>\n",
       "      <td>0.573</td>\n",
       "      <td>6.976</td>\n",
       "      <td>91.0</td>\n",
       "      <td>2.1675</td>\n",
       "      <td>1</td>\n",
       "      <td>273</td>\n",
       "      <td>21.0</td>\n",
       "      <td>396.90</td>\n",
       "      <td>5.64</td>\n",
       "      <td>23.9</td>\n",
       "    </tr>\n",
       "    <tr>\n",
       "      <th>504</th>\n",
       "      <td>0.10959</td>\n",
       "      <td>0.0</td>\n",
       "      <td>11.93</td>\n",
       "      <td>0</td>\n",
       "      <td>0.573</td>\n",
       "      <td>6.794</td>\n",
       "      <td>89.3</td>\n",
       "      <td>2.3889</td>\n",
       "      <td>1</td>\n",
       "      <td>273</td>\n",
       "      <td>21.0</td>\n",
       "      <td>393.45</td>\n",
       "      <td>6.48</td>\n",
       "      <td>22.0</td>\n",
       "    </tr>\n",
       "    <tr>\n",
       "      <th>505</th>\n",
       "      <td>0.04741</td>\n",
       "      <td>0.0</td>\n",
       "      <td>11.93</td>\n",
       "      <td>0</td>\n",
       "      <td>0.573</td>\n",
       "      <td>6.030</td>\n",
       "      <td>80.8</td>\n",
       "      <td>2.5050</td>\n",
       "      <td>1</td>\n",
       "      <td>273</td>\n",
       "      <td>21.0</td>\n",
       "      <td>396.90</td>\n",
       "      <td>7.88</td>\n",
       "      <td>11.9</td>\n",
       "    </tr>\n",
       "  </tbody>\n",
       "</table>\n",
       "<p>506 rows × 14 columns</p>\n",
       "</div>"
      ],
      "text/plain": [
       "        CRIM    ZN  INDUS  CHAS    NOX     RM   AGE     DIS  RAD  TAX  \\\n",
       "0    0.00632  18.0   2.31     0  0.538  6.575  65.2  4.0900    1  296   \n",
       "1    0.02731   0.0   7.07     0  0.469  6.421  78.9  4.9671    2  242   \n",
       "2    0.02729   0.0   7.07     0  0.469  7.185  61.1  4.9671    2  242   \n",
       "3    0.03237   0.0   2.18     0  0.458  6.998  45.8  6.0622    3  222   \n",
       "4    0.06905   0.0   2.18     0  0.458  7.147  54.2  6.0622    3  222   \n",
       "..       ...   ...    ...   ...    ...    ...   ...     ...  ...  ...   \n",
       "501  0.06263   0.0  11.93     0  0.573  6.593  69.1  2.4786    1  273   \n",
       "502  0.04527   0.0  11.93     0  0.573  6.120  76.7  2.2875    1  273   \n",
       "503  0.06076   0.0  11.93     0  0.573  6.976  91.0  2.1675    1  273   \n",
       "504  0.10959   0.0  11.93     0  0.573  6.794  89.3  2.3889    1  273   \n",
       "505  0.04741   0.0  11.93     0  0.573  6.030  80.8  2.5050    1  273   \n",
       "\n",
       "     PTRATIO       B  LSTAT  MEDV  \n",
       "0       15.3  396.90   4.98  24.0  \n",
       "1       17.8  396.90   9.14  21.6  \n",
       "2       17.8  392.83   4.03  34.7  \n",
       "3       18.7  394.63   2.94  33.4  \n",
       "4       18.7  396.90   5.33  36.2  \n",
       "..       ...     ...    ...   ...  \n",
       "501     21.0  391.99   9.67  22.4  \n",
       "502     21.0  396.90   9.08  20.6  \n",
       "503     21.0  396.90   5.64  23.9  \n",
       "504     21.0  393.45   6.48  22.0  \n",
       "505     21.0  396.90   7.88  11.9  \n",
       "\n",
       "[506 rows x 14 columns]"
      ]
     },
     "execution_count": 32,
     "metadata": {},
     "output_type": "execute_result"
    }
   ],
   "source": [
    "boston_df = pd.read_csv(\"./data/boston_house_prices.csv\")\n",
    "boston_df"
   ]
  },
  {
   "attachments": {},
   "cell_type": "markdown",
   "metadata": {},
   "source": [
    "### Matriz de correlacion"
   ]
  },
  {
   "cell_type": "code",
   "execution_count": null,
   "metadata": {},
   "outputs": [
    {
     "data": {
      "text/html": [
       "<div>\n",
       "<style scoped>\n",
       "    .dataframe tbody tr th:only-of-type {\n",
       "        vertical-align: middle;\n",
       "    }\n",
       "\n",
       "    .dataframe tbody tr th {\n",
       "        vertical-align: top;\n",
       "    }\n",
       "\n",
       "    .dataframe thead th {\n",
       "        text-align: right;\n",
       "    }\n",
       "</style>\n",
       "<table border=\"1\" class=\"dataframe\">\n",
       "  <thead>\n",
       "    <tr style=\"text-align: right;\">\n",
       "      <th></th>\n",
       "      <th>CRIM</th>\n",
       "      <th>ZN</th>\n",
       "      <th>INDUS</th>\n",
       "      <th>CHAS</th>\n",
       "      <th>NOX</th>\n",
       "      <th>RM</th>\n",
       "      <th>AGE</th>\n",
       "      <th>DIS</th>\n",
       "      <th>RAD</th>\n",
       "      <th>TAX</th>\n",
       "      <th>PTRATIO</th>\n",
       "      <th>B</th>\n",
       "      <th>LSTAT</th>\n",
       "      <th>MEDV</th>\n",
       "    </tr>\n",
       "  </thead>\n",
       "  <tbody>\n",
       "    <tr>\n",
       "      <th>CRIM</th>\n",
       "      <td>1.000000</td>\n",
       "      <td>-0.200469</td>\n",
       "      <td>0.406583</td>\n",
       "      <td>-0.055892</td>\n",
       "      <td>0.420972</td>\n",
       "      <td>-0.219247</td>\n",
       "      <td>0.352734</td>\n",
       "      <td>-0.379670</td>\n",
       "      <td>0.625505</td>\n",
       "      <td>0.582764</td>\n",
       "      <td>0.289946</td>\n",
       "      <td>-0.385064</td>\n",
       "      <td>0.455621</td>\n",
       "      <td>-0.388305</td>\n",
       "    </tr>\n",
       "    <tr>\n",
       "      <th>ZN</th>\n",
       "      <td>-0.200469</td>\n",
       "      <td>1.000000</td>\n",
       "      <td>-0.533828</td>\n",
       "      <td>-0.042697</td>\n",
       "      <td>-0.516604</td>\n",
       "      <td>0.311991</td>\n",
       "      <td>-0.569537</td>\n",
       "      <td>0.664408</td>\n",
       "      <td>-0.311948</td>\n",
       "      <td>-0.314563</td>\n",
       "      <td>-0.391679</td>\n",
       "      <td>0.175520</td>\n",
       "      <td>-0.412995</td>\n",
       "      <td>0.360445</td>\n",
       "    </tr>\n",
       "    <tr>\n",
       "      <th>INDUS</th>\n",
       "      <td>0.406583</td>\n",
       "      <td>-0.533828</td>\n",
       "      <td>1.000000</td>\n",
       "      <td>0.062938</td>\n",
       "      <td>0.763651</td>\n",
       "      <td>-0.391676</td>\n",
       "      <td>0.644779</td>\n",
       "      <td>-0.708027</td>\n",
       "      <td>0.595129</td>\n",
       "      <td>0.720760</td>\n",
       "      <td>0.383248</td>\n",
       "      <td>-0.356977</td>\n",
       "      <td>0.603800</td>\n",
       "      <td>-0.483725</td>\n",
       "    </tr>\n",
       "    <tr>\n",
       "      <th>CHAS</th>\n",
       "      <td>-0.055892</td>\n",
       "      <td>-0.042697</td>\n",
       "      <td>0.062938</td>\n",
       "      <td>1.000000</td>\n",
       "      <td>0.091203</td>\n",
       "      <td>0.091251</td>\n",
       "      <td>0.086518</td>\n",
       "      <td>-0.099176</td>\n",
       "      <td>-0.007368</td>\n",
       "      <td>-0.035587</td>\n",
       "      <td>-0.121515</td>\n",
       "      <td>0.048788</td>\n",
       "      <td>-0.053929</td>\n",
       "      <td>0.175260</td>\n",
       "    </tr>\n",
       "    <tr>\n",
       "      <th>NOX</th>\n",
       "      <td>0.420972</td>\n",
       "      <td>-0.516604</td>\n",
       "      <td>0.763651</td>\n",
       "      <td>0.091203</td>\n",
       "      <td>1.000000</td>\n",
       "      <td>-0.302188</td>\n",
       "      <td>0.731470</td>\n",
       "      <td>-0.769230</td>\n",
       "      <td>0.611441</td>\n",
       "      <td>0.668023</td>\n",
       "      <td>0.188933</td>\n",
       "      <td>-0.380051</td>\n",
       "      <td>0.590879</td>\n",
       "      <td>-0.427321</td>\n",
       "    </tr>\n",
       "    <tr>\n",
       "      <th>RM</th>\n",
       "      <td>-0.219247</td>\n",
       "      <td>0.311991</td>\n",
       "      <td>-0.391676</td>\n",
       "      <td>0.091251</td>\n",
       "      <td>-0.302188</td>\n",
       "      <td>1.000000</td>\n",
       "      <td>-0.240265</td>\n",
       "      <td>0.205246</td>\n",
       "      <td>-0.209847</td>\n",
       "      <td>-0.292048</td>\n",
       "      <td>-0.355501</td>\n",
       "      <td>0.128069</td>\n",
       "      <td>-0.613808</td>\n",
       "      <td>0.695360</td>\n",
       "    </tr>\n",
       "    <tr>\n",
       "      <th>AGE</th>\n",
       "      <td>0.352734</td>\n",
       "      <td>-0.569537</td>\n",
       "      <td>0.644779</td>\n",
       "      <td>0.086518</td>\n",
       "      <td>0.731470</td>\n",
       "      <td>-0.240265</td>\n",
       "      <td>1.000000</td>\n",
       "      <td>-0.747881</td>\n",
       "      <td>0.456022</td>\n",
       "      <td>0.506456</td>\n",
       "      <td>0.261515</td>\n",
       "      <td>-0.273534</td>\n",
       "      <td>0.602339</td>\n",
       "      <td>-0.376955</td>\n",
       "    </tr>\n",
       "    <tr>\n",
       "      <th>DIS</th>\n",
       "      <td>-0.379670</td>\n",
       "      <td>0.664408</td>\n",
       "      <td>-0.708027</td>\n",
       "      <td>-0.099176</td>\n",
       "      <td>-0.769230</td>\n",
       "      <td>0.205246</td>\n",
       "      <td>-0.747881</td>\n",
       "      <td>1.000000</td>\n",
       "      <td>-0.494588</td>\n",
       "      <td>-0.534432</td>\n",
       "      <td>-0.232471</td>\n",
       "      <td>0.291512</td>\n",
       "      <td>-0.496996</td>\n",
       "      <td>0.249929</td>\n",
       "    </tr>\n",
       "    <tr>\n",
       "      <th>RAD</th>\n",
       "      <td>0.625505</td>\n",
       "      <td>-0.311948</td>\n",
       "      <td>0.595129</td>\n",
       "      <td>-0.007368</td>\n",
       "      <td>0.611441</td>\n",
       "      <td>-0.209847</td>\n",
       "      <td>0.456022</td>\n",
       "      <td>-0.494588</td>\n",
       "      <td>1.000000</td>\n",
       "      <td>0.910228</td>\n",
       "      <td>0.464741</td>\n",
       "      <td>-0.444413</td>\n",
       "      <td>0.488676</td>\n",
       "      <td>-0.381626</td>\n",
       "    </tr>\n",
       "    <tr>\n",
       "      <th>TAX</th>\n",
       "      <td>0.582764</td>\n",
       "      <td>-0.314563</td>\n",
       "      <td>0.720760</td>\n",
       "      <td>-0.035587</td>\n",
       "      <td>0.668023</td>\n",
       "      <td>-0.292048</td>\n",
       "      <td>0.506456</td>\n",
       "      <td>-0.534432</td>\n",
       "      <td>0.910228</td>\n",
       "      <td>1.000000</td>\n",
       "      <td>0.460853</td>\n",
       "      <td>-0.441808</td>\n",
       "      <td>0.543993</td>\n",
       "      <td>-0.468536</td>\n",
       "    </tr>\n",
       "    <tr>\n",
       "      <th>PTRATIO</th>\n",
       "      <td>0.289946</td>\n",
       "      <td>-0.391679</td>\n",
       "      <td>0.383248</td>\n",
       "      <td>-0.121515</td>\n",
       "      <td>0.188933</td>\n",
       "      <td>-0.355501</td>\n",
       "      <td>0.261515</td>\n",
       "      <td>-0.232471</td>\n",
       "      <td>0.464741</td>\n",
       "      <td>0.460853</td>\n",
       "      <td>1.000000</td>\n",
       "      <td>-0.177383</td>\n",
       "      <td>0.374044</td>\n",
       "      <td>-0.507787</td>\n",
       "    </tr>\n",
       "    <tr>\n",
       "      <th>B</th>\n",
       "      <td>-0.385064</td>\n",
       "      <td>0.175520</td>\n",
       "      <td>-0.356977</td>\n",
       "      <td>0.048788</td>\n",
       "      <td>-0.380051</td>\n",
       "      <td>0.128069</td>\n",
       "      <td>-0.273534</td>\n",
       "      <td>0.291512</td>\n",
       "      <td>-0.444413</td>\n",
       "      <td>-0.441808</td>\n",
       "      <td>-0.177383</td>\n",
       "      <td>1.000000</td>\n",
       "      <td>-0.366087</td>\n",
       "      <td>0.333461</td>\n",
       "    </tr>\n",
       "    <tr>\n",
       "      <th>LSTAT</th>\n",
       "      <td>0.455621</td>\n",
       "      <td>-0.412995</td>\n",
       "      <td>0.603800</td>\n",
       "      <td>-0.053929</td>\n",
       "      <td>0.590879</td>\n",
       "      <td>-0.613808</td>\n",
       "      <td>0.602339</td>\n",
       "      <td>-0.496996</td>\n",
       "      <td>0.488676</td>\n",
       "      <td>0.543993</td>\n",
       "      <td>0.374044</td>\n",
       "      <td>-0.366087</td>\n",
       "      <td>1.000000</td>\n",
       "      <td>-0.737663</td>\n",
       "    </tr>\n",
       "    <tr>\n",
       "      <th>MEDV</th>\n",
       "      <td>-0.388305</td>\n",
       "      <td>0.360445</td>\n",
       "      <td>-0.483725</td>\n",
       "      <td>0.175260</td>\n",
       "      <td>-0.427321</td>\n",
       "      <td>0.695360</td>\n",
       "      <td>-0.376955</td>\n",
       "      <td>0.249929</td>\n",
       "      <td>-0.381626</td>\n",
       "      <td>-0.468536</td>\n",
       "      <td>-0.507787</td>\n",
       "      <td>0.333461</td>\n",
       "      <td>-0.737663</td>\n",
       "      <td>1.000000</td>\n",
       "    </tr>\n",
       "  </tbody>\n",
       "</table>\n",
       "</div>"
      ],
      "text/plain": [
       "             CRIM        ZN     INDUS      CHAS       NOX        RM       AGE  \\\n",
       "CRIM     1.000000 -0.200469  0.406583 -0.055892  0.420972 -0.219247  0.352734   \n",
       "ZN      -0.200469  1.000000 -0.533828 -0.042697 -0.516604  0.311991 -0.569537   \n",
       "INDUS    0.406583 -0.533828  1.000000  0.062938  0.763651 -0.391676  0.644779   \n",
       "CHAS    -0.055892 -0.042697  0.062938  1.000000  0.091203  0.091251  0.086518   \n",
       "NOX      0.420972 -0.516604  0.763651  0.091203  1.000000 -0.302188  0.731470   \n",
       "RM      -0.219247  0.311991 -0.391676  0.091251 -0.302188  1.000000 -0.240265   \n",
       "AGE      0.352734 -0.569537  0.644779  0.086518  0.731470 -0.240265  1.000000   \n",
       "DIS     -0.379670  0.664408 -0.708027 -0.099176 -0.769230  0.205246 -0.747881   \n",
       "RAD      0.625505 -0.311948  0.595129 -0.007368  0.611441 -0.209847  0.456022   \n",
       "TAX      0.582764 -0.314563  0.720760 -0.035587  0.668023 -0.292048  0.506456   \n",
       "PTRATIO  0.289946 -0.391679  0.383248 -0.121515  0.188933 -0.355501  0.261515   \n",
       "B       -0.385064  0.175520 -0.356977  0.048788 -0.380051  0.128069 -0.273534   \n",
       "LSTAT    0.455621 -0.412995  0.603800 -0.053929  0.590879 -0.613808  0.602339   \n",
       "MEDV    -0.388305  0.360445 -0.483725  0.175260 -0.427321  0.695360 -0.376955   \n",
       "\n",
       "              DIS       RAD       TAX   PTRATIO         B     LSTAT      MEDV  \n",
       "CRIM    -0.379670  0.625505  0.582764  0.289946 -0.385064  0.455621 -0.388305  \n",
       "ZN       0.664408 -0.311948 -0.314563 -0.391679  0.175520 -0.412995  0.360445  \n",
       "INDUS   -0.708027  0.595129  0.720760  0.383248 -0.356977  0.603800 -0.483725  \n",
       "CHAS    -0.099176 -0.007368 -0.035587 -0.121515  0.048788 -0.053929  0.175260  \n",
       "NOX     -0.769230  0.611441  0.668023  0.188933 -0.380051  0.590879 -0.427321  \n",
       "RM       0.205246 -0.209847 -0.292048 -0.355501  0.128069 -0.613808  0.695360  \n",
       "AGE     -0.747881  0.456022  0.506456  0.261515 -0.273534  0.602339 -0.376955  \n",
       "DIS      1.000000 -0.494588 -0.534432 -0.232471  0.291512 -0.496996  0.249929  \n",
       "RAD     -0.494588  1.000000  0.910228  0.464741 -0.444413  0.488676 -0.381626  \n",
       "TAX     -0.534432  0.910228  1.000000  0.460853 -0.441808  0.543993 -0.468536  \n",
       "PTRATIO -0.232471  0.464741  0.460853  1.000000 -0.177383  0.374044 -0.507787  \n",
       "B        0.291512 -0.444413 -0.441808 -0.177383  1.000000 -0.366087  0.333461  \n",
       "LSTAT   -0.496996  0.488676  0.543993  0.374044 -0.366087  1.000000 -0.737663  \n",
       "MEDV     0.249929 -0.381626 -0.468536 -0.507787  0.333461 -0.737663  1.000000  "
      ]
     },
     "execution_count": 56,
     "metadata": {},
     "output_type": "execute_result"
    }
   ],
   "source": [
    "boston_df.corr()"
   ]
  },
  {
   "cell_type": "code",
   "execution_count": null,
   "metadata": {},
   "outputs": [
    {
     "data": {
      "text/plain": [
       "LSTAT     -0.737663\n",
       "PTRATIO   -0.507787\n",
       "INDUS     -0.483725\n",
       "TAX       -0.468536\n",
       "NOX       -0.427321\n",
       "CRIM      -0.388305\n",
       "RAD       -0.381626\n",
       "AGE       -0.376955\n",
       "CHAS       0.175260\n",
       "DIS        0.249929\n",
       "B          0.333461\n",
       "ZN         0.360445\n",
       "RM         0.695360\n",
       "MEDV       1.000000\n",
       "Name: MEDV, dtype: float64"
      ]
     },
     "execution_count": 57,
     "metadata": {},
     "output_type": "execute_result"
    }
   ],
   "source": [
    "boston_df.corr()['MEDV'].sort_values()"
   ]
  },
  {
   "cell_type": "code",
   "execution_count": 33,
   "metadata": {},
   "outputs": [
    {
     "data": {
      "image/png": "[encoded data removed]",
      "text/plain": [
       "<Figure size 1000x1000 with 2 Axes>"
      ]
     },
     "metadata": {},
     "output_type": "display_data"
    }
   ],
   "source": [
    "import matplotlib.pyplot as plt\n",
    "plt.figure(figsize=(10,10))\n",
    "sns.heatmap(boston_df.corr(),vmin=-1, vmax=1, center=0,\n",
    "            cmap=sns.diverging_palette(145, 280, s=85, l=25, n=7),\n",
    "            square=True, linewidths=.5, annot=True);"
   ]
  },
  {
   "cell_type": "code",
   "execution_count": 34,
   "metadata": {},
   "outputs": [
    {
     "data": {
      "image/png": "[encoded data removed]",
      "text/plain": [
       "<Figure size 500x500 with 1 Axes>"
      ]
     },
     "metadata": {},
     "output_type": "display_data"
    }
   ],
   "source": [
    "sns.lmplot(x=\"LSTAT\", y=\"MEDV\", data=boston_df, fit_reg=False);"
   ]
  },
  {
   "cell_type": "code",
   "execution_count": 35,
   "metadata": {},
   "outputs": [
    {
     "data": {
      "image/png": "[encoded data removed]",
      "text/plain": [
       "<Figure size 500x500 with 1 Axes>"
      ]
     },
     "metadata": {},
     "output_type": "display_data"
    }
   ],
   "source": [
    "sns.lmplot(x=\"MEDV\", y=\"NOX\", data=boston_df, fit_reg=False);"
   ]
  },
  {
   "attachments": {},
   "cell_type": "markdown",
   "metadata": {},
   "source": [
    "### Covarianza\n",
    "La [covarianza](https://es.wikipedia.org/wiki/Covarianza) es el equivalente de la varianza aplicado a una variable bidimensional. Es la media aritmética de los productos de las desviaciones de cada una de las variables respecto a sus medias respectivas.La covarianza indica el sentido de la correlación entre las variables; Si $\\sigma_{xy} > 0$ la correlación es directa; Si $\\sigma_{xy} < 0$ la correlación es inversa.\n",
    "\n",
    "$$\\sigma_{xy} = \\frac{\\sum\\limits_{i=1}^n(x_i - \\mu_x)(y_i -\\mu_y)}{n}$$\n",
    "\n",
    "La diferencia con la correlación es que los coeficientes de correlación están estandarizados (-1 a 1), por lo que una relación perfecta da como resultado un coeficiente de 1. La convarianza no, va desde infinito a menos inifinito. **Es muy útil para entender la dirección de la relación entre dos variables**."
   ]
  },
  {
   "cell_type": "code",
   "execution_count": null,
   "metadata": {},
   "outputs": [
    {
     "data": {
      "text/plain": [
       "array([[16338.02721088,  1879.55782313],\n",
       "       [ 1879.55782313,   229.41950113]])"
      ]
     },
     "execution_count": 61,
     "metadata": {},
     "output_type": "execute_result"
    }
   ],
   "source": [
    "# covarianza\n",
    "np.cov(distancia, gasolina, bias=True)"
   ]
  },
  {
   "cell_type": "code",
   "execution_count": null,
   "metadata": {},
   "outputs": [
    {
     "data": {
      "text/plain": [
       "np.float64(16338.027210884353)"
      ]
     },
     "execution_count": 62,
     "metadata": {},
     "output_type": "execute_result"
    }
   ],
   "source": [
    "np.var(distancia)"
   ]
  },
  {
   "cell_type": "code",
   "execution_count": null,
   "metadata": {},
   "outputs": [
    {
     "data": {
      "text/plain": [
       "np.float64(229.41950113378684)"
      ]
     },
     "execution_count": 63,
     "metadata": {},
     "output_type": "execute_result"
    }
   ],
   "source": [
    "np.var(gasolina)"
   ]
  },
  {
   "attachments": {},
   "cell_type": "markdown",
   "metadata": {},
   "source": [
    "![imagen](./img/covariance.jpg)"
   ]
  },
  {
   "attachments": {},
   "cell_type": "markdown",
   "metadata": {},
   "source": [
    "## Anexo: Histogramas y Distribuciones\n",
    "\n",
    "Muchas veces los indicadores de la *[estadística descriptiva](https://es.wikipedia.org/wiki/Estad%C3%ADstica_descriptiva)* no nos proporcionan una imagen clara de nuestros *[datos](https://es.wikipedia.org/wiki/Dato)*.  Por esta razón, siempre es útil complementarlos con gráficos de las distribuciones de los *[datos](https://es.wikipedia.org/wiki/Dato)*, que describan con qué frecuencia aparece cada valor. La representación más común de una distribución es un [histograma](https://es.wikipedia.org/wiki/Histograma), que es un gráfico que muestra la frecuencia o probabilidad de cada valor. El [histograma](https://es.wikipedia.org/wiki/Histograma) muestra las frecuencias como un gráfico de barras que indica cuan frecuente un determinado valor ocurre en el [conjunto de datos](https://es.wikipedia.org/wiki/Conjunto_de_datos). El eje horizontal representa los valores del [conjunto de datos](https://es.wikipedia.org/wiki/Conjunto_de_datos) y el eje vertical representa la frecuencia con que esos valores ocurren.\n",
    "\n",
    "Las distribuciones se pueden clasificar en dos grandes grupos:\n",
    "\n",
    "1. Las **[distribuciones continuas](https://es.wikipedia.org/wiki/Distribuci%C3%B3n_de_probabilidad_continua)**, que son aquellas que presentan un número infinito de posibles soluciones. Dentro de este grupo vamos a encontrar a las distribuciones: \n",
    "    * [normal](https://es.wikipedia.org/wiki/Distribuci%C3%B3n_normal),\n",
    "    * [gamma](https://es.wikipedia.org/wiki/Distribuci%C3%B3n_gamma),\n",
    "    * [chi cuadrado](https://es.wikipedia.org/wiki/Distribuci%C3%B3n_%CF%87%C2%B2), \n",
    "    * [t de Student](https://es.wikipedia.org/wiki/Distribuci%C3%B3n_t_de_Student), \n",
    "    * [pareto](https://es.wikipedia.org/wiki/Distribuci%C3%B3n_de_Pareto),\n",
    "    * entre otras\n",
    "\n",
    "2. Las **distribuciones discretas**, que son aquellas en las que la variable puede pude tomar un número determinado de valores. Los principales exponenetes de este grupo son las distribuciones: \n",
    "    * [poisson](https://es.wikipedia.org/wiki/Distribuci%C3%B3n_de_Poisson),\n",
    "    * [binomial](https://es.wikipedia.org/wiki/Distribuci%C3%B3n_binomial),\n",
    "    * [hipergeométrica](https://es.wikipedia.org/wiki/Distribuci%C3%B3n_hipergeom%C3%A9trica),\n",
    "    * [bernoulli](https://es.wikipedia.org/wiki/Distribuci%C3%B3n_de_Bernoulli)\n",
    "    * entre otras\n"
   ]
  },
  {
   "attachments": {},
   "cell_type": "markdown",
   "metadata": {},
   "source": [
    "1. https://towardsdatascience.com/a-quick-guide-on-descriptive-statistics-using-pandas-and-seaborn-2aadc7395f32\n",
    "\n",
    "2. https://www.tutorialspoint.com/python_pandas/python_pandas_descriptive_statistics.htm"
   ]
  }
 ],
 "metadata": {
  "kernelspec": {
   "display_name": "Python 3",
   "language": "python",
   "name": "python3"
  },
  "language_info": {
   "codemirror_mode": {
    "name": "ipython",
    "version": 3
   },
   "file_extension": ".py",
   "mimetype": "text/x-python",
   "name": "python",
   "nbconvert_exporter": "python",
   "pygments_lexer": "ipython3",
   "version": "3.11.9"
  }
 },
 "nbformat": 4,
 "nbformat_minor": 4
}
