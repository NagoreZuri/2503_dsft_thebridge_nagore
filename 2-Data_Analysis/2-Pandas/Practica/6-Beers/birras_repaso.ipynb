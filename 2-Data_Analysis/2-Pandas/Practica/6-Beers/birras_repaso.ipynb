{
 "cells": [
  {
   "attachments": {},
   "cell_type": "markdown",
   "metadata": {},
   "source": [
    "![imagen](https://cdn.foodbeast.com/content/wp-content/uploads/2012/03/beer-print-01-selectism.jpg)\n",
    "\n",
    "# Ejercicio pandas estadística\n",
    "Para este ejercicio se ha utilizado [un dataset de un concurso de kaggle](https://www.kaggle.com/nickhould/craft-cans), cuyo reto consiste en predecir el tipo de cerveza en función de sus características (nivel de alcohol, amargura, tamaño...).\n",
    "\n",
    "# Ejercicio 1\n",
    "Importa las librerias que consideres"
   ]
  },
  {
   "cell_type": "code",
   "execution_count": 44,
   "metadata": {},
   "outputs": [],
   "source": [
    "import numpy as np\n",
    "import pandas as pd\n",
    "import seaborn as sns"
   ]
  },
  {
   "cell_type": "code",
   "execution_count": 45,
   "metadata": {},
   "outputs": [
    {
     "name": "stdout",
     "output_type": "stream",
     "text": [
      "Requirement already satisfied: pandas in c:\\users\\nagor\\appdata\\local\\programs\\python\\python311\\lib\\site-packages (2.2.3)\n",
      "Requirement already satisfied: numpy>=1.23.2 in c:\\users\\nagor\\appdata\\local\\programs\\python\\python311\\lib\\site-packages (from pandas) (2.2.4)\n",
      "Requirement already satisfied: python-dateutil>=2.8.2 in c:\\users\\nagor\\appdata\\roaming\\python\\python311\\site-packages (from pandas) (2.9.0.post0)\n",
      "Requirement already satisfied: pytz>=2020.1 in c:\\users\\nagor\\appdata\\local\\programs\\python\\python311\\lib\\site-packages (from pandas) (2025.1)\n",
      "Requirement already satisfied: tzdata>=2022.7 in c:\\users\\nagor\\appdata\\local\\programs\\python\\python311\\lib\\site-packages (from pandas) (2025.1)\n",
      "Requirement already satisfied: six>=1.5 in c:\\users\\nagor\\appdata\\roaming\\python\\python311\\site-packages (from python-dateutil>=2.8.2->pandas) (1.17.0)\n"
     ]
    },
    {
     "name": "stderr",
     "output_type": "stream",
     "text": [
      "\n",
      "[notice] A new release of pip is available: 24.0 -> 25.0.1\n",
      "[notice] To update, run: python.exe -m pip install --upgrade pip\n"
     ]
    }
   ],
   "source": [
    "!pip install pandas"
   ]
  },
  {
   "attachments": {},
   "cell_type": "markdown",
   "metadata": {},
   "source": [
    "## Ejercicio 2\n",
    "1. Importa el dataset \"datasets_beer.csv\"\n",
    "2. Imprime por pantalla los primeros registros.\n",
    "3. ¿Cuáles son sus columnas?\n",
    "4. ¿Qué dimensiones tiene el DataFrame?"
   ]
  },
  {
   "cell_type": "code",
   "execution_count": 46,
   "metadata": {},
   "outputs": [],
   "source": [
    "url = (r\"data/datasets_beers.csv\")\n",
    "\n",
    "beer = pd.read_csv(url, sep=\",\")"
   ]
  },
  {
   "cell_type": "code",
   "execution_count": 47,
   "metadata": {},
   "outputs": [
    {
     "data": {
      "application/vnd.microsoft.datawrangler.viewer.v0+json": {
       "columns": [
        {
         "name": "index",
         "rawType": "int64",
         "type": "integer"
        },
        {
         "name": "Unnamed: 0",
         "rawType": "int64",
         "type": "integer"
        },
        {
         "name": "abv",
         "rawType": "float64",
         "type": "float"
        },
        {
         "name": "ibu",
         "rawType": "float64",
         "type": "float"
        },
        {
         "name": "id",
         "rawType": "int64",
         "type": "integer"
        },
        {
         "name": "name",
         "rawType": "object",
         "type": "string"
        },
        {
         "name": "style",
         "rawType": "object",
         "type": "unknown"
        },
        {
         "name": "brewery_id",
         "rawType": "int64",
         "type": "integer"
        },
        {
         "name": "ounces",
         "rawType": "float64",
         "type": "float"
        }
       ],
       "conversionMethod": "pd.DataFrame",
       "ref": "4c5273cc-6551-4631-a841-825d84f21f05",
       "rows": [
        [
         "0",
         "0",
         "0.05",
         null,
         "1436",
         "Pub Beer",
         "American Pale Lager",
         "408",
         "12.0"
        ],
        [
         "1",
         "1",
         "0.066",
         null,
         "2265",
         "Devil's Cup",
         "American Pale Ale (APA)",
         "177",
         "12.0"
        ],
        [
         "2",
         "2",
         "0.071",
         null,
         "2264",
         "Rise of the Phoenix",
         "American IPA",
         "177",
         "12.0"
        ],
        [
         "3",
         "3",
         "0.09",
         null,
         "2263",
         "Sinister",
         "American Double / Imperial IPA",
         "177",
         "12.0"
        ],
        [
         "4",
         "4",
         "0.075",
         null,
         "2262",
         "Sex and Candy",
         "American IPA",
         "177",
         "12.0"
        ],
        [
         "5",
         "5",
         "0.077",
         null,
         "2261",
         "Black Exodus",
         "Oatmeal Stout",
         "177",
         "12.0"
        ],
        [
         "6",
         "6",
         "0.045",
         null,
         "2260",
         "Lake Street Express",
         "American Pale Ale (APA)",
         "177",
         "12.0"
        ],
        [
         "7",
         "7",
         "0.065",
         null,
         "2259",
         "Foreman",
         "American Porter",
         "177",
         "12.0"
        ],
        [
         "8",
         "8",
         "0.055",
         null,
         "2258",
         "Jade",
         "American Pale Ale (APA)",
         "177",
         "12.0"
        ],
        [
         "9",
         "9",
         "0.086",
         null,
         "2131",
         "Cone Crusher",
         "American Double / Imperial IPA",
         "177",
         "12.0"
        ],
        [
         "10",
         "10",
         "0.072",
         null,
         "2099",
         "Sophomoric Saison",
         "Saison / Farmhouse Ale",
         "177",
         "12.0"
        ],
        [
         "11",
         "11",
         "0.073",
         null,
         "2098",
         "Regional Ring Of Fire",
         "Saison / Farmhouse Ale",
         "177",
         "12.0"
        ],
        [
         "12",
         "12",
         "0.069",
         null,
         "2097",
         "Garce Selé",
         "Saison / Farmhouse Ale",
         "177",
         "12.0"
        ],
        [
         "13",
         "13",
         "0.085",
         null,
         "1980",
         "Troll Destroyer",
         "Belgian IPA",
         "177",
         "12.0"
        ],
        [
         "14",
         "14",
         "0.061",
         "60.0",
         "1979",
         "Bitter Bitch",
         "American Pale Ale (APA)",
         "177",
         "12.0"
        ],
        [
         "15",
         "15",
         "0.06",
         null,
         "2318",
         "Ginja Ninja",
         "Cider",
         "154",
         "12.0"
        ],
        [
         "16",
         "16",
         "0.06",
         null,
         "2170",
         "Cherried Away",
         "Cider",
         "154",
         "12.0"
        ],
        [
         "17",
         "17",
         "0.06",
         null,
         "2169",
         "Rhubarbarian",
         "Cider",
         "154",
         "12.0"
        ],
        [
         "18",
         "18",
         "0.06",
         null,
         "1502",
         "BrightCider",
         "Cider",
         "154",
         "12.0"
        ],
        [
         "19",
         "19",
         "0.0819999999999999",
         null,
         "1593",
         "He Said Baltic-Style Porter",
         "Baltic Porter",
         "368",
         "12.0"
        ],
        [
         "20",
         "20",
         "0.0819999999999999",
         null,
         "1592",
         "He Said Belgian-Style Tripel",
         "Tripel",
         "368",
         "12.0"
        ],
        [
         "21",
         "21",
         "0.099",
         "92.0",
         "1036",
         "Lower De Boom",
         "American Barleywine",
         "368",
         "8.4"
        ],
        [
         "22",
         "22",
         "0.079",
         "45.0",
         "1024",
         "Fireside Chat",
         "Winter Warmer",
         "368",
         "12.0"
        ],
        [
         "23",
         "23",
         "0.079",
         null,
         "976",
         "Marooned On Hog Island",
         "American Stout",
         "368",
         "12.0"
        ],
        [
         "24",
         "24",
         "0.044",
         "42.0",
         "876",
         "Bitter American",
         "American Pale Ale (APA)",
         "368",
         "12.0"
        ],
        [
         "25",
         "25",
         "0.049",
         "17.0",
         "802",
         "Hell or High Watermelon Wheat (2009)",
         "Fruit / Vegetable Beer",
         "368",
         "12.0"
        ],
        [
         "26",
         "26",
         "0.049",
         "17.0",
         "801",
         "Hell or High Watermelon Wheat (2009)",
         "Fruit / Vegetable Beer",
         "368",
         "12.0"
        ],
        [
         "27",
         "27",
         "0.049",
         "17.0",
         "800",
         "21st Amendment Watermelon Wheat Beer (2006)",
         "Fruit / Vegetable Beer",
         "368",
         "12.0"
        ],
        [
         "28",
         "28",
         "0.07",
         "70.0",
         "799",
         "21st Amendment IPA (2006)",
         "American IPA",
         "368",
         "12.0"
        ],
        [
         "29",
         "29",
         "0.07",
         "70.0",
         "797",
         "Brew Free! or Die IPA (2008)",
         "American IPA",
         "368",
         "12.0"
        ],
        [
         "30",
         "30",
         "0.07",
         "70.0",
         "796",
         "Brew Free! or Die IPA (2009)",
         "American IPA",
         "368",
         "12.0"
        ],
        [
         "31",
         "31",
         "0.085",
         "52.0",
         "531",
         "Special Edition: Allies Win The War!",
         "English Strong Ale",
         "368",
         "12.0"
        ],
        [
         "32",
         "32",
         "0.0969999999999999",
         "94.0",
         "432",
         "Hop Crisis",
         "American Double / Imperial IPA",
         "368",
         "12.0"
        ],
        [
         "33",
         "33",
         "0.044",
         "42.0",
         "353",
         "Bitter American (2011)",
         "American Pale Ale (APA)",
         "368",
         "12.0"
        ],
        [
         "34",
         "34",
         "0.079",
         "45.0",
         "321",
         "Fireside Chat (2010)",
         "Winter Warmer",
         "368",
         "12.0"
        ],
        [
         "35",
         "35",
         "0.068",
         "65.0",
         "173",
         "Back in Black",
         "American Black Ale",
         "368",
         "12.0"
        ],
        [
         "36",
         "36",
         "0.083",
         "35.0",
         "11",
         "Monk's Blood",
         "Belgian Dark Ale",
         "368",
         "12.0"
        ],
        [
         "37",
         "37",
         "0.07",
         "65.0",
         "10",
         "Brew Free! or Die IPA",
         "American IPA",
         "368",
         "12.0"
        ],
        [
         "38",
         "38",
         "0.049",
         "17.0",
         "9",
         "Hell or High Watermelon Wheat",
         "Fruit / Vegetable Beer",
         "368",
         "12.0"
        ],
        [
         "39",
         "39",
         "0.07",
         "82.0",
         "2519",
         "Bimini Twist",
         "American IPA",
         "67",
         "12.0"
        ],
        [
         "40",
         "40",
         "0.05",
         null,
         "2518",
         "Beach Blonde",
         "American Blonde Ale",
         "67",
         "12.0"
        ],
        [
         "41",
         "41",
         "0.059",
         null,
         "2517",
         "Rod Bender Red",
         "American Amber / Red Ale",
         "67",
         "12.0"
        ],
        [
         "42",
         "42",
         "0.035",
         "11.0",
         "2545",
         "Passion Fruit Prussia",
         "Berliner Weissbier",
         "60",
         "12.0"
        ],
        [
         "43",
         "43",
         "0.045",
         "18.0",
         "2544",
         "Send Help",
         "American Blonde Ale",
         "60",
         "12.0"
        ],
        [
         "44",
         "44",
         "0.055",
         null,
         "2324",
         "Cast Iron Oatmeal Brown",
         "American Brown Ale",
         "60",
         "12.0"
        ],
        [
         "45",
         "45",
         "0.06",
         null,
         "2288",
         "Reprise Centennial Red",
         "American Amber / Red Ale",
         "60",
         "12.0"
        ],
        [
         "46",
         "46",
         "0.055",
         null,
         "2287",
         "Alter Ego",
         "American Black Ale",
         "60",
         "12.0"
        ],
        [
         "47",
         "47",
         "0.065",
         null,
         "2286",
         "Divided Sky",
         "American IPA",
         "60",
         "12.0"
        ],
        [
         "48",
         "48",
         "0.065",
         null,
         "2285",
         "Resurrected",
         "American IPA",
         "60",
         "12.0"
        ],
        [
         "49",
         "49",
         "0.05",
         "28.0",
         "1870",
         "Contact High",
         "American Pale Wheat Ale",
         "60",
         "12.0"
        ]
       ],
       "shape": {
        "columns": 8,
        "rows": 2410
       }
      },
      "text/html": [
       "<div>\n",
       "<style scoped>\n",
       "    .dataframe tbody tr th:only-of-type {\n",
       "        vertical-align: middle;\n",
       "    }\n",
       "\n",
       "    .dataframe tbody tr th {\n",
       "        vertical-align: top;\n",
       "    }\n",
       "\n",
       "    .dataframe thead th {\n",
       "        text-align: right;\n",
       "    }\n",
       "</style>\n",
       "<table border=\"1\" class=\"dataframe\">\n",
       "  <thead>\n",
       "    <tr style=\"text-align: right;\">\n",
       "      <th></th>\n",
       "      <th>Unnamed: 0</th>\n",
       "      <th>abv</th>\n",
       "      <th>ibu</th>\n",
       "      <th>id</th>\n",
       "      <th>name</th>\n",
       "      <th>style</th>\n",
       "      <th>brewery_id</th>\n",
       "      <th>ounces</th>\n",
       "    </tr>\n",
       "  </thead>\n",
       "  <tbody>\n",
       "    <tr>\n",
       "      <th>0</th>\n",
       "      <td>0</td>\n",
       "      <td>0.050</td>\n",
       "      <td>NaN</td>\n",
       "      <td>1436</td>\n",
       "      <td>Pub Beer</td>\n",
       "      <td>American Pale Lager</td>\n",
       "      <td>408</td>\n",
       "      <td>12.0</td>\n",
       "    </tr>\n",
       "    <tr>\n",
       "      <th>1</th>\n",
       "      <td>1</td>\n",
       "      <td>0.066</td>\n",
       "      <td>NaN</td>\n",
       "      <td>2265</td>\n",
       "      <td>Devil's Cup</td>\n",
       "      <td>American Pale Ale (APA)</td>\n",
       "      <td>177</td>\n",
       "      <td>12.0</td>\n",
       "    </tr>\n",
       "    <tr>\n",
       "      <th>2</th>\n",
       "      <td>2</td>\n",
       "      <td>0.071</td>\n",
       "      <td>NaN</td>\n",
       "      <td>2264</td>\n",
       "      <td>Rise of the Phoenix</td>\n",
       "      <td>American IPA</td>\n",
       "      <td>177</td>\n",
       "      <td>12.0</td>\n",
       "    </tr>\n",
       "    <tr>\n",
       "      <th>3</th>\n",
       "      <td>3</td>\n",
       "      <td>0.090</td>\n",
       "      <td>NaN</td>\n",
       "      <td>2263</td>\n",
       "      <td>Sinister</td>\n",
       "      <td>American Double / Imperial IPA</td>\n",
       "      <td>177</td>\n",
       "      <td>12.0</td>\n",
       "    </tr>\n",
       "    <tr>\n",
       "      <th>4</th>\n",
       "      <td>4</td>\n",
       "      <td>0.075</td>\n",
       "      <td>NaN</td>\n",
       "      <td>2262</td>\n",
       "      <td>Sex and Candy</td>\n",
       "      <td>American IPA</td>\n",
       "      <td>177</td>\n",
       "      <td>12.0</td>\n",
       "    </tr>\n",
       "    <tr>\n",
       "      <th>...</th>\n",
       "      <td>...</td>\n",
       "      <td>...</td>\n",
       "      <td>...</td>\n",
       "      <td>...</td>\n",
       "      <td>...</td>\n",
       "      <td>...</td>\n",
       "      <td>...</td>\n",
       "      <td>...</td>\n",
       "    </tr>\n",
       "    <tr>\n",
       "      <th>2405</th>\n",
       "      <td>2405</td>\n",
       "      <td>0.067</td>\n",
       "      <td>45.0</td>\n",
       "      <td>928</td>\n",
       "      <td>Belgorado</td>\n",
       "      <td>Belgian IPA</td>\n",
       "      <td>424</td>\n",
       "      <td>12.0</td>\n",
       "    </tr>\n",
       "    <tr>\n",
       "      <th>2406</th>\n",
       "      <td>2406</td>\n",
       "      <td>0.052</td>\n",
       "      <td>NaN</td>\n",
       "      <td>807</td>\n",
       "      <td>Rail Yard Ale</td>\n",
       "      <td>American Amber / Red Ale</td>\n",
       "      <td>424</td>\n",
       "      <td>12.0</td>\n",
       "    </tr>\n",
       "    <tr>\n",
       "      <th>2407</th>\n",
       "      <td>2407</td>\n",
       "      <td>0.055</td>\n",
       "      <td>NaN</td>\n",
       "      <td>620</td>\n",
       "      <td>B3K Black Lager</td>\n",
       "      <td>Schwarzbier</td>\n",
       "      <td>424</td>\n",
       "      <td>12.0</td>\n",
       "    </tr>\n",
       "    <tr>\n",
       "      <th>2408</th>\n",
       "      <td>2408</td>\n",
       "      <td>0.055</td>\n",
       "      <td>40.0</td>\n",
       "      <td>145</td>\n",
       "      <td>Silverback Pale Ale</td>\n",
       "      <td>American Pale Ale (APA)</td>\n",
       "      <td>424</td>\n",
       "      <td>12.0</td>\n",
       "    </tr>\n",
       "    <tr>\n",
       "      <th>2409</th>\n",
       "      <td>2409</td>\n",
       "      <td>0.052</td>\n",
       "      <td>NaN</td>\n",
       "      <td>84</td>\n",
       "      <td>Rail Yard Ale (2009)</td>\n",
       "      <td>American Amber / Red Ale</td>\n",
       "      <td>424</td>\n",
       "      <td>12.0</td>\n",
       "    </tr>\n",
       "  </tbody>\n",
       "</table>\n",
       "<p>2410 rows × 8 columns</p>\n",
       "</div>"
      ],
      "text/plain": [
       "      Unnamed: 0    abv   ibu    id                  name  \\\n",
       "0              0  0.050   NaN  1436              Pub Beer   \n",
       "1              1  0.066   NaN  2265           Devil's Cup   \n",
       "2              2  0.071   NaN  2264   Rise of the Phoenix   \n",
       "3              3  0.090   NaN  2263              Sinister   \n",
       "4              4  0.075   NaN  2262         Sex and Candy   \n",
       "...          ...    ...   ...   ...                   ...   \n",
       "2405        2405  0.067  45.0   928             Belgorado   \n",
       "2406        2406  0.052   NaN   807         Rail Yard Ale   \n",
       "2407        2407  0.055   NaN   620       B3K Black Lager   \n",
       "2408        2408  0.055  40.0   145   Silverback Pale Ale   \n",
       "2409        2409  0.052   NaN    84  Rail Yard Ale (2009)   \n",
       "\n",
       "                               style  brewery_id  ounces  \n",
       "0                American Pale Lager         408    12.0  \n",
       "1            American Pale Ale (APA)         177    12.0  \n",
       "2                       American IPA         177    12.0  \n",
       "3     American Double / Imperial IPA         177    12.0  \n",
       "4                       American IPA         177    12.0  \n",
       "...                              ...         ...     ...  \n",
       "2405                     Belgian IPA         424    12.0  \n",
       "2406        American Amber / Red Ale         424    12.0  \n",
       "2407                     Schwarzbier         424    12.0  \n",
       "2408         American Pale Ale (APA)         424    12.0  \n",
       "2409        American Amber / Red Ale         424    12.0  \n",
       "\n",
       "[2410 rows x 8 columns]"
      ]
     },
     "execution_count": 47,
     "metadata": {},
     "output_type": "execute_result"
    }
   ],
   "source": [
    "beer"
   ]
  },
  {
   "cell_type": "code",
   "execution_count": 48,
   "metadata": {},
   "outputs": [
    {
     "data": {
      "text/plain": [
       "(2410, 8)"
      ]
     },
     "execution_count": 48,
     "metadata": {},
     "output_type": "execute_result"
    }
   ],
   "source": [
    "beer.shape"
   ]
  },
  {
   "attachments": {},
   "cell_type": "markdown",
   "metadata": {},
   "source": [
    "## Ejercicio 3\n",
    "[Elimina la columna \"Unnamed: 0\"](https://pandas.pydata.org/pandas-docs/stable/reference/api/pandas.DataFrame.drop.html)"
   ]
  },
  {
   "cell_type": "code",
   "execution_count": 49,
   "metadata": {},
   "outputs": [],
   "source": [
    "beer.drop(columns=[\"Unnamed: 0\"], inplace=True)"
   ]
  },
  {
   "cell_type": "code",
   "execution_count": 50,
   "metadata": {},
   "outputs": [
    {
     "data": {
      "application/vnd.microsoft.datawrangler.viewer.v0+json": {
       "columns": [
        {
         "name": "index",
         "rawType": "int64",
         "type": "integer"
        },
        {
         "name": "abv",
         "rawType": "float64",
         "type": "float"
        },
        {
         "name": "ibu",
         "rawType": "float64",
         "type": "float"
        },
        {
         "name": "id",
         "rawType": "int64",
         "type": "integer"
        },
        {
         "name": "name",
         "rawType": "object",
         "type": "string"
        },
        {
         "name": "style",
         "rawType": "object",
         "type": "unknown"
        },
        {
         "name": "brewery_id",
         "rawType": "int64",
         "type": "integer"
        },
        {
         "name": "ounces",
         "rawType": "float64",
         "type": "float"
        }
       ],
       "conversionMethod": "pd.DataFrame",
       "ref": "ba8fa9c7-1a54-4c83-a061-f3ec4f371e1a",
       "rows": [
        [
         "0",
         "0.05",
         null,
         "1436",
         "Pub Beer",
         "American Pale Lager",
         "408",
         "12.0"
        ],
        [
         "1",
         "0.066",
         null,
         "2265",
         "Devil's Cup",
         "American Pale Ale (APA)",
         "177",
         "12.0"
        ],
        [
         "2",
         "0.071",
         null,
         "2264",
         "Rise of the Phoenix",
         "American IPA",
         "177",
         "12.0"
        ],
        [
         "3",
         "0.09",
         null,
         "2263",
         "Sinister",
         "American Double / Imperial IPA",
         "177",
         "12.0"
        ],
        [
         "4",
         "0.075",
         null,
         "2262",
         "Sex and Candy",
         "American IPA",
         "177",
         "12.0"
        ],
        [
         "5",
         "0.077",
         null,
         "2261",
         "Black Exodus",
         "Oatmeal Stout",
         "177",
         "12.0"
        ],
        [
         "6",
         "0.045",
         null,
         "2260",
         "Lake Street Express",
         "American Pale Ale (APA)",
         "177",
         "12.0"
        ],
        [
         "7",
         "0.065",
         null,
         "2259",
         "Foreman",
         "American Porter",
         "177",
         "12.0"
        ],
        [
         "8",
         "0.055",
         null,
         "2258",
         "Jade",
         "American Pale Ale (APA)",
         "177",
         "12.0"
        ],
        [
         "9",
         "0.086",
         null,
         "2131",
         "Cone Crusher",
         "American Double / Imperial IPA",
         "177",
         "12.0"
        ],
        [
         "10",
         "0.072",
         null,
         "2099",
         "Sophomoric Saison",
         "Saison / Farmhouse Ale",
         "177",
         "12.0"
        ],
        [
         "11",
         "0.073",
         null,
         "2098",
         "Regional Ring Of Fire",
         "Saison / Farmhouse Ale",
         "177",
         "12.0"
        ],
        [
         "12",
         "0.069",
         null,
         "2097",
         "Garce Selé",
         "Saison / Farmhouse Ale",
         "177",
         "12.0"
        ],
        [
         "13",
         "0.085",
         null,
         "1980",
         "Troll Destroyer",
         "Belgian IPA",
         "177",
         "12.0"
        ],
        [
         "14",
         "0.061",
         "60.0",
         "1979",
         "Bitter Bitch",
         "American Pale Ale (APA)",
         "177",
         "12.0"
        ],
        [
         "15",
         "0.06",
         null,
         "2318",
         "Ginja Ninja",
         "Cider",
         "154",
         "12.0"
        ],
        [
         "16",
         "0.06",
         null,
         "2170",
         "Cherried Away",
         "Cider",
         "154",
         "12.0"
        ],
        [
         "17",
         "0.06",
         null,
         "2169",
         "Rhubarbarian",
         "Cider",
         "154",
         "12.0"
        ],
        [
         "18",
         "0.06",
         null,
         "1502",
         "BrightCider",
         "Cider",
         "154",
         "12.0"
        ],
        [
         "19",
         "0.0819999999999999",
         null,
         "1593",
         "He Said Baltic-Style Porter",
         "Baltic Porter",
         "368",
         "12.0"
        ],
        [
         "20",
         "0.0819999999999999",
         null,
         "1592",
         "He Said Belgian-Style Tripel",
         "Tripel",
         "368",
         "12.0"
        ],
        [
         "21",
         "0.099",
         "92.0",
         "1036",
         "Lower De Boom",
         "American Barleywine",
         "368",
         "8.4"
        ],
        [
         "22",
         "0.079",
         "45.0",
         "1024",
         "Fireside Chat",
         "Winter Warmer",
         "368",
         "12.0"
        ],
        [
         "23",
         "0.079",
         null,
         "976",
         "Marooned On Hog Island",
         "American Stout",
         "368",
         "12.0"
        ],
        [
         "24",
         "0.044",
         "42.0",
         "876",
         "Bitter American",
         "American Pale Ale (APA)",
         "368",
         "12.0"
        ],
        [
         "25",
         "0.049",
         "17.0",
         "802",
         "Hell or High Watermelon Wheat (2009)",
         "Fruit / Vegetable Beer",
         "368",
         "12.0"
        ],
        [
         "26",
         "0.049",
         "17.0",
         "801",
         "Hell or High Watermelon Wheat (2009)",
         "Fruit / Vegetable Beer",
         "368",
         "12.0"
        ],
        [
         "27",
         "0.049",
         "17.0",
         "800",
         "21st Amendment Watermelon Wheat Beer (2006)",
         "Fruit / Vegetable Beer",
         "368",
         "12.0"
        ],
        [
         "28",
         "0.07",
         "70.0",
         "799",
         "21st Amendment IPA (2006)",
         "American IPA",
         "368",
         "12.0"
        ],
        [
         "29",
         "0.07",
         "70.0",
         "797",
         "Brew Free! or Die IPA (2008)",
         "American IPA",
         "368",
         "12.0"
        ],
        [
         "30",
         "0.07",
         "70.0",
         "796",
         "Brew Free! or Die IPA (2009)",
         "American IPA",
         "368",
         "12.0"
        ],
        [
         "31",
         "0.085",
         "52.0",
         "531",
         "Special Edition: Allies Win The War!",
         "English Strong Ale",
         "368",
         "12.0"
        ],
        [
         "32",
         "0.0969999999999999",
         "94.0",
         "432",
         "Hop Crisis",
         "American Double / Imperial IPA",
         "368",
         "12.0"
        ],
        [
         "33",
         "0.044",
         "42.0",
         "353",
         "Bitter American (2011)",
         "American Pale Ale (APA)",
         "368",
         "12.0"
        ],
        [
         "34",
         "0.079",
         "45.0",
         "321",
         "Fireside Chat (2010)",
         "Winter Warmer",
         "368",
         "12.0"
        ],
        [
         "35",
         "0.068",
         "65.0",
         "173",
         "Back in Black",
         "American Black Ale",
         "368",
         "12.0"
        ],
        [
         "36",
         "0.083",
         "35.0",
         "11",
         "Monk's Blood",
         "Belgian Dark Ale",
         "368",
         "12.0"
        ],
        [
         "37",
         "0.07",
         "65.0",
         "10",
         "Brew Free! or Die IPA",
         "American IPA",
         "368",
         "12.0"
        ],
        [
         "38",
         "0.049",
         "17.0",
         "9",
         "Hell or High Watermelon Wheat",
         "Fruit / Vegetable Beer",
         "368",
         "12.0"
        ],
        [
         "39",
         "0.07",
         "82.0",
         "2519",
         "Bimini Twist",
         "American IPA",
         "67",
         "12.0"
        ],
        [
         "40",
         "0.05",
         null,
         "2518",
         "Beach Blonde",
         "American Blonde Ale",
         "67",
         "12.0"
        ],
        [
         "41",
         "0.059",
         null,
         "2517",
         "Rod Bender Red",
         "American Amber / Red Ale",
         "67",
         "12.0"
        ],
        [
         "42",
         "0.035",
         "11.0",
         "2545",
         "Passion Fruit Prussia",
         "Berliner Weissbier",
         "60",
         "12.0"
        ],
        [
         "43",
         "0.045",
         "18.0",
         "2544",
         "Send Help",
         "American Blonde Ale",
         "60",
         "12.0"
        ],
        [
         "44",
         "0.055",
         null,
         "2324",
         "Cast Iron Oatmeal Brown",
         "American Brown Ale",
         "60",
         "12.0"
        ],
        [
         "45",
         "0.06",
         null,
         "2288",
         "Reprise Centennial Red",
         "American Amber / Red Ale",
         "60",
         "12.0"
        ],
        [
         "46",
         "0.055",
         null,
         "2287",
         "Alter Ego",
         "American Black Ale",
         "60",
         "12.0"
        ],
        [
         "47",
         "0.065",
         null,
         "2286",
         "Divided Sky",
         "American IPA",
         "60",
         "12.0"
        ],
        [
         "48",
         "0.065",
         null,
         "2285",
         "Resurrected",
         "American IPA",
         "60",
         "12.0"
        ],
        [
         "49",
         "0.05",
         "28.0",
         "1870",
         "Contact High",
         "American Pale Wheat Ale",
         "60",
         "12.0"
        ]
       ],
       "shape": {
        "columns": 7,
        "rows": 2410
       }
      },
      "text/html": [
       "<div>\n",
       "<style scoped>\n",
       "    .dataframe tbody tr th:only-of-type {\n",
       "        vertical-align: middle;\n",
       "    }\n",
       "\n",
       "    .dataframe tbody tr th {\n",
       "        vertical-align: top;\n",
       "    }\n",
       "\n",
       "    .dataframe thead th {\n",
       "        text-align: right;\n",
       "    }\n",
       "</style>\n",
       "<table border=\"1\" class=\"dataframe\">\n",
       "  <thead>\n",
       "    <tr style=\"text-align: right;\">\n",
       "      <th></th>\n",
       "      <th>abv</th>\n",
       "      <th>ibu</th>\n",
       "      <th>id</th>\n",
       "      <th>name</th>\n",
       "      <th>style</th>\n",
       "      <th>brewery_id</th>\n",
       "      <th>ounces</th>\n",
       "    </tr>\n",
       "  </thead>\n",
       "  <tbody>\n",
       "    <tr>\n",
       "      <th>0</th>\n",
       "      <td>0.050</td>\n",
       "      <td>NaN</td>\n",
       "      <td>1436</td>\n",
       "      <td>Pub Beer</td>\n",
       "      <td>American Pale Lager</td>\n",
       "      <td>408</td>\n",
       "      <td>12.0</td>\n",
       "    </tr>\n",
       "    <tr>\n",
       "      <th>1</th>\n",
       "      <td>0.066</td>\n",
       "      <td>NaN</td>\n",
       "      <td>2265</td>\n",
       "      <td>Devil's Cup</td>\n",
       "      <td>American Pale Ale (APA)</td>\n",
       "      <td>177</td>\n",
       "      <td>12.0</td>\n",
       "    </tr>\n",
       "    <tr>\n",
       "      <th>2</th>\n",
       "      <td>0.071</td>\n",
       "      <td>NaN</td>\n",
       "      <td>2264</td>\n",
       "      <td>Rise of the Phoenix</td>\n",
       "      <td>American IPA</td>\n",
       "      <td>177</td>\n",
       "      <td>12.0</td>\n",
       "    </tr>\n",
       "    <tr>\n",
       "      <th>3</th>\n",
       "      <td>0.090</td>\n",
       "      <td>NaN</td>\n",
       "      <td>2263</td>\n",
       "      <td>Sinister</td>\n",
       "      <td>American Double / Imperial IPA</td>\n",
       "      <td>177</td>\n",
       "      <td>12.0</td>\n",
       "    </tr>\n",
       "    <tr>\n",
       "      <th>4</th>\n",
       "      <td>0.075</td>\n",
       "      <td>NaN</td>\n",
       "      <td>2262</td>\n",
       "      <td>Sex and Candy</td>\n",
       "      <td>American IPA</td>\n",
       "      <td>177</td>\n",
       "      <td>12.0</td>\n",
       "    </tr>\n",
       "    <tr>\n",
       "      <th>...</th>\n",
       "      <td>...</td>\n",
       "      <td>...</td>\n",
       "      <td>...</td>\n",
       "      <td>...</td>\n",
       "      <td>...</td>\n",
       "      <td>...</td>\n",
       "      <td>...</td>\n",
       "    </tr>\n",
       "    <tr>\n",
       "      <th>2405</th>\n",
       "      <td>0.067</td>\n",
       "      <td>45.0</td>\n",
       "      <td>928</td>\n",
       "      <td>Belgorado</td>\n",
       "      <td>Belgian IPA</td>\n",
       "      <td>424</td>\n",
       "      <td>12.0</td>\n",
       "    </tr>\n",
       "    <tr>\n",
       "      <th>2406</th>\n",
       "      <td>0.052</td>\n",
       "      <td>NaN</td>\n",
       "      <td>807</td>\n",
       "      <td>Rail Yard Ale</td>\n",
       "      <td>American Amber / Red Ale</td>\n",
       "      <td>424</td>\n",
       "      <td>12.0</td>\n",
       "    </tr>\n",
       "    <tr>\n",
       "      <th>2407</th>\n",
       "      <td>0.055</td>\n",
       "      <td>NaN</td>\n",
       "      <td>620</td>\n",
       "      <td>B3K Black Lager</td>\n",
       "      <td>Schwarzbier</td>\n",
       "      <td>424</td>\n",
       "      <td>12.0</td>\n",
       "    </tr>\n",
       "    <tr>\n",
       "      <th>2408</th>\n",
       "      <td>0.055</td>\n",
       "      <td>40.0</td>\n",
       "      <td>145</td>\n",
       "      <td>Silverback Pale Ale</td>\n",
       "      <td>American Pale Ale (APA)</td>\n",
       "      <td>424</td>\n",
       "      <td>12.0</td>\n",
       "    </tr>\n",
       "    <tr>\n",
       "      <th>2409</th>\n",
       "      <td>0.052</td>\n",
       "      <td>NaN</td>\n",
       "      <td>84</td>\n",
       "      <td>Rail Yard Ale (2009)</td>\n",
       "      <td>American Amber / Red Ale</td>\n",
       "      <td>424</td>\n",
       "      <td>12.0</td>\n",
       "    </tr>\n",
       "  </tbody>\n",
       "</table>\n",
       "<p>2410 rows × 7 columns</p>\n",
       "</div>"
      ],
      "text/plain": [
       "        abv   ibu    id                  name                           style  \\\n",
       "0     0.050   NaN  1436              Pub Beer             American Pale Lager   \n",
       "1     0.066   NaN  2265           Devil's Cup         American Pale Ale (APA)   \n",
       "2     0.071   NaN  2264   Rise of the Phoenix                    American IPA   \n",
       "3     0.090   NaN  2263              Sinister  American Double / Imperial IPA   \n",
       "4     0.075   NaN  2262         Sex and Candy                    American IPA   \n",
       "...     ...   ...   ...                   ...                             ...   \n",
       "2405  0.067  45.0   928             Belgorado                     Belgian IPA   \n",
       "2406  0.052   NaN   807         Rail Yard Ale        American Amber / Red Ale   \n",
       "2407  0.055   NaN   620       B3K Black Lager                     Schwarzbier   \n",
       "2408  0.055  40.0   145   Silverback Pale Ale         American Pale Ale (APA)   \n",
       "2409  0.052   NaN    84  Rail Yard Ale (2009)        American Amber / Red Ale   \n",
       "\n",
       "      brewery_id  ounces  \n",
       "0            408    12.0  \n",
       "1            177    12.0  \n",
       "2            177    12.0  \n",
       "3            177    12.0  \n",
       "4            177    12.0  \n",
       "...          ...     ...  \n",
       "2405         424    12.0  \n",
       "2406         424    12.0  \n",
       "2407         424    12.0  \n",
       "2408         424    12.0  \n",
       "2409         424    12.0  \n",
       "\n",
       "[2410 rows x 7 columns]"
      ]
     },
     "execution_count": 50,
     "metadata": {},
     "output_type": "execute_result"
    }
   ],
   "source": [
    "beer"
   ]
  },
  {
   "attachments": {},
   "cell_type": "markdown",
   "metadata": {},
   "source": [
    "## Ejercicio 4\n",
    "¿Cuántas filas y columnas tiene el dataset?"
   ]
  },
  {
   "cell_type": "code",
   "execution_count": 51,
   "metadata": {},
   "outputs": [],
   "source": [
    "#2410 filas y 7 columnas"
   ]
  },
  {
   "cell_type": "code",
   "execution_count": 52,
   "metadata": {},
   "outputs": [
    {
     "data": {
      "text/plain": [
       "2410"
      ]
     },
     "execution_count": 52,
     "metadata": {},
     "output_type": "execute_result"
    }
   ],
   "source": [
    "beer.shape[0]"
   ]
  },
  {
   "attachments": {},
   "cell_type": "markdown",
   "metadata": {},
   "source": [
    "## Ejercicio 5\n",
    "¿De qué tipo son los datos?"
   ]
  },
  {
   "cell_type": "code",
   "execution_count": 53,
   "metadata": {},
   "outputs": [
    {
     "data": {
      "text/plain": [
       "abv           float64\n",
       "ibu           float64\n",
       "id              int64\n",
       "name           object\n",
       "style          object\n",
       "brewery_id      int64\n",
       "ounces        float64\n",
       "dtype: object"
      ]
     },
     "execution_count": 53,
     "metadata": {},
     "output_type": "execute_result"
    }
   ],
   "source": [
    "beer.dtypes"
   ]
  },
  {
   "attachments": {},
   "cell_type": "markdown",
   "metadata": {},
   "source": [
    "## Ejercicio 6\n",
    "Obtén en un nuevo DataFrame un resumen con las principales estadísticas de las columnas numéricas: mean, max, count, cuartiles..."
   ]
  },
  {
   "cell_type": "code",
   "execution_count": 54,
   "metadata": {},
   "outputs": [
    {
     "name": "stdout",
     "output_type": "stream",
     "text": [
      "<class 'pandas.core.frame.DataFrame'>\n",
      "RangeIndex: 2410 entries, 0 to 2409\n",
      "Data columns (total 7 columns):\n",
      " #   Column      Non-Null Count  Dtype  \n",
      "---  ------      --------------  -----  \n",
      " 0   abv         2348 non-null   float64\n",
      " 1   ibu         1405 non-null   float64\n",
      " 2   id          2410 non-null   int64  \n",
      " 3   name        2410 non-null   object \n",
      " 4   style       2405 non-null   object \n",
      " 5   brewery_id  2410 non-null   int64  \n",
      " 6   ounces      2410 non-null   float64\n",
      "dtypes: float64(3), int64(2), object(2)\n",
      "memory usage: 131.9+ KB\n"
     ]
    }
   ],
   "source": [
    "beer.info()"
   ]
  },
  {
   "cell_type": "code",
   "execution_count": 55,
   "metadata": {},
   "outputs": [
    {
     "data": {
      "application/vnd.microsoft.datawrangler.viewer.v0+json": {
       "columns": [
        {
         "name": "index",
         "rawType": "object",
         "type": "string"
        },
        {
         "name": "abv",
         "rawType": "float64",
         "type": "float"
        },
        {
         "name": "ibu",
         "rawType": "float64",
         "type": "float"
        },
        {
         "name": "id",
         "rawType": "float64",
         "type": "float"
        },
        {
         "name": "brewery_id",
         "rawType": "float64",
         "type": "float"
        },
        {
         "name": "ounces",
         "rawType": "float64",
         "type": "float"
        }
       ],
       "conversionMethod": "pd.DataFrame",
       "ref": "ff2b4d25-876e-4125-909c-74cf0142ca69",
       "rows": [
        [
         "count",
         "2348.0",
         "1405.0",
         "2410.0",
         "2410.0",
         "2410.0"
        ],
        [
         "mean",
         "0.05977342419080067",
         "42.71316725978647",
         "1431.1132780082987",
         "231.74979253112033",
         "13.592240663900414"
        ],
        [
         "std",
         "0.013541733716680264",
         "25.954065911259317",
         "752.4599745599074",
         "157.68560410041619",
         "2.3522036778603734"
        ],
        [
         "min",
         "0.001",
         "4.0",
         "1.0",
         "0.0",
         "8.4"
        ],
        [
         "25%",
         "0.05",
         "21.0",
         "808.25",
         "93.0",
         "12.0"
        ],
        [
         "50%",
         "0.0559999999999999",
         "35.0",
         "1453.5",
         "205.0",
         "12.0"
        ],
        [
         "75%",
         "0.067",
         "64.0",
         "2075.75",
         "366.0",
         "16.0"
        ],
        [
         "max",
         "0.128",
         "138.0",
         "2692.0",
         "557.0",
         "32.0"
        ]
       ],
       "shape": {
        "columns": 5,
        "rows": 8
       }
      },
      "text/html": [
       "<div>\n",
       "<style scoped>\n",
       "    .dataframe tbody tr th:only-of-type {\n",
       "        vertical-align: middle;\n",
       "    }\n",
       "\n",
       "    .dataframe tbody tr th {\n",
       "        vertical-align: top;\n",
       "    }\n",
       "\n",
       "    .dataframe thead th {\n",
       "        text-align: right;\n",
       "    }\n",
       "</style>\n",
       "<table border=\"1\" class=\"dataframe\">\n",
       "  <thead>\n",
       "    <tr style=\"text-align: right;\">\n",
       "      <th></th>\n",
       "      <th>abv</th>\n",
       "      <th>ibu</th>\n",
       "      <th>id</th>\n",
       "      <th>brewery_id</th>\n",
       "      <th>ounces</th>\n",
       "    </tr>\n",
       "  </thead>\n",
       "  <tbody>\n",
       "    <tr>\n",
       "      <th>count</th>\n",
       "      <td>2348.000000</td>\n",
       "      <td>1405.000000</td>\n",
       "      <td>2410.000000</td>\n",
       "      <td>2410.000000</td>\n",
       "      <td>2410.000000</td>\n",
       "    </tr>\n",
       "    <tr>\n",
       "      <th>mean</th>\n",
       "      <td>0.059773</td>\n",
       "      <td>42.713167</td>\n",
       "      <td>1431.113278</td>\n",
       "      <td>231.749793</td>\n",
       "      <td>13.592241</td>\n",
       "    </tr>\n",
       "    <tr>\n",
       "      <th>std</th>\n",
       "      <td>0.013542</td>\n",
       "      <td>25.954066</td>\n",
       "      <td>752.459975</td>\n",
       "      <td>157.685604</td>\n",
       "      <td>2.352204</td>\n",
       "    </tr>\n",
       "    <tr>\n",
       "      <th>min</th>\n",
       "      <td>0.001000</td>\n",
       "      <td>4.000000</td>\n",
       "      <td>1.000000</td>\n",
       "      <td>0.000000</td>\n",
       "      <td>8.400000</td>\n",
       "    </tr>\n",
       "    <tr>\n",
       "      <th>25%</th>\n",
       "      <td>0.050000</td>\n",
       "      <td>21.000000</td>\n",
       "      <td>808.250000</td>\n",
       "      <td>93.000000</td>\n",
       "      <td>12.000000</td>\n",
       "    </tr>\n",
       "    <tr>\n",
       "      <th>50%</th>\n",
       "      <td>0.056000</td>\n",
       "      <td>35.000000</td>\n",
       "      <td>1453.500000</td>\n",
       "      <td>205.000000</td>\n",
       "      <td>12.000000</td>\n",
       "    </tr>\n",
       "    <tr>\n",
       "      <th>75%</th>\n",
       "      <td>0.067000</td>\n",
       "      <td>64.000000</td>\n",
       "      <td>2075.750000</td>\n",
       "      <td>366.000000</td>\n",
       "      <td>16.000000</td>\n",
       "    </tr>\n",
       "    <tr>\n",
       "      <th>max</th>\n",
       "      <td>0.128000</td>\n",
       "      <td>138.000000</td>\n",
       "      <td>2692.000000</td>\n",
       "      <td>557.000000</td>\n",
       "      <td>32.000000</td>\n",
       "    </tr>\n",
       "  </tbody>\n",
       "</table>\n",
       "</div>"
      ],
      "text/plain": [
       "               abv          ibu           id   brewery_id       ounces\n",
       "count  2348.000000  1405.000000  2410.000000  2410.000000  2410.000000\n",
       "mean      0.059773    42.713167  1431.113278   231.749793    13.592241\n",
       "std       0.013542    25.954066   752.459975   157.685604     2.352204\n",
       "min       0.001000     4.000000     1.000000     0.000000     8.400000\n",
       "25%       0.050000    21.000000   808.250000    93.000000    12.000000\n",
       "50%       0.056000    35.000000  1453.500000   205.000000    12.000000\n",
       "75%       0.067000    64.000000  2075.750000   366.000000    16.000000\n",
       "max       0.128000   138.000000  2692.000000   557.000000    32.000000"
      ]
     },
     "execution_count": 55,
     "metadata": {},
     "output_type": "execute_result"
    }
   ],
   "source": [
    "data = beer.describe()\n",
    "data"
   ]
  },
  {
   "cell_type": "code",
   "execution_count": 56,
   "metadata": {},
   "outputs": [
    {
     "name": "stdout",
     "output_type": "stream",
     "text": [
      "<class 'pandas.core.frame.DataFrame'>\n",
      "RangeIndex: 2410 entries, 0 to 2409\n",
      "Data columns (total 7 columns):\n",
      " #   Column      Non-Null Count  Dtype  \n",
      "---  ------      --------------  -----  \n",
      " 0   abv         2348 non-null   float64\n",
      " 1   ibu         1405 non-null   float64\n",
      " 2   id          2410 non-null   int64  \n",
      " 3   name        2410 non-null   object \n",
      " 4   style       2405 non-null   object \n",
      " 5   brewery_id  2410 non-null   int64  \n",
      " 6   ounces      2410 non-null   float64\n",
      "dtypes: float64(3), int64(2), object(2)\n",
      "memory usage: 131.9+ KB\n"
     ]
    }
   ],
   "source": [
    "beer.info()"
   ]
  },
  {
   "cell_type": "code",
   "execution_count": 57,
   "metadata": {},
   "outputs": [
    {
     "data": {
      "application/vnd.microsoft.datawrangler.viewer.v0+json": {
       "columns": [
        {
         "name": "index",
         "rawType": "object",
         "type": "string"
        },
        {
         "name": "abv",
         "rawType": "float64",
         "type": "float"
        },
        {
         "name": "ibu",
         "rawType": "float64",
         "type": "float"
        },
        {
         "name": "id",
         "rawType": "float64",
         "type": "float"
        },
        {
         "name": "brewery_id",
         "rawType": "float64",
         "type": "float"
        },
        {
         "name": "ounces",
         "rawType": "float64",
         "type": "float"
        }
       ],
       "conversionMethod": "pd.DataFrame",
       "ref": "ae4472b3-ac56-45c0-bcbc-5c563f5221d1",
       "rows": [
        [
         "count",
         "2348.0",
         "1405.0",
         "2410.0",
         "2410.0",
         "2410.0"
        ],
        [
         "mean",
         "0.05977342419080067",
         "42.71316725978647",
         "1431.1132780082987",
         "231.74979253112033",
         "13.592240663900414"
        ],
        [
         "std",
         "0.013541733716680264",
         "25.954065911259317",
         "752.4599745599074",
         "157.68560410041619",
         "2.3522036778603734"
        ],
        [
         "min",
         "0.001",
         "4.0",
         "1.0",
         "0.0",
         "8.4"
        ],
        [
         "25%",
         "0.05",
         "21.0",
         "808.25",
         "93.0",
         "12.0"
        ],
        [
         "50%",
         "0.0559999999999999",
         "35.0",
         "1453.5",
         "205.0",
         "12.0"
        ],
        [
         "75%",
         "0.067",
         "64.0",
         "2075.75",
         "366.0",
         "16.0"
        ],
        [
         "max",
         "0.128",
         "138.0",
         "2692.0",
         "557.0",
         "32.0"
        ]
       ],
       "shape": {
        "columns": 5,
        "rows": 8
       }
      },
      "text/html": [
       "<div>\n",
       "<style scoped>\n",
       "    .dataframe tbody tr th:only-of-type {\n",
       "        vertical-align: middle;\n",
       "    }\n",
       "\n",
       "    .dataframe tbody tr th {\n",
       "        vertical-align: top;\n",
       "    }\n",
       "\n",
       "    .dataframe thead th {\n",
       "        text-align: right;\n",
       "    }\n",
       "</style>\n",
       "<table border=\"1\" class=\"dataframe\">\n",
       "  <thead>\n",
       "    <tr style=\"text-align: right;\">\n",
       "      <th></th>\n",
       "      <th>abv</th>\n",
       "      <th>ibu</th>\n",
       "      <th>id</th>\n",
       "      <th>brewery_id</th>\n",
       "      <th>ounces</th>\n",
       "    </tr>\n",
       "  </thead>\n",
       "  <tbody>\n",
       "    <tr>\n",
       "      <th>count</th>\n",
       "      <td>2348.000000</td>\n",
       "      <td>1405.000000</td>\n",
       "      <td>2410.000000</td>\n",
       "      <td>2410.000000</td>\n",
       "      <td>2410.000000</td>\n",
       "    </tr>\n",
       "    <tr>\n",
       "      <th>mean</th>\n",
       "      <td>0.059773</td>\n",
       "      <td>42.713167</td>\n",
       "      <td>1431.113278</td>\n",
       "      <td>231.749793</td>\n",
       "      <td>13.592241</td>\n",
       "    </tr>\n",
       "    <tr>\n",
       "      <th>std</th>\n",
       "      <td>0.013542</td>\n",
       "      <td>25.954066</td>\n",
       "      <td>752.459975</td>\n",
       "      <td>157.685604</td>\n",
       "      <td>2.352204</td>\n",
       "    </tr>\n",
       "    <tr>\n",
       "      <th>min</th>\n",
       "      <td>0.001000</td>\n",
       "      <td>4.000000</td>\n",
       "      <td>1.000000</td>\n",
       "      <td>0.000000</td>\n",
       "      <td>8.400000</td>\n",
       "    </tr>\n",
       "    <tr>\n",
       "      <th>25%</th>\n",
       "      <td>0.050000</td>\n",
       "      <td>21.000000</td>\n",
       "      <td>808.250000</td>\n",
       "      <td>93.000000</td>\n",
       "      <td>12.000000</td>\n",
       "    </tr>\n",
       "    <tr>\n",
       "      <th>50%</th>\n",
       "      <td>0.056000</td>\n",
       "      <td>35.000000</td>\n",
       "      <td>1453.500000</td>\n",
       "      <td>205.000000</td>\n",
       "      <td>12.000000</td>\n",
       "    </tr>\n",
       "    <tr>\n",
       "      <th>75%</th>\n",
       "      <td>0.067000</td>\n",
       "      <td>64.000000</td>\n",
       "      <td>2075.750000</td>\n",
       "      <td>366.000000</td>\n",
       "      <td>16.000000</td>\n",
       "    </tr>\n",
       "    <tr>\n",
       "      <th>max</th>\n",
       "      <td>0.128000</td>\n",
       "      <td>138.000000</td>\n",
       "      <td>2692.000000</td>\n",
       "      <td>557.000000</td>\n",
       "      <td>32.000000</td>\n",
       "    </tr>\n",
       "  </tbody>\n",
       "</table>\n",
       "</div>"
      ],
      "text/plain": [
       "               abv          ibu           id   brewery_id       ounces\n",
       "count  2348.000000  1405.000000  2410.000000  2410.000000  2410.000000\n",
       "mean      0.059773    42.713167  1431.113278   231.749793    13.592241\n",
       "std       0.013542    25.954066   752.459975   157.685604     2.352204\n",
       "min       0.001000     4.000000     1.000000     0.000000     8.400000\n",
       "25%       0.050000    21.000000   808.250000    93.000000    12.000000\n",
       "50%       0.056000    35.000000  1453.500000   205.000000    12.000000\n",
       "75%       0.067000    64.000000  2075.750000   366.000000    16.000000\n",
       "max       0.128000   138.000000  2692.000000   557.000000    32.000000"
      ]
     },
     "execution_count": 57,
     "metadata": {},
     "output_type": "execute_result"
    }
   ],
   "source": [
    "beer_resumen = beer.describe()\n",
    "\n",
    "beer_resumen"
   ]
  },
  {
   "cell_type": "markdown",
   "metadata": {},
   "source": [
    "ls cuartiles nos dan una pista de como estan distribuidaslas variables en el histograma"
   ]
  },
  {
   "attachments": {},
   "cell_type": "markdown",
   "metadata": {},
   "source": [
    "## Ejercicio 7\n",
    "¿Cuántas birras hay de cada estilo en este dataset? [Investiga en la documentación de Series](https://pandas.pydata.org/pandas-docs/stable/reference/api/pandas.Series.html) si puedes hacer un conteo de valores."
   ]
  },
  {
   "cell_type": "code",
   "execution_count": 58,
   "metadata": {},
   "outputs": [
    {
     "data": {
      "application/vnd.microsoft.datawrangler.viewer.v0+json": {
       "columns": [
        {
         "name": "index",
         "rawType": "int64",
         "type": "integer"
        },
        {
         "name": "abv",
         "rawType": "float64",
         "type": "float"
        },
        {
         "name": "ibu",
         "rawType": "float64",
         "type": "float"
        },
        {
         "name": "id",
         "rawType": "int64",
         "type": "integer"
        },
        {
         "name": "name",
         "rawType": "object",
         "type": "string"
        },
        {
         "name": "style",
         "rawType": "object",
         "type": "unknown"
        },
        {
         "name": "brewery_id",
         "rawType": "int64",
         "type": "integer"
        },
        {
         "name": "ounces",
         "rawType": "float64",
         "type": "float"
        }
       ],
       "conversionMethod": "pd.DataFrame",
       "ref": "d9541797-7a1c-41df-b1bf-b39148ec30dd",
       "rows": [
        [
         "0",
         "0.05",
         null,
         "1436",
         "Pub Beer",
         "American Pale Lager",
         "408",
         "12.0"
        ],
        [
         "1",
         "0.066",
         null,
         "2265",
         "Devil's Cup",
         "American Pale Ale (APA)",
         "177",
         "12.0"
        ],
        [
         "2",
         "0.071",
         null,
         "2264",
         "Rise of the Phoenix",
         "American IPA",
         "177",
         "12.0"
        ],
        [
         "3",
         "0.09",
         null,
         "2263",
         "Sinister",
         "American Double / Imperial IPA",
         "177",
         "12.0"
        ],
        [
         "4",
         "0.075",
         null,
         "2262",
         "Sex and Candy",
         "American IPA",
         "177",
         "12.0"
        ],
        [
         "5",
         "0.077",
         null,
         "2261",
         "Black Exodus",
         "Oatmeal Stout",
         "177",
         "12.0"
        ],
        [
         "6",
         "0.045",
         null,
         "2260",
         "Lake Street Express",
         "American Pale Ale (APA)",
         "177",
         "12.0"
        ],
        [
         "7",
         "0.065",
         null,
         "2259",
         "Foreman",
         "American Porter",
         "177",
         "12.0"
        ],
        [
         "8",
         "0.055",
         null,
         "2258",
         "Jade",
         "American Pale Ale (APA)",
         "177",
         "12.0"
        ],
        [
         "9",
         "0.086",
         null,
         "2131",
         "Cone Crusher",
         "American Double / Imperial IPA",
         "177",
         "12.0"
        ],
        [
         "10",
         "0.072",
         null,
         "2099",
         "Sophomoric Saison",
         "Saison / Farmhouse Ale",
         "177",
         "12.0"
        ],
        [
         "11",
         "0.073",
         null,
         "2098",
         "Regional Ring Of Fire",
         "Saison / Farmhouse Ale",
         "177",
         "12.0"
        ],
        [
         "12",
         "0.069",
         null,
         "2097",
         "Garce Selé",
         "Saison / Farmhouse Ale",
         "177",
         "12.0"
        ],
        [
         "13",
         "0.085",
         null,
         "1980",
         "Troll Destroyer",
         "Belgian IPA",
         "177",
         "12.0"
        ],
        [
         "14",
         "0.061",
         "60.0",
         "1979",
         "Bitter Bitch",
         "American Pale Ale (APA)",
         "177",
         "12.0"
        ],
        [
         "15",
         "0.06",
         null,
         "2318",
         "Ginja Ninja",
         "Cider",
         "154",
         "12.0"
        ],
        [
         "16",
         "0.06",
         null,
         "2170",
         "Cherried Away",
         "Cider",
         "154",
         "12.0"
        ],
        [
         "17",
         "0.06",
         null,
         "2169",
         "Rhubarbarian",
         "Cider",
         "154",
         "12.0"
        ],
        [
         "18",
         "0.06",
         null,
         "1502",
         "BrightCider",
         "Cider",
         "154",
         "12.0"
        ],
        [
         "19",
         "0.0819999999999999",
         null,
         "1593",
         "He Said Baltic-Style Porter",
         "Baltic Porter",
         "368",
         "12.0"
        ],
        [
         "20",
         "0.0819999999999999",
         null,
         "1592",
         "He Said Belgian-Style Tripel",
         "Tripel",
         "368",
         "12.0"
        ],
        [
         "21",
         "0.099",
         "92.0",
         "1036",
         "Lower De Boom",
         "American Barleywine",
         "368",
         "8.4"
        ],
        [
         "22",
         "0.079",
         "45.0",
         "1024",
         "Fireside Chat",
         "Winter Warmer",
         "368",
         "12.0"
        ],
        [
         "23",
         "0.079",
         null,
         "976",
         "Marooned On Hog Island",
         "American Stout",
         "368",
         "12.0"
        ],
        [
         "24",
         "0.044",
         "42.0",
         "876",
         "Bitter American",
         "American Pale Ale (APA)",
         "368",
         "12.0"
        ],
        [
         "25",
         "0.049",
         "17.0",
         "802",
         "Hell or High Watermelon Wheat (2009)",
         "Fruit / Vegetable Beer",
         "368",
         "12.0"
        ],
        [
         "26",
         "0.049",
         "17.0",
         "801",
         "Hell or High Watermelon Wheat (2009)",
         "Fruit / Vegetable Beer",
         "368",
         "12.0"
        ],
        [
         "27",
         "0.049",
         "17.0",
         "800",
         "21st Amendment Watermelon Wheat Beer (2006)",
         "Fruit / Vegetable Beer",
         "368",
         "12.0"
        ],
        [
         "28",
         "0.07",
         "70.0",
         "799",
         "21st Amendment IPA (2006)",
         "American IPA",
         "368",
         "12.0"
        ],
        [
         "29",
         "0.07",
         "70.0",
         "797",
         "Brew Free! or Die IPA (2008)",
         "American IPA",
         "368",
         "12.0"
        ],
        [
         "30",
         "0.07",
         "70.0",
         "796",
         "Brew Free! or Die IPA (2009)",
         "American IPA",
         "368",
         "12.0"
        ],
        [
         "31",
         "0.085",
         "52.0",
         "531",
         "Special Edition: Allies Win The War!",
         "English Strong Ale",
         "368",
         "12.0"
        ],
        [
         "32",
         "0.0969999999999999",
         "94.0",
         "432",
         "Hop Crisis",
         "American Double / Imperial IPA",
         "368",
         "12.0"
        ],
        [
         "33",
         "0.044",
         "42.0",
         "353",
         "Bitter American (2011)",
         "American Pale Ale (APA)",
         "368",
         "12.0"
        ],
        [
         "34",
         "0.079",
         "45.0",
         "321",
         "Fireside Chat (2010)",
         "Winter Warmer",
         "368",
         "12.0"
        ],
        [
         "35",
         "0.068",
         "65.0",
         "173",
         "Back in Black",
         "American Black Ale",
         "368",
         "12.0"
        ],
        [
         "36",
         "0.083",
         "35.0",
         "11",
         "Monk's Blood",
         "Belgian Dark Ale",
         "368",
         "12.0"
        ],
        [
         "37",
         "0.07",
         "65.0",
         "10",
         "Brew Free! or Die IPA",
         "American IPA",
         "368",
         "12.0"
        ],
        [
         "38",
         "0.049",
         "17.0",
         "9",
         "Hell or High Watermelon Wheat",
         "Fruit / Vegetable Beer",
         "368",
         "12.0"
        ],
        [
         "39",
         "0.07",
         "82.0",
         "2519",
         "Bimini Twist",
         "American IPA",
         "67",
         "12.0"
        ],
        [
         "40",
         "0.05",
         null,
         "2518",
         "Beach Blonde",
         "American Blonde Ale",
         "67",
         "12.0"
        ],
        [
         "41",
         "0.059",
         null,
         "2517",
         "Rod Bender Red",
         "American Amber / Red Ale",
         "67",
         "12.0"
        ],
        [
         "42",
         "0.035",
         "11.0",
         "2545",
         "Passion Fruit Prussia",
         "Berliner Weissbier",
         "60",
         "12.0"
        ],
        [
         "43",
         "0.045",
         "18.0",
         "2544",
         "Send Help",
         "American Blonde Ale",
         "60",
         "12.0"
        ],
        [
         "44",
         "0.055",
         null,
         "2324",
         "Cast Iron Oatmeal Brown",
         "American Brown Ale",
         "60",
         "12.0"
        ],
        [
         "45",
         "0.06",
         null,
         "2288",
         "Reprise Centennial Red",
         "American Amber / Red Ale",
         "60",
         "12.0"
        ],
        [
         "46",
         "0.055",
         null,
         "2287",
         "Alter Ego",
         "American Black Ale",
         "60",
         "12.0"
        ],
        [
         "47",
         "0.065",
         null,
         "2286",
         "Divided Sky",
         "American IPA",
         "60",
         "12.0"
        ],
        [
         "48",
         "0.065",
         null,
         "2285",
         "Resurrected",
         "American IPA",
         "60",
         "12.0"
        ],
        [
         "49",
         "0.05",
         "28.0",
         "1870",
         "Contact High",
         "American Pale Wheat Ale",
         "60",
         "12.0"
        ]
       ],
       "shape": {
        "columns": 7,
        "rows": 2410
       }
      },
      "text/html": [
       "<div>\n",
       "<style scoped>\n",
       "    .dataframe tbody tr th:only-of-type {\n",
       "        vertical-align: middle;\n",
       "    }\n",
       "\n",
       "    .dataframe tbody tr th {\n",
       "        vertical-align: top;\n",
       "    }\n",
       "\n",
       "    .dataframe thead th {\n",
       "        text-align: right;\n",
       "    }\n",
       "</style>\n",
       "<table border=\"1\" class=\"dataframe\">\n",
       "  <thead>\n",
       "    <tr style=\"text-align: right;\">\n",
       "      <th></th>\n",
       "      <th>abv</th>\n",
       "      <th>ibu</th>\n",
       "      <th>id</th>\n",
       "      <th>name</th>\n",
       "      <th>style</th>\n",
       "      <th>brewery_id</th>\n",
       "      <th>ounces</th>\n",
       "    </tr>\n",
       "  </thead>\n",
       "  <tbody>\n",
       "    <tr>\n",
       "      <th>0</th>\n",
       "      <td>0.050</td>\n",
       "      <td>NaN</td>\n",
       "      <td>1436</td>\n",
       "      <td>Pub Beer</td>\n",
       "      <td>American Pale Lager</td>\n",
       "      <td>408</td>\n",
       "      <td>12.0</td>\n",
       "    </tr>\n",
       "    <tr>\n",
       "      <th>1</th>\n",
       "      <td>0.066</td>\n",
       "      <td>NaN</td>\n",
       "      <td>2265</td>\n",
       "      <td>Devil's Cup</td>\n",
       "      <td>American Pale Ale (APA)</td>\n",
       "      <td>177</td>\n",
       "      <td>12.0</td>\n",
       "    </tr>\n",
       "    <tr>\n",
       "      <th>2</th>\n",
       "      <td>0.071</td>\n",
       "      <td>NaN</td>\n",
       "      <td>2264</td>\n",
       "      <td>Rise of the Phoenix</td>\n",
       "      <td>American IPA</td>\n",
       "      <td>177</td>\n",
       "      <td>12.0</td>\n",
       "    </tr>\n",
       "    <tr>\n",
       "      <th>3</th>\n",
       "      <td>0.090</td>\n",
       "      <td>NaN</td>\n",
       "      <td>2263</td>\n",
       "      <td>Sinister</td>\n",
       "      <td>American Double / Imperial IPA</td>\n",
       "      <td>177</td>\n",
       "      <td>12.0</td>\n",
       "    </tr>\n",
       "    <tr>\n",
       "      <th>4</th>\n",
       "      <td>0.075</td>\n",
       "      <td>NaN</td>\n",
       "      <td>2262</td>\n",
       "      <td>Sex and Candy</td>\n",
       "      <td>American IPA</td>\n",
       "      <td>177</td>\n",
       "      <td>12.0</td>\n",
       "    </tr>\n",
       "    <tr>\n",
       "      <th>...</th>\n",
       "      <td>...</td>\n",
       "      <td>...</td>\n",
       "      <td>...</td>\n",
       "      <td>...</td>\n",
       "      <td>...</td>\n",
       "      <td>...</td>\n",
       "      <td>...</td>\n",
       "    </tr>\n",
       "    <tr>\n",
       "      <th>2405</th>\n",
       "      <td>0.067</td>\n",
       "      <td>45.0</td>\n",
       "      <td>928</td>\n",
       "      <td>Belgorado</td>\n",
       "      <td>Belgian IPA</td>\n",
       "      <td>424</td>\n",
       "      <td>12.0</td>\n",
       "    </tr>\n",
       "    <tr>\n",
       "      <th>2406</th>\n",
       "      <td>0.052</td>\n",
       "      <td>NaN</td>\n",
       "      <td>807</td>\n",
       "      <td>Rail Yard Ale</td>\n",
       "      <td>American Amber / Red Ale</td>\n",
       "      <td>424</td>\n",
       "      <td>12.0</td>\n",
       "    </tr>\n",
       "    <tr>\n",
       "      <th>2407</th>\n",
       "      <td>0.055</td>\n",
       "      <td>NaN</td>\n",
       "      <td>620</td>\n",
       "      <td>B3K Black Lager</td>\n",
       "      <td>Schwarzbier</td>\n",
       "      <td>424</td>\n",
       "      <td>12.0</td>\n",
       "    </tr>\n",
       "    <tr>\n",
       "      <th>2408</th>\n",
       "      <td>0.055</td>\n",
       "      <td>40.0</td>\n",
       "      <td>145</td>\n",
       "      <td>Silverback Pale Ale</td>\n",
       "      <td>American Pale Ale (APA)</td>\n",
       "      <td>424</td>\n",
       "      <td>12.0</td>\n",
       "    </tr>\n",
       "    <tr>\n",
       "      <th>2409</th>\n",
       "      <td>0.052</td>\n",
       "      <td>NaN</td>\n",
       "      <td>84</td>\n",
       "      <td>Rail Yard Ale (2009)</td>\n",
       "      <td>American Amber / Red Ale</td>\n",
       "      <td>424</td>\n",
       "      <td>12.0</td>\n",
       "    </tr>\n",
       "  </tbody>\n",
       "</table>\n",
       "<p>2410 rows × 7 columns</p>\n",
       "</div>"
      ],
      "text/plain": [
       "        abv   ibu    id                  name                           style  \\\n",
       "0     0.050   NaN  1436              Pub Beer             American Pale Lager   \n",
       "1     0.066   NaN  2265           Devil's Cup         American Pale Ale (APA)   \n",
       "2     0.071   NaN  2264   Rise of the Phoenix                    American IPA   \n",
       "3     0.090   NaN  2263              Sinister  American Double / Imperial IPA   \n",
       "4     0.075   NaN  2262         Sex and Candy                    American IPA   \n",
       "...     ...   ...   ...                   ...                             ...   \n",
       "2405  0.067  45.0   928             Belgorado                     Belgian IPA   \n",
       "2406  0.052   NaN   807         Rail Yard Ale        American Amber / Red Ale   \n",
       "2407  0.055   NaN   620       B3K Black Lager                     Schwarzbier   \n",
       "2408  0.055  40.0   145   Silverback Pale Ale         American Pale Ale (APA)   \n",
       "2409  0.052   NaN    84  Rail Yard Ale (2009)        American Amber / Red Ale   \n",
       "\n",
       "      brewery_id  ounces  \n",
       "0            408    12.0  \n",
       "1            177    12.0  \n",
       "2            177    12.0  \n",
       "3            177    12.0  \n",
       "4            177    12.0  \n",
       "...          ...     ...  \n",
       "2405         424    12.0  \n",
       "2406         424    12.0  \n",
       "2407         424    12.0  \n",
       "2408         424    12.0  \n",
       "2409         424    12.0  \n",
       "\n",
       "[2410 rows x 7 columns]"
      ]
     },
     "execution_count": 58,
     "metadata": {},
     "output_type": "execute_result"
    }
   ],
   "source": [
    "beer"
   ]
  },
  {
   "cell_type": "code",
   "execution_count": 59,
   "metadata": {},
   "outputs": [
    {
     "data": {
      "text/plain": [
       "style\n",
       "American IPA                      424\n",
       "American Pale Ale (APA)           245\n",
       "American Amber / Red Ale          133\n",
       "American Blonde Ale               108\n",
       "American Double / Imperial IPA    105\n",
       "                                 ... \n",
       "Wheat Ale                           1\n",
       "Grisette                            1\n",
       "Flanders Oud Bruin                  1\n",
       "Braggot                             1\n",
       "Low Alcohol Beer                    1\n",
       "Name: count, Length: 99, dtype: int64"
      ]
     },
     "execution_count": 59,
     "metadata": {},
     "output_type": "execute_result"
    }
   ],
   "source": [
    "numero_birras = beer[\"style\"].value_counts(ascending=False)\n",
    "numero_birras"
   ]
  },
  {
   "attachments": {},
   "cell_type": "markdown",
   "metadata": {},
   "source": [
    "## Ejercicio 8\n",
    "1. Imprime por pantalla los registros desde el décimo hasta el vigésimo\n",
    "2. De esos registros, imprime por pantalla desde la columna `name` a `ounces`, ambas incluidas\n",
    "3. Quédate con las columnas `abv`, `ibu` y `ounces`, y además quédate sólo con los registros 10 al 20.\n",
    "4. Convierte el resultado del apartado 3 en un array de `numpy`"
   ]
  },
  {
   "cell_type": "code",
   "execution_count": 60,
   "metadata": {},
   "outputs": [
    {
     "data": {
      "application/vnd.microsoft.datawrangler.viewer.v0+json": {
       "columns": [
        {
         "name": "index",
         "rawType": "int64",
         "type": "integer"
        },
        {
         "name": "abv",
         "rawType": "float64",
         "type": "float"
        },
        {
         "name": "ibu",
         "rawType": "float64",
         "type": "float"
        },
        {
         "name": "id",
         "rawType": "int64",
         "type": "integer"
        },
        {
         "name": "name",
         "rawType": "object",
         "type": "string"
        },
        {
         "name": "style",
         "rawType": "object",
         "type": "string"
        },
        {
         "name": "brewery_id",
         "rawType": "int64",
         "type": "integer"
        },
        {
         "name": "ounces",
         "rawType": "float64",
         "type": "float"
        }
       ],
       "conversionMethod": "pd.DataFrame",
       "ref": "c933e9e6-29c5-43f0-890c-21e07399272c",
       "rows": [
        [
         "10",
         "0.072",
         null,
         "2099",
         "Sophomoric Saison",
         "Saison / Farmhouse Ale",
         "177",
         "12.0"
        ],
        [
         "11",
         "0.073",
         null,
         "2098",
         "Regional Ring Of Fire",
         "Saison / Farmhouse Ale",
         "177",
         "12.0"
        ],
        [
         "12",
         "0.069",
         null,
         "2097",
         "Garce Selé",
         "Saison / Farmhouse Ale",
         "177",
         "12.0"
        ],
        [
         "13",
         "0.085",
         null,
         "1980",
         "Troll Destroyer",
         "Belgian IPA",
         "177",
         "12.0"
        ],
        [
         "14",
         "0.061",
         "60.0",
         "1979",
         "Bitter Bitch",
         "American Pale Ale (APA)",
         "177",
         "12.0"
        ],
        [
         "15",
         "0.06",
         null,
         "2318",
         "Ginja Ninja",
         "Cider",
         "154",
         "12.0"
        ],
        [
         "16",
         "0.06",
         null,
         "2170",
         "Cherried Away",
         "Cider",
         "154",
         "12.0"
        ],
        [
         "17",
         "0.06",
         null,
         "2169",
         "Rhubarbarian",
         "Cider",
         "154",
         "12.0"
        ],
        [
         "18",
         "0.06",
         null,
         "1502",
         "BrightCider",
         "Cider",
         "154",
         "12.0"
        ],
        [
         "19",
         "0.0819999999999999",
         null,
         "1593",
         "He Said Baltic-Style Porter",
         "Baltic Porter",
         "368",
         "12.0"
        ],
        [
         "20",
         "0.0819999999999999",
         null,
         "1592",
         "He Said Belgian-Style Tripel",
         "Tripel",
         "368",
         "12.0"
        ]
       ],
       "shape": {
        "columns": 7,
        "rows": 11
       }
      },
      "text/html": [
       "<div>\n",
       "<style scoped>\n",
       "    .dataframe tbody tr th:only-of-type {\n",
       "        vertical-align: middle;\n",
       "    }\n",
       "\n",
       "    .dataframe tbody tr th {\n",
       "        vertical-align: top;\n",
       "    }\n",
       "\n",
       "    .dataframe thead th {\n",
       "        text-align: right;\n",
       "    }\n",
       "</style>\n",
       "<table border=\"1\" class=\"dataframe\">\n",
       "  <thead>\n",
       "    <tr style=\"text-align: right;\">\n",
       "      <th></th>\n",
       "      <th>abv</th>\n",
       "      <th>ibu</th>\n",
       "      <th>id</th>\n",
       "      <th>name</th>\n",
       "      <th>style</th>\n",
       "      <th>brewery_id</th>\n",
       "      <th>ounces</th>\n",
       "    </tr>\n",
       "  </thead>\n",
       "  <tbody>\n",
       "    <tr>\n",
       "      <th>10</th>\n",
       "      <td>0.072</td>\n",
       "      <td>NaN</td>\n",
       "      <td>2099</td>\n",
       "      <td>Sophomoric Saison</td>\n",
       "      <td>Saison / Farmhouse Ale</td>\n",
       "      <td>177</td>\n",
       "      <td>12.0</td>\n",
       "    </tr>\n",
       "    <tr>\n",
       "      <th>11</th>\n",
       "      <td>0.073</td>\n",
       "      <td>NaN</td>\n",
       "      <td>2098</td>\n",
       "      <td>Regional Ring Of Fire</td>\n",
       "      <td>Saison / Farmhouse Ale</td>\n",
       "      <td>177</td>\n",
       "      <td>12.0</td>\n",
       "    </tr>\n",
       "    <tr>\n",
       "      <th>12</th>\n",
       "      <td>0.069</td>\n",
       "      <td>NaN</td>\n",
       "      <td>2097</td>\n",
       "      <td>Garce Selé</td>\n",
       "      <td>Saison / Farmhouse Ale</td>\n",
       "      <td>177</td>\n",
       "      <td>12.0</td>\n",
       "    </tr>\n",
       "    <tr>\n",
       "      <th>13</th>\n",
       "      <td>0.085</td>\n",
       "      <td>NaN</td>\n",
       "      <td>1980</td>\n",
       "      <td>Troll Destroyer</td>\n",
       "      <td>Belgian IPA</td>\n",
       "      <td>177</td>\n",
       "      <td>12.0</td>\n",
       "    </tr>\n",
       "    <tr>\n",
       "      <th>14</th>\n",
       "      <td>0.061</td>\n",
       "      <td>60.0</td>\n",
       "      <td>1979</td>\n",
       "      <td>Bitter Bitch</td>\n",
       "      <td>American Pale Ale (APA)</td>\n",
       "      <td>177</td>\n",
       "      <td>12.0</td>\n",
       "    </tr>\n",
       "    <tr>\n",
       "      <th>15</th>\n",
       "      <td>0.060</td>\n",
       "      <td>NaN</td>\n",
       "      <td>2318</td>\n",
       "      <td>Ginja Ninja</td>\n",
       "      <td>Cider</td>\n",
       "      <td>154</td>\n",
       "      <td>12.0</td>\n",
       "    </tr>\n",
       "    <tr>\n",
       "      <th>16</th>\n",
       "      <td>0.060</td>\n",
       "      <td>NaN</td>\n",
       "      <td>2170</td>\n",
       "      <td>Cherried Away</td>\n",
       "      <td>Cider</td>\n",
       "      <td>154</td>\n",
       "      <td>12.0</td>\n",
       "    </tr>\n",
       "    <tr>\n",
       "      <th>17</th>\n",
       "      <td>0.060</td>\n",
       "      <td>NaN</td>\n",
       "      <td>2169</td>\n",
       "      <td>Rhubarbarian</td>\n",
       "      <td>Cider</td>\n",
       "      <td>154</td>\n",
       "      <td>12.0</td>\n",
       "    </tr>\n",
       "    <tr>\n",
       "      <th>18</th>\n",
       "      <td>0.060</td>\n",
       "      <td>NaN</td>\n",
       "      <td>1502</td>\n",
       "      <td>BrightCider</td>\n",
       "      <td>Cider</td>\n",
       "      <td>154</td>\n",
       "      <td>12.0</td>\n",
       "    </tr>\n",
       "    <tr>\n",
       "      <th>19</th>\n",
       "      <td>0.082</td>\n",
       "      <td>NaN</td>\n",
       "      <td>1593</td>\n",
       "      <td>He Said Baltic-Style Porter</td>\n",
       "      <td>Baltic Porter</td>\n",
       "      <td>368</td>\n",
       "      <td>12.0</td>\n",
       "    </tr>\n",
       "    <tr>\n",
       "      <th>20</th>\n",
       "      <td>0.082</td>\n",
       "      <td>NaN</td>\n",
       "      <td>1592</td>\n",
       "      <td>He Said Belgian-Style Tripel</td>\n",
       "      <td>Tripel</td>\n",
       "      <td>368</td>\n",
       "      <td>12.0</td>\n",
       "    </tr>\n",
       "  </tbody>\n",
       "</table>\n",
       "</div>"
      ],
      "text/plain": [
       "      abv   ibu    id                          name                    style  \\\n",
       "10  0.072   NaN  2099             Sophomoric Saison   Saison / Farmhouse Ale   \n",
       "11  0.073   NaN  2098         Regional Ring Of Fire   Saison / Farmhouse Ale   \n",
       "12  0.069   NaN  2097                    Garce Selé   Saison / Farmhouse Ale   \n",
       "13  0.085   NaN  1980               Troll Destroyer              Belgian IPA   \n",
       "14  0.061  60.0  1979                  Bitter Bitch  American Pale Ale (APA)   \n",
       "15  0.060   NaN  2318                   Ginja Ninja                    Cider   \n",
       "16  0.060   NaN  2170                 Cherried Away                    Cider   \n",
       "17  0.060   NaN  2169                  Rhubarbarian                    Cider   \n",
       "18  0.060   NaN  1502                   BrightCider                    Cider   \n",
       "19  0.082   NaN  1593   He Said Baltic-Style Porter            Baltic Porter   \n",
       "20  0.082   NaN  1592  He Said Belgian-Style Tripel                   Tripel   \n",
       "\n",
       "    brewery_id  ounces  \n",
       "10         177    12.0  \n",
       "11         177    12.0  \n",
       "12         177    12.0  \n",
       "13         177    12.0  \n",
       "14         177    12.0  \n",
       "15         154    12.0  \n",
       "16         154    12.0  \n",
       "17         154    12.0  \n",
       "18         154    12.0  \n",
       "19         368    12.0  \n",
       "20         368    12.0  "
      ]
     },
     "execution_count": 60,
     "metadata": {},
     "output_type": "execute_result"
    }
   ],
   "source": [
    "beer.loc[10:20, :]"
   ]
  },
  {
   "cell_type": "code",
   "execution_count": 61,
   "metadata": {},
   "outputs": [
    {
     "data": {
      "application/vnd.microsoft.datawrangler.viewer.v0+json": {
       "columns": [
        {
         "name": "index",
         "rawType": "int64",
         "type": "integer"
        },
        {
         "name": "name",
         "rawType": "object",
         "type": "string"
        },
        {
         "name": "style",
         "rawType": "object",
         "type": "string"
        },
        {
         "name": "brewery_id",
         "rawType": "int64",
         "type": "integer"
        },
        {
         "name": "ounces",
         "rawType": "float64",
         "type": "float"
        }
       ],
       "conversionMethod": "pd.DataFrame",
       "ref": "83a20609-3b1e-4c34-9ea7-1d1593d3fa4b",
       "rows": [
        [
         "10",
         "Sophomoric Saison",
         "Saison / Farmhouse Ale",
         "177",
         "12.0"
        ],
        [
         "11",
         "Regional Ring Of Fire",
         "Saison / Farmhouse Ale",
         "177",
         "12.0"
        ],
        [
         "12",
         "Garce Selé",
         "Saison / Farmhouse Ale",
         "177",
         "12.0"
        ],
        [
         "13",
         "Troll Destroyer",
         "Belgian IPA",
         "177",
         "12.0"
        ],
        [
         "14",
         "Bitter Bitch",
         "American Pale Ale (APA)",
         "177",
         "12.0"
        ],
        [
         "15",
         "Ginja Ninja",
         "Cider",
         "154",
         "12.0"
        ],
        [
         "16",
         "Cherried Away",
         "Cider",
         "154",
         "12.0"
        ],
        [
         "17",
         "Rhubarbarian",
         "Cider",
         "154",
         "12.0"
        ],
        [
         "18",
         "BrightCider",
         "Cider",
         "154",
         "12.0"
        ],
        [
         "19",
         "He Said Baltic-Style Porter",
         "Baltic Porter",
         "368",
         "12.0"
        ],
        [
         "20",
         "He Said Belgian-Style Tripel",
         "Tripel",
         "368",
         "12.0"
        ]
       ],
       "shape": {
        "columns": 4,
        "rows": 11
       }
      },
      "text/html": [
       "<div>\n",
       "<style scoped>\n",
       "    .dataframe tbody tr th:only-of-type {\n",
       "        vertical-align: middle;\n",
       "    }\n",
       "\n",
       "    .dataframe tbody tr th {\n",
       "        vertical-align: top;\n",
       "    }\n",
       "\n",
       "    .dataframe thead th {\n",
       "        text-align: right;\n",
       "    }\n",
       "</style>\n",
       "<table border=\"1\" class=\"dataframe\">\n",
       "  <thead>\n",
       "    <tr style=\"text-align: right;\">\n",
       "      <th></th>\n",
       "      <th>name</th>\n",
       "      <th>style</th>\n",
       "      <th>brewery_id</th>\n",
       "      <th>ounces</th>\n",
       "    </tr>\n",
       "  </thead>\n",
       "  <tbody>\n",
       "    <tr>\n",
       "      <th>10</th>\n",
       "      <td>Sophomoric Saison</td>\n",
       "      <td>Saison / Farmhouse Ale</td>\n",
       "      <td>177</td>\n",
       "      <td>12.0</td>\n",
       "    </tr>\n",
       "    <tr>\n",
       "      <th>11</th>\n",
       "      <td>Regional Ring Of Fire</td>\n",
       "      <td>Saison / Farmhouse Ale</td>\n",
       "      <td>177</td>\n",
       "      <td>12.0</td>\n",
       "    </tr>\n",
       "    <tr>\n",
       "      <th>12</th>\n",
       "      <td>Garce Selé</td>\n",
       "      <td>Saison / Farmhouse Ale</td>\n",
       "      <td>177</td>\n",
       "      <td>12.0</td>\n",
       "    </tr>\n",
       "    <tr>\n",
       "      <th>13</th>\n",
       "      <td>Troll Destroyer</td>\n",
       "      <td>Belgian IPA</td>\n",
       "      <td>177</td>\n",
       "      <td>12.0</td>\n",
       "    </tr>\n",
       "    <tr>\n",
       "      <th>14</th>\n",
       "      <td>Bitter Bitch</td>\n",
       "      <td>American Pale Ale (APA)</td>\n",
       "      <td>177</td>\n",
       "      <td>12.0</td>\n",
       "    </tr>\n",
       "    <tr>\n",
       "      <th>15</th>\n",
       "      <td>Ginja Ninja</td>\n",
       "      <td>Cider</td>\n",
       "      <td>154</td>\n",
       "      <td>12.0</td>\n",
       "    </tr>\n",
       "    <tr>\n",
       "      <th>16</th>\n",
       "      <td>Cherried Away</td>\n",
       "      <td>Cider</td>\n",
       "      <td>154</td>\n",
       "      <td>12.0</td>\n",
       "    </tr>\n",
       "    <tr>\n",
       "      <th>17</th>\n",
       "      <td>Rhubarbarian</td>\n",
       "      <td>Cider</td>\n",
       "      <td>154</td>\n",
       "      <td>12.0</td>\n",
       "    </tr>\n",
       "    <tr>\n",
       "      <th>18</th>\n",
       "      <td>BrightCider</td>\n",
       "      <td>Cider</td>\n",
       "      <td>154</td>\n",
       "      <td>12.0</td>\n",
       "    </tr>\n",
       "    <tr>\n",
       "      <th>19</th>\n",
       "      <td>He Said Baltic-Style Porter</td>\n",
       "      <td>Baltic Porter</td>\n",
       "      <td>368</td>\n",
       "      <td>12.0</td>\n",
       "    </tr>\n",
       "    <tr>\n",
       "      <th>20</th>\n",
       "      <td>He Said Belgian-Style Tripel</td>\n",
       "      <td>Tripel</td>\n",
       "      <td>368</td>\n",
       "      <td>12.0</td>\n",
       "    </tr>\n",
       "  </tbody>\n",
       "</table>\n",
       "</div>"
      ],
      "text/plain": [
       "                            name                    style  brewery_id  ounces\n",
       "10             Sophomoric Saison   Saison / Farmhouse Ale         177    12.0\n",
       "11         Regional Ring Of Fire   Saison / Farmhouse Ale         177    12.0\n",
       "12                    Garce Selé   Saison / Farmhouse Ale         177    12.0\n",
       "13               Troll Destroyer              Belgian IPA         177    12.0\n",
       "14                  Bitter Bitch  American Pale Ale (APA)         177    12.0\n",
       "15                   Ginja Ninja                    Cider         154    12.0\n",
       "16                 Cherried Away                    Cider         154    12.0\n",
       "17                  Rhubarbarian                    Cider         154    12.0\n",
       "18                   BrightCider                    Cider         154    12.0\n",
       "19   He Said Baltic-Style Porter            Baltic Porter         368    12.0\n",
       "20  He Said Belgian-Style Tripel                   Tripel         368    12.0"
      ]
     },
     "execution_count": 61,
     "metadata": {},
     "output_type": "execute_result"
    }
   ],
   "source": [
    "abr = beer.loc[10:20, \"name\":\"ounces\"]\n",
    "abr"
   ]
  },
  {
   "cell_type": "code",
   "execution_count": 62,
   "metadata": {},
   "outputs": [
    {
     "data": {
      "application/vnd.microsoft.datawrangler.viewer.v0+json": {
       "columns": [
        {
         "name": "index",
         "rawType": "int64",
         "type": "integer"
        },
        {
         "name": "abv",
         "rawType": "float64",
         "type": "float"
        },
        {
         "name": "ibu",
         "rawType": "float64",
         "type": "float"
        },
        {
         "name": "ounces",
         "rawType": "float64",
         "type": "float"
        }
       ],
       "conversionMethod": "pd.DataFrame",
       "ref": "b6f376bc-5289-4f59-9085-5c2b1fa97664",
       "rows": [
        [
         "0",
         "0.05",
         null,
         "12.0"
        ],
        [
         "1",
         "0.066",
         null,
         "12.0"
        ],
        [
         "2",
         "0.071",
         null,
         "12.0"
        ],
        [
         "3",
         "0.09",
         null,
         "12.0"
        ],
        [
         "4",
         "0.075",
         null,
         "12.0"
        ],
        [
         "5",
         "0.077",
         null,
         "12.0"
        ],
        [
         "6",
         "0.045",
         null,
         "12.0"
        ],
        [
         "7",
         "0.065",
         null,
         "12.0"
        ],
        [
         "8",
         "0.055",
         null,
         "12.0"
        ],
        [
         "9",
         "0.086",
         null,
         "12.0"
        ],
        [
         "10",
         "0.072",
         null,
         "12.0"
        ],
        [
         "11",
         "0.073",
         null,
         "12.0"
        ],
        [
         "12",
         "0.069",
         null,
         "12.0"
        ],
        [
         "13",
         "0.085",
         null,
         "12.0"
        ],
        [
         "14",
         "0.061",
         "60.0",
         "12.0"
        ],
        [
         "15",
         "0.06",
         null,
         "12.0"
        ],
        [
         "16",
         "0.06",
         null,
         "12.0"
        ],
        [
         "17",
         "0.06",
         null,
         "12.0"
        ],
        [
         "18",
         "0.06",
         null,
         "12.0"
        ],
        [
         "19",
         "0.0819999999999999",
         null,
         "12.0"
        ],
        [
         "20",
         "0.0819999999999999",
         null,
         "12.0"
        ],
        [
         "21",
         "0.099",
         "92.0",
         "8.4"
        ],
        [
         "22",
         "0.079",
         "45.0",
         "12.0"
        ],
        [
         "23",
         "0.079",
         null,
         "12.0"
        ],
        [
         "24",
         "0.044",
         "42.0",
         "12.0"
        ],
        [
         "25",
         "0.049",
         "17.0",
         "12.0"
        ],
        [
         "26",
         "0.049",
         "17.0",
         "12.0"
        ],
        [
         "27",
         "0.049",
         "17.0",
         "12.0"
        ],
        [
         "28",
         "0.07",
         "70.0",
         "12.0"
        ],
        [
         "29",
         "0.07",
         "70.0",
         "12.0"
        ],
        [
         "30",
         "0.07",
         "70.0",
         "12.0"
        ],
        [
         "31",
         "0.085",
         "52.0",
         "12.0"
        ],
        [
         "32",
         "0.0969999999999999",
         "94.0",
         "12.0"
        ],
        [
         "33",
         "0.044",
         "42.0",
         "12.0"
        ],
        [
         "34",
         "0.079",
         "45.0",
         "12.0"
        ],
        [
         "35",
         "0.068",
         "65.0",
         "12.0"
        ],
        [
         "36",
         "0.083",
         "35.0",
         "12.0"
        ],
        [
         "37",
         "0.07",
         "65.0",
         "12.0"
        ],
        [
         "38",
         "0.049",
         "17.0",
         "12.0"
        ],
        [
         "39",
         "0.07",
         "82.0",
         "12.0"
        ],
        [
         "40",
         "0.05",
         null,
         "12.0"
        ],
        [
         "41",
         "0.059",
         null,
         "12.0"
        ],
        [
         "42",
         "0.035",
         "11.0",
         "12.0"
        ],
        [
         "43",
         "0.045",
         "18.0",
         "12.0"
        ],
        [
         "44",
         "0.055",
         null,
         "12.0"
        ],
        [
         "45",
         "0.06",
         null,
         "12.0"
        ],
        [
         "46",
         "0.055",
         null,
         "12.0"
        ],
        [
         "47",
         "0.065",
         null,
         "12.0"
        ],
        [
         "48",
         "0.065",
         null,
         "12.0"
        ],
        [
         "49",
         "0.05",
         "28.0",
         "12.0"
        ]
       ],
       "shape": {
        "columns": 3,
        "rows": 2410
       }
      },
      "text/html": [
       "<div>\n",
       "<style scoped>\n",
       "    .dataframe tbody tr th:only-of-type {\n",
       "        vertical-align: middle;\n",
       "    }\n",
       "\n",
       "    .dataframe tbody tr th {\n",
       "        vertical-align: top;\n",
       "    }\n",
       "\n",
       "    .dataframe thead th {\n",
       "        text-align: right;\n",
       "    }\n",
       "</style>\n",
       "<table border=\"1\" class=\"dataframe\">\n",
       "  <thead>\n",
       "    <tr style=\"text-align: right;\">\n",
       "      <th></th>\n",
       "      <th>abv</th>\n",
       "      <th>ibu</th>\n",
       "      <th>ounces</th>\n",
       "    </tr>\n",
       "  </thead>\n",
       "  <tbody>\n",
       "    <tr>\n",
       "      <th>0</th>\n",
       "      <td>0.050</td>\n",
       "      <td>NaN</td>\n",
       "      <td>12.0</td>\n",
       "    </tr>\n",
       "    <tr>\n",
       "      <th>1</th>\n",
       "      <td>0.066</td>\n",
       "      <td>NaN</td>\n",
       "      <td>12.0</td>\n",
       "    </tr>\n",
       "    <tr>\n",
       "      <th>2</th>\n",
       "      <td>0.071</td>\n",
       "      <td>NaN</td>\n",
       "      <td>12.0</td>\n",
       "    </tr>\n",
       "    <tr>\n",
       "      <th>3</th>\n",
       "      <td>0.090</td>\n",
       "      <td>NaN</td>\n",
       "      <td>12.0</td>\n",
       "    </tr>\n",
       "    <tr>\n",
       "      <th>4</th>\n",
       "      <td>0.075</td>\n",
       "      <td>NaN</td>\n",
       "      <td>12.0</td>\n",
       "    </tr>\n",
       "    <tr>\n",
       "      <th>...</th>\n",
       "      <td>...</td>\n",
       "      <td>...</td>\n",
       "      <td>...</td>\n",
       "    </tr>\n",
       "    <tr>\n",
       "      <th>2405</th>\n",
       "      <td>0.067</td>\n",
       "      <td>45.0</td>\n",
       "      <td>12.0</td>\n",
       "    </tr>\n",
       "    <tr>\n",
       "      <th>2406</th>\n",
       "      <td>0.052</td>\n",
       "      <td>NaN</td>\n",
       "      <td>12.0</td>\n",
       "    </tr>\n",
       "    <tr>\n",
       "      <th>2407</th>\n",
       "      <td>0.055</td>\n",
       "      <td>NaN</td>\n",
       "      <td>12.0</td>\n",
       "    </tr>\n",
       "    <tr>\n",
       "      <th>2408</th>\n",
       "      <td>0.055</td>\n",
       "      <td>40.0</td>\n",
       "      <td>12.0</td>\n",
       "    </tr>\n",
       "    <tr>\n",
       "      <th>2409</th>\n",
       "      <td>0.052</td>\n",
       "      <td>NaN</td>\n",
       "      <td>12.0</td>\n",
       "    </tr>\n",
       "  </tbody>\n",
       "</table>\n",
       "<p>2410 rows × 3 columns</p>\n",
       "</div>"
      ],
      "text/plain": [
       "        abv   ibu  ounces\n",
       "0     0.050   NaN    12.0\n",
       "1     0.066   NaN    12.0\n",
       "2     0.071   NaN    12.0\n",
       "3     0.090   NaN    12.0\n",
       "4     0.075   NaN    12.0\n",
       "...     ...   ...     ...\n",
       "2405  0.067  45.0    12.0\n",
       "2406  0.052   NaN    12.0\n",
       "2407  0.055   NaN    12.0\n",
       "2408  0.055  40.0    12.0\n",
       "2409  0.052   NaN    12.0\n",
       "\n",
       "[2410 rows x 3 columns]"
      ]
     },
     "execution_count": 62,
     "metadata": {},
     "output_type": "execute_result"
    }
   ],
   "source": [
    "abr.drop(\"name\", axis=1)\n",
    "abr = beer[[\"abv\", \"ibu\", \"ounces\"]]\n",
    "\n",
    "abr"
   ]
  },
  {
   "cell_type": "code",
   "execution_count": 63,
   "metadata": {},
   "outputs": [
    {
     "data": {
      "text/plain": [
       "array([[ 0.05 ,    nan, 12.   ],\n",
       "       [ 0.066,    nan, 12.   ],\n",
       "       [ 0.071,    nan, 12.   ],\n",
       "       ...,\n",
       "       [ 0.055,    nan, 12.   ],\n",
       "       [ 0.055, 40.   , 12.   ],\n",
       "       [ 0.052,    nan, 12.   ]], shape=(2410, 3))"
      ]
     },
     "execution_count": 63,
     "metadata": {},
     "output_type": "execute_result"
    }
   ],
   "source": [
    "abr.to_numpy()"
   ]
  },
  {
   "attachments": {},
   "cell_type": "markdown",
   "metadata": {},
   "source": [
    "## Ejercicio 9\n",
    "¿Cuántas onzas pesan todas las birras del dataset?"
   ]
  },
  {
   "cell_type": "code",
   "execution_count": 64,
   "metadata": {},
   "outputs": [
    {
     "data": {
      "text/plain": [
       "np.float64(32757.3)"
      ]
     },
     "execution_count": 64,
     "metadata": {},
     "output_type": "execute_result"
    }
   ],
   "source": [
    "beer[\"ounces\"].sum()"
   ]
  },
  {
   "attachments": {},
   "cell_type": "markdown",
   "metadata": {},
   "source": [
    "## Ejercicio 10\n",
    "El amargor de las cervezas se mide por su nivel de IBUs.\n",
    "1. ¿Cuál es el amargor medio de las cervezas?\n",
    "2. ¿El máximo? ¿Y el mínimo?\n",
    "3. ¿Qué cerveza es la que tiene el amargor máximo? ¿Cuál es la de amargor mínimo?"
   ]
  },
  {
   "cell_type": "code",
   "execution_count": 65,
   "metadata": {},
   "outputs": [
    {
     "data": {
      "application/vnd.microsoft.datawrangler.viewer.v0+json": {
       "columns": [
        {
         "name": "index",
         "rawType": "int64",
         "type": "integer"
        },
        {
         "name": "abv",
         "rawType": "float64",
         "type": "float"
        },
        {
         "name": "ibu",
         "rawType": "float64",
         "type": "float"
        },
        {
         "name": "id",
         "rawType": "int64",
         "type": "integer"
        },
        {
         "name": "name",
         "rawType": "object",
         "type": "string"
        },
        {
         "name": "style",
         "rawType": "object",
         "type": "unknown"
        },
        {
         "name": "brewery_id",
         "rawType": "int64",
         "type": "integer"
        },
        {
         "name": "ounces",
         "rawType": "float64",
         "type": "float"
        }
       ],
       "conversionMethod": "pd.DataFrame",
       "ref": "34d12ae7-06a3-43ab-8c45-2f2d3180b13a",
       "rows": [
        [
         "0",
         "0.05",
         null,
         "1436",
         "Pub Beer",
         "American Pale Lager",
         "408",
         "12.0"
        ],
        [
         "1",
         "0.066",
         null,
         "2265",
         "Devil's Cup",
         "American Pale Ale (APA)",
         "177",
         "12.0"
        ],
        [
         "2",
         "0.071",
         null,
         "2264",
         "Rise of the Phoenix",
         "American IPA",
         "177",
         "12.0"
        ],
        [
         "3",
         "0.09",
         null,
         "2263",
         "Sinister",
         "American Double / Imperial IPA",
         "177",
         "12.0"
        ],
        [
         "4",
         "0.075",
         null,
         "2262",
         "Sex and Candy",
         "American IPA",
         "177",
         "12.0"
        ],
        [
         "5",
         "0.077",
         null,
         "2261",
         "Black Exodus",
         "Oatmeal Stout",
         "177",
         "12.0"
        ],
        [
         "6",
         "0.045",
         null,
         "2260",
         "Lake Street Express",
         "American Pale Ale (APA)",
         "177",
         "12.0"
        ],
        [
         "7",
         "0.065",
         null,
         "2259",
         "Foreman",
         "American Porter",
         "177",
         "12.0"
        ],
        [
         "8",
         "0.055",
         null,
         "2258",
         "Jade",
         "American Pale Ale (APA)",
         "177",
         "12.0"
        ],
        [
         "9",
         "0.086",
         null,
         "2131",
         "Cone Crusher",
         "American Double / Imperial IPA",
         "177",
         "12.0"
        ],
        [
         "10",
         "0.072",
         null,
         "2099",
         "Sophomoric Saison",
         "Saison / Farmhouse Ale",
         "177",
         "12.0"
        ],
        [
         "11",
         "0.073",
         null,
         "2098",
         "Regional Ring Of Fire",
         "Saison / Farmhouse Ale",
         "177",
         "12.0"
        ],
        [
         "12",
         "0.069",
         null,
         "2097",
         "Garce Selé",
         "Saison / Farmhouse Ale",
         "177",
         "12.0"
        ],
        [
         "13",
         "0.085",
         null,
         "1980",
         "Troll Destroyer",
         "Belgian IPA",
         "177",
         "12.0"
        ],
        [
         "14",
         "0.061",
         "60.0",
         "1979",
         "Bitter Bitch",
         "American Pale Ale (APA)",
         "177",
         "12.0"
        ],
        [
         "15",
         "0.06",
         null,
         "2318",
         "Ginja Ninja",
         "Cider",
         "154",
         "12.0"
        ],
        [
         "16",
         "0.06",
         null,
         "2170",
         "Cherried Away",
         "Cider",
         "154",
         "12.0"
        ],
        [
         "17",
         "0.06",
         null,
         "2169",
         "Rhubarbarian",
         "Cider",
         "154",
         "12.0"
        ],
        [
         "18",
         "0.06",
         null,
         "1502",
         "BrightCider",
         "Cider",
         "154",
         "12.0"
        ],
        [
         "19",
         "0.0819999999999999",
         null,
         "1593",
         "He Said Baltic-Style Porter",
         "Baltic Porter",
         "368",
         "12.0"
        ],
        [
         "20",
         "0.0819999999999999",
         null,
         "1592",
         "He Said Belgian-Style Tripel",
         "Tripel",
         "368",
         "12.0"
        ],
        [
         "21",
         "0.099",
         "92.0",
         "1036",
         "Lower De Boom",
         "American Barleywine",
         "368",
         "8.4"
        ],
        [
         "22",
         "0.079",
         "45.0",
         "1024",
         "Fireside Chat",
         "Winter Warmer",
         "368",
         "12.0"
        ],
        [
         "23",
         "0.079",
         null,
         "976",
         "Marooned On Hog Island",
         "American Stout",
         "368",
         "12.0"
        ],
        [
         "24",
         "0.044",
         "42.0",
         "876",
         "Bitter American",
         "American Pale Ale (APA)",
         "368",
         "12.0"
        ],
        [
         "25",
         "0.049",
         "17.0",
         "802",
         "Hell or High Watermelon Wheat (2009)",
         "Fruit / Vegetable Beer",
         "368",
         "12.0"
        ],
        [
         "26",
         "0.049",
         "17.0",
         "801",
         "Hell or High Watermelon Wheat (2009)",
         "Fruit / Vegetable Beer",
         "368",
         "12.0"
        ],
        [
         "27",
         "0.049",
         "17.0",
         "800",
         "21st Amendment Watermelon Wheat Beer (2006)",
         "Fruit / Vegetable Beer",
         "368",
         "12.0"
        ],
        [
         "28",
         "0.07",
         "70.0",
         "799",
         "21st Amendment IPA (2006)",
         "American IPA",
         "368",
         "12.0"
        ],
        [
         "29",
         "0.07",
         "70.0",
         "797",
         "Brew Free! or Die IPA (2008)",
         "American IPA",
         "368",
         "12.0"
        ],
        [
         "30",
         "0.07",
         "70.0",
         "796",
         "Brew Free! or Die IPA (2009)",
         "American IPA",
         "368",
         "12.0"
        ],
        [
         "31",
         "0.085",
         "52.0",
         "531",
         "Special Edition: Allies Win The War!",
         "English Strong Ale",
         "368",
         "12.0"
        ],
        [
         "32",
         "0.0969999999999999",
         "94.0",
         "432",
         "Hop Crisis",
         "American Double / Imperial IPA",
         "368",
         "12.0"
        ],
        [
         "33",
         "0.044",
         "42.0",
         "353",
         "Bitter American (2011)",
         "American Pale Ale (APA)",
         "368",
         "12.0"
        ],
        [
         "34",
         "0.079",
         "45.0",
         "321",
         "Fireside Chat (2010)",
         "Winter Warmer",
         "368",
         "12.0"
        ],
        [
         "35",
         "0.068",
         "65.0",
         "173",
         "Back in Black",
         "American Black Ale",
         "368",
         "12.0"
        ],
        [
         "36",
         "0.083",
         "35.0",
         "11",
         "Monk's Blood",
         "Belgian Dark Ale",
         "368",
         "12.0"
        ],
        [
         "37",
         "0.07",
         "65.0",
         "10",
         "Brew Free! or Die IPA",
         "American IPA",
         "368",
         "12.0"
        ],
        [
         "38",
         "0.049",
         "17.0",
         "9",
         "Hell or High Watermelon Wheat",
         "Fruit / Vegetable Beer",
         "368",
         "12.0"
        ],
        [
         "39",
         "0.07",
         "82.0",
         "2519",
         "Bimini Twist",
         "American IPA",
         "67",
         "12.0"
        ],
        [
         "40",
         "0.05",
         null,
         "2518",
         "Beach Blonde",
         "American Blonde Ale",
         "67",
         "12.0"
        ],
        [
         "41",
         "0.059",
         null,
         "2517",
         "Rod Bender Red",
         "American Amber / Red Ale",
         "67",
         "12.0"
        ],
        [
         "42",
         "0.035",
         "11.0",
         "2545",
         "Passion Fruit Prussia",
         "Berliner Weissbier",
         "60",
         "12.0"
        ],
        [
         "43",
         "0.045",
         "18.0",
         "2544",
         "Send Help",
         "American Blonde Ale",
         "60",
         "12.0"
        ],
        [
         "44",
         "0.055",
         null,
         "2324",
         "Cast Iron Oatmeal Brown",
         "American Brown Ale",
         "60",
         "12.0"
        ],
        [
         "45",
         "0.06",
         null,
         "2288",
         "Reprise Centennial Red",
         "American Amber / Red Ale",
         "60",
         "12.0"
        ],
        [
         "46",
         "0.055",
         null,
         "2287",
         "Alter Ego",
         "American Black Ale",
         "60",
         "12.0"
        ],
        [
         "47",
         "0.065",
         null,
         "2286",
         "Divided Sky",
         "American IPA",
         "60",
         "12.0"
        ],
        [
         "48",
         "0.065",
         null,
         "2285",
         "Resurrected",
         "American IPA",
         "60",
         "12.0"
        ],
        [
         "49",
         "0.05",
         "28.0",
         "1870",
         "Contact High",
         "American Pale Wheat Ale",
         "60",
         "12.0"
        ]
       ],
       "shape": {
        "columns": 7,
        "rows": 2410
       }
      },
      "text/html": [
       "<div>\n",
       "<style scoped>\n",
       "    .dataframe tbody tr th:only-of-type {\n",
       "        vertical-align: middle;\n",
       "    }\n",
       "\n",
       "    .dataframe tbody tr th {\n",
       "        vertical-align: top;\n",
       "    }\n",
       "\n",
       "    .dataframe thead th {\n",
       "        text-align: right;\n",
       "    }\n",
       "</style>\n",
       "<table border=\"1\" class=\"dataframe\">\n",
       "  <thead>\n",
       "    <tr style=\"text-align: right;\">\n",
       "      <th></th>\n",
       "      <th>abv</th>\n",
       "      <th>ibu</th>\n",
       "      <th>id</th>\n",
       "      <th>name</th>\n",
       "      <th>style</th>\n",
       "      <th>brewery_id</th>\n",
       "      <th>ounces</th>\n",
       "    </tr>\n",
       "  </thead>\n",
       "  <tbody>\n",
       "    <tr>\n",
       "      <th>0</th>\n",
       "      <td>0.050</td>\n",
       "      <td>NaN</td>\n",
       "      <td>1436</td>\n",
       "      <td>Pub Beer</td>\n",
       "      <td>American Pale Lager</td>\n",
       "      <td>408</td>\n",
       "      <td>12.0</td>\n",
       "    </tr>\n",
       "    <tr>\n",
       "      <th>1</th>\n",
       "      <td>0.066</td>\n",
       "      <td>NaN</td>\n",
       "      <td>2265</td>\n",
       "      <td>Devil's Cup</td>\n",
       "      <td>American Pale Ale (APA)</td>\n",
       "      <td>177</td>\n",
       "      <td>12.0</td>\n",
       "    </tr>\n",
       "    <tr>\n",
       "      <th>2</th>\n",
       "      <td>0.071</td>\n",
       "      <td>NaN</td>\n",
       "      <td>2264</td>\n",
       "      <td>Rise of the Phoenix</td>\n",
       "      <td>American IPA</td>\n",
       "      <td>177</td>\n",
       "      <td>12.0</td>\n",
       "    </tr>\n",
       "    <tr>\n",
       "      <th>3</th>\n",
       "      <td>0.090</td>\n",
       "      <td>NaN</td>\n",
       "      <td>2263</td>\n",
       "      <td>Sinister</td>\n",
       "      <td>American Double / Imperial IPA</td>\n",
       "      <td>177</td>\n",
       "      <td>12.0</td>\n",
       "    </tr>\n",
       "    <tr>\n",
       "      <th>4</th>\n",
       "      <td>0.075</td>\n",
       "      <td>NaN</td>\n",
       "      <td>2262</td>\n",
       "      <td>Sex and Candy</td>\n",
       "      <td>American IPA</td>\n",
       "      <td>177</td>\n",
       "      <td>12.0</td>\n",
       "    </tr>\n",
       "    <tr>\n",
       "      <th>...</th>\n",
       "      <td>...</td>\n",
       "      <td>...</td>\n",
       "      <td>...</td>\n",
       "      <td>...</td>\n",
       "      <td>...</td>\n",
       "      <td>...</td>\n",
       "      <td>...</td>\n",
       "    </tr>\n",
       "    <tr>\n",
       "      <th>2405</th>\n",
       "      <td>0.067</td>\n",
       "      <td>45.0</td>\n",
       "      <td>928</td>\n",
       "      <td>Belgorado</td>\n",
       "      <td>Belgian IPA</td>\n",
       "      <td>424</td>\n",
       "      <td>12.0</td>\n",
       "    </tr>\n",
       "    <tr>\n",
       "      <th>2406</th>\n",
       "      <td>0.052</td>\n",
       "      <td>NaN</td>\n",
       "      <td>807</td>\n",
       "      <td>Rail Yard Ale</td>\n",
       "      <td>American Amber / Red Ale</td>\n",
       "      <td>424</td>\n",
       "      <td>12.0</td>\n",
       "    </tr>\n",
       "    <tr>\n",
       "      <th>2407</th>\n",
       "      <td>0.055</td>\n",
       "      <td>NaN</td>\n",
       "      <td>620</td>\n",
       "      <td>B3K Black Lager</td>\n",
       "      <td>Schwarzbier</td>\n",
       "      <td>424</td>\n",
       "      <td>12.0</td>\n",
       "    </tr>\n",
       "    <tr>\n",
       "      <th>2408</th>\n",
       "      <td>0.055</td>\n",
       "      <td>40.0</td>\n",
       "      <td>145</td>\n",
       "      <td>Silverback Pale Ale</td>\n",
       "      <td>American Pale Ale (APA)</td>\n",
       "      <td>424</td>\n",
       "      <td>12.0</td>\n",
       "    </tr>\n",
       "    <tr>\n",
       "      <th>2409</th>\n",
       "      <td>0.052</td>\n",
       "      <td>NaN</td>\n",
       "      <td>84</td>\n",
       "      <td>Rail Yard Ale (2009)</td>\n",
       "      <td>American Amber / Red Ale</td>\n",
       "      <td>424</td>\n",
       "      <td>12.0</td>\n",
       "    </tr>\n",
       "  </tbody>\n",
       "</table>\n",
       "<p>2410 rows × 7 columns</p>\n",
       "</div>"
      ],
      "text/plain": [
       "        abv   ibu    id                  name                           style  \\\n",
       "0     0.050   NaN  1436              Pub Beer             American Pale Lager   \n",
       "1     0.066   NaN  2265           Devil's Cup         American Pale Ale (APA)   \n",
       "2     0.071   NaN  2264   Rise of the Phoenix                    American IPA   \n",
       "3     0.090   NaN  2263              Sinister  American Double / Imperial IPA   \n",
       "4     0.075   NaN  2262         Sex and Candy                    American IPA   \n",
       "...     ...   ...   ...                   ...                             ...   \n",
       "2405  0.067  45.0   928             Belgorado                     Belgian IPA   \n",
       "2406  0.052   NaN   807         Rail Yard Ale        American Amber / Red Ale   \n",
       "2407  0.055   NaN   620       B3K Black Lager                     Schwarzbier   \n",
       "2408  0.055  40.0   145   Silverback Pale Ale         American Pale Ale (APA)   \n",
       "2409  0.052   NaN    84  Rail Yard Ale (2009)        American Amber / Red Ale   \n",
       "\n",
       "      brewery_id  ounces  \n",
       "0            408    12.0  \n",
       "1            177    12.0  \n",
       "2            177    12.0  \n",
       "3            177    12.0  \n",
       "4            177    12.0  \n",
       "...          ...     ...  \n",
       "2405         424    12.0  \n",
       "2406         424    12.0  \n",
       "2407         424    12.0  \n",
       "2408         424    12.0  \n",
       "2409         424    12.0  \n",
       "\n",
       "[2410 rows x 7 columns]"
      ]
     },
     "execution_count": 65,
     "metadata": {},
     "output_type": "execute_result"
    }
   ],
   "source": [
    "beer"
   ]
  },
  {
   "cell_type": "code",
   "execution_count": 66,
   "metadata": {},
   "outputs": [
    {
     "data": {
      "text/plain": [
       "0        True\n",
       "1        True\n",
       "2        True\n",
       "3        True\n",
       "4        True\n",
       "        ...  \n",
       "2405    False\n",
       "2406     True\n",
       "2407     True\n",
       "2408    False\n",
       "2409     True\n",
       "Name: ibu, Length: 2410, dtype: bool"
      ]
     },
     "execution_count": 66,
     "metadata": {},
     "output_type": "execute_result"
    }
   ],
   "source": [
    "beer[\"ibu\"].isnull()"
   ]
  },
  {
   "cell_type": "code",
   "execution_count": 67,
   "metadata": {},
   "outputs": [
    {
     "data": {
      "text/plain": [
       "np.float64(42.71)"
      ]
     },
     "execution_count": 67,
     "metadata": {},
     "output_type": "execute_result"
    }
   ],
   "source": [
    "round(beer[\"ibu\"].mean(), 2)"
   ]
  },
  {
   "cell_type": "code",
   "execution_count": 68,
   "metadata": {},
   "outputs": [
    {
     "data": {
      "text/plain": [
       "np.float64(138.0)"
      ]
     },
     "execution_count": 68,
     "metadata": {},
     "output_type": "execute_result"
    }
   ],
   "source": [
    "beer[\"ibu\"].max()\n"
   ]
  },
  {
   "cell_type": "code",
   "execution_count": 69,
   "metadata": {},
   "outputs": [
    {
     "data": {
      "text/plain": [
       "np.float64(4.0)"
      ]
     },
     "execution_count": 69,
     "metadata": {},
     "output_type": "execute_result"
    }
   ],
   "source": [
    "beer[\"ibu\"].min()"
   ]
  },
  {
   "cell_type": "code",
   "execution_count": 70,
   "metadata": {},
   "outputs": [
    {
     "data": {
      "text/plain": [
       "'Bitter Bitch Imperial IPA'"
      ]
     },
     "execution_count": 70,
     "metadata": {},
     "output_type": "execute_result"
    }
   ],
   "source": [
    "max_amargor = beer[['ibu']].idxmax().values[0]\n",
    "beer_name = beer.loc[max_amargor, \"name\"]\n",
    "beer_name"
   ]
  },
  {
   "cell_type": "code",
   "execution_count": 71,
   "metadata": {},
   "outputs": [
    {
     "data": {
      "text/plain": [
       "name    Bitter Bitch Imperial IPA\n",
       "ibu                         138.0\n",
       "Name: 147, dtype: object"
      ]
     },
     "execution_count": 71,
     "metadata": {},
     "output_type": "execute_result"
    }
   ],
   "source": [
    "max_amargor = beer.loc[beer['ibu'].idxmax(), ['name', 'ibu']]  \n",
    "max_amargor\n"
   ]
  },
  {
   "cell_type": "code",
   "execution_count": 72,
   "metadata": {},
   "outputs": [
    {
     "data": {
      "text/plain": [
       "name    Summer Solstice\n",
       "ibu                 4.0\n",
       "Name: 106, dtype: object"
      ]
     },
     "execution_count": 72,
     "metadata": {},
     "output_type": "execute_result"
    }
   ],
   "source": [
    "min_amargor = beer.loc[beer['ibu'].idxmin(), ['name', 'ibu']]  \n",
    "min_amargor"
   ]
  },
  {
   "attachments": {},
   "cell_type": "markdown",
   "metadata": {},
   "source": [
    "## Ejercicio 11\n",
    "No queda muy claro cuánto de dispar, de dispersa, es la medida de IBU. Mediante estadística descriptiva (una o dos métricas, sin gráficas), razona la dispersión de la variable IBU."
   ]
  },
  {
   "cell_type": "code",
   "execution_count": 73,
   "metadata": {},
   "outputs": [
    {
     "name": "stdout",
     "output_type": "stream",
     "text": [
      "138.0\n",
      "4.0\n",
      "35.0\n",
      "42.71316725978647\n"
     ]
    }
   ],
   "source": [
    "print(beer[\"ibu\"].max())\n",
    "print(beer[\"ibu\"].min())\n",
    "print(beer[\"ibu\"].median())\n",
    "print(beer[\"ibu\"].mean())"
   ]
  },
  {
   "cell_type": "code",
   "execution_count": 74,
   "metadata": {},
   "outputs": [
    {
     "data": {
      "text/plain": [
       "<Axes: >"
      ]
     },
     "execution_count": 74,
     "metadata": {},
     "output_type": "execute_result"
    },
    {
     "data": {
      "image/png": "[encoded data removed]",
      "text/plain": [
       "<Figure size 640x480 with 1 Axes>"
      ]
     },
     "metadata": {},
     "output_type": "display_data"
    }
   ],
   "source": [
    "beer[\"ibu\"].hist()"
   ]
  },
  {
   "cell_type": "code",
   "execution_count": 75,
   "metadata": {},
   "outputs": [],
   "source": [
    "# \"var.\" o \"varianza\", nos referimos a una medida que describe la dispersión o variabilidad \n",
    "# #de un conjunto de datos con respecto a su media. La varianza es una de las principales métricas \n",
    "# utilizadas para entender cómo se distribuyen los valores en un conjunto de datos.\n",
    "\n",
    "# toma la diferencia entre cada valor y la media de los datos, cuadrada. depende mucho cm se distribuyen todos los valores"
   ]
  },
  {
   "cell_type": "code",
   "execution_count": 76,
   "metadata": {},
   "outputs": [
    {
     "name": "stdout",
     "output_type": "stream",
     "text": [
      "count    1405.000000\n",
      "mean       42.713167\n",
      "std        25.954066\n",
      "min         4.000000\n",
      "25%        21.000000\n",
      "50%        35.000000\n",
      "75%        64.000000\n",
      "max       138.000000\n",
      "Name: ibu, dtype: float64\n"
     ]
    }
   ],
   "source": [
    "print(beer[\"ibu\"].describe())   #aquí podemos ver los percentiles de la variable y fijarnos cómo está repartido los datos.\n",
    "#vemos que el 64 % de las cervezas tienen un amargor por encima de del 75% del percentil, por tanto, la mayoría"
   ]
  },
  {
   "cell_type": "markdown",
   "metadata": {},
   "source": [
    "aqui nos indica que la variacion estandar std, está en 25,95 lo cual es significativa , por lo que los valores en general están relativamente alejados unos de otros."
   ]
  },
  {
   "cell_type": "markdown",
   "metadata": {},
   "source": [
    "26. / 40  cohe cient de variacion, la desviación tipica entre la media y nos da un porcentaje de variación"
   ]
  },
  {
   "cell_type": "code",
   "execution_count": 86,
   "metadata": {},
   "outputs": [
    {
     "data": {
      "text/plain": [
       "0.65"
      ]
     },
     "execution_count": 86,
     "metadata": {},
     "output_type": "execute_result"
    }
   ],
   "source": [
    "26. /40"
   ]
  },
  {
   "cell_type": "markdown",
   "metadata": {},
   "source": [
    "ske te dice si tiene más valores hacia la derecha(positiva) o izquierda (negativa )"
   ]
  },
  {
   "cell_type": "code",
   "execution_count": 77,
   "metadata": {},
   "outputs": [
    {
     "data": {
      "text/plain": [
       "np.float64(25.95399776527693)"
      ]
     },
     "execution_count": 77,
     "metadata": {},
     "output_type": "execute_result"
    }
   ],
   "source": [
    "#aquí podemos observar la varianza que es bastan grande, al tener valores más dispersns unos de otros \n",
    "\n",
    "amargor_var = round(beer[\"ibu\"].var(),2)  \n",
    "variacion_estandar = np.sqrt(amargor_var)\n",
    "variacion_estandar"
   ]
  },
  {
   "cell_type": "code",
   "execution_count": 78,
   "metadata": {},
   "outputs": [
    {
     "data": {
      "image/png": "[encoded data removed]",
      "text/plain": [
       "<Figure size 640x480 with 1 Axes>"
      ]
     },
     "metadata": {},
     "output_type": "display_data"
    }
   ],
   "source": [
    "import matplotlib.pyplot as plt\n",
    "beer[\"ibu\"].plot(kind=\"box\", )  \n",
    "plt.title('Distribución del Amargor')\n",
    "plt.show()"
   ]
  },
  {
   "cell_type": "markdown",
   "metadata": {},
   "source": [
    "### La correlación te da una medida de la fuerza y dirección de la relación lineal entre dos variables. Los valores posibles van de -1 a 1:"
   ]
  },
  {
   "attachments": {},
   "cell_type": "markdown",
   "metadata": {},
   "source": [
    "## Ejercicio 12\n",
    "¿Existe alguna relación lineal entre las variables numéricas del dataset? Intenta pintar este razonamiento mediante un gráfico"
   ]
  },
  {
   "cell_type": "code",
   "execution_count": 79,
   "metadata": {},
   "outputs": [
    {
     "data": {
      "image/png": "[encoded data removed]",
      "text/plain": [
       "<Figure size 500x500 with 1 Axes>"
      ]
     },
     "metadata": {},
     "output_type": "display_data"
    }
   ],
   "source": [
    "import seaborn as sns \n",
    "import matplotlib as plt \n",
    "\n",
    "\n",
    "sns.lmplot(x =\"ibu\", y= \"abv\", data=beer, fit_reg=True);"
   ]
  },
  {
   "cell_type": "code",
   "execution_count": 80,
   "metadata": {},
   "outputs": [
    {
     "data": {
      "application/vnd.microsoft.datawrangler.viewer.v0+json": {
       "columns": [
        {
         "name": "index",
         "rawType": "int64",
         "type": "integer"
        },
        {
         "name": "abv",
         "rawType": "float64",
         "type": "float"
        },
        {
         "name": "ibu",
         "rawType": "float64",
         "type": "float"
        },
        {
         "name": "id",
         "rawType": "int64",
         "type": "integer"
        },
        {
         "name": "name",
         "rawType": "object",
         "type": "string"
        },
        {
         "name": "style",
         "rawType": "object",
         "type": "unknown"
        },
        {
         "name": "brewery_id",
         "rawType": "int64",
         "type": "integer"
        },
        {
         "name": "ounces",
         "rawType": "float64",
         "type": "float"
        }
       ],
       "conversionMethod": "pd.DataFrame",
       "ref": "27c6567d-3f78-496c-beb7-9c218e78074b",
       "rows": [
        [
         "0",
         "0.05",
         null,
         "1436",
         "Pub Beer",
         "American Pale Lager",
         "408",
         "12.0"
        ],
        [
         "1",
         "0.066",
         null,
         "2265",
         "Devil's Cup",
         "American Pale Ale (APA)",
         "177",
         "12.0"
        ],
        [
         "2",
         "0.071",
         null,
         "2264",
         "Rise of the Phoenix",
         "American IPA",
         "177",
         "12.0"
        ],
        [
         "3",
         "0.09",
         null,
         "2263",
         "Sinister",
         "American Double / Imperial IPA",
         "177",
         "12.0"
        ],
        [
         "4",
         "0.075",
         null,
         "2262",
         "Sex and Candy",
         "American IPA",
         "177",
         "12.0"
        ],
        [
         "5",
         "0.077",
         null,
         "2261",
         "Black Exodus",
         "Oatmeal Stout",
         "177",
         "12.0"
        ],
        [
         "6",
         "0.045",
         null,
         "2260",
         "Lake Street Express",
         "American Pale Ale (APA)",
         "177",
         "12.0"
        ],
        [
         "7",
         "0.065",
         null,
         "2259",
         "Foreman",
         "American Porter",
         "177",
         "12.0"
        ],
        [
         "8",
         "0.055",
         null,
         "2258",
         "Jade",
         "American Pale Ale (APA)",
         "177",
         "12.0"
        ],
        [
         "9",
         "0.086",
         null,
         "2131",
         "Cone Crusher",
         "American Double / Imperial IPA",
         "177",
         "12.0"
        ],
        [
         "10",
         "0.072",
         null,
         "2099",
         "Sophomoric Saison",
         "Saison / Farmhouse Ale",
         "177",
         "12.0"
        ],
        [
         "11",
         "0.073",
         null,
         "2098",
         "Regional Ring Of Fire",
         "Saison / Farmhouse Ale",
         "177",
         "12.0"
        ],
        [
         "12",
         "0.069",
         null,
         "2097",
         "Garce Selé",
         "Saison / Farmhouse Ale",
         "177",
         "12.0"
        ],
        [
         "13",
         "0.085",
         null,
         "1980",
         "Troll Destroyer",
         "Belgian IPA",
         "177",
         "12.0"
        ],
        [
         "14",
         "0.061",
         "60.0",
         "1979",
         "Bitter Bitch",
         "American Pale Ale (APA)",
         "177",
         "12.0"
        ],
        [
         "15",
         "0.06",
         null,
         "2318",
         "Ginja Ninja",
         "Cider",
         "154",
         "12.0"
        ],
        [
         "16",
         "0.06",
         null,
         "2170",
         "Cherried Away",
         "Cider",
         "154",
         "12.0"
        ],
        [
         "17",
         "0.06",
         null,
         "2169",
         "Rhubarbarian",
         "Cider",
         "154",
         "12.0"
        ],
        [
         "18",
         "0.06",
         null,
         "1502",
         "BrightCider",
         "Cider",
         "154",
         "12.0"
        ],
        [
         "19",
         "0.0819999999999999",
         null,
         "1593",
         "He Said Baltic-Style Porter",
         "Baltic Porter",
         "368",
         "12.0"
        ],
        [
         "20",
         "0.0819999999999999",
         null,
         "1592",
         "He Said Belgian-Style Tripel",
         "Tripel",
         "368",
         "12.0"
        ],
        [
         "21",
         "0.099",
         "92.0",
         "1036",
         "Lower De Boom",
         "American Barleywine",
         "368",
         "8.4"
        ],
        [
         "22",
         "0.079",
         "45.0",
         "1024",
         "Fireside Chat",
         "Winter Warmer",
         "368",
         "12.0"
        ],
        [
         "23",
         "0.079",
         null,
         "976",
         "Marooned On Hog Island",
         "American Stout",
         "368",
         "12.0"
        ],
        [
         "24",
         "0.044",
         "42.0",
         "876",
         "Bitter American",
         "American Pale Ale (APA)",
         "368",
         "12.0"
        ],
        [
         "25",
         "0.049",
         "17.0",
         "802",
         "Hell or High Watermelon Wheat (2009)",
         "Fruit / Vegetable Beer",
         "368",
         "12.0"
        ],
        [
         "26",
         "0.049",
         "17.0",
         "801",
         "Hell or High Watermelon Wheat (2009)",
         "Fruit / Vegetable Beer",
         "368",
         "12.0"
        ],
        [
         "27",
         "0.049",
         "17.0",
         "800",
         "21st Amendment Watermelon Wheat Beer (2006)",
         "Fruit / Vegetable Beer",
         "368",
         "12.0"
        ],
        [
         "28",
         "0.07",
         "70.0",
         "799",
         "21st Amendment IPA (2006)",
         "American IPA",
         "368",
         "12.0"
        ],
        [
         "29",
         "0.07",
         "70.0",
         "797",
         "Brew Free! or Die IPA (2008)",
         "American IPA",
         "368",
         "12.0"
        ],
        [
         "30",
         "0.07",
         "70.0",
         "796",
         "Brew Free! or Die IPA (2009)",
         "American IPA",
         "368",
         "12.0"
        ],
        [
         "31",
         "0.085",
         "52.0",
         "531",
         "Special Edition: Allies Win The War!",
         "English Strong Ale",
         "368",
         "12.0"
        ],
        [
         "32",
         "0.0969999999999999",
         "94.0",
         "432",
         "Hop Crisis",
         "American Double / Imperial IPA",
         "368",
         "12.0"
        ],
        [
         "33",
         "0.044",
         "42.0",
         "353",
         "Bitter American (2011)",
         "American Pale Ale (APA)",
         "368",
         "12.0"
        ],
        [
         "34",
         "0.079",
         "45.0",
         "321",
         "Fireside Chat (2010)",
         "Winter Warmer",
         "368",
         "12.0"
        ],
        [
         "35",
         "0.068",
         "65.0",
         "173",
         "Back in Black",
         "American Black Ale",
         "368",
         "12.0"
        ],
        [
         "36",
         "0.083",
         "35.0",
         "11",
         "Monk's Blood",
         "Belgian Dark Ale",
         "368",
         "12.0"
        ],
        [
         "37",
         "0.07",
         "65.0",
         "10",
         "Brew Free! or Die IPA",
         "American IPA",
         "368",
         "12.0"
        ],
        [
         "38",
         "0.049",
         "17.0",
         "9",
         "Hell or High Watermelon Wheat",
         "Fruit / Vegetable Beer",
         "368",
         "12.0"
        ],
        [
         "39",
         "0.07",
         "82.0",
         "2519",
         "Bimini Twist",
         "American IPA",
         "67",
         "12.0"
        ],
        [
         "40",
         "0.05",
         null,
         "2518",
         "Beach Blonde",
         "American Blonde Ale",
         "67",
         "12.0"
        ],
        [
         "41",
         "0.059",
         null,
         "2517",
         "Rod Bender Red",
         "American Amber / Red Ale",
         "67",
         "12.0"
        ],
        [
         "42",
         "0.035",
         "11.0",
         "2545",
         "Passion Fruit Prussia",
         "Berliner Weissbier",
         "60",
         "12.0"
        ],
        [
         "43",
         "0.045",
         "18.0",
         "2544",
         "Send Help",
         "American Blonde Ale",
         "60",
         "12.0"
        ],
        [
         "44",
         "0.055",
         null,
         "2324",
         "Cast Iron Oatmeal Brown",
         "American Brown Ale",
         "60",
         "12.0"
        ],
        [
         "45",
         "0.06",
         null,
         "2288",
         "Reprise Centennial Red",
         "American Amber / Red Ale",
         "60",
         "12.0"
        ],
        [
         "46",
         "0.055",
         null,
         "2287",
         "Alter Ego",
         "American Black Ale",
         "60",
         "12.0"
        ],
        [
         "47",
         "0.065",
         null,
         "2286",
         "Divided Sky",
         "American IPA",
         "60",
         "12.0"
        ],
        [
         "48",
         "0.065",
         null,
         "2285",
         "Resurrected",
         "American IPA",
         "60",
         "12.0"
        ],
        [
         "49",
         "0.05",
         "28.0",
         "1870",
         "Contact High",
         "American Pale Wheat Ale",
         "60",
         "12.0"
        ]
       ],
       "shape": {
        "columns": 7,
        "rows": 2410
       }
      },
      "text/html": [
       "<div>\n",
       "<style scoped>\n",
       "    .dataframe tbody tr th:only-of-type {\n",
       "        vertical-align: middle;\n",
       "    }\n",
       "\n",
       "    .dataframe tbody tr th {\n",
       "        vertical-align: top;\n",
       "    }\n",
       "\n",
       "    .dataframe thead th {\n",
       "        text-align: right;\n",
       "    }\n",
       "</style>\n",
       "<table border=\"1\" class=\"dataframe\">\n",
       "  <thead>\n",
       "    <tr style=\"text-align: right;\">\n",
       "      <th></th>\n",
       "      <th>abv</th>\n",
       "      <th>ibu</th>\n",
       "      <th>id</th>\n",
       "      <th>name</th>\n",
       "      <th>style</th>\n",
       "      <th>brewery_id</th>\n",
       "      <th>ounces</th>\n",
       "    </tr>\n",
       "  </thead>\n",
       "  <tbody>\n",
       "    <tr>\n",
       "      <th>0</th>\n",
       "      <td>0.050</td>\n",
       "      <td>NaN</td>\n",
       "      <td>1436</td>\n",
       "      <td>Pub Beer</td>\n",
       "      <td>American Pale Lager</td>\n",
       "      <td>408</td>\n",
       "      <td>12.0</td>\n",
       "    </tr>\n",
       "    <tr>\n",
       "      <th>1</th>\n",
       "      <td>0.066</td>\n",
       "      <td>NaN</td>\n",
       "      <td>2265</td>\n",
       "      <td>Devil's Cup</td>\n",
       "      <td>American Pale Ale (APA)</td>\n",
       "      <td>177</td>\n",
       "      <td>12.0</td>\n",
       "    </tr>\n",
       "    <tr>\n",
       "      <th>2</th>\n",
       "      <td>0.071</td>\n",
       "      <td>NaN</td>\n",
       "      <td>2264</td>\n",
       "      <td>Rise of the Phoenix</td>\n",
       "      <td>American IPA</td>\n",
       "      <td>177</td>\n",
       "      <td>12.0</td>\n",
       "    </tr>\n",
       "    <tr>\n",
       "      <th>3</th>\n",
       "      <td>0.090</td>\n",
       "      <td>NaN</td>\n",
       "      <td>2263</td>\n",
       "      <td>Sinister</td>\n",
       "      <td>American Double / Imperial IPA</td>\n",
       "      <td>177</td>\n",
       "      <td>12.0</td>\n",
       "    </tr>\n",
       "    <tr>\n",
       "      <th>4</th>\n",
       "      <td>0.075</td>\n",
       "      <td>NaN</td>\n",
       "      <td>2262</td>\n",
       "      <td>Sex and Candy</td>\n",
       "      <td>American IPA</td>\n",
       "      <td>177</td>\n",
       "      <td>12.0</td>\n",
       "    </tr>\n",
       "    <tr>\n",
       "      <th>...</th>\n",
       "      <td>...</td>\n",
       "      <td>...</td>\n",
       "      <td>...</td>\n",
       "      <td>...</td>\n",
       "      <td>...</td>\n",
       "      <td>...</td>\n",
       "      <td>...</td>\n",
       "    </tr>\n",
       "    <tr>\n",
       "      <th>2405</th>\n",
       "      <td>0.067</td>\n",
       "      <td>45.0</td>\n",
       "      <td>928</td>\n",
       "      <td>Belgorado</td>\n",
       "      <td>Belgian IPA</td>\n",
       "      <td>424</td>\n",
       "      <td>12.0</td>\n",
       "    </tr>\n",
       "    <tr>\n",
       "      <th>2406</th>\n",
       "      <td>0.052</td>\n",
       "      <td>NaN</td>\n",
       "      <td>807</td>\n",
       "      <td>Rail Yard Ale</td>\n",
       "      <td>American Amber / Red Ale</td>\n",
       "      <td>424</td>\n",
       "      <td>12.0</td>\n",
       "    </tr>\n",
       "    <tr>\n",
       "      <th>2407</th>\n",
       "      <td>0.055</td>\n",
       "      <td>NaN</td>\n",
       "      <td>620</td>\n",
       "      <td>B3K Black Lager</td>\n",
       "      <td>Schwarzbier</td>\n",
       "      <td>424</td>\n",
       "      <td>12.0</td>\n",
       "    </tr>\n",
       "    <tr>\n",
       "      <th>2408</th>\n",
       "      <td>0.055</td>\n",
       "      <td>40.0</td>\n",
       "      <td>145</td>\n",
       "      <td>Silverback Pale Ale</td>\n",
       "      <td>American Pale Ale (APA)</td>\n",
       "      <td>424</td>\n",
       "      <td>12.0</td>\n",
       "    </tr>\n",
       "    <tr>\n",
       "      <th>2409</th>\n",
       "      <td>0.052</td>\n",
       "      <td>NaN</td>\n",
       "      <td>84</td>\n",
       "      <td>Rail Yard Ale (2009)</td>\n",
       "      <td>American Amber / Red Ale</td>\n",
       "      <td>424</td>\n",
       "      <td>12.0</td>\n",
       "    </tr>\n",
       "  </tbody>\n",
       "</table>\n",
       "<p>2410 rows × 7 columns</p>\n",
       "</div>"
      ],
      "text/plain": [
       "        abv   ibu    id                  name                           style  \\\n",
       "0     0.050   NaN  1436              Pub Beer             American Pale Lager   \n",
       "1     0.066   NaN  2265           Devil's Cup         American Pale Ale (APA)   \n",
       "2     0.071   NaN  2264   Rise of the Phoenix                    American IPA   \n",
       "3     0.090   NaN  2263              Sinister  American Double / Imperial IPA   \n",
       "4     0.075   NaN  2262         Sex and Candy                    American IPA   \n",
       "...     ...   ...   ...                   ...                             ...   \n",
       "2405  0.067  45.0   928             Belgorado                     Belgian IPA   \n",
       "2406  0.052   NaN   807         Rail Yard Ale        American Amber / Red Ale   \n",
       "2407  0.055   NaN   620       B3K Black Lager                     Schwarzbier   \n",
       "2408  0.055  40.0   145   Silverback Pale Ale         American Pale Ale (APA)   \n",
       "2409  0.052   NaN    84  Rail Yard Ale (2009)        American Amber / Red Ale   \n",
       "\n",
       "      brewery_id  ounces  \n",
       "0            408    12.0  \n",
       "1            177    12.0  \n",
       "2            177    12.0  \n",
       "3            177    12.0  \n",
       "4            177    12.0  \n",
       "...          ...     ...  \n",
       "2405         424    12.0  \n",
       "2406         424    12.0  \n",
       "2407         424    12.0  \n",
       "2408         424    12.0  \n",
       "2409         424    12.0  \n",
       "\n",
       "[2410 rows x 7 columns]"
      ]
     },
     "execution_count": 80,
     "metadata": {},
     "output_type": "execute_result"
    }
   ],
   "source": [
    "beer"
   ]
  },
  {
   "cell_type": "code",
   "execution_count": 81,
   "metadata": {},
   "outputs": [
    {
     "data": {
      "application/vnd.microsoft.datawrangler.viewer.v0+json": {
       "columns": [
        {
         "name": "index",
         "rawType": "int64",
         "type": "integer"
        },
        {
         "name": "abv",
         "rawType": "float64",
         "type": "float"
        },
        {
         "name": "ibu",
         "rawType": "float64",
         "type": "float"
        },
        {
         "name": "id",
         "rawType": "int64",
         "type": "integer"
        },
        {
         "name": "brewery_id",
         "rawType": "int64",
         "type": "integer"
        },
        {
         "name": "ounces",
         "rawType": "float64",
         "type": "float"
        }
       ],
       "conversionMethod": "pd.DataFrame",
       "ref": "786aa324-6198-456f-939d-fa85b41c54c3",
       "rows": [
        [
         "0",
         "0.05",
         null,
         "1436",
         "408",
         "12.0"
        ],
        [
         "1",
         "0.066",
         null,
         "2265",
         "177",
         "12.0"
        ],
        [
         "2",
         "0.071",
         null,
         "2264",
         "177",
         "12.0"
        ],
        [
         "3",
         "0.09",
         null,
         "2263",
         "177",
         "12.0"
        ],
        [
         "4",
         "0.075",
         null,
         "2262",
         "177",
         "12.0"
        ],
        [
         "5",
         "0.077",
         null,
         "2261",
         "177",
         "12.0"
        ],
        [
         "6",
         "0.045",
         null,
         "2260",
         "177",
         "12.0"
        ],
        [
         "7",
         "0.065",
         null,
         "2259",
         "177",
         "12.0"
        ],
        [
         "8",
         "0.055",
         null,
         "2258",
         "177",
         "12.0"
        ],
        [
         "9",
         "0.086",
         null,
         "2131",
         "177",
         "12.0"
        ],
        [
         "10",
         "0.072",
         null,
         "2099",
         "177",
         "12.0"
        ],
        [
         "11",
         "0.073",
         null,
         "2098",
         "177",
         "12.0"
        ],
        [
         "12",
         "0.069",
         null,
         "2097",
         "177",
         "12.0"
        ],
        [
         "13",
         "0.085",
         null,
         "1980",
         "177",
         "12.0"
        ],
        [
         "14",
         "0.061",
         "60.0",
         "1979",
         "177",
         "12.0"
        ],
        [
         "15",
         "0.06",
         null,
         "2318",
         "154",
         "12.0"
        ],
        [
         "16",
         "0.06",
         null,
         "2170",
         "154",
         "12.0"
        ],
        [
         "17",
         "0.06",
         null,
         "2169",
         "154",
         "12.0"
        ],
        [
         "18",
         "0.06",
         null,
         "1502",
         "154",
         "12.0"
        ],
        [
         "19",
         "0.0819999999999999",
         null,
         "1593",
         "368",
         "12.0"
        ],
        [
         "20",
         "0.0819999999999999",
         null,
         "1592",
         "368",
         "12.0"
        ],
        [
         "21",
         "0.099",
         "92.0",
         "1036",
         "368",
         "8.4"
        ],
        [
         "22",
         "0.079",
         "45.0",
         "1024",
         "368",
         "12.0"
        ],
        [
         "23",
         "0.079",
         null,
         "976",
         "368",
         "12.0"
        ],
        [
         "24",
         "0.044",
         "42.0",
         "876",
         "368",
         "12.0"
        ],
        [
         "25",
         "0.049",
         "17.0",
         "802",
         "368",
         "12.0"
        ],
        [
         "26",
         "0.049",
         "17.0",
         "801",
         "368",
         "12.0"
        ],
        [
         "27",
         "0.049",
         "17.0",
         "800",
         "368",
         "12.0"
        ],
        [
         "28",
         "0.07",
         "70.0",
         "799",
         "368",
         "12.0"
        ],
        [
         "29",
         "0.07",
         "70.0",
         "797",
         "368",
         "12.0"
        ],
        [
         "30",
         "0.07",
         "70.0",
         "796",
         "368",
         "12.0"
        ],
        [
         "31",
         "0.085",
         "52.0",
         "531",
         "368",
         "12.0"
        ],
        [
         "32",
         "0.0969999999999999",
         "94.0",
         "432",
         "368",
         "12.0"
        ],
        [
         "33",
         "0.044",
         "42.0",
         "353",
         "368",
         "12.0"
        ],
        [
         "34",
         "0.079",
         "45.0",
         "321",
         "368",
         "12.0"
        ],
        [
         "35",
         "0.068",
         "65.0",
         "173",
         "368",
         "12.0"
        ],
        [
         "36",
         "0.083",
         "35.0",
         "11",
         "368",
         "12.0"
        ],
        [
         "37",
         "0.07",
         "65.0",
         "10",
         "368",
         "12.0"
        ],
        [
         "38",
         "0.049",
         "17.0",
         "9",
         "368",
         "12.0"
        ],
        [
         "39",
         "0.07",
         "82.0",
         "2519",
         "67",
         "12.0"
        ],
        [
         "40",
         "0.05",
         null,
         "2518",
         "67",
         "12.0"
        ],
        [
         "41",
         "0.059",
         null,
         "2517",
         "67",
         "12.0"
        ],
        [
         "42",
         "0.035",
         "11.0",
         "2545",
         "60",
         "12.0"
        ],
        [
         "43",
         "0.045",
         "18.0",
         "2544",
         "60",
         "12.0"
        ],
        [
         "44",
         "0.055",
         null,
         "2324",
         "60",
         "12.0"
        ],
        [
         "45",
         "0.06",
         null,
         "2288",
         "60",
         "12.0"
        ],
        [
         "46",
         "0.055",
         null,
         "2287",
         "60",
         "12.0"
        ],
        [
         "47",
         "0.065",
         null,
         "2286",
         "60",
         "12.0"
        ],
        [
         "48",
         "0.065",
         null,
         "2285",
         "60",
         "12.0"
        ],
        [
         "49",
         "0.05",
         "28.0",
         "1870",
         "60",
         "12.0"
        ]
       ],
       "shape": {
        "columns": 5,
        "rows": 2410
       }
      },
      "text/html": [
       "<div>\n",
       "<style scoped>\n",
       "    .dataframe tbody tr th:only-of-type {\n",
       "        vertical-align: middle;\n",
       "    }\n",
       "\n",
       "    .dataframe tbody tr th {\n",
       "        vertical-align: top;\n",
       "    }\n",
       "\n",
       "    .dataframe thead th {\n",
       "        text-align: right;\n",
       "    }\n",
       "</style>\n",
       "<table border=\"1\" class=\"dataframe\">\n",
       "  <thead>\n",
       "    <tr style=\"text-align: right;\">\n",
       "      <th></th>\n",
       "      <th>abv</th>\n",
       "      <th>ibu</th>\n",
       "      <th>id</th>\n",
       "      <th>brewery_id</th>\n",
       "      <th>ounces</th>\n",
       "    </tr>\n",
       "  </thead>\n",
       "  <tbody>\n",
       "    <tr>\n",
       "      <th>0</th>\n",
       "      <td>0.050</td>\n",
       "      <td>NaN</td>\n",
       "      <td>1436</td>\n",
       "      <td>408</td>\n",
       "      <td>12.0</td>\n",
       "    </tr>\n",
       "    <tr>\n",
       "      <th>1</th>\n",
       "      <td>0.066</td>\n",
       "      <td>NaN</td>\n",
       "      <td>2265</td>\n",
       "      <td>177</td>\n",
       "      <td>12.0</td>\n",
       "    </tr>\n",
       "    <tr>\n",
       "      <th>2</th>\n",
       "      <td>0.071</td>\n",
       "      <td>NaN</td>\n",
       "      <td>2264</td>\n",
       "      <td>177</td>\n",
       "      <td>12.0</td>\n",
       "    </tr>\n",
       "    <tr>\n",
       "      <th>3</th>\n",
       "      <td>0.090</td>\n",
       "      <td>NaN</td>\n",
       "      <td>2263</td>\n",
       "      <td>177</td>\n",
       "      <td>12.0</td>\n",
       "    </tr>\n",
       "    <tr>\n",
       "      <th>4</th>\n",
       "      <td>0.075</td>\n",
       "      <td>NaN</td>\n",
       "      <td>2262</td>\n",
       "      <td>177</td>\n",
       "      <td>12.0</td>\n",
       "    </tr>\n",
       "    <tr>\n",
       "      <th>...</th>\n",
       "      <td>...</td>\n",
       "      <td>...</td>\n",
       "      <td>...</td>\n",
       "      <td>...</td>\n",
       "      <td>...</td>\n",
       "    </tr>\n",
       "    <tr>\n",
       "      <th>2405</th>\n",
       "      <td>0.067</td>\n",
       "      <td>45.0</td>\n",
       "      <td>928</td>\n",
       "      <td>424</td>\n",
       "      <td>12.0</td>\n",
       "    </tr>\n",
       "    <tr>\n",
       "      <th>2406</th>\n",
       "      <td>0.052</td>\n",
       "      <td>NaN</td>\n",
       "      <td>807</td>\n",
       "      <td>424</td>\n",
       "      <td>12.0</td>\n",
       "    </tr>\n",
       "    <tr>\n",
       "      <th>2407</th>\n",
       "      <td>0.055</td>\n",
       "      <td>NaN</td>\n",
       "      <td>620</td>\n",
       "      <td>424</td>\n",
       "      <td>12.0</td>\n",
       "    </tr>\n",
       "    <tr>\n",
       "      <th>2408</th>\n",
       "      <td>0.055</td>\n",
       "      <td>40.0</td>\n",
       "      <td>145</td>\n",
       "      <td>424</td>\n",
       "      <td>12.0</td>\n",
       "    </tr>\n",
       "    <tr>\n",
       "      <th>2409</th>\n",
       "      <td>0.052</td>\n",
       "      <td>NaN</td>\n",
       "      <td>84</td>\n",
       "      <td>424</td>\n",
       "      <td>12.0</td>\n",
       "    </tr>\n",
       "  </tbody>\n",
       "</table>\n",
       "<p>2410 rows × 5 columns</p>\n",
       "</div>"
      ],
      "text/plain": [
       "        abv   ibu    id  brewery_id  ounces\n",
       "0     0.050   NaN  1436         408    12.0\n",
       "1     0.066   NaN  2265         177    12.0\n",
       "2     0.071   NaN  2264         177    12.0\n",
       "3     0.090   NaN  2263         177    12.0\n",
       "4     0.075   NaN  2262         177    12.0\n",
       "...     ...   ...   ...         ...     ...\n",
       "2405  0.067  45.0   928         424    12.0\n",
       "2406  0.052   NaN   807         424    12.0\n",
       "2407  0.055   NaN   620         424    12.0\n",
       "2408  0.055  40.0   145         424    12.0\n",
       "2409  0.052   NaN    84         424    12.0\n",
       "\n",
       "[2410 rows x 5 columns]"
      ]
     },
     "execution_count": 81,
     "metadata": {},
     "output_type": "execute_result"
    }
   ],
   "source": [
    "columnas_numericas = beer.select_dtypes(include=[\"float64\", \"int64\"])\n",
    "columnas_numericas"
   ]
  },
  {
   "cell_type": "code",
   "execution_count": 82,
   "metadata": {},
   "outputs": [
    {
     "data": {
      "application/vnd.microsoft.datawrangler.viewer.v0+json": {
       "columns": [
        {
         "name": "index",
         "rawType": "object",
         "type": "string"
        },
        {
         "name": "abv",
         "rawType": "float64",
         "type": "float"
        },
        {
         "name": "ibu",
         "rawType": "float64",
         "type": "float"
        },
        {
         "name": "id",
         "rawType": "float64",
         "type": "float"
        },
        {
         "name": "brewery_id",
         "rawType": "float64",
         "type": "float"
        },
        {
         "name": "ounces",
         "rawType": "float64",
         "type": "float"
        }
       ],
       "conversionMethod": "pd.DataFrame",
       "ref": "ec1104cb-fd9f-4fd0-97bd-d3bf32bfa995",
       "rows": [
        [
         "abv",
         "1.0",
         "0.6706214849969854",
         "0.042811149749390924",
         "-0.098632316806485",
         "0.17252890400935644"
        ],
        [
         "ibu",
         "0.6706214849969854",
         "1.0",
         "0.000485146335741983",
         "-0.004875118399749179",
         "0.05469082729677247"
        ],
        [
         "id",
         "0.042811149749390924",
         "0.000485146335741983",
         "1.0",
         "-0.5040299676747666",
         "0.10084342568570676"
        ],
        [
         "brewery_id",
         "-0.098632316806485",
         "-0.004875118399749179",
         "-0.5040299676747666",
         "1.0",
         "-0.13376165995787123"
        ],
        [
         "ounces",
         "0.17252890400935644",
         "0.05469082729677247",
         "0.10084342568570676",
         "-0.13376165995787123",
         "1.0"
        ]
       ],
       "shape": {
        "columns": 5,
        "rows": 5
       }
      },
      "text/html": [
       "<div>\n",
       "<style scoped>\n",
       "    .dataframe tbody tr th:only-of-type {\n",
       "        vertical-align: middle;\n",
       "    }\n",
       "\n",
       "    .dataframe tbody tr th {\n",
       "        vertical-align: top;\n",
       "    }\n",
       "\n",
       "    .dataframe thead th {\n",
       "        text-align: right;\n",
       "    }\n",
       "</style>\n",
       "<table border=\"1\" class=\"dataframe\">\n",
       "  <thead>\n",
       "    <tr style=\"text-align: right;\">\n",
       "      <th></th>\n",
       "      <th>abv</th>\n",
       "      <th>ibu</th>\n",
       "      <th>id</th>\n",
       "      <th>brewery_id</th>\n",
       "      <th>ounces</th>\n",
       "    </tr>\n",
       "  </thead>\n",
       "  <tbody>\n",
       "    <tr>\n",
       "      <th>abv</th>\n",
       "      <td>1.000000</td>\n",
       "      <td>0.670621</td>\n",
       "      <td>0.042811</td>\n",
       "      <td>-0.098632</td>\n",
       "      <td>0.172529</td>\n",
       "    </tr>\n",
       "    <tr>\n",
       "      <th>ibu</th>\n",
       "      <td>0.670621</td>\n",
       "      <td>1.000000</td>\n",
       "      <td>0.000485</td>\n",
       "      <td>-0.004875</td>\n",
       "      <td>0.054691</td>\n",
       "    </tr>\n",
       "    <tr>\n",
       "      <th>id</th>\n",
       "      <td>0.042811</td>\n",
       "      <td>0.000485</td>\n",
       "      <td>1.000000</td>\n",
       "      <td>-0.504030</td>\n",
       "      <td>0.100843</td>\n",
       "    </tr>\n",
       "    <tr>\n",
       "      <th>brewery_id</th>\n",
       "      <td>-0.098632</td>\n",
       "      <td>-0.004875</td>\n",
       "      <td>-0.504030</td>\n",
       "      <td>1.000000</td>\n",
       "      <td>-0.133762</td>\n",
       "    </tr>\n",
       "    <tr>\n",
       "      <th>ounces</th>\n",
       "      <td>0.172529</td>\n",
       "      <td>0.054691</td>\n",
       "      <td>0.100843</td>\n",
       "      <td>-0.133762</td>\n",
       "      <td>1.000000</td>\n",
       "    </tr>\n",
       "  </tbody>\n",
       "</table>\n",
       "</div>"
      ],
      "text/plain": [
       "                 abv       ibu        id  brewery_id    ounces\n",
       "abv         1.000000  0.670621  0.042811   -0.098632  0.172529\n",
       "ibu         0.670621  1.000000  0.000485   -0.004875  0.054691\n",
       "id          0.042811  0.000485  1.000000   -0.504030  0.100843\n",
       "brewery_id -0.098632 -0.004875 -0.504030    1.000000 -0.133762\n",
       "ounces      0.172529  0.054691  0.100843   -0.133762  1.000000"
      ]
     },
     "execution_count": 82,
     "metadata": {},
     "output_type": "execute_result"
    }
   ],
   "source": [
    "matrix_corr = columnas_numericas.corr()  #a forma más común de analizar la correlación entre múltiples\n",
    "#variables es calcular la matriz de correlación. \n",
    "matrix_corr\n",
    "\n",
    "#te mostrará cómo se relacionan entre sí todas las columnas numéricas. Los valores cercanos a 1 indican una fuerte correlación positiva, \n",
    "# #los cercanos a -1 indican una fuerte correlación negativa, y los cercanos a 0 indican poca o ninguna correlación."
   ]
  },
  {
   "cell_type": "code",
   "execution_count": null,
   "metadata": {},
   "outputs": [],
   "source": []
  },
  {
   "cell_type": "code",
   "execution_count": 83,
   "metadata": {},
   "outputs": [
    {
     "name": "stdout",
     "output_type": "stream",
     "text": [
      "Requirement already satisfied: matplotlib in c:\\users\\nagor\\appdata\\local\\programs\\python\\python311\\lib\\site-packages (3.10.1)\n",
      "Requirement already satisfied: contourpy>=1.0.1 in c:\\users\\nagor\\appdata\\local\\programs\\python\\python311\\lib\\site-packages (from matplotlib) (1.3.1)\n",
      "Requirement already satisfied: cycler>=0.10 in c:\\users\\nagor\\appdata\\local\\programs\\python\\python311\\lib\\site-packages (from matplotlib) (0.12.1)\n",
      "Requirement already satisfied: fonttools>=4.22.0 in c:\\users\\nagor\\appdata\\local\\programs\\python\\python311\\lib\\site-packages (from matplotlib) (4.56.0)\n",
      "Requirement already satisfied: kiwisolver>=1.3.1 in c:\\users\\nagor\\appdata\\local\\programs\\python\\python311\\lib\\site-packages (from matplotlib) (1.4.8)\n",
      "Requirement already satisfied: numpy>=1.23 in c:\\users\\nagor\\appdata\\local\\programs\\python\\python311\\lib\\site-packages (from matplotlib) (2.2.4)\n",
      "Requirement already satisfied: packaging>=20.0 in c:\\users\\nagor\\appdata\\roaming\\python\\python311\\site-packages (from matplotlib) (24.2)\n",
      "Requirement already satisfied: pillow>=8 in c:\\users\\nagor\\appdata\\local\\programs\\python\\python311\\lib\\site-packages (from matplotlib) (11.1.0)\n",
      "Requirement already satisfied: pyparsing>=2.3.1 in c:\\users\\nagor\\appdata\\local\\programs\\python\\python311\\lib\\site-packages (from matplotlib) (3.2.1)\n",
      "Requirement already satisfied: python-dateutil>=2.7 in c:\\users\\nagor\\appdata\\roaming\\python\\python311\\site-packages (from matplotlib) (2.9.0.post0)\n",
      "Requirement already satisfied: six>=1.5 in c:\\users\\nagor\\appdata\\roaming\\python\\python311\\site-packages (from python-dateutil>=2.7->matplotlib) (1.17.0)\n"
     ]
    },
    {
     "name": "stderr",
     "output_type": "stream",
     "text": [
      "\n",
      "[notice] A new release of pip is available: 24.0 -> 25.0.1\n",
      "[notice] To update, run: python.exe -m pip install --upgrade pip\n"
     ]
    }
   ],
   "source": [
    "!pip install matplotlib"
   ]
  },
  {
   "cell_type": "code",
   "execution_count": 84,
   "metadata": {},
   "outputs": [],
   "source": [
    "import matplotlib as plt\n"
   ]
  },
  {
   "cell_type": "code",
   "execution_count": 85,
   "metadata": {},
   "outputs": [
    {
     "ename": "TypeError",
     "evalue": "'module' object is not callable",
     "output_type": "error",
     "traceback": [
      "\u001b[31m---------------------------------------------------------------------------\u001b[39m",
      "\u001b[31mTypeError\u001b[39m                                 Traceback (most recent call last)",
      "\u001b[36mCell\u001b[39m\u001b[36m \u001b[39m\u001b[32mIn[85]\u001b[39m\u001b[32m, line 3\u001b[39m\n\u001b[32m      1\u001b[39m \u001b[38;5;66;03m#para entender las correlaciones entre las variables es visualizar\u001b[39;00m\n\u001b[32m      2\u001b[39m \u001b[38;5;66;03m# la matriz de correlación usando un mapa de calor (heatmap).\u001b[39;00m\n\u001b[32m----> \u001b[39m\u001b[32m3\u001b[39m \u001b[43mplt\u001b[49m\u001b[43m.\u001b[49m\u001b[43mfigure\u001b[49m\u001b[43m(\u001b[49m\u001b[43mfigsize\u001b[49m\u001b[43m=\u001b[49m\u001b[43m(\u001b[49m\u001b[32;43m10\u001b[39;49m\u001b[43m,\u001b[49m\u001b[43m \u001b[49m\u001b[32;43m10\u001b[39;49m\u001b[43m)\u001b[49m\u001b[43m)\u001b[49m  \u001b[38;5;66;03m# Tamaño de la figura\u001b[39;00m\n\u001b[32m      4\u001b[39m sns.heatmap(matrix_corr, annot=\u001b[38;5;28;01mTrue\u001b[39;00m, cmap=\u001b[33m'\u001b[39m\u001b[33mcoolwarm\u001b[39m\u001b[33m'\u001b[39m, linewidths=\u001b[32m0.5\u001b[39m, fmt=\u001b[33m'\u001b[39m\u001b[33m.2f\u001b[39m\u001b[33m'\u001b[39m)\n\u001b[32m      5\u001b[39m plt.title(\u001b[33m'\u001b[39m\u001b[33mMatriz de Correlación\u001b[39m\u001b[33m'\u001b[39m)\n",
      "\u001b[31mTypeError\u001b[39m: 'module' object is not callable"
     ]
    }
   ],
   "source": [
    "#para entender las correlaciones entre las variables es visualizar\n",
    "# la matriz de correlación usando un mapa de calor (heatmap).\n",
    "plt.figure(figsize=(10, 10))  # Tamaño de la figura\n",
    "sns.heatmap(matrix_corr, annot=True, cmap='coolwarm', linewidths=0.5, fmt='.2f')\n",
    "plt.title('Matriz de Correlación')\n",
    "plt.show()"
   ]
  },
  {
   "attachments": {},
   "cell_type": "markdown",
   "metadata": {},
   "source": [
    "## Ejercicio 13\n",
    "Representa el nivel de alcohol (columna `abv`) en un histograma. ¿Se trata de una distribución simétrica o asimétrica?"
   ]
  },
  {
   "cell_type": "code",
   "execution_count": null,
   "metadata": {},
   "outputs": [
    {
     "data": {
      "text/plain": [
       "<Axes: xlabel='abv', ylabel='Count'>"
      ]
     },
     "execution_count": 124,
     "metadata": {},
     "output_type": "execute_result"
    },
    {
     "data": {
      "image/png": "[encoded data removed]",
      "text/plain": [
       "<Figure size 640x480 with 1 Axes>"
      ]
     },
     "metadata": {},
     "output_type": "display_data"
    }
   ],
   "source": [
    "sns.histplot(beer[\"abv\"], bins=30)"
   ]
  },
  {
   "cell_type": "markdown",
   "metadata": {},
   "source": [
    "Se puede aprecia una ligera asímetria entre los valores  0.04 y 0.08 que en el histograma de densidad de probababilidad no se apreciaría . La mayoría de los valores se mueven entr 0.04 y 0.06 donde sufre una caida "
   ]
  },
  {
   "cell_type": "code",
   "execution_count": null,
   "metadata": {},
   "outputs": [
    {
     "data": {
      "text/plain": [
       "<seaborn.axisgrid.FacetGrid at 0x1569068b5d0>"
      ]
     },
     "execution_count": 34,
     "metadata": {},
     "output_type": "execute_result"
    },
    {
     "data": {
      "image/png": "[encoded data removed]",
      "text/plain": [
       "<Figure size 500x500 with 1 Axes>"
      ]
     },
     "metadata": {},
     "output_type": "display_data"
    }
   ],
   "source": [
    "sns.displot(beer[\"abv\"], kind=\"kde\")"
   ]
  },
  {
   "cell_type": "code",
   "execution_count": 43,
   "metadata": {},
   "outputs": [
    {
     "ename": "TypeError",
     "evalue": "Series.isna() got an unexpected keyword argument 'inplace'",
     "output_type": "error",
     "traceback": [
      "\u001b[31m---------------------------------------------------------------------------\u001b[39m",
      "\u001b[31mTypeError\u001b[39m                                 Traceback (most recent call last)",
      "\u001b[36mCell\u001b[39m\u001b[36m \u001b[39m\u001b[32mIn[43]\u001b[39m\u001b[32m, line 1\u001b[39m\n\u001b[32m----> \u001b[39m\u001b[32m1\u001b[39m \u001b[43mbeer\u001b[49m\u001b[43m[\u001b[49m\u001b[33;43m\"\u001b[39;49m\u001b[33;43mibu\u001b[39;49m\u001b[33;43m\"\u001b[39;49m\u001b[43m]\u001b[49m\u001b[43m.\u001b[49m\u001b[43misna\u001b[49m\u001b[43m(\u001b[49m\u001b[43mbeer\u001b[49m\u001b[43m[\u001b[49m\u001b[33;43m\"\u001b[39;49m\u001b[33;43mibu\u001b[39;49m\u001b[33;43m\"\u001b[39;49m\u001b[43m]\u001b[49m\u001b[43m.\u001b[49m\u001b[43mmedian\u001b[49m\u001b[43m(\u001b[49m\u001b[43m)\u001b[49m\u001b[43m,\u001b[49m\u001b[43m \u001b[49m\u001b[43minplace\u001b[49m\u001b[43m=\u001b[49m\u001b[38;5;28;43;01mTrue\u001b[39;49;00m\u001b[43m)\u001b[49m\n",
      "\u001b[31mTypeError\u001b[39m: Series.isna() got an unexpected keyword argument 'inplace'"
     ]
    }
   ],
   "source": [
    "beer[\"ibu\"].isna(beer[\"ibu\"].median(), inplace=True)"
   ]
  },
  {
   "cell_type": "code",
   "execution_count": 180,
   "metadata": {},
   "outputs": [
    {
     "ename": "AttributeError",
     "evalue": "'NoneType' object has no attribute 'info'",
     "output_type": "error",
     "traceback": [
      "\u001b[31m---------------------------------------------------------------------------\u001b[39m",
      "\u001b[31mAttributeError\u001b[39m                            Traceback (most recent call last)",
      "\u001b[36mCell\u001b[39m\u001b[36m \u001b[39m\u001b[32mIn[180]\u001b[39m\u001b[32m, line 1\u001b[39m\n\u001b[32m----> \u001b[39m\u001b[32m1\u001b[39m \u001b[43mbeer\u001b[49m\u001b[43m.\u001b[49m\u001b[43minfo\u001b[49m()\n",
      "\u001b[31mAttributeError\u001b[39m: 'NoneType' object has no attribute 'info'"
     ]
    }
   ],
   "source": [
    "beer.info()"
   ]
  },
  {
   "attachments": {},
   "cell_type": "markdown",
   "metadata": {},
   "source": [
    "## Ejercicio 14\n",
    "Representa mediante un *boxplot* de `seaborn` la variable `abv`"
   ]
  },
  {
   "cell_type": "code",
   "execution_count": 35,
   "metadata": {},
   "outputs": [
    {
     "data": {
      "text/plain": [
       "<Axes: ylabel='abv'>"
      ]
     },
     "execution_count": 35,
     "metadata": {},
     "output_type": "execute_result"
    },
    {
     "data": {
      "image/png": "[encoded data removed]",
      "text/plain": [
       "<Figure size 640x480 with 1 Axes>"
      ]
     },
     "metadata": {},
     "output_type": "display_data"
    }
   ],
   "source": [
    "sns.boxplot(beer[\"abv\"])"
   ]
  },
  {
   "cell_type": "markdown",
   "metadata": {},
   "source": [
    "vems que está bastante conentrada y luego se alarga bastante \n"
   ]
  },
  {
   "cell_type": "code",
   "execution_count": 135,
   "metadata": {},
   "outputs": [
    {
     "data": {
      "application/vnd.microsoft.datawrangler.viewer.v0+json": {
       "columns": [
        {
         "name": "index",
         "rawType": "int64",
         "type": "integer"
        },
        {
         "name": "abv",
         "rawType": "float64",
         "type": "float"
        },
        {
         "name": "ibu",
         "rawType": "float64",
         "type": "float"
        },
        {
         "name": "id",
         "rawType": "int64",
         "type": "integer"
        },
        {
         "name": "name",
         "rawType": "object",
         "type": "string"
        },
        {
         "name": "style",
         "rawType": "object",
         "type": "unknown"
        },
        {
         "name": "brewery_id",
         "rawType": "int64",
         "type": "integer"
        },
        {
         "name": "ounces",
         "rawType": "float64",
         "type": "float"
        }
       ],
       "conversionMethod": "pd.DataFrame",
       "ref": "9615cab7-5992-4c44-b7b5-d0f82a6ba27d",
       "rows": [
        [
         "0",
         "0.05",
         null,
         "1436",
         "Pub Beer",
         "American Pale Lager",
         "408",
         "12.0"
        ],
        [
         "1",
         "0.066",
         null,
         "2265",
         "Devil's Cup",
         "American Pale Ale (APA)",
         "177",
         "12.0"
        ],
        [
         "2",
         "0.071",
         null,
         "2264",
         "Rise of the Phoenix",
         "American IPA",
         "177",
         "12.0"
        ],
        [
         "3",
         "0.09",
         null,
         "2263",
         "Sinister",
         "American Double / Imperial IPA",
         "177",
         "12.0"
        ],
        [
         "4",
         "0.075",
         null,
         "2262",
         "Sex and Candy",
         "American IPA",
         "177",
         "12.0"
        ],
        [
         "5",
         "0.077",
         null,
         "2261",
         "Black Exodus",
         "Oatmeal Stout",
         "177",
         "12.0"
        ],
        [
         "6",
         "0.045",
         null,
         "2260",
         "Lake Street Express",
         "American Pale Ale (APA)",
         "177",
         "12.0"
        ],
        [
         "7",
         "0.065",
         null,
         "2259",
         "Foreman",
         "American Porter",
         "177",
         "12.0"
        ],
        [
         "8",
         "0.055",
         null,
         "2258",
         "Jade",
         "American Pale Ale (APA)",
         "177",
         "12.0"
        ],
        [
         "9",
         "0.086",
         null,
         "2131",
         "Cone Crusher",
         "American Double / Imperial IPA",
         "177",
         "12.0"
        ],
        [
         "10",
         "0.072",
         null,
         "2099",
         "Sophomoric Saison",
         "Saison / Farmhouse Ale",
         "177",
         "12.0"
        ],
        [
         "11",
         "0.073",
         null,
         "2098",
         "Regional Ring Of Fire",
         "Saison / Farmhouse Ale",
         "177",
         "12.0"
        ],
        [
         "12",
         "0.069",
         null,
         "2097",
         "Garce Selé",
         "Saison / Farmhouse Ale",
         "177",
         "12.0"
        ],
        [
         "13",
         "0.085",
         null,
         "1980",
         "Troll Destroyer",
         "Belgian IPA",
         "177",
         "12.0"
        ],
        [
         "14",
         "0.061",
         "60.0",
         "1979",
         "Bitter Bitch",
         "American Pale Ale (APA)",
         "177",
         "12.0"
        ],
        [
         "15",
         "0.06",
         null,
         "2318",
         "Ginja Ninja",
         "Cider",
         "154",
         "12.0"
        ],
        [
         "16",
         "0.06",
         null,
         "2170",
         "Cherried Away",
         "Cider",
         "154",
         "12.0"
        ],
        [
         "17",
         "0.06",
         null,
         "2169",
         "Rhubarbarian",
         "Cider",
         "154",
         "12.0"
        ],
        [
         "18",
         "0.06",
         null,
         "1502",
         "BrightCider",
         "Cider",
         "154",
         "12.0"
        ],
        [
         "19",
         "0.0819999999999999",
         null,
         "1593",
         "He Said Baltic-Style Porter",
         "Baltic Porter",
         "368",
         "12.0"
        ],
        [
         "20",
         "0.0819999999999999",
         null,
         "1592",
         "He Said Belgian-Style Tripel",
         "Tripel",
         "368",
         "12.0"
        ],
        [
         "21",
         "0.099",
         "92.0",
         "1036",
         "Lower De Boom",
         "American Barleywine",
         "368",
         "8.4"
        ],
        [
         "22",
         "0.079",
         "45.0",
         "1024",
         "Fireside Chat",
         "Winter Warmer",
         "368",
         "12.0"
        ],
        [
         "23",
         "0.079",
         null,
         "976",
         "Marooned On Hog Island",
         "American Stout",
         "368",
         "12.0"
        ],
        [
         "24",
         "0.044",
         "42.0",
         "876",
         "Bitter American",
         "American Pale Ale (APA)",
         "368",
         "12.0"
        ],
        [
         "25",
         "0.049",
         "17.0",
         "802",
         "Hell or High Watermelon Wheat (2009)",
         "Fruit / Vegetable Beer",
         "368",
         "12.0"
        ],
        [
         "26",
         "0.049",
         "17.0",
         "801",
         "Hell or High Watermelon Wheat (2009)",
         "Fruit / Vegetable Beer",
         "368",
         "12.0"
        ],
        [
         "27",
         "0.049",
         "17.0",
         "800",
         "21st Amendment Watermelon Wheat Beer (2006)",
         "Fruit / Vegetable Beer",
         "368",
         "12.0"
        ],
        [
         "28",
         "0.07",
         "70.0",
         "799",
         "21st Amendment IPA (2006)",
         "American IPA",
         "368",
         "12.0"
        ],
        [
         "29",
         "0.07",
         "70.0",
         "797",
         "Brew Free! or Die IPA (2008)",
         "American IPA",
         "368",
         "12.0"
        ],
        [
         "30",
         "0.07",
         "70.0",
         "796",
         "Brew Free! or Die IPA (2009)",
         "American IPA",
         "368",
         "12.0"
        ],
        [
         "31",
         "0.085",
         "52.0",
         "531",
         "Special Edition: Allies Win The War!",
         "English Strong Ale",
         "368",
         "12.0"
        ],
        [
         "32",
         "0.0969999999999999",
         "94.0",
         "432",
         "Hop Crisis",
         "American Double / Imperial IPA",
         "368",
         "12.0"
        ],
        [
         "33",
         "0.044",
         "42.0",
         "353",
         "Bitter American (2011)",
         "American Pale Ale (APA)",
         "368",
         "12.0"
        ],
        [
         "34",
         "0.079",
         "45.0",
         "321",
         "Fireside Chat (2010)",
         "Winter Warmer",
         "368",
         "12.0"
        ],
        [
         "35",
         "0.068",
         "65.0",
         "173",
         "Back in Black",
         "American Black Ale",
         "368",
         "12.0"
        ],
        [
         "36",
         "0.083",
         "35.0",
         "11",
         "Monk's Blood",
         "Belgian Dark Ale",
         "368",
         "12.0"
        ],
        [
         "37",
         "0.07",
         "65.0",
         "10",
         "Brew Free! or Die IPA",
         "American IPA",
         "368",
         "12.0"
        ],
        [
         "38",
         "0.049",
         "17.0",
         "9",
         "Hell or High Watermelon Wheat",
         "Fruit / Vegetable Beer",
         "368",
         "12.0"
        ],
        [
         "39",
         "0.07",
         "82.0",
         "2519",
         "Bimini Twist",
         "American IPA",
         "67",
         "12.0"
        ],
        [
         "40",
         "0.05",
         null,
         "2518",
         "Beach Blonde",
         "American Blonde Ale",
         "67",
         "12.0"
        ],
        [
         "41",
         "0.059",
         null,
         "2517",
         "Rod Bender Red",
         "American Amber / Red Ale",
         "67",
         "12.0"
        ],
        [
         "42",
         "0.035",
         "11.0",
         "2545",
         "Passion Fruit Prussia",
         "Berliner Weissbier",
         "60",
         "12.0"
        ],
        [
         "43",
         "0.045",
         "18.0",
         "2544",
         "Send Help",
         "American Blonde Ale",
         "60",
         "12.0"
        ],
        [
         "44",
         "0.055",
         null,
         "2324",
         "Cast Iron Oatmeal Brown",
         "American Brown Ale",
         "60",
         "12.0"
        ],
        [
         "45",
         "0.06",
         null,
         "2288",
         "Reprise Centennial Red",
         "American Amber / Red Ale",
         "60",
         "12.0"
        ],
        [
         "46",
         "0.055",
         null,
         "2287",
         "Alter Ego",
         "American Black Ale",
         "60",
         "12.0"
        ],
        [
         "47",
         "0.065",
         null,
         "2286",
         "Divided Sky",
         "American IPA",
         "60",
         "12.0"
        ],
        [
         "48",
         "0.065",
         null,
         "2285",
         "Resurrected",
         "American IPA",
         "60",
         "12.0"
        ],
        [
         "49",
         "0.05",
         "28.0",
         "1870",
         "Contact High",
         "American Pale Wheat Ale",
         "60",
         "12.0"
        ]
       ],
       "shape": {
        "columns": 7,
        "rows": 2410
       }
      },
      "text/html": [
       "<div>\n",
       "<style scoped>\n",
       "    .dataframe tbody tr th:only-of-type {\n",
       "        vertical-align: middle;\n",
       "    }\n",
       "\n",
       "    .dataframe tbody tr th {\n",
       "        vertical-align: top;\n",
       "    }\n",
       "\n",
       "    .dataframe thead th {\n",
       "        text-align: right;\n",
       "    }\n",
       "</style>\n",
       "<table border=\"1\" class=\"dataframe\">\n",
       "  <thead>\n",
       "    <tr style=\"text-align: right;\">\n",
       "      <th></th>\n",
       "      <th>abv</th>\n",
       "      <th>ibu</th>\n",
       "      <th>id</th>\n",
       "      <th>name</th>\n",
       "      <th>style</th>\n",
       "      <th>brewery_id</th>\n",
       "      <th>ounces</th>\n",
       "    </tr>\n",
       "  </thead>\n",
       "  <tbody>\n",
       "    <tr>\n",
       "      <th>0</th>\n",
       "      <td>0.050</td>\n",
       "      <td>NaN</td>\n",
       "      <td>1436</td>\n",
       "      <td>Pub Beer</td>\n",
       "      <td>American Pale Lager</td>\n",
       "      <td>408</td>\n",
       "      <td>12.0</td>\n",
       "    </tr>\n",
       "    <tr>\n",
       "      <th>1</th>\n",
       "      <td>0.066</td>\n",
       "      <td>NaN</td>\n",
       "      <td>2265</td>\n",
       "      <td>Devil's Cup</td>\n",
       "      <td>American Pale Ale (APA)</td>\n",
       "      <td>177</td>\n",
       "      <td>12.0</td>\n",
       "    </tr>\n",
       "    <tr>\n",
       "      <th>2</th>\n",
       "      <td>0.071</td>\n",
       "      <td>NaN</td>\n",
       "      <td>2264</td>\n",
       "      <td>Rise of the Phoenix</td>\n",
       "      <td>American IPA</td>\n",
       "      <td>177</td>\n",
       "      <td>12.0</td>\n",
       "    </tr>\n",
       "    <tr>\n",
       "      <th>3</th>\n",
       "      <td>0.090</td>\n",
       "      <td>NaN</td>\n",
       "      <td>2263</td>\n",
       "      <td>Sinister</td>\n",
       "      <td>American Double / Imperial IPA</td>\n",
       "      <td>177</td>\n",
       "      <td>12.0</td>\n",
       "    </tr>\n",
       "    <tr>\n",
       "      <th>4</th>\n",
       "      <td>0.075</td>\n",
       "      <td>NaN</td>\n",
       "      <td>2262</td>\n",
       "      <td>Sex and Candy</td>\n",
       "      <td>American IPA</td>\n",
       "      <td>177</td>\n",
       "      <td>12.0</td>\n",
       "    </tr>\n",
       "    <tr>\n",
       "      <th>...</th>\n",
       "      <td>...</td>\n",
       "      <td>...</td>\n",
       "      <td>...</td>\n",
       "      <td>...</td>\n",
       "      <td>...</td>\n",
       "      <td>...</td>\n",
       "      <td>...</td>\n",
       "    </tr>\n",
       "    <tr>\n",
       "      <th>2405</th>\n",
       "      <td>0.067</td>\n",
       "      <td>45.0</td>\n",
       "      <td>928</td>\n",
       "      <td>Belgorado</td>\n",
       "      <td>Belgian IPA</td>\n",
       "      <td>424</td>\n",
       "      <td>12.0</td>\n",
       "    </tr>\n",
       "    <tr>\n",
       "      <th>2406</th>\n",
       "      <td>0.052</td>\n",
       "      <td>NaN</td>\n",
       "      <td>807</td>\n",
       "      <td>Rail Yard Ale</td>\n",
       "      <td>American Amber / Red Ale</td>\n",
       "      <td>424</td>\n",
       "      <td>12.0</td>\n",
       "    </tr>\n",
       "    <tr>\n",
       "      <th>2407</th>\n",
       "      <td>0.055</td>\n",
       "      <td>NaN</td>\n",
       "      <td>620</td>\n",
       "      <td>B3K Black Lager</td>\n",
       "      <td>Schwarzbier</td>\n",
       "      <td>424</td>\n",
       "      <td>12.0</td>\n",
       "    </tr>\n",
       "    <tr>\n",
       "      <th>2408</th>\n",
       "      <td>0.055</td>\n",
       "      <td>40.0</td>\n",
       "      <td>145</td>\n",
       "      <td>Silverback Pale Ale</td>\n",
       "      <td>American Pale Ale (APA)</td>\n",
       "      <td>424</td>\n",
       "      <td>12.0</td>\n",
       "    </tr>\n",
       "    <tr>\n",
       "      <th>2409</th>\n",
       "      <td>0.052</td>\n",
       "      <td>NaN</td>\n",
       "      <td>84</td>\n",
       "      <td>Rail Yard Ale (2009)</td>\n",
       "      <td>American Amber / Red Ale</td>\n",
       "      <td>424</td>\n",
       "      <td>12.0</td>\n",
       "    </tr>\n",
       "  </tbody>\n",
       "</table>\n",
       "<p>2410 rows × 7 columns</p>\n",
       "</div>"
      ],
      "text/plain": [
       "        abv   ibu    id                  name                           style  \\\n",
       "0     0.050   NaN  1436              Pub Beer             American Pale Lager   \n",
       "1     0.066   NaN  2265           Devil's Cup         American Pale Ale (APA)   \n",
       "2     0.071   NaN  2264   Rise of the Phoenix                    American IPA   \n",
       "3     0.090   NaN  2263              Sinister  American Double / Imperial IPA   \n",
       "4     0.075   NaN  2262         Sex and Candy                    American IPA   \n",
       "...     ...   ...   ...                   ...                             ...   \n",
       "2405  0.067  45.0   928             Belgorado                     Belgian IPA   \n",
       "2406  0.052   NaN   807         Rail Yard Ale        American Amber / Red Ale   \n",
       "2407  0.055   NaN   620       B3K Black Lager                     Schwarzbier   \n",
       "2408  0.055  40.0   145   Silverback Pale Ale         American Pale Ale (APA)   \n",
       "2409  0.052   NaN    84  Rail Yard Ale (2009)        American Amber / Red Ale   \n",
       "\n",
       "      brewery_id  ounces  \n",
       "0            408    12.0  \n",
       "1            177    12.0  \n",
       "2            177    12.0  \n",
       "3            177    12.0  \n",
       "4            177    12.0  \n",
       "...          ...     ...  \n",
       "2405         424    12.0  \n",
       "2406         424    12.0  \n",
       "2407         424    12.0  \n",
       "2408         424    12.0  \n",
       "2409         424    12.0  \n",
       "\n",
       "[2410 rows x 7 columns]"
      ]
     },
     "execution_count": 135,
     "metadata": {},
     "output_type": "execute_result"
    }
   ],
   "source": [
    "beer"
   ]
  },
  {
   "attachments": {},
   "cell_type": "markdown",
   "metadata": {},
   "source": [
    "## Ejercicio 15\n",
    "1. ¿Qué estilos son los que tienen en media más alcohol?\n",
    "2. ¿Y los estilos que son en media más amargos?"
   ]
  },
  {
   "cell_type": "code",
   "execution_count": 138,
   "metadata": {},
   "outputs": [],
   "source": [
    "alcohol_max = round(beer.groupby(\"style\")[[\"abv\"]].mean(), 2)  #aquí elegimos de los estilos, la media de cada uno de su alcohol por litro"
   ]
  },
  {
   "cell_type": "code",
   "execution_count": 139,
   "metadata": {},
   "outputs": [
    {
     "data": {
      "application/vnd.microsoft.datawrangler.viewer.v0+json": {
       "columns": [
        {
         "name": "style",
         "rawType": "object",
         "type": "string"
        },
        {
         "name": "abv",
         "rawType": "float64",
         "type": "float"
        }
       ],
       "conversionMethod": "pd.DataFrame",
       "ref": "ae1788c1-c687-4c10-b937-7e6ee623f75b",
       "rows": [
        [
         "English Barleywine",
         "0.11"
        ]
       ],
       "shape": {
        "columns": 1,
        "rows": 1
       }
      },
      "text/html": [
       "<div>\n",
       "<style scoped>\n",
       "    .dataframe tbody tr th:only-of-type {\n",
       "        vertical-align: middle;\n",
       "    }\n",
       "\n",
       "    .dataframe tbody tr th {\n",
       "        vertical-align: top;\n",
       "    }\n",
       "\n",
       "    .dataframe thead th {\n",
       "        text-align: right;\n",
       "    }\n",
       "</style>\n",
       "<table border=\"1\" class=\"dataframe\">\n",
       "  <thead>\n",
       "    <tr style=\"text-align: right;\">\n",
       "      <th></th>\n",
       "      <th>abv</th>\n",
       "    </tr>\n",
       "    <tr>\n",
       "      <th>style</th>\n",
       "      <th></th>\n",
       "    </tr>\n",
       "  </thead>\n",
       "  <tbody>\n",
       "    <tr>\n",
       "      <th>English Barleywine</th>\n",
       "      <td>0.11</td>\n",
       "    </tr>\n",
       "  </tbody>\n",
       "</table>\n",
       "</div>"
      ],
      "text/plain": [
       "                     abv\n",
       "style                   \n",
       "English Barleywine  0.11"
      ]
     },
     "execution_count": 139,
     "metadata": {},
     "output_type": "execute_result"
    }
   ],
   "source": [
    "# Obtener el estilo con el máximo promedio de alcohol (abv)\n",
    "max = alcohol_max[alcohol_max['abv'] == alcohol_max['abv'].max()]\n",
    "\n",
    "max"
   ]
  },
  {
   "cell_type": "code",
   "execution_count": null,
   "metadata": {},
   "outputs": [],
   "source": []
  },
  {
   "attachments": {},
   "cell_type": "markdown",
   "metadata": {},
   "source": [
    "## Ejercicio 16\n",
    "Carga el datasets de cervecerias `datasets_breweries.csv`"
   ]
  },
  {
   "cell_type": "code",
   "execution_count": 140,
   "metadata": {},
   "outputs": [],
   "source": [
    "url = (r\"data/datasets_breweries.csv\")\n",
    "\n",
    "breweries = pd.read_csv(url, sep=\",\")"
   ]
  },
  {
   "cell_type": "code",
   "execution_count": 40,
   "metadata": {},
   "outputs": [
    {
     "data": {
      "application/vnd.microsoft.datawrangler.viewer.v0+json": {
       "columns": [
        {
         "name": "index",
         "rawType": "int64",
         "type": "integer"
        },
        {
         "name": "Unnamed: 0",
         "rawType": "int64",
         "type": "integer"
        },
        {
         "name": "name",
         "rawType": "object",
         "type": "string"
        },
        {
         "name": "city",
         "rawType": "object",
         "type": "string"
        },
        {
         "name": "state",
         "rawType": "object",
         "type": "string"
        }
       ],
       "conversionMethod": "pd.DataFrame",
       "ref": "02e6542b-5abd-410d-ad1c-68c4255598da",
       "rows": [
        [
         "0",
         "0",
         "NorthGate Brewing ",
         "Minneapolis",
         " MN"
        ],
        [
         "1",
         "1",
         "Against the Grain Brewery",
         "Louisville",
         " KY"
        ],
        [
         "2",
         "2",
         "Jack's Abby Craft Lagers",
         "Framingham",
         " MA"
        ],
        [
         "3",
         "3",
         "Mike Hess Brewing Company",
         "San Diego",
         " CA"
        ],
        [
         "4",
         "4",
         "Fort Point Beer Company",
         "San Francisco",
         " CA"
        ],
        [
         "5",
         "5",
         "COAST Brewing Company",
         "Charleston",
         " SC"
        ],
        [
         "6",
         "6",
         "Great Divide Brewing Company",
         "Denver",
         " CO"
        ],
        [
         "7",
         "7",
         "Tapistry Brewing",
         "Bridgman",
         " MI"
        ],
        [
         "8",
         "8",
         "Big Lake Brewing",
         "Holland",
         " MI"
        ],
        [
         "9",
         "9",
         "The Mitten Brewing Company",
         "Grand Rapids",
         " MI"
        ],
        [
         "10",
         "10",
         "Brewery Vivant",
         "Grand Rapids",
         " MI"
        ],
        [
         "11",
         "11",
         "Petoskey Brewing",
         "Petoskey",
         " MI"
        ],
        [
         "12",
         "12",
         "Blackrocks Brewery",
         "Marquette",
         " MI"
        ],
        [
         "13",
         "13",
         "Perrin Brewing Company",
         "Comstock Park",
         " MI"
        ],
        [
         "14",
         "14",
         "Witch's Hat Brewing Company",
         "South Lyon",
         " MI"
        ],
        [
         "15",
         "15",
         "Founders Brewing Company",
         "Grand Rapids",
         " MI"
        ],
        [
         "16",
         "16",
         "Flat 12 Bierwerks",
         "Indianapolis",
         " IN"
        ],
        [
         "17",
         "17",
         "Tin Man Brewing Company",
         "Evansville",
         " IN"
        ],
        [
         "18",
         "18",
         "Black Acre Brewing Co.",
         "Indianapolis",
         " IN"
        ],
        [
         "19",
         "19",
         "Brew Link Brewing",
         "Plainfield",
         " IN"
        ],
        [
         "20",
         "20",
         "Bare Hands Brewery",
         "Granger",
         " IN"
        ],
        [
         "21",
         "21",
         "Three Pints Brewing",
         "Martinsville",
         " IN"
        ],
        [
         "22",
         "22",
         "Four Fathers Brewing ",
         "Valparaiso",
         " IN"
        ],
        [
         "23",
         "23",
         "Indiana City Brewing",
         "Indianapolis",
         " IN"
        ],
        [
         "24",
         "24",
         "Burn 'Em Brewing",
         "Michigan City",
         " IN"
        ],
        [
         "25",
         "25",
         "Sun King Brewing Company",
         "Indianapolis",
         " IN"
        ],
        [
         "26",
         "26",
         "Evil Czech Brewery",
         "Mishawaka",
         " IN"
        ],
        [
         "27",
         "27",
         "450 North Brewing Company",
         "Columbus",
         " IN"
        ],
        [
         "28",
         "28",
         "Taxman Brewing Company",
         "Bargersville",
         " IN"
        ],
        [
         "29",
         "29",
         "Cedar Creek Brewery",
         "Seven Points",
         " TX"
        ],
        [
         "30",
         "30",
         "SanTan Brewing Company",
         "Chandler",
         " AZ"
        ],
        [
         "31",
         "31",
         "Boulevard Brewing Company",
         "Kansas City",
         " MO"
        ],
        [
         "32",
         "32",
         "James Page Brewing Company",
         "Stevens Point",
         " WI"
        ],
        [
         "33",
         "33",
         "The Dudes' Brewing Company",
         "Torrance",
         " CA"
        ],
        [
         "34",
         "34",
         "Ballast Point Brewing Company",
         "San Diego",
         " CA"
        ],
        [
         "35",
         "35",
         "Anchor Brewing Company",
         "San Francisco",
         " CA"
        ],
        [
         "36",
         "36",
         "Figueroa Mountain Brewing Company",
         "Buellton",
         " CA"
        ],
        [
         "37",
         "37",
         "Avery Brewing Company",
         "Boulder",
         " CO"
        ],
        [
         "38",
         "38",
         "Twisted X Brewing Company",
         "Dripping Springs",
         " TX"
        ],
        [
         "39",
         "39",
         "Gonzo's BiggDogg Brewing",
         "Kalamazoo",
         " MI"
        ],
        [
         "40",
         "40",
         "Big Muddy Brewing",
         "Murphysboro",
         " IL"
        ],
        [
         "41",
         "41",
         "Lost Nation Brewing",
         "East Fairfield",
         " VT"
        ],
        [
         "42",
         "42",
         "Rising Tide Brewing Company",
         "Portland",
         " ME"
        ],
        [
         "43",
         "43",
         "Rivertowne Brewing Company",
         "Export",
         " PA"
        ],
        [
         "44",
         "44",
         "Revolution Brewing Company",
         "Chicago",
         " IL"
        ],
        [
         "45",
         "45",
         "Tallgrass Brewing Company",
         "Manhattan",
         " KS"
        ],
        [
         "46",
         "46",
         "Sixpoint Craft Ales",
         "Brooklyn",
         " NY"
        ],
        [
         "47",
         "47",
         "White Birch Brewing",
         "Hooksett",
         " NH"
        ],
        [
         "48",
         "48",
         "Firestone Walker Brewing Company",
         "Paso Robles",
         " CA"
        ],
        [
         "49",
         "49",
         "SweetWater Brewing Company",
         "Atlanta",
         " GA"
        ]
       ],
       "shape": {
        "columns": 4,
        "rows": 558
       }
      },
      "text/html": [
       "<div>\n",
       "<style scoped>\n",
       "    .dataframe tbody tr th:only-of-type {\n",
       "        vertical-align: middle;\n",
       "    }\n",
       "\n",
       "    .dataframe tbody tr th {\n",
       "        vertical-align: top;\n",
       "    }\n",
       "\n",
       "    .dataframe thead th {\n",
       "        text-align: right;\n",
       "    }\n",
       "</style>\n",
       "<table border=\"1\" class=\"dataframe\">\n",
       "  <thead>\n",
       "    <tr style=\"text-align: right;\">\n",
       "      <th></th>\n",
       "      <th>Unnamed: 0</th>\n",
       "      <th>name</th>\n",
       "      <th>city</th>\n",
       "      <th>state</th>\n",
       "    </tr>\n",
       "  </thead>\n",
       "  <tbody>\n",
       "    <tr>\n",
       "      <th>0</th>\n",
       "      <td>0</td>\n",
       "      <td>NorthGate Brewing</td>\n",
       "      <td>Minneapolis</td>\n",
       "      <td>MN</td>\n",
       "    </tr>\n",
       "    <tr>\n",
       "      <th>1</th>\n",
       "      <td>1</td>\n",
       "      <td>Against the Grain Brewery</td>\n",
       "      <td>Louisville</td>\n",
       "      <td>KY</td>\n",
       "    </tr>\n",
       "    <tr>\n",
       "      <th>2</th>\n",
       "      <td>2</td>\n",
       "      <td>Jack's Abby Craft Lagers</td>\n",
       "      <td>Framingham</td>\n",
       "      <td>MA</td>\n",
       "    </tr>\n",
       "    <tr>\n",
       "      <th>3</th>\n",
       "      <td>3</td>\n",
       "      <td>Mike Hess Brewing Company</td>\n",
       "      <td>San Diego</td>\n",
       "      <td>CA</td>\n",
       "    </tr>\n",
       "    <tr>\n",
       "      <th>4</th>\n",
       "      <td>4</td>\n",
       "      <td>Fort Point Beer Company</td>\n",
       "      <td>San Francisco</td>\n",
       "      <td>CA</td>\n",
       "    </tr>\n",
       "    <tr>\n",
       "      <th>...</th>\n",
       "      <td>...</td>\n",
       "      <td>...</td>\n",
       "      <td>...</td>\n",
       "      <td>...</td>\n",
       "    </tr>\n",
       "    <tr>\n",
       "      <th>553</th>\n",
       "      <td>553</td>\n",
       "      <td>Covington Brewhouse</td>\n",
       "      <td>Covington</td>\n",
       "      <td>LA</td>\n",
       "    </tr>\n",
       "    <tr>\n",
       "      <th>554</th>\n",
       "      <td>554</td>\n",
       "      <td>Dave's Brewfarm</td>\n",
       "      <td>Wilson</td>\n",
       "      <td>WI</td>\n",
       "    </tr>\n",
       "    <tr>\n",
       "      <th>555</th>\n",
       "      <td>555</td>\n",
       "      <td>Ukiah Brewing Company</td>\n",
       "      <td>Ukiah</td>\n",
       "      <td>CA</td>\n",
       "    </tr>\n",
       "    <tr>\n",
       "      <th>556</th>\n",
       "      <td>556</td>\n",
       "      <td>Butternuts Beer and Ale</td>\n",
       "      <td>Garrattsville</td>\n",
       "      <td>NY</td>\n",
       "    </tr>\n",
       "    <tr>\n",
       "      <th>557</th>\n",
       "      <td>557</td>\n",
       "      <td>Sleeping Lady Brewing Company</td>\n",
       "      <td>Anchorage</td>\n",
       "      <td>AK</td>\n",
       "    </tr>\n",
       "  </tbody>\n",
       "</table>\n",
       "<p>558 rows × 4 columns</p>\n",
       "</div>"
      ],
      "text/plain": [
       "     Unnamed: 0                           name           city state\n",
       "0             0             NorthGate Brewing     Minneapolis    MN\n",
       "1             1      Against the Grain Brewery     Louisville    KY\n",
       "2             2       Jack's Abby Craft Lagers     Framingham    MA\n",
       "3             3      Mike Hess Brewing Company      San Diego    CA\n",
       "4             4        Fort Point Beer Company  San Francisco    CA\n",
       "..          ...                            ...            ...   ...\n",
       "553         553            Covington Brewhouse      Covington    LA\n",
       "554         554                Dave's Brewfarm         Wilson    WI\n",
       "555         555          Ukiah Brewing Company          Ukiah    CA\n",
       "556         556        Butternuts Beer and Ale  Garrattsville    NY\n",
       "557         557  Sleeping Lady Brewing Company      Anchorage    AK\n",
       "\n",
       "[558 rows x 4 columns]"
      ]
     },
     "execution_count": 40,
     "metadata": {},
     "output_type": "execute_result"
    }
   ],
   "source": [
    "breweries"
   ]
  },
  {
   "attachments": {},
   "cell_type": "markdown",
   "metadata": {},
   "source": [
    "## Ejercicio 17\n",
    "1. Renombra la columna `Unnamed: 0` como `brewery_id`\n",
    "2. Renombra también la columna `name` por `brewery_name`. ¿Puedes hacer ambos apartados en una sola sentencia?"
   ]
  },
  {
   "cell_type": "code",
   "execution_count": 141,
   "metadata": {},
   "outputs": [],
   "source": [
    "breweries.rename(columns={\"Unnamed: 0\": \"brewery_id\",\"name\":\"brewery_name\"},inplace=True)"
   ]
  },
  {
   "cell_type": "code",
   "execution_count": 42,
   "metadata": {},
   "outputs": [
    {
     "data": {
      "application/vnd.microsoft.datawrangler.viewer.v0+json": {
       "columns": [
        {
         "name": "index",
         "rawType": "int64",
         "type": "integer"
        },
        {
         "name": "brewery_id",
         "rawType": "int64",
         "type": "integer"
        },
        {
         "name": "brewery_name",
         "rawType": "object",
         "type": "string"
        },
        {
         "name": "city",
         "rawType": "object",
         "type": "string"
        },
        {
         "name": "state",
         "rawType": "object",
         "type": "string"
        }
       ],
       "conversionMethod": "pd.DataFrame",
       "ref": "9b4f730e-74db-4812-882b-a61b5de456ee",
       "rows": [
        [
         "0",
         "0",
         "NorthGate Brewing ",
         "Minneapolis",
         " MN"
        ],
        [
         "1",
         "1",
         "Against the Grain Brewery",
         "Louisville",
         " KY"
        ],
        [
         "2",
         "2",
         "Jack's Abby Craft Lagers",
         "Framingham",
         " MA"
        ],
        [
         "3",
         "3",
         "Mike Hess Brewing Company",
         "San Diego",
         " CA"
        ],
        [
         "4",
         "4",
         "Fort Point Beer Company",
         "San Francisco",
         " CA"
        ],
        [
         "5",
         "5",
         "COAST Brewing Company",
         "Charleston",
         " SC"
        ],
        [
         "6",
         "6",
         "Great Divide Brewing Company",
         "Denver",
         " CO"
        ],
        [
         "7",
         "7",
         "Tapistry Brewing",
         "Bridgman",
         " MI"
        ],
        [
         "8",
         "8",
         "Big Lake Brewing",
         "Holland",
         " MI"
        ],
        [
         "9",
         "9",
         "The Mitten Brewing Company",
         "Grand Rapids",
         " MI"
        ],
        [
         "10",
         "10",
         "Brewery Vivant",
         "Grand Rapids",
         " MI"
        ],
        [
         "11",
         "11",
         "Petoskey Brewing",
         "Petoskey",
         " MI"
        ],
        [
         "12",
         "12",
         "Blackrocks Brewery",
         "Marquette",
         " MI"
        ],
        [
         "13",
         "13",
         "Perrin Brewing Company",
         "Comstock Park",
         " MI"
        ],
        [
         "14",
         "14",
         "Witch's Hat Brewing Company",
         "South Lyon",
         " MI"
        ],
        [
         "15",
         "15",
         "Founders Brewing Company",
         "Grand Rapids",
         " MI"
        ],
        [
         "16",
         "16",
         "Flat 12 Bierwerks",
         "Indianapolis",
         " IN"
        ],
        [
         "17",
         "17",
         "Tin Man Brewing Company",
         "Evansville",
         " IN"
        ],
        [
         "18",
         "18",
         "Black Acre Brewing Co.",
         "Indianapolis",
         " IN"
        ],
        [
         "19",
         "19",
         "Brew Link Brewing",
         "Plainfield",
         " IN"
        ],
        [
         "20",
         "20",
         "Bare Hands Brewery",
         "Granger",
         " IN"
        ],
        [
         "21",
         "21",
         "Three Pints Brewing",
         "Martinsville",
         " IN"
        ],
        [
         "22",
         "22",
         "Four Fathers Brewing ",
         "Valparaiso",
         " IN"
        ],
        [
         "23",
         "23",
         "Indiana City Brewing",
         "Indianapolis",
         " IN"
        ],
        [
         "24",
         "24",
         "Burn 'Em Brewing",
         "Michigan City",
         " IN"
        ],
        [
         "25",
         "25",
         "Sun King Brewing Company",
         "Indianapolis",
         " IN"
        ],
        [
         "26",
         "26",
         "Evil Czech Brewery",
         "Mishawaka",
         " IN"
        ],
        [
         "27",
         "27",
         "450 North Brewing Company",
         "Columbus",
         " IN"
        ],
        [
         "28",
         "28",
         "Taxman Brewing Company",
         "Bargersville",
         " IN"
        ],
        [
         "29",
         "29",
         "Cedar Creek Brewery",
         "Seven Points",
         " TX"
        ],
        [
         "30",
         "30",
         "SanTan Brewing Company",
         "Chandler",
         " AZ"
        ],
        [
         "31",
         "31",
         "Boulevard Brewing Company",
         "Kansas City",
         " MO"
        ],
        [
         "32",
         "32",
         "James Page Brewing Company",
         "Stevens Point",
         " WI"
        ],
        [
         "33",
         "33",
         "The Dudes' Brewing Company",
         "Torrance",
         " CA"
        ],
        [
         "34",
         "34",
         "Ballast Point Brewing Company",
         "San Diego",
         " CA"
        ],
        [
         "35",
         "35",
         "Anchor Brewing Company",
         "San Francisco",
         " CA"
        ],
        [
         "36",
         "36",
         "Figueroa Mountain Brewing Company",
         "Buellton",
         " CA"
        ],
        [
         "37",
         "37",
         "Avery Brewing Company",
         "Boulder",
         " CO"
        ],
        [
         "38",
         "38",
         "Twisted X Brewing Company",
         "Dripping Springs",
         " TX"
        ],
        [
         "39",
         "39",
         "Gonzo's BiggDogg Brewing",
         "Kalamazoo",
         " MI"
        ],
        [
         "40",
         "40",
         "Big Muddy Brewing",
         "Murphysboro",
         " IL"
        ],
        [
         "41",
         "41",
         "Lost Nation Brewing",
         "East Fairfield",
         " VT"
        ],
        [
         "42",
         "42",
         "Rising Tide Brewing Company",
         "Portland",
         " ME"
        ],
        [
         "43",
         "43",
         "Rivertowne Brewing Company",
         "Export",
         " PA"
        ],
        [
         "44",
         "44",
         "Revolution Brewing Company",
         "Chicago",
         " IL"
        ],
        [
         "45",
         "45",
         "Tallgrass Brewing Company",
         "Manhattan",
         " KS"
        ],
        [
         "46",
         "46",
         "Sixpoint Craft Ales",
         "Brooklyn",
         " NY"
        ],
        [
         "47",
         "47",
         "White Birch Brewing",
         "Hooksett",
         " NH"
        ],
        [
         "48",
         "48",
         "Firestone Walker Brewing Company",
         "Paso Robles",
         " CA"
        ],
        [
         "49",
         "49",
         "SweetWater Brewing Company",
         "Atlanta",
         " GA"
        ]
       ],
       "shape": {
        "columns": 4,
        "rows": 558
       }
      },
      "text/html": [
       "<div>\n",
       "<style scoped>\n",
       "    .dataframe tbody tr th:only-of-type {\n",
       "        vertical-align: middle;\n",
       "    }\n",
       "\n",
       "    .dataframe tbody tr th {\n",
       "        vertical-align: top;\n",
       "    }\n",
       "\n",
       "    .dataframe thead th {\n",
       "        text-align: right;\n",
       "    }\n",
       "</style>\n",
       "<table border=\"1\" class=\"dataframe\">\n",
       "  <thead>\n",
       "    <tr style=\"text-align: right;\">\n",
       "      <th></th>\n",
       "      <th>brewery_id</th>\n",
       "      <th>brewery_name</th>\n",
       "      <th>city</th>\n",
       "      <th>state</th>\n",
       "    </tr>\n",
       "  </thead>\n",
       "  <tbody>\n",
       "    <tr>\n",
       "      <th>0</th>\n",
       "      <td>0</td>\n",
       "      <td>NorthGate Brewing</td>\n",
       "      <td>Minneapolis</td>\n",
       "      <td>MN</td>\n",
       "    </tr>\n",
       "    <tr>\n",
       "      <th>1</th>\n",
       "      <td>1</td>\n",
       "      <td>Against the Grain Brewery</td>\n",
       "      <td>Louisville</td>\n",
       "      <td>KY</td>\n",
       "    </tr>\n",
       "    <tr>\n",
       "      <th>2</th>\n",
       "      <td>2</td>\n",
       "      <td>Jack's Abby Craft Lagers</td>\n",
       "      <td>Framingham</td>\n",
       "      <td>MA</td>\n",
       "    </tr>\n",
       "    <tr>\n",
       "      <th>3</th>\n",
       "      <td>3</td>\n",
       "      <td>Mike Hess Brewing Company</td>\n",
       "      <td>San Diego</td>\n",
       "      <td>CA</td>\n",
       "    </tr>\n",
       "    <tr>\n",
       "      <th>4</th>\n",
       "      <td>4</td>\n",
       "      <td>Fort Point Beer Company</td>\n",
       "      <td>San Francisco</td>\n",
       "      <td>CA</td>\n",
       "    </tr>\n",
       "    <tr>\n",
       "      <th>...</th>\n",
       "      <td>...</td>\n",
       "      <td>...</td>\n",
       "      <td>...</td>\n",
       "      <td>...</td>\n",
       "    </tr>\n",
       "    <tr>\n",
       "      <th>553</th>\n",
       "      <td>553</td>\n",
       "      <td>Covington Brewhouse</td>\n",
       "      <td>Covington</td>\n",
       "      <td>LA</td>\n",
       "    </tr>\n",
       "    <tr>\n",
       "      <th>554</th>\n",
       "      <td>554</td>\n",
       "      <td>Dave's Brewfarm</td>\n",
       "      <td>Wilson</td>\n",
       "      <td>WI</td>\n",
       "    </tr>\n",
       "    <tr>\n",
       "      <th>555</th>\n",
       "      <td>555</td>\n",
       "      <td>Ukiah Brewing Company</td>\n",
       "      <td>Ukiah</td>\n",
       "      <td>CA</td>\n",
       "    </tr>\n",
       "    <tr>\n",
       "      <th>556</th>\n",
       "      <td>556</td>\n",
       "      <td>Butternuts Beer and Ale</td>\n",
       "      <td>Garrattsville</td>\n",
       "      <td>NY</td>\n",
       "    </tr>\n",
       "    <tr>\n",
       "      <th>557</th>\n",
       "      <td>557</td>\n",
       "      <td>Sleeping Lady Brewing Company</td>\n",
       "      <td>Anchorage</td>\n",
       "      <td>AK</td>\n",
       "    </tr>\n",
       "  </tbody>\n",
       "</table>\n",
       "<p>558 rows × 4 columns</p>\n",
       "</div>"
      ],
      "text/plain": [
       "     brewery_id                   brewery_name           city state\n",
       "0             0             NorthGate Brewing     Minneapolis    MN\n",
       "1             1      Against the Grain Brewery     Louisville    KY\n",
       "2             2       Jack's Abby Craft Lagers     Framingham    MA\n",
       "3             3      Mike Hess Brewing Company      San Diego    CA\n",
       "4             4        Fort Point Beer Company  San Francisco    CA\n",
       "..          ...                            ...            ...   ...\n",
       "553         553            Covington Brewhouse      Covington    LA\n",
       "554         554                Dave's Brewfarm         Wilson    WI\n",
       "555         555          Ukiah Brewing Company          Ukiah    CA\n",
       "556         556        Butternuts Beer and Ale  Garrattsville    NY\n",
       "557         557  Sleeping Lady Brewing Company      Anchorage    AK\n",
       "\n",
       "[558 rows x 4 columns]"
      ]
     },
     "execution_count": 42,
     "metadata": {},
     "output_type": "execute_result"
    }
   ],
   "source": [
    "breweries"
   ]
  },
  {
   "attachments": {},
   "cell_type": "markdown",
   "metadata": {},
   "source": [
    "## Ejercicio 18\n",
    "Junta los dos datasets que tienes"
   ]
  },
  {
   "cell_type": "code",
   "execution_count": 144,
   "metadata": {},
   "outputs": [
    {
     "data": {
      "application/vnd.microsoft.datawrangler.viewer.v0+json": {
       "columns": [
        {
         "name": "index",
         "rawType": "int64",
         "type": "integer"
        },
        {
         "name": "abv",
         "rawType": "float64",
         "type": "float"
        },
        {
         "name": "ibu",
         "rawType": "float64",
         "type": "float"
        },
        {
         "name": "id",
         "rawType": "int64",
         "type": "integer"
        },
        {
         "name": "name",
         "rawType": "object",
         "type": "string"
        },
        {
         "name": "style",
         "rawType": "object",
         "type": "unknown"
        },
        {
         "name": "brewery_id",
         "rawType": "int64",
         "type": "integer"
        },
        {
         "name": "ounces",
         "rawType": "float64",
         "type": "float"
        },
        {
         "name": "brewery_name",
         "rawType": "object",
         "type": "string"
        },
        {
         "name": "city",
         "rawType": "object",
         "type": "string"
        },
        {
         "name": "state",
         "rawType": "object",
         "type": "string"
        }
       ],
       "conversionMethod": "pd.DataFrame",
       "ref": "a666c38f-bbcf-4669-9f2c-567e837018e2",
       "rows": [
        [
         "0",
         "0.05",
         null,
         "1436",
         "Pub Beer",
         "American Pale Lager",
         "408",
         "12.0",
         "10 Barrel Brewing Company",
         "Bend",
         " OR"
        ],
        [
         "1",
         "0.066",
         null,
         "2265",
         "Devil's Cup",
         "American Pale Ale (APA)",
         "177",
         "12.0",
         "18th Street Brewery",
         "Gary",
         " IN"
        ],
        [
         "2",
         "0.071",
         null,
         "2264",
         "Rise of the Phoenix",
         "American IPA",
         "177",
         "12.0",
         "18th Street Brewery",
         "Gary",
         " IN"
        ],
        [
         "3",
         "0.09",
         null,
         "2263",
         "Sinister",
         "American Double / Imperial IPA",
         "177",
         "12.0",
         "18th Street Brewery",
         "Gary",
         " IN"
        ],
        [
         "4",
         "0.075",
         null,
         "2262",
         "Sex and Candy",
         "American IPA",
         "177",
         "12.0",
         "18th Street Brewery",
         "Gary",
         " IN"
        ],
        [
         "5",
         "0.077",
         null,
         "2261",
         "Black Exodus",
         "Oatmeal Stout",
         "177",
         "12.0",
         "18th Street Brewery",
         "Gary",
         " IN"
        ],
        [
         "6",
         "0.045",
         null,
         "2260",
         "Lake Street Express",
         "American Pale Ale (APA)",
         "177",
         "12.0",
         "18th Street Brewery",
         "Gary",
         " IN"
        ],
        [
         "7",
         "0.065",
         null,
         "2259",
         "Foreman",
         "American Porter",
         "177",
         "12.0",
         "18th Street Brewery",
         "Gary",
         " IN"
        ],
        [
         "8",
         "0.055",
         null,
         "2258",
         "Jade",
         "American Pale Ale (APA)",
         "177",
         "12.0",
         "18th Street Brewery",
         "Gary",
         " IN"
        ],
        [
         "9",
         "0.086",
         null,
         "2131",
         "Cone Crusher",
         "American Double / Imperial IPA",
         "177",
         "12.0",
         "18th Street Brewery",
         "Gary",
         " IN"
        ],
        [
         "10",
         "0.072",
         null,
         "2099",
         "Sophomoric Saison",
         "Saison / Farmhouse Ale",
         "177",
         "12.0",
         "18th Street Brewery",
         "Gary",
         " IN"
        ],
        [
         "11",
         "0.073",
         null,
         "2098",
         "Regional Ring Of Fire",
         "Saison / Farmhouse Ale",
         "177",
         "12.0",
         "18th Street Brewery",
         "Gary",
         " IN"
        ],
        [
         "12",
         "0.069",
         null,
         "2097",
         "Garce Selé",
         "Saison / Farmhouse Ale",
         "177",
         "12.0",
         "18th Street Brewery",
         "Gary",
         " IN"
        ],
        [
         "13",
         "0.085",
         null,
         "1980",
         "Troll Destroyer",
         "Belgian IPA",
         "177",
         "12.0",
         "18th Street Brewery",
         "Gary",
         " IN"
        ],
        [
         "14",
         "0.061",
         "60.0",
         "1979",
         "Bitter Bitch",
         "American Pale Ale (APA)",
         "177",
         "12.0",
         "18th Street Brewery",
         "Gary",
         " IN"
        ],
        [
         "15",
         "0.06",
         null,
         "2318",
         "Ginja Ninja",
         "Cider",
         "154",
         "12.0",
         "2 Towns Ciderhouse",
         "Corvallis",
         " OR"
        ],
        [
         "16",
         "0.06",
         null,
         "2170",
         "Cherried Away",
         "Cider",
         "154",
         "12.0",
         "2 Towns Ciderhouse",
         "Corvallis",
         " OR"
        ],
        [
         "17",
         "0.06",
         null,
         "2169",
         "Rhubarbarian",
         "Cider",
         "154",
         "12.0",
         "2 Towns Ciderhouse",
         "Corvallis",
         " OR"
        ],
        [
         "18",
         "0.06",
         null,
         "1502",
         "BrightCider",
         "Cider",
         "154",
         "12.0",
         "2 Towns Ciderhouse",
         "Corvallis",
         " OR"
        ],
        [
         "19",
         "0.0819999999999999",
         null,
         "1593",
         "He Said Baltic-Style Porter",
         "Baltic Porter",
         "368",
         "12.0",
         "21st Amendment Brewery",
         "San Francisco",
         " CA"
        ],
        [
         "20",
         "0.0819999999999999",
         null,
         "1592",
         "He Said Belgian-Style Tripel",
         "Tripel",
         "368",
         "12.0",
         "21st Amendment Brewery",
         "San Francisco",
         " CA"
        ],
        [
         "21",
         "0.099",
         "92.0",
         "1036",
         "Lower De Boom",
         "American Barleywine",
         "368",
         "8.4",
         "21st Amendment Brewery",
         "San Francisco",
         " CA"
        ],
        [
         "22",
         "0.079",
         "45.0",
         "1024",
         "Fireside Chat",
         "Winter Warmer",
         "368",
         "12.0",
         "21st Amendment Brewery",
         "San Francisco",
         " CA"
        ],
        [
         "23",
         "0.079",
         null,
         "976",
         "Marooned On Hog Island",
         "American Stout",
         "368",
         "12.0",
         "21st Amendment Brewery",
         "San Francisco",
         " CA"
        ],
        [
         "24",
         "0.044",
         "42.0",
         "876",
         "Bitter American",
         "American Pale Ale (APA)",
         "368",
         "12.0",
         "21st Amendment Brewery",
         "San Francisco",
         " CA"
        ],
        [
         "25",
         "0.049",
         "17.0",
         "802",
         "Hell or High Watermelon Wheat (2009)",
         "Fruit / Vegetable Beer",
         "368",
         "12.0",
         "21st Amendment Brewery",
         "San Francisco",
         " CA"
        ],
        [
         "26",
         "0.049",
         "17.0",
         "801",
         "Hell or High Watermelon Wheat (2009)",
         "Fruit / Vegetable Beer",
         "368",
         "12.0",
         "21st Amendment Brewery",
         "San Francisco",
         " CA"
        ],
        [
         "27",
         "0.049",
         "17.0",
         "800",
         "21st Amendment Watermelon Wheat Beer (2006)",
         "Fruit / Vegetable Beer",
         "368",
         "12.0",
         "21st Amendment Brewery",
         "San Francisco",
         " CA"
        ],
        [
         "28",
         "0.07",
         "70.0",
         "799",
         "21st Amendment IPA (2006)",
         "American IPA",
         "368",
         "12.0",
         "21st Amendment Brewery",
         "San Francisco",
         " CA"
        ],
        [
         "29",
         "0.07",
         "70.0",
         "797",
         "Brew Free! or Die IPA (2008)",
         "American IPA",
         "368",
         "12.0",
         "21st Amendment Brewery",
         "San Francisco",
         " CA"
        ],
        [
         "30",
         "0.07",
         "70.0",
         "796",
         "Brew Free! or Die IPA (2009)",
         "American IPA",
         "368",
         "12.0",
         "21st Amendment Brewery",
         "San Francisco",
         " CA"
        ],
        [
         "31",
         "0.085",
         "52.0",
         "531",
         "Special Edition: Allies Win The War!",
         "English Strong Ale",
         "368",
         "12.0",
         "21st Amendment Brewery",
         "San Francisco",
         " CA"
        ],
        [
         "32",
         "0.0969999999999999",
         "94.0",
         "432",
         "Hop Crisis",
         "American Double / Imperial IPA",
         "368",
         "12.0",
         "21st Amendment Brewery",
         "San Francisco",
         " CA"
        ],
        [
         "33",
         "0.044",
         "42.0",
         "353",
         "Bitter American (2011)",
         "American Pale Ale (APA)",
         "368",
         "12.0",
         "21st Amendment Brewery",
         "San Francisco",
         " CA"
        ],
        [
         "34",
         "0.079",
         "45.0",
         "321",
         "Fireside Chat (2010)",
         "Winter Warmer",
         "368",
         "12.0",
         "21st Amendment Brewery",
         "San Francisco",
         " CA"
        ],
        [
         "35",
         "0.068",
         "65.0",
         "173",
         "Back in Black",
         "American Black Ale",
         "368",
         "12.0",
         "21st Amendment Brewery",
         "San Francisco",
         " CA"
        ],
        [
         "36",
         "0.083",
         "35.0",
         "11",
         "Monk's Blood",
         "Belgian Dark Ale",
         "368",
         "12.0",
         "21st Amendment Brewery",
         "San Francisco",
         " CA"
        ],
        [
         "37",
         "0.07",
         "65.0",
         "10",
         "Brew Free! or Die IPA",
         "American IPA",
         "368",
         "12.0",
         "21st Amendment Brewery",
         "San Francisco",
         " CA"
        ],
        [
         "38",
         "0.049",
         "17.0",
         "9",
         "Hell or High Watermelon Wheat",
         "Fruit / Vegetable Beer",
         "368",
         "12.0",
         "21st Amendment Brewery",
         "San Francisco",
         " CA"
        ],
        [
         "39",
         "0.07",
         "82.0",
         "2519",
         "Bimini Twist",
         "American IPA",
         "67",
         "12.0",
         "3 Daughters Brewing",
         "St Petersburg",
         " FL"
        ],
        [
         "40",
         "0.05",
         null,
         "2518",
         "Beach Blonde",
         "American Blonde Ale",
         "67",
         "12.0",
         "3 Daughters Brewing",
         "St Petersburg",
         " FL"
        ],
        [
         "41",
         "0.059",
         null,
         "2517",
         "Rod Bender Red",
         "American Amber / Red Ale",
         "67",
         "12.0",
         "3 Daughters Brewing",
         "St Petersburg",
         " FL"
        ],
        [
         "42",
         "0.035",
         "11.0",
         "2545",
         "Passion Fruit Prussia",
         "Berliner Weissbier",
         "60",
         "12.0",
         "4 Hands Brewing Company",
         "Saint Louis",
         " MO"
        ],
        [
         "43",
         "0.045",
         "18.0",
         "2544",
         "Send Help",
         "American Blonde Ale",
         "60",
         "12.0",
         "4 Hands Brewing Company",
         "Saint Louis",
         " MO"
        ],
        [
         "44",
         "0.055",
         null,
         "2324",
         "Cast Iron Oatmeal Brown",
         "American Brown Ale",
         "60",
         "12.0",
         "4 Hands Brewing Company",
         "Saint Louis",
         " MO"
        ],
        [
         "45",
         "0.06",
         null,
         "2288",
         "Reprise Centennial Red",
         "American Amber / Red Ale",
         "60",
         "12.0",
         "4 Hands Brewing Company",
         "Saint Louis",
         " MO"
        ],
        [
         "46",
         "0.055",
         null,
         "2287",
         "Alter Ego",
         "American Black Ale",
         "60",
         "12.0",
         "4 Hands Brewing Company",
         "Saint Louis",
         " MO"
        ],
        [
         "47",
         "0.065",
         null,
         "2286",
         "Divided Sky",
         "American IPA",
         "60",
         "12.0",
         "4 Hands Brewing Company",
         "Saint Louis",
         " MO"
        ],
        [
         "48",
         "0.065",
         null,
         "2285",
         "Resurrected",
         "American IPA",
         "60",
         "12.0",
         "4 Hands Brewing Company",
         "Saint Louis",
         " MO"
        ],
        [
         "49",
         "0.05",
         "28.0",
         "1870",
         "Contact High",
         "American Pale Wheat Ale",
         "60",
         "12.0",
         "4 Hands Brewing Company",
         "Saint Louis",
         " MO"
        ]
       ],
       "shape": {
        "columns": 10,
        "rows": 2410
       }
      },
      "text/html": [
       "<div>\n",
       "<style scoped>\n",
       "    .dataframe tbody tr th:only-of-type {\n",
       "        vertical-align: middle;\n",
       "    }\n",
       "\n",
       "    .dataframe tbody tr th {\n",
       "        vertical-align: top;\n",
       "    }\n",
       "\n",
       "    .dataframe thead th {\n",
       "        text-align: right;\n",
       "    }\n",
       "</style>\n",
       "<table border=\"1\" class=\"dataframe\">\n",
       "  <thead>\n",
       "    <tr style=\"text-align: right;\">\n",
       "      <th></th>\n",
       "      <th>abv</th>\n",
       "      <th>ibu</th>\n",
       "      <th>id</th>\n",
       "      <th>name</th>\n",
       "      <th>style</th>\n",
       "      <th>brewery_id</th>\n",
       "      <th>ounces</th>\n",
       "      <th>brewery_name</th>\n",
       "      <th>city</th>\n",
       "      <th>state</th>\n",
       "    </tr>\n",
       "  </thead>\n",
       "  <tbody>\n",
       "    <tr>\n",
       "      <th>0</th>\n",
       "      <td>0.050</td>\n",
       "      <td>NaN</td>\n",
       "      <td>1436</td>\n",
       "      <td>Pub Beer</td>\n",
       "      <td>American Pale Lager</td>\n",
       "      <td>408</td>\n",
       "      <td>12.0</td>\n",
       "      <td>10 Barrel Brewing Company</td>\n",
       "      <td>Bend</td>\n",
       "      <td>OR</td>\n",
       "    </tr>\n",
       "    <tr>\n",
       "      <th>1</th>\n",
       "      <td>0.066</td>\n",
       "      <td>NaN</td>\n",
       "      <td>2265</td>\n",
       "      <td>Devil's Cup</td>\n",
       "      <td>American Pale Ale (APA)</td>\n",
       "      <td>177</td>\n",
       "      <td>12.0</td>\n",
       "      <td>18th Street Brewery</td>\n",
       "      <td>Gary</td>\n",
       "      <td>IN</td>\n",
       "    </tr>\n",
       "    <tr>\n",
       "      <th>2</th>\n",
       "      <td>0.071</td>\n",
       "      <td>NaN</td>\n",
       "      <td>2264</td>\n",
       "      <td>Rise of the Phoenix</td>\n",
       "      <td>American IPA</td>\n",
       "      <td>177</td>\n",
       "      <td>12.0</td>\n",
       "      <td>18th Street Brewery</td>\n",
       "      <td>Gary</td>\n",
       "      <td>IN</td>\n",
       "    </tr>\n",
       "    <tr>\n",
       "      <th>3</th>\n",
       "      <td>0.090</td>\n",
       "      <td>NaN</td>\n",
       "      <td>2263</td>\n",
       "      <td>Sinister</td>\n",
       "      <td>American Double / Imperial IPA</td>\n",
       "      <td>177</td>\n",
       "      <td>12.0</td>\n",
       "      <td>18th Street Brewery</td>\n",
       "      <td>Gary</td>\n",
       "      <td>IN</td>\n",
       "    </tr>\n",
       "    <tr>\n",
       "      <th>4</th>\n",
       "      <td>0.075</td>\n",
       "      <td>NaN</td>\n",
       "      <td>2262</td>\n",
       "      <td>Sex and Candy</td>\n",
       "      <td>American IPA</td>\n",
       "      <td>177</td>\n",
       "      <td>12.0</td>\n",
       "      <td>18th Street Brewery</td>\n",
       "      <td>Gary</td>\n",
       "      <td>IN</td>\n",
       "    </tr>\n",
       "    <tr>\n",
       "      <th>...</th>\n",
       "      <td>...</td>\n",
       "      <td>...</td>\n",
       "      <td>...</td>\n",
       "      <td>...</td>\n",
       "      <td>...</td>\n",
       "      <td>...</td>\n",
       "      <td>...</td>\n",
       "      <td>...</td>\n",
       "      <td>...</td>\n",
       "      <td>...</td>\n",
       "    </tr>\n",
       "    <tr>\n",
       "      <th>2405</th>\n",
       "      <td>0.067</td>\n",
       "      <td>45.0</td>\n",
       "      <td>928</td>\n",
       "      <td>Belgorado</td>\n",
       "      <td>Belgian IPA</td>\n",
       "      <td>424</td>\n",
       "      <td>12.0</td>\n",
       "      <td>Wynkoop Brewing Company</td>\n",
       "      <td>Denver</td>\n",
       "      <td>CO</td>\n",
       "    </tr>\n",
       "    <tr>\n",
       "      <th>2406</th>\n",
       "      <td>0.052</td>\n",
       "      <td>NaN</td>\n",
       "      <td>807</td>\n",
       "      <td>Rail Yard Ale</td>\n",
       "      <td>American Amber / Red Ale</td>\n",
       "      <td>424</td>\n",
       "      <td>12.0</td>\n",
       "      <td>Wynkoop Brewing Company</td>\n",
       "      <td>Denver</td>\n",
       "      <td>CO</td>\n",
       "    </tr>\n",
       "    <tr>\n",
       "      <th>2407</th>\n",
       "      <td>0.055</td>\n",
       "      <td>NaN</td>\n",
       "      <td>620</td>\n",
       "      <td>B3K Black Lager</td>\n",
       "      <td>Schwarzbier</td>\n",
       "      <td>424</td>\n",
       "      <td>12.0</td>\n",
       "      <td>Wynkoop Brewing Company</td>\n",
       "      <td>Denver</td>\n",
       "      <td>CO</td>\n",
       "    </tr>\n",
       "    <tr>\n",
       "      <th>2408</th>\n",
       "      <td>0.055</td>\n",
       "      <td>40.0</td>\n",
       "      <td>145</td>\n",
       "      <td>Silverback Pale Ale</td>\n",
       "      <td>American Pale Ale (APA)</td>\n",
       "      <td>424</td>\n",
       "      <td>12.0</td>\n",
       "      <td>Wynkoop Brewing Company</td>\n",
       "      <td>Denver</td>\n",
       "      <td>CO</td>\n",
       "    </tr>\n",
       "    <tr>\n",
       "      <th>2409</th>\n",
       "      <td>0.052</td>\n",
       "      <td>NaN</td>\n",
       "      <td>84</td>\n",
       "      <td>Rail Yard Ale (2009)</td>\n",
       "      <td>American Amber / Red Ale</td>\n",
       "      <td>424</td>\n",
       "      <td>12.0</td>\n",
       "      <td>Wynkoop Brewing Company</td>\n",
       "      <td>Denver</td>\n",
       "      <td>CO</td>\n",
       "    </tr>\n",
       "  </tbody>\n",
       "</table>\n",
       "<p>2410 rows × 10 columns</p>\n",
       "</div>"
      ],
      "text/plain": [
       "        abv   ibu    id                  name                           style  \\\n",
       "0     0.050   NaN  1436              Pub Beer             American Pale Lager   \n",
       "1     0.066   NaN  2265           Devil's Cup         American Pale Ale (APA)   \n",
       "2     0.071   NaN  2264   Rise of the Phoenix                    American IPA   \n",
       "3     0.090   NaN  2263              Sinister  American Double / Imperial IPA   \n",
       "4     0.075   NaN  2262         Sex and Candy                    American IPA   \n",
       "...     ...   ...   ...                   ...                             ...   \n",
       "2405  0.067  45.0   928             Belgorado                     Belgian IPA   \n",
       "2406  0.052   NaN   807         Rail Yard Ale        American Amber / Red Ale   \n",
       "2407  0.055   NaN   620       B3K Black Lager                     Schwarzbier   \n",
       "2408  0.055  40.0   145   Silverback Pale Ale         American Pale Ale (APA)   \n",
       "2409  0.052   NaN    84  Rail Yard Ale (2009)        American Amber / Red Ale   \n",
       "\n",
       "      brewery_id  ounces               brewery_name    city state  \n",
       "0            408    12.0  10 Barrel Brewing Company    Bend    OR  \n",
       "1            177    12.0        18th Street Brewery    Gary    IN  \n",
       "2            177    12.0        18th Street Brewery    Gary    IN  \n",
       "3            177    12.0        18th Street Brewery    Gary    IN  \n",
       "4            177    12.0        18th Street Brewery    Gary    IN  \n",
       "...          ...     ...                        ...     ...   ...  \n",
       "2405         424    12.0    Wynkoop Brewing Company  Denver    CO  \n",
       "2406         424    12.0    Wynkoop Brewing Company  Denver    CO  \n",
       "2407         424    12.0    Wynkoop Brewing Company  Denver    CO  \n",
       "2408         424    12.0    Wynkoop Brewing Company  Denver    CO  \n",
       "2409         424    12.0    Wynkoop Brewing Company  Denver    CO  \n",
       "\n",
       "[2410 rows x 10 columns]"
      ]
     },
     "execution_count": 144,
     "metadata": {},
     "output_type": "execute_result"
    }
   ],
   "source": [
    "combin = pd.merge(beer, breweries, on=\"brewery_id\",  how=\"inner\")    #on=\"name\", \"left\" join\n",
    "\n",
    "combin"
   ]
  },
  {
   "attachments": {},
   "cell_type": "markdown",
   "metadata": {},
   "source": [
    "## Ejercicio 19\n",
    "1. ¿Cuántos estados diferentes hay?\n",
    "2. ¿Y ciudades diferentes?\n",
    "3. ¿Cuántas cervecerías hay?"
   ]
  },
  {
   "cell_type": "code",
   "execution_count": 145,
   "metadata": {},
   "outputs": [
    {
     "data": {
      "text/plain": [
       "51"
      ]
     },
     "execution_count": 145,
     "metadata": {},
     "output_type": "execute_result"
    }
   ],
   "source": [
    "combin[\"state\"].nunique()"
   ]
  },
  {
   "cell_type": "code",
   "execution_count": 146,
   "metadata": {},
   "outputs": [
    {
     "data": {
      "text/plain": [
       "384"
      ]
     },
     "execution_count": 146,
     "metadata": {},
     "output_type": "execute_result"
    }
   ],
   "source": [
    "combin[\"city\"].nunique()"
   ]
  },
  {
   "cell_type": "code",
   "execution_count": 147,
   "metadata": {},
   "outputs": [
    {
     "data": {
      "text/plain": [
       "551"
      ]
     },
     "execution_count": 147,
     "metadata": {},
     "output_type": "execute_result"
    }
   ],
   "source": [
    "combin[\"brewery_name\"].nunique()"
   ]
  },
  {
   "attachments": {},
   "cell_type": "markdown",
   "metadata": {},
   "source": [
    "## Ejercicio 20\n",
    "Agrupa por estado y ciudad, la media, mediana y máximo nivel de alcohol"
   ]
  },
  {
   "cell_type": "code",
   "execution_count": 148,
   "metadata": {},
   "outputs": [
    {
     "data": {
      "application/vnd.microsoft.datawrangler.viewer.v0+json": {
       "columns": [
        {
         "name": "index",
         "rawType": "int64",
         "type": "integer"
        },
        {
         "name": "abv",
         "rawType": "float64",
         "type": "float"
        },
        {
         "name": "ibu",
         "rawType": "float64",
         "type": "float"
        },
        {
         "name": "id",
         "rawType": "int64",
         "type": "integer"
        },
        {
         "name": "name",
         "rawType": "object",
         "type": "string"
        },
        {
         "name": "style",
         "rawType": "object",
         "type": "unknown"
        },
        {
         "name": "brewery_id",
         "rawType": "int64",
         "type": "integer"
        },
        {
         "name": "ounces",
         "rawType": "float64",
         "type": "float"
        },
        {
         "name": "brewery_name",
         "rawType": "object",
         "type": "string"
        },
        {
         "name": "city",
         "rawType": "object",
         "type": "string"
        },
        {
         "name": "state",
         "rawType": "object",
         "type": "string"
        }
       ],
       "conversionMethod": "pd.DataFrame",
       "ref": "22393092-0570-4892-b401-dd35a0e5208b",
       "rows": [
        [
         "0",
         "0.05",
         null,
         "1436",
         "Pub Beer",
         "American Pale Lager",
         "408",
         "12.0",
         "10 Barrel Brewing Company",
         "Bend",
         " OR"
        ],
        [
         "1",
         "0.066",
         null,
         "2265",
         "Devil's Cup",
         "American Pale Ale (APA)",
         "177",
         "12.0",
         "18th Street Brewery",
         "Gary",
         " IN"
        ],
        [
         "2",
         "0.071",
         null,
         "2264",
         "Rise of the Phoenix",
         "American IPA",
         "177",
         "12.0",
         "18th Street Brewery",
         "Gary",
         " IN"
        ],
        [
         "3",
         "0.09",
         null,
         "2263",
         "Sinister",
         "American Double / Imperial IPA",
         "177",
         "12.0",
         "18th Street Brewery",
         "Gary",
         " IN"
        ],
        [
         "4",
         "0.075",
         null,
         "2262",
         "Sex and Candy",
         "American IPA",
         "177",
         "12.0",
         "18th Street Brewery",
         "Gary",
         " IN"
        ],
        [
         "5",
         "0.077",
         null,
         "2261",
         "Black Exodus",
         "Oatmeal Stout",
         "177",
         "12.0",
         "18th Street Brewery",
         "Gary",
         " IN"
        ],
        [
         "6",
         "0.045",
         null,
         "2260",
         "Lake Street Express",
         "American Pale Ale (APA)",
         "177",
         "12.0",
         "18th Street Brewery",
         "Gary",
         " IN"
        ],
        [
         "7",
         "0.065",
         null,
         "2259",
         "Foreman",
         "American Porter",
         "177",
         "12.0",
         "18th Street Brewery",
         "Gary",
         " IN"
        ],
        [
         "8",
         "0.055",
         null,
         "2258",
         "Jade",
         "American Pale Ale (APA)",
         "177",
         "12.0",
         "18th Street Brewery",
         "Gary",
         " IN"
        ],
        [
         "9",
         "0.086",
         null,
         "2131",
         "Cone Crusher",
         "American Double / Imperial IPA",
         "177",
         "12.0",
         "18th Street Brewery",
         "Gary",
         " IN"
        ],
        [
         "10",
         "0.072",
         null,
         "2099",
         "Sophomoric Saison",
         "Saison / Farmhouse Ale",
         "177",
         "12.0",
         "18th Street Brewery",
         "Gary",
         " IN"
        ],
        [
         "11",
         "0.073",
         null,
         "2098",
         "Regional Ring Of Fire",
         "Saison / Farmhouse Ale",
         "177",
         "12.0",
         "18th Street Brewery",
         "Gary",
         " IN"
        ],
        [
         "12",
         "0.069",
         null,
         "2097",
         "Garce Selé",
         "Saison / Farmhouse Ale",
         "177",
         "12.0",
         "18th Street Brewery",
         "Gary",
         " IN"
        ],
        [
         "13",
         "0.085",
         null,
         "1980",
         "Troll Destroyer",
         "Belgian IPA",
         "177",
         "12.0",
         "18th Street Brewery",
         "Gary",
         " IN"
        ],
        [
         "14",
         "0.061",
         "60.0",
         "1979",
         "Bitter Bitch",
         "American Pale Ale (APA)",
         "177",
         "12.0",
         "18th Street Brewery",
         "Gary",
         " IN"
        ],
        [
         "15",
         "0.06",
         null,
         "2318",
         "Ginja Ninja",
         "Cider",
         "154",
         "12.0",
         "2 Towns Ciderhouse",
         "Corvallis",
         " OR"
        ],
        [
         "16",
         "0.06",
         null,
         "2170",
         "Cherried Away",
         "Cider",
         "154",
         "12.0",
         "2 Towns Ciderhouse",
         "Corvallis",
         " OR"
        ],
        [
         "17",
         "0.06",
         null,
         "2169",
         "Rhubarbarian",
         "Cider",
         "154",
         "12.0",
         "2 Towns Ciderhouse",
         "Corvallis",
         " OR"
        ],
        [
         "18",
         "0.06",
         null,
         "1502",
         "BrightCider",
         "Cider",
         "154",
         "12.0",
         "2 Towns Ciderhouse",
         "Corvallis",
         " OR"
        ],
        [
         "19",
         "0.0819999999999999",
         null,
         "1593",
         "He Said Baltic-Style Porter",
         "Baltic Porter",
         "368",
         "12.0",
         "21st Amendment Brewery",
         "San Francisco",
         " CA"
        ],
        [
         "20",
         "0.0819999999999999",
         null,
         "1592",
         "He Said Belgian-Style Tripel",
         "Tripel",
         "368",
         "12.0",
         "21st Amendment Brewery",
         "San Francisco",
         " CA"
        ],
        [
         "21",
         "0.099",
         "92.0",
         "1036",
         "Lower De Boom",
         "American Barleywine",
         "368",
         "8.4",
         "21st Amendment Brewery",
         "San Francisco",
         " CA"
        ],
        [
         "22",
         "0.079",
         "45.0",
         "1024",
         "Fireside Chat",
         "Winter Warmer",
         "368",
         "12.0",
         "21st Amendment Brewery",
         "San Francisco",
         " CA"
        ],
        [
         "23",
         "0.079",
         null,
         "976",
         "Marooned On Hog Island",
         "American Stout",
         "368",
         "12.0",
         "21st Amendment Brewery",
         "San Francisco",
         " CA"
        ],
        [
         "24",
         "0.044",
         "42.0",
         "876",
         "Bitter American",
         "American Pale Ale (APA)",
         "368",
         "12.0",
         "21st Amendment Brewery",
         "San Francisco",
         " CA"
        ],
        [
         "25",
         "0.049",
         "17.0",
         "802",
         "Hell or High Watermelon Wheat (2009)",
         "Fruit / Vegetable Beer",
         "368",
         "12.0",
         "21st Amendment Brewery",
         "San Francisco",
         " CA"
        ],
        [
         "26",
         "0.049",
         "17.0",
         "801",
         "Hell or High Watermelon Wheat (2009)",
         "Fruit / Vegetable Beer",
         "368",
         "12.0",
         "21st Amendment Brewery",
         "San Francisco",
         " CA"
        ],
        [
         "27",
         "0.049",
         "17.0",
         "800",
         "21st Amendment Watermelon Wheat Beer (2006)",
         "Fruit / Vegetable Beer",
         "368",
         "12.0",
         "21st Amendment Brewery",
         "San Francisco",
         " CA"
        ],
        [
         "28",
         "0.07",
         "70.0",
         "799",
         "21st Amendment IPA (2006)",
         "American IPA",
         "368",
         "12.0",
         "21st Amendment Brewery",
         "San Francisco",
         " CA"
        ],
        [
         "29",
         "0.07",
         "70.0",
         "797",
         "Brew Free! or Die IPA (2008)",
         "American IPA",
         "368",
         "12.0",
         "21st Amendment Brewery",
         "San Francisco",
         " CA"
        ],
        [
         "30",
         "0.07",
         "70.0",
         "796",
         "Brew Free! or Die IPA (2009)",
         "American IPA",
         "368",
         "12.0",
         "21st Amendment Brewery",
         "San Francisco",
         " CA"
        ],
        [
         "31",
         "0.085",
         "52.0",
         "531",
         "Special Edition: Allies Win The War!",
         "English Strong Ale",
         "368",
         "12.0",
         "21st Amendment Brewery",
         "San Francisco",
         " CA"
        ],
        [
         "32",
         "0.0969999999999999",
         "94.0",
         "432",
         "Hop Crisis",
         "American Double / Imperial IPA",
         "368",
         "12.0",
         "21st Amendment Brewery",
         "San Francisco",
         " CA"
        ],
        [
         "33",
         "0.044",
         "42.0",
         "353",
         "Bitter American (2011)",
         "American Pale Ale (APA)",
         "368",
         "12.0",
         "21st Amendment Brewery",
         "San Francisco",
         " CA"
        ],
        [
         "34",
         "0.079",
         "45.0",
         "321",
         "Fireside Chat (2010)",
         "Winter Warmer",
         "368",
         "12.0",
         "21st Amendment Brewery",
         "San Francisco",
         " CA"
        ],
        [
         "35",
         "0.068",
         "65.0",
         "173",
         "Back in Black",
         "American Black Ale",
         "368",
         "12.0",
         "21st Amendment Brewery",
         "San Francisco",
         " CA"
        ],
        [
         "36",
         "0.083",
         "35.0",
         "11",
         "Monk's Blood",
         "Belgian Dark Ale",
         "368",
         "12.0",
         "21st Amendment Brewery",
         "San Francisco",
         " CA"
        ],
        [
         "37",
         "0.07",
         "65.0",
         "10",
         "Brew Free! or Die IPA",
         "American IPA",
         "368",
         "12.0",
         "21st Amendment Brewery",
         "San Francisco",
         " CA"
        ],
        [
         "38",
         "0.049",
         "17.0",
         "9",
         "Hell or High Watermelon Wheat",
         "Fruit / Vegetable Beer",
         "368",
         "12.0",
         "21st Amendment Brewery",
         "San Francisco",
         " CA"
        ],
        [
         "39",
         "0.07",
         "82.0",
         "2519",
         "Bimini Twist",
         "American IPA",
         "67",
         "12.0",
         "3 Daughters Brewing",
         "St Petersburg",
         " FL"
        ],
        [
         "40",
         "0.05",
         null,
         "2518",
         "Beach Blonde",
         "American Blonde Ale",
         "67",
         "12.0",
         "3 Daughters Brewing",
         "St Petersburg",
         " FL"
        ],
        [
         "41",
         "0.059",
         null,
         "2517",
         "Rod Bender Red",
         "American Amber / Red Ale",
         "67",
         "12.0",
         "3 Daughters Brewing",
         "St Petersburg",
         " FL"
        ],
        [
         "42",
         "0.035",
         "11.0",
         "2545",
         "Passion Fruit Prussia",
         "Berliner Weissbier",
         "60",
         "12.0",
         "4 Hands Brewing Company",
         "Saint Louis",
         " MO"
        ],
        [
         "43",
         "0.045",
         "18.0",
         "2544",
         "Send Help",
         "American Blonde Ale",
         "60",
         "12.0",
         "4 Hands Brewing Company",
         "Saint Louis",
         " MO"
        ],
        [
         "44",
         "0.055",
         null,
         "2324",
         "Cast Iron Oatmeal Brown",
         "American Brown Ale",
         "60",
         "12.0",
         "4 Hands Brewing Company",
         "Saint Louis",
         " MO"
        ],
        [
         "45",
         "0.06",
         null,
         "2288",
         "Reprise Centennial Red",
         "American Amber / Red Ale",
         "60",
         "12.0",
         "4 Hands Brewing Company",
         "Saint Louis",
         " MO"
        ],
        [
         "46",
         "0.055",
         null,
         "2287",
         "Alter Ego",
         "American Black Ale",
         "60",
         "12.0",
         "4 Hands Brewing Company",
         "Saint Louis",
         " MO"
        ],
        [
         "47",
         "0.065",
         null,
         "2286",
         "Divided Sky",
         "American IPA",
         "60",
         "12.0",
         "4 Hands Brewing Company",
         "Saint Louis",
         " MO"
        ],
        [
         "48",
         "0.065",
         null,
         "2285",
         "Resurrected",
         "American IPA",
         "60",
         "12.0",
         "4 Hands Brewing Company",
         "Saint Louis",
         " MO"
        ],
        [
         "49",
         "0.05",
         "28.0",
         "1870",
         "Contact High",
         "American Pale Wheat Ale",
         "60",
         "12.0",
         "4 Hands Brewing Company",
         "Saint Louis",
         " MO"
        ]
       ],
       "shape": {
        "columns": 10,
        "rows": 2410
       }
      },
      "text/html": [
       "<div>\n",
       "<style scoped>\n",
       "    .dataframe tbody tr th:only-of-type {\n",
       "        vertical-align: middle;\n",
       "    }\n",
       "\n",
       "    .dataframe tbody tr th {\n",
       "        vertical-align: top;\n",
       "    }\n",
       "\n",
       "    .dataframe thead th {\n",
       "        text-align: right;\n",
       "    }\n",
       "</style>\n",
       "<table border=\"1\" class=\"dataframe\">\n",
       "  <thead>\n",
       "    <tr style=\"text-align: right;\">\n",
       "      <th></th>\n",
       "      <th>abv</th>\n",
       "      <th>ibu</th>\n",
       "      <th>id</th>\n",
       "      <th>name</th>\n",
       "      <th>style</th>\n",
       "      <th>brewery_id</th>\n",
       "      <th>ounces</th>\n",
       "      <th>brewery_name</th>\n",
       "      <th>city</th>\n",
       "      <th>state</th>\n",
       "    </tr>\n",
       "  </thead>\n",
       "  <tbody>\n",
       "    <tr>\n",
       "      <th>0</th>\n",
       "      <td>0.050</td>\n",
       "      <td>NaN</td>\n",
       "      <td>1436</td>\n",
       "      <td>Pub Beer</td>\n",
       "      <td>American Pale Lager</td>\n",
       "      <td>408</td>\n",
       "      <td>12.0</td>\n",
       "      <td>10 Barrel Brewing Company</td>\n",
       "      <td>Bend</td>\n",
       "      <td>OR</td>\n",
       "    </tr>\n",
       "    <tr>\n",
       "      <th>1</th>\n",
       "      <td>0.066</td>\n",
       "      <td>NaN</td>\n",
       "      <td>2265</td>\n",
       "      <td>Devil's Cup</td>\n",
       "      <td>American Pale Ale (APA)</td>\n",
       "      <td>177</td>\n",
       "      <td>12.0</td>\n",
       "      <td>18th Street Brewery</td>\n",
       "      <td>Gary</td>\n",
       "      <td>IN</td>\n",
       "    </tr>\n",
       "    <tr>\n",
       "      <th>2</th>\n",
       "      <td>0.071</td>\n",
       "      <td>NaN</td>\n",
       "      <td>2264</td>\n",
       "      <td>Rise of the Phoenix</td>\n",
       "      <td>American IPA</td>\n",
       "      <td>177</td>\n",
       "      <td>12.0</td>\n",
       "      <td>18th Street Brewery</td>\n",
       "      <td>Gary</td>\n",
       "      <td>IN</td>\n",
       "    </tr>\n",
       "    <tr>\n",
       "      <th>3</th>\n",
       "      <td>0.090</td>\n",
       "      <td>NaN</td>\n",
       "      <td>2263</td>\n",
       "      <td>Sinister</td>\n",
       "      <td>American Double / Imperial IPA</td>\n",
       "      <td>177</td>\n",
       "      <td>12.0</td>\n",
       "      <td>18th Street Brewery</td>\n",
       "      <td>Gary</td>\n",
       "      <td>IN</td>\n",
       "    </tr>\n",
       "    <tr>\n",
       "      <th>4</th>\n",
       "      <td>0.075</td>\n",
       "      <td>NaN</td>\n",
       "      <td>2262</td>\n",
       "      <td>Sex and Candy</td>\n",
       "      <td>American IPA</td>\n",
       "      <td>177</td>\n",
       "      <td>12.0</td>\n",
       "      <td>18th Street Brewery</td>\n",
       "      <td>Gary</td>\n",
       "      <td>IN</td>\n",
       "    </tr>\n",
       "    <tr>\n",
       "      <th>...</th>\n",
       "      <td>...</td>\n",
       "      <td>...</td>\n",
       "      <td>...</td>\n",
       "      <td>...</td>\n",
       "      <td>...</td>\n",
       "      <td>...</td>\n",
       "      <td>...</td>\n",
       "      <td>...</td>\n",
       "      <td>...</td>\n",
       "      <td>...</td>\n",
       "    </tr>\n",
       "    <tr>\n",
       "      <th>2405</th>\n",
       "      <td>0.067</td>\n",
       "      <td>45.0</td>\n",
       "      <td>928</td>\n",
       "      <td>Belgorado</td>\n",
       "      <td>Belgian IPA</td>\n",
       "      <td>424</td>\n",
       "      <td>12.0</td>\n",
       "      <td>Wynkoop Brewing Company</td>\n",
       "      <td>Denver</td>\n",
       "      <td>CO</td>\n",
       "    </tr>\n",
       "    <tr>\n",
       "      <th>2406</th>\n",
       "      <td>0.052</td>\n",
       "      <td>NaN</td>\n",
       "      <td>807</td>\n",
       "      <td>Rail Yard Ale</td>\n",
       "      <td>American Amber / Red Ale</td>\n",
       "      <td>424</td>\n",
       "      <td>12.0</td>\n",
       "      <td>Wynkoop Brewing Company</td>\n",
       "      <td>Denver</td>\n",
       "      <td>CO</td>\n",
       "    </tr>\n",
       "    <tr>\n",
       "      <th>2407</th>\n",
       "      <td>0.055</td>\n",
       "      <td>NaN</td>\n",
       "      <td>620</td>\n",
       "      <td>B3K Black Lager</td>\n",
       "      <td>Schwarzbier</td>\n",
       "      <td>424</td>\n",
       "      <td>12.0</td>\n",
       "      <td>Wynkoop Brewing Company</td>\n",
       "      <td>Denver</td>\n",
       "      <td>CO</td>\n",
       "    </tr>\n",
       "    <tr>\n",
       "      <th>2408</th>\n",
       "      <td>0.055</td>\n",
       "      <td>40.0</td>\n",
       "      <td>145</td>\n",
       "      <td>Silverback Pale Ale</td>\n",
       "      <td>American Pale Ale (APA)</td>\n",
       "      <td>424</td>\n",
       "      <td>12.0</td>\n",
       "      <td>Wynkoop Brewing Company</td>\n",
       "      <td>Denver</td>\n",
       "      <td>CO</td>\n",
       "    </tr>\n",
       "    <tr>\n",
       "      <th>2409</th>\n",
       "      <td>0.052</td>\n",
       "      <td>NaN</td>\n",
       "      <td>84</td>\n",
       "      <td>Rail Yard Ale (2009)</td>\n",
       "      <td>American Amber / Red Ale</td>\n",
       "      <td>424</td>\n",
       "      <td>12.0</td>\n",
       "      <td>Wynkoop Brewing Company</td>\n",
       "      <td>Denver</td>\n",
       "      <td>CO</td>\n",
       "    </tr>\n",
       "  </tbody>\n",
       "</table>\n",
       "<p>2410 rows × 10 columns</p>\n",
       "</div>"
      ],
      "text/plain": [
       "        abv   ibu    id                  name                           style  \\\n",
       "0     0.050   NaN  1436              Pub Beer             American Pale Lager   \n",
       "1     0.066   NaN  2265           Devil's Cup         American Pale Ale (APA)   \n",
       "2     0.071   NaN  2264   Rise of the Phoenix                    American IPA   \n",
       "3     0.090   NaN  2263              Sinister  American Double / Imperial IPA   \n",
       "4     0.075   NaN  2262         Sex and Candy                    American IPA   \n",
       "...     ...   ...   ...                   ...                             ...   \n",
       "2405  0.067  45.0   928             Belgorado                     Belgian IPA   \n",
       "2406  0.052   NaN   807         Rail Yard Ale        American Amber / Red Ale   \n",
       "2407  0.055   NaN   620       B3K Black Lager                     Schwarzbier   \n",
       "2408  0.055  40.0   145   Silverback Pale Ale         American Pale Ale (APA)   \n",
       "2409  0.052   NaN    84  Rail Yard Ale (2009)        American Amber / Red Ale   \n",
       "\n",
       "      brewery_id  ounces               brewery_name    city state  \n",
       "0            408    12.0  10 Barrel Brewing Company    Bend    OR  \n",
       "1            177    12.0        18th Street Brewery    Gary    IN  \n",
       "2            177    12.0        18th Street Brewery    Gary    IN  \n",
       "3            177    12.0        18th Street Brewery    Gary    IN  \n",
       "4            177    12.0        18th Street Brewery    Gary    IN  \n",
       "...          ...     ...                        ...     ...   ...  \n",
       "2405         424    12.0    Wynkoop Brewing Company  Denver    CO  \n",
       "2406         424    12.0    Wynkoop Brewing Company  Denver    CO  \n",
       "2407         424    12.0    Wynkoop Brewing Company  Denver    CO  \n",
       "2408         424    12.0    Wynkoop Brewing Company  Denver    CO  \n",
       "2409         424    12.0    Wynkoop Brewing Company  Denver    CO  \n",
       "\n",
       "[2410 rows x 10 columns]"
      ]
     },
     "execution_count": 148,
     "metadata": {},
     "output_type": "execute_result"
    }
   ],
   "source": [
    "combin"
   ]
  },
  {
   "cell_type": "code",
   "execution_count": null,
   "metadata": {},
   "outputs": [],
   "source": []
  },
  {
   "cell_type": "code",
   "execution_count": 155,
   "metadata": {},
   "outputs": [
    {
     "name": "stderr",
     "output_type": "stream",
     "text": [
      "C:\\Users\\nagor\\AppData\\Local\\Temp\\ipykernel_14720\\649794945.py:1: FutureWarning: The provided callable <function median at 0x00000189CD1D8C20> is currently using SeriesGroupBy.median. In a future version of pandas, the provided callable will be used directly. To keep current behavior pass the string \"median\" instead.\n",
      "  agrupa_media = combin.groupby([\"state\", \"city\"])[\"abv\"].aggregate([\"max\", np.median,np.mean])\n",
      "C:\\Users\\nagor\\AppData\\Local\\Temp\\ipykernel_14720\\649794945.py:1: FutureWarning: The provided callable <function mean at 0x00000189CD070900> is currently using SeriesGroupBy.mean. In a future version of pandas, the provided callable will be used directly. To keep current behavior pass the string \"mean\" instead.\n",
      "  agrupa_media = combin.groupby([\"state\", \"city\"])[\"abv\"].aggregate([\"max\", np.median,np.mean])\n"
     ]
    },
    {
     "data": {
      "application/vnd.microsoft.datawrangler.viewer.v0+json": {
       "columns": [
        {
         "name": "index",
         "rawType": "int64",
         "type": "integer"
        },
        {
         "name": "state",
         "rawType": "object",
         "type": "string"
        },
        {
         "name": "city",
         "rawType": "object",
         "type": "string"
        },
        {
         "name": "max",
         "rawType": "float64",
         "type": "float"
        },
        {
         "name": "median",
         "rawType": "float64",
         "type": "float"
        },
        {
         "name": "mean",
         "rawType": "float64",
         "type": "float"
        }
       ],
       "conversionMethod": "pd.DataFrame",
       "ref": "96f978d6-a317-4a16-8cab-7a832b57fb66",
       "rows": [
        [
         "0",
         " AK",
         "Anchorage",
         "0.06",
         "0.05",
         "0.05"
        ],
        [
         "1",
         " AK",
         "Juneau",
         "0.05",
         "0.05",
         "0.05"
        ],
        [
         "2",
         " AK",
         "Soldotna",
         "0.07",
         "0.06",
         "0.06"
        ],
        [
         "3",
         " AK",
         "Talkeetna",
         "0.06",
         "0.06",
         "0.06"
        ],
        [
         "4",
         " AL",
         "Birmingham",
         "0.09",
         "0.06",
         "0.07"
        ],
        [
         "5",
         " AL",
         "Gadsden",
         "0.06",
         "0.06",
         "0.06"
        ],
        [
         "6",
         " AL",
         "Huntsville",
         "0.07",
         "0.05",
         "0.06"
        ],
        [
         "7",
         " AR",
         "Rogers",
         "0.04",
         "0.04",
         "0.04"
        ],
        [
         "8",
         " AR",
         "Springdale",
         "0.06",
         "0.05",
         "0.06"
        ],
        [
         "9",
         " AZ",
         "Chandler",
         "0.1",
         "0.06",
         "0.06"
        ],
        [
         "10",
         " AZ",
         "Flagstaff",
         "0.06",
         "0.05",
         "0.06"
        ],
        [
         "11",
         " AZ",
         "Lake Havasu City",
         "0.08",
         "0.06",
         "0.07"
        ],
        [
         "12",
         " AZ",
         "Phoenix",
         "0.06",
         "0.06",
         "0.06"
        ],
        [
         "13",
         " AZ",
         "Prescott",
         null,
         null,
         null
        ],
        [
         "14",
         " AZ",
         "Tempe",
         "0.07",
         "0.05",
         "0.05"
        ],
        [
         "15",
         " AZ",
         "Tucson",
         "0.07",
         "0.06",
         "0.06"
        ],
        [
         "16",
         " AZ",
         "Williams",
         "0.05",
         "0.05",
         "0.05"
        ],
        [
         "17",
         " CA",
         "Belmont",
         "0.07",
         "0.07",
         "0.07"
        ],
        [
         "18",
         " CA",
         "Boonville",
         "0.07",
         "0.06",
         "0.06"
        ],
        [
         "19",
         " CA",
         "Buellton",
         "0.06",
         "0.05",
         "0.05"
        ],
        [
         "20",
         " CA",
         "Carlsbad",
         "0.07",
         "0.05",
         "0.05"
        ],
        [
         "21",
         " CA",
         "Chico",
         "0.07",
         "0.06",
         "0.06"
        ],
        [
         "22",
         " CA",
         "Claremont",
         "0.07",
         "0.07",
         "0.07"
        ],
        [
         "23",
         " CA",
         "Diamond Springs",
         "0.05",
         "0.05",
         "0.05"
        ],
        [
         "24",
         " CA",
         "Half Moon Bay",
         "0.04",
         "0.04",
         "0.04"
        ],
        [
         "25",
         " CA",
         "Los Angeles",
         "0.09",
         "0.06",
         "0.07"
        ],
        [
         "26",
         " CA",
         "Mammoth Lakes",
         "0.06",
         "0.04",
         "0.05"
        ],
        [
         "27",
         " CA",
         "Mill Valley",
         "0.09",
         "0.08",
         "0.08"
        ],
        [
         "28",
         " CA",
         "Paso Robles",
         "0.08",
         "0.05",
         "0.05"
        ],
        [
         "29",
         " CA",
         "Redlands",
         "0.05",
         "0.04",
         "0.04"
        ],
        [
         "30",
         " CA",
         "Sacramento",
         "0.07",
         "0.06",
         "0.06"
        ],
        [
         "31",
         " CA",
         "San Diego",
         "0.1",
         "0.06",
         "0.06"
        ],
        [
         "32",
         " CA",
         "San Francisco",
         "0.1",
         "0.06",
         "0.06"
        ],
        [
         "33",
         " CA",
         "San Luis Obispo",
         "0.1",
         "0.07",
         "0.07"
        ],
        [
         "34",
         " CA",
         "Santa Cruz",
         "0.09",
         "0.07",
         "0.06"
        ],
        [
         "35",
         " CA",
         "Santee",
         "0.1",
         "0.08",
         "0.08"
        ],
        [
         "36",
         " CA",
         "South San Francisco",
         "0.05",
         "0.05",
         "0.05"
        ],
        [
         "37",
         " CA",
         "Temecula",
         "0.08",
         "0.05",
         "0.06"
        ],
        [
         "38",
         " CA",
         "Torrance",
         "0.1",
         "0.06",
         "0.06"
        ],
        [
         "39",
         " CA",
         "Ukiah",
         "0.06",
         "0.06",
         "0.06"
        ],
        [
         "40",
         " CA",
         "Vista",
         "0.05",
         "0.05",
         "0.05"
        ],
        [
         "41",
         " CO",
         "Arvada",
         "0.09",
         "0.05",
         "0.06"
        ],
        [
         "42",
         " CO",
         "Aspen",
         "0.07",
         "0.06",
         "0.06"
        ],
        [
         "43",
         " CO",
         "Aurora",
         "0.07",
         "0.06",
         "0.06"
        ],
        [
         "44",
         " CO",
         "Boulder",
         "0.13",
         "0.07",
         "0.07"
        ],
        [
         "45",
         " CO",
         "Broomfield",
         "0.1",
         "0.07",
         "0.07"
        ],
        [
         "46",
         " CO",
         "Buena Vista",
         "0.08",
         "0.06",
         "0.06"
        ],
        [
         "47",
         " CO",
         "Colorado Springs",
         "0.05",
         "0.05",
         "0.05"
        ],
        [
         "48",
         " CO",
         "Denver",
         "0.1",
         "0.06",
         "0.06"
        ],
        [
         "49",
         " CO",
         "Dillon",
         "0.07",
         "0.06",
         "0.06"
        ]
       ],
       "shape": {
        "columns": 5,
        "rows": 401
       }
      },
      "text/html": [
       "<div>\n",
       "<style scoped>\n",
       "    .dataframe tbody tr th:only-of-type {\n",
       "        vertical-align: middle;\n",
       "    }\n",
       "\n",
       "    .dataframe tbody tr th {\n",
       "        vertical-align: top;\n",
       "    }\n",
       "\n",
       "    .dataframe thead th {\n",
       "        text-align: right;\n",
       "    }\n",
       "</style>\n",
       "<table border=\"1\" class=\"dataframe\">\n",
       "  <thead>\n",
       "    <tr style=\"text-align: right;\">\n",
       "      <th></th>\n",
       "      <th>state</th>\n",
       "      <th>city</th>\n",
       "      <th>max</th>\n",
       "      <th>median</th>\n",
       "      <th>mean</th>\n",
       "    </tr>\n",
       "  </thead>\n",
       "  <tbody>\n",
       "    <tr>\n",
       "      <th>0</th>\n",
       "      <td>AK</td>\n",
       "      <td>Anchorage</td>\n",
       "      <td>0.06</td>\n",
       "      <td>0.05</td>\n",
       "      <td>0.05</td>\n",
       "    </tr>\n",
       "    <tr>\n",
       "      <th>1</th>\n",
       "      <td>AK</td>\n",
       "      <td>Juneau</td>\n",
       "      <td>0.05</td>\n",
       "      <td>0.05</td>\n",
       "      <td>0.05</td>\n",
       "    </tr>\n",
       "    <tr>\n",
       "      <th>2</th>\n",
       "      <td>AK</td>\n",
       "      <td>Soldotna</td>\n",
       "      <td>0.07</td>\n",
       "      <td>0.06</td>\n",
       "      <td>0.06</td>\n",
       "    </tr>\n",
       "    <tr>\n",
       "      <th>3</th>\n",
       "      <td>AK</td>\n",
       "      <td>Talkeetna</td>\n",
       "      <td>0.06</td>\n",
       "      <td>0.06</td>\n",
       "      <td>0.06</td>\n",
       "    </tr>\n",
       "    <tr>\n",
       "      <th>4</th>\n",
       "      <td>AL</td>\n",
       "      <td>Birmingham</td>\n",
       "      <td>0.09</td>\n",
       "      <td>0.06</td>\n",
       "      <td>0.07</td>\n",
       "    </tr>\n",
       "    <tr>\n",
       "      <th>...</th>\n",
       "      <td>...</td>\n",
       "      <td>...</td>\n",
       "      <td>...</td>\n",
       "      <td>...</td>\n",
       "      <td>...</td>\n",
       "    </tr>\n",
       "    <tr>\n",
       "      <th>396</th>\n",
       "      <td>WI</td>\n",
       "      <td>Wilson</td>\n",
       "      <td>0.06</td>\n",
       "      <td>0.06</td>\n",
       "      <td>0.06</td>\n",
       "    </tr>\n",
       "    <tr>\n",
       "      <th>397</th>\n",
       "      <td>WV</td>\n",
       "      <td>Lewisburg</td>\n",
       "      <td>0.07</td>\n",
       "      <td>0.06</td>\n",
       "      <td>0.06</td>\n",
       "    </tr>\n",
       "    <tr>\n",
       "      <th>398</th>\n",
       "      <td>WY</td>\n",
       "      <td>Jackson</td>\n",
       "      <td>0.07</td>\n",
       "      <td>0.05</td>\n",
       "      <td>0.05</td>\n",
       "    </tr>\n",
       "    <tr>\n",
       "      <th>399</th>\n",
       "      <td>WY</td>\n",
       "      <td>Pinedale</td>\n",
       "      <td>0.07</td>\n",
       "      <td>0.06</td>\n",
       "      <td>0.06</td>\n",
       "    </tr>\n",
       "    <tr>\n",
       "      <th>400</th>\n",
       "      <td>WY</td>\n",
       "      <td>Sheridan</td>\n",
       "      <td>0.07</td>\n",
       "      <td>0.05</td>\n",
       "      <td>0.05</td>\n",
       "    </tr>\n",
       "  </tbody>\n",
       "</table>\n",
       "<p>401 rows × 5 columns</p>\n",
       "</div>"
      ],
      "text/plain": [
       "    state        city   max  median  mean\n",
       "0      AK   Anchorage  0.06    0.05  0.05\n",
       "1      AK      Juneau  0.05    0.05  0.05\n",
       "2      AK    Soldotna  0.07    0.06  0.06\n",
       "3      AK   Talkeetna  0.06    0.06  0.06\n",
       "4      AL  Birmingham  0.09    0.06  0.07\n",
       "..    ...         ...   ...     ...   ...\n",
       "396    WI      Wilson  0.06    0.06  0.06\n",
       "397    WV   Lewisburg  0.07    0.06  0.06\n",
       "398    WY     Jackson  0.07    0.05  0.05\n",
       "399    WY    Pinedale  0.07    0.06  0.06\n",
       "400    WY    Sheridan  0.07    0.05  0.05\n",
       "\n",
       "[401 rows x 5 columns]"
      ]
     },
     "execution_count": 155,
     "metadata": {},
     "output_type": "execute_result"
    }
   ],
   "source": [
    "agrupa_media = combin.groupby([\"state\", \"city\"])[\"abv\"].aggregate([\"max\", np.median,np.mean])\n",
    "agrupa_media.reset_index().round(2)"
   ]
  },
  {
   "attachments": {},
   "cell_type": "markdown",
   "metadata": {},
   "source": [
    "## Ejercicio 21\n",
    "¿Cuáles son las cervezas más amargas que se consumen en Indiana, estado = `IN`?"
   ]
  },
  {
   "cell_type": "code",
   "execution_count": 165,
   "metadata": {},
   "outputs": [
    {
     "name": "stdout",
     "output_type": "stream",
     "text": [
      "        ibu                              name\n",
      "479   115.0                  Hopkick Dropkick\n",
      "2191  115.0             Overlord Imperial IPA\n",
      "811   104.0                    Half Cycle IPA\n",
      "2062   91.0                              Isis\n",
      "2189   90.0                              Csar\n",
      "...     ...                               ...\n",
      "55     15.0                      Honey Kolsch\n",
      "2276   15.0                  Upland Wheat Ale\n",
      "940    13.0  Great Crescent Belgian Style Wit\n",
      "2188   12.0            Damascene Apricot Sour\n",
      "586     8.0                         Ale Cider\n",
      "\n",
      "[91 rows x 2 columns]\n"
     ]
    }
   ],
   "source": [
    "cervezas_in = combin.loc[combin[\"state\"] == \" IN\", [\"ibu\", \"name\"]]   #para el nombre, le pasamos entr corchets name \n",
    "#print(cervezas_in)\n",
    "\n",
    "bitter = cervezas_in.dropna().sort_values(by= \"ibu\", ascending= False)\n",
    "print(bitter)"
   ]
  },
  {
   "attachments": {},
   "cell_type": "markdown",
   "metadata": {},
   "source": [
    "## Ejercicio 22\n",
    "Obtén una tabla con los principales estadísticos del campo `ibu`,  a nivel ciudad"
   ]
  },
  {
   "cell_type": "code",
   "execution_count": 166,
   "metadata": {},
   "outputs": [
    {
     "data": {
      "application/vnd.microsoft.datawrangler.viewer.v0+json": {
       "columns": [
        {
         "name": "city",
         "rawType": "object",
         "type": "string"
        },
        {
         "name": "count",
         "rawType": "float64",
         "type": "float"
        },
        {
         "name": "mean",
         "rawType": "float64",
         "type": "float"
        },
        {
         "name": "std",
         "rawType": "float64",
         "type": "float"
        },
        {
         "name": "min",
         "rawType": "float64",
         "type": "float"
        },
        {
         "name": "25%",
         "rawType": "float64",
         "type": "float"
        },
        {
         "name": "50%",
         "rawType": "float64",
         "type": "float"
        },
        {
         "name": "75%",
         "rawType": "float64",
         "type": "float"
        },
        {
         "name": "max",
         "rawType": "float64",
         "type": "float"
        }
       ],
       "conversionMethod": "pd.DataFrame",
       "ref": "d616cd63-83a7-40fb-af31-7910921e3e3a",
       "rows": [
        [
         "Abingdon",
         "1.0",
         "135.0",
         null,
         "135.0",
         "135.0",
         "135.0",
         "135.0",
         "135.0"
        ],
        [
         "Abita Springs",
         "3.0",
         "27.333333333333332",
         "21.455380055672126",
         "13.0",
         "15.0",
         "17.0",
         "34.5",
         "52.0"
        ],
        [
         "Ada",
         "0.0",
         null,
         null,
         null,
         null,
         null,
         null,
         null
        ],
        [
         "Afton",
         "4.0",
         "43.0",
         "19.8997487421324",
         "22.0",
         "28.0",
         "45.0",
         "60.0",
         "60.0"
        ],
        [
         "Airway Heights",
         "0.0",
         null,
         null,
         null,
         null,
         null,
         null,
         null
        ],
        [
         "Albuquerque",
         "4.0",
         "54.25",
         "38.88765871070152",
         "15.0",
         "26.25",
         "51.0",
         "79.0",
         "100.0"
        ],
        [
         "Alpine",
         "0.0",
         null,
         null,
         null,
         null,
         null,
         null,
         null
        ],
        [
         "Anchorage",
         "10.0",
         "40.4",
         "26.563132345414388",
         "10.0",
         "15.5",
         "42.5",
         "63.25",
         "70.0"
        ],
        [
         "Angola",
         "2.0",
         "19.0",
         "15.556349186104045",
         "8.0",
         "13.5",
         "19.0",
         "24.5",
         "30.0"
        ],
        [
         "Ann Arbor",
         "1.0",
         "15.0",
         null,
         "15.0",
         "15.0",
         "15.0",
         "15.0",
         "15.0"
        ],
        [
         "Arrington",
         "1.0",
         "16.0",
         null,
         "16.0",
         "16.0",
         "16.0",
         "16.0",
         "16.0"
        ],
        [
         "Arvada",
         "3.0",
         "45.666666666666664",
         "23.072349974229617",
         "29.0",
         "32.5",
         "36.0",
         "54.0",
         "72.0"
        ],
        [
         "Ashburn",
         "2.0",
         "60.0",
         "7.0710678118654755",
         "55.0",
         "57.5",
         "60.0",
         "62.5",
         "65.0"
        ],
        [
         "Asheville",
         "6.0",
         "36.666666666666664",
         "17.107503227141788",
         "24.0",
         "26.25",
         "29.5",
         "39.5",
         "69.0"
        ],
        [
         "Ashland",
         "17.0",
         "54.23529411764706",
         "26.927052873840246",
         "16.0",
         "40.0",
         "55.0",
         "55.0",
         "100.0"
        ],
        [
         "Aspen",
         "2.0",
         "47.0",
         "28.284271247461902",
         "27.0",
         "37.0",
         "47.0",
         "57.0",
         "67.0"
        ],
        [
         "Astoria",
         "5.0",
         "69.0",
         "46.63153439465616",
         "35.0",
         "35.0",
         "40.0",
         "97.0",
         "138.0"
        ],
        [
         "Athens",
         "2.0",
         "53.5",
         "16.263455967290593",
         "42.0",
         "47.75",
         "53.5",
         "59.25",
         "65.0"
        ],
        [
         "Atlanta",
         "1.0",
         "35.0",
         null,
         "35.0",
         "35.0",
         "35.0",
         "35.0",
         "35.0"
        ],
        [
         "Atlantic Highlands",
         "4.0",
         "56.0",
         "41.480919308359915",
         "9.0",
         "28.5",
         "57.5",
         "85.0",
         "100.0"
        ],
        [
         "Aurora",
         "24.0",
         "34.666666666666664",
         "21.383997809550035",
         "12.0",
         "22.0",
         "26.5",
         "39.25",
         "100.0"
        ],
        [
         "Austin",
         "13.0",
         "39.07692307692308",
         "17.900007162296234",
         "20.0",
         "27.0",
         "35.0",
         "42.0",
         "75.0"
        ],
        [
         "Avon",
         "0.0",
         null,
         null,
         null,
         null,
         null,
         null,
         null
        ],
        [
         "Baltimore",
         "2.0",
         "50.0",
         "56.568542494923804",
         "10.0",
         "30.0",
         "50.0",
         "70.0",
         "90.0"
        ],
        [
         "Bargersville",
         "1.0",
         "22.0",
         null,
         "22.0",
         "22.0",
         "22.0",
         "22.0",
         "22.0"
        ],
        [
         "Baton Rouge",
         "6.0",
         "33.166666666666664",
         "15.118421434351758",
         "18.0",
         "22.75",
         "31.5",
         "36.5",
         "60.0"
        ],
        [
         "Battle Creek",
         "2.0",
         "36.0",
         "26.870057685088806",
         "17.0",
         "26.5",
         "36.0",
         "45.5",
         "55.0"
        ],
        [
         "Belfast",
         "0.0",
         null,
         null,
         null,
         null,
         null,
         null,
         null
        ],
        [
         "Bellingham",
         "0.0",
         null,
         null,
         null,
         null,
         null,
         null,
         null
        ],
        [
         "Belmont",
         "3.0",
         "41.333333333333336",
         "38.552993831002716",
         "12.0",
         "19.5",
         "27.0",
         "56.0",
         "85.0"
        ],
        [
         "Belt",
         "0.0",
         null,
         null,
         null,
         null,
         null,
         null,
         null
        ],
        [
         "Bend",
         "9.0",
         "45.666666666666664",
         "20.00624902374256",
         "18.0",
         "30.0",
         "40.0",
         "69.0",
         "70.0"
        ],
        [
         "Biglerville",
         "0.0",
         null,
         null,
         null,
         null,
         null,
         null,
         null
        ],
        [
         "Birmingham",
         "11.0",
         "43.09090909090909",
         "25.590836428122255",
         "6.0",
         "30.0",
         "36.0",
         "54.5",
         "103.0"
        ],
        [
         "Black Mountain",
         "2.0",
         "41.0",
         "14.142135623730951",
         "31.0",
         "36.0",
         "41.0",
         "46.0",
         "51.0"
        ],
        [
         "Blanco",
         "7.0",
         "37.0",
         "27.012342857787562",
         "5.0",
         "21.0",
         "25.0",
         "51.0",
         "85.0"
        ],
        [
         "Bloomfield",
         "1.0",
         "11.0",
         null,
         "11.0",
         "11.0",
         "11.0",
         "11.0",
         "11.0"
        ],
        [
         "Bloomington",
         "8.0",
         "37.25",
         "29.261139514965674",
         "12.0",
         "15.75",
         "22.0",
         "56.5",
         "85.0"
        ],
        [
         "Boise",
         "7.0",
         "76.28571428571429",
         "37.70815245944519",
         "12.0",
         "61.0",
         "100.0",
         "100.0",
         "100.0"
        ],
        [
         "Boone",
         "3.0",
         "39.0",
         "31.240998703626616",
         "19.0",
         "21.0",
         "23.0",
         "49.0",
         "75.0"
        ],
        [
         "Boonville",
         "14.0",
         "22.5",
         "25.40063597023326",
         "4.0",
         "7.75",
         "14.0",
         "22.5",
         "80.0"
        ],
        [
         "Boston",
         "18.0",
         "27.5",
         "12.705950435547441",
         "7.0",
         "16.25",
         "29.0",
         "39.0",
         "45.0"
        ],
        [
         "Boulder",
         "26.0",
         "37.5",
         "20.717625346549735",
         "10.0",
         "20.5",
         "32.0",
         "49.5",
         "90.0"
        ],
        [
         "Boynton Beach",
         "1.0",
         "64.0",
         null,
         "64.0",
         "64.0",
         "64.0",
         "64.0",
         "64.0"
        ],
        [
         "Bozeman",
         "4.0",
         "52.25",
         "22.45551157288562",
         "25.0",
         "45.25",
         "52.0",
         "59.0",
         "80.0"
        ],
        [
         "Brevard",
         "6.0",
         "72.16666666666667",
         "22.274798914169054",
         "35.0",
         "65.0",
         "75.0",
         "85.0",
         "98.0"
        ],
        [
         "Bridgewater Corners",
         "5.0",
         "28.6",
         "12.521980673998822",
         "8.0",
         "30.0",
         "30.0",
         "33.0",
         "42.0"
        ],
        [
         "Bridgman",
         "1.0",
         "35.0",
         null,
         "35.0",
         "35.0",
         "35.0",
         "35.0",
         "35.0"
        ],
        [
         "Bronx",
         "3.0",
         "37.333333333333336",
         "18.583146486355137",
         "16.0",
         "31.0",
         "46.0",
         "48.0",
         "50.0"
        ],
        [
         "Brooklyn",
         "28.0",
         "51.07142857142857",
         "25.019886270618997",
         "7.0",
         "34.75",
         "49.0",
         "62.5",
         "111.0"
        ]
       ],
       "shape": {
        "columns": 8,
        "rows": 384
       }
      },
      "text/html": [
       "<div>\n",
       "<style scoped>\n",
       "    .dataframe tbody tr th:only-of-type {\n",
       "        vertical-align: middle;\n",
       "    }\n",
       "\n",
       "    .dataframe tbody tr th {\n",
       "        vertical-align: top;\n",
       "    }\n",
       "\n",
       "    .dataframe thead th {\n",
       "        text-align: right;\n",
       "    }\n",
       "</style>\n",
       "<table border=\"1\" class=\"dataframe\">\n",
       "  <thead>\n",
       "    <tr style=\"text-align: right;\">\n",
       "      <th></th>\n",
       "      <th>count</th>\n",
       "      <th>mean</th>\n",
       "      <th>std</th>\n",
       "      <th>min</th>\n",
       "      <th>25%</th>\n",
       "      <th>50%</th>\n",
       "      <th>75%</th>\n",
       "      <th>max</th>\n",
       "    </tr>\n",
       "    <tr>\n",
       "      <th>city</th>\n",
       "      <th></th>\n",
       "      <th></th>\n",
       "      <th></th>\n",
       "      <th></th>\n",
       "      <th></th>\n",
       "      <th></th>\n",
       "      <th></th>\n",
       "      <th></th>\n",
       "    </tr>\n",
       "  </thead>\n",
       "  <tbody>\n",
       "    <tr>\n",
       "      <th>Abingdon</th>\n",
       "      <td>1.0</td>\n",
       "      <td>135.000000</td>\n",
       "      <td>NaN</td>\n",
       "      <td>135.0</td>\n",
       "      <td>135.00</td>\n",
       "      <td>135.0</td>\n",
       "      <td>135.00</td>\n",
       "      <td>135.0</td>\n",
       "    </tr>\n",
       "    <tr>\n",
       "      <th>Abita Springs</th>\n",
       "      <td>3.0</td>\n",
       "      <td>27.333333</td>\n",
       "      <td>21.455380</td>\n",
       "      <td>13.0</td>\n",
       "      <td>15.00</td>\n",
       "      <td>17.0</td>\n",
       "      <td>34.50</td>\n",
       "      <td>52.0</td>\n",
       "    </tr>\n",
       "    <tr>\n",
       "      <th>Ada</th>\n",
       "      <td>0.0</td>\n",
       "      <td>NaN</td>\n",
       "      <td>NaN</td>\n",
       "      <td>NaN</td>\n",
       "      <td>NaN</td>\n",
       "      <td>NaN</td>\n",
       "      <td>NaN</td>\n",
       "      <td>NaN</td>\n",
       "    </tr>\n",
       "    <tr>\n",
       "      <th>Afton</th>\n",
       "      <td>4.0</td>\n",
       "      <td>43.000000</td>\n",
       "      <td>19.899749</td>\n",
       "      <td>22.0</td>\n",
       "      <td>28.00</td>\n",
       "      <td>45.0</td>\n",
       "      <td>60.00</td>\n",
       "      <td>60.0</td>\n",
       "    </tr>\n",
       "    <tr>\n",
       "      <th>Airway Heights</th>\n",
       "      <td>0.0</td>\n",
       "      <td>NaN</td>\n",
       "      <td>NaN</td>\n",
       "      <td>NaN</td>\n",
       "      <td>NaN</td>\n",
       "      <td>NaN</td>\n",
       "      <td>NaN</td>\n",
       "      <td>NaN</td>\n",
       "    </tr>\n",
       "    <tr>\n",
       "      <th>...</th>\n",
       "      <td>...</td>\n",
       "      <td>...</td>\n",
       "      <td>...</td>\n",
       "      <td>...</td>\n",
       "      <td>...</td>\n",
       "      <td>...</td>\n",
       "      <td>...</td>\n",
       "      <td>...</td>\n",
       "    </tr>\n",
       "    <tr>\n",
       "      <th>Woodinville</th>\n",
       "      <td>4.0</td>\n",
       "      <td>46.750000</td>\n",
       "      <td>18.643587</td>\n",
       "      <td>27.0</td>\n",
       "      <td>39.75</td>\n",
       "      <td>44.0</td>\n",
       "      <td>51.00</td>\n",
       "      <td>72.0</td>\n",
       "    </tr>\n",
       "    <tr>\n",
       "      <th>Worcester</th>\n",
       "      <td>1.0</td>\n",
       "      <td>69.000000</td>\n",
       "      <td>NaN</td>\n",
       "      <td>69.0</td>\n",
       "      <td>69.00</td>\n",
       "      <td>69.0</td>\n",
       "      <td>69.00</td>\n",
       "      <td>69.0</td>\n",
       "    </tr>\n",
       "    <tr>\n",
       "      <th>Yakima</th>\n",
       "      <td>2.0</td>\n",
       "      <td>54.000000</td>\n",
       "      <td>22.627417</td>\n",
       "      <td>38.0</td>\n",
       "      <td>46.00</td>\n",
       "      <td>54.0</td>\n",
       "      <td>62.00</td>\n",
       "      <td>70.0</td>\n",
       "    </tr>\n",
       "    <tr>\n",
       "      <th>Yardley</th>\n",
       "      <td>0.0</td>\n",
       "      <td>NaN</td>\n",
       "      <td>NaN</td>\n",
       "      <td>NaN</td>\n",
       "      <td>NaN</td>\n",
       "      <td>NaN</td>\n",
       "      <td>NaN</td>\n",
       "      <td>NaN</td>\n",
       "    </tr>\n",
       "    <tr>\n",
       "      <th>York</th>\n",
       "      <td>4.0</td>\n",
       "      <td>44.250000</td>\n",
       "      <td>22.779742</td>\n",
       "      <td>20.0</td>\n",
       "      <td>35.00</td>\n",
       "      <td>41.0</td>\n",
       "      <td>50.25</td>\n",
       "      <td>75.0</td>\n",
       "    </tr>\n",
       "  </tbody>\n",
       "</table>\n",
       "<p>384 rows × 8 columns</p>\n",
       "</div>"
      ],
      "text/plain": [
       "                count        mean        std    min     25%    50%     75%  \\\n",
       "city                                                                         \n",
       "Abingdon          1.0  135.000000        NaN  135.0  135.00  135.0  135.00   \n",
       "Abita Springs     3.0   27.333333  21.455380   13.0   15.00   17.0   34.50   \n",
       "Ada               0.0         NaN        NaN    NaN     NaN    NaN     NaN   \n",
       "Afton             4.0   43.000000  19.899749   22.0   28.00   45.0   60.00   \n",
       "Airway Heights    0.0         NaN        NaN    NaN     NaN    NaN     NaN   \n",
       "...               ...         ...        ...    ...     ...    ...     ...   \n",
       "Woodinville       4.0   46.750000  18.643587   27.0   39.75   44.0   51.00   \n",
       "Worcester         1.0   69.000000        NaN   69.0   69.00   69.0   69.00   \n",
       "Yakima            2.0   54.000000  22.627417   38.0   46.00   54.0   62.00   \n",
       "Yardley           0.0         NaN        NaN    NaN     NaN    NaN     NaN   \n",
       "York              4.0   44.250000  22.779742   20.0   35.00   41.0   50.25   \n",
       "\n",
       "                  max  \n",
       "city                   \n",
       "Abingdon        135.0  \n",
       "Abita Springs    52.0  \n",
       "Ada               NaN  \n",
       "Afton            60.0  \n",
       "Airway Heights    NaN  \n",
       "...               ...  \n",
       "Woodinville      72.0  \n",
       "Worcester        69.0  \n",
       "Yakima           70.0  \n",
       "Yardley           NaN  \n",
       "York             75.0  \n",
       "\n",
       "[384 rows x 8 columns]"
      ]
     },
     "execution_count": 166,
     "metadata": {},
     "output_type": "execute_result"
    }
   ],
   "source": [
    "combin.groupby(\"city\")[\"ibu\"].describe()"
   ]
  },
  {
   "attachments": {},
   "cell_type": "markdown",
   "metadata": {},
   "source": [
    "## Ejercicio 23\n",
    "Consigue en un DataFrame de todas las cervezas en cuyas cervecerías al menos haya una cerveza con un `abv` mínimo 0.07."
   ]
  },
  {
   "cell_type": "code",
   "execution_count": 98,
   "metadata": {},
   "outputs": [],
   "source": [
    "# todas las cervezas, que venda una cervecería, donde al menos una de ellas sea de 0.07 para arriba"
   ]
  },
  {
   "cell_type": "code",
   "execution_count": 170,
   "metadata": {},
   "outputs": [
    {
     "data": {
      "application/vnd.microsoft.datawrangler.viewer.v0+json": {
       "columns": [
        {
         "name": "index",
         "rawType": "int64",
         "type": "integer"
        },
        {
         "name": "abv",
         "rawType": "float64",
         "type": "float"
        },
        {
         "name": "ibu",
         "rawType": "float64",
         "type": "float"
        },
        {
         "name": "id",
         "rawType": "int64",
         "type": "integer"
        },
        {
         "name": "name",
         "rawType": "object",
         "type": "string"
        },
        {
         "name": "style",
         "rawType": "object",
         "type": "string"
        },
        {
         "name": "brewery_id",
         "rawType": "int64",
         "type": "integer"
        },
        {
         "name": "ounces",
         "rawType": "float64",
         "type": "float"
        },
        {
         "name": "brewery_name",
         "rawType": "object",
         "type": "string"
        },
        {
         "name": "city",
         "rawType": "object",
         "type": "string"
        },
        {
         "name": "state",
         "rawType": "object",
         "type": "string"
        }
       ],
       "conversionMethod": "pd.DataFrame",
       "ref": "4ab2cc79-29ba-4580-86b3-f551983019b4",
       "rows": [
        [
         "2",
         "0.071",
         null,
         "2264",
         "Rise of the Phoenix",
         "American IPA",
         "177",
         "12.0",
         "18th Street Brewery",
         "Gary",
         " IN"
        ],
        [
         "3",
         "0.09",
         null,
         "2263",
         "Sinister",
         "American Double / Imperial IPA",
         "177",
         "12.0",
         "18th Street Brewery",
         "Gary",
         " IN"
        ],
        [
         "4",
         "0.075",
         null,
         "2262",
         "Sex and Candy",
         "American IPA",
         "177",
         "12.0",
         "18th Street Brewery",
         "Gary",
         " IN"
        ],
        [
         "5",
         "0.077",
         null,
         "2261",
         "Black Exodus",
         "Oatmeal Stout",
         "177",
         "12.0",
         "18th Street Brewery",
         "Gary",
         " IN"
        ],
        [
         "9",
         "0.086",
         null,
         "2131",
         "Cone Crusher",
         "American Double / Imperial IPA",
         "177",
         "12.0",
         "18th Street Brewery",
         "Gary",
         " IN"
        ],
        [
         "10",
         "0.072",
         null,
         "2099",
         "Sophomoric Saison",
         "Saison / Farmhouse Ale",
         "177",
         "12.0",
         "18th Street Brewery",
         "Gary",
         " IN"
        ],
        [
         "11",
         "0.073",
         null,
         "2098",
         "Regional Ring Of Fire",
         "Saison / Farmhouse Ale",
         "177",
         "12.0",
         "18th Street Brewery",
         "Gary",
         " IN"
        ],
        [
         "13",
         "0.085",
         null,
         "1980",
         "Troll Destroyer",
         "Belgian IPA",
         "177",
         "12.0",
         "18th Street Brewery",
         "Gary",
         " IN"
        ],
        [
         "19",
         "0.082",
         null,
         "1593",
         "He Said Baltic-Style Porter",
         "Baltic Porter",
         "368",
         "12.0",
         "21st Amendment Brewery",
         "San Francisco",
         " CA"
        ],
        [
         "20",
         "0.082",
         null,
         "1592",
         "He Said Belgian-Style Tripel",
         "Tripel",
         "368",
         "12.0",
         "21st Amendment Brewery",
         "San Francisco",
         " CA"
        ],
        [
         "21",
         "0.099",
         "92.0",
         "1036",
         "Lower De Boom",
         "American Barleywine",
         "368",
         "8.4",
         "21st Amendment Brewery",
         "San Francisco",
         " CA"
        ],
        [
         "22",
         "0.079",
         "45.0",
         "1024",
         "Fireside Chat",
         "Winter Warmer",
         "368",
         "12.0",
         "21st Amendment Brewery",
         "San Francisco",
         " CA"
        ],
        [
         "23",
         "0.079",
         null,
         "976",
         "Marooned On Hog Island",
         "American Stout",
         "368",
         "12.0",
         "21st Amendment Brewery",
         "San Francisco",
         " CA"
        ],
        [
         "31",
         "0.085",
         "52.0",
         "531",
         "Special Edition: Allies Win The War!",
         "English Strong Ale",
         "368",
         "12.0",
         "21st Amendment Brewery",
         "San Francisco",
         " CA"
        ],
        [
         "32",
         "0.097",
         "94.0",
         "432",
         "Hop Crisis",
         "American Double / Imperial IPA",
         "368",
         "12.0",
         "21st Amendment Brewery",
         "San Francisco",
         " CA"
        ],
        [
         "34",
         "0.079",
         "45.0",
         "321",
         "Fireside Chat (2010)",
         "Winter Warmer",
         "368",
         "12.0",
         "21st Amendment Brewery",
         "San Francisco",
         " CA"
        ],
        [
         "36",
         "0.083",
         "35.0",
         "11",
         "Monk's Blood",
         "Belgian Dark Ale",
         "368",
         "12.0",
         "21st Amendment Brewery",
         "San Francisco",
         " CA"
        ],
        [
         "52",
         "0.09",
         null,
         "2220",
         "Barn Yeti",
         "Belgian Strong Dark Ale",
         "27",
         "16.0",
         "450 North Brewing Company",
         "Columbus",
         " IN"
        ],
        [
         "54",
         "0.09",
         "50.0",
         "2218",
         "Ironman",
         "English Strong Ale",
         "27",
         "16.0",
         "450 North Brewing Company",
         "Columbus",
         " IN"
        ],
        [
         "60",
         "0.084",
         "82.0",
         "47",
         "Ballz Deep Double IPA",
         "American Double / Imperial IPA",
         "481",
         "16.0",
         "7 Seas Brewing Company",
         "Gig Harbor",
         " WA"
        ],
        [
         "67",
         "0.082",
         "68.0",
         "2540",
         "Citra Ass Down",
         "American IPA",
         "62",
         "16.0",
         "Against The Grain Brewery",
         "Louisville",
         " KY"
        ],
        [
         "69",
         "0.08",
         "68.0",
         "2686",
         "Citra Ass Down",
         "American Double / Imperial IPA",
         "1",
         "16.0",
         "Against the Grain Brewery",
         "Louisville",
         " KY"
        ],
        [
         "70",
         "0.125",
         "80.0",
         "2685",
         "London Balling",
         "English Barleywine",
         "1",
         "16.0",
         "Against the Grain Brewery",
         "Louisville",
         " KY"
        ],
        [
         "71",
         "0.077",
         "25.0",
         "2684",
         "35 K",
         "Milk / Sweet Stout",
         "1",
         "16.0",
         "Against the Grain Brewery",
         "Louisville",
         " KY"
        ],
        [
         "77",
         "0.076",
         "68.0",
         "2678",
         "Rico Sauvin",
         "American Double / Imperial IPA",
         "1",
         "16.0",
         "Against the Grain Brewery",
         "Louisville",
         " KY"
        ],
        [
         "87",
         "0.082",
         "103.0",
         "2401",
         "Yellow Wolf Imperial IPA",
         "American Double / Imperial IPA",
         "117",
         "12.0",
         "Alameda Brewing",
         "Portland",
         " OR"
        ],
        [
         "127",
         "0.085",
         null,
         "2039",
         "Uroboros",
         "American Stout",
         "193",
         "12.0",
         "Anthem Brewing Company",
         "Oklahoma City",
         " OK"
        ],
        [
         "128",
         "0.071",
         "75.0",
         "2511",
         "Long Leaf",
         "American IPA",
         "69",
         "16.0",
         "Appalachian Mountain Brewery",
         "Boone",
         " NC"
        ],
        [
         "134",
         "0.092",
         "50.0",
         "1333",
         "Quakertown Stout",
         "American Double / Imperial Stout",
         "426",
         "12.0",
         "Armadillo Ale Works",
         "Denton",
         " TX"
        ],
        [
         "142",
         "0.077",
         null,
         "1639",
         "Aslan IPA",
         "American IPA",
         "353",
         "16.0",
         "Aslan Brewing Company",
         "Bellingham",
         " WA"
        ],
        [
         "143",
         "0.077",
         null,
         "1638",
         "Aslan Amber",
         "American Amber / Red Ale",
         "353",
         "16.0",
         "Aslan Brewing Company",
         "Bellingham",
         " WA"
        ],
        [
         "147",
         "0.082",
         "138.0",
         "980",
         "Bitter Bitch Imperial IPA",
         "American Double / Imperial IPA",
         "374",
         "12.0",
         "Astoria Brewing Company",
         "Astoria",
         " OR"
        ],
        [
         "150",
         "0.075",
         "115.0",
         "2503",
         "Hop A-Peel",
         "American Double / Imperial IPA",
         "72",
         "16.0",
         "Atwater Brewery",
         "Detroit",
         " MI"
        ],
        [
         "161",
         "0.08",
         null,
         "2589",
         "Raja",
         "American Double / Imperial IPA",
         "37",
         "12.0",
         "Avery Brewing Company",
         "Boulder",
         " CO"
        ],
        [
         "168",
         "0.072",
         "22.0",
         "1579",
         "OktoberBeast",
         "Märzen / Oktoberfest",
         "360",
         "12.0",
         "Aviator Brewing Company",
         "Fuquay-Varina",
         " NC"
        ],
        [
         "171",
         "0.092",
         "5.0",
         "704",
         "Devils Tramping Ground Tripel",
         "Tripel",
         "360",
         "12.0",
         "Aviator Brewing Company",
         "Fuquay-Varina",
         " NC"
        ],
        [
         "173",
         "0.086",
         null,
         "2058",
         "Palate Mallet",
         "American Double / Imperial IPA",
         "235",
         "12.0",
         "Back East Brewing Company",
         "Bloomfield",
         " CT"
        ],
        [
         "212",
         "0.088",
         "108.0",
         "1806",
         "Hoptopus Double IPA",
         "American Double / Imperial IPA",
         "306",
         "16.0",
         "Beach Brewing Company",
         "Virginia Beach",
         " VA"
        ],
        [
         "224",
         "0.083",
         null,
         "2557",
         "Uber Lupin Schwarz IPA",
         "American Double / Imperial IPA",
         "53",
         "16.0",
         "Bent Brewstillery",
         "Roseville",
         " MN"
        ],
        [
         "227",
         "0.072",
         "87.0",
         "2410",
         "Harness the Winter",
         "American IPA",
         "75",
         "12.0",
         "Bent Paddle Brewing Company",
         "Duluth",
         " MN"
        ],
        [
         "234",
         "0.078",
         null,
         "1158",
         "La Frontera Premium IPA",
         "American IPA",
         "463",
         "12.0",
         "Big Bend Brewing Company",
         "Alpine",
         " TX"
        ],
        [
         "239",
         "0.081",
         "17.0",
         "2104",
         "Aprè Shred",
         "American Strong Ale",
         "220",
         "16.0",
         "Big Choice Brewing",
         "Broomfield",
         " CO"
        ],
        [
         "240",
         "0.095",
         "104.0",
         "1762",
         "Hemlock Double IPA",
         "American Double / Imperial IPA",
         "220",
         "12.0",
         "Big Choice Brewing",
         "Broomfield",
         " CO"
        ],
        [
         "246",
         "0.08",
         "54.0",
         "2639",
         "Dark Star",
         "American Stout",
         "8",
         "16.0",
         "Big Lake Brewing",
         "Holland",
         " MI"
        ],
        [
         "249",
         "0.075",
         "60.0",
         "2585",
         "Galaxy IPA",
         "American IPA",
         "40",
         "16.0",
         "Big Muddy Brewing",
         "Murphysboro",
         " IL"
        ],
        [
         "256",
         "0.072",
         "60.0",
         "1456",
         "Powder Hound Winter Ale",
         "English Strong Ale",
         "336",
         "12.0",
         "Big Sky Brewing Company",
         "Missoula",
         " MT"
        ],
        [
         "267",
         "0.099",
         "85.0",
         "1256",
         "Forest Fire Imperial Smoked Rye",
         "Rye Beer",
         "444",
         "16.0",
         "Big Wood Brewery",
         "Vadnais Heights",
         " MN"
        ],
        [
         "268",
         "0.098",
         "76.0",
         "1255",
         "Bad Axe Imperial IPA",
         "American Double / Imperial IPA",
         "444",
         "16.0",
         "Big Wood Brewery",
         "Vadnais Heights",
         " MN"
        ],
        [
         "275",
         "0.072",
         "75.0",
         "2620",
         "Saucy Intruder",
         "Rye Beer",
         "18",
         "16.0",
         "Black Acre Brewing Co.",
         "Indianapolis",
         " IN"
        ],
        [
         "277",
         "0.075",
         "35.0",
         "1898",
         "Blackmarket Rye IPA",
         "American IPA",
         "112",
         "12.0",
         "Black Market Brewing Company",
         "Temecula",
         " CA"
        ]
       ],
       "shape": {
        "columns": 10,
        "rows": 409
       }
      },
      "text/html": [
       "<div>\n",
       "<style scoped>\n",
       "    .dataframe tbody tr th:only-of-type {\n",
       "        vertical-align: middle;\n",
       "    }\n",
       "\n",
       "    .dataframe tbody tr th {\n",
       "        vertical-align: top;\n",
       "    }\n",
       "\n",
       "    .dataframe thead th {\n",
       "        text-align: right;\n",
       "    }\n",
       "</style>\n",
       "<table border=\"1\" class=\"dataframe\">\n",
       "  <thead>\n",
       "    <tr style=\"text-align: right;\">\n",
       "      <th></th>\n",
       "      <th>abv</th>\n",
       "      <th>ibu</th>\n",
       "      <th>id</th>\n",
       "      <th>name</th>\n",
       "      <th>style</th>\n",
       "      <th>brewery_id</th>\n",
       "      <th>ounces</th>\n",
       "      <th>brewery_name</th>\n",
       "      <th>city</th>\n",
       "      <th>state</th>\n",
       "    </tr>\n",
       "  </thead>\n",
       "  <tbody>\n",
       "    <tr>\n",
       "      <th>2</th>\n",
       "      <td>0.071</td>\n",
       "      <td>NaN</td>\n",
       "      <td>2264</td>\n",
       "      <td>Rise of the Phoenix</td>\n",
       "      <td>American IPA</td>\n",
       "      <td>177</td>\n",
       "      <td>12.0</td>\n",
       "      <td>18th Street Brewery</td>\n",
       "      <td>Gary</td>\n",
       "      <td>IN</td>\n",
       "    </tr>\n",
       "    <tr>\n",
       "      <th>3</th>\n",
       "      <td>0.090</td>\n",
       "      <td>NaN</td>\n",
       "      <td>2263</td>\n",
       "      <td>Sinister</td>\n",
       "      <td>American Double / Imperial IPA</td>\n",
       "      <td>177</td>\n",
       "      <td>12.0</td>\n",
       "      <td>18th Street Brewery</td>\n",
       "      <td>Gary</td>\n",
       "      <td>IN</td>\n",
       "    </tr>\n",
       "    <tr>\n",
       "      <th>4</th>\n",
       "      <td>0.075</td>\n",
       "      <td>NaN</td>\n",
       "      <td>2262</td>\n",
       "      <td>Sex and Candy</td>\n",
       "      <td>American IPA</td>\n",
       "      <td>177</td>\n",
       "      <td>12.0</td>\n",
       "      <td>18th Street Brewery</td>\n",
       "      <td>Gary</td>\n",
       "      <td>IN</td>\n",
       "    </tr>\n",
       "    <tr>\n",
       "      <th>5</th>\n",
       "      <td>0.077</td>\n",
       "      <td>NaN</td>\n",
       "      <td>2261</td>\n",
       "      <td>Black Exodus</td>\n",
       "      <td>Oatmeal Stout</td>\n",
       "      <td>177</td>\n",
       "      <td>12.0</td>\n",
       "      <td>18th Street Brewery</td>\n",
       "      <td>Gary</td>\n",
       "      <td>IN</td>\n",
       "    </tr>\n",
       "    <tr>\n",
       "      <th>9</th>\n",
       "      <td>0.086</td>\n",
       "      <td>NaN</td>\n",
       "      <td>2131</td>\n",
       "      <td>Cone Crusher</td>\n",
       "      <td>American Double / Imperial IPA</td>\n",
       "      <td>177</td>\n",
       "      <td>12.0</td>\n",
       "      <td>18th Street Brewery</td>\n",
       "      <td>Gary</td>\n",
       "      <td>IN</td>\n",
       "    </tr>\n",
       "    <tr>\n",
       "      <th>...</th>\n",
       "      <td>...</td>\n",
       "      <td>...</td>\n",
       "      <td>...</td>\n",
       "      <td>...</td>\n",
       "      <td>...</td>\n",
       "      <td>...</td>\n",
       "      <td>...</td>\n",
       "      <td>...</td>\n",
       "      <td>...</td>\n",
       "      <td>...</td>\n",
       "    </tr>\n",
       "    <tr>\n",
       "      <th>2380</th>\n",
       "      <td>0.080</td>\n",
       "      <td>31.0</td>\n",
       "      <td>761</td>\n",
       "      <td>P-51 Porter</td>\n",
       "      <td>American Porter</td>\n",
       "      <td>509</td>\n",
       "      <td>16.0</td>\n",
       "      <td>Wingman Brewers</td>\n",
       "      <td>Tacoma</td>\n",
       "      <td>WA</td>\n",
       "    </tr>\n",
       "    <tr>\n",
       "      <th>2382</th>\n",
       "      <td>0.071</td>\n",
       "      <td>60.0</td>\n",
       "      <td>2148</td>\n",
       "      <td>#002 American I.P.A.</td>\n",
       "      <td>American IPA</td>\n",
       "      <td>211</td>\n",
       "      <td>12.0</td>\n",
       "      <td>Wisconsin Brewing Company</td>\n",
       "      <td>Verona</td>\n",
       "      <td>WI</td>\n",
       "    </tr>\n",
       "    <tr>\n",
       "      <th>2398</th>\n",
       "      <td>0.077</td>\n",
       "      <td>30.0</td>\n",
       "      <td>1513</td>\n",
       "      <td>Lights Out Vanilla Cream Extra Stout</td>\n",
       "      <td>American Double / Imperial IPA</td>\n",
       "      <td>199</td>\n",
       "      <td>12.0</td>\n",
       "      <td>Worthy Brewing Company</td>\n",
       "      <td>Bend</td>\n",
       "      <td>OR</td>\n",
       "    </tr>\n",
       "    <tr>\n",
       "      <th>2402</th>\n",
       "      <td>0.082</td>\n",
       "      <td>NaN</td>\n",
       "      <td>1316</td>\n",
       "      <td>Colorojo Imperial Red Ale</td>\n",
       "      <td>American Strong Ale</td>\n",
       "      <td>424</td>\n",
       "      <td>12.0</td>\n",
       "      <td>Wynkoop Brewing Company</td>\n",
       "      <td>Denver</td>\n",
       "      <td>CO</td>\n",
       "    </tr>\n",
       "    <tr>\n",
       "      <th>2404</th>\n",
       "      <td>0.075</td>\n",
       "      <td>NaN</td>\n",
       "      <td>1035</td>\n",
       "      <td>Rocky Mountain Oyster Stout</td>\n",
       "      <td>American Stout</td>\n",
       "      <td>424</td>\n",
       "      <td>12.0</td>\n",
       "      <td>Wynkoop Brewing Company</td>\n",
       "      <td>Denver</td>\n",
       "      <td>CO</td>\n",
       "    </tr>\n",
       "  </tbody>\n",
       "</table>\n",
       "<p>409 rows × 10 columns</p>\n",
       "</div>"
      ],
      "text/plain": [
       "        abv   ibu    id                                  name  \\\n",
       "2     0.071   NaN  2264                   Rise of the Phoenix   \n",
       "3     0.090   NaN  2263                              Sinister   \n",
       "4     0.075   NaN  2262                         Sex and Candy   \n",
       "5     0.077   NaN  2261                          Black Exodus   \n",
       "9     0.086   NaN  2131                          Cone Crusher   \n",
       "...     ...   ...   ...                                   ...   \n",
       "2380  0.080  31.0   761                           P-51 Porter   \n",
       "2382  0.071  60.0  2148                  #002 American I.P.A.   \n",
       "2398  0.077  30.0  1513  Lights Out Vanilla Cream Extra Stout   \n",
       "2402  0.082   NaN  1316             Colorojo Imperial Red Ale   \n",
       "2404  0.075   NaN  1035           Rocky Mountain Oyster Stout   \n",
       "\n",
       "                               style  brewery_id  ounces  \\\n",
       "2                       American IPA         177    12.0   \n",
       "3     American Double / Imperial IPA         177    12.0   \n",
       "4                       American IPA         177    12.0   \n",
       "5                      Oatmeal Stout         177    12.0   \n",
       "9     American Double / Imperial IPA         177    12.0   \n",
       "...                              ...         ...     ...   \n",
       "2380                 American Porter         509    16.0   \n",
       "2382                    American IPA         211    12.0   \n",
       "2398  American Double / Imperial IPA         199    12.0   \n",
       "2402             American Strong Ale         424    12.0   \n",
       "2404                  American Stout         424    12.0   \n",
       "\n",
       "                   brewery_name    city state  \n",
       "2           18th Street Brewery    Gary    IN  \n",
       "3           18th Street Brewery    Gary    IN  \n",
       "4           18th Street Brewery    Gary    IN  \n",
       "5           18th Street Brewery    Gary    IN  \n",
       "9           18th Street Brewery    Gary    IN  \n",
       "...                         ...     ...   ...  \n",
       "2380            Wingman Brewers  Tacoma    WA  \n",
       "2382  Wisconsin Brewing Company  Verona    WI  \n",
       "2398     Worthy Brewing Company    Bend    OR  \n",
       "2402    Wynkoop Brewing Company  Denver    CO  \n",
       "2404    Wynkoop Brewing Company  Denver    CO  \n",
       "\n",
       "[409 rows x 10 columns]"
      ]
     },
     "execution_count": 170,
     "metadata": {},
     "output_type": "execute_result"
    }
   ],
   "source": [
    "combin[combin[\"abv\"]>0.07].round(3)"
   ]
  },
  {
   "attachments": {},
   "cell_type": "markdown",
   "metadata": {},
   "source": [
    "## Ejercicio 24\n",
    "Teniendo en cuenta la media de amargor de todas las cervezas, obtén una tabla con las cervezas cuyos estados tengan una media de amargor en cerveza por encima de la media"
   ]
  },
  {
   "cell_type": "markdown",
   "metadata": {},
   "source": [
    "Para esto, calculamos la media del IBU para cada estado. Creamos una clumna, median_cerv para cada media. \n",
    "\n",
    "ahra necesitamos filtrarlas por lasque tienen una media de amargor por encima de la media"
   ]
  },
  {
   "cell_type": "code",
   "execution_count": 104,
   "metadata": {},
   "outputs": [],
   "source": [
    "# Las cervezas que se encuentran en aquellos estados, cuya media de amargor, sea superior a la media de amargor total"
   ]
  },
  {
   "cell_type": "code",
   "execution_count": 172,
   "metadata": {},
   "outputs": [
    {
     "data": {
      "text/plain": [
       "np.float64(42.71316725978647)"
      ]
     },
     "execution_count": 172,
     "metadata": {},
     "output_type": "execute_result"
    }
   ],
   "source": [
    "beer[\"ibu\"].mean()"
   ]
  },
  {
   "cell_type": "code",
   "execution_count": 175,
   "metadata": {},
   "outputs": [
    {
     "data": {
      "application/vnd.microsoft.datawrangler.viewer.v0+json": {
       "columns": [
        {
         "name": "index",
         "rawType": "int64",
         "type": "integer"
        },
        {
         "name": "ibu",
         "rawType": "float64",
         "type": "float"
        },
        {
         "name": "median_cerv",
         "rawType": "float64",
         "type": "float"
        },
        {
         "name": "name",
         "rawType": "object",
         "type": "string"
        }
       ],
       "conversionMethod": "pd.DataFrame",
       "ref": "a2f47433-f57c-4749-9079-3327f7ce3cc6",
       "rows": [
        [
         "0",
         null,
         "47.943",
         "Pub Beer"
        ],
        [
         "1",
         null,
         "42.989",
         "Devil's Cup"
        ],
        [
         "2",
         null,
         "42.989",
         "Rise of the Phoenix"
        ],
        [
         "3",
         null,
         "42.989",
         "Sinister"
        ],
        [
         "4",
         null,
         "42.989",
         "Sex and Candy"
        ],
        [
         "5",
         null,
         "42.989",
         "Black Exodus"
        ],
        [
         "6",
         null,
         "42.989",
         "Lake Street Express"
        ],
        [
         "7",
         null,
         "42.989",
         "Foreman"
        ],
        [
         "8",
         null,
         "42.989",
         "Jade"
        ],
        [
         "9",
         null,
         "42.989",
         "Cone Crusher"
        ],
        [
         "10",
         null,
         "42.989",
         "Sophomoric Saison"
        ],
        [
         "11",
         null,
         "42.989",
         "Regional Ring Of Fire"
        ],
        [
         "12",
         null,
         "42.989",
         "Garce Selé"
        ],
        [
         "13",
         null,
         "42.989",
         "Troll Destroyer"
        ],
        [
         "14",
         "60.0",
         "42.989",
         "Bitter Bitch"
        ],
        [
         "15",
         null,
         "47.943",
         "Ginja Ninja"
        ],
        [
         "16",
         null,
         "47.943",
         "Cherried Away"
        ],
        [
         "17",
         null,
         "47.943",
         "Rhubarbarian"
        ],
        [
         "18",
         null,
         "47.943",
         "BrightCider"
        ],
        [
         "19",
         null,
         "46.281",
         "He Said Baltic-Style Porter"
        ],
        [
         "20",
         null,
         "46.281",
         "He Said Belgian-Style Tripel"
        ],
        [
         "21",
         "92.0",
         "46.281",
         "Lower De Boom"
        ],
        [
         "22",
         "45.0",
         "46.281",
         "Fireside Chat"
        ],
        [
         "23",
         null,
         "46.281",
         "Marooned On Hog Island"
        ],
        [
         "24",
         "42.0",
         "46.281",
         "Bitter American"
        ],
        [
         "25",
         "17.0",
         "46.281",
         "Hell or High Watermelon Wheat (2009)"
        ],
        [
         "26",
         "17.0",
         "46.281",
         "Hell or High Watermelon Wheat (2009)"
        ],
        [
         "27",
         "17.0",
         "46.281",
         "21st Amendment Watermelon Wheat Beer (2006)"
        ],
        [
         "28",
         "70.0",
         "46.281",
         "21st Amendment IPA (2006)"
        ],
        [
         "29",
         "70.0",
         "46.281",
         "Brew Free! or Die IPA (2008)"
        ],
        [
         "30",
         "70.0",
         "46.281",
         "Brew Free! or Die IPA (2009)"
        ],
        [
         "31",
         "52.0",
         "46.281",
         "Special Edition: Allies Win The War!"
        ],
        [
         "32",
         "94.0",
         "46.281",
         "Hop Crisis"
        ],
        [
         "33",
         "42.0",
         "46.281",
         "Bitter American (2011)"
        ],
        [
         "34",
         "45.0",
         "46.281",
         "Fireside Chat (2010)"
        ],
        [
         "35",
         "65.0",
         "46.281",
         "Back in Black"
        ],
        [
         "36",
         "35.0",
         "46.281",
         "Monk's Blood"
        ],
        [
         "37",
         "65.0",
         "46.281",
         "Brew Free! or Die IPA"
        ],
        [
         "38",
         "17.0",
         "46.281",
         "Hell or High Watermelon Wheat"
        ],
        [
         "39",
         "82.0",
         "46.757",
         "Bimini Twist"
        ],
        [
         "40",
         null,
         "46.757",
         "Beach Blonde"
        ],
        [
         "41",
         null,
         "46.757",
         "Rod Bender Red"
        ],
        [
         "50",
         null,
         "42.989",
         "Galaxyfest"
        ],
        [
         "51",
         "45.0",
         "42.989",
         "Citrafest"
        ],
        [
         "52",
         null,
         "42.989",
         "Barn Yeti"
        ],
        [
         "53",
         "65.0",
         "42.989",
         "Scarecrow"
        ],
        [
         "54",
         "50.0",
         "42.989",
         "Ironman"
        ],
        [
         "55",
         "15.0",
         "42.989",
         "Honey Kolsch"
        ],
        [
         "56",
         "18.0",
         "42.989",
         "Copperhead Amber"
        ],
        [
         "57",
         "75.0",
         "44.977",
         "Rude Parrot IPA"
        ]
       ],
       "shape": {
        "columns": 3,
        "rows": 1288
       }
      },
      "text/html": [
       "<div>\n",
       "<style scoped>\n",
       "    .dataframe tbody tr th:only-of-type {\n",
       "        vertical-align: middle;\n",
       "    }\n",
       "\n",
       "    .dataframe tbody tr th {\n",
       "        vertical-align: top;\n",
       "    }\n",
       "\n",
       "    .dataframe thead th {\n",
       "        text-align: right;\n",
       "    }\n",
       "</style>\n",
       "<table border=\"1\" class=\"dataframe\">\n",
       "  <thead>\n",
       "    <tr style=\"text-align: right;\">\n",
       "      <th></th>\n",
       "      <th>ibu</th>\n",
       "      <th>median_cerv</th>\n",
       "      <th>name</th>\n",
       "    </tr>\n",
       "  </thead>\n",
       "  <tbody>\n",
       "    <tr>\n",
       "      <th>0</th>\n",
       "      <td>NaN</td>\n",
       "      <td>47.943</td>\n",
       "      <td>Pub Beer</td>\n",
       "    </tr>\n",
       "    <tr>\n",
       "      <th>1</th>\n",
       "      <td>NaN</td>\n",
       "      <td>42.989</td>\n",
       "      <td>Devil's Cup</td>\n",
       "    </tr>\n",
       "    <tr>\n",
       "      <th>2</th>\n",
       "      <td>NaN</td>\n",
       "      <td>42.989</td>\n",
       "      <td>Rise of the Phoenix</td>\n",
       "    </tr>\n",
       "    <tr>\n",
       "      <th>3</th>\n",
       "      <td>NaN</td>\n",
       "      <td>42.989</td>\n",
       "      <td>Sinister</td>\n",
       "    </tr>\n",
       "    <tr>\n",
       "      <th>4</th>\n",
       "      <td>NaN</td>\n",
       "      <td>42.989</td>\n",
       "      <td>Sex and Candy</td>\n",
       "    </tr>\n",
       "    <tr>\n",
       "      <th>...</th>\n",
       "      <td>...</td>\n",
       "      <td>...</td>\n",
       "      <td>...</td>\n",
       "    </tr>\n",
       "    <tr>\n",
       "      <th>2405</th>\n",
       "      <td>45.0</td>\n",
       "      <td>47.432</td>\n",
       "      <td>Belgorado</td>\n",
       "    </tr>\n",
       "    <tr>\n",
       "      <th>2406</th>\n",
       "      <td>NaN</td>\n",
       "      <td>47.432</td>\n",
       "      <td>Rail Yard Ale</td>\n",
       "    </tr>\n",
       "    <tr>\n",
       "      <th>2407</th>\n",
       "      <td>NaN</td>\n",
       "      <td>47.432</td>\n",
       "      <td>B3K Black Lager</td>\n",
       "    </tr>\n",
       "    <tr>\n",
       "      <th>2408</th>\n",
       "      <td>40.0</td>\n",
       "      <td>47.432</td>\n",
       "      <td>Silverback Pale Ale</td>\n",
       "    </tr>\n",
       "    <tr>\n",
       "      <th>2409</th>\n",
       "      <td>NaN</td>\n",
       "      <td>47.432</td>\n",
       "      <td>Rail Yard Ale (2009)</td>\n",
       "    </tr>\n",
       "  </tbody>\n",
       "</table>\n",
       "<p>1288 rows × 3 columns</p>\n",
       "</div>"
      ],
      "text/plain": [
       "       ibu  median_cerv                  name\n",
       "0      NaN       47.943              Pub Beer\n",
       "1      NaN       42.989           Devil's Cup\n",
       "2      NaN       42.989   Rise of the Phoenix\n",
       "3      NaN       42.989              Sinister\n",
       "4      NaN       42.989         Sex and Candy\n",
       "...    ...          ...                   ...\n",
       "2405  45.0       47.432             Belgorado\n",
       "2406   NaN       47.432         Rail Yard Ale\n",
       "2407   NaN       47.432       B3K Black Lager\n",
       "2408  40.0       47.432   Silverback Pale Ale\n",
       "2409   NaN       47.432  Rail Yard Ale (2009)\n",
       "\n",
       "[1288 rows x 3 columns]"
      ]
     },
     "execution_count": 175,
     "metadata": {},
     "output_type": "execute_result"
    }
   ],
   "source": [
    "combin[\"median_cerv\"] = combin.groupby(\"state\")[\"ibu\"].transform(\"mean\")\n",
    "combin.loc[combin[\"ibu\"].mean()<combin[\"median_cerv\"], [\"ibu\", \"median_cerv\", \"name\"]].round(3)"
   ]
  },
  {
   "cell_type": "code",
   "execution_count": null,
   "metadata": {},
   "outputs": [],
   "source": []
  }
 ],
 "metadata": {
  "kernelspec": {
   "display_name": "Python 3",
   "language": "python",
   "name": "python3"
  },
  "language_info": {
   "codemirror_mode": {
    "name": "ipython",
    "version": 3
   },
   "file_extension": ".py",
   "mimetype": "text/x-python",
   "name": "python",
   "nbconvert_exporter": "python",
   "pygments_lexer": "ipython3",
   "version": "3.11.9"
  }
 },
 "nbformat": 4,
 "nbformat_minor": 4
}
