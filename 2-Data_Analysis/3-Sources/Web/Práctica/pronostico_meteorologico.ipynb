{
 "cells": [
  {
   "cell_type": "markdown",
   "metadata": {},
   "source": [
    "## Análisis de Datos Meteorológicos con una API Pública\n",
    "Obtener datos del clima de una ciudad usando la API de Open-Meteo (https://open-meteo.com/) y analizar la temperatura."
   ]
  },
  {
   "cell_type": "markdown",
   "metadata": {},
   "source": [
    "* Haz una petición a la API para que devuelva el pronóstico de las temperaturas para una semana en Bilbao. El parámetro correspondiente es `temperature_2m` además de la latitud y la longitud.\n",
    "* Procesa la respuesta en formato JSON para obtener dos listas: una con la lista de temperaturas y otra con las fechas-horas correspondientes.\n",
    "* Crea un DataFrame con esas dos columnas: `Hora` y `Temperatura`\n",
    "* Elige la gráfica adecuada y visualiza el pronóstico de temperaturas."
   ]
  },
  {
   "cell_type": "markdown",
   "metadata": {},
   "source": [
    "Para crear la variable `Hora` del DataFrame puedes introducir directamente la lista que se obtiene del campo `data[\"hourly\"][\"time\"]` o procesar esa lista mediante el siguiente código:\n",
    "\n",
    "`hours = pd.date_range(start=lista_de_horas, periods=len(temps), freq=\"H\")`"
   ]
  },
  {
   "cell_type": "code",
   "execution_count": 1,
   "metadata": {},
   "outputs": [
    {
     "name": "stdout",
     "output_type": "stream",
     "text": [
      "{'latitude': 43.26, 'longitude': -2.9300003, 'generationtime_ms': 0.30493736267089844, 'utc_offset_seconds': 3600, 'timezone': 'Europe/Madrid', 'timezone_abbreviation': 'GMT+1', 'elevation': 31.0, 'current_weather_units': {'time': 'iso8601', 'interval': 'seconds', 'temperature': '°C', 'windspeed': 'km/h', 'winddirection': '°', 'is_day': '', 'weathercode': 'wmo code'}, 'current_weather': {'time': '2025-03-27T16:15', 'interval': 900, 'temperature': 13.9, 'windspeed': 10.0, 'winddirection': 334, 'is_day': 1, 'weathercode': 3}, 'hourly_units': {'time': 'iso8601', 'temperature_2m': '°C'}, 'hourly': {'time': ['2025-03-27T00:00', '2025-03-27T01:00', '2025-03-27T02:00', '2025-03-27T03:00', '2025-03-27T04:00', '2025-03-27T05:00', '2025-03-27T06:00', '2025-03-27T07:00', '2025-03-27T08:00', '2025-03-27T09:00', '2025-03-27T10:00', '2025-03-27T11:00', '2025-03-27T12:00', '2025-03-27T13:00', '2025-03-27T14:00', '2025-03-27T15:00', '2025-03-27T16:00', '2025-03-27T17:00', '2025-03-27T18:00', '2025-03-27T19:00', '2025-03-27T20:00', '2025-03-27T21:00', '2025-03-27T22:00', '2025-03-27T23:00', '2025-03-28T00:00', '2025-03-28T01:00', '2025-03-28T02:00', '2025-03-28T03:00', '2025-03-28T04:00', '2025-03-28T05:00', '2025-03-28T06:00', '2025-03-28T07:00', '2025-03-28T08:00', '2025-03-28T09:00', '2025-03-28T10:00', '2025-03-28T11:00', '2025-03-28T12:00', '2025-03-28T13:00', '2025-03-28T14:00', '2025-03-28T15:00', '2025-03-28T16:00', '2025-03-28T17:00', '2025-03-28T18:00', '2025-03-28T19:00', '2025-03-28T20:00', '2025-03-28T21:00', '2025-03-28T22:00', '2025-03-28T23:00', '2025-03-29T00:00', '2025-03-29T01:00', '2025-03-29T02:00', '2025-03-29T03:00', '2025-03-29T04:00', '2025-03-29T05:00', '2025-03-29T06:00', '2025-03-29T07:00', '2025-03-29T08:00', '2025-03-29T09:00', '2025-03-29T10:00', '2025-03-29T11:00', '2025-03-29T12:00', '2025-03-29T13:00', '2025-03-29T14:00', '2025-03-29T15:00', '2025-03-29T16:00', '2025-03-29T17:00', '2025-03-29T18:00', '2025-03-29T19:00', '2025-03-29T20:00', '2025-03-29T21:00', '2025-03-29T22:00', '2025-03-29T23:00', '2025-03-30T00:00', '2025-03-30T01:00', '2025-03-30T02:00', '2025-03-30T03:00', '2025-03-30T04:00', '2025-03-30T05:00', '2025-03-30T06:00', '2025-03-30T07:00', '2025-03-30T08:00', '2025-03-30T09:00', '2025-03-30T10:00', '2025-03-30T11:00', '2025-03-30T12:00', '2025-03-30T13:00', '2025-03-30T14:00', '2025-03-30T15:00', '2025-03-30T16:00', '2025-03-30T17:00', '2025-03-30T18:00', '2025-03-30T19:00', '2025-03-30T20:00', '2025-03-30T21:00', '2025-03-30T22:00', '2025-03-30T23:00', '2025-03-31T00:00', '2025-03-31T01:00', '2025-03-31T02:00', '2025-03-31T03:00', '2025-03-31T04:00', '2025-03-31T05:00', '2025-03-31T06:00', '2025-03-31T07:00', '2025-03-31T08:00', '2025-03-31T09:00', '2025-03-31T10:00', '2025-03-31T11:00', '2025-03-31T12:00', '2025-03-31T13:00', '2025-03-31T14:00', '2025-03-31T15:00', '2025-03-31T16:00', '2025-03-31T17:00', '2025-03-31T18:00', '2025-03-31T19:00', '2025-03-31T20:00', '2025-03-31T21:00', '2025-03-31T22:00', '2025-03-31T23:00', '2025-04-01T00:00', '2025-04-01T01:00', '2025-04-01T02:00', '2025-04-01T03:00', '2025-04-01T04:00', '2025-04-01T05:00', '2025-04-01T06:00', '2025-04-01T07:00', '2025-04-01T08:00', '2025-04-01T09:00', '2025-04-01T10:00', '2025-04-01T11:00', '2025-04-01T12:00', '2025-04-01T13:00', '2025-04-01T14:00', '2025-04-01T15:00', '2025-04-01T16:00', '2025-04-01T17:00', '2025-04-01T18:00', '2025-04-01T19:00', '2025-04-01T20:00', '2025-04-01T21:00', '2025-04-01T22:00', '2025-04-01T23:00', '2025-04-02T00:00', '2025-04-02T01:00', '2025-04-02T02:00', '2025-04-02T03:00', '2025-04-02T04:00', '2025-04-02T05:00', '2025-04-02T06:00', '2025-04-02T07:00', '2025-04-02T08:00', '2025-04-02T09:00', '2025-04-02T10:00', '2025-04-02T11:00', '2025-04-02T12:00', '2025-04-02T13:00', '2025-04-02T14:00', '2025-04-02T15:00', '2025-04-02T16:00', '2025-04-02T17:00', '2025-04-02T18:00', '2025-04-02T19:00', '2025-04-02T20:00', '2025-04-02T21:00', '2025-04-02T22:00', '2025-04-02T23:00'], 'temperature_2m': [11.2, 10.6, 10.7, 10.9, 10.5, 10.7, 10.3, 10.4, 10.8, 11.3, 11.5, 12.1, 12.4, 13.3, 13.5, 14.1, 13.9, 13.0, 13.7, 13.6, 12.6, 12.5, 12.4, 12.7, 12.5, 11.7, 11.5, 11.8, 11.7, 11.9, 11.6, 11.7, 12.1, 12.9, 13.3, 14.3, 14.8, 15.4, 15.5, 15.5, 14.9, 14.8, 14.5, 14.3, 13.4, 13.0, 13.0, 12.9, 13.0, 13.1, 12.5, 12.5, 12.1, 11.9, 12.1, 12.0, 12.0, 12.7, 13.4, 12.9, 12.6, 13.1, 13.5, 13.2, 13.3, 13.0, 12.5, 11.8, 10.6, 9.9, 9.5, 9.1, 8.6, 7.8, 7.1, 6.6, 6.2, 5.9, 5.8, 5.4, 5.7, 7.9, 11.0, 12.9, 14.0, 14.6, 14.8, 14.9, 14.6, 13.9, 13.1, 12.0, 10.4, 9.2, 8.3, 7.5, 6.9, 6.6, 6.3, 6.4, 6.6, 6.6, 6.2, 5.7, 6.2, 8.5, 11.8, 13.9, 16.1, 17.4, 18.5, 19.6, 20.1, 19.8, 19.0, 17.8, 16.1, 14.0, 12.3, 11.5, 11.2, 10.8, 10.4, 9.9, 9.6, 9.3, 9.1, 9.0, 11.7, 15.3, 18.5, 20.6, 22.2, 23.5, 24.5, 25.2, 25.3, 24.6, 23.3, 21.6, 19.4, 16.7, 14.6, 13.2, 12.3, 11.7, 11.4, 11.4, 11.2, 10.4, 9.5, 9.7, 12.1, 15.7, 18.8, 20.8, 22.2, 23.4, 24.5, 25.3, 25.3, 24.2, 22.5, 20.5, 18.2, 15.6, 13.6, 12.5]}}\n"
     ]
    }
   ],
   "source": [
    "import requests\n",
    "import pandas as pd\n",
    "\n",
    "# Coordenadas de Bilbao\n",
    "latitude = 43.2630\n",
    "longitude = -2.9340\n",
    "\n",
    "\n",
    "url = f\"https://api.open-meteo.com/v1/forecast\"\n",
    "params = {\"latitude\" : 43.2630, \"longitude\" : -2.9340,\n",
    "          \"current_weather\": \"true\",\n",
    "          \"hourly\": \"temperature_2m\",\n",
    "          \"timezone\": \"Europe/Madrid\"  # Especificar la zona horaria\n",
    "          }\n",
    "\n",
    "response = requests.get(url, params=params)    #Esta línea realiza una solicitud HTTP GET a la URL proporcionada.\n",
    "# En este caso, está haciendo una petición a la API de Open-Meteo.    #params=params: Es un diccionario que contiene los \n",
    "# #parámetros de la solicitud. En este caso, estos parámetros incluyen la latitud, longitud, \n",
    "# # y las variables de clima que deseas consultar (temperatura, humedad, velocidad del viento). \n",
    "# #params es lo que se pasa como parámetros de consulta en la URL.\n",
    "\n",
    "if response.status_code == 200:  #Esta propiedad devuelve el código de estado de la respuesta HTTP. \n",
    "    #Los códigos de estado indican si la solicitud fue exitosa o si ocurrió algún error. \n",
    "    # #200: Significa que la solicitud fue exitosa. Es el código estándar para una \"respuesta OK\n",
    "    \n",
    "    data = response.json() #método para convertir la respuesta de la API (que generalmente es en formato JSON) en un diccionario de Python que puedes manipular.\n",
    "    #Esto extrae el contenido de la respuesta en formato JSON y lo convierte a un objeto de Python (en este caso, un diccionario).\n",
    "    print(data)\n",
    "else:\n",
    "    print(f\"Error en la solicitud: {response.status_code}\")\n",
    "    print(\"Detalles del error:\", response.text) "
   ]
  },
  {
   "cell_type": "code",
   "execution_count": 2,
   "metadata": {},
   "outputs": [
    {
     "name": "stdout",
     "output_type": "stream",
     "text": [
      "200\n"
     ]
    }
   ],
   "source": [
    "print(response.status_code)"
   ]
  },
  {
   "cell_type": "code",
   "execution_count": 3,
   "metadata": {},
   "outputs": [
    {
     "name": "stdout",
     "output_type": "stream",
     "text": [
      "[11.2, 10.6, 10.7, 10.9, 10.5, 10.7, 10.3, 10.4, 10.8, 11.3, 11.5, 12.1, 12.4, 13.3, 13.5, 14.1, 13.9, 13.0, 13.7, 13.6, 12.6, 12.5, 12.4, 12.7, 12.5, 11.7, 11.5, 11.8, 11.7, 11.9, 11.6, 11.7, 12.1, 12.9, 13.3, 14.3, 14.8, 15.4, 15.5, 15.5, 14.9, 14.8, 14.5, 14.3, 13.4, 13.0, 13.0, 12.9, 13.0, 13.1, 12.5, 12.5, 12.1, 11.9, 12.1, 12.0, 12.0, 12.7, 13.4, 12.9, 12.6, 13.1, 13.5, 13.2, 13.3, 13.0, 12.5, 11.8, 10.6, 9.9, 9.5, 9.1, 8.6, 7.8, 7.1, 6.6, 6.2, 5.9, 5.8, 5.4, 5.7, 7.9, 11.0, 12.9, 14.0, 14.6, 14.8, 14.9, 14.6, 13.9, 13.1, 12.0, 10.4, 9.2, 8.3, 7.5, 6.9, 6.6, 6.3, 6.4, 6.6, 6.6, 6.2, 5.7, 6.2, 8.5, 11.8, 13.9, 16.1, 17.4, 18.5, 19.6, 20.1, 19.8, 19.0, 17.8, 16.1, 14.0, 12.3, 11.5, 11.2, 10.8, 10.4, 9.9, 9.6, 9.3, 9.1, 9.0, 11.7, 15.3, 18.5, 20.6, 22.2, 23.5, 24.5, 25.2, 25.3, 24.6, 23.3, 21.6, 19.4, 16.7, 14.6, 13.2, 12.3, 11.7, 11.4, 11.4, 11.2, 10.4, 9.5, 9.7, 12.1, 15.7, 18.8, 20.8, 22.2, 23.4, 24.5, 25.3, 25.3, 24.2, 22.5, 20.5, 18.2, 15.6, 13.6, 12.5]\n",
      "['2025-03-27T00:00', '2025-03-27T01:00', '2025-03-27T02:00', '2025-03-27T03:00', '2025-03-27T04:00', '2025-03-27T05:00', '2025-03-27T06:00', '2025-03-27T07:00', '2025-03-27T08:00', '2025-03-27T09:00', '2025-03-27T10:00', '2025-03-27T11:00', '2025-03-27T12:00', '2025-03-27T13:00', '2025-03-27T14:00', '2025-03-27T15:00', '2025-03-27T16:00', '2025-03-27T17:00', '2025-03-27T18:00', '2025-03-27T19:00', '2025-03-27T20:00', '2025-03-27T21:00', '2025-03-27T22:00', '2025-03-27T23:00', '2025-03-28T00:00', '2025-03-28T01:00', '2025-03-28T02:00', '2025-03-28T03:00', '2025-03-28T04:00', '2025-03-28T05:00', '2025-03-28T06:00', '2025-03-28T07:00', '2025-03-28T08:00', '2025-03-28T09:00', '2025-03-28T10:00', '2025-03-28T11:00', '2025-03-28T12:00', '2025-03-28T13:00', '2025-03-28T14:00', '2025-03-28T15:00', '2025-03-28T16:00', '2025-03-28T17:00', '2025-03-28T18:00', '2025-03-28T19:00', '2025-03-28T20:00', '2025-03-28T21:00', '2025-03-28T22:00', '2025-03-28T23:00', '2025-03-29T00:00', '2025-03-29T01:00', '2025-03-29T02:00', '2025-03-29T03:00', '2025-03-29T04:00', '2025-03-29T05:00', '2025-03-29T06:00', '2025-03-29T07:00', '2025-03-29T08:00', '2025-03-29T09:00', '2025-03-29T10:00', '2025-03-29T11:00', '2025-03-29T12:00', '2025-03-29T13:00', '2025-03-29T14:00', '2025-03-29T15:00', '2025-03-29T16:00', '2025-03-29T17:00', '2025-03-29T18:00', '2025-03-29T19:00', '2025-03-29T20:00', '2025-03-29T21:00', '2025-03-29T22:00', '2025-03-29T23:00', '2025-03-30T00:00', '2025-03-30T01:00', '2025-03-30T02:00', '2025-03-30T03:00', '2025-03-30T04:00', '2025-03-30T05:00', '2025-03-30T06:00', '2025-03-30T07:00', '2025-03-30T08:00', '2025-03-30T09:00', '2025-03-30T10:00', '2025-03-30T11:00', '2025-03-30T12:00', '2025-03-30T13:00', '2025-03-30T14:00', '2025-03-30T15:00', '2025-03-30T16:00', '2025-03-30T17:00', '2025-03-30T18:00', '2025-03-30T19:00', '2025-03-30T20:00', '2025-03-30T21:00', '2025-03-30T22:00', '2025-03-30T23:00', '2025-03-31T00:00', '2025-03-31T01:00', '2025-03-31T02:00', '2025-03-31T03:00', '2025-03-31T04:00', '2025-03-31T05:00', '2025-03-31T06:00', '2025-03-31T07:00', '2025-03-31T08:00', '2025-03-31T09:00', '2025-03-31T10:00', '2025-03-31T11:00', '2025-03-31T12:00', '2025-03-31T13:00', '2025-03-31T14:00', '2025-03-31T15:00', '2025-03-31T16:00', '2025-03-31T17:00', '2025-03-31T18:00', '2025-03-31T19:00', '2025-03-31T20:00', '2025-03-31T21:00', '2025-03-31T22:00', '2025-03-31T23:00', '2025-04-01T00:00', '2025-04-01T01:00', '2025-04-01T02:00', '2025-04-01T03:00', '2025-04-01T04:00', '2025-04-01T05:00', '2025-04-01T06:00', '2025-04-01T07:00', '2025-04-01T08:00', '2025-04-01T09:00', '2025-04-01T10:00', '2025-04-01T11:00', '2025-04-01T12:00', '2025-04-01T13:00', '2025-04-01T14:00', '2025-04-01T15:00', '2025-04-01T16:00', '2025-04-01T17:00', '2025-04-01T18:00', '2025-04-01T19:00', '2025-04-01T20:00', '2025-04-01T21:00', '2025-04-01T22:00', '2025-04-01T23:00', '2025-04-02T00:00', '2025-04-02T01:00', '2025-04-02T02:00', '2025-04-02T03:00', '2025-04-02T04:00', '2025-04-02T05:00', '2025-04-02T06:00', '2025-04-02T07:00', '2025-04-02T08:00', '2025-04-02T09:00', '2025-04-02T10:00', '2025-04-02T11:00', '2025-04-02T12:00', '2025-04-02T13:00', '2025-04-02T14:00', '2025-04-02T15:00', '2025-04-02T16:00', '2025-04-02T17:00', '2025-04-02T18:00', '2025-04-02T19:00', '2025-04-02T20:00', '2025-04-02T21:00', '2025-04-02T22:00', '2025-04-02T23:00']\n"
     ]
    }
   ],
   "source": [
    "#  Procesa la respuesta en formato JSON para obtener dos listas: una con la lista de temperaturas y otra con las fechas-horas correspondientes.\n",
    "#Extraer las temperaturas y las fechas-horas\n",
    "\n",
    "temperaturas = data[\"hourly\"][\"temperature_2m\"]\n",
    "hora = data[\"hourly\"][\"time\"]\n",
    "print(temperaturas)\n",
    "print(hora)"
   ]
  },
  {
   "cell_type": "code",
   "execution_count": 4,
   "metadata": {},
   "outputs": [],
   "source": [
    "#Crea un DataFrame con esas dos columnas: `Hora` y `Temperatura`\n",
    "\n",
    "\n",
    "df = pd.DataFrame({\"temperaturas\": temperaturas, \"hora\" :hora })\n",
    "\n",
    "df.reset_index(inplace=True)"
   ]
  },
  {
   "cell_type": "code",
   "execution_count": 5,
   "metadata": {},
   "outputs": [
    {
     "name": "stdout",
     "output_type": "stream",
     "text": [
      "<class 'pandas.core.frame.DataFrame'>\n",
      "RangeIndex: 168 entries, 0 to 167\n",
      "Data columns (total 3 columns):\n",
      " #   Column        Non-Null Count  Dtype  \n",
      "---  ------        --------------  -----  \n",
      " 0   index         168 non-null    int64  \n",
      " 1   temperaturas  168 non-null    float64\n",
      " 2   hora          168 non-null    object \n",
      "dtypes: float64(1), int64(1), object(1)\n",
      "memory usage: 4.1+ KB\n"
     ]
    }
   ],
   "source": [
    "df.info()"
   ]
  },
  {
   "cell_type": "code",
   "execution_count": 6,
   "metadata": {},
   "outputs": [
    {
     "data": {
      "application/vnd.microsoft.datawrangler.viewer.v0+json": {
       "columns": [
        {
         "name": "index",
         "rawType": "int64",
         "type": "integer"
        },
        {
         "name": "index",
         "rawType": "int64",
         "type": "integer"
        },
        {
         "name": "temperaturas",
         "rawType": "float64",
         "type": "float"
        },
        {
         "name": "hora",
         "rawType": "object",
         "type": "string"
        }
       ],
       "conversionMethod": "pd.DataFrame",
       "ref": "a457acbc-1cf1-4f08-842f-330b442aab5b",
       "rows": [
        [
         "0",
         "0",
         "11.2",
         "2025-03-27T00:00"
        ],
        [
         "1",
         "1",
         "10.6",
         "2025-03-27T01:00"
        ],
        [
         "2",
         "2",
         "10.7",
         "2025-03-27T02:00"
        ],
        [
         "3",
         "3",
         "10.9",
         "2025-03-27T03:00"
        ],
        [
         "4",
         "4",
         "10.5",
         "2025-03-27T04:00"
        ],
        [
         "5",
         "5",
         "10.7",
         "2025-03-27T05:00"
        ],
        [
         "6",
         "6",
         "10.3",
         "2025-03-27T06:00"
        ],
        [
         "7",
         "7",
         "10.4",
         "2025-03-27T07:00"
        ],
        [
         "8",
         "8",
         "10.8",
         "2025-03-27T08:00"
        ],
        [
         "9",
         "9",
         "11.3",
         "2025-03-27T09:00"
        ],
        [
         "10",
         "10",
         "11.5",
         "2025-03-27T10:00"
        ],
        [
         "11",
         "11",
         "12.1",
         "2025-03-27T11:00"
        ],
        [
         "12",
         "12",
         "12.4",
         "2025-03-27T12:00"
        ],
        [
         "13",
         "13",
         "13.3",
         "2025-03-27T13:00"
        ],
        [
         "14",
         "14",
         "13.5",
         "2025-03-27T14:00"
        ],
        [
         "15",
         "15",
         "14.1",
         "2025-03-27T15:00"
        ],
        [
         "16",
         "16",
         "13.9",
         "2025-03-27T16:00"
        ],
        [
         "17",
         "17",
         "13.0",
         "2025-03-27T17:00"
        ],
        [
         "18",
         "18",
         "13.7",
         "2025-03-27T18:00"
        ],
        [
         "19",
         "19",
         "13.6",
         "2025-03-27T19:00"
        ],
        [
         "20",
         "20",
         "12.6",
         "2025-03-27T20:00"
        ],
        [
         "21",
         "21",
         "12.5",
         "2025-03-27T21:00"
        ],
        [
         "22",
         "22",
         "12.4",
         "2025-03-27T22:00"
        ],
        [
         "23",
         "23",
         "12.7",
         "2025-03-27T23:00"
        ],
        [
         "24",
         "24",
         "12.5",
         "2025-03-28T00:00"
        ],
        [
         "25",
         "25",
         "11.7",
         "2025-03-28T01:00"
        ],
        [
         "26",
         "26",
         "11.5",
         "2025-03-28T02:00"
        ],
        [
         "27",
         "27",
         "11.8",
         "2025-03-28T03:00"
        ],
        [
         "28",
         "28",
         "11.7",
         "2025-03-28T04:00"
        ],
        [
         "29",
         "29",
         "11.9",
         "2025-03-28T05:00"
        ],
        [
         "30",
         "30",
         "11.6",
         "2025-03-28T06:00"
        ],
        [
         "31",
         "31",
         "11.7",
         "2025-03-28T07:00"
        ],
        [
         "32",
         "32",
         "12.1",
         "2025-03-28T08:00"
        ],
        [
         "33",
         "33",
         "12.9",
         "2025-03-28T09:00"
        ],
        [
         "34",
         "34",
         "13.3",
         "2025-03-28T10:00"
        ],
        [
         "35",
         "35",
         "14.3",
         "2025-03-28T11:00"
        ],
        [
         "36",
         "36",
         "14.8",
         "2025-03-28T12:00"
        ],
        [
         "37",
         "37",
         "15.4",
         "2025-03-28T13:00"
        ],
        [
         "38",
         "38",
         "15.5",
         "2025-03-28T14:00"
        ],
        [
         "39",
         "39",
         "15.5",
         "2025-03-28T15:00"
        ],
        [
         "40",
         "40",
         "14.9",
         "2025-03-28T16:00"
        ],
        [
         "41",
         "41",
         "14.8",
         "2025-03-28T17:00"
        ],
        [
         "42",
         "42",
         "14.5",
         "2025-03-28T18:00"
        ],
        [
         "43",
         "43",
         "14.3",
         "2025-03-28T19:00"
        ],
        [
         "44",
         "44",
         "13.4",
         "2025-03-28T20:00"
        ],
        [
         "45",
         "45",
         "13.0",
         "2025-03-28T21:00"
        ],
        [
         "46",
         "46",
         "13.0",
         "2025-03-28T22:00"
        ],
        [
         "47",
         "47",
         "12.9",
         "2025-03-28T23:00"
        ],
        [
         "48",
         "48",
         "13.0",
         "2025-03-29T00:00"
        ],
        [
         "49",
         "49",
         "13.1",
         "2025-03-29T01:00"
        ]
       ],
       "shape": {
        "columns": 3,
        "rows": 168
       }
      },
      "text/html": [
       "<div>\n",
       "<style scoped>\n",
       "    .dataframe tbody tr th:only-of-type {\n",
       "        vertical-align: middle;\n",
       "    }\n",
       "\n",
       "    .dataframe tbody tr th {\n",
       "        vertical-align: top;\n",
       "    }\n",
       "\n",
       "    .dataframe thead th {\n",
       "        text-align: right;\n",
       "    }\n",
       "</style>\n",
       "<table border=\"1\" class=\"dataframe\">\n",
       "  <thead>\n",
       "    <tr style=\"text-align: right;\">\n",
       "      <th></th>\n",
       "      <th>index</th>\n",
       "      <th>temperaturas</th>\n",
       "      <th>hora</th>\n",
       "    </tr>\n",
       "  </thead>\n",
       "  <tbody>\n",
       "    <tr>\n",
       "      <th>0</th>\n",
       "      <td>0</td>\n",
       "      <td>11.2</td>\n",
       "      <td>2025-03-27T00:00</td>\n",
       "    </tr>\n",
       "    <tr>\n",
       "      <th>1</th>\n",
       "      <td>1</td>\n",
       "      <td>10.6</td>\n",
       "      <td>2025-03-27T01:00</td>\n",
       "    </tr>\n",
       "    <tr>\n",
       "      <th>2</th>\n",
       "      <td>2</td>\n",
       "      <td>10.7</td>\n",
       "      <td>2025-03-27T02:00</td>\n",
       "    </tr>\n",
       "    <tr>\n",
       "      <th>3</th>\n",
       "      <td>3</td>\n",
       "      <td>10.9</td>\n",
       "      <td>2025-03-27T03:00</td>\n",
       "    </tr>\n",
       "    <tr>\n",
       "      <th>4</th>\n",
       "      <td>4</td>\n",
       "      <td>10.5</td>\n",
       "      <td>2025-03-27T04:00</td>\n",
       "    </tr>\n",
       "    <tr>\n",
       "      <th>...</th>\n",
       "      <td>...</td>\n",
       "      <td>...</td>\n",
       "      <td>...</td>\n",
       "    </tr>\n",
       "    <tr>\n",
       "      <th>163</th>\n",
       "      <td>163</td>\n",
       "      <td>20.5</td>\n",
       "      <td>2025-04-02T19:00</td>\n",
       "    </tr>\n",
       "    <tr>\n",
       "      <th>164</th>\n",
       "      <td>164</td>\n",
       "      <td>18.2</td>\n",
       "      <td>2025-04-02T20:00</td>\n",
       "    </tr>\n",
       "    <tr>\n",
       "      <th>165</th>\n",
       "      <td>165</td>\n",
       "      <td>15.6</td>\n",
       "      <td>2025-04-02T21:00</td>\n",
       "    </tr>\n",
       "    <tr>\n",
       "      <th>166</th>\n",
       "      <td>166</td>\n",
       "      <td>13.6</td>\n",
       "      <td>2025-04-02T22:00</td>\n",
       "    </tr>\n",
       "    <tr>\n",
       "      <th>167</th>\n",
       "      <td>167</td>\n",
       "      <td>12.5</td>\n",
       "      <td>2025-04-02T23:00</td>\n",
       "    </tr>\n",
       "  </tbody>\n",
       "</table>\n",
       "<p>168 rows × 3 columns</p>\n",
       "</div>"
      ],
      "text/plain": [
       "     index  temperaturas              hora\n",
       "0        0          11.2  2025-03-27T00:00\n",
       "1        1          10.6  2025-03-27T01:00\n",
       "2        2          10.7  2025-03-27T02:00\n",
       "3        3          10.9  2025-03-27T03:00\n",
       "4        4          10.5  2025-03-27T04:00\n",
       "..     ...           ...               ...\n",
       "163    163          20.5  2025-04-02T19:00\n",
       "164    164          18.2  2025-04-02T20:00\n",
       "165    165          15.6  2025-04-02T21:00\n",
       "166    166          13.6  2025-04-02T22:00\n",
       "167    167          12.5  2025-04-02T23:00\n",
       "\n",
       "[168 rows x 3 columns]"
      ]
     },
     "execution_count": 6,
     "metadata": {},
     "output_type": "execute_result"
    }
   ],
   "source": [
    "\n",
    "df"
   ]
  },
  {
   "cell_type": "code",
   "execution_count": 27,
   "metadata": {},
   "outputs": [],
   "source": [
    "# Primero, convierte la columna 'hora' a formato datetime\n",
    "df['hora'] = pd.to_datetime(df['hora'])\n",
    "\n",
    "# Luego, extrae solo la fecha (sin las horas)\n",
    "df['fecha'] = df['hora'].dt.date"
   ]
  },
  {
   "cell_type": "code",
   "execution_count": 28,
   "metadata": {},
   "outputs": [
    {
     "name": "stdout",
     "output_type": "stream",
     "text": [
      "Requirement already satisfied: matplotlib in c:\\users\\nagor\\appdata\\local\\programs\\python\\python311\\lib\\site-packages (3.10.1)\n",
      "Requirement already satisfied: contourpy>=1.0.1 in c:\\users\\nagor\\appdata\\local\\programs\\python\\python311\\lib\\site-packages (from matplotlib) (1.3.1)\n",
      "Requirement already satisfied: cycler>=0.10 in c:\\users\\nagor\\appdata\\local\\programs\\python\\python311\\lib\\site-packages (from matplotlib) (0.12.1)\n",
      "Requirement already satisfied: fonttools>=4.22.0 in c:\\users\\nagor\\appdata\\local\\programs\\python\\python311\\lib\\site-packages (from matplotlib) (4.56.0)\n",
      "Requirement already satisfied: kiwisolver>=1.3.1 in c:\\users\\nagor\\appdata\\local\\programs\\python\\python311\\lib\\site-packages (from matplotlib) (1.4.8)\n",
      "Requirement already satisfied: numpy>=1.23 in c:\\users\\nagor\\appdata\\local\\programs\\python\\python311\\lib\\site-packages (from matplotlib) (2.2.4)\n",
      "Requirement already satisfied: packaging>=20.0 in c:\\users\\nagor\\appdata\\roaming\\python\\python311\\site-packages (from matplotlib) (24.2)\n",
      "Requirement already satisfied: pillow>=8 in c:\\users\\nagor\\appdata\\local\\programs\\python\\python311\\lib\\site-packages (from matplotlib) (11.1.0)\n",
      "Requirement already satisfied: pyparsing>=2.3.1 in c:\\users\\nagor\\appdata\\local\\programs\\python\\python311\\lib\\site-packages (from matplotlib) (3.2.1)\n",
      "Requirement already satisfied: python-dateutil>=2.7 in c:\\users\\nagor\\appdata\\roaming\\python\\python311\\site-packages (from matplotlib) (2.9.0.post0)\n",
      "Requirement already satisfied: six>=1.5 in c:\\users\\nagor\\appdata\\roaming\\python\\python311\\site-packages (from python-dateutil>=2.7->matplotlib) (1.17.0)\n"
     ]
    },
    {
     "name": "stderr",
     "output_type": "stream",
     "text": [
      "\n",
      "[notice] A new release of pip is available: 24.0 -> 25.0.1\n",
      "[notice] To update, run: python.exe -m pip install --upgrade pip\n"
     ]
    }
   ],
   "source": [
    "!pip install matplotlib\n"
   ]
  },
  {
   "cell_type": "code",
   "execution_count": 29,
   "metadata": {},
   "outputs": [],
   "source": [
    "import matplotlib.pyplot as plt\n",
    "import seaborn as sns "
   ]
  },
  {
   "cell_type": "code",
   "execution_count": 31,
   "metadata": {},
   "outputs": [
    {
     "data": {
      "text/plain": [
       "<matplotlib.legend.Legend at 0x1bd070fd050>"
      ]
     },
     "execution_count": 31,
     "metadata": {},
     "output_type": "execute_result"
    },
    {
     "data": {
      "image/png": "[encoded data removed]",
      "text/plain": [
       "<Figure size 1200x800 with 1 Axes>"
      ]
     },
     "metadata": {},
     "output_type": "display_data"
    }
   ],
   "source": [
    "# Elige la gráfica adecuada y visualiza el pronóstico de temperaturas.\n",
    "plt.figure(figsize=(12,8))\n",
    "plt.plot(df['hora'], df['temperaturas'], marker='o', color='r', label='Temperatura')\n",
    "plt.xlabel(\"Hora\")\n",
    "plt.ylabel(\"Temperaturas\")\n",
    "plt.xticks(rotation= 45)\n",
    "plt.grid(True, linestyle= \"--\")\n",
    "plt.title(\"Temperaturas Bilbao\")\n",
    "plt.legend()"
   ]
  },
  {
   "cell_type": "code",
   "execution_count": null,
   "metadata": {},
   "outputs": [],
   "source": []
  }
 ],
 "metadata": {
  "kernelspec": {
   "display_name": "Python 3",
   "language": "python",
   "name": "python3"
  },
  "language_info": {
   "codemirror_mode": {
    "name": "ipython",
    "version": 3
   },
   "file_extension": ".py",
   "mimetype": "text/x-python",
   "name": "python",
   "nbconvert_exporter": "python",
   "pygments_lexer": "ipython3",
   "version": "3.11.9"
  }
 },
 "nbformat": 4,
 "nbformat_minor": 2
}
