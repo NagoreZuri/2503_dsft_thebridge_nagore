{
 "cells": [
  {
   "cell_type": "code",
   "execution_count": 1,
   "metadata": {},
   "outputs": [
    {
     "name": "stdout",
     "output_type": "stream",
     "text": [
      "Collecting pysqlite3\n",
      "  Using cached pysqlite3-0.5.4.tar.gz (40 kB)\n",
      "  Installing build dependencies: started\n",
      "  Installing build dependencies: finished with status 'done'\n",
      "  Getting requirements to build wheel: started\n",
      "  Getting requirements to build wheel: finished with status 'done'\n",
      "  Preparing metadata (pyproject.toml): started\n",
      "  Preparing metadata (pyproject.toml): finished with status 'done'\n",
      "Building wheels for collected packages: pysqlite3\n",
      "  Building wheel for pysqlite3 (pyproject.toml): started\n",
      "  Building wheel for pysqlite3 (pyproject.toml): finished with status 'error'\n",
      "Failed to build pysqlite3\n"
     ]
    },
    {
     "name": "stderr",
     "output_type": "stream",
     "text": [
      "  error: subprocess-exited-with-error\n",
      "  \n",
      "  × Building wheel for pysqlite3 (pyproject.toml) did not run successfully.\n",
      "  │ exit code: 1\n",
      "  ╰─> [23 lines of output]\n",
      "      C:\\Users\\nagor\\AppData\\Local\\Temp\\pip-build-env-4zn18zqd\\overlay\\Lib\\site-packages\\setuptools\\dist.py:759: SetuptoolsDeprecationWarning: License classifiers are deprecated.\n",
      "      !!\n",
      "      \n",
      "              ********************************************************************************\n",
      "              Please consider removing the following classifiers in favor of a SPDX license expression:\n",
      "      \n",
      "              License :: OSI Approved :: zlib/libpng License\n",
      "      \n",
      "              See https://packaging.python.org/en/latest/guides/writing-pyproject-toml/#license for details.\n",
      "              ********************************************************************************\n",
      "      \n",
      "      !!\n",
      "        self._finalize_license_expression()\n",
      "      running bdist_wheel\n",
      "      running build\n",
      "      running build_py\n",
      "      creating build\\lib.win-amd64-cpython-311\\pysqlite3\n",
      "      copying pysqlite3\\dbapi2.py -> build\\lib.win-amd64-cpython-311\\pysqlite3\n",
      "      copying pysqlite3\\__init__.py -> build\\lib.win-amd64-cpython-311\\pysqlite3\n",
      "      running build_ext\n",
      "      Builds a C extension linking against libsqlite3 library\n",
      "      building 'pysqlite3._sqlite3' extension\n",
      "      error: Microsoft Visual C++ 14.0 or greater is required. Get it with \"Microsoft C++ Build Tools\": https://visualstudio.microsoft.com/visual-cpp-build-tools/\n",
      "      [end of output]\n",
      "  \n",
      "  note: This error originates from a subprocess, and is likely not a problem with pip.\n",
      "  ERROR: Failed building wheel for pysqlite3\n",
      "ERROR: Could not build wheels for pysqlite3, which is required to install pyproject.toml-based projects\n",
      "\n",
      "[notice] A new release of pip is available: 24.0 -> 25.0.1\n",
      "[notice] To update, run: python.exe -m pip install --upgrade pip\n"
     ]
    }
   ],
   "source": [
    "!pip install pysqlite3"
   ]
  },
  {
   "cell_type": "code",
   "execution_count": 2,
   "metadata": {},
   "outputs": [],
   "source": [
    "import pandas as pd\n",
    "import sqlite3"
   ]
  },
  {
   "cell_type": "code",
   "execution_count": 3,
   "metadata": {},
   "outputs": [
    {
     "data": {
      "text/plain": [
       "'c:\\\\Users\\\\nagor\\\\Documents\\\\Thebridge\\\\2503_dsft_thebridge_nagore\\\\2-Data_Analysis\\\\8-BBDD\\\\SQL\\\\Practica\\\\1-Chinook\\\\data'"
      ]
     },
     "execution_count": 3,
     "metadata": {},
     "output_type": "execute_result"
    }
   ],
   "source": [
    "import os\n",
    "os.getcwd()"
   ]
  },
  {
   "cell_type": "code",
   "execution_count": 4,
   "metadata": {},
   "outputs": [
    {
     "name": "stdout",
     "output_type": "stream",
     "text": [
      "True\n"
     ]
    }
   ],
   "source": [
    "import os\n",
    "print(os.path.exists(r\"C:\\Users\\nagor\\Documents\\Thebridge\\2503_dsft_thebridge_nagore\\2-Data_Analysis\\8-BBDD\\SQL\\Practica\\1-Chinook\\data\\chinook.db\"))"
   ]
  },
  {
   "cell_type": "code",
   "execution_count": 5,
   "metadata": {},
   "outputs": [],
   "source": [
    "# Conectamos con la base de datos chinook.db\n",
    "connection = sqlite3.connect(r\"C:\\Users\\nagor\\Documents\\Thebridge\\2503_dsft_thebridge_nagore\\2-Data_Analysis\\8-BBDD\\SQL\\Practica\\1-Chinook/data/chinook.db\")  #asi le pasamos el fichero y se conecta\n",
    "\n",
    "# Obtenemos un cursor que utilizaremos para hacer las queries\n",
    "crsr = connection.cursor()"
   ]
  },
  {
   "cell_type": "code",
   "execution_count": 6,
   "metadata": {},
   "outputs": [],
   "source": [
    "# Con esta función leemos los datos y lo pasamos a un DataFrame de Pandas\n",
    "def sql_query(query):  #coje el cursor cmo vaiable global y a través de ese cursos sabe donde hacer esa pregunta\n",
    "\n",
    "    # Ejecuta la query\n",
    "    crsr.execute(query)\n",
    "\n",
    "    # Almacena los datos de la query \n",
    "    ans = crsr.fetchall()\n",
    "\n",
    "    # Obtenemos los nombres de las columnas de la tabla\n",
    "    names = [description[0] for description in crsr.description]\n",
    "\n",
    "    return pd.DataFrame(ans,columns=names)"
   ]
  },
  {
   "cell_type": "markdown",
   "metadata": {},
   "source": [
    "Puedes ver todas las tablas que hay en la base de datos con la siguiente sentencia"
   ]
  },
  {
   "cell_type": "code",
   "execution_count": 7,
   "metadata": {},
   "outputs": [
    {
     "name": "stdout",
     "output_type": "stream",
     "text": [
      "albums\n",
      "sqlite_sequence\n",
      "artists\n",
      "customers\n",
      "employees\n",
      "genres\n",
      "invoices\n",
      "invoice_items\n",
      "media_types\n",
      "playlists\n",
      "playlist_track\n",
      "tracks\n",
      "sqlite_stat1\n",
      "films\n"
     ]
    }
   ],
   "source": [
    "res = crsr.execute(\"SELECT name FROM sqlite_master WHERE type='table'\")\n",
    "for name in res:\n",
    "    print(name[0])"
   ]
  },
  {
   "cell_type": "code",
   "execution_count": 8,
   "metadata": {},
   "outputs": [
    {
     "data": {
      "application/vnd.microsoft.datawrangler.viewer.v0+json": {
       "columns": [
        {
         "name": "index",
         "rawType": "int64",
         "type": "integer"
        },
        {
         "name": "CustomerId",
         "rawType": "int64",
         "type": "integer"
        },
        {
         "name": "FirstName",
         "rawType": "object",
         "type": "string"
        },
        {
         "name": "LastName",
         "rawType": "object",
         "type": "string"
        },
        {
         "name": "Company",
         "rawType": "object",
         "type": "unknown"
        },
        {
         "name": "Address",
         "rawType": "object",
         "type": "string"
        },
        {
         "name": "City",
         "rawType": "object",
         "type": "string"
        },
        {
         "name": "State",
         "rawType": "object",
         "type": "string"
        },
        {
         "name": "Country",
         "rawType": "object",
         "type": "string"
        },
        {
         "name": "PostalCode",
         "rawType": "object",
         "type": "string"
        },
        {
         "name": "Phone",
         "rawType": "object",
         "type": "string"
        },
        {
         "name": "Fax",
         "rawType": "object",
         "type": "string"
        },
        {
         "name": "Email",
         "rawType": "object",
         "type": "string"
        },
        {
         "name": "SupportRepId",
         "rawType": "int64",
         "type": "integer"
        }
       ],
       "conversionMethod": "pd.DataFrame",
       "ref": "d783f25f-0f89-4f29-b33a-c070961b3091",
       "rows": [
        [
         "0",
         "1",
         "Luís",
         "Gonçalves",
         "Embraer - Empresa Brasileira de Aeronáutica S.A.",
         "Av. Brigadeiro Faria Lima, 2170",
         "São José dos Campos",
         "SP",
         "Brazil",
         "12227-000",
         "+55 (12) 3923-5555",
         "+55 (12) 3923-5566",
         "luisg@embraer.com.br",
         "3"
        ],
        [
         "1",
         "10",
         "Eduardo",
         "Martins",
         "Woodstock Discos",
         "Rua Dr. Falcão Filho, 155",
         "São Paulo",
         "SP",
         "Brazil",
         "01007-010",
         "+55 (11) 3033-5446",
         "+55 (11) 3033-4564",
         "eduardo@woodstock.com.br",
         "4"
        ],
        [
         "2",
         "11",
         "Alexandre",
         "Rocha",
         "Banco do Brasil S.A.",
         "Av. Paulista, 2022",
         "São Paulo",
         "SP",
         "Brazil",
         "01310-200",
         "+55 (11) 3055-3278",
         "+55 (11) 3055-8131",
         "alero@uol.com.br",
         "5"
        ],
        [
         "3",
         "12",
         "Roberto",
         "Almeida",
         "Riotur",
         "Praça Pio X, 119",
         "Rio de Janeiro",
         "RJ",
         "Brazil",
         "20040-020",
         "+55 (21) 2271-7000",
         "+55 (21) 2271-7070",
         "roberto.almeida@riotur.gov.br",
         "3"
        ],
        [
         "4",
         "13",
         "Fernanda",
         "Ramos",
         null,
         "Qe 7 Bloco G",
         "Brasília",
         "DF",
         "Brazil",
         "71020-677",
         "+55 (61) 3363-5547",
         "+55 (61) 3363-7855",
         "fernadaramos4@uol.com.br",
         "4"
        ]
       ],
       "shape": {
        "columns": 13,
        "rows": 5
       }
      },
      "text/html": [
       "<div>\n",
       "<style scoped>\n",
       "    .dataframe tbody tr th:only-of-type {\n",
       "        vertical-align: middle;\n",
       "    }\n",
       "\n",
       "    .dataframe tbody tr th {\n",
       "        vertical-align: top;\n",
       "    }\n",
       "\n",
       "    .dataframe thead th {\n",
       "        text-align: right;\n",
       "    }\n",
       "</style>\n",
       "<table border=\"1\" class=\"dataframe\">\n",
       "  <thead>\n",
       "    <tr style=\"text-align: right;\">\n",
       "      <th></th>\n",
       "      <th>CustomerId</th>\n",
       "      <th>FirstName</th>\n",
       "      <th>LastName</th>\n",
       "      <th>Company</th>\n",
       "      <th>Address</th>\n",
       "      <th>City</th>\n",
       "      <th>State</th>\n",
       "      <th>Country</th>\n",
       "      <th>PostalCode</th>\n",
       "      <th>Phone</th>\n",
       "      <th>Fax</th>\n",
       "      <th>Email</th>\n",
       "      <th>SupportRepId</th>\n",
       "    </tr>\n",
       "  </thead>\n",
       "  <tbody>\n",
       "    <tr>\n",
       "      <th>0</th>\n",
       "      <td>1</td>\n",
       "      <td>Luís</td>\n",
       "      <td>Gonçalves</td>\n",
       "      <td>Embraer - Empresa Brasileira de Aeronáutica S.A.</td>\n",
       "      <td>Av. Brigadeiro Faria Lima, 2170</td>\n",
       "      <td>São José dos Campos</td>\n",
       "      <td>SP</td>\n",
       "      <td>Brazil</td>\n",
       "      <td>12227-000</td>\n",
       "      <td>+55 (12) 3923-5555</td>\n",
       "      <td>+55 (12) 3923-5566</td>\n",
       "      <td>luisg@embraer.com.br</td>\n",
       "      <td>3</td>\n",
       "    </tr>\n",
       "    <tr>\n",
       "      <th>1</th>\n",
       "      <td>10</td>\n",
       "      <td>Eduardo</td>\n",
       "      <td>Martins</td>\n",
       "      <td>Woodstock Discos</td>\n",
       "      <td>Rua Dr. Falcão Filho, 155</td>\n",
       "      <td>São Paulo</td>\n",
       "      <td>SP</td>\n",
       "      <td>Brazil</td>\n",
       "      <td>01007-010</td>\n",
       "      <td>+55 (11) 3033-5446</td>\n",
       "      <td>+55 (11) 3033-4564</td>\n",
       "      <td>eduardo@woodstock.com.br</td>\n",
       "      <td>4</td>\n",
       "    </tr>\n",
       "    <tr>\n",
       "      <th>2</th>\n",
       "      <td>11</td>\n",
       "      <td>Alexandre</td>\n",
       "      <td>Rocha</td>\n",
       "      <td>Banco do Brasil S.A.</td>\n",
       "      <td>Av. Paulista, 2022</td>\n",
       "      <td>São Paulo</td>\n",
       "      <td>SP</td>\n",
       "      <td>Brazil</td>\n",
       "      <td>01310-200</td>\n",
       "      <td>+55 (11) 3055-3278</td>\n",
       "      <td>+55 (11) 3055-8131</td>\n",
       "      <td>alero@uol.com.br</td>\n",
       "      <td>5</td>\n",
       "    </tr>\n",
       "    <tr>\n",
       "      <th>3</th>\n",
       "      <td>12</td>\n",
       "      <td>Roberto</td>\n",
       "      <td>Almeida</td>\n",
       "      <td>Riotur</td>\n",
       "      <td>Praça Pio X, 119</td>\n",
       "      <td>Rio de Janeiro</td>\n",
       "      <td>RJ</td>\n",
       "      <td>Brazil</td>\n",
       "      <td>20040-020</td>\n",
       "      <td>+55 (21) 2271-7000</td>\n",
       "      <td>+55 (21) 2271-7070</td>\n",
       "      <td>roberto.almeida@riotur.gov.br</td>\n",
       "      <td>3</td>\n",
       "    </tr>\n",
       "    <tr>\n",
       "      <th>4</th>\n",
       "      <td>13</td>\n",
       "      <td>Fernanda</td>\n",
       "      <td>Ramos</td>\n",
       "      <td>None</td>\n",
       "      <td>Qe 7 Bloco G</td>\n",
       "      <td>Brasília</td>\n",
       "      <td>DF</td>\n",
       "      <td>Brazil</td>\n",
       "      <td>71020-677</td>\n",
       "      <td>+55 (61) 3363-5547</td>\n",
       "      <td>+55 (61) 3363-7855</td>\n",
       "      <td>fernadaramos4@uol.com.br</td>\n",
       "      <td>4</td>\n",
       "    </tr>\n",
       "  </tbody>\n",
       "</table>\n",
       "</div>"
      ],
      "text/plain": [
       "   CustomerId  FirstName   LastName  \\\n",
       "0           1       Luís  Gonçalves   \n",
       "1          10    Eduardo    Martins   \n",
       "2          11  Alexandre      Rocha   \n",
       "3          12    Roberto    Almeida   \n",
       "4          13   Fernanda      Ramos   \n",
       "\n",
       "                                            Company  \\\n",
       "0  Embraer - Empresa Brasileira de Aeronáutica S.A.   \n",
       "1                                  Woodstock Discos   \n",
       "2                              Banco do Brasil S.A.   \n",
       "3                                            Riotur   \n",
       "4                                              None   \n",
       "\n",
       "                           Address                 City State Country  \\\n",
       "0  Av. Brigadeiro Faria Lima, 2170  São José dos Campos    SP  Brazil   \n",
       "1        Rua Dr. Falcão Filho, 155            São Paulo    SP  Brazil   \n",
       "2               Av. Paulista, 2022            São Paulo    SP  Brazil   \n",
       "3                 Praça Pio X, 119       Rio de Janeiro    RJ  Brazil   \n",
       "4                     Qe 7 Bloco G             Brasília    DF  Brazil   \n",
       "\n",
       "  PostalCode               Phone                 Fax  \\\n",
       "0  12227-000  +55 (12) 3923-5555  +55 (12) 3923-5566   \n",
       "1  01007-010  +55 (11) 3033-5446  +55 (11) 3033-4564   \n",
       "2  01310-200  +55 (11) 3055-3278  +55 (11) 3055-8131   \n",
       "3  20040-020  +55 (21) 2271-7000  +55 (21) 2271-7070   \n",
       "4  71020-677  +55 (61) 3363-5547  +55 (61) 3363-7855   \n",
       "\n",
       "                           Email  SupportRepId  \n",
       "0           luisg@embraer.com.br             3  \n",
       "1       eduardo@woodstock.com.br             4  \n",
       "2               alero@uol.com.br             5  \n",
       "3  roberto.almeida@riotur.gov.br             3  \n",
       "4       fernadaramos4@uol.com.br             4  "
      ]
     },
     "execution_count": 8,
     "metadata": {},
     "output_type": "execute_result"
    }
   ],
   "source": [
    "#obten los clientes de Brasil\n",
    "\n",
    "query = '''\n",
    "SELECT * FROM CUSTOMERS\n",
    "WHERE Country = \"Brazil\"\n",
    "'''\n",
    "sql_query(query)\n"
   ]
  },
  {
   "cell_type": "code",
   "execution_count": 9,
   "metadata": {},
   "outputs": [
    {
     "data": {
      "application/vnd.microsoft.datawrangler.viewer.v0+json": {
       "columns": [
        {
         "name": "index",
         "rawType": "int64",
         "type": "integer"
        },
        {
         "name": "EmployeeId",
         "rawType": "int64",
         "type": "integer"
        },
        {
         "name": "LastName",
         "rawType": "object",
         "type": "string"
        },
        {
         "name": "FirstName",
         "rawType": "object",
         "type": "string"
        },
        {
         "name": "Title",
         "rawType": "object",
         "type": "string"
        },
        {
         "name": "ReportsTo",
         "rawType": "int64",
         "type": "integer"
        },
        {
         "name": "BirthDate",
         "rawType": "object",
         "type": "string"
        },
        {
         "name": "HireDate",
         "rawType": "object",
         "type": "string"
        },
        {
         "name": "Address",
         "rawType": "object",
         "type": "string"
        },
        {
         "name": "City",
         "rawType": "object",
         "type": "string"
        },
        {
         "name": "State",
         "rawType": "object",
         "type": "string"
        },
        {
         "name": "Country",
         "rawType": "object",
         "type": "string"
        },
        {
         "name": "PostalCode",
         "rawType": "object",
         "type": "string"
        },
        {
         "name": "Phone",
         "rawType": "object",
         "type": "string"
        },
        {
         "name": "Fax",
         "rawType": "object",
         "type": "string"
        },
        {
         "name": "Email",
         "rawType": "object",
         "type": "string"
        }
       ],
       "conversionMethod": "pd.DataFrame",
       "ref": "e206dee5-345e-4c67-afd7-1fbc8d8f1004",
       "rows": [
        [
         "0",
         "2",
         "Edwards",
         "Nancy",
         "Sales Manager",
         "1",
         "1958-12-08 00:00:00",
         "2002-05-01 00:00:00",
         "825 8 Ave SW",
         "Calgary",
         "AB",
         "Canada",
         "T2P 2T3",
         "+1 (403) 262-3443",
         "+1 (403) 262-3322",
         "nancy@chinookcorp.com"
        ],
        [
         "1",
         "3",
         "Peacock",
         "Jane",
         "Sales Support Agent",
         "2",
         "1973-08-29 00:00:00",
         "2002-04-01 00:00:00",
         "1111 6 Ave SW",
         "Calgary",
         "AB",
         "Canada",
         "T2P 5M5",
         "+1 (403) 262-3443",
         "+1 (403) 262-6712",
         "jane@chinookcorp.com"
        ],
        [
         "2",
         "4",
         "Park",
         "Margaret",
         "Sales Support Agent",
         "2",
         "1947-09-19 00:00:00",
         "2003-05-03 00:00:00",
         "683 10 Street SW",
         "Calgary",
         "AB",
         "Canada",
         "T2P 5G3",
         "+1 (403) 263-4423",
         "+1 (403) 263-4289",
         "margaret@chinookcorp.com"
        ],
        [
         "3",
         "5",
         "Johnson",
         "Steve",
         "Sales Support Agent",
         "2",
         "1965-03-03 00:00:00",
         "2003-10-17 00:00:00",
         "7727B 41 Ave",
         "Calgary",
         "AB",
         "Canada",
         "T3B 1Y7",
         "1 (780) 836-9987",
         "1 (780) 836-9543",
         "steve@chinookcorp.com"
        ]
       ],
       "shape": {
        "columns": 15,
        "rows": 4
       }
      },
      "text/html": [
       "<div>\n",
       "<style scoped>\n",
       "    .dataframe tbody tr th:only-of-type {\n",
       "        vertical-align: middle;\n",
       "    }\n",
       "\n",
       "    .dataframe tbody tr th {\n",
       "        vertical-align: top;\n",
       "    }\n",
       "\n",
       "    .dataframe thead th {\n",
       "        text-align: right;\n",
       "    }\n",
       "</style>\n",
       "<table border=\"1\" class=\"dataframe\">\n",
       "  <thead>\n",
       "    <tr style=\"text-align: right;\">\n",
       "      <th></th>\n",
       "      <th>EmployeeId</th>\n",
       "      <th>LastName</th>\n",
       "      <th>FirstName</th>\n",
       "      <th>Title</th>\n",
       "      <th>ReportsTo</th>\n",
       "      <th>BirthDate</th>\n",
       "      <th>HireDate</th>\n",
       "      <th>Address</th>\n",
       "      <th>City</th>\n",
       "      <th>State</th>\n",
       "      <th>Country</th>\n",
       "      <th>PostalCode</th>\n",
       "      <th>Phone</th>\n",
       "      <th>Fax</th>\n",
       "      <th>Email</th>\n",
       "    </tr>\n",
       "  </thead>\n",
       "  <tbody>\n",
       "    <tr>\n",
       "      <th>0</th>\n",
       "      <td>2</td>\n",
       "      <td>Edwards</td>\n",
       "      <td>Nancy</td>\n",
       "      <td>Sales Manager</td>\n",
       "      <td>1</td>\n",
       "      <td>1958-12-08 00:00:00</td>\n",
       "      <td>2002-05-01 00:00:00</td>\n",
       "      <td>825 8 Ave SW</td>\n",
       "      <td>Calgary</td>\n",
       "      <td>AB</td>\n",
       "      <td>Canada</td>\n",
       "      <td>T2P 2T3</td>\n",
       "      <td>+1 (403) 262-3443</td>\n",
       "      <td>+1 (403) 262-3322</td>\n",
       "      <td>nancy@chinookcorp.com</td>\n",
       "    </tr>\n",
       "    <tr>\n",
       "      <th>1</th>\n",
       "      <td>3</td>\n",
       "      <td>Peacock</td>\n",
       "      <td>Jane</td>\n",
       "      <td>Sales Support Agent</td>\n",
       "      <td>2</td>\n",
       "      <td>1973-08-29 00:00:00</td>\n",
       "      <td>2002-04-01 00:00:00</td>\n",
       "      <td>1111 6 Ave SW</td>\n",
       "      <td>Calgary</td>\n",
       "      <td>AB</td>\n",
       "      <td>Canada</td>\n",
       "      <td>T2P 5M5</td>\n",
       "      <td>+1 (403) 262-3443</td>\n",
       "      <td>+1 (403) 262-6712</td>\n",
       "      <td>jane@chinookcorp.com</td>\n",
       "    </tr>\n",
       "    <tr>\n",
       "      <th>2</th>\n",
       "      <td>4</td>\n",
       "      <td>Park</td>\n",
       "      <td>Margaret</td>\n",
       "      <td>Sales Support Agent</td>\n",
       "      <td>2</td>\n",
       "      <td>1947-09-19 00:00:00</td>\n",
       "      <td>2003-05-03 00:00:00</td>\n",
       "      <td>683 10 Street SW</td>\n",
       "      <td>Calgary</td>\n",
       "      <td>AB</td>\n",
       "      <td>Canada</td>\n",
       "      <td>T2P 5G3</td>\n",
       "      <td>+1 (403) 263-4423</td>\n",
       "      <td>+1 (403) 263-4289</td>\n",
       "      <td>margaret@chinookcorp.com</td>\n",
       "    </tr>\n",
       "    <tr>\n",
       "      <th>3</th>\n",
       "      <td>5</td>\n",
       "      <td>Johnson</td>\n",
       "      <td>Steve</td>\n",
       "      <td>Sales Support Agent</td>\n",
       "      <td>2</td>\n",
       "      <td>1965-03-03 00:00:00</td>\n",
       "      <td>2003-10-17 00:00:00</td>\n",
       "      <td>7727B 41 Ave</td>\n",
       "      <td>Calgary</td>\n",
       "      <td>AB</td>\n",
       "      <td>Canada</td>\n",
       "      <td>T3B 1Y7</td>\n",
       "      <td>1 (780) 836-9987</td>\n",
       "      <td>1 (780) 836-9543</td>\n",
       "      <td>steve@chinookcorp.com</td>\n",
       "    </tr>\n",
       "  </tbody>\n",
       "</table>\n",
       "</div>"
      ],
      "text/plain": [
       "   EmployeeId LastName FirstName                Title  ReportsTo  \\\n",
       "0           2  Edwards     Nancy        Sales Manager          1   \n",
       "1           3  Peacock      Jane  Sales Support Agent          2   \n",
       "2           4     Park  Margaret  Sales Support Agent          2   \n",
       "3           5  Johnson     Steve  Sales Support Agent          2   \n",
       "\n",
       "             BirthDate             HireDate           Address     City State  \\\n",
       "0  1958-12-08 00:00:00  2002-05-01 00:00:00      825 8 Ave SW  Calgary    AB   \n",
       "1  1973-08-29 00:00:00  2002-04-01 00:00:00     1111 6 Ave SW  Calgary    AB   \n",
       "2  1947-09-19 00:00:00  2003-05-03 00:00:00  683 10 Street SW  Calgary    AB   \n",
       "3  1965-03-03 00:00:00  2003-10-17 00:00:00      7727B 41 Ave  Calgary    AB   \n",
       "\n",
       "  Country PostalCode              Phone                Fax  \\\n",
       "0  Canada    T2P 2T3  +1 (403) 262-3443  +1 (403) 262-3322   \n",
       "1  Canada    T2P 5M5  +1 (403) 262-3443  +1 (403) 262-6712   \n",
       "2  Canada    T2P 5G3  +1 (403) 263-4423  +1 (403) 263-4289   \n",
       "3  Canada    T3B 1Y7   1 (780) 836-9987   1 (780) 836-9543   \n",
       "\n",
       "                      Email  \n",
       "0     nancy@chinookcorp.com  \n",
       "1      jane@chinookcorp.com  \n",
       "2  margaret@chinookcorp.com  \n",
       "3     steve@chinookcorp.com  "
      ]
     },
     "execution_count": 9,
     "metadata": {},
     "output_type": "execute_result"
    }
   ],
   "source": [
    "# Obtén los empleados que son agentes de ventas\n",
    "query = '''\n",
    "SELECT * FROM Employees\n",
    "WHERE title = \"Sales Support Agent\" or title = \"Sales Manager\"\n",
    "'''\n",
    "sql_query(query)\n"
   ]
  },
  {
   "cell_type": "code",
   "execution_count": 10,
   "metadata": {},
   "outputs": [
    {
     "data": {
      "application/vnd.microsoft.datawrangler.viewer.v0+json": {
       "columns": [
        {
         "name": "index",
         "rawType": "int64",
         "type": "integer"
        },
        {
         "name": "Name",
         "rawType": "object",
         "type": "string"
        }
       ],
       "conversionMethod": "pd.DataFrame",
       "ref": "6bf9460d-dccb-4a6f-a6e8-2f517c9fcd23",
       "rows": [
        [
         "0",
         "AC/DC"
        ],
        [
         "1",
         "Accept"
        ],
        [
         "2",
         "Aerosmith"
        ],
        [
         "3",
         "Alanis Morissette"
        ],
        [
         "4",
         "Alice In Chains"
        ],
        [
         "5",
         "Antônio Carlos Jobim"
        ],
        [
         "6",
         "Apocalyptica"
        ],
        [
         "7",
         "Audioslave"
        ],
        [
         "8",
         "BackBeat"
        ],
        [
         "9",
         "Billy Cobham"
        ],
        [
         "10",
         "Black Label Society"
        ],
        [
         "11",
         "Black Sabbath"
        ],
        [
         "12",
         "Body Count"
        ],
        [
         "13",
         "Bruce Dickinson"
        ],
        [
         "14",
         "Buddy Guy"
        ],
        [
         "15",
         "Caetano Veloso"
        ],
        [
         "16",
         "Chico Buarque"
        ],
        [
         "17",
         "Chico Science & Nação Zumbi"
        ],
        [
         "18",
         "Cidade Negra"
        ],
        [
         "19",
         "Cláudio Zoli"
        ],
        [
         "20",
         "Various Artists"
        ],
        [
         "21",
         "Led Zeppelin"
        ],
        [
         "22",
         "Frank Zappa & Captain Beefheart"
        ],
        [
         "23",
         "Marcos Valle"
        ],
        [
         "24",
         "Milton Nascimento & Bebeto"
        ],
        [
         "25",
         "Azymuth"
        ],
        [
         "26",
         "Gilberto Gil"
        ],
        [
         "27",
         "João Gilberto"
        ],
        [
         "28",
         "Bebel Gilberto"
        ],
        [
         "29",
         "Jorge Vercilo"
        ],
        [
         "30",
         "Baby Consuelo"
        ],
        [
         "31",
         "Ney Matogrosso"
        ],
        [
         "32",
         "Luiz Melodia"
        ],
        [
         "33",
         "Nando Reis"
        ],
        [
         "34",
         "Pedro Luís & A Parede"
        ],
        [
         "35",
         "O Rappa"
        ],
        [
         "36",
         "Ed Motta"
        ],
        [
         "37",
         "Banda Black Rio"
        ],
        [
         "38",
         "Fernanda Porto"
        ],
        [
         "39",
         "Os Cariocas"
        ],
        [
         "40",
         "Elis Regina"
        ],
        [
         "41",
         "Milton Nascimento"
        ],
        [
         "42",
         "A Cor Do Som"
        ],
        [
         "43",
         "Kid Abelha"
        ],
        [
         "44",
         "Sandra De Sá"
        ],
        [
         "45",
         "Jorge Ben"
        ],
        [
         "46",
         "Hermeto Pascoal"
        ],
        [
         "47",
         "Barão Vermelho"
        ],
        [
         "48",
         "Edson, DJ Marky & DJ Patife Featuring Fernanda Porto"
        ],
        [
         "49",
         "Metallica"
        ]
       ],
       "shape": {
        "columns": 1,
        "rows": 275
       }
      },
      "text/html": [
       "<div>\n",
       "<style scoped>\n",
       "    .dataframe tbody tr th:only-of-type {\n",
       "        vertical-align: middle;\n",
       "    }\n",
       "\n",
       "    .dataframe tbody tr th {\n",
       "        vertical-align: top;\n",
       "    }\n",
       "\n",
       "    .dataframe thead th {\n",
       "        text-align: right;\n",
       "    }\n",
       "</style>\n",
       "<table border=\"1\" class=\"dataframe\">\n",
       "  <thead>\n",
       "    <tr style=\"text-align: right;\">\n",
       "      <th></th>\n",
       "      <th>Name</th>\n",
       "    </tr>\n",
       "  </thead>\n",
       "  <tbody>\n",
       "    <tr>\n",
       "      <th>0</th>\n",
       "      <td>AC/DC</td>\n",
       "    </tr>\n",
       "    <tr>\n",
       "      <th>1</th>\n",
       "      <td>Accept</td>\n",
       "    </tr>\n",
       "    <tr>\n",
       "      <th>2</th>\n",
       "      <td>Aerosmith</td>\n",
       "    </tr>\n",
       "    <tr>\n",
       "      <th>3</th>\n",
       "      <td>Alanis Morissette</td>\n",
       "    </tr>\n",
       "    <tr>\n",
       "      <th>4</th>\n",
       "      <td>Alice In Chains</td>\n",
       "    </tr>\n",
       "    <tr>\n",
       "      <th>...</th>\n",
       "      <td>...</td>\n",
       "    </tr>\n",
       "    <tr>\n",
       "      <th>270</th>\n",
       "      <td>Mela Tenenbaum, Pro Musica Prague &amp; Richard Kapp</td>\n",
       "    </tr>\n",
       "    <tr>\n",
       "      <th>271</th>\n",
       "      <td>Emerson String Quartet</td>\n",
       "    </tr>\n",
       "    <tr>\n",
       "      <th>272</th>\n",
       "      <td>C. Monteverdi, Nigel Rogers - Chiaroscuro; Lon...</td>\n",
       "    </tr>\n",
       "    <tr>\n",
       "      <th>273</th>\n",
       "      <td>Nash Ensemble</td>\n",
       "    </tr>\n",
       "    <tr>\n",
       "      <th>274</th>\n",
       "      <td>Philip Glass Ensemble</td>\n",
       "    </tr>\n",
       "  </tbody>\n",
       "</table>\n",
       "<p>275 rows × 1 columns</p>\n",
       "</div>"
      ],
      "text/plain": [
       "                                                  Name\n",
       "0                                                AC/DC\n",
       "1                                               Accept\n",
       "2                                            Aerosmith\n",
       "3                                    Alanis Morissette\n",
       "4                                      Alice In Chains\n",
       "..                                                 ...\n",
       "270   Mela Tenenbaum, Pro Musica Prague & Richard Kapp\n",
       "271                             Emerson String Quartet\n",
       "272  C. Monteverdi, Nigel Rogers - Chiaroscuro; Lon...\n",
       "273                                      Nash Ensemble\n",
       "274                              Philip Glass Ensemble\n",
       "\n",
       "[275 rows x 1 columns]"
      ]
     },
     "execution_count": 10,
     "metadata": {},
     "output_type": "execute_result"
    }
   ],
   "source": [
    "# Obtén las canciones de ‘AC/DC\n",
    "query = '''\n",
    "SELECT DISTINCT Name FROM Artists;\n",
    "'''\n",
    "sql_query(query)\n",
    "\n",
    "\n"
   ]
  },
  {
   "cell_type": "code",
   "execution_count": 11,
   "metadata": {},
   "outputs": [
    {
     "data": {
      "application/vnd.microsoft.datawrangler.viewer.v0+json": {
       "columns": [
        {
         "name": "index",
         "rawType": "int64",
         "type": "integer"
        },
        {
         "name": "TrackId",
         "rawType": "int64",
         "type": "integer"
        },
        {
         "name": "Name",
         "rawType": "object",
         "type": "string"
        },
        {
         "name": "AlbumId",
         "rawType": "int64",
         "type": "integer"
        },
        {
         "name": "MediaTypeId",
         "rawType": "int64",
         "type": "integer"
        },
        {
         "name": "GenreId",
         "rawType": "int64",
         "type": "integer"
        },
        {
         "name": "Composer",
         "rawType": "object",
         "type": "string"
        },
        {
         "name": "Milliseconds",
         "rawType": "int64",
         "type": "integer"
        },
        {
         "name": "Bytes",
         "rawType": "int64",
         "type": "integer"
        },
        {
         "name": "UnitPrice",
         "rawType": "float64",
         "type": "float"
        }
       ],
       "conversionMethod": "pd.DataFrame",
       "ref": "b3626a53-867f-44a1-9863-6994b122642b",
       "rows": [
        [
         "0",
         "15",
         "Go Down",
         "4",
         "1",
         "1",
         "AC/DC",
         "331180",
         "10847611",
         "0.99"
        ],
        [
         "1",
         "16",
         "Dog Eat Dog",
         "4",
         "1",
         "1",
         "AC/DC",
         "215196",
         "7032162",
         "0.99"
        ],
        [
         "2",
         "17",
         "Let There Be Rock",
         "4",
         "1",
         "1",
         "AC/DC",
         "366654",
         "12021261",
         "0.99"
        ],
        [
         "3",
         "18",
         "Bad Boy Boogie",
         "4",
         "1",
         "1",
         "AC/DC",
         "267728",
         "8776140",
         "0.99"
        ],
        [
         "4",
         "19",
         "Problem Child",
         "4",
         "1",
         "1",
         "AC/DC",
         "325041",
         "10617116",
         "0.99"
        ],
        [
         "5",
         "20",
         "Overdose",
         "4",
         "1",
         "1",
         "AC/DC",
         "369319",
         "12066294",
         "0.99"
        ],
        [
         "6",
         "21",
         "Hell Ain't A Bad Place To Be",
         "4",
         "1",
         "1",
         "AC/DC",
         "254380",
         "8331286",
         "0.99"
        ],
        [
         "7",
         "22",
         "Whole Lotta Rosie",
         "4",
         "1",
         "1",
         "AC/DC",
         "323761",
         "10547154",
         "0.99"
        ]
       ],
       "shape": {
        "columns": 9,
        "rows": 8
       }
      },
      "text/html": [
       "<div>\n",
       "<style scoped>\n",
       "    .dataframe tbody tr th:only-of-type {\n",
       "        vertical-align: middle;\n",
       "    }\n",
       "\n",
       "    .dataframe tbody tr th {\n",
       "        vertical-align: top;\n",
       "    }\n",
       "\n",
       "    .dataframe thead th {\n",
       "        text-align: right;\n",
       "    }\n",
       "</style>\n",
       "<table border=\"1\" class=\"dataframe\">\n",
       "  <thead>\n",
       "    <tr style=\"text-align: right;\">\n",
       "      <th></th>\n",
       "      <th>TrackId</th>\n",
       "      <th>Name</th>\n",
       "      <th>AlbumId</th>\n",
       "      <th>MediaTypeId</th>\n",
       "      <th>GenreId</th>\n",
       "      <th>Composer</th>\n",
       "      <th>Milliseconds</th>\n",
       "      <th>Bytes</th>\n",
       "      <th>UnitPrice</th>\n",
       "    </tr>\n",
       "  </thead>\n",
       "  <tbody>\n",
       "    <tr>\n",
       "      <th>0</th>\n",
       "      <td>15</td>\n",
       "      <td>Go Down</td>\n",
       "      <td>4</td>\n",
       "      <td>1</td>\n",
       "      <td>1</td>\n",
       "      <td>AC/DC</td>\n",
       "      <td>331180</td>\n",
       "      <td>10847611</td>\n",
       "      <td>0.99</td>\n",
       "    </tr>\n",
       "    <tr>\n",
       "      <th>1</th>\n",
       "      <td>16</td>\n",
       "      <td>Dog Eat Dog</td>\n",
       "      <td>4</td>\n",
       "      <td>1</td>\n",
       "      <td>1</td>\n",
       "      <td>AC/DC</td>\n",
       "      <td>215196</td>\n",
       "      <td>7032162</td>\n",
       "      <td>0.99</td>\n",
       "    </tr>\n",
       "    <tr>\n",
       "      <th>2</th>\n",
       "      <td>17</td>\n",
       "      <td>Let There Be Rock</td>\n",
       "      <td>4</td>\n",
       "      <td>1</td>\n",
       "      <td>1</td>\n",
       "      <td>AC/DC</td>\n",
       "      <td>366654</td>\n",
       "      <td>12021261</td>\n",
       "      <td>0.99</td>\n",
       "    </tr>\n",
       "    <tr>\n",
       "      <th>3</th>\n",
       "      <td>18</td>\n",
       "      <td>Bad Boy Boogie</td>\n",
       "      <td>4</td>\n",
       "      <td>1</td>\n",
       "      <td>1</td>\n",
       "      <td>AC/DC</td>\n",
       "      <td>267728</td>\n",
       "      <td>8776140</td>\n",
       "      <td>0.99</td>\n",
       "    </tr>\n",
       "    <tr>\n",
       "      <th>4</th>\n",
       "      <td>19</td>\n",
       "      <td>Problem Child</td>\n",
       "      <td>4</td>\n",
       "      <td>1</td>\n",
       "      <td>1</td>\n",
       "      <td>AC/DC</td>\n",
       "      <td>325041</td>\n",
       "      <td>10617116</td>\n",
       "      <td>0.99</td>\n",
       "    </tr>\n",
       "    <tr>\n",
       "      <th>5</th>\n",
       "      <td>20</td>\n",
       "      <td>Overdose</td>\n",
       "      <td>4</td>\n",
       "      <td>1</td>\n",
       "      <td>1</td>\n",
       "      <td>AC/DC</td>\n",
       "      <td>369319</td>\n",
       "      <td>12066294</td>\n",
       "      <td>0.99</td>\n",
       "    </tr>\n",
       "    <tr>\n",
       "      <th>6</th>\n",
       "      <td>21</td>\n",
       "      <td>Hell Ain't A Bad Place To Be</td>\n",
       "      <td>4</td>\n",
       "      <td>1</td>\n",
       "      <td>1</td>\n",
       "      <td>AC/DC</td>\n",
       "      <td>254380</td>\n",
       "      <td>8331286</td>\n",
       "      <td>0.99</td>\n",
       "    </tr>\n",
       "    <tr>\n",
       "      <th>7</th>\n",
       "      <td>22</td>\n",
       "      <td>Whole Lotta Rosie</td>\n",
       "      <td>4</td>\n",
       "      <td>1</td>\n",
       "      <td>1</td>\n",
       "      <td>AC/DC</td>\n",
       "      <td>323761</td>\n",
       "      <td>10547154</td>\n",
       "      <td>0.99</td>\n",
       "    </tr>\n",
       "  </tbody>\n",
       "</table>\n",
       "</div>"
      ],
      "text/plain": [
       "   TrackId                          Name  AlbumId  MediaTypeId  GenreId  \\\n",
       "0       15                       Go Down        4            1        1   \n",
       "1       16                   Dog Eat Dog        4            1        1   \n",
       "2       17             Let There Be Rock        4            1        1   \n",
       "3       18                Bad Boy Boogie        4            1        1   \n",
       "4       19                 Problem Child        4            1        1   \n",
       "5       20                      Overdose        4            1        1   \n",
       "6       21  Hell Ain't A Bad Place To Be        4            1        1   \n",
       "7       22             Whole Lotta Rosie        4            1        1   \n",
       "\n",
       "  Composer  Milliseconds     Bytes  UnitPrice  \n",
       "0    AC/DC        331180  10847611       0.99  \n",
       "1    AC/DC        215196   7032162       0.99  \n",
       "2    AC/DC        366654  12021261       0.99  \n",
       "3    AC/DC        267728   8776140       0.99  \n",
       "4    AC/DC        325041  10617116       0.99  \n",
       "5    AC/DC        369319  12066294       0.99  \n",
       "6    AC/DC        254380   8331286       0.99  \n",
       "7    AC/DC        323761  10547154       0.99  "
      ]
     },
     "execution_count": 11,
     "metadata": {},
     "output_type": "execute_result"
    }
   ],
   "source": [
    "query = '''\n",
    "SELECT * FROM tracks\n",
    "WHERE composer = 'AC/DC'\n",
    "'''\n",
    "sql_query(query)"
   ]
  },
  {
   "cell_type": "code",
   "execution_count": 14,
   "metadata": {},
   "outputs": [
    {
     "data": {
      "application/vnd.microsoft.datawrangler.viewer.v0+json": {
       "columns": [
        {
         "name": "index",
         "rawType": "int64",
         "type": "integer"
        },
        {
         "name": "CustomerId",
         "rawType": "int64",
         "type": "integer"
        },
        {
         "name": "FirstName || ' ' || LastName",
         "rawType": "object",
         "type": "string"
        },
        {
         "name": "Country",
         "rawType": "object",
         "type": "string"
        }
       ],
       "conversionMethod": "pd.DataFrame",
       "ref": "391c15c3-b0ff-4522-b9b3-4226e5d0af9c",
       "rows": [
        [
         "0",
         "1",
         "Luís Gonçalves",
         "Brazil"
        ],
        [
         "1",
         "2",
         "Leonie Köhler",
         "Germany"
        ],
        [
         "2",
         "3",
         "François Tremblay",
         "Canada"
        ],
        [
         "3",
         "4",
         "Bjørn Hansen",
         "Norway"
        ],
        [
         "4",
         "5",
         "František Wichterlová",
         "Czech Republic"
        ],
        [
         "5",
         "6",
         "Helena Holý",
         "Czech Republic"
        ],
        [
         "6",
         "7",
         "Astrid Gruber",
         "Austria"
        ],
        [
         "7",
         "8",
         "Daan Peeters",
         "Belgium"
        ],
        [
         "8",
         "9",
         "Kara Nielsen",
         "Denmark"
        ],
        [
         "9",
         "10",
         "Eduardo Martins",
         "Brazil"
        ],
        [
         "10",
         "11",
         "Alexandre Rocha",
         "Brazil"
        ],
        [
         "11",
         "12",
         "Roberto Almeida",
         "Brazil"
        ],
        [
         "12",
         "13",
         "Fernanda Ramos",
         "Brazil"
        ],
        [
         "13",
         "14",
         "Mark Philips",
         "Canada"
        ],
        [
         "14",
         "15",
         "Jennifer Peterson",
         "Canada"
        ],
        [
         "15",
         "29",
         "Robert Brown",
         "Canada"
        ],
        [
         "16",
         "30",
         "Edward Francis",
         "Canada"
        ],
        [
         "17",
         "31",
         "Martha Silk",
         "Canada"
        ],
        [
         "18",
         "32",
         "Aaron Mitchell",
         "Canada"
        ],
        [
         "19",
         "33",
         "Ellie Sullivan",
         "Canada"
        ],
        [
         "20",
         "34",
         "João Fernandes",
         "Portugal"
        ],
        [
         "21",
         "35",
         "Madalena Sampaio",
         "Portugal"
        ],
        [
         "22",
         "36",
         "Hannah Schneider",
         "Germany"
        ],
        [
         "23",
         "37",
         "Fynn Zimmermann",
         "Germany"
        ],
        [
         "24",
         "38",
         "Niklas Schröder",
         "Germany"
        ],
        [
         "25",
         "39",
         "Camille Bernard",
         "France"
        ],
        [
         "26",
         "40",
         "Dominique Lefebvre",
         "France"
        ],
        [
         "27",
         "41",
         "Marc Dubois",
         "France"
        ],
        [
         "28",
         "42",
         "Wyatt Girard",
         "France"
        ],
        [
         "29",
         "43",
         "Isabelle Mercier",
         "France"
        ],
        [
         "30",
         "44",
         "Terhi Hämäläinen",
         "Finland"
        ],
        [
         "31",
         "45",
         "Ladislav Kovács",
         "Hungary"
        ],
        [
         "32",
         "46",
         "Hugh O'Reilly",
         "Ireland"
        ],
        [
         "33",
         "47",
         "Lucas Mancini",
         "Italy"
        ],
        [
         "34",
         "48",
         "Johannes Van der Berg",
         "Netherlands"
        ],
        [
         "35",
         "49",
         "Stanisław Wójcik",
         "Poland"
        ],
        [
         "36",
         "50",
         "Enrique Muñoz",
         "Spain"
        ],
        [
         "37",
         "51",
         "Joakim Johansson",
         "Sweden"
        ],
        [
         "38",
         "52",
         "Emma Jones",
         "United Kingdom"
        ],
        [
         "39",
         "53",
         "Phil Hughes",
         "United Kingdom"
        ],
        [
         "40",
         "54",
         "Steve Murray",
         "United Kingdom"
        ],
        [
         "41",
         "55",
         "Mark Taylor",
         "Australia"
        ],
        [
         "42",
         "56",
         "Diego Gutiérrez",
         "Argentina"
        ],
        [
         "43",
         "57",
         "Luis Rojas",
         "Chile"
        ],
        [
         "44",
         "58",
         "Manoj Pareek",
         "India"
        ],
        [
         "45",
         "59",
         "Puja Srivastava",
         "India"
        ]
       ],
       "shape": {
        "columns": 3,
        "rows": 46
       }
      },
      "text/html": [
       "<div>\n",
       "<style scoped>\n",
       "    .dataframe tbody tr th:only-of-type {\n",
       "        vertical-align: middle;\n",
       "    }\n",
       "\n",
       "    .dataframe tbody tr th {\n",
       "        vertical-align: top;\n",
       "    }\n",
       "\n",
       "    .dataframe thead th {\n",
       "        text-align: right;\n",
       "    }\n",
       "</style>\n",
       "<table border=\"1\" class=\"dataframe\">\n",
       "  <thead>\n",
       "    <tr style=\"text-align: right;\">\n",
       "      <th></th>\n",
       "      <th>CustomerId</th>\n",
       "      <th>FirstName || ' ' || LastName</th>\n",
       "      <th>Country</th>\n",
       "    </tr>\n",
       "  </thead>\n",
       "  <tbody>\n",
       "    <tr>\n",
       "      <th>0</th>\n",
       "      <td>1</td>\n",
       "      <td>Luís Gonçalves</td>\n",
       "      <td>Brazil</td>\n",
       "    </tr>\n",
       "    <tr>\n",
       "      <th>1</th>\n",
       "      <td>2</td>\n",
       "      <td>Leonie Köhler</td>\n",
       "      <td>Germany</td>\n",
       "    </tr>\n",
       "    <tr>\n",
       "      <th>2</th>\n",
       "      <td>3</td>\n",
       "      <td>François Tremblay</td>\n",
       "      <td>Canada</td>\n",
       "    </tr>\n",
       "    <tr>\n",
       "      <th>3</th>\n",
       "      <td>4</td>\n",
       "      <td>Bjørn Hansen</td>\n",
       "      <td>Norway</td>\n",
       "    </tr>\n",
       "    <tr>\n",
       "      <th>4</th>\n",
       "      <td>5</td>\n",
       "      <td>František Wichterlová</td>\n",
       "      <td>Czech Republic</td>\n",
       "    </tr>\n",
       "    <tr>\n",
       "      <th>5</th>\n",
       "      <td>6</td>\n",
       "      <td>Helena Holý</td>\n",
       "      <td>Czech Republic</td>\n",
       "    </tr>\n",
       "    <tr>\n",
       "      <th>6</th>\n",
       "      <td>7</td>\n",
       "      <td>Astrid Gruber</td>\n",
       "      <td>Austria</td>\n",
       "    </tr>\n",
       "    <tr>\n",
       "      <th>7</th>\n",
       "      <td>8</td>\n",
       "      <td>Daan Peeters</td>\n",
       "      <td>Belgium</td>\n",
       "    </tr>\n",
       "    <tr>\n",
       "      <th>8</th>\n",
       "      <td>9</td>\n",
       "      <td>Kara Nielsen</td>\n",
       "      <td>Denmark</td>\n",
       "    </tr>\n",
       "    <tr>\n",
       "      <th>9</th>\n",
       "      <td>10</td>\n",
       "      <td>Eduardo Martins</td>\n",
       "      <td>Brazil</td>\n",
       "    </tr>\n",
       "    <tr>\n",
       "      <th>10</th>\n",
       "      <td>11</td>\n",
       "      <td>Alexandre Rocha</td>\n",
       "      <td>Brazil</td>\n",
       "    </tr>\n",
       "    <tr>\n",
       "      <th>11</th>\n",
       "      <td>12</td>\n",
       "      <td>Roberto Almeida</td>\n",
       "      <td>Brazil</td>\n",
       "    </tr>\n",
       "    <tr>\n",
       "      <th>12</th>\n",
       "      <td>13</td>\n",
       "      <td>Fernanda Ramos</td>\n",
       "      <td>Brazil</td>\n",
       "    </tr>\n",
       "    <tr>\n",
       "      <th>13</th>\n",
       "      <td>14</td>\n",
       "      <td>Mark Philips</td>\n",
       "      <td>Canada</td>\n",
       "    </tr>\n",
       "    <tr>\n",
       "      <th>14</th>\n",
       "      <td>15</td>\n",
       "      <td>Jennifer Peterson</td>\n",
       "      <td>Canada</td>\n",
       "    </tr>\n",
       "    <tr>\n",
       "      <th>15</th>\n",
       "      <td>29</td>\n",
       "      <td>Robert Brown</td>\n",
       "      <td>Canada</td>\n",
       "    </tr>\n",
       "    <tr>\n",
       "      <th>16</th>\n",
       "      <td>30</td>\n",
       "      <td>Edward Francis</td>\n",
       "      <td>Canada</td>\n",
       "    </tr>\n",
       "    <tr>\n",
       "      <th>17</th>\n",
       "      <td>31</td>\n",
       "      <td>Martha Silk</td>\n",
       "      <td>Canada</td>\n",
       "    </tr>\n",
       "    <tr>\n",
       "      <th>18</th>\n",
       "      <td>32</td>\n",
       "      <td>Aaron Mitchell</td>\n",
       "      <td>Canada</td>\n",
       "    </tr>\n",
       "    <tr>\n",
       "      <th>19</th>\n",
       "      <td>33</td>\n",
       "      <td>Ellie Sullivan</td>\n",
       "      <td>Canada</td>\n",
       "    </tr>\n",
       "    <tr>\n",
       "      <th>20</th>\n",
       "      <td>34</td>\n",
       "      <td>João Fernandes</td>\n",
       "      <td>Portugal</td>\n",
       "    </tr>\n",
       "    <tr>\n",
       "      <th>21</th>\n",
       "      <td>35</td>\n",
       "      <td>Madalena Sampaio</td>\n",
       "      <td>Portugal</td>\n",
       "    </tr>\n",
       "    <tr>\n",
       "      <th>22</th>\n",
       "      <td>36</td>\n",
       "      <td>Hannah Schneider</td>\n",
       "      <td>Germany</td>\n",
       "    </tr>\n",
       "    <tr>\n",
       "      <th>23</th>\n",
       "      <td>37</td>\n",
       "      <td>Fynn Zimmermann</td>\n",
       "      <td>Germany</td>\n",
       "    </tr>\n",
       "    <tr>\n",
       "      <th>24</th>\n",
       "      <td>38</td>\n",
       "      <td>Niklas Schröder</td>\n",
       "      <td>Germany</td>\n",
       "    </tr>\n",
       "    <tr>\n",
       "      <th>25</th>\n",
       "      <td>39</td>\n",
       "      <td>Camille Bernard</td>\n",
       "      <td>France</td>\n",
       "    </tr>\n",
       "    <tr>\n",
       "      <th>26</th>\n",
       "      <td>40</td>\n",
       "      <td>Dominique Lefebvre</td>\n",
       "      <td>France</td>\n",
       "    </tr>\n",
       "    <tr>\n",
       "      <th>27</th>\n",
       "      <td>41</td>\n",
       "      <td>Marc Dubois</td>\n",
       "      <td>France</td>\n",
       "    </tr>\n",
       "    <tr>\n",
       "      <th>28</th>\n",
       "      <td>42</td>\n",
       "      <td>Wyatt Girard</td>\n",
       "      <td>France</td>\n",
       "    </tr>\n",
       "    <tr>\n",
       "      <th>29</th>\n",
       "      <td>43</td>\n",
       "      <td>Isabelle Mercier</td>\n",
       "      <td>France</td>\n",
       "    </tr>\n",
       "    <tr>\n",
       "      <th>30</th>\n",
       "      <td>44</td>\n",
       "      <td>Terhi Hämäläinen</td>\n",
       "      <td>Finland</td>\n",
       "    </tr>\n",
       "    <tr>\n",
       "      <th>31</th>\n",
       "      <td>45</td>\n",
       "      <td>Ladislav Kovács</td>\n",
       "      <td>Hungary</td>\n",
       "    </tr>\n",
       "    <tr>\n",
       "      <th>32</th>\n",
       "      <td>46</td>\n",
       "      <td>Hugh O'Reilly</td>\n",
       "      <td>Ireland</td>\n",
       "    </tr>\n",
       "    <tr>\n",
       "      <th>33</th>\n",
       "      <td>47</td>\n",
       "      <td>Lucas Mancini</td>\n",
       "      <td>Italy</td>\n",
       "    </tr>\n",
       "    <tr>\n",
       "      <th>34</th>\n",
       "      <td>48</td>\n",
       "      <td>Johannes Van der Berg</td>\n",
       "      <td>Netherlands</td>\n",
       "    </tr>\n",
       "    <tr>\n",
       "      <th>35</th>\n",
       "      <td>49</td>\n",
       "      <td>Stanisław Wójcik</td>\n",
       "      <td>Poland</td>\n",
       "    </tr>\n",
       "    <tr>\n",
       "      <th>36</th>\n",
       "      <td>50</td>\n",
       "      <td>Enrique Muñoz</td>\n",
       "      <td>Spain</td>\n",
       "    </tr>\n",
       "    <tr>\n",
       "      <th>37</th>\n",
       "      <td>51</td>\n",
       "      <td>Joakim Johansson</td>\n",
       "      <td>Sweden</td>\n",
       "    </tr>\n",
       "    <tr>\n",
       "      <th>38</th>\n",
       "      <td>52</td>\n",
       "      <td>Emma Jones</td>\n",
       "      <td>United Kingdom</td>\n",
       "    </tr>\n",
       "    <tr>\n",
       "      <th>39</th>\n",
       "      <td>53</td>\n",
       "      <td>Phil Hughes</td>\n",
       "      <td>United Kingdom</td>\n",
       "    </tr>\n",
       "    <tr>\n",
       "      <th>40</th>\n",
       "      <td>54</td>\n",
       "      <td>Steve Murray</td>\n",
       "      <td>United Kingdom</td>\n",
       "    </tr>\n",
       "    <tr>\n",
       "      <th>41</th>\n",
       "      <td>55</td>\n",
       "      <td>Mark Taylor</td>\n",
       "      <td>Australia</td>\n",
       "    </tr>\n",
       "    <tr>\n",
       "      <th>42</th>\n",
       "      <td>56</td>\n",
       "      <td>Diego Gutiérrez</td>\n",
       "      <td>Argentina</td>\n",
       "    </tr>\n",
       "    <tr>\n",
       "      <th>43</th>\n",
       "      <td>57</td>\n",
       "      <td>Luis Rojas</td>\n",
       "      <td>Chile</td>\n",
       "    </tr>\n",
       "    <tr>\n",
       "      <th>44</th>\n",
       "      <td>58</td>\n",
       "      <td>Manoj Pareek</td>\n",
       "      <td>India</td>\n",
       "    </tr>\n",
       "    <tr>\n",
       "      <th>45</th>\n",
       "      <td>59</td>\n",
       "      <td>Puja Srivastava</td>\n",
       "      <td>India</td>\n",
       "    </tr>\n",
       "  </tbody>\n",
       "</table>\n",
       "</div>"
      ],
      "text/plain": [
       "    CustomerId FirstName || ' ' || LastName         Country\n",
       "0            1               Luís Gonçalves          Brazil\n",
       "1            2                Leonie Köhler         Germany\n",
       "2            3            François Tremblay          Canada\n",
       "3            4                 Bjørn Hansen          Norway\n",
       "4            5        František Wichterlová  Czech Republic\n",
       "5            6                  Helena Holý  Czech Republic\n",
       "6            7                Astrid Gruber         Austria\n",
       "7            8                 Daan Peeters         Belgium\n",
       "8            9                 Kara Nielsen         Denmark\n",
       "9           10              Eduardo Martins          Brazil\n",
       "10          11              Alexandre Rocha          Brazil\n",
       "11          12              Roberto Almeida          Brazil\n",
       "12          13               Fernanda Ramos          Brazil\n",
       "13          14                 Mark Philips          Canada\n",
       "14          15            Jennifer Peterson          Canada\n",
       "15          29                 Robert Brown          Canada\n",
       "16          30               Edward Francis          Canada\n",
       "17          31                  Martha Silk          Canada\n",
       "18          32               Aaron Mitchell          Canada\n",
       "19          33               Ellie Sullivan          Canada\n",
       "20          34               João Fernandes        Portugal\n",
       "21          35             Madalena Sampaio        Portugal\n",
       "22          36             Hannah Schneider         Germany\n",
       "23          37              Fynn Zimmermann         Germany\n",
       "24          38              Niklas Schröder         Germany\n",
       "25          39              Camille Bernard          France\n",
       "26          40           Dominique Lefebvre          France\n",
       "27          41                  Marc Dubois          France\n",
       "28          42                 Wyatt Girard          France\n",
       "29          43             Isabelle Mercier          France\n",
       "30          44             Terhi Hämäläinen         Finland\n",
       "31          45              Ladislav Kovács         Hungary\n",
       "32          46                Hugh O'Reilly         Ireland\n",
       "33          47                Lucas Mancini           Italy\n",
       "34          48        Johannes Van der Berg     Netherlands\n",
       "35          49             Stanisław Wójcik          Poland\n",
       "36          50                Enrique Muñoz           Spain\n",
       "37          51             Joakim Johansson          Sweden\n",
       "38          52                   Emma Jones  United Kingdom\n",
       "39          53                  Phil Hughes  United Kingdom\n",
       "40          54                 Steve Murray  United Kingdom\n",
       "41          55                  Mark Taylor       Australia\n",
       "42          56              Diego Gutiérrez       Argentina\n",
       "43          57                   Luis Rojas           Chile\n",
       "44          58                 Manoj Pareek           India\n",
       "45          59              Puja Srivastava           India"
      ]
     },
     "execution_count": 14,
     "metadata": {},
     "output_type": "execute_result"
    }
   ],
   "source": [
    "# Obtén los campos de los clientes que no sean de USA: Nombre completo, ID, País\n",
    "query = '''SELECT CustomerId, FirstName || ' ' || LastName, Country FROM customers\n",
    "WHERE Country <> \"USA\"'''\n",
    "sql_query(query)"
   ]
  },
  {
   "cell_type": "code",
   "execution_count": 15,
   "metadata": {},
   "outputs": [
    {
     "data": {
      "application/vnd.microsoft.datawrangler.viewer.v0+json": {
       "columns": [
        {
         "name": "index",
         "rawType": "int64",
         "type": "integer"
        },
        {
         "name": "EmployeeId",
         "rawType": "int64",
         "type": "integer"
        },
        {
         "name": "LastName",
         "rawType": "object",
         "type": "string"
        },
        {
         "name": "FirstName",
         "rawType": "object",
         "type": "string"
        },
        {
         "name": "Title",
         "rawType": "object",
         "type": "string"
        },
        {
         "name": "ReportsTo",
         "rawType": "float64",
         "type": "float"
        },
        {
         "name": "BirthDate",
         "rawType": "object",
         "type": "string"
        },
        {
         "name": "HireDate",
         "rawType": "object",
         "type": "string"
        },
        {
         "name": "Address",
         "rawType": "object",
         "type": "string"
        },
        {
         "name": "City",
         "rawType": "object",
         "type": "string"
        },
        {
         "name": "State",
         "rawType": "object",
         "type": "string"
        },
        {
         "name": "Country",
         "rawType": "object",
         "type": "string"
        },
        {
         "name": "PostalCode",
         "rawType": "object",
         "type": "string"
        },
        {
         "name": "Phone",
         "rawType": "object",
         "type": "string"
        },
        {
         "name": "Fax",
         "rawType": "object",
         "type": "string"
        },
        {
         "name": "Email",
         "rawType": "object",
         "type": "string"
        }
       ],
       "conversionMethod": "pd.DataFrame",
       "ref": "5603c9f2-5999-49bb-bbe5-11203c487c15",
       "rows": [
        [
         "0",
         "1",
         "Adams",
         "Andrew",
         "General Manager",
         null,
         "1962-02-18 00:00:00",
         "2002-08-14 00:00:00",
         "11120 Jasper Ave NW",
         "Edmonton",
         "AB",
         "Canada",
         "T5K 2N1",
         "+1 (780) 428-9482",
         "+1 (780) 428-3457",
         "andrew@chinookcorp.com"
        ],
        [
         "1",
         "2",
         "Edwards",
         "Nancy",
         "Sales Manager",
         "1.0",
         "1958-12-08 00:00:00",
         "2002-05-01 00:00:00",
         "825 8 Ave SW",
         "Calgary",
         "AB",
         "Canada",
         "T2P 2T3",
         "+1 (403) 262-3443",
         "+1 (403) 262-3322",
         "nancy@chinookcorp.com"
        ],
        [
         "2",
         "3",
         "Peacock",
         "Jane",
         "Sales Support Agent",
         "2.0",
         "1973-08-29 00:00:00",
         "2002-04-01 00:00:00",
         "1111 6 Ave SW",
         "Calgary",
         "AB",
         "Canada",
         "T2P 5M5",
         "+1 (403) 262-3443",
         "+1 (403) 262-6712",
         "jane@chinookcorp.com"
        ],
        [
         "3",
         "4",
         "Park",
         "Margaret",
         "Sales Support Agent",
         "2.0",
         "1947-09-19 00:00:00",
         "2003-05-03 00:00:00",
         "683 10 Street SW",
         "Calgary",
         "AB",
         "Canada",
         "T2P 5G3",
         "+1 (403) 263-4423",
         "+1 (403) 263-4289",
         "margaret@chinookcorp.com"
        ],
        [
         "4",
         "5",
         "Johnson",
         "Steve",
         "Sales Support Agent",
         "2.0",
         "1965-03-03 00:00:00",
         "2003-10-17 00:00:00",
         "7727B 41 Ave",
         "Calgary",
         "AB",
         "Canada",
         "T3B 1Y7",
         "1 (780) 836-9987",
         "1 (780) 836-9543",
         "steve@chinookcorp.com"
        ],
        [
         "5",
         "6",
         "Mitchell",
         "Michael",
         "IT Manager",
         "1.0",
         "1973-07-01 00:00:00",
         "2003-10-17 00:00:00",
         "5827 Bowness Road NW",
         "Calgary",
         "AB",
         "Canada",
         "T3B 0C5",
         "+1 (403) 246-9887",
         "+1 (403) 246-9899",
         "michael@chinookcorp.com"
        ],
        [
         "6",
         "7",
         "King",
         "Robert",
         "IT Staff",
         "6.0",
         "1970-05-29 00:00:00",
         "2004-01-02 00:00:00",
         "590 Columbia Boulevard West",
         "Lethbridge",
         "AB",
         "Canada",
         "T1K 5N8",
         "+1 (403) 456-9986",
         "+1 (403) 456-8485",
         "robert@chinookcorp.com"
        ],
        [
         "7",
         "8",
         "Callahan",
         "Laura",
         "IT Staff",
         "6.0",
         "1968-01-09 00:00:00",
         "2004-03-04 00:00:00",
         "923 7 ST NW",
         "Lethbridge",
         "AB",
         "Canada",
         "T1H 1Y8",
         "+1 (403) 467-3351",
         "+1 (403) 467-8772",
         "laura@chinookcorp.com"
        ]
       ],
       "shape": {
        "columns": 15,
        "rows": 8
       }
      },
      "text/html": [
       "<div>\n",
       "<style scoped>\n",
       "    .dataframe tbody tr th:only-of-type {\n",
       "        vertical-align: middle;\n",
       "    }\n",
       "\n",
       "    .dataframe tbody tr th {\n",
       "        vertical-align: top;\n",
       "    }\n",
       "\n",
       "    .dataframe thead th {\n",
       "        text-align: right;\n",
       "    }\n",
       "</style>\n",
       "<table border=\"1\" class=\"dataframe\">\n",
       "  <thead>\n",
       "    <tr style=\"text-align: right;\">\n",
       "      <th></th>\n",
       "      <th>EmployeeId</th>\n",
       "      <th>LastName</th>\n",
       "      <th>FirstName</th>\n",
       "      <th>Title</th>\n",
       "      <th>ReportsTo</th>\n",
       "      <th>BirthDate</th>\n",
       "      <th>HireDate</th>\n",
       "      <th>Address</th>\n",
       "      <th>City</th>\n",
       "      <th>State</th>\n",
       "      <th>Country</th>\n",
       "      <th>PostalCode</th>\n",
       "      <th>Phone</th>\n",
       "      <th>Fax</th>\n",
       "      <th>Email</th>\n",
       "    </tr>\n",
       "  </thead>\n",
       "  <tbody>\n",
       "    <tr>\n",
       "      <th>0</th>\n",
       "      <td>1</td>\n",
       "      <td>Adams</td>\n",
       "      <td>Andrew</td>\n",
       "      <td>General Manager</td>\n",
       "      <td>NaN</td>\n",
       "      <td>1962-02-18 00:00:00</td>\n",
       "      <td>2002-08-14 00:00:00</td>\n",
       "      <td>11120 Jasper Ave NW</td>\n",
       "      <td>Edmonton</td>\n",
       "      <td>AB</td>\n",
       "      <td>Canada</td>\n",
       "      <td>T5K 2N1</td>\n",
       "      <td>+1 (780) 428-9482</td>\n",
       "      <td>+1 (780) 428-3457</td>\n",
       "      <td>andrew@chinookcorp.com</td>\n",
       "    </tr>\n",
       "    <tr>\n",
       "      <th>1</th>\n",
       "      <td>2</td>\n",
       "      <td>Edwards</td>\n",
       "      <td>Nancy</td>\n",
       "      <td>Sales Manager</td>\n",
       "      <td>1.0</td>\n",
       "      <td>1958-12-08 00:00:00</td>\n",
       "      <td>2002-05-01 00:00:00</td>\n",
       "      <td>825 8 Ave SW</td>\n",
       "      <td>Calgary</td>\n",
       "      <td>AB</td>\n",
       "      <td>Canada</td>\n",
       "      <td>T2P 2T3</td>\n",
       "      <td>+1 (403) 262-3443</td>\n",
       "      <td>+1 (403) 262-3322</td>\n",
       "      <td>nancy@chinookcorp.com</td>\n",
       "    </tr>\n",
       "    <tr>\n",
       "      <th>2</th>\n",
       "      <td>3</td>\n",
       "      <td>Peacock</td>\n",
       "      <td>Jane</td>\n",
       "      <td>Sales Support Agent</td>\n",
       "      <td>2.0</td>\n",
       "      <td>1973-08-29 00:00:00</td>\n",
       "      <td>2002-04-01 00:00:00</td>\n",
       "      <td>1111 6 Ave SW</td>\n",
       "      <td>Calgary</td>\n",
       "      <td>AB</td>\n",
       "      <td>Canada</td>\n",
       "      <td>T2P 5M5</td>\n",
       "      <td>+1 (403) 262-3443</td>\n",
       "      <td>+1 (403) 262-6712</td>\n",
       "      <td>jane@chinookcorp.com</td>\n",
       "    </tr>\n",
       "    <tr>\n",
       "      <th>3</th>\n",
       "      <td>4</td>\n",
       "      <td>Park</td>\n",
       "      <td>Margaret</td>\n",
       "      <td>Sales Support Agent</td>\n",
       "      <td>2.0</td>\n",
       "      <td>1947-09-19 00:00:00</td>\n",
       "      <td>2003-05-03 00:00:00</td>\n",
       "      <td>683 10 Street SW</td>\n",
       "      <td>Calgary</td>\n",
       "      <td>AB</td>\n",
       "      <td>Canada</td>\n",
       "      <td>T2P 5G3</td>\n",
       "      <td>+1 (403) 263-4423</td>\n",
       "      <td>+1 (403) 263-4289</td>\n",
       "      <td>margaret@chinookcorp.com</td>\n",
       "    </tr>\n",
       "    <tr>\n",
       "      <th>4</th>\n",
       "      <td>5</td>\n",
       "      <td>Johnson</td>\n",
       "      <td>Steve</td>\n",
       "      <td>Sales Support Agent</td>\n",
       "      <td>2.0</td>\n",
       "      <td>1965-03-03 00:00:00</td>\n",
       "      <td>2003-10-17 00:00:00</td>\n",
       "      <td>7727B 41 Ave</td>\n",
       "      <td>Calgary</td>\n",
       "      <td>AB</td>\n",
       "      <td>Canada</td>\n",
       "      <td>T3B 1Y7</td>\n",
       "      <td>1 (780) 836-9987</td>\n",
       "      <td>1 (780) 836-9543</td>\n",
       "      <td>steve@chinookcorp.com</td>\n",
       "    </tr>\n",
       "    <tr>\n",
       "      <th>5</th>\n",
       "      <td>6</td>\n",
       "      <td>Mitchell</td>\n",
       "      <td>Michael</td>\n",
       "      <td>IT Manager</td>\n",
       "      <td>1.0</td>\n",
       "      <td>1973-07-01 00:00:00</td>\n",
       "      <td>2003-10-17 00:00:00</td>\n",
       "      <td>5827 Bowness Road NW</td>\n",
       "      <td>Calgary</td>\n",
       "      <td>AB</td>\n",
       "      <td>Canada</td>\n",
       "      <td>T3B 0C5</td>\n",
       "      <td>+1 (403) 246-9887</td>\n",
       "      <td>+1 (403) 246-9899</td>\n",
       "      <td>michael@chinookcorp.com</td>\n",
       "    </tr>\n",
       "    <tr>\n",
       "      <th>6</th>\n",
       "      <td>7</td>\n",
       "      <td>King</td>\n",
       "      <td>Robert</td>\n",
       "      <td>IT Staff</td>\n",
       "      <td>6.0</td>\n",
       "      <td>1970-05-29 00:00:00</td>\n",
       "      <td>2004-01-02 00:00:00</td>\n",
       "      <td>590 Columbia Boulevard West</td>\n",
       "      <td>Lethbridge</td>\n",
       "      <td>AB</td>\n",
       "      <td>Canada</td>\n",
       "      <td>T1K 5N8</td>\n",
       "      <td>+1 (403) 456-9986</td>\n",
       "      <td>+1 (403) 456-8485</td>\n",
       "      <td>robert@chinookcorp.com</td>\n",
       "    </tr>\n",
       "    <tr>\n",
       "      <th>7</th>\n",
       "      <td>8</td>\n",
       "      <td>Callahan</td>\n",
       "      <td>Laura</td>\n",
       "      <td>IT Staff</td>\n",
       "      <td>6.0</td>\n",
       "      <td>1968-01-09 00:00:00</td>\n",
       "      <td>2004-03-04 00:00:00</td>\n",
       "      <td>923 7 ST NW</td>\n",
       "      <td>Lethbridge</td>\n",
       "      <td>AB</td>\n",
       "      <td>Canada</td>\n",
       "      <td>T1H 1Y8</td>\n",
       "      <td>+1 (403) 467-3351</td>\n",
       "      <td>+1 (403) 467-8772</td>\n",
       "      <td>laura@chinookcorp.com</td>\n",
       "    </tr>\n",
       "  </tbody>\n",
       "</table>\n",
       "</div>"
      ],
      "text/plain": [
       "   EmployeeId  LastName FirstName                Title  ReportsTo  \\\n",
       "0           1     Adams    Andrew      General Manager        NaN   \n",
       "1           2   Edwards     Nancy        Sales Manager        1.0   \n",
       "2           3   Peacock      Jane  Sales Support Agent        2.0   \n",
       "3           4      Park  Margaret  Sales Support Agent        2.0   \n",
       "4           5   Johnson     Steve  Sales Support Agent        2.0   \n",
       "5           6  Mitchell   Michael           IT Manager        1.0   \n",
       "6           7      King    Robert             IT Staff        6.0   \n",
       "7           8  Callahan     Laura             IT Staff        6.0   \n",
       "\n",
       "             BirthDate             HireDate                      Address  \\\n",
       "0  1962-02-18 00:00:00  2002-08-14 00:00:00          11120 Jasper Ave NW   \n",
       "1  1958-12-08 00:00:00  2002-05-01 00:00:00                 825 8 Ave SW   \n",
       "2  1973-08-29 00:00:00  2002-04-01 00:00:00                1111 6 Ave SW   \n",
       "3  1947-09-19 00:00:00  2003-05-03 00:00:00             683 10 Street SW   \n",
       "4  1965-03-03 00:00:00  2003-10-17 00:00:00                 7727B 41 Ave   \n",
       "5  1973-07-01 00:00:00  2003-10-17 00:00:00         5827 Bowness Road NW   \n",
       "6  1970-05-29 00:00:00  2004-01-02 00:00:00  590 Columbia Boulevard West   \n",
       "7  1968-01-09 00:00:00  2004-03-04 00:00:00                  923 7 ST NW   \n",
       "\n",
       "         City State Country PostalCode              Phone                Fax  \\\n",
       "0    Edmonton    AB  Canada    T5K 2N1  +1 (780) 428-9482  +1 (780) 428-3457   \n",
       "1     Calgary    AB  Canada    T2P 2T3  +1 (403) 262-3443  +1 (403) 262-3322   \n",
       "2     Calgary    AB  Canada    T2P 5M5  +1 (403) 262-3443  +1 (403) 262-6712   \n",
       "3     Calgary    AB  Canada    T2P 5G3  +1 (403) 263-4423  +1 (403) 263-4289   \n",
       "4     Calgary    AB  Canada    T3B 1Y7   1 (780) 836-9987   1 (780) 836-9543   \n",
       "5     Calgary    AB  Canada    T3B 0C5  +1 (403) 246-9887  +1 (403) 246-9899   \n",
       "6  Lethbridge    AB  Canada    T1K 5N8  +1 (403) 456-9986  +1 (403) 456-8485   \n",
       "7  Lethbridge    AB  Canada    T1H 1Y8  +1 (403) 467-3351  +1 (403) 467-8772   \n",
       "\n",
       "                      Email  \n",
       "0    andrew@chinookcorp.com  \n",
       "1     nancy@chinookcorp.com  \n",
       "2      jane@chinookcorp.com  \n",
       "3  margaret@chinookcorp.com  \n",
       "4     steve@chinookcorp.com  \n",
       "5   michael@chinookcorp.com  \n",
       "6    robert@chinookcorp.com  \n",
       "7     laura@chinookcorp.com  "
      ]
     },
     "execution_count": 15,
     "metadata": {},
     "output_type": "execute_result"
    }
   ],
   "source": [
    "# Obtén los empleados que son agentes de ventas: Nombre completo, Dirección(Ciudad, Estado, País) y email\n",
    "\n",
    "query = '''\n",
    "SELECT DISTINCT * FROM Employees;\n",
    "'''\n",
    "sql_query(query)\n"
   ]
  },
  {
   "cell_type": "code",
   "execution_count": 16,
   "metadata": {},
   "outputs": [
    {
     "data": {
      "application/vnd.microsoft.datawrangler.viewer.v0+json": {
       "columns": [
        {
         "name": "index",
         "rawType": "int64",
         "type": "integer"
        },
        {
         "name": "FirstName",
         "rawType": "object",
         "type": "string"
        },
        {
         "name": "LastName",
         "rawType": "object",
         "type": "string"
        },
        {
         "name": "Address",
         "rawType": "object",
         "type": "string"
        },
        {
         "name": "City",
         "rawType": "object",
         "type": "string"
        },
        {
         "name": "State",
         "rawType": "object",
         "type": "string"
        },
        {
         "name": "Country",
         "rawType": "object",
         "type": "string"
        },
        {
         "name": "Email",
         "rawType": "object",
         "type": "string"
        }
       ],
       "conversionMethod": "pd.DataFrame",
       "ref": "409314e8-b163-47d8-88db-1c0014dff487",
       "rows": [
        [
         "0",
         "Nancy",
         "Edwards",
         "825 8 Ave SW",
         "Calgary",
         "AB",
         "Canada",
         "nancy@chinookcorp.com"
        ],
        [
         "1",
         "Jane",
         "Peacock",
         "1111 6 Ave SW",
         "Calgary",
         "AB",
         "Canada",
         "jane@chinookcorp.com"
        ],
        [
         "2",
         "Margaret",
         "Park",
         "683 10 Street SW",
         "Calgary",
         "AB",
         "Canada",
         "margaret@chinookcorp.com"
        ],
        [
         "3",
         "Steve",
         "Johnson",
         "7727B 41 Ave",
         "Calgary",
         "AB",
         "Canada",
         "steve@chinookcorp.com"
        ]
       ],
       "shape": {
        "columns": 7,
        "rows": 4
       }
      },
      "text/html": [
       "<div>\n",
       "<style scoped>\n",
       "    .dataframe tbody tr th:only-of-type {\n",
       "        vertical-align: middle;\n",
       "    }\n",
       "\n",
       "    .dataframe tbody tr th {\n",
       "        vertical-align: top;\n",
       "    }\n",
       "\n",
       "    .dataframe thead th {\n",
       "        text-align: right;\n",
       "    }\n",
       "</style>\n",
       "<table border=\"1\" class=\"dataframe\">\n",
       "  <thead>\n",
       "    <tr style=\"text-align: right;\">\n",
       "      <th></th>\n",
       "      <th>FirstName</th>\n",
       "      <th>LastName</th>\n",
       "      <th>Address</th>\n",
       "      <th>City</th>\n",
       "      <th>State</th>\n",
       "      <th>Country</th>\n",
       "      <th>Email</th>\n",
       "    </tr>\n",
       "  </thead>\n",
       "  <tbody>\n",
       "    <tr>\n",
       "      <th>0</th>\n",
       "      <td>Nancy</td>\n",
       "      <td>Edwards</td>\n",
       "      <td>825 8 Ave SW</td>\n",
       "      <td>Calgary</td>\n",
       "      <td>AB</td>\n",
       "      <td>Canada</td>\n",
       "      <td>nancy@chinookcorp.com</td>\n",
       "    </tr>\n",
       "    <tr>\n",
       "      <th>1</th>\n",
       "      <td>Jane</td>\n",
       "      <td>Peacock</td>\n",
       "      <td>1111 6 Ave SW</td>\n",
       "      <td>Calgary</td>\n",
       "      <td>AB</td>\n",
       "      <td>Canada</td>\n",
       "      <td>jane@chinookcorp.com</td>\n",
       "    </tr>\n",
       "    <tr>\n",
       "      <th>2</th>\n",
       "      <td>Margaret</td>\n",
       "      <td>Park</td>\n",
       "      <td>683 10 Street SW</td>\n",
       "      <td>Calgary</td>\n",
       "      <td>AB</td>\n",
       "      <td>Canada</td>\n",
       "      <td>margaret@chinookcorp.com</td>\n",
       "    </tr>\n",
       "    <tr>\n",
       "      <th>3</th>\n",
       "      <td>Steve</td>\n",
       "      <td>Johnson</td>\n",
       "      <td>7727B 41 Ave</td>\n",
       "      <td>Calgary</td>\n",
       "      <td>AB</td>\n",
       "      <td>Canada</td>\n",
       "      <td>steve@chinookcorp.com</td>\n",
       "    </tr>\n",
       "  </tbody>\n",
       "</table>\n",
       "</div>"
      ],
      "text/plain": [
       "  FirstName LastName           Address     City State Country  \\\n",
       "0     Nancy  Edwards      825 8 Ave SW  Calgary    AB  Canada   \n",
       "1      Jane  Peacock     1111 6 Ave SW  Calgary    AB  Canada   \n",
       "2  Margaret     Park  683 10 Street SW  Calgary    AB  Canada   \n",
       "3     Steve  Johnson      7727B 41 Ave  Calgary    AB  Canada   \n",
       "\n",
       "                      Email  \n",
       "0     nancy@chinookcorp.com  \n",
       "1      jane@chinookcorp.com  \n",
       "2  margaret@chinookcorp.com  \n",
       "3     steve@chinookcorp.com  "
      ]
     },
     "execution_count": 16,
     "metadata": {},
     "output_type": "execute_result"
    }
   ],
   "source": [
    "query = '''\n",
    "SELECT FirstName, LastName, Address, City, State, Country, Email FROM Employees\n",
    "WHERE title = \"Sales Support Agent\" or title = \"Sales Manager\"\n",
    "'''\n",
    "sql_query(query)"
   ]
  },
  {
   "cell_type": "code",
   "execution_count": 17,
   "metadata": {},
   "outputs": [
    {
     "data": {
      "application/vnd.microsoft.datawrangler.viewer.v0+json": {
       "columns": [
        {
         "name": "index",
         "rawType": "int64",
         "type": "integer"
        },
        {
         "name": "BillingCity",
         "rawType": "object",
         "type": "string"
        }
       ],
       "conversionMethod": "pd.DataFrame",
       "ref": "f5135eb6-7949-4b27-a2c7-0dfddc06f666",
       "rows": [
        [
         "0",
         "Stuttgart"
        ],
        [
         "1",
         "Oslo"
        ],
        [
         "2",
         "Brussels"
        ],
        [
         "3",
         "Edmonton"
        ],
        [
         "4",
         "Boston"
        ],
        [
         "5",
         "Frankfurt"
        ],
        [
         "6",
         "Berlin"
        ],
        [
         "7",
         "Paris"
        ],
        [
         "8",
         "Bordeaux"
        ],
        [
         "9",
         "Dublin"
        ],
        [
         "10",
         "London"
        ],
        [
         "11",
         "Mountain View"
        ],
        [
         "12",
         "Redmond"
        ],
        [
         "13",
         "Cupertino"
        ],
        [
         "14",
         "Reno"
        ],
        [
         "15",
         "Madison"
        ],
        [
         "16",
         "Halifax"
        ],
        [
         "17",
         "Edinburgh "
        ],
        [
         "18",
         "Sidney"
        ],
        [
         "19",
         "Santiago"
        ],
        [
         "20",
         "Bangalore"
        ],
        [
         "21",
         "São Paulo"
        ],
        [
         "22",
         "Yellowknife"
        ],
        [
         "23",
         "Lisbon"
        ],
        [
         "24",
         "Amsterdam"
        ],
        [
         "25",
         "Rio de Janeiro"
        ],
        [
         "26",
         "Brasília"
        ],
        [
         "27",
         "Vancouver"
        ],
        [
         "28",
         "Tucson"
        ],
        [
         "29",
         "Madrid"
        ],
        [
         "30",
         "Stockholm"
        ],
        [
         "31",
         "Prague"
        ],
        [
         "32",
         "Toronto"
        ],
        [
         "33",
         "Ottawa"
        ],
        [
         "34",
         "Winnipeg"
        ],
        [
         "35",
         "Helsinki"
        ],
        [
         "36",
         "Copenhagen"
        ],
        [
         "37",
         "Rome"
        ],
        [
         "38",
         "Warsaw"
        ],
        [
         "39",
         "Fort Worth"
        ],
        [
         "40",
         "Salt Lake City"
        ],
        [
         "41",
         "Vienne"
        ],
        [
         "42",
         "Dijon"
        ],
        [
         "43",
         "Budapest"
        ],
        [
         "44",
         "Orlando"
        ],
        [
         "45",
         "Chicago"
        ],
        [
         "46",
         "São José dos Campos"
        ],
        [
         "47",
         "Montréal"
        ],
        [
         "48",
         "Lyon"
        ],
        [
         "49",
         "New York"
        ]
       ],
       "shape": {
        "columns": 1,
        "rows": 53
       }
      },
      "text/html": [
       "<div>\n",
       "<style scoped>\n",
       "    .dataframe tbody tr th:only-of-type {\n",
       "        vertical-align: middle;\n",
       "    }\n",
       "\n",
       "    .dataframe tbody tr th {\n",
       "        vertical-align: top;\n",
       "    }\n",
       "\n",
       "    .dataframe thead th {\n",
       "        text-align: right;\n",
       "    }\n",
       "</style>\n",
       "<table border=\"1\" class=\"dataframe\">\n",
       "  <thead>\n",
       "    <tr style=\"text-align: right;\">\n",
       "      <th></th>\n",
       "      <th>BillingCity</th>\n",
       "    </tr>\n",
       "  </thead>\n",
       "  <tbody>\n",
       "    <tr>\n",
       "      <th>0</th>\n",
       "      <td>Stuttgart</td>\n",
       "    </tr>\n",
       "    <tr>\n",
       "      <th>1</th>\n",
       "      <td>Oslo</td>\n",
       "    </tr>\n",
       "    <tr>\n",
       "      <th>2</th>\n",
       "      <td>Brussels</td>\n",
       "    </tr>\n",
       "    <tr>\n",
       "      <th>3</th>\n",
       "      <td>Edmonton</td>\n",
       "    </tr>\n",
       "    <tr>\n",
       "      <th>4</th>\n",
       "      <td>Boston</td>\n",
       "    </tr>\n",
       "    <tr>\n",
       "      <th>5</th>\n",
       "      <td>Frankfurt</td>\n",
       "    </tr>\n",
       "    <tr>\n",
       "      <th>6</th>\n",
       "      <td>Berlin</td>\n",
       "    </tr>\n",
       "    <tr>\n",
       "      <th>7</th>\n",
       "      <td>Paris</td>\n",
       "    </tr>\n",
       "    <tr>\n",
       "      <th>8</th>\n",
       "      <td>Bordeaux</td>\n",
       "    </tr>\n",
       "    <tr>\n",
       "      <th>9</th>\n",
       "      <td>Dublin</td>\n",
       "    </tr>\n",
       "    <tr>\n",
       "      <th>10</th>\n",
       "      <td>London</td>\n",
       "    </tr>\n",
       "    <tr>\n",
       "      <th>11</th>\n",
       "      <td>Mountain View</td>\n",
       "    </tr>\n",
       "    <tr>\n",
       "      <th>12</th>\n",
       "      <td>Redmond</td>\n",
       "    </tr>\n",
       "    <tr>\n",
       "      <th>13</th>\n",
       "      <td>Cupertino</td>\n",
       "    </tr>\n",
       "    <tr>\n",
       "      <th>14</th>\n",
       "      <td>Reno</td>\n",
       "    </tr>\n",
       "    <tr>\n",
       "      <th>15</th>\n",
       "      <td>Madison</td>\n",
       "    </tr>\n",
       "    <tr>\n",
       "      <th>16</th>\n",
       "      <td>Halifax</td>\n",
       "    </tr>\n",
       "    <tr>\n",
       "      <th>17</th>\n",
       "      <td>Edinburgh</td>\n",
       "    </tr>\n",
       "    <tr>\n",
       "      <th>18</th>\n",
       "      <td>Sidney</td>\n",
       "    </tr>\n",
       "    <tr>\n",
       "      <th>19</th>\n",
       "      <td>Santiago</td>\n",
       "    </tr>\n",
       "    <tr>\n",
       "      <th>20</th>\n",
       "      <td>Bangalore</td>\n",
       "    </tr>\n",
       "    <tr>\n",
       "      <th>21</th>\n",
       "      <td>São Paulo</td>\n",
       "    </tr>\n",
       "    <tr>\n",
       "      <th>22</th>\n",
       "      <td>Yellowknife</td>\n",
       "    </tr>\n",
       "    <tr>\n",
       "      <th>23</th>\n",
       "      <td>Lisbon</td>\n",
       "    </tr>\n",
       "    <tr>\n",
       "      <th>24</th>\n",
       "      <td>Amsterdam</td>\n",
       "    </tr>\n",
       "    <tr>\n",
       "      <th>25</th>\n",
       "      <td>Rio de Janeiro</td>\n",
       "    </tr>\n",
       "    <tr>\n",
       "      <th>26</th>\n",
       "      <td>Brasília</td>\n",
       "    </tr>\n",
       "    <tr>\n",
       "      <th>27</th>\n",
       "      <td>Vancouver</td>\n",
       "    </tr>\n",
       "    <tr>\n",
       "      <th>28</th>\n",
       "      <td>Tucson</td>\n",
       "    </tr>\n",
       "    <tr>\n",
       "      <th>29</th>\n",
       "      <td>Madrid</td>\n",
       "    </tr>\n",
       "    <tr>\n",
       "      <th>30</th>\n",
       "      <td>Stockholm</td>\n",
       "    </tr>\n",
       "    <tr>\n",
       "      <th>31</th>\n",
       "      <td>Prague</td>\n",
       "    </tr>\n",
       "    <tr>\n",
       "      <th>32</th>\n",
       "      <td>Toronto</td>\n",
       "    </tr>\n",
       "    <tr>\n",
       "      <th>33</th>\n",
       "      <td>Ottawa</td>\n",
       "    </tr>\n",
       "    <tr>\n",
       "      <th>34</th>\n",
       "      <td>Winnipeg</td>\n",
       "    </tr>\n",
       "    <tr>\n",
       "      <th>35</th>\n",
       "      <td>Helsinki</td>\n",
       "    </tr>\n",
       "    <tr>\n",
       "      <th>36</th>\n",
       "      <td>Copenhagen</td>\n",
       "    </tr>\n",
       "    <tr>\n",
       "      <th>37</th>\n",
       "      <td>Rome</td>\n",
       "    </tr>\n",
       "    <tr>\n",
       "      <th>38</th>\n",
       "      <td>Warsaw</td>\n",
       "    </tr>\n",
       "    <tr>\n",
       "      <th>39</th>\n",
       "      <td>Fort Worth</td>\n",
       "    </tr>\n",
       "    <tr>\n",
       "      <th>40</th>\n",
       "      <td>Salt Lake City</td>\n",
       "    </tr>\n",
       "    <tr>\n",
       "      <th>41</th>\n",
       "      <td>Vienne</td>\n",
       "    </tr>\n",
       "    <tr>\n",
       "      <th>42</th>\n",
       "      <td>Dijon</td>\n",
       "    </tr>\n",
       "    <tr>\n",
       "      <th>43</th>\n",
       "      <td>Budapest</td>\n",
       "    </tr>\n",
       "    <tr>\n",
       "      <th>44</th>\n",
       "      <td>Orlando</td>\n",
       "    </tr>\n",
       "    <tr>\n",
       "      <th>45</th>\n",
       "      <td>Chicago</td>\n",
       "    </tr>\n",
       "    <tr>\n",
       "      <th>46</th>\n",
       "      <td>São José dos Campos</td>\n",
       "    </tr>\n",
       "    <tr>\n",
       "      <th>47</th>\n",
       "      <td>Montréal</td>\n",
       "    </tr>\n",
       "    <tr>\n",
       "      <th>48</th>\n",
       "      <td>Lyon</td>\n",
       "    </tr>\n",
       "    <tr>\n",
       "      <th>49</th>\n",
       "      <td>New York</td>\n",
       "    </tr>\n",
       "    <tr>\n",
       "      <th>50</th>\n",
       "      <td>Buenos Aires</td>\n",
       "    </tr>\n",
       "    <tr>\n",
       "      <th>51</th>\n",
       "      <td>Delhi</td>\n",
       "    </tr>\n",
       "    <tr>\n",
       "      <th>52</th>\n",
       "      <td>Porto</td>\n",
       "    </tr>\n",
       "  </tbody>\n",
       "</table>\n",
       "</div>"
      ],
      "text/plain": [
       "            BillingCity\n",
       "0             Stuttgart\n",
       "1                  Oslo\n",
       "2              Brussels\n",
       "3              Edmonton\n",
       "4                Boston\n",
       "5             Frankfurt\n",
       "6                Berlin\n",
       "7                 Paris\n",
       "8              Bordeaux\n",
       "9                Dublin\n",
       "10               London\n",
       "11        Mountain View\n",
       "12              Redmond\n",
       "13            Cupertino\n",
       "14                 Reno\n",
       "15              Madison\n",
       "16              Halifax\n",
       "17           Edinburgh \n",
       "18               Sidney\n",
       "19             Santiago\n",
       "20            Bangalore\n",
       "21            São Paulo\n",
       "22          Yellowknife\n",
       "23               Lisbon\n",
       "24            Amsterdam\n",
       "25       Rio de Janeiro\n",
       "26             Brasília\n",
       "27            Vancouver\n",
       "28               Tucson\n",
       "29               Madrid\n",
       "30            Stockholm\n",
       "31               Prague\n",
       "32              Toronto\n",
       "33               Ottawa\n",
       "34             Winnipeg\n",
       "35             Helsinki\n",
       "36           Copenhagen\n",
       "37                 Rome\n",
       "38               Warsaw\n",
       "39           Fort Worth\n",
       "40       Salt Lake City\n",
       "41               Vienne\n",
       "42                Dijon\n",
       "43             Budapest\n",
       "44              Orlando\n",
       "45              Chicago\n",
       "46  São José dos Campos\n",
       "47             Montréal\n",
       "48                 Lyon\n",
       "49             New York\n",
       "50         Buenos Aires\n",
       "51                Delhi\n",
       "52                Porto"
      ]
     },
     "execution_count": 17,
     "metadata": {},
     "output_type": "execute_result"
    }
   ],
   "source": [
    "# Obtén una lista con los países no repetidos a los que se han emitido facturas\n",
    "query = '''\n",
    "SELECT DISTINCT BillingCity FROM invoices;\n",
    "'''\n",
    "\n",
    "sql_query(query)"
   ]
  },
  {
   "cell_type": "code",
   "execution_count": 29,
   "metadata": {},
   "outputs": [
    {
     "data": {
      "application/vnd.microsoft.datawrangler.viewer.v0+json": {
       "columns": [
        {
         "name": "index",
         "rawType": "int64",
         "type": "integer"
        },
        {
         "name": "State",
         "rawType": "object",
         "type": "string"
        },
        {
         "name": "COUNT(*)",
         "rawType": "int64",
         "type": "integer"
        }
       ],
       "conversionMethod": "pd.DataFrame",
       "ref": "89abf54d-cea3-411a-8a3b-d45653833381",
       "rows": [
        [
         "0",
         "AZ",
         "1"
        ],
        [
         "1",
         "CA",
         "3"
        ],
        [
         "2",
         "FL",
         "1"
        ],
        [
         "3",
         "IL",
         "1"
        ],
        [
         "4",
         "MA",
         "1"
        ],
        [
         "5",
         "NV",
         "1"
        ],
        [
         "6",
         "NY",
         "1"
        ],
        [
         "7",
         "TX",
         "1"
        ],
        [
         "8",
         "UT",
         "1"
        ],
        [
         "9",
         "WA",
         "1"
        ],
        [
         "10",
         "WI",
         "1"
        ]
       ],
       "shape": {
        "columns": 2,
        "rows": 11
       }
      },
      "text/html": [
       "<div>\n",
       "<style scoped>\n",
       "    .dataframe tbody tr th:only-of-type {\n",
       "        vertical-align: middle;\n",
       "    }\n",
       "\n",
       "    .dataframe tbody tr th {\n",
       "        vertical-align: top;\n",
       "    }\n",
       "\n",
       "    .dataframe thead th {\n",
       "        text-align: right;\n",
       "    }\n",
       "</style>\n",
       "<table border=\"1\" class=\"dataframe\">\n",
       "  <thead>\n",
       "    <tr style=\"text-align: right;\">\n",
       "      <th></th>\n",
       "      <th>State</th>\n",
       "      <th>COUNT(*)</th>\n",
       "    </tr>\n",
       "  </thead>\n",
       "  <tbody>\n",
       "    <tr>\n",
       "      <th>0</th>\n",
       "      <td>AZ</td>\n",
       "      <td>1</td>\n",
       "    </tr>\n",
       "    <tr>\n",
       "      <th>1</th>\n",
       "      <td>CA</td>\n",
       "      <td>3</td>\n",
       "    </tr>\n",
       "    <tr>\n",
       "      <th>2</th>\n",
       "      <td>FL</td>\n",
       "      <td>1</td>\n",
       "    </tr>\n",
       "    <tr>\n",
       "      <th>3</th>\n",
       "      <td>IL</td>\n",
       "      <td>1</td>\n",
       "    </tr>\n",
       "    <tr>\n",
       "      <th>4</th>\n",
       "      <td>MA</td>\n",
       "      <td>1</td>\n",
       "    </tr>\n",
       "    <tr>\n",
       "      <th>5</th>\n",
       "      <td>NV</td>\n",
       "      <td>1</td>\n",
       "    </tr>\n",
       "    <tr>\n",
       "      <th>6</th>\n",
       "      <td>NY</td>\n",
       "      <td>1</td>\n",
       "    </tr>\n",
       "    <tr>\n",
       "      <th>7</th>\n",
       "      <td>TX</td>\n",
       "      <td>1</td>\n",
       "    </tr>\n",
       "    <tr>\n",
       "      <th>8</th>\n",
       "      <td>UT</td>\n",
       "      <td>1</td>\n",
       "    </tr>\n",
       "    <tr>\n",
       "      <th>9</th>\n",
       "      <td>WA</td>\n",
       "      <td>1</td>\n",
       "    </tr>\n",
       "    <tr>\n",
       "      <th>10</th>\n",
       "      <td>WI</td>\n",
       "      <td>1</td>\n",
       "    </tr>\n",
       "  </tbody>\n",
       "</table>\n",
       "</div>"
      ],
      "text/plain": [
       "   State  COUNT(*)\n",
       "0     AZ         1\n",
       "1     CA         3\n",
       "2     FL         1\n",
       "3     IL         1\n",
       "4     MA         1\n",
       "5     NV         1\n",
       "6     NY         1\n",
       "7     TX         1\n",
       "8     UT         1\n",
       "9     WA         1\n",
       "10    WI         1"
      ]
     },
     "execution_count": 29,
     "metadata": {},
     "output_type": "execute_result"
    }
   ],
   "source": [
    "# Obtén una lista con los estados de USA no repetidos de donde son los clientes y cuántos clientes en cada uno\n",
    "\n",
    "# COUNT(*) AS NumClientes → Contamos cuántos clientes hay en cada estado y lo renombramos\n",
    "query = '''\n",
    "SELECT State, COUNT(*)\n",
    "FROM Customers\n",
    "WHERE Country = 'USA'\n",
    "GROUP BY State;\n",
    "'''\n",
    "sql_query(query)  #group by ayuda a agruparlos y que COUNT funcione correctamente"
   ]
  },
  {
   "cell_type": "code",
   "execution_count": 43,
   "metadata": {},
   "outputs": [
    {
     "data": {
      "application/vnd.microsoft.datawrangler.viewer.v0+json": {
       "columns": [
        {
         "name": "index",
         "rawType": "int64",
         "type": "integer"
        },
        {
         "name": "InvoiceId",
         "rawType": "int64",
         "type": "integer"
        },
        {
         "name": "Quantity",
         "rawType": "int64",
         "type": "integer"
        }
       ],
       "conversionMethod": "pd.DataFrame",
       "ref": "82790242-28a5-42d5-bd56-0431810115f0",
       "rows": [
        [
         "0",
         "37",
         "4"
        ]
       ],
       "shape": {
        "columns": 2,
        "rows": 1
       }
      },
      "text/html": [
       "<div>\n",
       "<style scoped>\n",
       "    .dataframe tbody tr th:only-of-type {\n",
       "        vertical-align: middle;\n",
       "    }\n",
       "\n",
       "    .dataframe tbody tr th {\n",
       "        vertical-align: top;\n",
       "    }\n",
       "\n",
       "    .dataframe thead th {\n",
       "        text-align: right;\n",
       "    }\n",
       "</style>\n",
       "<table border=\"1\" class=\"dataframe\">\n",
       "  <thead>\n",
       "    <tr style=\"text-align: right;\">\n",
       "      <th></th>\n",
       "      <th>InvoiceId</th>\n",
       "      <th>Quantity</th>\n",
       "    </tr>\n",
       "  </thead>\n",
       "  <tbody>\n",
       "    <tr>\n",
       "      <th>0</th>\n",
       "      <td>37</td>\n",
       "      <td>4</td>\n",
       "    </tr>\n",
       "  </tbody>\n",
       "</table>\n",
       "</div>"
      ],
      "text/plain": [
       "   InvoiceId  Quantity\n",
       "0         37         4"
      ]
     },
     "execution_count": 43,
     "metadata": {},
     "output_type": "execute_result"
    }
   ],
   "source": [
    "# Cuántos artículos tiene la factura 37\n",
    "query= '''SELECT InvoiceId, COUNT (*) AS Quantity FROM invoice_items\n",
    "WHERE InvoiceId = 37 \n",
    "'''\n",
    "\n",
    "sql_query(query)"
   ]
  },
  {
   "cell_type": "code",
   "execution_count": 35,
   "metadata": {},
   "outputs": [
    {
     "data": {
      "application/vnd.microsoft.datawrangler.viewer.v0+json": {
       "columns": [
        {
         "name": "index",
         "rawType": "int64",
         "type": "integer"
        },
        {
         "name": "COUNT(Name)",
         "rawType": "int64",
         "type": "integer"
        }
       ],
       "conversionMethod": "pd.DataFrame",
       "ref": "a0acf469-ee25-4dba-8757-249005e3e510",
       "rows": [
        [
         "0",
         "8"
        ]
       ],
       "shape": {
        "columns": 1,
        "rows": 1
       }
      },
      "text/html": [
       "<div>\n",
       "<style scoped>\n",
       "    .dataframe tbody tr th:only-of-type {\n",
       "        vertical-align: middle;\n",
       "    }\n",
       "\n",
       "    .dataframe tbody tr th {\n",
       "        vertical-align: top;\n",
       "    }\n",
       "\n",
       "    .dataframe thead th {\n",
       "        text-align: right;\n",
       "    }\n",
       "</style>\n",
       "<table border=\"1\" class=\"dataframe\">\n",
       "  <thead>\n",
       "    <tr style=\"text-align: right;\">\n",
       "      <th></th>\n",
       "      <th>COUNT(Name)</th>\n",
       "    </tr>\n",
       "  </thead>\n",
       "  <tbody>\n",
       "    <tr>\n",
       "      <th>0</th>\n",
       "      <td>8</td>\n",
       "    </tr>\n",
       "  </tbody>\n",
       "</table>\n",
       "</div>"
      ],
      "text/plain": [
       "   COUNT(Name)\n",
       "0            8"
      ]
     },
     "execution_count": 35,
     "metadata": {},
     "output_type": "execute_result"
    }
   ],
   "source": [
    "# Cuántas canciones tiene ‘AC/DC’\n",
    "query = '''\n",
    "SELECT DISTINCT COUNT(Name) FROM tracks\n",
    "WHERE composer = 'AC/DC'\n",
    "'''\n",
    "sql_query(query)"
   ]
  },
  {
   "cell_type": "code",
   "execution_count": null,
   "metadata": {},
   "outputs": [
    {
     "data": {
      "application/vnd.microsoft.datawrangler.viewer.v0+json": {
       "columns": [
        {
         "name": "index",
         "rawType": "int64",
         "type": "integer"
        },
        {
         "name": "InvoiceId",
         "rawType": "int64",
         "type": "integer"
        },
        {
         "name": "COUNT(*)",
         "rawType": "int64",
         "type": "integer"
        }
       ],
       "conversionMethod": "pd.DataFrame",
       "ref": "f7a72b2c-8b66-4ce8-86ab-36afab5e760f",
       "rows": [
        [
         "0",
         "1",
         "2"
        ],
        [
         "1",
         "2",
         "4"
        ],
        [
         "2",
         "3",
         "6"
        ],
        [
         "3",
         "4",
         "9"
        ],
        [
         "4",
         "5",
         "14"
        ],
        [
         "5",
         "6",
         "1"
        ],
        [
         "6",
         "7",
         "2"
        ],
        [
         "7",
         "8",
         "2"
        ],
        [
         "8",
         "9",
         "4"
        ],
        [
         "9",
         "10",
         "6"
        ],
        [
         "10",
         "11",
         "9"
        ],
        [
         "11",
         "12",
         "14"
        ],
        [
         "12",
         "13",
         "1"
        ],
        [
         "13",
         "14",
         "2"
        ],
        [
         "14",
         "15",
         "2"
        ],
        [
         "15",
         "16",
         "4"
        ],
        [
         "16",
         "17",
         "6"
        ],
        [
         "17",
         "18",
         "9"
        ],
        [
         "18",
         "19",
         "14"
        ],
        [
         "19",
         "20",
         "1"
        ],
        [
         "20",
         "21",
         "2"
        ],
        [
         "21",
         "22",
         "2"
        ],
        [
         "22",
         "23",
         "4"
        ],
        [
         "23",
         "24",
         "6"
        ],
        [
         "24",
         "25",
         "9"
        ],
        [
         "25",
         "26",
         "14"
        ],
        [
         "26",
         "27",
         "1"
        ],
        [
         "27",
         "28",
         "2"
        ],
        [
         "28",
         "29",
         "2"
        ],
        [
         "29",
         "30",
         "4"
        ],
        [
         "30",
         "31",
         "6"
        ],
        [
         "31",
         "32",
         "9"
        ],
        [
         "32",
         "33",
         "14"
        ],
        [
         "33",
         "34",
         "1"
        ],
        [
         "34",
         "35",
         "2"
        ],
        [
         "35",
         "36",
         "2"
        ],
        [
         "36",
         "37",
         "4"
        ],
        [
         "37",
         "38",
         "6"
        ],
        [
         "38",
         "39",
         "9"
        ],
        [
         "39",
         "40",
         "14"
        ],
        [
         "40",
         "41",
         "1"
        ],
        [
         "41",
         "42",
         "2"
        ],
        [
         "42",
         "43",
         "2"
        ],
        [
         "43",
         "44",
         "4"
        ],
        [
         "44",
         "45",
         "6"
        ],
        [
         "45",
         "46",
         "9"
        ],
        [
         "46",
         "47",
         "14"
        ],
        [
         "47",
         "48",
         "1"
        ],
        [
         "48",
         "49",
         "2"
        ],
        [
         "49",
         "50",
         "2"
        ]
       ],
       "shape": {
        "columns": 2,
        "rows": 412
       }
      },
      "text/html": [
       "<div>\n",
       "<style scoped>\n",
       "    .dataframe tbody tr th:only-of-type {\n",
       "        vertical-align: middle;\n",
       "    }\n",
       "\n",
       "    .dataframe tbody tr th {\n",
       "        vertical-align: top;\n",
       "    }\n",
       "\n",
       "    .dataframe thead th {\n",
       "        text-align: right;\n",
       "    }\n",
       "</style>\n",
       "<table border=\"1\" class=\"dataframe\">\n",
       "  <thead>\n",
       "    <tr style=\"text-align: right;\">\n",
       "      <th></th>\n",
       "      <th>InvoiceId</th>\n",
       "      <th>COUNT(*)</th>\n",
       "    </tr>\n",
       "  </thead>\n",
       "  <tbody>\n",
       "    <tr>\n",
       "      <th>0</th>\n",
       "      <td>1</td>\n",
       "      <td>2</td>\n",
       "    </tr>\n",
       "    <tr>\n",
       "      <th>1</th>\n",
       "      <td>2</td>\n",
       "      <td>4</td>\n",
       "    </tr>\n",
       "    <tr>\n",
       "      <th>2</th>\n",
       "      <td>3</td>\n",
       "      <td>6</td>\n",
       "    </tr>\n",
       "    <tr>\n",
       "      <th>3</th>\n",
       "      <td>4</td>\n",
       "      <td>9</td>\n",
       "    </tr>\n",
       "    <tr>\n",
       "      <th>4</th>\n",
       "      <td>5</td>\n",
       "      <td>14</td>\n",
       "    </tr>\n",
       "    <tr>\n",
       "      <th>...</th>\n",
       "      <td>...</td>\n",
       "      <td>...</td>\n",
       "    </tr>\n",
       "    <tr>\n",
       "      <th>407</th>\n",
       "      <td>408</td>\n",
       "      <td>4</td>\n",
       "    </tr>\n",
       "    <tr>\n",
       "      <th>408</th>\n",
       "      <td>409</td>\n",
       "      <td>6</td>\n",
       "    </tr>\n",
       "    <tr>\n",
       "      <th>409</th>\n",
       "      <td>410</td>\n",
       "      <td>9</td>\n",
       "    </tr>\n",
       "    <tr>\n",
       "      <th>410</th>\n",
       "      <td>411</td>\n",
       "      <td>14</td>\n",
       "    </tr>\n",
       "    <tr>\n",
       "      <th>411</th>\n",
       "      <td>412</td>\n",
       "      <td>1</td>\n",
       "    </tr>\n",
       "  </tbody>\n",
       "</table>\n",
       "<p>412 rows × 2 columns</p>\n",
       "</div>"
      ],
      "text/plain": [
       "     InvoiceId  COUNT(*)\n",
       "0            1         2\n",
       "1            2         4\n",
       "2            3         6\n",
       "3            4         9\n",
       "4            5        14\n",
       "..         ...       ...\n",
       "407        408         4\n",
       "408        409         6\n",
       "409        410         9\n",
       "410        411        14\n",
       "411        412         1\n",
       "\n",
       "[412 rows x 2 columns]"
      ]
     },
     "execution_count": 38,
     "metadata": {},
     "output_type": "execute_result"
    }
   ],
   "source": [
    "# Cuántos artículos tiene cada factura\n",
    "query= '''SELECT InvoiceId, COUNT(*) FROM invoice_items\n",
    "GROUP BY InvoiceId;\n",
    "'''\n",
    "sql_query(query)"
   ]
  },
  {
   "cell_type": "code",
   "execution_count": 40,
   "metadata": {},
   "outputs": [
    {
     "data": {
      "application/vnd.microsoft.datawrangler.viewer.v0+json": {
       "columns": [
        {
         "name": "index",
         "rawType": "int64",
         "type": "integer"
        },
        {
         "name": "BillingCountry",
         "rawType": "object",
         "type": "string"
        },
        {
         "name": "COUNT (BillingCountry)",
         "rawType": "int64",
         "type": "integer"
        }
       ],
       "conversionMethod": "pd.DataFrame",
       "ref": "9ea68612-06a5-4bb3-af9f-2be45feaa7e8",
       "rows": [
        [
         "0",
         "Argentina",
         "7"
        ],
        [
         "1",
         "Australia",
         "7"
        ],
        [
         "2",
         "Austria",
         "7"
        ],
        [
         "3",
         "Belgium",
         "7"
        ],
        [
         "4",
         "Brazil",
         "35"
        ],
        [
         "5",
         "Canada",
         "56"
        ],
        [
         "6",
         "Chile",
         "7"
        ],
        [
         "7",
         "Czech Republic",
         "14"
        ],
        [
         "8",
         "Denmark",
         "7"
        ],
        [
         "9",
         "Finland",
         "7"
        ],
        [
         "10",
         "France",
         "35"
        ],
        [
         "11",
         "Germany",
         "28"
        ],
        [
         "12",
         "Hungary",
         "7"
        ],
        [
         "13",
         "India",
         "13"
        ],
        [
         "14",
         "Ireland",
         "7"
        ],
        [
         "15",
         "Italy",
         "7"
        ],
        [
         "16",
         "Netherlands",
         "7"
        ],
        [
         "17",
         "Norway",
         "7"
        ],
        [
         "18",
         "Poland",
         "7"
        ],
        [
         "19",
         "Portugal",
         "14"
        ],
        [
         "20",
         "Spain",
         "7"
        ],
        [
         "21",
         "Sweden",
         "7"
        ],
        [
         "22",
         "USA",
         "91"
        ],
        [
         "23",
         "United Kingdom",
         "21"
        ]
       ],
       "shape": {
        "columns": 2,
        "rows": 24
       }
      },
      "text/html": [
       "<div>\n",
       "<style scoped>\n",
       "    .dataframe tbody tr th:only-of-type {\n",
       "        vertical-align: middle;\n",
       "    }\n",
       "\n",
       "    .dataframe tbody tr th {\n",
       "        vertical-align: top;\n",
       "    }\n",
       "\n",
       "    .dataframe thead th {\n",
       "        text-align: right;\n",
       "    }\n",
       "</style>\n",
       "<table border=\"1\" class=\"dataframe\">\n",
       "  <thead>\n",
       "    <tr style=\"text-align: right;\">\n",
       "      <th></th>\n",
       "      <th>BillingCountry</th>\n",
       "      <th>COUNT (BillingCountry)</th>\n",
       "    </tr>\n",
       "  </thead>\n",
       "  <tbody>\n",
       "    <tr>\n",
       "      <th>0</th>\n",
       "      <td>Argentina</td>\n",
       "      <td>7</td>\n",
       "    </tr>\n",
       "    <tr>\n",
       "      <th>1</th>\n",
       "      <td>Australia</td>\n",
       "      <td>7</td>\n",
       "    </tr>\n",
       "    <tr>\n",
       "      <th>2</th>\n",
       "      <td>Austria</td>\n",
       "      <td>7</td>\n",
       "    </tr>\n",
       "    <tr>\n",
       "      <th>3</th>\n",
       "      <td>Belgium</td>\n",
       "      <td>7</td>\n",
       "    </tr>\n",
       "    <tr>\n",
       "      <th>4</th>\n",
       "      <td>Brazil</td>\n",
       "      <td>35</td>\n",
       "    </tr>\n",
       "    <tr>\n",
       "      <th>5</th>\n",
       "      <td>Canada</td>\n",
       "      <td>56</td>\n",
       "    </tr>\n",
       "    <tr>\n",
       "      <th>6</th>\n",
       "      <td>Chile</td>\n",
       "      <td>7</td>\n",
       "    </tr>\n",
       "    <tr>\n",
       "      <th>7</th>\n",
       "      <td>Czech Republic</td>\n",
       "      <td>14</td>\n",
       "    </tr>\n",
       "    <tr>\n",
       "      <th>8</th>\n",
       "      <td>Denmark</td>\n",
       "      <td>7</td>\n",
       "    </tr>\n",
       "    <tr>\n",
       "      <th>9</th>\n",
       "      <td>Finland</td>\n",
       "      <td>7</td>\n",
       "    </tr>\n",
       "    <tr>\n",
       "      <th>10</th>\n",
       "      <td>France</td>\n",
       "      <td>35</td>\n",
       "    </tr>\n",
       "    <tr>\n",
       "      <th>11</th>\n",
       "      <td>Germany</td>\n",
       "      <td>28</td>\n",
       "    </tr>\n",
       "    <tr>\n",
       "      <th>12</th>\n",
       "      <td>Hungary</td>\n",
       "      <td>7</td>\n",
       "    </tr>\n",
       "    <tr>\n",
       "      <th>13</th>\n",
       "      <td>India</td>\n",
       "      <td>13</td>\n",
       "    </tr>\n",
       "    <tr>\n",
       "      <th>14</th>\n",
       "      <td>Ireland</td>\n",
       "      <td>7</td>\n",
       "    </tr>\n",
       "    <tr>\n",
       "      <th>15</th>\n",
       "      <td>Italy</td>\n",
       "      <td>7</td>\n",
       "    </tr>\n",
       "    <tr>\n",
       "      <th>16</th>\n",
       "      <td>Netherlands</td>\n",
       "      <td>7</td>\n",
       "    </tr>\n",
       "    <tr>\n",
       "      <th>17</th>\n",
       "      <td>Norway</td>\n",
       "      <td>7</td>\n",
       "    </tr>\n",
       "    <tr>\n",
       "      <th>18</th>\n",
       "      <td>Poland</td>\n",
       "      <td>7</td>\n",
       "    </tr>\n",
       "    <tr>\n",
       "      <th>19</th>\n",
       "      <td>Portugal</td>\n",
       "      <td>14</td>\n",
       "    </tr>\n",
       "    <tr>\n",
       "      <th>20</th>\n",
       "      <td>Spain</td>\n",
       "      <td>7</td>\n",
       "    </tr>\n",
       "    <tr>\n",
       "      <th>21</th>\n",
       "      <td>Sweden</td>\n",
       "      <td>7</td>\n",
       "    </tr>\n",
       "    <tr>\n",
       "      <th>22</th>\n",
       "      <td>USA</td>\n",
       "      <td>91</td>\n",
       "    </tr>\n",
       "    <tr>\n",
       "      <th>23</th>\n",
       "      <td>United Kingdom</td>\n",
       "      <td>21</td>\n",
       "    </tr>\n",
       "  </tbody>\n",
       "</table>\n",
       "</div>"
      ],
      "text/plain": [
       "    BillingCountry  COUNT (BillingCountry)\n",
       "0        Argentina                       7\n",
       "1        Australia                       7\n",
       "2          Austria                       7\n",
       "3          Belgium                       7\n",
       "4           Brazil                      35\n",
       "5           Canada                      56\n",
       "6            Chile                       7\n",
       "7   Czech Republic                      14\n",
       "8          Denmark                       7\n",
       "9          Finland                       7\n",
       "10          France                      35\n",
       "11         Germany                      28\n",
       "12         Hungary                       7\n",
       "13           India                      13\n",
       "14         Ireland                       7\n",
       "15           Italy                       7\n",
       "16     Netherlands                       7\n",
       "17          Norway                       7\n",
       "18          Poland                       7\n",
       "19        Portugal                      14\n",
       "20           Spain                       7\n",
       "21          Sweden                       7\n",
       "22             USA                      91\n",
       "23  United Kingdom                      21"
      ]
     },
     "execution_count": 40,
     "metadata": {},
     "output_type": "execute_result"
    }
   ],
   "source": [
    "# Cuántas facturas hay de cada país\n",
    "query = ''' \n",
    "SELECT BillingCountry, COUNT (BillingCountry) FROM invoices AS I\n",
    "GROUP BY BillingCountry\n",
    "'''\n",
    "sql_query(query)"
   ]
  },
  {
   "cell_type": "code",
   "execution_count": 42,
   "metadata": {},
   "outputs": [
    {
     "data": {
      "application/vnd.microsoft.datawrangler.viewer.v0+json": {
       "columns": [
        {
         "name": "index",
         "rawType": "int64",
         "type": "integer"
        },
        {
         "name": "InvoiceId",
         "rawType": "int64",
         "type": "integer"
        },
        {
         "name": "CustomerId",
         "rawType": "int64",
         "type": "integer"
        },
        {
         "name": "InvoiceDate",
         "rawType": "object",
         "type": "string"
        },
        {
         "name": "BillingAddress",
         "rawType": "object",
         "type": "string"
        },
        {
         "name": "BillingCity",
         "rawType": "object",
         "type": "string"
        },
        {
         "name": "BillingState",
         "rawType": "object",
         "type": "unknown"
        },
        {
         "name": "BillingCountry",
         "rawType": "object",
         "type": "string"
        },
        {
         "name": "BillingPostalCode",
         "rawType": "object",
         "type": "unknown"
        },
        {
         "name": "Total",
         "rawType": "float64",
         "type": "float"
        }
       ],
       "conversionMethod": "pd.DataFrame",
       "ref": "21af363f-dcd0-42d6-8970-5b3582347a4f",
       "rows": [
        [
         "0",
         "1",
         "2",
         "2009-01-01 00:00:00",
         "Theodor-Heuss-Straße 34",
         "Stuttgart",
         null,
         "Germany",
         "70174",
         "1.98"
        ],
        [
         "1",
         "2",
         "4",
         "2009-01-02 00:00:00",
         "Ullevålsveien 14",
         "Oslo",
         null,
         "Norway",
         "0171",
         "3.96"
        ],
        [
         "2",
         "3",
         "8",
         "2009-01-03 00:00:00",
         "Grétrystraat 63",
         "Brussels",
         null,
         "Belgium",
         "1000",
         "5.94"
        ],
        [
         "3",
         "4",
         "14",
         "2009-01-06 00:00:00",
         "8210 111 ST NW",
         "Edmonton",
         "AB",
         "Canada",
         "T6G 2C7",
         "8.91"
        ],
        [
         "4",
         "5",
         "23",
         "2009-01-11 00:00:00",
         "69 Salem Street",
         "Boston",
         "MA",
         "USA",
         "2113",
         "13.86"
        ],
        [
         "5",
         "6",
         "37",
         "2009-01-19 00:00:00",
         "Berger Straße 10",
         "Frankfurt",
         null,
         "Germany",
         "60316",
         "0.99"
        ],
        [
         "6",
         "7",
         "38",
         "2009-02-01 00:00:00",
         "Barbarossastraße 19",
         "Berlin",
         null,
         "Germany",
         "10779",
         "1.98"
        ],
        [
         "7",
         "8",
         "40",
         "2009-02-01 00:00:00",
         "8, Rue Hanovre",
         "Paris",
         null,
         "France",
         "75002",
         "1.98"
        ],
        [
         "8",
         "9",
         "42",
         "2009-02-02 00:00:00",
         "9, Place Louis Barthou",
         "Bordeaux",
         null,
         "France",
         "33000",
         "3.96"
        ],
        [
         "9",
         "10",
         "46",
         "2009-02-03 00:00:00",
         "3 Chatham Street",
         "Dublin",
         "Dublin",
         "Ireland",
         null,
         "5.94"
        ],
        [
         "10",
         "11",
         "52",
         "2009-02-06 00:00:00",
         "202 Hoxton Street",
         "London",
         null,
         "United Kingdom",
         "N1 5LH",
         "8.91"
        ],
        [
         "11",
         "12",
         "2",
         "2009-02-11 00:00:00",
         "Theodor-Heuss-Straße 34",
         "Stuttgart",
         null,
         "Germany",
         "70174",
         "13.86"
        ],
        [
         "12",
         "13",
         "16",
         "2009-02-19 00:00:00",
         "1600 Amphitheatre Parkway",
         "Mountain View",
         "CA",
         "USA",
         "94043-1351",
         "0.99"
        ],
        [
         "13",
         "14",
         "17",
         "2009-03-04 00:00:00",
         "1 Microsoft Way",
         "Redmond",
         "WA",
         "USA",
         "98052-8300",
         "1.98"
        ],
        [
         "14",
         "15",
         "19",
         "2009-03-04 00:00:00",
         "1 Infinite Loop",
         "Cupertino",
         "CA",
         "USA",
         "95014",
         "1.98"
        ],
        [
         "15",
         "16",
         "21",
         "2009-03-05 00:00:00",
         "801 W 4th Street",
         "Reno",
         "NV",
         "USA",
         "89503",
         "3.96"
        ],
        [
         "16",
         "17",
         "25",
         "2009-03-06 00:00:00",
         "319 N. Frances Street",
         "Madison",
         "WI",
         "USA",
         "53703",
         "5.94"
        ],
        [
         "17",
         "18",
         "31",
         "2009-03-09 00:00:00",
         "194A Chain Lake Drive",
         "Halifax",
         "NS",
         "Canada",
         "B3S 1C5",
         "8.91"
        ],
        [
         "18",
         "19",
         "40",
         "2009-03-14 00:00:00",
         "8, Rue Hanovre",
         "Paris",
         null,
         "France",
         "75002",
         "13.86"
        ],
        [
         "19",
         "20",
         "54",
         "2009-03-22 00:00:00",
         "110 Raeburn Pl",
         "Edinburgh ",
         null,
         "United Kingdom",
         "EH4 1HH",
         "0.99"
        ],
        [
         "20",
         "21",
         "55",
         "2009-04-04 00:00:00",
         "421 Bourke Street",
         "Sidney",
         "NSW",
         "Australia",
         "2010",
         "1.98"
        ],
        [
         "21",
         "22",
         "57",
         "2009-04-04 00:00:00",
         "Calle Lira, 198",
         "Santiago",
         null,
         "Chile",
         null,
         "1.98"
        ],
        [
         "22",
         "23",
         "59",
         "2009-04-05 00:00:00",
         "3,Raj Bhavan Road",
         "Bangalore",
         null,
         "India",
         "560001",
         "3.96"
        ],
        [
         "23",
         "24",
         "4",
         "2009-04-06 00:00:00",
         "Ullevålsveien 14",
         "Oslo",
         null,
         "Norway",
         "0171",
         "5.94"
        ],
        [
         "24",
         "25",
         "10",
         "2009-04-09 00:00:00",
         "Rua Dr. Falcão Filho, 155",
         "São Paulo",
         "SP",
         "Brazil",
         "01007-010",
         "8.91"
        ],
        [
         "25",
         "26",
         "19",
         "2009-04-14 00:00:00",
         "1 Infinite Loop",
         "Cupertino",
         "CA",
         "USA",
         "95014",
         "13.86"
        ],
        [
         "26",
         "27",
         "33",
         "2009-04-22 00:00:00",
         "5112 48 Street",
         "Yellowknife",
         "NT",
         "Canada",
         "X1A 1N6",
         "0.99"
        ],
        [
         "27",
         "28",
         "34",
         "2009-05-05 00:00:00",
         "Rua da Assunção 53",
         "Lisbon",
         null,
         "Portugal",
         null,
         "1.98"
        ],
        [
         "28",
         "29",
         "36",
         "2009-05-05 00:00:00",
         "Tauentzienstraße 8",
         "Berlin",
         null,
         "Germany",
         "10789",
         "1.98"
        ],
        [
         "29",
         "30",
         "38",
         "2009-05-06 00:00:00",
         "Barbarossastraße 19",
         "Berlin",
         null,
         "Germany",
         "10779",
         "3.96"
        ],
        [
         "30",
         "31",
         "42",
         "2009-05-07 00:00:00",
         "9, Place Louis Barthou",
         "Bordeaux",
         null,
         "France",
         "33000",
         "5.94"
        ],
        [
         "31",
         "32",
         "48",
         "2009-05-10 00:00:00",
         "Lijnbaansgracht 120bg",
         "Amsterdam",
         "VV",
         "Netherlands",
         "1016",
         "8.91"
        ],
        [
         "32",
         "33",
         "57",
         "2009-05-15 00:00:00",
         "Calle Lira, 198",
         "Santiago",
         null,
         "Chile",
         null,
         "13.86"
        ],
        [
         "33",
         "34",
         "12",
         "2009-05-23 00:00:00",
         "Praça Pio X, 119",
         "Rio de Janeiro",
         "RJ",
         "Brazil",
         "20040-020",
         "0.99"
        ],
        [
         "34",
         "35",
         "13",
         "2009-06-05 00:00:00",
         "Qe 7 Bloco G",
         "Brasília",
         "DF",
         "Brazil",
         "71020-677",
         "1.98"
        ],
        [
         "35",
         "36",
         "15",
         "2009-06-05 00:00:00",
         "700 W Pender Street",
         "Vancouver",
         "BC",
         "Canada",
         "V6C 1G8",
         "1.98"
        ],
        [
         "36",
         "37",
         "17",
         "2009-06-06 00:00:00",
         "1 Microsoft Way",
         "Redmond",
         "WA",
         "USA",
         "98052-8300",
         "3.96"
        ],
        [
         "37",
         "38",
         "21",
         "2009-06-07 00:00:00",
         "801 W 4th Street",
         "Reno",
         "NV",
         "USA",
         "89503",
         "5.94"
        ],
        [
         "38",
         "39",
         "27",
         "2009-06-10 00:00:00",
         "1033 N Park Ave",
         "Tucson",
         "AZ",
         "USA",
         "85719",
         "8.91"
        ],
        [
         "39",
         "40",
         "36",
         "2009-06-15 00:00:00",
         "Tauentzienstraße 8",
         "Berlin",
         null,
         "Germany",
         "10789",
         "13.86"
        ],
        [
         "40",
         "41",
         "50",
         "2009-06-23 00:00:00",
         "C/ San Bernardo 85",
         "Madrid",
         null,
         "Spain",
         "28015",
         "0.99"
        ],
        [
         "41",
         "42",
         "51",
         "2009-07-06 00:00:00",
         "Celsiusg. 9",
         "Stockholm",
         null,
         "Sweden",
         "11230",
         "1.98"
        ],
        [
         "42",
         "43",
         "53",
         "2009-07-06 00:00:00",
         "113 Lupus St",
         "London",
         null,
         "United Kingdom",
         "SW1V 3EN",
         "1.98"
        ],
        [
         "43",
         "44",
         "55",
         "2009-07-07 00:00:00",
         "421 Bourke Street",
         "Sidney",
         "NSW",
         "Australia",
         "2010",
         "3.96"
        ],
        [
         "44",
         "45",
         "59",
         "2009-07-08 00:00:00",
         "3,Raj Bhavan Road",
         "Bangalore",
         null,
         "India",
         "560001",
         "5.94"
        ],
        [
         "45",
         "46",
         "6",
         "2009-07-11 00:00:00",
         "Rilská 3174/6",
         "Prague",
         null,
         "Czech Republic",
         "14300",
         "8.91"
        ],
        [
         "46",
         "47",
         "15",
         "2009-07-16 00:00:00",
         "700 W Pender Street",
         "Vancouver",
         "BC",
         "Canada",
         "V6C 1G8",
         "13.86"
        ],
        [
         "47",
         "48",
         "29",
         "2009-07-24 00:00:00",
         "796 Dundas Street West",
         "Toronto",
         "ON",
         "Canada",
         "M6J 1V1",
         "0.99"
        ],
        [
         "48",
         "49",
         "30",
         "2009-08-06 00:00:00",
         "230 Elgin Street",
         "Ottawa",
         "ON",
         "Canada",
         "K2P 1L7",
         "1.98"
        ],
        [
         "49",
         "50",
         "32",
         "2009-08-06 00:00:00",
         "696 Osborne Street",
         "Winnipeg",
         "MB",
         "Canada",
         "R3L 2B9",
         "1.98"
        ]
       ],
       "shape": {
        "columns": 9,
        "rows": 412
       }
      },
      "text/html": [
       "<div>\n",
       "<style scoped>\n",
       "    .dataframe tbody tr th:only-of-type {\n",
       "        vertical-align: middle;\n",
       "    }\n",
       "\n",
       "    .dataframe tbody tr th {\n",
       "        vertical-align: top;\n",
       "    }\n",
       "\n",
       "    .dataframe thead th {\n",
       "        text-align: right;\n",
       "    }\n",
       "</style>\n",
       "<table border=\"1\" class=\"dataframe\">\n",
       "  <thead>\n",
       "    <tr style=\"text-align: right;\">\n",
       "      <th></th>\n",
       "      <th>InvoiceId</th>\n",
       "      <th>CustomerId</th>\n",
       "      <th>InvoiceDate</th>\n",
       "      <th>BillingAddress</th>\n",
       "      <th>BillingCity</th>\n",
       "      <th>BillingState</th>\n",
       "      <th>BillingCountry</th>\n",
       "      <th>BillingPostalCode</th>\n",
       "      <th>Total</th>\n",
       "    </tr>\n",
       "  </thead>\n",
       "  <tbody>\n",
       "    <tr>\n",
       "      <th>0</th>\n",
       "      <td>1</td>\n",
       "      <td>2</td>\n",
       "      <td>2009-01-01 00:00:00</td>\n",
       "      <td>Theodor-Heuss-Straße 34</td>\n",
       "      <td>Stuttgart</td>\n",
       "      <td>None</td>\n",
       "      <td>Germany</td>\n",
       "      <td>70174</td>\n",
       "      <td>1.98</td>\n",
       "    </tr>\n",
       "    <tr>\n",
       "      <th>1</th>\n",
       "      <td>2</td>\n",
       "      <td>4</td>\n",
       "      <td>2009-01-02 00:00:00</td>\n",
       "      <td>Ullevålsveien 14</td>\n",
       "      <td>Oslo</td>\n",
       "      <td>None</td>\n",
       "      <td>Norway</td>\n",
       "      <td>0171</td>\n",
       "      <td>3.96</td>\n",
       "    </tr>\n",
       "    <tr>\n",
       "      <th>2</th>\n",
       "      <td>3</td>\n",
       "      <td>8</td>\n",
       "      <td>2009-01-03 00:00:00</td>\n",
       "      <td>Grétrystraat 63</td>\n",
       "      <td>Brussels</td>\n",
       "      <td>None</td>\n",
       "      <td>Belgium</td>\n",
       "      <td>1000</td>\n",
       "      <td>5.94</td>\n",
       "    </tr>\n",
       "    <tr>\n",
       "      <th>3</th>\n",
       "      <td>4</td>\n",
       "      <td>14</td>\n",
       "      <td>2009-01-06 00:00:00</td>\n",
       "      <td>8210 111 ST NW</td>\n",
       "      <td>Edmonton</td>\n",
       "      <td>AB</td>\n",
       "      <td>Canada</td>\n",
       "      <td>T6G 2C7</td>\n",
       "      <td>8.91</td>\n",
       "    </tr>\n",
       "    <tr>\n",
       "      <th>4</th>\n",
       "      <td>5</td>\n",
       "      <td>23</td>\n",
       "      <td>2009-01-11 00:00:00</td>\n",
       "      <td>69 Salem Street</td>\n",
       "      <td>Boston</td>\n",
       "      <td>MA</td>\n",
       "      <td>USA</td>\n",
       "      <td>2113</td>\n",
       "      <td>13.86</td>\n",
       "    </tr>\n",
       "    <tr>\n",
       "      <th>...</th>\n",
       "      <td>...</td>\n",
       "      <td>...</td>\n",
       "      <td>...</td>\n",
       "      <td>...</td>\n",
       "      <td>...</td>\n",
       "      <td>...</td>\n",
       "      <td>...</td>\n",
       "      <td>...</td>\n",
       "      <td>...</td>\n",
       "    </tr>\n",
       "    <tr>\n",
       "      <th>407</th>\n",
       "      <td>408</td>\n",
       "      <td>25</td>\n",
       "      <td>2013-12-05 00:00:00</td>\n",
       "      <td>319 N. Frances Street</td>\n",
       "      <td>Madison</td>\n",
       "      <td>WI</td>\n",
       "      <td>USA</td>\n",
       "      <td>53703</td>\n",
       "      <td>3.96</td>\n",
       "    </tr>\n",
       "    <tr>\n",
       "      <th>408</th>\n",
       "      <td>409</td>\n",
       "      <td>29</td>\n",
       "      <td>2013-12-06 00:00:00</td>\n",
       "      <td>796 Dundas Street West</td>\n",
       "      <td>Toronto</td>\n",
       "      <td>ON</td>\n",
       "      <td>Canada</td>\n",
       "      <td>M6J 1V1</td>\n",
       "      <td>5.94</td>\n",
       "    </tr>\n",
       "    <tr>\n",
       "      <th>409</th>\n",
       "      <td>410</td>\n",
       "      <td>35</td>\n",
       "      <td>2013-12-09 00:00:00</td>\n",
       "      <td>Rua dos Campeões Europeus de Viena, 4350</td>\n",
       "      <td>Porto</td>\n",
       "      <td>None</td>\n",
       "      <td>Portugal</td>\n",
       "      <td>None</td>\n",
       "      <td>8.91</td>\n",
       "    </tr>\n",
       "    <tr>\n",
       "      <th>410</th>\n",
       "      <td>411</td>\n",
       "      <td>44</td>\n",
       "      <td>2013-12-14 00:00:00</td>\n",
       "      <td>Porthaninkatu 9</td>\n",
       "      <td>Helsinki</td>\n",
       "      <td>None</td>\n",
       "      <td>Finland</td>\n",
       "      <td>00530</td>\n",
       "      <td>13.86</td>\n",
       "    </tr>\n",
       "    <tr>\n",
       "      <th>411</th>\n",
       "      <td>412</td>\n",
       "      <td>58</td>\n",
       "      <td>2013-12-22 00:00:00</td>\n",
       "      <td>12,Community Centre</td>\n",
       "      <td>Delhi</td>\n",
       "      <td>None</td>\n",
       "      <td>India</td>\n",
       "      <td>110017</td>\n",
       "      <td>1.99</td>\n",
       "    </tr>\n",
       "  </tbody>\n",
       "</table>\n",
       "<p>412 rows × 9 columns</p>\n",
       "</div>"
      ],
      "text/plain": [
       "     InvoiceId  CustomerId          InvoiceDate  \\\n",
       "0            1           2  2009-01-01 00:00:00   \n",
       "1            2           4  2009-01-02 00:00:00   \n",
       "2            3           8  2009-01-03 00:00:00   \n",
       "3            4          14  2009-01-06 00:00:00   \n",
       "4            5          23  2009-01-11 00:00:00   \n",
       "..         ...         ...                  ...   \n",
       "407        408          25  2013-12-05 00:00:00   \n",
       "408        409          29  2013-12-06 00:00:00   \n",
       "409        410          35  2013-12-09 00:00:00   \n",
       "410        411          44  2013-12-14 00:00:00   \n",
       "411        412          58  2013-12-22 00:00:00   \n",
       "\n",
       "                               BillingAddress BillingCity BillingState  \\\n",
       "0                     Theodor-Heuss-Straße 34   Stuttgart         None   \n",
       "1                            Ullevålsveien 14        Oslo         None   \n",
       "2                             Grétrystraat 63    Brussels         None   \n",
       "3                              8210 111 ST NW    Edmonton           AB   \n",
       "4                             69 Salem Street      Boston           MA   \n",
       "..                                        ...         ...          ...   \n",
       "407                     319 N. Frances Street     Madison           WI   \n",
       "408                    796 Dundas Street West     Toronto           ON   \n",
       "409  Rua dos Campeões Europeus de Viena, 4350       Porto         None   \n",
       "410                           Porthaninkatu 9    Helsinki         None   \n",
       "411                       12,Community Centre       Delhi         None   \n",
       "\n",
       "    BillingCountry BillingPostalCode  Total  \n",
       "0          Germany             70174   1.98  \n",
       "1           Norway              0171   3.96  \n",
       "2          Belgium              1000   5.94  \n",
       "3           Canada           T6G 2C7   8.91  \n",
       "4              USA              2113  13.86  \n",
       "..             ...               ...    ...  \n",
       "407            USA             53703   3.96  \n",
       "408         Canada           M6J 1V1   5.94  \n",
       "409       Portugal              None   8.91  \n",
       "410        Finland             00530  13.86  \n",
       "411          India            110017   1.99  \n",
       "\n",
       "[412 rows x 9 columns]"
      ]
     },
     "execution_count": 42,
     "metadata": {},
     "output_type": "execute_result"
    }
   ],
   "source": [
    "# Cuántas facturas ha habido en 2009 y 2011\n",
    "\n",
    "query = ''' SELECT DISTINCT * FROM invoices'''\n",
    "sql_query(query)"
   ]
  },
  {
   "cell_type": "code",
   "execution_count": 44,
   "metadata": {},
   "outputs": [
    {
     "data": {
      "application/vnd.microsoft.datawrangler.viewer.v0+json": {
       "columns": [
        {
         "name": "index",
         "rawType": "int64",
         "type": "integer"
        },
        {
         "name": "YEAR",
         "rawType": "object",
         "type": "string"
        },
        {
         "name": "TOTAL_CLIENTS",
         "rawType": "int64",
         "type": "integer"
        }
       ],
       "conversionMethod": "pd.DataFrame",
       "ref": "c64a078b-5711-404c-aa7a-b3c3df5eb813",
       "rows": [
        [
         "0",
         "2009",
         "83"
        ],
        [
         "1",
         "2011",
         "83"
        ]
       ],
       "shape": {
        "columns": 2,
        "rows": 2
       }
      },
      "text/html": [
       "<div>\n",
       "<style scoped>\n",
       "    .dataframe tbody tr th:only-of-type {\n",
       "        vertical-align: middle;\n",
       "    }\n",
       "\n",
       "    .dataframe tbody tr th {\n",
       "        vertical-align: top;\n",
       "    }\n",
       "\n",
       "    .dataframe thead th {\n",
       "        text-align: right;\n",
       "    }\n",
       "</style>\n",
       "<table border=\"1\" class=\"dataframe\">\n",
       "  <thead>\n",
       "    <tr style=\"text-align: right;\">\n",
       "      <th></th>\n",
       "      <th>YEAR</th>\n",
       "      <th>TOTAL_CLIENTS</th>\n",
       "    </tr>\n",
       "  </thead>\n",
       "  <tbody>\n",
       "    <tr>\n",
       "      <th>0</th>\n",
       "      <td>2009</td>\n",
       "      <td>83</td>\n",
       "    </tr>\n",
       "    <tr>\n",
       "      <th>1</th>\n",
       "      <td>2011</td>\n",
       "      <td>83</td>\n",
       "    </tr>\n",
       "  </tbody>\n",
       "</table>\n",
       "</div>"
      ],
      "text/plain": [
       "   YEAR  TOTAL_CLIENTS\n",
       "0  2009             83\n",
       "1  2011             83"
      ]
     },
     "execution_count": 44,
     "metadata": {},
     "output_type": "execute_result"
    }
   ],
   "source": [
    "query = '''SELECT strftime(\"%Y\", InvoiceDate) AS YEAR, COUNT(*) AS TOTAL_CLIENTS FROM invoices\n",
    "WHERE (strftime(\"%Y\", InvoiceDate) = \"2009\") or (strftime(\"%Y\", InvoiceDate) = \"2011\")\n",
    "GROUP BY YEAR'''\n",
    "\n",
    "sql_query(query)"
   ]
  },
  {
   "cell_type": "code",
   "execution_count": 49,
   "metadata": {},
   "outputs": [
    {
     "data": {
      "application/vnd.microsoft.datawrangler.viewer.v0+json": {
       "columns": [
        {
         "name": "index",
         "rawType": "int64",
         "type": "integer"
        },
        {
         "name": "YEAR",
         "rawType": "object",
         "type": "string"
        },
        {
         "name": "TOTAL_CLIENTS",
         "rawType": "int64",
         "type": "integer"
        }
       ],
       "conversionMethod": "pd.DataFrame",
       "ref": "fcbbaffe-56cb-49f6-864c-94ff607f30d3",
       "rows": [
        [
         "0",
         "2009",
         "83"
        ],
        [
         "1",
         "2010",
         "83"
        ],
        [
         "2",
         "2011",
         "83"
        ]
       ],
       "shape": {
        "columns": 2,
        "rows": 3
       }
      },
      "text/html": [
       "<div>\n",
       "<style scoped>\n",
       "    .dataframe tbody tr th:only-of-type {\n",
       "        vertical-align: middle;\n",
       "    }\n",
       "\n",
       "    .dataframe tbody tr th {\n",
       "        vertical-align: top;\n",
       "    }\n",
       "\n",
       "    .dataframe thead th {\n",
       "        text-align: right;\n",
       "    }\n",
       "</style>\n",
       "<table border=\"1\" class=\"dataframe\">\n",
       "  <thead>\n",
       "    <tr style=\"text-align: right;\">\n",
       "      <th></th>\n",
       "      <th>YEAR</th>\n",
       "      <th>TOTAL_CLIENTS</th>\n",
       "    </tr>\n",
       "  </thead>\n",
       "  <tbody>\n",
       "    <tr>\n",
       "      <th>0</th>\n",
       "      <td>2009</td>\n",
       "      <td>83</td>\n",
       "    </tr>\n",
       "    <tr>\n",
       "      <th>1</th>\n",
       "      <td>2010</td>\n",
       "      <td>83</td>\n",
       "    </tr>\n",
       "    <tr>\n",
       "      <th>2</th>\n",
       "      <td>2011</td>\n",
       "      <td>83</td>\n",
       "    </tr>\n",
       "  </tbody>\n",
       "</table>\n",
       "</div>"
      ],
      "text/plain": [
       "   YEAR  TOTAL_CLIENTS\n",
       "0  2009             83\n",
       "1  2010             83\n",
       "2  2011             83"
      ]
     },
     "execution_count": 49,
     "metadata": {},
     "output_type": "execute_result"
    }
   ],
   "source": [
    "# Cuántas facturas ha habido entre 2009 y 2011\n",
    "query = '''SELECT strftime(\"%Y\", InvoiceDate) AS YEAR, COUNT(*) AS TOTAL_CLIENTS FROM invoices\n",
    "WHERE strftime(\"%Y\", InvoiceDate) between  \"2009\" AND \"2011\"\n",
    "GROUP BY YEAR;''' \n",
    "\n",
    "sql_query(query)"
   ]
  },
  {
   "cell_type": "code",
   "execution_count": 50,
   "metadata": {},
   "outputs": [
    {
     "data": {
      "application/vnd.microsoft.datawrangler.viewer.v0+json": {
       "columns": [
        {
         "name": "index",
         "rawType": "int64",
         "type": "integer"
        },
        {
         "name": "Country",
         "rawType": "object",
         "type": "string"
        },
        {
         "name": "Numclients",
         "rawType": "int64",
         "type": "integer"
        }
       ],
       "conversionMethod": "pd.DataFrame",
       "ref": "8c2eccbb-084e-4b63-835c-f6c9044071bd",
       "rows": [
        [
         "0",
         "Brazil",
         "5"
        ],
        [
         "1",
         "Spain",
         "1"
        ]
       ],
       "shape": {
        "columns": 2,
        "rows": 2
       }
      },
      "text/html": [
       "<div>\n",
       "<style scoped>\n",
       "    .dataframe tbody tr th:only-of-type {\n",
       "        vertical-align: middle;\n",
       "    }\n",
       "\n",
       "    .dataframe tbody tr th {\n",
       "        vertical-align: top;\n",
       "    }\n",
       "\n",
       "    .dataframe thead th {\n",
       "        text-align: right;\n",
       "    }\n",
       "</style>\n",
       "<table border=\"1\" class=\"dataframe\">\n",
       "  <thead>\n",
       "    <tr style=\"text-align: right;\">\n",
       "      <th></th>\n",
       "      <th>Country</th>\n",
       "      <th>Numclients</th>\n",
       "    </tr>\n",
       "  </thead>\n",
       "  <tbody>\n",
       "    <tr>\n",
       "      <th>0</th>\n",
       "      <td>Brazil</td>\n",
       "      <td>5</td>\n",
       "    </tr>\n",
       "    <tr>\n",
       "      <th>1</th>\n",
       "      <td>Spain</td>\n",
       "      <td>1</td>\n",
       "    </tr>\n",
       "  </tbody>\n",
       "</table>\n",
       "</div>"
      ],
      "text/plain": [
       "  Country  Numclients\n",
       "0  Brazil           5\n",
       "1   Spain           1"
      ]
     },
     "execution_count": 50,
     "metadata": {},
     "output_type": "execute_result"
    }
   ],
   "source": [
    "# Cuántas clientes hay de España y de Brasil\n",
    "\n",
    "query = ''' \n",
    "SELECT Country, COUNT(CustomerId) AS Numclients FROM customers\n",
    "WHERE Country IN('Spain' , 'Brazil') \n",
    "GROUP BY Country\n",
    "'''\n",
    "sql_query(query)"
   ]
  },
  {
   "cell_type": "code",
   "execution_count": 51,
   "metadata": {},
   "outputs": [
    {
     "data": {
      "application/vnd.microsoft.datawrangler.viewer.v0+json": {
       "columns": [
        {
         "name": "index",
         "rawType": "int64",
         "type": "integer"
        },
        {
         "name": "Titulo",
         "rawType": "object",
         "type": "string"
        }
       ],
       "conversionMethod": "pd.DataFrame",
       "ref": "9138c6ac-8cd4-4bbb-84b0-c4aa8d1b8aa6",
       "rows": [
        [
         "0",
         "You Oughta Know"
        ],
        [
         "1",
         "You Learn"
        ],
        [
         "2",
         "You Oughta Know (Alternate)"
        ],
        [
         "3",
         "Your Time Has Come"
        ],
        [
         "4",
         "You Shook Me"
        ],
        [
         "5",
         "You Shook Me(2)"
        ],
        [
         "6",
         "You Fool No One"
        ],
        [
         "7",
         "You Fool No One (Alternate Version)"
        ],
        [
         "8",
         "You Keep On Moving"
        ],
        [
         "9",
         "You Can't Do it Right (With the One You Love)"
        ],
        [
         "10",
         "You're Crazy"
        ],
        [
         "11",
         "You Ain't the First"
        ],
        [
         "12",
         "You Could Be Mine"
        ],
        [
         "13",
         "You've Got Another Thing Comin'"
        ],
        [
         "14",
         "You Shook Me"
        ],
        [
         "15",
         "Your Time Is Gonna Come"
        ],
        [
         "16",
         "You've Been A Long Time Coming"
        ],
        [
         "17",
         "You're What's Happening (In The World Today)"
        ],
        [
         "18",
         "You Sure Love To Ball"
        ],
        [
         "19",
         "Your Blue Room"
        ],
        [
         "20",
         "You Are"
        ],
        [
         "21",
         "You're My Best Friend"
        ],
        [
         "22",
         "You Are The Everything"
        ],
        [
         "23",
         "You've Got It"
        ],
        [
         "24",
         "Your Mirror"
        ],
        [
         "25",
         "You Got Me Rocking"
        ],
        [
         "26",
         "You Got Me Rocking"
        ],
        [
         "27",
         "You Better You Bet"
        ],
        [
         "28",
         "You Really Got Me"
        ],
        [
         "29",
         "You Got No Right"
        ],
        [
         "30",
         "You're Gonna Break My Hart Again"
        ],
        [
         "31",
         "Your Time Is Gonna Come"
        ],
        [
         "32",
         "Your Savior"
        ],
        [
         "33",
         "Your Soul Today"
        ],
        [
         "34",
         "You Know My Name"
        ],
        [
         "35",
         "You Know I'm No Good"
        ],
        [
         "36",
         "You Know I'm No Good (feat. Ghostface Killah)"
        ],
        [
         "37",
         "You Sent Me Flying / Cherry"
        ]
       ],
       "shape": {
        "columns": 1,
        "rows": 38
       }
      },
      "text/html": [
       "<div>\n",
       "<style scoped>\n",
       "    .dataframe tbody tr th:only-of-type {\n",
       "        vertical-align: middle;\n",
       "    }\n",
       "\n",
       "    .dataframe tbody tr th {\n",
       "        vertical-align: top;\n",
       "    }\n",
       "\n",
       "    .dataframe thead th {\n",
       "        text-align: right;\n",
       "    }\n",
       "</style>\n",
       "<table border=\"1\" class=\"dataframe\">\n",
       "  <thead>\n",
       "    <tr style=\"text-align: right;\">\n",
       "      <th></th>\n",
       "      <th>Titulo</th>\n",
       "    </tr>\n",
       "  </thead>\n",
       "  <tbody>\n",
       "    <tr>\n",
       "      <th>0</th>\n",
       "      <td>You Oughta Know</td>\n",
       "    </tr>\n",
       "    <tr>\n",
       "      <th>1</th>\n",
       "      <td>You Learn</td>\n",
       "    </tr>\n",
       "    <tr>\n",
       "      <th>2</th>\n",
       "      <td>You Oughta Know (Alternate)</td>\n",
       "    </tr>\n",
       "    <tr>\n",
       "      <th>3</th>\n",
       "      <td>Your Time Has Come</td>\n",
       "    </tr>\n",
       "    <tr>\n",
       "      <th>4</th>\n",
       "      <td>You Shook Me</td>\n",
       "    </tr>\n",
       "    <tr>\n",
       "      <th>5</th>\n",
       "      <td>You Shook Me(2)</td>\n",
       "    </tr>\n",
       "    <tr>\n",
       "      <th>6</th>\n",
       "      <td>You Fool No One</td>\n",
       "    </tr>\n",
       "    <tr>\n",
       "      <th>7</th>\n",
       "      <td>You Fool No One (Alternate Version)</td>\n",
       "    </tr>\n",
       "    <tr>\n",
       "      <th>8</th>\n",
       "      <td>You Keep On Moving</td>\n",
       "    </tr>\n",
       "    <tr>\n",
       "      <th>9</th>\n",
       "      <td>You Can't Do it Right (With the One You Love)</td>\n",
       "    </tr>\n",
       "    <tr>\n",
       "      <th>10</th>\n",
       "      <td>You're Crazy</td>\n",
       "    </tr>\n",
       "    <tr>\n",
       "      <th>11</th>\n",
       "      <td>You Ain't the First</td>\n",
       "    </tr>\n",
       "    <tr>\n",
       "      <th>12</th>\n",
       "      <td>You Could Be Mine</td>\n",
       "    </tr>\n",
       "    <tr>\n",
       "      <th>13</th>\n",
       "      <td>You've Got Another Thing Comin'</td>\n",
       "    </tr>\n",
       "    <tr>\n",
       "      <th>14</th>\n",
       "      <td>You Shook Me</td>\n",
       "    </tr>\n",
       "    <tr>\n",
       "      <th>15</th>\n",
       "      <td>Your Time Is Gonna Come</td>\n",
       "    </tr>\n",
       "    <tr>\n",
       "      <th>16</th>\n",
       "      <td>You've Been A Long Time Coming</td>\n",
       "    </tr>\n",
       "    <tr>\n",
       "      <th>17</th>\n",
       "      <td>You're What's Happening (In The World Today)</td>\n",
       "    </tr>\n",
       "    <tr>\n",
       "      <th>18</th>\n",
       "      <td>You Sure Love To Ball</td>\n",
       "    </tr>\n",
       "    <tr>\n",
       "      <th>19</th>\n",
       "      <td>Your Blue Room</td>\n",
       "    </tr>\n",
       "    <tr>\n",
       "      <th>20</th>\n",
       "      <td>You Are</td>\n",
       "    </tr>\n",
       "    <tr>\n",
       "      <th>21</th>\n",
       "      <td>You're My Best Friend</td>\n",
       "    </tr>\n",
       "    <tr>\n",
       "      <th>22</th>\n",
       "      <td>You Are The Everything</td>\n",
       "    </tr>\n",
       "    <tr>\n",
       "      <th>23</th>\n",
       "      <td>You've Got It</td>\n",
       "    </tr>\n",
       "    <tr>\n",
       "      <th>24</th>\n",
       "      <td>Your Mirror</td>\n",
       "    </tr>\n",
       "    <tr>\n",
       "      <th>25</th>\n",
       "      <td>You Got Me Rocking</td>\n",
       "    </tr>\n",
       "    <tr>\n",
       "      <th>26</th>\n",
       "      <td>You Got Me Rocking</td>\n",
       "    </tr>\n",
       "    <tr>\n",
       "      <th>27</th>\n",
       "      <td>You Better You Bet</td>\n",
       "    </tr>\n",
       "    <tr>\n",
       "      <th>28</th>\n",
       "      <td>You Really Got Me</td>\n",
       "    </tr>\n",
       "    <tr>\n",
       "      <th>29</th>\n",
       "      <td>You Got No Right</td>\n",
       "    </tr>\n",
       "    <tr>\n",
       "      <th>30</th>\n",
       "      <td>You're Gonna Break My Hart Again</td>\n",
       "    </tr>\n",
       "    <tr>\n",
       "      <th>31</th>\n",
       "      <td>Your Time Is Gonna Come</td>\n",
       "    </tr>\n",
       "    <tr>\n",
       "      <th>32</th>\n",
       "      <td>Your Savior</td>\n",
       "    </tr>\n",
       "    <tr>\n",
       "      <th>33</th>\n",
       "      <td>Your Soul Today</td>\n",
       "    </tr>\n",
       "    <tr>\n",
       "      <th>34</th>\n",
       "      <td>You Know My Name</td>\n",
       "    </tr>\n",
       "    <tr>\n",
       "      <th>35</th>\n",
       "      <td>You Know I'm No Good</td>\n",
       "    </tr>\n",
       "    <tr>\n",
       "      <th>36</th>\n",
       "      <td>You Know I'm No Good (feat. Ghostface Killah)</td>\n",
       "    </tr>\n",
       "    <tr>\n",
       "      <th>37</th>\n",
       "      <td>You Sent Me Flying / Cherry</td>\n",
       "    </tr>\n",
       "  </tbody>\n",
       "</table>\n",
       "</div>"
      ],
      "text/plain": [
       "                                           Titulo\n",
       "0                                 You Oughta Know\n",
       "1                                       You Learn\n",
       "2                     You Oughta Know (Alternate)\n",
       "3                              Your Time Has Come\n",
       "4                                    You Shook Me\n",
       "5                                 You Shook Me(2)\n",
       "6                                 You Fool No One\n",
       "7             You Fool No One (Alternate Version)\n",
       "8                              You Keep On Moving\n",
       "9   You Can't Do it Right (With the One You Love)\n",
       "10                                   You're Crazy\n",
       "11                            You Ain't the First\n",
       "12                              You Could Be Mine\n",
       "13                You've Got Another Thing Comin'\n",
       "14                                   You Shook Me\n",
       "15                        Your Time Is Gonna Come\n",
       "16                 You've Been A Long Time Coming\n",
       "17   You're What's Happening (In The World Today)\n",
       "18                          You Sure Love To Ball\n",
       "19                                 Your Blue Room\n",
       "20                                        You Are\n",
       "21                          You're My Best Friend\n",
       "22                         You Are The Everything\n",
       "23                                  You've Got It\n",
       "24                                    Your Mirror\n",
       "25                             You Got Me Rocking\n",
       "26                             You Got Me Rocking\n",
       "27                             You Better You Bet\n",
       "28                              You Really Got Me\n",
       "29                               You Got No Right\n",
       "30               You're Gonna Break My Hart Again\n",
       "31                        Your Time Is Gonna Come\n",
       "32                                    Your Savior\n",
       "33                                Your Soul Today\n",
       "34                               You Know My Name\n",
       "35                           You Know I'm No Good\n",
       "36  You Know I'm No Good (feat. Ghostface Killah)\n",
       "37                    You Sent Me Flying / Cherry"
      ]
     },
     "execution_count": 51,
     "metadata": {},
     "output_type": "execute_result"
    }
   ],
   "source": [
    "# Obtén las canciones que su título empieza por ‘You’\n",
    "# LIKE 'You%' → Busca nombres que comiencen con \"You\".\n",
    "\n",
    "query= '''\n",
    "SELECT Name AS Titulo FROM tracks\n",
    "WHERE Name LIKE 'You%'\n",
    "'''\n",
    "\n",
    "sql_query(query)"
   ]
  },
  {
   "cell_type": "code",
   "execution_count": 52,
   "metadata": {},
   "outputs": [
    {
     "data": {
      "application/vnd.microsoft.datawrangler.viewer.v0+json": {
       "columns": [
        {
         "name": "index",
         "rawType": "int64",
         "type": "integer"
        },
        {
         "name": "NombreCliente",
         "rawType": "object",
         "type": "string"
        },
        {
         "name": "InvoiceDate",
         "rawType": "object",
         "type": "string"
        },
        {
         "name": "InvoiceId",
         "rawType": "int64",
         "type": "integer"
        },
        {
         "name": "BillingCountry",
         "rawType": "object",
         "type": "string"
        }
       ],
       "conversionMethod": "pd.DataFrame",
       "ref": "26d39697-79b0-4e0b-9add-8d2c86d6cdd3",
       "rows": [
        [
         "0",
         "Eduardo Martins",
         "2009-04-09 00:00:00",
         "25",
         "Brazil"
        ],
        [
         "1",
         "Roberto Almeida",
         "2009-05-23 00:00:00",
         "34",
         "Brazil"
        ],
        [
         "2",
         "Fernanda Ramos",
         "2009-06-05 00:00:00",
         "35",
         "Brazil"
        ],
        [
         "3",
         "Alexandre Rocha",
         "2009-09-06 00:00:00",
         "57",
         "Brazil"
        ],
        [
         "4",
         "Fernanda Ramos",
         "2009-09-07 00:00:00",
         "58",
         "Brazil"
        ],
        [
         "5",
         "Alexandre Rocha",
         "2009-10-17 00:00:00",
         "68",
         "Brazil"
        ],
        [
         "6",
         "Fernanda Ramos",
         "2009-12-10 00:00:00",
         "80",
         "Brazil"
        ],
        [
         "7",
         "Luís Gonçalves",
         "2010-03-11 00:00:00",
         "98",
         "Brazil"
        ],
        [
         "8",
         "Luís Gonçalves",
         "2010-06-13 00:00:00",
         "121",
         "Brazil"
        ],
        [
         "9",
         "Alexandre Rocha",
         "2010-06-17 00:00:00",
         "123",
         "Brazil"
        ],
        [
         "10",
         "Fernanda Ramos",
         "2010-07-31 00:00:00",
         "132",
         "Brazil"
        ],
        [
         "11",
         "Luís Gonçalves",
         "2010-09-15 00:00:00",
         "143",
         "Brazil"
        ],
        [
         "12",
         "Eduardo Martins",
         "2010-11-14 00:00:00",
         "154",
         "Brazil"
        ],
        [
         "13",
         "Roberto Almeida",
         "2010-11-14 00:00:00",
         "155",
         "Brazil"
        ],
        [
         "14",
         "Roberto Almeida",
         "2010-12-25 00:00:00",
         "166",
         "Brazil"
        ],
        [
         "15",
         "Eduardo Martins",
         "2011-02-16 00:00:00",
         "177",
         "Brazil"
        ],
        [
         "16",
         "Luís Gonçalves",
         "2011-05-06 00:00:00",
         "195",
         "Brazil"
        ],
        [
         "17",
         "Eduardo Martins",
         "2011-05-21 00:00:00",
         "199",
         "Brazil"
        ],
        [
         "18",
         "Roberto Almeida",
         "2011-08-25 00:00:00",
         "221",
         "Brazil"
        ],
        [
         "19",
         "Eduardo Martins",
         "2012-01-09 00:00:00",
         "251",
         "Brazil"
        ],
        [
         "20",
         "Alexandre Rocha",
         "2012-01-22 00:00:00",
         "252",
         "Brazil"
        ],
        [
         "21",
         "Fernanda Ramos",
         "2012-01-22 00:00:00",
         "253",
         "Brazil"
        ],
        [
         "22",
         "Fernanda Ramos",
         "2012-03-03 00:00:00",
         "264",
         "Brazil"
        ],
        [
         "23",
         "Alexandre Rocha",
         "2012-04-25 00:00:00",
         "275",
         "Brazil"
        ],
        [
         "24",
         "Alexandre Rocha",
         "2012-07-28 00:00:00",
         "297",
         "Brazil"
        ],
        [
         "25",
         "Luís Gonçalves",
         "2012-10-27 00:00:00",
         "316",
         "Brazil"
        ],
        [
         "26",
         "Fernanda Ramos",
         "2012-11-01 00:00:00",
         "319",
         "Brazil"
        ],
        [
         "27",
         "Luís Gonçalves",
         "2012-12-07 00:00:00",
         "327",
         "Brazil"
        ],
        [
         "28",
         "Alexandre Rocha",
         "2013-03-18 00:00:00",
         "349",
         "Brazil"
        ],
        [
         "29",
         "Roberto Almeida",
         "2013-03-31 00:00:00",
         "350",
         "Brazil"
        ],
        [
         "30",
         "Eduardo Martins",
         "2013-07-02 00:00:00",
         "372",
         "Brazil"
        ],
        [
         "31",
         "Roberto Almeida",
         "2013-07-03 00:00:00",
         "373",
         "Brazil"
        ],
        [
         "32",
         "Luís Gonçalves",
         "2013-08-07 00:00:00",
         "382",
         "Brazil"
        ],
        [
         "33",
         "Eduardo Martins",
         "2013-08-12 00:00:00",
         "383",
         "Brazil"
        ],
        [
         "34",
         "Roberto Almeida",
         "2013-10-05 00:00:00",
         "395",
         "Brazil"
        ]
       ],
       "shape": {
        "columns": 4,
        "rows": 35
       }
      },
      "text/html": [
       "<div>\n",
       "<style scoped>\n",
       "    .dataframe tbody tr th:only-of-type {\n",
       "        vertical-align: middle;\n",
       "    }\n",
       "\n",
       "    .dataframe tbody tr th {\n",
       "        vertical-align: top;\n",
       "    }\n",
       "\n",
       "    .dataframe thead th {\n",
       "        text-align: right;\n",
       "    }\n",
       "</style>\n",
       "<table border=\"1\" class=\"dataframe\">\n",
       "  <thead>\n",
       "    <tr style=\"text-align: right;\">\n",
       "      <th></th>\n",
       "      <th>NombreCliente</th>\n",
       "      <th>InvoiceDate</th>\n",
       "      <th>InvoiceId</th>\n",
       "      <th>BillingCountry</th>\n",
       "    </tr>\n",
       "  </thead>\n",
       "  <tbody>\n",
       "    <tr>\n",
       "      <th>0</th>\n",
       "      <td>Eduardo Martins</td>\n",
       "      <td>2009-04-09 00:00:00</td>\n",
       "      <td>25</td>\n",
       "      <td>Brazil</td>\n",
       "    </tr>\n",
       "    <tr>\n",
       "      <th>1</th>\n",
       "      <td>Roberto Almeida</td>\n",
       "      <td>2009-05-23 00:00:00</td>\n",
       "      <td>34</td>\n",
       "      <td>Brazil</td>\n",
       "    </tr>\n",
       "    <tr>\n",
       "      <th>2</th>\n",
       "      <td>Fernanda Ramos</td>\n",
       "      <td>2009-06-05 00:00:00</td>\n",
       "      <td>35</td>\n",
       "      <td>Brazil</td>\n",
       "    </tr>\n",
       "    <tr>\n",
       "      <th>3</th>\n",
       "      <td>Alexandre Rocha</td>\n",
       "      <td>2009-09-06 00:00:00</td>\n",
       "      <td>57</td>\n",
       "      <td>Brazil</td>\n",
       "    </tr>\n",
       "    <tr>\n",
       "      <th>4</th>\n",
       "      <td>Fernanda Ramos</td>\n",
       "      <td>2009-09-07 00:00:00</td>\n",
       "      <td>58</td>\n",
       "      <td>Brazil</td>\n",
       "    </tr>\n",
       "    <tr>\n",
       "      <th>5</th>\n",
       "      <td>Alexandre Rocha</td>\n",
       "      <td>2009-10-17 00:00:00</td>\n",
       "      <td>68</td>\n",
       "      <td>Brazil</td>\n",
       "    </tr>\n",
       "    <tr>\n",
       "      <th>6</th>\n",
       "      <td>Fernanda Ramos</td>\n",
       "      <td>2009-12-10 00:00:00</td>\n",
       "      <td>80</td>\n",
       "      <td>Brazil</td>\n",
       "    </tr>\n",
       "    <tr>\n",
       "      <th>7</th>\n",
       "      <td>Luís Gonçalves</td>\n",
       "      <td>2010-03-11 00:00:00</td>\n",
       "      <td>98</td>\n",
       "      <td>Brazil</td>\n",
       "    </tr>\n",
       "    <tr>\n",
       "      <th>8</th>\n",
       "      <td>Luís Gonçalves</td>\n",
       "      <td>2010-06-13 00:00:00</td>\n",
       "      <td>121</td>\n",
       "      <td>Brazil</td>\n",
       "    </tr>\n",
       "    <tr>\n",
       "      <th>9</th>\n",
       "      <td>Alexandre Rocha</td>\n",
       "      <td>2010-06-17 00:00:00</td>\n",
       "      <td>123</td>\n",
       "      <td>Brazil</td>\n",
       "    </tr>\n",
       "    <tr>\n",
       "      <th>10</th>\n",
       "      <td>Fernanda Ramos</td>\n",
       "      <td>2010-07-31 00:00:00</td>\n",
       "      <td>132</td>\n",
       "      <td>Brazil</td>\n",
       "    </tr>\n",
       "    <tr>\n",
       "      <th>11</th>\n",
       "      <td>Luís Gonçalves</td>\n",
       "      <td>2010-09-15 00:00:00</td>\n",
       "      <td>143</td>\n",
       "      <td>Brazil</td>\n",
       "    </tr>\n",
       "    <tr>\n",
       "      <th>12</th>\n",
       "      <td>Eduardo Martins</td>\n",
       "      <td>2010-11-14 00:00:00</td>\n",
       "      <td>154</td>\n",
       "      <td>Brazil</td>\n",
       "    </tr>\n",
       "    <tr>\n",
       "      <th>13</th>\n",
       "      <td>Roberto Almeida</td>\n",
       "      <td>2010-11-14 00:00:00</td>\n",
       "      <td>155</td>\n",
       "      <td>Brazil</td>\n",
       "    </tr>\n",
       "    <tr>\n",
       "      <th>14</th>\n",
       "      <td>Roberto Almeida</td>\n",
       "      <td>2010-12-25 00:00:00</td>\n",
       "      <td>166</td>\n",
       "      <td>Brazil</td>\n",
       "    </tr>\n",
       "    <tr>\n",
       "      <th>15</th>\n",
       "      <td>Eduardo Martins</td>\n",
       "      <td>2011-02-16 00:00:00</td>\n",
       "      <td>177</td>\n",
       "      <td>Brazil</td>\n",
       "    </tr>\n",
       "    <tr>\n",
       "      <th>16</th>\n",
       "      <td>Luís Gonçalves</td>\n",
       "      <td>2011-05-06 00:00:00</td>\n",
       "      <td>195</td>\n",
       "      <td>Brazil</td>\n",
       "    </tr>\n",
       "    <tr>\n",
       "      <th>17</th>\n",
       "      <td>Eduardo Martins</td>\n",
       "      <td>2011-05-21 00:00:00</td>\n",
       "      <td>199</td>\n",
       "      <td>Brazil</td>\n",
       "    </tr>\n",
       "    <tr>\n",
       "      <th>18</th>\n",
       "      <td>Roberto Almeida</td>\n",
       "      <td>2011-08-25 00:00:00</td>\n",
       "      <td>221</td>\n",
       "      <td>Brazil</td>\n",
       "    </tr>\n",
       "    <tr>\n",
       "      <th>19</th>\n",
       "      <td>Eduardo Martins</td>\n",
       "      <td>2012-01-09 00:00:00</td>\n",
       "      <td>251</td>\n",
       "      <td>Brazil</td>\n",
       "    </tr>\n",
       "    <tr>\n",
       "      <th>20</th>\n",
       "      <td>Alexandre Rocha</td>\n",
       "      <td>2012-01-22 00:00:00</td>\n",
       "      <td>252</td>\n",
       "      <td>Brazil</td>\n",
       "    </tr>\n",
       "    <tr>\n",
       "      <th>21</th>\n",
       "      <td>Fernanda Ramos</td>\n",
       "      <td>2012-01-22 00:00:00</td>\n",
       "      <td>253</td>\n",
       "      <td>Brazil</td>\n",
       "    </tr>\n",
       "    <tr>\n",
       "      <th>22</th>\n",
       "      <td>Fernanda Ramos</td>\n",
       "      <td>2012-03-03 00:00:00</td>\n",
       "      <td>264</td>\n",
       "      <td>Brazil</td>\n",
       "    </tr>\n",
       "    <tr>\n",
       "      <th>23</th>\n",
       "      <td>Alexandre Rocha</td>\n",
       "      <td>2012-04-25 00:00:00</td>\n",
       "      <td>275</td>\n",
       "      <td>Brazil</td>\n",
       "    </tr>\n",
       "    <tr>\n",
       "      <th>24</th>\n",
       "      <td>Alexandre Rocha</td>\n",
       "      <td>2012-07-28 00:00:00</td>\n",
       "      <td>297</td>\n",
       "      <td>Brazil</td>\n",
       "    </tr>\n",
       "    <tr>\n",
       "      <th>25</th>\n",
       "      <td>Luís Gonçalves</td>\n",
       "      <td>2012-10-27 00:00:00</td>\n",
       "      <td>316</td>\n",
       "      <td>Brazil</td>\n",
       "    </tr>\n",
       "    <tr>\n",
       "      <th>26</th>\n",
       "      <td>Fernanda Ramos</td>\n",
       "      <td>2012-11-01 00:00:00</td>\n",
       "      <td>319</td>\n",
       "      <td>Brazil</td>\n",
       "    </tr>\n",
       "    <tr>\n",
       "      <th>27</th>\n",
       "      <td>Luís Gonçalves</td>\n",
       "      <td>2012-12-07 00:00:00</td>\n",
       "      <td>327</td>\n",
       "      <td>Brazil</td>\n",
       "    </tr>\n",
       "    <tr>\n",
       "      <th>28</th>\n",
       "      <td>Alexandre Rocha</td>\n",
       "      <td>2013-03-18 00:00:00</td>\n",
       "      <td>349</td>\n",
       "      <td>Brazil</td>\n",
       "    </tr>\n",
       "    <tr>\n",
       "      <th>29</th>\n",
       "      <td>Roberto Almeida</td>\n",
       "      <td>2013-03-31 00:00:00</td>\n",
       "      <td>350</td>\n",
       "      <td>Brazil</td>\n",
       "    </tr>\n",
       "    <tr>\n",
       "      <th>30</th>\n",
       "      <td>Eduardo Martins</td>\n",
       "      <td>2013-07-02 00:00:00</td>\n",
       "      <td>372</td>\n",
       "      <td>Brazil</td>\n",
       "    </tr>\n",
       "    <tr>\n",
       "      <th>31</th>\n",
       "      <td>Roberto Almeida</td>\n",
       "      <td>2013-07-03 00:00:00</td>\n",
       "      <td>373</td>\n",
       "      <td>Brazil</td>\n",
       "    </tr>\n",
       "    <tr>\n",
       "      <th>32</th>\n",
       "      <td>Luís Gonçalves</td>\n",
       "      <td>2013-08-07 00:00:00</td>\n",
       "      <td>382</td>\n",
       "      <td>Brazil</td>\n",
       "    </tr>\n",
       "    <tr>\n",
       "      <th>33</th>\n",
       "      <td>Eduardo Martins</td>\n",
       "      <td>2013-08-12 00:00:00</td>\n",
       "      <td>383</td>\n",
       "      <td>Brazil</td>\n",
       "    </tr>\n",
       "    <tr>\n",
       "      <th>34</th>\n",
       "      <td>Roberto Almeida</td>\n",
       "      <td>2013-10-05 00:00:00</td>\n",
       "      <td>395</td>\n",
       "      <td>Brazil</td>\n",
       "    </tr>\n",
       "  </tbody>\n",
       "</table>\n",
       "</div>"
      ],
      "text/plain": [
       "      NombreCliente          InvoiceDate  InvoiceId BillingCountry\n",
       "0   Eduardo Martins  2009-04-09 00:00:00         25         Brazil\n",
       "1   Roberto Almeida  2009-05-23 00:00:00         34         Brazil\n",
       "2    Fernanda Ramos  2009-06-05 00:00:00         35         Brazil\n",
       "3   Alexandre Rocha  2009-09-06 00:00:00         57         Brazil\n",
       "4    Fernanda Ramos  2009-09-07 00:00:00         58         Brazil\n",
       "5   Alexandre Rocha  2009-10-17 00:00:00         68         Brazil\n",
       "6    Fernanda Ramos  2009-12-10 00:00:00         80         Brazil\n",
       "7    Luís Gonçalves  2010-03-11 00:00:00         98         Brazil\n",
       "8    Luís Gonçalves  2010-06-13 00:00:00        121         Brazil\n",
       "9   Alexandre Rocha  2010-06-17 00:00:00        123         Brazil\n",
       "10   Fernanda Ramos  2010-07-31 00:00:00        132         Brazil\n",
       "11   Luís Gonçalves  2010-09-15 00:00:00        143         Brazil\n",
       "12  Eduardo Martins  2010-11-14 00:00:00        154         Brazil\n",
       "13  Roberto Almeida  2010-11-14 00:00:00        155         Brazil\n",
       "14  Roberto Almeida  2010-12-25 00:00:00        166         Brazil\n",
       "15  Eduardo Martins  2011-02-16 00:00:00        177         Brazil\n",
       "16   Luís Gonçalves  2011-05-06 00:00:00        195         Brazil\n",
       "17  Eduardo Martins  2011-05-21 00:00:00        199         Brazil\n",
       "18  Roberto Almeida  2011-08-25 00:00:00        221         Brazil\n",
       "19  Eduardo Martins  2012-01-09 00:00:00        251         Brazil\n",
       "20  Alexandre Rocha  2012-01-22 00:00:00        252         Brazil\n",
       "21   Fernanda Ramos  2012-01-22 00:00:00        253         Brazil\n",
       "22   Fernanda Ramos  2012-03-03 00:00:00        264         Brazil\n",
       "23  Alexandre Rocha  2012-04-25 00:00:00        275         Brazil\n",
       "24  Alexandre Rocha  2012-07-28 00:00:00        297         Brazil\n",
       "25   Luís Gonçalves  2012-10-27 00:00:00        316         Brazil\n",
       "26   Fernanda Ramos  2012-11-01 00:00:00        319         Brazil\n",
       "27   Luís Gonçalves  2012-12-07 00:00:00        327         Brazil\n",
       "28  Alexandre Rocha  2013-03-18 00:00:00        349         Brazil\n",
       "29  Roberto Almeida  2013-03-31 00:00:00        350         Brazil\n",
       "30  Eduardo Martins  2013-07-02 00:00:00        372         Brazil\n",
       "31  Roberto Almeida  2013-07-03 00:00:00        373         Brazil\n",
       "32   Luís Gonçalves  2013-08-07 00:00:00        382         Brazil\n",
       "33  Eduardo Martins  2013-08-12 00:00:00        383         Brazil\n",
       "34  Roberto Almeida  2013-10-05 00:00:00        395         Brazil"
      ]
     },
     "execution_count": 52,
     "metadata": {},
     "output_type": "execute_result"
    }
   ],
   "source": [
    "# Facturas de Clientes de Brasil, Nombre del cliente, Id de factura, fecha de la factura y el país de la factura\n",
    "\n",
    "query = ''' \n",
    "SELECT c.FirstName || ' ' || c.LastName AS NombreCliente, \n",
    "i. InvoiceDate, i. invoiceId, i.BillingCountry \n",
    "FROM invoices i\n",
    "JOIN customers c ON i.CustomerId = c.CustomerId\n",
    "WHERE i.BillingCountry = 'Brazil'\n",
    "'''\n",
    "\n",
    "sql_query(query)"
   ]
  },
  {
   "cell_type": "code",
   "execution_count": 12,
   "metadata": {},
   "outputs": [
    {
     "data": {
      "application/vnd.microsoft.datawrangler.viewer.v0+json": {
       "columns": [
        {
         "name": "index",
         "rawType": "int64",
         "type": "integer"
        },
        {
         "name": "FirstName",
         "rawType": "object",
         "type": "string"
        },
        {
         "name": "LastName",
         "rawType": "object",
         "type": "string"
        },
        {
         "name": "InvoiceId",
         "rawType": "int64",
         "type": "integer"
        }
       ],
       "conversionMethod": "pd.DataFrame",
       "ref": "2cc8986e-8d79-4b96-8f66-adfe33458ee3",
       "rows": [
        [
         "0",
         "Jane",
         "Peacock",
         "98"
        ],
        [
         "1",
         "Jane",
         "Peacock",
         "121"
        ],
        [
         "2",
         "Jane",
         "Peacock",
         "143"
        ],
        [
         "3",
         "Jane",
         "Peacock",
         "195"
        ],
        [
         "4",
         "Jane",
         "Peacock",
         "316"
        ],
        [
         "5",
         "Jane",
         "Peacock",
         "327"
        ],
        [
         "6",
         "Jane",
         "Peacock",
         "382"
        ],
        [
         "7",
         "Jane",
         "Peacock",
         "99"
        ],
        [
         "8",
         "Jane",
         "Peacock",
         "110"
        ],
        [
         "9",
         "Jane",
         "Peacock",
         "165"
        ],
        [
         "10",
         "Jane",
         "Peacock",
         "294"
        ],
        [
         "11",
         "Jane",
         "Peacock",
         "317"
        ],
        [
         "12",
         "Jane",
         "Peacock",
         "339"
        ],
        [
         "13",
         "Jane",
         "Peacock",
         "391"
        ],
        [
         "14",
         "Jane",
         "Peacock",
         "34"
        ],
        [
         "15",
         "Jane",
         "Peacock",
         "155"
        ],
        [
         "16",
         "Jane",
         "Peacock",
         "166"
        ],
        [
         "17",
         "Jane",
         "Peacock",
         "221"
        ],
        [
         "18",
         "Jane",
         "Peacock",
         "350"
        ],
        [
         "19",
         "Jane",
         "Peacock",
         "373"
        ],
        [
         "20",
         "Jane",
         "Peacock",
         "395"
        ],
        [
         "21",
         "Jane",
         "Peacock",
         "36"
        ],
        [
         "22",
         "Jane",
         "Peacock",
         "47"
        ],
        [
         "23",
         "Jane",
         "Peacock",
         "102"
        ],
        [
         "24",
         "Jane",
         "Peacock",
         "231"
        ],
        [
         "25",
         "Jane",
         "Peacock",
         "254"
        ],
        [
         "26",
         "Jane",
         "Peacock",
         "276"
        ],
        [
         "27",
         "Jane",
         "Peacock",
         "328"
        ],
        [
         "28",
         "Jane",
         "Peacock",
         "112"
        ],
        [
         "29",
         "Jane",
         "Peacock",
         "135"
        ],
        [
         "30",
         "Jane",
         "Peacock",
         "157"
        ],
        [
         "31",
         "Jane",
         "Peacock",
         "209"
        ],
        [
         "32",
         "Jane",
         "Peacock",
         "330"
        ],
        [
         "33",
         "Jane",
         "Peacock",
         "341"
        ],
        [
         "34",
         "Jane",
         "Peacock",
         "396"
        ],
        [
         "35",
         "Jane",
         "Peacock",
         "15"
        ],
        [
         "36",
         "Jane",
         "Peacock",
         "26"
        ],
        [
         "37",
         "Jane",
         "Peacock",
         "81"
        ],
        [
         "38",
         "Jane",
         "Peacock",
         "210"
        ],
        [
         "39",
         "Jane",
         "Peacock",
         "233"
        ],
        [
         "40",
         "Jane",
         "Peacock",
         "255"
        ],
        [
         "41",
         "Jane",
         "Peacock",
         "307"
        ],
        [
         "42",
         "Jane",
         "Peacock",
         "92"
        ],
        [
         "43",
         "Jane",
         "Peacock",
         "103"
        ],
        [
         "44",
         "Jane",
         "Peacock",
         "158"
        ],
        [
         "45",
         "Jane",
         "Peacock",
         "287"
        ],
        [
         "46",
         "Jane",
         "Peacock",
         "310"
        ],
        [
         "47",
         "Jane",
         "Peacock",
         "332"
        ],
        [
         "48",
         "Jane",
         "Peacock",
         "384"
        ],
        [
         "49",
         "Jane",
         "Peacock",
         "48"
        ]
       ],
       "shape": {
        "columns": 3,
        "rows": 412
       }
      },
      "text/html": [
       "<div>\n",
       "<style scoped>\n",
       "    .dataframe tbody tr th:only-of-type {\n",
       "        vertical-align: middle;\n",
       "    }\n",
       "\n",
       "    .dataframe tbody tr th {\n",
       "        vertical-align: top;\n",
       "    }\n",
       "\n",
       "    .dataframe thead th {\n",
       "        text-align: right;\n",
       "    }\n",
       "</style>\n",
       "<table border=\"1\" class=\"dataframe\">\n",
       "  <thead>\n",
       "    <tr style=\"text-align: right;\">\n",
       "      <th></th>\n",
       "      <th>FirstName</th>\n",
       "      <th>LastName</th>\n",
       "      <th>InvoiceId</th>\n",
       "    </tr>\n",
       "  </thead>\n",
       "  <tbody>\n",
       "    <tr>\n",
       "      <th>0</th>\n",
       "      <td>Jane</td>\n",
       "      <td>Peacock</td>\n",
       "      <td>98</td>\n",
       "    </tr>\n",
       "    <tr>\n",
       "      <th>1</th>\n",
       "      <td>Jane</td>\n",
       "      <td>Peacock</td>\n",
       "      <td>121</td>\n",
       "    </tr>\n",
       "    <tr>\n",
       "      <th>2</th>\n",
       "      <td>Jane</td>\n",
       "      <td>Peacock</td>\n",
       "      <td>143</td>\n",
       "    </tr>\n",
       "    <tr>\n",
       "      <th>3</th>\n",
       "      <td>Jane</td>\n",
       "      <td>Peacock</td>\n",
       "      <td>195</td>\n",
       "    </tr>\n",
       "    <tr>\n",
       "      <th>4</th>\n",
       "      <td>Jane</td>\n",
       "      <td>Peacock</td>\n",
       "      <td>316</td>\n",
       "    </tr>\n",
       "    <tr>\n",
       "      <th>...</th>\n",
       "      <td>...</td>\n",
       "      <td>...</td>\n",
       "      <td>...</td>\n",
       "    </tr>\n",
       "    <tr>\n",
       "      <th>407</th>\n",
       "      <td>Steve</td>\n",
       "      <td>Johnson</td>\n",
       "      <td>88</td>\n",
       "    </tr>\n",
       "    <tr>\n",
       "      <th>408</th>\n",
       "      <td>Steve</td>\n",
       "      <td>Johnson</td>\n",
       "      <td>217</td>\n",
       "    </tr>\n",
       "    <tr>\n",
       "      <th>409</th>\n",
       "      <td>Steve</td>\n",
       "      <td>Johnson</td>\n",
       "      <td>240</td>\n",
       "    </tr>\n",
       "    <tr>\n",
       "      <th>410</th>\n",
       "      <td>Steve</td>\n",
       "      <td>Johnson</td>\n",
       "      <td>262</td>\n",
       "    </tr>\n",
       "    <tr>\n",
       "      <th>411</th>\n",
       "      <td>Steve</td>\n",
       "      <td>Johnson</td>\n",
       "      <td>314</td>\n",
       "    </tr>\n",
       "  </tbody>\n",
       "</table>\n",
       "<p>412 rows × 3 columns</p>\n",
       "</div>"
      ],
      "text/plain": [
       "    FirstName LastName  InvoiceId\n",
       "0        Jane  Peacock         98\n",
       "1        Jane  Peacock        121\n",
       "2        Jane  Peacock        143\n",
       "3        Jane  Peacock        195\n",
       "4        Jane  Peacock        316\n",
       "..        ...      ...        ...\n",
       "407     Steve  Johnson         88\n",
       "408     Steve  Johnson        217\n",
       "409     Steve  Johnson        240\n",
       "410     Steve  Johnson        262\n",
       "411     Steve  Johnson        314\n",
       "\n",
       "[412 rows x 3 columns]"
      ]
     },
     "execution_count": 12,
     "metadata": {},
     "output_type": "execute_result"
    }
   ],
   "source": [
    "# Obtén cada factura asociada a cada agente de ventas con su nombre completo\n",
    "\n",
    "query= '''\n",
    "SELECT e.FirstName, e.LastName, i.invoiceId FROM employees AS e\n",
    "INNER JOIN customers As c\n",
    "ON e.EmployeeId  = c.SupportRepId\n",
    "INNER JOIN invoices AS i\n",
    "ON C.CustomerId = i.CustomerId\n",
    "WHERE e.title = \"Sales Support Agent\" or title = \"Sales Manager\"\n",
    "'''\n",
    "\n",
    "sql_query(query)"
   ]
  },
  {
   "cell_type": "code",
   "execution_count": 57,
   "metadata": {},
   "outputs": [
    {
     "data": {
      "application/vnd.microsoft.datawrangler.viewer.v0+json": {
       "columns": [
        {
         "name": "index",
         "rawType": "int64",
         "type": "integer"
        },
        {
         "name": "FirstName",
         "rawType": "object",
         "type": "string"
        },
        {
         "name": "LastName",
         "rawType": "object",
         "type": "string"
        },
        {
         "name": "FirstName",
         "rawType": "object",
         "type": "string"
        },
        {
         "name": "LastName",
         "rawType": "object",
         "type": "string"
        },
        {
         "name": "Country",
         "rawType": "object",
         "type": "string"
        },
        {
         "name": "Total",
         "rawType": "float64",
         "type": "float"
        }
       ],
       "conversionMethod": "pd.DataFrame",
       "ref": "5cda5fba-1f39-4833-83fa-d31c40cb7e6d",
       "rows": [
        [
         "0",
         "Jane",
         "Peacock",
         "Luís",
         "Gonçalves",
         "Brazil",
         "3.98"
        ],
        [
         "1",
         "Jane",
         "Peacock",
         "Luís",
         "Gonçalves",
         "Brazil",
         "3.96"
        ],
        [
         "2",
         "Jane",
         "Peacock",
         "Luís",
         "Gonçalves",
         "Brazil",
         "5.94"
        ],
        [
         "3",
         "Jane",
         "Peacock",
         "Luís",
         "Gonçalves",
         "Brazil",
         "0.99"
        ],
        [
         "4",
         "Jane",
         "Peacock",
         "Luís",
         "Gonçalves",
         "Brazil",
         "1.98"
        ],
        [
         "5",
         "Jane",
         "Peacock",
         "Luís",
         "Gonçalves",
         "Brazil",
         "13.86"
        ],
        [
         "6",
         "Jane",
         "Peacock",
         "Luís",
         "Gonçalves",
         "Brazil",
         "8.91"
        ],
        [
         "7",
         "Steve",
         "Johnson",
         "Leonie",
         "Köhler",
         "Germany",
         "1.98"
        ],
        [
         "8",
         "Steve",
         "Johnson",
         "Leonie",
         "Köhler",
         "Germany",
         "13.86"
        ],
        [
         "9",
         "Steve",
         "Johnson",
         "Leonie",
         "Köhler",
         "Germany",
         "8.91"
        ],
        [
         "10",
         "Steve",
         "Johnson",
         "Leonie",
         "Köhler",
         "Germany",
         "1.98"
        ],
        [
         "11",
         "Steve",
         "Johnson",
         "Leonie",
         "Köhler",
         "Germany",
         "3.96"
        ],
        [
         "12",
         "Steve",
         "Johnson",
         "Leonie",
         "Köhler",
         "Germany",
         "5.94"
        ],
        [
         "13",
         "Steve",
         "Johnson",
         "Leonie",
         "Köhler",
         "Germany",
         "0.99"
        ],
        [
         "14",
         "Jane",
         "Peacock",
         "François",
         "Tremblay",
         "Canada",
         "3.98"
        ],
        [
         "15",
         "Jane",
         "Peacock",
         "François",
         "Tremblay",
         "Canada",
         "13.86"
        ],
        [
         "16",
         "Jane",
         "Peacock",
         "François",
         "Tremblay",
         "Canada",
         "8.91"
        ],
        [
         "17",
         "Jane",
         "Peacock",
         "François",
         "Tremblay",
         "Canada",
         "1.98"
        ],
        [
         "18",
         "Jane",
         "Peacock",
         "François",
         "Tremblay",
         "Canada",
         "3.96"
        ],
        [
         "19",
         "Jane",
         "Peacock",
         "François",
         "Tremblay",
         "Canada",
         "5.94"
        ],
        [
         "20",
         "Jane",
         "Peacock",
         "François",
         "Tremblay",
         "Canada",
         "0.99"
        ],
        [
         "21",
         "Margaret",
         "Park",
         "Bjørn",
         "Hansen",
         "Norway",
         "3.96"
        ],
        [
         "22",
         "Margaret",
         "Park",
         "Bjørn",
         "Hansen",
         "Norway",
         "5.94"
        ],
        [
         "23",
         "Margaret",
         "Park",
         "Bjørn",
         "Hansen",
         "Norway",
         "0.99"
        ],
        [
         "24",
         "Margaret",
         "Park",
         "Bjørn",
         "Hansen",
         "Norway",
         "1.98"
        ],
        [
         "25",
         "Margaret",
         "Park",
         "Bjørn",
         "Hansen",
         "Norway",
         "15.86"
        ],
        [
         "26",
         "Margaret",
         "Park",
         "Bjørn",
         "Hansen",
         "Norway",
         "8.91"
        ],
        [
         "27",
         "Margaret",
         "Park",
         "Bjørn",
         "Hansen",
         "Norway",
         "1.98"
        ],
        [
         "28",
         "Margaret",
         "Park",
         "František",
         "Wichterlová",
         "Czech Republic",
         "1.98"
        ],
        [
         "29",
         "Margaret",
         "Park",
         "František",
         "Wichterlová",
         "Czech Republic",
         "3.96"
        ],
        [
         "30",
         "Margaret",
         "Park",
         "František",
         "Wichterlová",
         "Czech Republic",
         "5.94"
        ],
        [
         "31",
         "Margaret",
         "Park",
         "František",
         "Wichterlová",
         "Czech Republic",
         "0.99"
        ],
        [
         "32",
         "Margaret",
         "Park",
         "František",
         "Wichterlová",
         "Czech Republic",
         "1.98"
        ],
        [
         "33",
         "Margaret",
         "Park",
         "František",
         "Wichterlová",
         "Czech Republic",
         "16.86"
        ],
        [
         "34",
         "Margaret",
         "Park",
         "František",
         "Wichterlová",
         "Czech Republic",
         "8.91"
        ],
        [
         "35",
         "Steve",
         "Johnson",
         "Helena",
         "Holý",
         "Czech Republic",
         "8.91"
        ],
        [
         "36",
         "Steve",
         "Johnson",
         "Helena",
         "Holý",
         "Czech Republic",
         "1.98"
        ],
        [
         "37",
         "Steve",
         "Johnson",
         "Helena",
         "Holý",
         "Czech Republic",
         "3.96"
        ],
        [
         "38",
         "Steve",
         "Johnson",
         "Helena",
         "Holý",
         "Czech Republic",
         "5.94"
        ],
        [
         "39",
         "Steve",
         "Johnson",
         "Helena",
         "Holý",
         "Czech Republic",
         "0.99"
        ],
        [
         "40",
         "Steve",
         "Johnson",
         "Helena",
         "Holý",
         "Czech Republic",
         "1.98"
        ],
        [
         "41",
         "Steve",
         "Johnson",
         "Helena",
         "Holý",
         "Czech Republic",
         "25.86"
        ],
        [
         "42",
         "Steve",
         "Johnson",
         "Astrid",
         "Gruber",
         "Austria",
         "1.98"
        ],
        [
         "43",
         "Steve",
         "Johnson",
         "Astrid",
         "Gruber",
         "Austria",
         "18.86"
        ],
        [
         "44",
         "Steve",
         "Johnson",
         "Astrid",
         "Gruber",
         "Austria",
         "8.91"
        ],
        [
         "45",
         "Steve",
         "Johnson",
         "Astrid",
         "Gruber",
         "Austria",
         "1.98"
        ],
        [
         "46",
         "Steve",
         "Johnson",
         "Astrid",
         "Gruber",
         "Austria",
         "3.96"
        ],
        [
         "47",
         "Steve",
         "Johnson",
         "Astrid",
         "Gruber",
         "Austria",
         "5.94"
        ],
        [
         "48",
         "Steve",
         "Johnson",
         "Astrid",
         "Gruber",
         "Austria",
         "0.99"
        ],
        [
         "49",
         "Margaret",
         "Park",
         "Daan",
         "Peeters",
         "Belgium",
         "5.94"
        ]
       ],
       "shape": {
        "columns": 6,
        "rows": 412
       }
      },
      "text/html": [
       "<div>\n",
       "<style scoped>\n",
       "    .dataframe tbody tr th:only-of-type {\n",
       "        vertical-align: middle;\n",
       "    }\n",
       "\n",
       "    .dataframe tbody tr th {\n",
       "        vertical-align: top;\n",
       "    }\n",
       "\n",
       "    .dataframe thead th {\n",
       "        text-align: right;\n",
       "    }\n",
       "</style>\n",
       "<table border=\"1\" class=\"dataframe\">\n",
       "  <thead>\n",
       "    <tr style=\"text-align: right;\">\n",
       "      <th></th>\n",
       "      <th>FirstName</th>\n",
       "      <th>LastName</th>\n",
       "      <th>FirstName</th>\n",
       "      <th>LastName</th>\n",
       "      <th>Country</th>\n",
       "      <th>Total</th>\n",
       "    </tr>\n",
       "  </thead>\n",
       "  <tbody>\n",
       "    <tr>\n",
       "      <th>0</th>\n",
       "      <td>Jane</td>\n",
       "      <td>Peacock</td>\n",
       "      <td>Luís</td>\n",
       "      <td>Gonçalves</td>\n",
       "      <td>Brazil</td>\n",
       "      <td>3.98</td>\n",
       "    </tr>\n",
       "    <tr>\n",
       "      <th>1</th>\n",
       "      <td>Jane</td>\n",
       "      <td>Peacock</td>\n",
       "      <td>Luís</td>\n",
       "      <td>Gonçalves</td>\n",
       "      <td>Brazil</td>\n",
       "      <td>3.96</td>\n",
       "    </tr>\n",
       "    <tr>\n",
       "      <th>2</th>\n",
       "      <td>Jane</td>\n",
       "      <td>Peacock</td>\n",
       "      <td>Luís</td>\n",
       "      <td>Gonçalves</td>\n",
       "      <td>Brazil</td>\n",
       "      <td>5.94</td>\n",
       "    </tr>\n",
       "    <tr>\n",
       "      <th>3</th>\n",
       "      <td>Jane</td>\n",
       "      <td>Peacock</td>\n",
       "      <td>Luís</td>\n",
       "      <td>Gonçalves</td>\n",
       "      <td>Brazil</td>\n",
       "      <td>0.99</td>\n",
       "    </tr>\n",
       "    <tr>\n",
       "      <th>4</th>\n",
       "      <td>Jane</td>\n",
       "      <td>Peacock</td>\n",
       "      <td>Luís</td>\n",
       "      <td>Gonçalves</td>\n",
       "      <td>Brazil</td>\n",
       "      <td>1.98</td>\n",
       "    </tr>\n",
       "    <tr>\n",
       "      <th>...</th>\n",
       "      <td>...</td>\n",
       "      <td>...</td>\n",
       "      <td>...</td>\n",
       "      <td>...</td>\n",
       "      <td>...</td>\n",
       "      <td>...</td>\n",
       "    </tr>\n",
       "    <tr>\n",
       "      <th>407</th>\n",
       "      <td>Jane</td>\n",
       "      <td>Peacock</td>\n",
       "      <td>Puja</td>\n",
       "      <td>Srivastava</td>\n",
       "      <td>India</td>\n",
       "      <td>5.94</td>\n",
       "    </tr>\n",
       "    <tr>\n",
       "      <th>408</th>\n",
       "      <td>Jane</td>\n",
       "      <td>Peacock</td>\n",
       "      <td>Puja</td>\n",
       "      <td>Srivastava</td>\n",
       "      <td>India</td>\n",
       "      <td>1.99</td>\n",
       "    </tr>\n",
       "    <tr>\n",
       "      <th>409</th>\n",
       "      <td>Jane</td>\n",
       "      <td>Peacock</td>\n",
       "      <td>Puja</td>\n",
       "      <td>Srivastava</td>\n",
       "      <td>India</td>\n",
       "      <td>1.98</td>\n",
       "    </tr>\n",
       "    <tr>\n",
       "      <th>410</th>\n",
       "      <td>Jane</td>\n",
       "      <td>Peacock</td>\n",
       "      <td>Puja</td>\n",
       "      <td>Srivastava</td>\n",
       "      <td>India</td>\n",
       "      <td>13.86</td>\n",
       "    </tr>\n",
       "    <tr>\n",
       "      <th>411</th>\n",
       "      <td>Jane</td>\n",
       "      <td>Peacock</td>\n",
       "      <td>Puja</td>\n",
       "      <td>Srivastava</td>\n",
       "      <td>India</td>\n",
       "      <td>8.91</td>\n",
       "    </tr>\n",
       "  </tbody>\n",
       "</table>\n",
       "<p>412 rows × 6 columns</p>\n",
       "</div>"
      ],
      "text/plain": [
       "    FirstName LastName FirstName    LastName Country  Total\n",
       "0        Jane  Peacock      Luís   Gonçalves  Brazil   3.98\n",
       "1        Jane  Peacock      Luís   Gonçalves  Brazil   3.96\n",
       "2        Jane  Peacock      Luís   Gonçalves  Brazil   5.94\n",
       "3        Jane  Peacock      Luís   Gonçalves  Brazil   0.99\n",
       "4        Jane  Peacock      Luís   Gonçalves  Brazil   1.98\n",
       "..        ...      ...       ...         ...     ...    ...\n",
       "407      Jane  Peacock      Puja  Srivastava   India   5.94\n",
       "408      Jane  Peacock      Puja  Srivastava   India   1.99\n",
       "409      Jane  Peacock      Puja  Srivastava   India   1.98\n",
       "410      Jane  Peacock      Puja  Srivastava   India  13.86\n",
       "411      Jane  Peacock      Puja  Srivastava   India   8.91\n",
       "\n",
       "[412 rows x 6 columns]"
      ]
     },
     "execution_count": 57,
     "metadata": {},
     "output_type": "execute_result"
    }
   ],
   "source": [
    "# obtén el nombre del cliente, el país, el nombre del agente y el total\n",
    "query= '''\n",
    "SELECT e.FirstName, e.LastName, c.FirstName, c.LastName, c.Country, i.total  FROM customers AS c\n",
    "INNER JOIN employees As e\n",
    "ON e.EmployeeId  = c.SupportRepId\n",
    "INNER JOIN invoices AS i\n",
    "ON C.CustomerId = i.CustomerId\n",
    "'''\n",
    "\n",
    "sql_query(query)"
   ]
  },
  {
   "cell_type": "code",
   "execution_count": 9,
   "metadata": {},
   "outputs": [
    {
     "data": {
      "application/vnd.microsoft.datawrangler.viewer.v0+json": {
       "columns": [
        {
         "name": "index",
         "rawType": "int64",
         "type": "integer"
        },
        {
         "name": "InvoiceLineId",
         "rawType": "int64",
         "type": "integer"
        },
        {
         "name": "Name",
         "rawType": "object",
         "type": "string"
        }
       ],
       "conversionMethod": "pd.DataFrame",
       "ref": "fa66a6f7-1d81-48c3-a994-058f5a0d274e",
       "rows": [
        [
         "0",
         "579",
         "For Those About To Rock (We Salute You)"
        ],
        [
         "1",
         "1",
         "Balls to the Wall"
        ],
        [
         "2",
         "1154",
         "Balls to the Wall"
        ],
        [
         "3",
         "1728",
         "Fast As a Shark"
        ],
        [
         "4",
         "2",
         "Restless and Wild"
        ],
        [
         "5",
         "580",
         "Princess of the Dawn"
        ],
        [
         "6",
         "3",
         "Put The Finger On You"
        ],
        [
         "7",
         "4",
         "Inject The Venom"
        ],
        [
         "8",
         "1155",
         "Inject The Venom"
        ],
        [
         "9",
         "581",
         "Snowballed"
        ],
        [
         "10",
         "1729",
         "Snowballed"
        ],
        [
         "11",
         "5",
         "Evil Walks"
        ],
        [
         "12",
         "6",
         "Breaking The Rules"
        ],
        [
         "13",
         "582",
         "Night Of The Long Knives"
        ],
        [
         "14",
         "1156",
         "Spellbound"
        ],
        [
         "15",
         "1730",
         "Go Down"
        ],
        [
         "16",
         "7",
         "Dog Eat Dog"
        ],
        [
         "17",
         "583",
         "Problem Child"
        ],
        [
         "18",
         "8",
         "Overdose"
        ],
        [
         "19",
         "1157",
         "Overdose"
        ],
        [
         "20",
         "1731",
         "Hell Ain't A Bad Place To Be"
        ],
        [
         "21",
         "9",
         "Love In An Elevator"
        ],
        [
         "22",
         "584",
         "Rag Doll"
        ],
        [
         "23",
         "1158",
         "What It Takes"
        ],
        [
         "24",
         "10",
         "Janie's Got A Gun"
        ],
        [
         "25",
         "1732",
         "Amazing"
        ],
        [
         "26",
         "585",
         "Blind Man"
        ],
        [
         "27",
         "11",
         "Deuces Are Wild"
        ],
        [
         "28",
         "1159",
         "Deuces Are Wild"
        ],
        [
         "29",
         "12",
         "Angel"
        ],
        [
         "30",
         "586",
         "Livin' On The Edge"
        ],
        [
         "31",
         "1160",
         "All I Really Want"
        ],
        [
         "32",
         "1733",
         "You Oughta Know"
        ],
        [
         "33",
         "13",
         "Right Through You"
        ],
        [
         "34",
         "587",
         "Forgiven"
        ],
        [
         "35",
         "1161",
         "You Learn"
        ],
        [
         "36",
         "14",
         "Not The Doctor"
        ],
        [
         "37",
         "1734",
         "Not The Doctor"
        ],
        [
         "38",
         "588",
         "Wake Up"
        ],
        [
         "39",
         "1162",
         "Sea Of Sorrow"
        ],
        [
         "40",
         "15",
         "Bleed The Freak"
        ],
        [
         "41",
         "589",
         "I Can't Remember"
        ],
        [
         "42",
         "1735",
         "It Ain't Like That"
        ],
        [
         "43",
         "16",
         "Confusion"
        ],
        [
         "44",
         "590",
         "I Know Somethin (Bout You)"
        ],
        [
         "45",
         "1163",
         "Real Thing"
        ],
        [
         "46",
         "17",
         "Por Causa De Você"
        ],
        [
         "47",
         "1736",
         "Por Causa De Você"
        ],
        [
         "48",
         "591",
         "Ligia"
        ],
        [
         "49",
         "1164",
         "Falando De Amor"
        ]
       ],
       "shape": {
        "columns": 2,
        "rows": 2240
       }
      },
      "text/html": [
       "<div>\n",
       "<style scoped>\n",
       "    .dataframe tbody tr th:only-of-type {\n",
       "        vertical-align: middle;\n",
       "    }\n",
       "\n",
       "    .dataframe tbody tr th {\n",
       "        vertical-align: top;\n",
       "    }\n",
       "\n",
       "    .dataframe thead th {\n",
       "        text-align: right;\n",
       "    }\n",
       "</style>\n",
       "<table border=\"1\" class=\"dataframe\">\n",
       "  <thead>\n",
       "    <tr style=\"text-align: right;\">\n",
       "      <th></th>\n",
       "      <th>InvoiceLineId</th>\n",
       "      <th>Name</th>\n",
       "    </tr>\n",
       "  </thead>\n",
       "  <tbody>\n",
       "    <tr>\n",
       "      <th>0</th>\n",
       "      <td>579</td>\n",
       "      <td>For Those About To Rock (We Salute You)</td>\n",
       "    </tr>\n",
       "    <tr>\n",
       "      <th>1</th>\n",
       "      <td>1</td>\n",
       "      <td>Balls to the Wall</td>\n",
       "    </tr>\n",
       "    <tr>\n",
       "      <th>2</th>\n",
       "      <td>1154</td>\n",
       "      <td>Balls to the Wall</td>\n",
       "    </tr>\n",
       "    <tr>\n",
       "      <th>3</th>\n",
       "      <td>1728</td>\n",
       "      <td>Fast As a Shark</td>\n",
       "    </tr>\n",
       "    <tr>\n",
       "      <th>4</th>\n",
       "      <td>2</td>\n",
       "      <td>Restless and Wild</td>\n",
       "    </tr>\n",
       "    <tr>\n",
       "      <th>...</th>\n",
       "      <td>...</td>\n",
       "      <td>...</td>\n",
       "    </tr>\n",
       "    <tr>\n",
       "      <th>2235</th>\n",
       "      <td>1726</td>\n",
       "      <td>Symphony No. 2, Op. 16 -  \"The Four Temperamen...</td>\n",
       "    </tr>\n",
       "    <tr>\n",
       "      <th>2236</th>\n",
       "      <td>577</td>\n",
       "      <td>Étude 1, In C Major - Preludio (Presto) - Liszt</td>\n",
       "    </tr>\n",
       "    <tr>\n",
       "      <th>2237</th>\n",
       "      <td>1153</td>\n",
       "      <td>Pini Di Roma (Pinien Von Rom) \\ I Pini Della V...</td>\n",
       "    </tr>\n",
       "    <tr>\n",
       "      <th>2238</th>\n",
       "      <td>578</td>\n",
       "      <td>String Quartet No. 12 in C Minor, D. 703 \"Quar...</td>\n",
       "    </tr>\n",
       "    <tr>\n",
       "      <th>2239</th>\n",
       "      <td>1727</td>\n",
       "      <td>String Quartet No. 12 in C Minor, D. 703 \"Quar...</td>\n",
       "    </tr>\n",
       "  </tbody>\n",
       "</table>\n",
       "<p>2240 rows × 2 columns</p>\n",
       "</div>"
      ],
      "text/plain": [
       "      InvoiceLineId                                               Name\n",
       "0               579            For Those About To Rock (We Salute You)\n",
       "1                 1                                  Balls to the Wall\n",
       "2              1154                                  Balls to the Wall\n",
       "3              1728                                    Fast As a Shark\n",
       "4                 2                                  Restless and Wild\n",
       "...             ...                                                ...\n",
       "2235           1726  Symphony No. 2, Op. 16 -  \"The Four Temperamen...\n",
       "2236            577    Étude 1, In C Major - Preludio (Presto) - Liszt\n",
       "2237           1153  Pini Di Roma (Pinien Von Rom) \\ I Pini Della V...\n",
       "2238            578  String Quartet No. 12 in C Minor, D. 703 \"Quar...\n",
       "2239           1727  String Quartet No. 12 in C Minor, D. 703 \"Quar...\n",
       "\n",
       "[2240 rows x 2 columns]"
      ]
     },
     "execution_count": 9,
     "metadata": {},
     "output_type": "execute_result"
    }
   ],
   "source": [
    "# Obtén cada artículo de la factura con el nombre de la canción\n",
    "query = ''' \n",
    "SELECT i.InvoiceLineId, t.Name FROM invoice_items AS i\n",
    "INNER JOIN tracks As t \n",
    "ON i.trackId = t.trackId\n",
    "'''\n",
    "\n",
    "sql_query(query)"
   ]
  },
  {
   "cell_type": "code",
   "execution_count": 10,
   "metadata": {},
   "outputs": [
    {
     "data": {
      "application/vnd.microsoft.datawrangler.viewer.v0+json": {
       "columns": [
        {
         "name": "index",
         "rawType": "int64",
         "type": "integer"
        },
        {
         "name": "cancion",
         "rawType": "object",
         "type": "string"
        },
        {
         "name": "album",
         "rawType": "object",
         "type": "string"
        },
        {
         "name": "género",
         "rawType": "object",
         "type": "string"
        },
        {
         "name": "formato",
         "rawType": "object",
         "type": "string"
        }
       ],
       "conversionMethod": "pd.DataFrame",
       "ref": "4addb9ae-618f-42e8-89f1-16412a7b7c81",
       "rows": [
        [
         "0",
         "For Those About To Rock (We Salute You)",
         "For Those About To Rock We Salute You",
         "Rock",
         "MPEG audio file"
        ],
        [
         "1",
         "Balls to the Wall",
         "Balls to the Wall",
         "Rock",
         "Protected AAC audio file"
        ],
        [
         "2",
         "Fast As a Shark",
         "Restless and Wild",
         "Rock",
         "Protected AAC audio file"
        ],
        [
         "3",
         "Restless and Wild",
         "Restless and Wild",
         "Rock",
         "Protected AAC audio file"
        ],
        [
         "4",
         "Princess of the Dawn",
         "Restless and Wild",
         "Rock",
         "Protected AAC audio file"
        ],
        [
         "5",
         "Put The Finger On You",
         "For Those About To Rock We Salute You",
         "Rock",
         "MPEG audio file"
        ],
        [
         "6",
         "Let's Get It Up",
         "For Those About To Rock We Salute You",
         "Rock",
         "MPEG audio file"
        ],
        [
         "7",
         "Inject The Venom",
         "For Those About To Rock We Salute You",
         "Rock",
         "MPEG audio file"
        ],
        [
         "8",
         "Snowballed",
         "For Those About To Rock We Salute You",
         "Rock",
         "MPEG audio file"
        ],
        [
         "9",
         "Evil Walks",
         "For Those About To Rock We Salute You",
         "Rock",
         "MPEG audio file"
        ],
        [
         "10",
         "C.O.D.",
         "For Those About To Rock We Salute You",
         "Rock",
         "MPEG audio file"
        ],
        [
         "11",
         "Breaking The Rules",
         "For Those About To Rock We Salute You",
         "Rock",
         "MPEG audio file"
        ],
        [
         "12",
         "Night Of The Long Knives",
         "For Those About To Rock We Salute You",
         "Rock",
         "MPEG audio file"
        ],
        [
         "13",
         "Spellbound",
         "For Those About To Rock We Salute You",
         "Rock",
         "MPEG audio file"
        ],
        [
         "14",
         "Go Down",
         "Let There Be Rock",
         "Rock",
         "MPEG audio file"
        ],
        [
         "15",
         "Dog Eat Dog",
         "Let There Be Rock",
         "Rock",
         "MPEG audio file"
        ],
        [
         "16",
         "Let There Be Rock",
         "Let There Be Rock",
         "Rock",
         "MPEG audio file"
        ],
        [
         "17",
         "Bad Boy Boogie",
         "Let There Be Rock",
         "Rock",
         "MPEG audio file"
        ],
        [
         "18",
         "Problem Child",
         "Let There Be Rock",
         "Rock",
         "MPEG audio file"
        ],
        [
         "19",
         "Overdose",
         "Let There Be Rock",
         "Rock",
         "MPEG audio file"
        ],
        [
         "20",
         "Hell Ain't A Bad Place To Be",
         "Let There Be Rock",
         "Rock",
         "MPEG audio file"
        ],
        [
         "21",
         "Whole Lotta Rosie",
         "Let There Be Rock",
         "Rock",
         "MPEG audio file"
        ],
        [
         "22",
         "Walk On Water",
         "Big Ones",
         "Rock",
         "MPEG audio file"
        ],
        [
         "23",
         "Love In An Elevator",
         "Big Ones",
         "Rock",
         "MPEG audio file"
        ],
        [
         "24",
         "Rag Doll",
         "Big Ones",
         "Rock",
         "MPEG audio file"
        ],
        [
         "25",
         "What It Takes",
         "Big Ones",
         "Rock",
         "MPEG audio file"
        ],
        [
         "26",
         "Dude (Looks Like A Lady)",
         "Big Ones",
         "Rock",
         "MPEG audio file"
        ],
        [
         "27",
         "Janie's Got A Gun",
         "Big Ones",
         "Rock",
         "MPEG audio file"
        ],
        [
         "28",
         "Cryin'",
         "Big Ones",
         "Rock",
         "MPEG audio file"
        ],
        [
         "29",
         "Amazing",
         "Big Ones",
         "Rock",
         "MPEG audio file"
        ],
        [
         "30",
         "Blind Man",
         "Big Ones",
         "Rock",
         "MPEG audio file"
        ],
        [
         "31",
         "Deuces Are Wild",
         "Big Ones",
         "Rock",
         "MPEG audio file"
        ],
        [
         "32",
         "The Other Side",
         "Big Ones",
         "Rock",
         "MPEG audio file"
        ],
        [
         "33",
         "Crazy",
         "Big Ones",
         "Rock",
         "MPEG audio file"
        ],
        [
         "34",
         "Eat The Rich",
         "Big Ones",
         "Rock",
         "MPEG audio file"
        ],
        [
         "35",
         "Angel",
         "Big Ones",
         "Rock",
         "MPEG audio file"
        ],
        [
         "36",
         "Livin' On The Edge",
         "Big Ones",
         "Rock",
         "MPEG audio file"
        ],
        [
         "37",
         "All I Really Want",
         "Jagged Little Pill",
         "Rock",
         "MPEG audio file"
        ],
        [
         "38",
         "You Oughta Know",
         "Jagged Little Pill",
         "Rock",
         "MPEG audio file"
        ],
        [
         "39",
         "Perfect",
         "Jagged Little Pill",
         "Rock",
         "MPEG audio file"
        ],
        [
         "40",
         "Hand In My Pocket",
         "Jagged Little Pill",
         "Rock",
         "MPEG audio file"
        ],
        [
         "41",
         "Right Through You",
         "Jagged Little Pill",
         "Rock",
         "MPEG audio file"
        ],
        [
         "42",
         "Forgiven",
         "Jagged Little Pill",
         "Rock",
         "MPEG audio file"
        ],
        [
         "43",
         "You Learn",
         "Jagged Little Pill",
         "Rock",
         "MPEG audio file"
        ],
        [
         "44",
         "Head Over Feet",
         "Jagged Little Pill",
         "Rock",
         "MPEG audio file"
        ],
        [
         "45",
         "Mary Jane",
         "Jagged Little Pill",
         "Rock",
         "MPEG audio file"
        ],
        [
         "46",
         "Ironic",
         "Jagged Little Pill",
         "Rock",
         "MPEG audio file"
        ],
        [
         "47",
         "Not The Doctor",
         "Jagged Little Pill",
         "Rock",
         "MPEG audio file"
        ],
        [
         "48",
         "Wake Up",
         "Jagged Little Pill",
         "Rock",
         "MPEG audio file"
        ],
        [
         "49",
         "You Oughta Know (Alternate)",
         "Jagged Little Pill",
         "Rock",
         "MPEG audio file"
        ]
       ],
       "shape": {
        "columns": 4,
        "rows": 3503
       }
      },
      "text/html": [
       "<div>\n",
       "<style scoped>\n",
       "    .dataframe tbody tr th:only-of-type {\n",
       "        vertical-align: middle;\n",
       "    }\n",
       "\n",
       "    .dataframe tbody tr th {\n",
       "        vertical-align: top;\n",
       "    }\n",
       "\n",
       "    .dataframe thead th {\n",
       "        text-align: right;\n",
       "    }\n",
       "</style>\n",
       "<table border=\"1\" class=\"dataframe\">\n",
       "  <thead>\n",
       "    <tr style=\"text-align: right;\">\n",
       "      <th></th>\n",
       "      <th>cancion</th>\n",
       "      <th>album</th>\n",
       "      <th>género</th>\n",
       "      <th>formato</th>\n",
       "    </tr>\n",
       "  </thead>\n",
       "  <tbody>\n",
       "    <tr>\n",
       "      <th>0</th>\n",
       "      <td>For Those About To Rock (We Salute You)</td>\n",
       "      <td>For Those About To Rock We Salute You</td>\n",
       "      <td>Rock</td>\n",
       "      <td>MPEG audio file</td>\n",
       "    </tr>\n",
       "    <tr>\n",
       "      <th>1</th>\n",
       "      <td>Balls to the Wall</td>\n",
       "      <td>Balls to the Wall</td>\n",
       "      <td>Rock</td>\n",
       "      <td>Protected AAC audio file</td>\n",
       "    </tr>\n",
       "    <tr>\n",
       "      <th>2</th>\n",
       "      <td>Fast As a Shark</td>\n",
       "      <td>Restless and Wild</td>\n",
       "      <td>Rock</td>\n",
       "      <td>Protected AAC audio file</td>\n",
       "    </tr>\n",
       "    <tr>\n",
       "      <th>3</th>\n",
       "      <td>Restless and Wild</td>\n",
       "      <td>Restless and Wild</td>\n",
       "      <td>Rock</td>\n",
       "      <td>Protected AAC audio file</td>\n",
       "    </tr>\n",
       "    <tr>\n",
       "      <th>4</th>\n",
       "      <td>Princess of the Dawn</td>\n",
       "      <td>Restless and Wild</td>\n",
       "      <td>Rock</td>\n",
       "      <td>Protected AAC audio file</td>\n",
       "    </tr>\n",
       "    <tr>\n",
       "      <th>...</th>\n",
       "      <td>...</td>\n",
       "      <td>...</td>\n",
       "      <td>...</td>\n",
       "      <td>...</td>\n",
       "    </tr>\n",
       "    <tr>\n",
       "      <th>3498</th>\n",
       "      <td>Pini Di Roma (Pinien Von Rom) \\ I Pini Della V...</td>\n",
       "      <td>Respighi:Pines of Rome</td>\n",
       "      <td>Classical</td>\n",
       "      <td>Protected AAC audio file</td>\n",
       "    </tr>\n",
       "    <tr>\n",
       "      <th>3499</th>\n",
       "      <td>String Quartet No. 12 in C Minor, D. 703 \"Quar...</td>\n",
       "      <td>Schubert: The Late String Quartets &amp; String Qu...</td>\n",
       "      <td>Classical</td>\n",
       "      <td>Protected AAC audio file</td>\n",
       "    </tr>\n",
       "    <tr>\n",
       "      <th>3500</th>\n",
       "      <td>L'orfeo, Act 3, Sinfonia (Orchestra)</td>\n",
       "      <td>Monteverdi: L'Orfeo</td>\n",
       "      <td>Classical</td>\n",
       "      <td>Protected AAC audio file</td>\n",
       "    </tr>\n",
       "    <tr>\n",
       "      <th>3501</th>\n",
       "      <td>Quintet for Horn, Violin, 2 Violas, and Cello ...</td>\n",
       "      <td>Mozart: Chamber Music</td>\n",
       "      <td>Classical</td>\n",
       "      <td>Protected AAC audio file</td>\n",
       "    </tr>\n",
       "    <tr>\n",
       "      <th>3502</th>\n",
       "      <td>Die Zauberflöte, K.620: \"Der Hölle Rache Kocht...</td>\n",
       "      <td>Mozart Gala: Famous Arias</td>\n",
       "      <td>Opera</td>\n",
       "      <td>Protected AAC audio file</td>\n",
       "    </tr>\n",
       "  </tbody>\n",
       "</table>\n",
       "<p>3503 rows × 4 columns</p>\n",
       "</div>"
      ],
      "text/plain": [
       "                                                cancion  \\\n",
       "0               For Those About To Rock (We Salute You)   \n",
       "1                                     Balls to the Wall   \n",
       "2                                       Fast As a Shark   \n",
       "3                                     Restless and Wild   \n",
       "4                                  Princess of the Dawn   \n",
       "...                                                 ...   \n",
       "3498  Pini Di Roma (Pinien Von Rom) \\ I Pini Della V...   \n",
       "3499  String Quartet No. 12 in C Minor, D. 703 \"Quar...   \n",
       "3500               L'orfeo, Act 3, Sinfonia (Orchestra)   \n",
       "3501  Quintet for Horn, Violin, 2 Violas, and Cello ...   \n",
       "3502  Die Zauberflöte, K.620: \"Der Hölle Rache Kocht...   \n",
       "\n",
       "                                                  album     género  \\\n",
       "0                 For Those About To Rock We Salute You       Rock   \n",
       "1                                     Balls to the Wall       Rock   \n",
       "2                                     Restless and Wild       Rock   \n",
       "3                                     Restless and Wild       Rock   \n",
       "4                                     Restless and Wild       Rock   \n",
       "...                                                 ...        ...   \n",
       "3498                             Respighi:Pines of Rome  Classical   \n",
       "3499  Schubert: The Late String Quartets & String Qu...  Classical   \n",
       "3500                                Monteverdi: L'Orfeo  Classical   \n",
       "3501                              Mozart: Chamber Music  Classical   \n",
       "3502                          Mozart Gala: Famous Arias      Opera   \n",
       "\n",
       "                       formato  \n",
       "0              MPEG audio file  \n",
       "1     Protected AAC audio file  \n",
       "2     Protected AAC audio file  \n",
       "3     Protected AAC audio file  \n",
       "4     Protected AAC audio file  \n",
       "...                        ...  \n",
       "3498  Protected AAC audio file  \n",
       "3499  Protected AAC audio file  \n",
       "3500  Protected AAC audio file  \n",
       "3501  Protected AAC audio file  \n",
       "3502  Protected AAC audio file  \n",
       "\n",
       "[3503 rows x 4 columns]"
      ]
     },
     "execution_count": 10,
     "metadata": {},
     "output_type": "execute_result"
    }
   ],
   "source": [
    "# Muestra todas las canciones con su nombre, formato, álbum y género\n",
    "query= '''  SELECT t.Name AS cancion, a.Title AS album, g.Name AS género, \n",
    "m.Name AS formato FROM tracks t\n",
    "INNER JOIN albums AS a ON a.AlbumId = t.AlbumId\n",
    "INNER JOIN genres AS g ON g.GenreId = t.GenreId\n",
    "INNER JOIN media_types AS m ON m.MediaTypeId = t.MediaTypeId\n",
    "'''\n",
    "sql_query(query)"
   ]
  },
  {
   "cell_type": "code",
   "execution_count": 11,
   "metadata": {},
   "outputs": [
    {
     "data": {
      "application/vnd.microsoft.datawrangler.viewer.v0+json": {
       "columns": [
        {
         "name": "index",
         "rawType": "int64",
         "type": "integer"
        },
        {
         "name": "COUNT(TrackId)",
         "rawType": "int64",
         "type": "integer"
        },
        {
         "name": "playlists",
         "rawType": "object",
         "type": "string"
        }
       ],
       "conversionMethod": "pd.DataFrame",
       "ref": "ddf56d6d-cebf-422b-9873-175aff11eee4",
       "rows": [
        [
         "0",
         "1477",
         "90’s Music"
        ],
        [
         "1",
         "39",
         "Brazilian Music"
        ],
        [
         "2",
         "75",
         "Classical"
        ],
        [
         "3",
         "25",
         "Classical 101 - Deep Cuts"
        ],
        [
         "4",
         "25",
         "Classical 101 - Next Steps"
        ],
        [
         "5",
         "25",
         "Classical 101 - The Basics"
        ],
        [
         "6",
         "15",
         "Grunge"
        ],
        [
         "7",
         "26",
         "Heavy Metal Classic"
        ],
        [
         "8",
         "6580",
         "Music"
        ],
        [
         "9",
         "1",
         "Music Videos"
        ],
        [
         "10",
         "1",
         "On-The-Go 1"
        ],
        [
         "11",
         "426",
         "TV Shows"
        ]
       ],
       "shape": {
        "columns": 2,
        "rows": 12
       }
      },
      "text/html": [
       "<div>\n",
       "<style scoped>\n",
       "    .dataframe tbody tr th:only-of-type {\n",
       "        vertical-align: middle;\n",
       "    }\n",
       "\n",
       "    .dataframe tbody tr th {\n",
       "        vertical-align: top;\n",
       "    }\n",
       "\n",
       "    .dataframe thead th {\n",
       "        text-align: right;\n",
       "    }\n",
       "</style>\n",
       "<table border=\"1\" class=\"dataframe\">\n",
       "  <thead>\n",
       "    <tr style=\"text-align: right;\">\n",
       "      <th></th>\n",
       "      <th>COUNT(TrackId)</th>\n",
       "      <th>playlists</th>\n",
       "    </tr>\n",
       "  </thead>\n",
       "  <tbody>\n",
       "    <tr>\n",
       "      <th>0</th>\n",
       "      <td>1477</td>\n",
       "      <td>90’s Music</td>\n",
       "    </tr>\n",
       "    <tr>\n",
       "      <th>1</th>\n",
       "      <td>39</td>\n",
       "      <td>Brazilian Music</td>\n",
       "    </tr>\n",
       "    <tr>\n",
       "      <th>2</th>\n",
       "      <td>75</td>\n",
       "      <td>Classical</td>\n",
       "    </tr>\n",
       "    <tr>\n",
       "      <th>3</th>\n",
       "      <td>25</td>\n",
       "      <td>Classical 101 - Deep Cuts</td>\n",
       "    </tr>\n",
       "    <tr>\n",
       "      <th>4</th>\n",
       "      <td>25</td>\n",
       "      <td>Classical 101 - Next Steps</td>\n",
       "    </tr>\n",
       "    <tr>\n",
       "      <th>5</th>\n",
       "      <td>25</td>\n",
       "      <td>Classical 101 - The Basics</td>\n",
       "    </tr>\n",
       "    <tr>\n",
       "      <th>6</th>\n",
       "      <td>15</td>\n",
       "      <td>Grunge</td>\n",
       "    </tr>\n",
       "    <tr>\n",
       "      <th>7</th>\n",
       "      <td>26</td>\n",
       "      <td>Heavy Metal Classic</td>\n",
       "    </tr>\n",
       "    <tr>\n",
       "      <th>8</th>\n",
       "      <td>6580</td>\n",
       "      <td>Music</td>\n",
       "    </tr>\n",
       "    <tr>\n",
       "      <th>9</th>\n",
       "      <td>1</td>\n",
       "      <td>Music Videos</td>\n",
       "    </tr>\n",
       "    <tr>\n",
       "      <th>10</th>\n",
       "      <td>1</td>\n",
       "      <td>On-The-Go 1</td>\n",
       "    </tr>\n",
       "    <tr>\n",
       "      <th>11</th>\n",
       "      <td>426</td>\n",
       "      <td>TV Shows</td>\n",
       "    </tr>\n",
       "  </tbody>\n",
       "</table>\n",
       "</div>"
      ],
      "text/plain": [
       "    COUNT(TrackId)                   playlists\n",
       "0             1477                  90’s Music\n",
       "1               39             Brazilian Music\n",
       "2               75                   Classical\n",
       "3               25   Classical 101 - Deep Cuts\n",
       "4               25  Classical 101 - Next Steps\n",
       "5               25  Classical 101 - The Basics\n",
       "6               15                      Grunge\n",
       "7               26         Heavy Metal Classic\n",
       "8             6580                       Music\n",
       "9                1                Music Videos\n",
       "10               1                 On-The-Go 1\n",
       "11             426                    TV Shows"
      ]
     },
     "execution_count": 11,
     "metadata": {},
     "output_type": "execute_result"
    }
   ],
   "source": [
    "# Cuántas canciones hay en cada playlist\n",
    "query= ''' \n",
    "SELECT COUNT(TrackId), Name AS playlists\n",
    "FROM playlist_track\n",
    "INNER JOIN playlists ON playlist_track.PlaylistId = playlists.PlaylistId \n",
    "GROUP BY Name\n",
    "'''\n",
    "sql_query(query)"
   ]
  },
  {
   "cell_type": "code",
   "execution_count": 13,
   "metadata": {},
   "outputs": [
    {
     "data": {
      "application/vnd.microsoft.datawrangler.viewer.v0+json": {
       "columns": [
        {
         "name": "index",
         "rawType": "int64",
         "type": "integer"
        },
        {
         "name": "SUM(i.Total)",
         "rawType": "float64",
         "type": "float"
        },
        {
         "name": "FirstName",
         "rawType": "object",
         "type": "string"
        }
       ],
       "conversionMethod": "pd.DataFrame",
       "ref": "52192ae4-8343-4150-953a-c7602bf5a7c5",
       "rows": [
        [
         "0",
         "833.04",
         "Jane"
        ],
        [
         "1",
         "775.4",
         "Margaret"
        ],
        [
         "2",
         "720.16",
         "Steve"
        ]
       ],
       "shape": {
        "columns": 2,
        "rows": 3
       }
      },
      "text/html": [
       "<div>\n",
       "<style scoped>\n",
       "    .dataframe tbody tr th:only-of-type {\n",
       "        vertical-align: middle;\n",
       "    }\n",
       "\n",
       "    .dataframe tbody tr th {\n",
       "        vertical-align: top;\n",
       "    }\n",
       "\n",
       "    .dataframe thead th {\n",
       "        text-align: right;\n",
       "    }\n",
       "</style>\n",
       "<table border=\"1\" class=\"dataframe\">\n",
       "  <thead>\n",
       "    <tr style=\"text-align: right;\">\n",
       "      <th></th>\n",
       "      <th>SUM(i.Total)</th>\n",
       "      <th>FirstName</th>\n",
       "    </tr>\n",
       "  </thead>\n",
       "  <tbody>\n",
       "    <tr>\n",
       "      <th>0</th>\n",
       "      <td>833.04</td>\n",
       "      <td>Jane</td>\n",
       "    </tr>\n",
       "    <tr>\n",
       "      <th>1</th>\n",
       "      <td>775.40</td>\n",
       "      <td>Margaret</td>\n",
       "    </tr>\n",
       "    <tr>\n",
       "      <th>2</th>\n",
       "      <td>720.16</td>\n",
       "      <td>Steve</td>\n",
       "    </tr>\n",
       "  </tbody>\n",
       "</table>\n",
       "</div>"
      ],
      "text/plain": [
       "   SUM(i.Total) FirstName\n",
       "0        833.04      Jane\n",
       "1        775.40  Margaret\n",
       "2        720.16     Steve"
      ]
     },
     "execution_count": 13,
     "metadata": {},
     "output_type": "execute_result"
    }
   ],
   "source": [
    "# Cuánto ha vendido cada empleado\n",
    "query = ''' \n",
    "SELECT SUM(i.Total), e.FirstName FROM Employees e\n",
    "INNER JOIN customers c ON c.SupportRepId = e.EmployeeId\n",
    "INNER JOIN invoices i ON i.CustomerId = c.CustomerId\n",
    "GROUP BY e.FirstName\n",
    "'''\n",
    "\n",
    "sql_query(query)"
   ]
  },
  {
   "cell_type": "code",
   "execution_count": null,
   "metadata": {},
   "outputs": [],
   "source": [
    "# ¿Quién ha sido el agente de ventas que más ha vendido en 2009?\n",
    "\n"
   ]
  },
  {
   "cell_type": "code",
   "execution_count": null,
   "metadata": {},
   "outputs": [],
   "source": [
    "# ¿Cuáles son los 3 grupos que más han vendido?\n"
   ]
  }
 ],
 "metadata": {
  "kernelspec": {
   "display_name": "Python 3",
   "language": "python",
   "name": "python3"
  },
  "language_info": {
   "codemirror_mode": {
    "name": "ipython",
    "version": 3
   },
   "file_extension": ".py",
   "mimetype": "text/x-python",
   "name": "python",
   "nbconvert_exporter": "python",
   "pygments_lexer": "ipython3",
   "version": "3.11.9"
  }
 },
 "nbformat": 4,
 "nbformat_minor": 2
}
