{
 "cells": [
  {
   "cell_type": "code",
   "execution_count": 19,
   "metadata": {},
   "outputs": [],
   "source": [
    "import pandas as pd\n",
    "import sqlite3"
   ]
  },
  {
   "cell_type": "code",
   "execution_count": 3,
   "metadata": {},
   "outputs": [],
   "source": [
    "# Conectamos con la base de datos\n",
    "connection = sqlite3.connect(\"data/my_database_2503.db\")\n",
    "\n",
    "# Obtenemos un cursor que utilizaremos para hacer las queries\n",
    "crsr = connection.cursor()"
   ]
  },
  {
   "cell_type": "code",
   "execution_count": 20,
   "metadata": {},
   "outputs": [
    {
     "ename": "ProgrammingError",
     "evalue": "Cannot operate on a closed database.",
     "output_type": "error",
     "traceback": [
      "\u001b[31m---------------------------------------------------------------------------\u001b[39m",
      "\u001b[31mProgrammingError\u001b[39m                          Traceback (most recent call last)",
      "\u001b[36mCell\u001b[39m\u001b[36m \u001b[39m\u001b[32mIn[20]\u001b[39m\u001b[32m, line 1\u001b[39m\n\u001b[32m----> \u001b[39m\u001b[32m1\u001b[39m res = \u001b[43mcrsr\u001b[49m\u001b[43m.\u001b[49m\u001b[43mexecute\u001b[49m\u001b[43m(\u001b[49m\u001b[33;43m\"\u001b[39;49m\u001b[33;43mSELECT name FROM sqlite_master WHERE type=\u001b[39;49m\u001b[33;43m'\u001b[39;49m\u001b[33;43mtable\u001b[39;49m\u001b[33;43m'\u001b[39;49m\u001b[33;43m\"\u001b[39;49m\u001b[43m)\u001b[49m\n\u001b[32m      2\u001b[39m \u001b[38;5;28;01mfor\u001b[39;00m name \u001b[38;5;129;01min\u001b[39;00m res:\n\u001b[32m      3\u001b[39m     \u001b[38;5;28mprint\u001b[39m(name[\u001b[32m0\u001b[39m])\n",
      "\u001b[31mProgrammingError\u001b[39m: Cannot operate on a closed database."
     ]
    }
   ],
   "source": [
    "res = crsr.execute(\"SELECT name FROM sqlite_master WHERE type='table'\")\n",
    "for name in res:\n",
    "    print(name[0])"
   ]
  },
  {
   "cell_type": "code",
   "execution_count": 21,
   "metadata": {},
   "outputs": [],
   "source": [
    "# Con esta función leemos los datos y lo pasamos a un DataFrame de Pandas\n",
    "def sql_query(query):\n",
    "\n",
    "    # Ejecuta la query\n",
    "    crsr.execute(query)\n",
    "\n",
    "    # Almacena los datos de la query \n",
    "    ans = crsr.fetchall()\n",
    "\n",
    "    # Obtenemos los nombres de las columnas de la tabla\n",
    "    names = [description[0] for description in crsr.description]\n",
    "\n",
    "    return pd.DataFrame(ans,columns=names)"
   ]
  },
  {
   "cell_type": "code",
   "execution_count": 19,
   "metadata": {},
   "outputs": [
    {
     "data": {
      "text/plain": [
       "<sqlite3.Cursor at 0x28e1ac32ec0>"
      ]
     },
     "execution_count": 19,
     "metadata": {},
     "output_type": "execute_result"
    }
   ],
   "source": [
    "query = '''\n",
    "CREATE TABLE cervezas (\n",
    "    CodC VARCHAR(2),\n",
    "    Envase VARCHAR(32),\n",
    "    Capacidad FLOAT(2),\n",
    "    Stock INT(5),\n",
    "    PRIMARY KEY (CodC)\n",
    ")\n",
    "'''\n",
    "\n",
    "crsr.execute(query)"
   ]
  },
  {
   "cell_type": "code",
   "execution_count": 20,
   "metadata": {},
   "outputs": [
    {
     "name": "stdout",
     "output_type": "stream",
     "text": [
      "cervezas\n"
     ]
    }
   ],
   "source": [
    "res = crsr.execute(\"SELECT name FROM sqlite_master WHERE type='table'\")\n",
    "for name in res:\n",
    "    print(name[0])"
   ]
  },
  {
   "cell_type": "code",
   "execution_count": 18,
   "metadata": {},
   "outputs": [
    {
     "ename": "NameError",
     "evalue": "name 'sql_query' is not defined",
     "output_type": "error",
     "traceback": [
      "\u001b[31m---------------------------------------------------------------------------\u001b[39m",
      "\u001b[31mNameError\u001b[39m                                 Traceback (most recent call last)",
      "\u001b[36mCell\u001b[39m\u001b[36m \u001b[39m\u001b[32mIn[18]\u001b[39m\u001b[32m, line 4\u001b[39m\n\u001b[32m      1\u001b[39m query = \u001b[33m'''\u001b[39m\n\u001b[32m      2\u001b[39m \u001b[33mSELECT * FROM cervezas \u001b[39m\n\u001b[32m      3\u001b[39m \u001b[33m'''\u001b[39m\n\u001b[32m----> \u001b[39m\u001b[32m4\u001b[39m \u001b[43msql_query\u001b[49m(query)\n",
      "\u001b[31mNameError\u001b[39m: name 'sql_query' is not defined"
     ]
    }
   ],
   "source": [
    "query = '''\n",
    "SELECT * FROM cervezas \n",
    "'''\n",
    "sql_query(query)"
   ]
  },
  {
   "cell_type": "code",
   "execution_count": 14,
   "metadata": {},
   "outputs": [
    {
     "data": {
      "text/plain": [
       "<sqlite3.Cursor at 0x28e2b3803c0>"
      ]
     },
     "execution_count": 14,
     "metadata": {},
     "output_type": "execute_result"
    }
   ],
   "source": [
    "query = '''\n",
    "DROP TABLE cervezas \n",
    "'''\n",
    "crsr.execute(query)"
   ]
  },
  {
   "cell_type": "code",
   "execution_count": 22,
   "metadata": {},
   "outputs": [
    {
     "data": {
      "text/plain": [
       "<sqlite3.Cursor at 0x28e1ac32ec0>"
      ]
     },
     "execution_count": 22,
     "metadata": {},
     "output_type": "execute_result"
    }
   ],
   "source": [
    "query = '''\n",
    "INSERT INTO Cervezas (CodC, Envase, Capacidad, Stock)\n",
    "VALUES ('01','Botella',0.2,3600)\n",
    "'''\n",
    "crsr.execute(query)"
   ]
  },
  {
   "cell_type": "code",
   "execution_count": 23,
   "metadata": {},
   "outputs": [
    {
     "data": {
      "application/vnd.microsoft.datawrangler.viewer.v0+json": {
       "columns": [
        {
         "name": "index",
         "rawType": "int64",
         "type": "integer"
        },
        {
         "name": "CodC",
         "rawType": "object",
         "type": "string"
        },
        {
         "name": "Envase",
         "rawType": "object",
         "type": "string"
        },
        {
         "name": "Capacidad",
         "rawType": "float64",
         "type": "float"
        },
        {
         "name": "Stock",
         "rawType": "int64",
         "type": "integer"
        }
       ],
       "conversionMethod": "pd.DataFrame",
       "ref": "916f6367-f460-4924-94b1-ae2bffbe9c32",
       "rows": [
        [
         "0",
         "01",
         "Botella",
         "0.2",
         "3600"
        ]
       ],
       "shape": {
        "columns": 4,
        "rows": 1
       }
      },
      "text/html": [
       "<div>\n",
       "<style scoped>\n",
       "    .dataframe tbody tr th:only-of-type {\n",
       "        vertical-align: middle;\n",
       "    }\n",
       "\n",
       "    .dataframe tbody tr th {\n",
       "        vertical-align: top;\n",
       "    }\n",
       "\n",
       "    .dataframe thead th {\n",
       "        text-align: right;\n",
       "    }\n",
       "</style>\n",
       "<table border=\"1\" class=\"dataframe\">\n",
       "  <thead>\n",
       "    <tr style=\"text-align: right;\">\n",
       "      <th></th>\n",
       "      <th>CodC</th>\n",
       "      <th>Envase</th>\n",
       "      <th>Capacidad</th>\n",
       "      <th>Stock</th>\n",
       "    </tr>\n",
       "  </thead>\n",
       "  <tbody>\n",
       "    <tr>\n",
       "      <th>0</th>\n",
       "      <td>01</td>\n",
       "      <td>Botella</td>\n",
       "      <td>0.2</td>\n",
       "      <td>3600</td>\n",
       "    </tr>\n",
       "  </tbody>\n",
       "</table>\n",
       "</div>"
      ],
      "text/plain": [
       "  CodC   Envase  Capacidad  Stock\n",
       "0   01  Botella        0.2   3600"
      ]
     },
     "execution_count": 23,
     "metadata": {},
     "output_type": "execute_result"
    }
   ],
   "source": [
    "query = '''\n",
    "SELECT * FROM cervezas \n",
    "'''\n",
    "sql_query(query)"
   ]
  },
  {
   "cell_type": "code",
   "execution_count": 24,
   "metadata": {},
   "outputs": [
    {
     "data": {
      "text/plain": [
       "<sqlite3.Cursor at 0x28e1ac32ec0>"
      ]
     },
     "execution_count": 24,
     "metadata": {},
     "output_type": "execute_result"
    }
   ],
   "source": [
    "query = '''\n",
    "INSERT INTO Cervezas VALUES ('02','Botella',0.33,1200)\n",
    "'''\n",
    "crsr.execute(query)"
   ]
  },
  {
   "cell_type": "code",
   "execution_count": 25,
   "metadata": {},
   "outputs": [
    {
     "data": {
      "text/plain": [
       "<sqlite3.Cursor at 0x28e1ac32ec0>"
      ]
     },
     "execution_count": 25,
     "metadata": {},
     "output_type": "execute_result"
    }
   ],
   "source": [
    "query = '''\n",
    "INSERT INTO Cervezas VALUES ('03','Lata',0.33,2400),\n",
    "('04','Botella',1,288),\n",
    "('05','Barril',60,30)\n",
    "'''\n",
    "crsr.execute(query)"
   ]
  },
  {
   "cell_type": "code",
   "execution_count": 26,
   "metadata": {},
   "outputs": [
    {
     "data": {
      "application/vnd.microsoft.datawrangler.viewer.v0+json": {
       "columns": [
        {
         "name": "index",
         "rawType": "int64",
         "type": "integer"
        },
        {
         "name": "CodC",
         "rawType": "object",
         "type": "string"
        },
        {
         "name": "Envase",
         "rawType": "object",
         "type": "string"
        },
        {
         "name": "Capacidad",
         "rawType": "float64",
         "type": "float"
        },
        {
         "name": "Stock",
         "rawType": "int64",
         "type": "integer"
        }
       ],
       "conversionMethod": "pd.DataFrame",
       "ref": "cb36210d-194d-49d8-a71e-f2d7d004ff5c",
       "rows": [
        [
         "0",
         "01",
         "Botella",
         "0.2",
         "3600"
        ],
        [
         "1",
         "02",
         "Botella",
         "0.33",
         "1200"
        ],
        [
         "2",
         "03",
         "Lata",
         "0.33",
         "2400"
        ],
        [
         "3",
         "04",
         "Botella",
         "1.0",
         "288"
        ],
        [
         "4",
         "05",
         "Barril",
         "60.0",
         "30"
        ]
       ],
       "shape": {
        "columns": 4,
        "rows": 5
       }
      },
      "text/html": [
       "<div>\n",
       "<style scoped>\n",
       "    .dataframe tbody tr th:only-of-type {\n",
       "        vertical-align: middle;\n",
       "    }\n",
       "\n",
       "    .dataframe tbody tr th {\n",
       "        vertical-align: top;\n",
       "    }\n",
       "\n",
       "    .dataframe thead th {\n",
       "        text-align: right;\n",
       "    }\n",
       "</style>\n",
       "<table border=\"1\" class=\"dataframe\">\n",
       "  <thead>\n",
       "    <tr style=\"text-align: right;\">\n",
       "      <th></th>\n",
       "      <th>CodC</th>\n",
       "      <th>Envase</th>\n",
       "      <th>Capacidad</th>\n",
       "      <th>Stock</th>\n",
       "    </tr>\n",
       "  </thead>\n",
       "  <tbody>\n",
       "    <tr>\n",
       "      <th>0</th>\n",
       "      <td>01</td>\n",
       "      <td>Botella</td>\n",
       "      <td>0.20</td>\n",
       "      <td>3600</td>\n",
       "    </tr>\n",
       "    <tr>\n",
       "      <th>1</th>\n",
       "      <td>02</td>\n",
       "      <td>Botella</td>\n",
       "      <td>0.33</td>\n",
       "      <td>1200</td>\n",
       "    </tr>\n",
       "    <tr>\n",
       "      <th>2</th>\n",
       "      <td>03</td>\n",
       "      <td>Lata</td>\n",
       "      <td>0.33</td>\n",
       "      <td>2400</td>\n",
       "    </tr>\n",
       "    <tr>\n",
       "      <th>3</th>\n",
       "      <td>04</td>\n",
       "      <td>Botella</td>\n",
       "      <td>1.00</td>\n",
       "      <td>288</td>\n",
       "    </tr>\n",
       "    <tr>\n",
       "      <th>4</th>\n",
       "      <td>05</td>\n",
       "      <td>Barril</td>\n",
       "      <td>60.00</td>\n",
       "      <td>30</td>\n",
       "    </tr>\n",
       "  </tbody>\n",
       "</table>\n",
       "</div>"
      ],
      "text/plain": [
       "  CodC   Envase  Capacidad  Stock\n",
       "0   01  Botella       0.20   3600\n",
       "1   02  Botella       0.33   1200\n",
       "2   03     Lata       0.33   2400\n",
       "3   04  Botella       1.00    288\n",
       "4   05   Barril      60.00     30"
      ]
     },
     "execution_count": 26,
     "metadata": {},
     "output_type": "execute_result"
    }
   ],
   "source": [
    "query = '''\n",
    "SELECT * FROM cervezas \n",
    "'''\n",
    "sql_query(query)"
   ]
  },
  {
   "cell_type": "code",
   "execution_count": 15,
   "metadata": {},
   "outputs": [
    {
     "data": {
      "text/plain": [
       "<sqlite3.Cursor at 0x245941be340>"
      ]
     },
     "execution_count": 15,
     "metadata": {},
     "output_type": "execute_result"
    }
   ],
   "source": [
    "query = '''\n",
    "INSERT INTO Cervezas VALUES ('06','asas','asas','asas')\n",
    "'''\n",
    "crsr.execute(query)"
   ]
  },
  {
   "cell_type": "code",
   "execution_count": 16,
   "metadata": {},
   "outputs": [
    {
     "data": {
      "text/plain": [
       "<sqlite3.Cursor at 0x245941be340>"
      ]
     },
     "execution_count": 16,
     "metadata": {},
     "output_type": "execute_result"
    }
   ],
   "source": [
    "query = '''\n",
    "DELETE FROM Cervezas WHERE CodC=\"06\"\n",
    "'''\n",
    "crsr.execute(query)"
   ]
  },
  {
   "cell_type": "code",
   "execution_count": 17,
   "metadata": {},
   "outputs": [
    {
     "data": {
      "text/html": [
       "<div>\n",
       "<style scoped>\n",
       "    .dataframe tbody tr th:only-of-type {\n",
       "        vertical-align: middle;\n",
       "    }\n",
       "\n",
       "    .dataframe tbody tr th {\n",
       "        vertical-align: top;\n",
       "    }\n",
       "\n",
       "    .dataframe thead th {\n",
       "        text-align: right;\n",
       "    }\n",
       "</style>\n",
       "<table border=\"1\" class=\"dataframe\">\n",
       "  <thead>\n",
       "    <tr style=\"text-align: right;\">\n",
       "      <th></th>\n",
       "      <th>CodC</th>\n",
       "      <th>Envase</th>\n",
       "      <th>Capacidad</th>\n",
       "      <th>Stock</th>\n",
       "    </tr>\n",
       "  </thead>\n",
       "  <tbody>\n",
       "    <tr>\n",
       "      <th>0</th>\n",
       "      <td>01</td>\n",
       "      <td>Botella</td>\n",
       "      <td>0.20</td>\n",
       "      <td>3600</td>\n",
       "    </tr>\n",
       "    <tr>\n",
       "      <th>1</th>\n",
       "      <td>02</td>\n",
       "      <td>Botella</td>\n",
       "      <td>0.33</td>\n",
       "      <td>1200</td>\n",
       "    </tr>\n",
       "    <tr>\n",
       "      <th>2</th>\n",
       "      <td>03</td>\n",
       "      <td>Lata</td>\n",
       "      <td>0.33</td>\n",
       "      <td>2400</td>\n",
       "    </tr>\n",
       "    <tr>\n",
       "      <th>3</th>\n",
       "      <td>04</td>\n",
       "      <td>Botella</td>\n",
       "      <td>1.00</td>\n",
       "      <td>288</td>\n",
       "    </tr>\n",
       "    <tr>\n",
       "      <th>4</th>\n",
       "      <td>05</td>\n",
       "      <td>Barril</td>\n",
       "      <td>60.00</td>\n",
       "      <td>30</td>\n",
       "    </tr>\n",
       "  </tbody>\n",
       "</table>\n",
       "</div>"
      ],
      "text/plain": [
       "  CodC   Envase  Capacidad  Stock\n",
       "0   01  Botella       0.20   3600\n",
       "1   02  Botella       0.33   1200\n",
       "2   03     Lata       0.33   2400\n",
       "3   04  Botella       1.00    288\n",
       "4   05   Barril      60.00     30"
      ]
     },
     "execution_count": 17,
     "metadata": {},
     "output_type": "execute_result"
    }
   ],
   "source": [
    "query = '''\n",
    "SELECT * FROM cervezas \n",
    "'''\n",
    "sql_query(query)"
   ]
  },
  {
   "cell_type": "code",
   "execution_count": 28,
   "metadata": {},
   "outputs": [
    {
     "data": {
      "text/plain": [
       "<sqlite3.Cursor at 0x28e1ac32ec0>"
      ]
     },
     "execution_count": 28,
     "metadata": {},
     "output_type": "execute_result"
    }
   ],
   "source": [
    "#para cambair un valor UPDATE , Si no se le pone un valor, aplica a toda la tabla\n",
    "\n",
    "query = '''\n",
    "UPDATE cervezas\n",
    "SET Stock = 5000, Capacidad = 0.25\n",
    "WHERE CodC='02';\n",
    "'''\n",
    "crsr.execute(query)"
   ]
  },
  {
   "cell_type": "code",
   "execution_count": 19,
   "metadata": {},
   "outputs": [
    {
     "data": {
      "text/html": [
       "<div>\n",
       "<style scoped>\n",
       "    .dataframe tbody tr th:only-of-type {\n",
       "        vertical-align: middle;\n",
       "    }\n",
       "\n",
       "    .dataframe tbody tr th {\n",
       "        vertical-align: top;\n",
       "    }\n",
       "\n",
       "    .dataframe thead th {\n",
       "        text-align: right;\n",
       "    }\n",
       "</style>\n",
       "<table border=\"1\" class=\"dataframe\">\n",
       "  <thead>\n",
       "    <tr style=\"text-align: right;\">\n",
       "      <th></th>\n",
       "      <th>CodC</th>\n",
       "      <th>Envase</th>\n",
       "      <th>Capacidad</th>\n",
       "      <th>Stock</th>\n",
       "    </tr>\n",
       "  </thead>\n",
       "  <tbody>\n",
       "    <tr>\n",
       "      <th>0</th>\n",
       "      <td>01</td>\n",
       "      <td>Botella</td>\n",
       "      <td>0.20</td>\n",
       "      <td>3600</td>\n",
       "    </tr>\n",
       "    <tr>\n",
       "      <th>1</th>\n",
       "      <td>02</td>\n",
       "      <td>Botella</td>\n",
       "      <td>0.25</td>\n",
       "      <td>5000</td>\n",
       "    </tr>\n",
       "    <tr>\n",
       "      <th>2</th>\n",
       "      <td>03</td>\n",
       "      <td>Lata</td>\n",
       "      <td>0.33</td>\n",
       "      <td>2400</td>\n",
       "    </tr>\n",
       "    <tr>\n",
       "      <th>3</th>\n",
       "      <td>04</td>\n",
       "      <td>Botella</td>\n",
       "      <td>1.00</td>\n",
       "      <td>288</td>\n",
       "    </tr>\n",
       "    <tr>\n",
       "      <th>4</th>\n",
       "      <td>05</td>\n",
       "      <td>Barril</td>\n",
       "      <td>60.00</td>\n",
       "      <td>30</td>\n",
       "    </tr>\n",
       "  </tbody>\n",
       "</table>\n",
       "</div>"
      ],
      "text/plain": [
       "  CodC   Envase  Capacidad  Stock\n",
       "0   01  Botella       0.20   3600\n",
       "1   02  Botella       0.25   5000\n",
       "2   03     Lata       0.33   2400\n",
       "3   04  Botella       1.00    288\n",
       "4   05   Barril      60.00     30"
      ]
     },
     "execution_count": 19,
     "metadata": {},
     "output_type": "execute_result"
    }
   ],
   "source": [
    "query = '''\n",
    "SELECT * FROM cervezas \n",
    "'''\n",
    "sql_query(query)"
   ]
  },
  {
   "cell_type": "code",
   "execution_count": 20,
   "metadata": {},
   "outputs": [
    {
     "data": {
      "text/plain": [
       "<sqlite3.Cursor at 0x245941be340>"
      ]
     },
     "execution_count": 20,
     "metadata": {},
     "output_type": "execute_result"
    }
   ],
   "source": [
    "query = '''\n",
    "DELETE FROM cervezas WHERE CodC='05';\n",
    "'''\n",
    "crsr.execute(query)"
   ]
  },
  {
   "cell_type": "code",
   "execution_count": 22,
   "metadata": {},
   "outputs": [
    {
     "data": {
      "text/html": [
       "<div>\n",
       "<style scoped>\n",
       "    .dataframe tbody tr th:only-of-type {\n",
       "        vertical-align: middle;\n",
       "    }\n",
       "\n",
       "    .dataframe tbody tr th {\n",
       "        vertical-align: top;\n",
       "    }\n",
       "\n",
       "    .dataframe thead th {\n",
       "        text-align: right;\n",
       "    }\n",
       "</style>\n",
       "<table border=\"1\" class=\"dataframe\">\n",
       "  <thead>\n",
       "    <tr style=\"text-align: right;\">\n",
       "      <th></th>\n",
       "      <th>CodC</th>\n",
       "      <th>Envase</th>\n",
       "      <th>Capacidad</th>\n",
       "      <th>Stock</th>\n",
       "    </tr>\n",
       "  </thead>\n",
       "  <tbody>\n",
       "    <tr>\n",
       "      <th>0</th>\n",
       "      <td>01</td>\n",
       "      <td>Botella</td>\n",
       "      <td>0.20</td>\n",
       "      <td>3600</td>\n",
       "    </tr>\n",
       "    <tr>\n",
       "      <th>1</th>\n",
       "      <td>02</td>\n",
       "      <td>Botella</td>\n",
       "      <td>0.25</td>\n",
       "      <td>5000</td>\n",
       "    </tr>\n",
       "    <tr>\n",
       "      <th>2</th>\n",
       "      <td>03</td>\n",
       "      <td>Lata</td>\n",
       "      <td>0.33</td>\n",
       "      <td>2400</td>\n",
       "    </tr>\n",
       "    <tr>\n",
       "      <th>3</th>\n",
       "      <td>04</td>\n",
       "      <td>Botella</td>\n",
       "      <td>1.00</td>\n",
       "      <td>288</td>\n",
       "    </tr>\n",
       "  </tbody>\n",
       "</table>\n",
       "</div>"
      ],
      "text/plain": [
       "  CodC   Envase  Capacidad  Stock\n",
       "0   01  Botella       0.20   3600\n",
       "1   02  Botella       0.25   5000\n",
       "2   03     Lata       0.33   2400\n",
       "3   04  Botella       1.00    288"
      ]
     },
     "execution_count": 22,
     "metadata": {},
     "output_type": "execute_result"
    }
   ],
   "source": [
    "query = '''\n",
    "SELECT * FROM cervezas\n",
    "'''\n",
    "df = sql_query(query)\n",
    "df"
   ]
  },
  {
   "cell_type": "code",
   "execution_count": 50,
   "metadata": {},
   "outputs": [],
   "source": [
    "#df.to_sql(\"cervezas_v2\", connection, index=False)"
   ]
  },
  {
   "cell_type": "code",
   "execution_count": 51,
   "metadata": {},
   "outputs": [],
   "source": [
    "#query = '''\n",
    "#SELECT * FROM cervezas_v2\n",
    "#'''\n",
    "#df = sql_query(query)\n",
    "#df"
   ]
  },
  {
   "cell_type": "markdown",
   "metadata": {},
   "source": [
    "## SUBQUERIES"
   ]
  },
  {
   "cell_type": "code",
   "execution_count": 29,
   "metadata": {},
   "outputs": [
    {
     "data": {
      "application/vnd.microsoft.datawrangler.viewer.v0+json": {
       "columns": [
        {
         "name": "index",
         "rawType": "int64",
         "type": "integer"
        },
        {
         "name": "CodC",
         "rawType": "object",
         "type": "string"
        },
        {
         "name": "Envase",
         "rawType": "object",
         "type": "string"
        },
        {
         "name": "Capacidad",
         "rawType": "float64",
         "type": "float"
        },
        {
         "name": "Stock",
         "rawType": "int64",
         "type": "integer"
        }
       ],
       "conversionMethod": "pd.DataFrame",
       "ref": "db91b23a-c036-43a3-ba5a-f1cb0bce0258",
       "rows": [
        [
         "0",
         "01",
         "Botella",
         "0.2",
         "3600"
        ],
        [
         "1",
         "02",
         "Botella",
         "0.25",
         "5000"
        ],
        [
         "2",
         "04",
         "Botella",
         "1.0",
         "288"
        ]
       ],
       "shape": {
        "columns": 4,
        "rows": 3
       }
      },
      "text/html": [
       "<div>\n",
       "<style scoped>\n",
       "    .dataframe tbody tr th:only-of-type {\n",
       "        vertical-align: middle;\n",
       "    }\n",
       "\n",
       "    .dataframe tbody tr th {\n",
       "        vertical-align: top;\n",
       "    }\n",
       "\n",
       "    .dataframe thead th {\n",
       "        text-align: right;\n",
       "    }\n",
       "</style>\n",
       "<table border=\"1\" class=\"dataframe\">\n",
       "  <thead>\n",
       "    <tr style=\"text-align: right;\">\n",
       "      <th></th>\n",
       "      <th>CodC</th>\n",
       "      <th>Envase</th>\n",
       "      <th>Capacidad</th>\n",
       "      <th>Stock</th>\n",
       "    </tr>\n",
       "  </thead>\n",
       "  <tbody>\n",
       "    <tr>\n",
       "      <th>0</th>\n",
       "      <td>01</td>\n",
       "      <td>Botella</td>\n",
       "      <td>0.20</td>\n",
       "      <td>3600</td>\n",
       "    </tr>\n",
       "    <tr>\n",
       "      <th>1</th>\n",
       "      <td>02</td>\n",
       "      <td>Botella</td>\n",
       "      <td>0.25</td>\n",
       "      <td>5000</td>\n",
       "    </tr>\n",
       "    <tr>\n",
       "      <th>2</th>\n",
       "      <td>04</td>\n",
       "      <td>Botella</td>\n",
       "      <td>1.00</td>\n",
       "      <td>288</td>\n",
       "    </tr>\n",
       "  </tbody>\n",
       "</table>\n",
       "</div>"
      ],
      "text/plain": [
       "  CodC   Envase  Capacidad  Stock\n",
       "0   01  Botella       0.20   3600\n",
       "1   02  Botella       0.25   5000\n",
       "2   04  Botella       1.00    288"
      ]
     },
     "execution_count": 29,
     "metadata": {},
     "output_type": "execute_result"
    }
   ],
   "source": [
    "query = '''\n",
    "SELECT * FROM (SELECT * FROM Cervezas WHERE Envase=\"Botella\")\n",
    "'''\n",
    "sql_query(query)"
   ]
  },
  {
   "cell_type": "code",
   "execution_count": 30,
   "metadata": {},
   "outputs": [],
   "source": [
    "# ATENCIÓN! Al terminar hay que cerrar la conexión a la DB para que se guarden los cambios!!!!!!\n",
    "connection.commit()\n",
    "connection.close()"
   ]
  },
  {
   "cell_type": "markdown",
   "metadata": {},
   "source": [
    "# Resolución ejercicio"
   ]
  },
  {
   "cell_type": "code",
   "execution_count": 5,
   "metadata": {},
   "outputs": [],
   "source": [
    "# Conectamos con la base de datos\n",
    "connection = sqlite3.connect(\"data/my_database_2503_v3.db\")\n",
    "\n",
    "# Obtenemos un cursor que utilizaremos para hacer las queries\n",
    "crsr = connection.cursor()"
   ]
  },
  {
   "cell_type": "code",
   "execution_count": 54,
   "metadata": {},
   "outputs": [],
   "source": [
    "#query = '''\n",
    "#DROP TABLE cervezas_v2\n",
    "#'''\n",
    "#\n",
    "#crsr.execute(query)"
   ]
  },
  {
   "cell_type": "code",
   "execution_count": 7,
   "metadata": {},
   "outputs": [
    {
     "ename": "OperationalError",
     "evalue": "table cervezas already exists",
     "output_type": "error",
     "traceback": [
      "\u001b[31m---------------------------------------------------------------------------\u001b[39m",
      "\u001b[31mOperationalError\u001b[39m                          Traceback (most recent call last)",
      "\u001b[36mCell\u001b[39m\u001b[36m \u001b[39m\u001b[32mIn[7]\u001b[39m\u001b[32m, line 11\u001b[39m\n\u001b[32m      1\u001b[39m query = \u001b[33m'''\u001b[39m\n\u001b[32m      2\u001b[39m \u001b[33mCREATE TABLE cervezas (\u001b[39m\n\u001b[32m      3\u001b[39m \u001b[33m    CodC VARCHAR NOT NULL,\u001b[39m\n\u001b[32m   (...)\u001b[39m\u001b[32m      8\u001b[39m \u001b[33m)\u001b[39m\n\u001b[32m      9\u001b[39m \u001b[33m'''\u001b[39m\n\u001b[32m---> \u001b[39m\u001b[32m11\u001b[39m \u001b[43mcrsr\u001b[49m\u001b[43m.\u001b[49m\u001b[43mexecute\u001b[49m\u001b[43m(\u001b[49m\u001b[43mquery\u001b[49m\u001b[43m)\u001b[49m\n",
      "\u001b[31mOperationalError\u001b[39m: table cervezas already exists"
     ]
    }
   ],
   "source": [
    "query = '''\n",
    "CREATE TABLE cervezas (\n",
    "    CodC VARCHAR NOT NULL,\n",
    "    Envase VARCHAR,\n",
    "    Capacidad FLOAT,\n",
    "    Stock INT,\n",
    "    PRIMARY KEY (CodC)\n",
    ")\n",
    "'''\n",
    "\n",
    "crsr.execute(query)"
   ]
  },
  {
   "cell_type": "code",
   "execution_count": 8,
   "metadata": {},
   "outputs": [],
   "source": [
    "#query = '''\n",
    "#CREATE TABLE cervezas2 (\n",
    "#    CodC VARCHAR(2),\n",
    "#    Envase VARCHAR(32),\n",
    "#    Capacidad FLOAT,\n",
    "#    Stock INT,\n",
    "#    PRIMARY KEY (CodC)\n",
    "#)\n",
    "#'''\n",
    "\n",
    "#crsr.execute(query)"
   ]
  },
  {
   "cell_type": "code",
   "execution_count": 9,
   "metadata": {},
   "outputs": [
    {
     "data": {
      "text/plain": [
       "<sqlite3.Cursor at 0x1f6ff23edc0>"
      ]
     },
     "execution_count": 9,
     "metadata": {},
     "output_type": "execute_result"
    }
   ],
   "source": [
    "query = '''\n",
    "INSERT INTO cervezas VALUES ('01','Botella',0.2,3600),\n",
    "('02','Botella',0.33,1200),\n",
    "('03','Lata',0.33,2400),\n",
    "('04','Botella',1,288),\n",
    "('05','Barril',60,30)\n",
    "'''\n",
    "crsr.execute(query)"
   ]
  },
  {
   "cell_type": "code",
   "execution_count": 10,
   "metadata": {},
   "outputs": [
    {
     "data": {
      "text/plain": [
       "<sqlite3.Cursor at 0x1f6ff23edc0>"
      ]
     },
     "execution_count": 10,
     "metadata": {},
     "output_type": "execute_result"
    }
   ],
   "source": [
    "query = '''\n",
    "CREATE TABLE bares (\n",
    "\tCodB VARCHAR(3) NOT NULL,\n",
    "    Nombre VARCHAR,\n",
    "    Cif VARCHAR,\n",
    "\tLocalidad VARCHAR,\n",
    "\tPRIMARY KEY (CodB)\n",
    ");\n",
    "'''\n",
    "crsr.execute(query)"
   ]
  },
  {
   "cell_type": "code",
   "execution_count": 11,
   "metadata": {},
   "outputs": [
    {
     "data": {
      "text/plain": [
       "<sqlite3.Cursor at 0x1f6ff23edc0>"
      ]
     },
     "execution_count": 11,
     "metadata": {},
     "output_type": "execute_result"
    }
   ],
   "source": [
    "query = '''\n",
    "INSERT INTO bares (CodB, Nombre, Cif, Localidad) \n",
    "VALUES  ('001','Stop','11111111X','Villa Botijo'),\n",
    "('002','Las Vegas','22222222Y','Villa Botijo'),\n",
    "('003','Club Social',NULL,'Las Ranas'),\n",
    "('004','Otra Ronda','33333333X','La Esponja')\n",
    ";\n",
    "'''\n",
    "crsr.execute(query)"
   ]
  },
  {
   "cell_type": "code",
   "execution_count": 12,
   "metadata": {},
   "outputs": [
    {
     "data": {
      "text/plain": [
       "<sqlite3.Cursor at 0x1f6ff23edc0>"
      ]
     },
     "execution_count": 12,
     "metadata": {},
     "output_type": "execute_result"
    }
   ],
   "source": [
    "query = '''\n",
    "CREATE TABLE empleados (\n",
    "\tCodE INT NOT NULL,\n",
    "    Nombre VARCHAR,\n",
    "    Sueldo INT,\n",
    "\tPRIMARY KEY (CodE)\n",
    ");\n",
    "'''\n",
    "crsr.execute(query)"
   ]
  },
  {
   "cell_type": "code",
   "execution_count": 13,
   "metadata": {},
   "outputs": [
    {
     "data": {
      "text/plain": [
       "<sqlite3.Cursor at 0x1f6ff23edc0>"
      ]
     },
     "execution_count": 13,
     "metadata": {},
     "output_type": "execute_result"
    }
   ],
   "source": [
    "query = '''\n",
    "INSERT INTO empleados (CodE, Nombre, Sueldo) \n",
    "VALUES  (1,'Prudencio Caminero', 120000),\n",
    "(2,'Vicente Merario', 110000),\n",
    "(3,'Valentin Siempre', 100000)\n",
    ";\n",
    "'''\n",
    "crsr.execute(query)"
   ]
  },
  {
   "cell_type": "code",
   "execution_count": 14,
   "metadata": {},
   "outputs": [
    {
     "data": {
      "text/plain": [
       "<sqlite3.Cursor at 0x1f6ff23edc0>"
      ]
     },
     "execution_count": 14,
     "metadata": {},
     "output_type": "execute_result"
    }
   ],
   "source": [
    "query = '''\n",
    "CREATE TABLE reparto (\n",
    "\tCodE VARCHAR NOT NULL,\n",
    "\tCodB VARCHAR NOT NULL,\n",
    "\tCodC INT VARCHAR NOT NULL,\n",
    "\tFecha DATE NOT NULL,\n",
    "\tCantidad SMALLINT,\n",
    "\tPRIMARY KEY (CodE,CodB,CodC)\n",
    "\tFOREIGN KEY (CodC) REFERENCES cervezas(CodC)\n",
    "\tFOREIGN KEY (CodB) REFERENCES bares(CodB)\n",
    "\tFOREIGN KEY (CodE) REFERENCES empleados(CodE)\n",
    ");\n",
    "'''\n",
    "crsr.execute(query)"
   ]
  },
  {
   "cell_type": "code",
   "execution_count": 15,
   "metadata": {},
   "outputs": [
    {
     "data": {
      "text/plain": [
       "<sqlite3.Cursor at 0x1f6ff23edc0>"
      ]
     },
     "execution_count": 15,
     "metadata": {},
     "output_type": "execute_result"
    }
   ],
   "source": [
    "query = '''\n",
    "INSERT INTO reparto (CodE, CodB, CodC, Fecha, Cantidad) \n",
    "VALUES  ('1','001','01','2005-10-21',240 ),\n",
    "( '1','001','02','2005-10-21',48 ),\n",
    "( '1','002','03','2005-10-22',60 ),\n",
    "( '1','004','05','2005-10-22',4 ),\n",
    "( '2','002','03','2005-10-22',48 ),\n",
    "( '2','002','05','2005-10-23',2 ),\n",
    "( '2','004','01','2005-10-23',480 ),\n",
    "( '2','004','02','2005-10-24',72 ),\n",
    "( '3','003','03','2005-10-24',48 ),\n",
    "( '3','003','04','2005-10-25',20 )\n",
    ";\n",
    "'''\n",
    "crsr.execute(query)"
   ]
  },
  {
   "cell_type": "code",
   "execution_count": 22,
   "metadata": {},
   "outputs": [
    {
     "ename": "ProgrammingError",
     "evalue": "Cannot operate on a closed database.",
     "output_type": "error",
     "traceback": [
      "\u001b[31m---------------------------------------------------------------------------\u001b[39m",
      "\u001b[31mProgrammingError\u001b[39m                          Traceback (most recent call last)",
      "\u001b[36mCell\u001b[39m\u001b[36m \u001b[39m\u001b[32mIn[22]\u001b[39m\u001b[32m, line 5\u001b[39m\n\u001b[32m      1\u001b[39m query = \u001b[33m'''\u001b[39m\n\u001b[32m      2\u001b[39m \u001b[33mSELECT * FROM reparto\u001b[39m\n\u001b[32m      3\u001b[39m \u001b[33m;\u001b[39m\n\u001b[32m      4\u001b[39m \u001b[33m'''\u001b[39m\n\u001b[32m----> \u001b[39m\u001b[32m5\u001b[39m df = \u001b[43msql_query\u001b[49m\u001b[43m(\u001b[49m\u001b[43mquery\u001b[49m\u001b[43m)\u001b[49m\n\u001b[32m      6\u001b[39m df\n",
      "\u001b[36mCell\u001b[39m\u001b[36m \u001b[39m\u001b[32mIn[21]\u001b[39m\u001b[32m, line 5\u001b[39m, in \u001b[36msql_query\u001b[39m\u001b[34m(query)\u001b[39m\n\u001b[32m      2\u001b[39m \u001b[38;5;28;01mdef\u001b[39;00m\u001b[38;5;250m \u001b[39m\u001b[34msql_query\u001b[39m(query):\n\u001b[32m      3\u001b[39m \n\u001b[32m      4\u001b[39m     \u001b[38;5;66;03m# Ejecuta la query\u001b[39;00m\n\u001b[32m----> \u001b[39m\u001b[32m5\u001b[39m     \u001b[43mcrsr\u001b[49m\u001b[43m.\u001b[49m\u001b[43mexecute\u001b[49m\u001b[43m(\u001b[49m\u001b[43mquery\u001b[49m\u001b[43m)\u001b[49m\n\u001b[32m      7\u001b[39m     \u001b[38;5;66;03m# Almacena los datos de la query \u001b[39;00m\n\u001b[32m      8\u001b[39m     ans = crsr.fetchall()\n",
      "\u001b[31mProgrammingError\u001b[39m: Cannot operate on a closed database."
     ]
    }
   ],
   "source": [
    "query = '''\n",
    "SELECT * FROM reparto\n",
    ";\n",
    "'''\n",
    "df = sql_query(query)\n",
    "df"
   ]
  },
  {
   "cell_type": "code",
   "execution_count": 65,
   "metadata": {},
   "outputs": [],
   "source": [
    "#df.to_sql('repartos_bis', con=connection, if_exists=\"replace\", index=False)"
   ]
  },
  {
   "cell_type": "code",
   "execution_count": 66,
   "metadata": {},
   "outputs": [],
   "source": [
    "#query = '''\n",
    "#SELECT * FROM repartos_bis\n",
    "#;\n",
    "#'''\n",
    "#df = sql_query(query)\n",
    "#df"
   ]
  },
  {
   "cell_type": "code",
   "execution_count": null,
   "metadata": {},
   "outputs": [],
   "source": []
  },
  {
   "cell_type": "code",
   "execution_count": 67,
   "metadata": {},
   "outputs": [],
   "source": [
    "# query = '''\n",
    "# DROP TABLE cervezas \n",
    "# '''\n",
    "# crsr.execute(query)\n",
    "\n",
    "# query = '''\n",
    "# DROP TABLE bares \n",
    "# '''\n",
    "# crsr.execute(query)\n",
    "\n",
    "# query = '''\n",
    "# DROP TABLE empleados \n",
    "# '''\n",
    "# crsr.execute(query)\n",
    "\n",
    "# query = '''\n",
    "# DROP TABLE reparto \n",
    "# '''\n",
    "# crsr.execute(query)"
   ]
  },
  {
   "cell_type": "code",
   "execution_count": 17,
   "metadata": {},
   "outputs": [],
   "source": [
    "connection.commit()\n",
    "connection.close()"
   ]
  }
 ],
 "metadata": {
  "kernelspec": {
   "display_name": "Python 3",
   "language": "python",
   "name": "python3"
  },
  "language_info": {
   "codemirror_mode": {
    "name": "ipython",
    "version": 3
   },
   "file_extension": ".py",
   "mimetype": "text/x-python",
   "name": "python",
   "nbconvert_exporter": "python",
   "pygments_lexer": "ipython3",
   "version": "3.11.9"
  },
  "orig_nbformat": 4
 },
 "nbformat": 4,
 "nbformat_minor": 2
}
